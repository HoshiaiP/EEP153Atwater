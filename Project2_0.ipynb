{
 "cells": [
  {
   "cell_type": "markdown",
   "id": "151da743",
   "metadata": {},
   "source": [
    "# EEP 153 Project 2 Subsistence Cost Diet: Atwater"
   ]
  },
  {
   "cell_type": "code",
   "execution_count": 1,
   "id": "d6b4882b",
   "metadata": {},
   "outputs": [],
   "source": [
    "# API key for Gov;\n",
    "apikey = \"bwFohFv0W79JagEjhjfy121CHf29UEljz0OYel1N\""
   ]
  },
  {
   "cell_type": "markdown",
   "id": "fb74970f",
   "metadata": {},
   "source": [
    "## Dietary Reference Intakes"
   ]
  },
  {
   "cell_type": "code",
   "execution_count": 2,
   "id": "df823317",
   "metadata": {},
   "outputs": [
    {
     "name": "stderr",
     "output_type": "stream",
     "text": [
      "/opt/conda/lib/python3.9/site-packages/pandas/core/indexing.py:1965: SettingWithCopyWarning: \n",
      "A value is trying to be set on a copy of a slice from a DataFrame\n",
      "\n",
      "See the caveats in the documentation: https://pandas.pydata.org/pandas-docs/stable/user_guide/indexing.html#returning-a-view-versus-a-copy\n",
      "  self.obj._check_is_chained_assignment_possible()\n",
      "/opt/conda/lib/python3.9/site-packages/pandas/core/indexing.py:1732: SettingWithCopyWarning: \n",
      "A value is trying to be set on a copy of a slice from a DataFrame\n",
      "\n",
      "See the caveats in the documentation: https://pandas.pydata.org/pandas-docs/stable/user_guide/indexing.html#returning-a-view-versus-a-copy\n",
      "  self._setitem_single_block(indexer, value, name)\n"
     ]
    }
   ],
   "source": [
    "# read in dietary requirements (max and min)\n",
    "import pandas as pd\n",
    "dri_max = pd.read_csv(\"Dietary Requirements Max.csv\").set_index('Nutrition')\n",
    "\n",
    "dri_min = pd.read_csv(\"Dietary Requirements Min.csv\").set_index('Nutrition')\n",
    "\n",
    "# convert kcal to kJ\n",
    "temp = dri_max.loc['Energy']\n",
    "temp.iloc[1:] = temp.iloc[1:] * 4.184\n",
    "dri_max.loc['Energy'] = temp\n",
    "\n",
    "temp = dri_min.loc['Energy']\n",
    "temp.iloc[1:] = temp.iloc[1:] * 4.184\n",
    "dri_min.loc['Energy'] = temp"
   ]
  },
  {
   "cell_type": "code",
   "execution_count": 3,
   "id": "aa43c0fb",
   "metadata": {},
   "outputs": [],
   "source": [
    "import re\n",
    "# function for age-sex specific DRI\n",
    "def dri(age,sex,dietmin,dietmax):\n",
    "    if age <= 3:\n",
    "        index = 2\n",
    "\n",
    "    else:\n",
    "        for i, j in enumerate(list(dietmax)[3:]):\n",
    "            if j[0] == sex:\n",
    "                interval = re.findall(r'\\d+', j)\n",
    "                if len(interval) == 1:\n",
    "                    if age >= int(interval[0]):\n",
    "                        index = i + 3\n",
    "                        break\n",
    "                else:\n",
    "                    if age >= int(interval[0]) and age <= int(interval[1]):\n",
    "                        index = i + 3\n",
    "                        break\n",
    "\n",
    "    df = pd.DataFrame({'Nutrition': dietmin.iloc[:, 0],\n",
    "                       'Max/Min': 'Minimum',\n",
    "                       'Age & Sex': list(dietmin)[index],\n",
    "                      'Intake': dietmin.iloc[:, index]})   \n",
    "    df_max = pd.DataFrame({'Nutrition': dietmax.iloc[:, 0],\n",
    "                       'Max/Min': 'Maximum',\n",
    "                       'Age & Sex': list(dietmax)[index],\n",
    "                      'Intake': dietmax.iloc[:, index]})   \n",
    "\n",
    "    df = pd.concat([df, df_max], axis=0)\n",
    "    \n",
    "    return df\n",
    "    "
   ]
  },
  {
   "cell_type": "code",
   "execution_count": 4,
   "id": "f133347b",
   "metadata": {},
   "outputs": [
    {
     "data": {
      "text/html": [
       "<div>\n",
       "<style scoped>\n",
       "    .dataframe tbody tr th:only-of-type {\n",
       "        vertical-align: middle;\n",
       "    }\n",
       "\n",
       "    .dataframe tbody tr th {\n",
       "        vertical-align: top;\n",
       "    }\n",
       "\n",
       "    .dataframe thead th {\n",
       "        text-align: right;\n",
       "    }\n",
       "</style>\n",
       "<table border=\"1\" class=\"dataframe\">\n",
       "  <thead>\n",
       "    <tr style=\"text-align: right;\">\n",
       "      <th></th>\n",
       "      <th>Nutrition</th>\n",
       "      <th>Max/Min</th>\n",
       "      <th>Age &amp; Sex</th>\n",
       "      <th>Intake</th>\n",
       "    </tr>\n",
       "    <tr>\n",
       "      <th>Nutrition</th>\n",
       "      <th></th>\n",
       "      <th></th>\n",
       "      <th></th>\n",
       "      <th></th>\n",
       "    </tr>\n",
       "  </thead>\n",
       "  <tbody>\n",
       "    <tr>\n",
       "      <th>Energy</th>\n",
       "      <td>---</td>\n",
       "      <td>Minimum</td>\n",
       "      <td>F 9-13</td>\n",
       "      <td>6694.4</td>\n",
       "    </tr>\n",
       "    <tr>\n",
       "      <th>Protein</th>\n",
       "      <td>RDA</td>\n",
       "      <td>Minimum</td>\n",
       "      <td>F 9-13</td>\n",
       "      <td>34.0</td>\n",
       "    </tr>\n",
       "    <tr>\n",
       "      <th>Fiber, total dietary</th>\n",
       "      <td>---</td>\n",
       "      <td>Minimum</td>\n",
       "      <td>F 9-13</td>\n",
       "      <td>22.4</td>\n",
       "    </tr>\n",
       "    <tr>\n",
       "      <th>Folate, DFE</th>\n",
       "      <td>RDA</td>\n",
       "      <td>Minimum</td>\n",
       "      <td>F 9-13</td>\n",
       "      <td>300.0</td>\n",
       "    </tr>\n",
       "    <tr>\n",
       "      <th>Calcium, Ca</th>\n",
       "      <td>RDA</td>\n",
       "      <td>Minimum</td>\n",
       "      <td>F 9-13</td>\n",
       "      <td>1300.0</td>\n",
       "    </tr>\n",
       "    <tr>\n",
       "      <th>Carbohydrate, by difference</th>\n",
       "      <td>RDA</td>\n",
       "      <td>Minimum</td>\n",
       "      <td>F 9-13</td>\n",
       "      <td>130.0</td>\n",
       "    </tr>\n",
       "    <tr>\n",
       "      <th>Iron, Fe</th>\n",
       "      <td>RDA</td>\n",
       "      <td>Minimum</td>\n",
       "      <td>F 9-13</td>\n",
       "      <td>8.0</td>\n",
       "    </tr>\n",
       "    <tr>\n",
       "      <th>Magnesium, Mg</th>\n",
       "      <td>RDA</td>\n",
       "      <td>Minimum</td>\n",
       "      <td>F 9-13</td>\n",
       "      <td>240.0</td>\n",
       "    </tr>\n",
       "    <tr>\n",
       "      <th>Niacin</th>\n",
       "      <td>RDA</td>\n",
       "      <td>Minimum</td>\n",
       "      <td>F 9-13</td>\n",
       "      <td>12.0</td>\n",
       "    </tr>\n",
       "    <tr>\n",
       "      <th>Phosphorus, P</th>\n",
       "      <td>RDA</td>\n",
       "      <td>Minimum</td>\n",
       "      <td>F 9-13</td>\n",
       "      <td>1250.0</td>\n",
       "    </tr>\n",
       "    <tr>\n",
       "      <th>Potassium, K</th>\n",
       "      <td>AI</td>\n",
       "      <td>Minimum</td>\n",
       "      <td>F 9-13</td>\n",
       "      <td>4500.0</td>\n",
       "    </tr>\n",
       "    <tr>\n",
       "      <th>Riboflavin</th>\n",
       "      <td>RDA</td>\n",
       "      <td>Minimum</td>\n",
       "      <td>F 9-13</td>\n",
       "      <td>0.9</td>\n",
       "    </tr>\n",
       "    <tr>\n",
       "      <th>Thiamin</th>\n",
       "      <td>RDA</td>\n",
       "      <td>Minimum</td>\n",
       "      <td>F 9-13</td>\n",
       "      <td>0.9</td>\n",
       "    </tr>\n",
       "    <tr>\n",
       "      <th>Vitamin A, RAE</th>\n",
       "      <td>RDA</td>\n",
       "      <td>Minimum</td>\n",
       "      <td>F 9-13</td>\n",
       "      <td>600.0</td>\n",
       "    </tr>\n",
       "    <tr>\n",
       "      <th>Vitamin B-12</th>\n",
       "      <td>RDA</td>\n",
       "      <td>Minimum</td>\n",
       "      <td>F 9-13</td>\n",
       "      <td>1.8</td>\n",
       "    </tr>\n",
       "    <tr>\n",
       "      <th>Vitamin B-6</th>\n",
       "      <td>RDA</td>\n",
       "      <td>Minimum</td>\n",
       "      <td>F 9-13</td>\n",
       "      <td>1.0</td>\n",
       "    </tr>\n",
       "    <tr>\n",
       "      <th>Vitamin C, total ascorbic acid</th>\n",
       "      <td>RDA</td>\n",
       "      <td>Minimum</td>\n",
       "      <td>F 9-13</td>\n",
       "      <td>45.0</td>\n",
       "    </tr>\n",
       "    <tr>\n",
       "      <th>Vitamin E (alpha-tocopherol)</th>\n",
       "      <td>RDA</td>\n",
       "      <td>Minimum</td>\n",
       "      <td>F 9-13</td>\n",
       "      <td>11.0</td>\n",
       "    </tr>\n",
       "    <tr>\n",
       "      <th>Vitamin K (phylloquinone)</th>\n",
       "      <td>AI</td>\n",
       "      <td>Minimum</td>\n",
       "      <td>F 9-13</td>\n",
       "      <td>60.0</td>\n",
       "    </tr>\n",
       "    <tr>\n",
       "      <th>Zinc, Zn</th>\n",
       "      <td>RDA</td>\n",
       "      <td>Minimum</td>\n",
       "      <td>F 9-13</td>\n",
       "      <td>8.0</td>\n",
       "    </tr>\n",
       "    <tr>\n",
       "      <th>Sodium, Na</th>\n",
       "      <td>UL</td>\n",
       "      <td>Maximum</td>\n",
       "      <td>F 9-13</td>\n",
       "      <td>2200.0</td>\n",
       "    </tr>\n",
       "    <tr>\n",
       "      <th>Energy</th>\n",
       "      <td>NaN</td>\n",
       "      <td>Maximum</td>\n",
       "      <td>F 9-13</td>\n",
       "      <td>11715.2</td>\n",
       "    </tr>\n",
       "  </tbody>\n",
       "</table>\n",
       "</div>"
      ],
      "text/plain": [
       "                               Nutrition  Max/Min Age & Sex   Intake\n",
       "Nutrition                                                           \n",
       "Energy                               ---  Minimum    F 9-13   6694.4\n",
       "Protein                              RDA  Minimum    F 9-13     34.0\n",
       "Fiber, total dietary                 ---  Minimum    F 9-13     22.4\n",
       "Folate, DFE                          RDA  Minimum    F 9-13    300.0\n",
       "Calcium, Ca                          RDA  Minimum    F 9-13   1300.0\n",
       "Carbohydrate, by difference          RDA  Minimum    F 9-13    130.0\n",
       "Iron, Fe                             RDA  Minimum    F 9-13      8.0\n",
       "Magnesium, Mg                        RDA  Minimum    F 9-13    240.0\n",
       "Niacin                               RDA  Minimum    F 9-13     12.0\n",
       "Phosphorus, P                        RDA  Minimum    F 9-13   1250.0\n",
       "Potassium, K                          AI  Minimum    F 9-13   4500.0\n",
       "Riboflavin                           RDA  Minimum    F 9-13      0.9\n",
       "Thiamin                              RDA  Minimum    F 9-13      0.9\n",
       "Vitamin A, RAE                       RDA  Minimum    F 9-13    600.0\n",
       "Vitamin B-12                         RDA  Minimum    F 9-13      1.8\n",
       "Vitamin B-6                          RDA  Minimum    F 9-13      1.0\n",
       "Vitamin C, total ascorbic acid       RDA  Minimum    F 9-13     45.0\n",
       "Vitamin E (alpha-tocopherol)         RDA  Minimum    F 9-13     11.0\n",
       "Vitamin K (phylloquinone)             AI  Minimum    F 9-13     60.0\n",
       "Zinc, Zn                             RDA  Minimum    F 9-13      8.0\n",
       "Sodium, Na                            UL  Maximum    F 9-13   2200.0\n",
       "Energy                               NaN  Maximum    F 9-13  11715.2"
      ]
     },
     "execution_count": 4,
     "metadata": {},
     "output_type": "execute_result"
    }
   ],
   "source": [
    "# Dietary reference intakes for 10 years old female\n",
    "dri(10, 'F', dri_min, dri_max)"
   ]
  },
  {
   "cell_type": "markdown",
   "id": "8bb305e4",
   "metadata": {},
   "source": [
    "## Data on prices for different foods"
   ]
  },
  {
   "cell_type": "code",
   "execution_count": 5,
   "id": "f418a847",
   "metadata": {},
   "outputs": [
    {
     "data": {
      "text/html": [
       "<div>\n",
       "<style scoped>\n",
       "    .dataframe tbody tr th:only-of-type {\n",
       "        vertical-align: middle;\n",
       "    }\n",
       "\n",
       "    .dataframe tbody tr th {\n",
       "        vertical-align: top;\n",
       "    }\n",
       "\n",
       "    .dataframe thead th {\n",
       "        text-align: right;\n",
       "    }\n",
       "</style>\n",
       "<table border=\"1\" class=\"dataframe\">\n",
       "  <thead>\n",
       "    <tr style=\"text-align: right;\">\n",
       "      <th></th>\n",
       "      <th>Restaurant</th>\n",
       "      <th>Dish</th>\n",
       "      <th>Ingredients</th>\n",
       "      <th>Dish_Price</th>\n",
       "      <th>Quantity</th>\n",
       "      <th>Unit</th>\n",
       "      <th>FDC</th>\n",
       "      <th>Calorie/100g</th>\n",
       "      <th>Ingredient_Price/100 gm</th>\n",
       "    </tr>\n",
       "  </thead>\n",
       "  <tbody>\n",
       "    <tr>\n",
       "      <th>0</th>\n",
       "      <td>Chipotle</td>\n",
       "      <td>Chicken burrito</td>\n",
       "      <td>chicken</td>\n",
       "      <td>8.85</td>\n",
       "      <td>132.0000</td>\n",
       "      <td>gram</td>\n",
       "      <td>331960</td>\n",
       "      <td>237.0</td>\n",
       "      <td>1.320</td>\n",
       "    </tr>\n",
       "    <tr>\n",
       "      <th>1</th>\n",
       "      <td>Chipotle</td>\n",
       "      <td>Chicken burrito</td>\n",
       "      <td>white rice</td>\n",
       "      <td>8.85</td>\n",
       "      <td>120.0000</td>\n",
       "      <td>gram</td>\n",
       "      <td>790214</td>\n",
       "      <td>359.0</td>\n",
       "      <td>0.274</td>\n",
       "    </tr>\n",
       "    <tr>\n",
       "      <th>2</th>\n",
       "      <td>Chipotle</td>\n",
       "      <td>Chicken burrito</td>\n",
       "      <td>black beans</td>\n",
       "      <td>8.85</td>\n",
       "      <td>60.0000</td>\n",
       "      <td>gram</td>\n",
       "      <td>747444</td>\n",
       "      <td>180.0</td>\n",
       "      <td>0.440</td>\n",
       "    </tr>\n",
       "    <tr>\n",
       "      <th>3</th>\n",
       "      <td>Chipotle</td>\n",
       "      <td>Chicken burrito</td>\n",
       "      <td>lettuce</td>\n",
       "      <td>8.85</td>\n",
       "      <td>60.0000</td>\n",
       "      <td>gram</td>\n",
       "      <td>2346389</td>\n",
       "      <td>21.0</td>\n",
       "      <td>1.110</td>\n",
       "    </tr>\n",
       "    <tr>\n",
       "      <th>4</th>\n",
       "      <td>Chipotle</td>\n",
       "      <td>Chicken burrito</td>\n",
       "      <td>salsa</td>\n",
       "      <td>8.85</td>\n",
       "      <td>40.0000</td>\n",
       "      <td>gram</td>\n",
       "      <td>746777</td>\n",
       "      <td>34.0</td>\n",
       "      <td>0.590</td>\n",
       "    </tr>\n",
       "    <tr>\n",
       "      <th>...</th>\n",
       "      <td>...</td>\n",
       "      <td>...</td>\n",
       "      <td>...</td>\n",
       "      <td>...</td>\n",
       "      <td>...</td>\n",
       "      <td>...</td>\n",
       "      <td>...</td>\n",
       "      <td>...</td>\n",
       "      <td>...</td>\n",
       "    </tr>\n",
       "    <tr>\n",
       "      <th>315</th>\n",
       "      <td>Poke Bar</td>\n",
       "      <td>Wazzup Poke Bowl</td>\n",
       "      <td>cucumber</td>\n",
       "      <td>15.95</td>\n",
       "      <td>28.3500</td>\n",
       "      <td>gram</td>\n",
       "      <td>168409</td>\n",
       "      <td>15.0</td>\n",
       "      <td>0.880</td>\n",
       "    </tr>\n",
       "    <tr>\n",
       "      <th>316</th>\n",
       "      <td>Poke Bar</td>\n",
       "      <td>Wazzup Poke Bowl</td>\n",
       "      <td>green onion</td>\n",
       "      <td>15.95</td>\n",
       "      <td>7.0875</td>\n",
       "      <td>gram</td>\n",
       "      <td>170006</td>\n",
       "      <td>27.0</td>\n",
       "      <td>0.440</td>\n",
       "    </tr>\n",
       "    <tr>\n",
       "      <th>317</th>\n",
       "      <td>Poke Bar</td>\n",
       "      <td>Wazzup Poke Bowl</td>\n",
       "      <td>ponzu</td>\n",
       "      <td>15.95</td>\n",
       "      <td>35.4375</td>\n",
       "      <td>gram</td>\n",
       "      <td>2451144</td>\n",
       "      <td>33.0</td>\n",
       "      <td>1.900</td>\n",
       "    </tr>\n",
       "    <tr>\n",
       "      <th>318</th>\n",
       "      <td>Poke Bar</td>\n",
       "      <td>Wazzup Poke Bowl</td>\n",
       "      <td>wasabi</td>\n",
       "      <td>15.95</td>\n",
       "      <td>452.1825</td>\n",
       "      <td>gram</td>\n",
       "      <td>171831</td>\n",
       "      <td>292.0</td>\n",
       "      <td>8.780</td>\n",
       "    </tr>\n",
       "    <tr>\n",
       "      <th>319</th>\n",
       "      <td>Poke Bar</td>\n",
       "      <td>Wazzup Poke Bowl</td>\n",
       "      <td>mayo</td>\n",
       "      <td>15.95</td>\n",
       "      <td>35.4375</td>\n",
       "      <td>gram</td>\n",
       "      <td>171002</td>\n",
       "      <td>334.0</td>\n",
       "      <td>0.560</td>\n",
       "    </tr>\n",
       "  </tbody>\n",
       "</table>\n",
       "<p>320 rows × 9 columns</p>\n",
       "</div>"
      ],
      "text/plain": [
       "    Restaurant              Dish  Ingredients  Dish_Price  Quantity  Unit  \\\n",
       "0     Chipotle   Chicken burrito      chicken        8.85  132.0000  gram   \n",
       "1     Chipotle   Chicken burrito   white rice        8.85  120.0000  gram   \n",
       "2     Chipotle   Chicken burrito  black beans        8.85   60.0000  gram   \n",
       "3     Chipotle   Chicken burrito      lettuce        8.85   60.0000  gram   \n",
       "4     Chipotle   Chicken burrito        salsa        8.85   40.0000  gram   \n",
       "..         ...               ...          ...         ...       ...   ...   \n",
       "315   Poke Bar  Wazzup Poke Bowl     cucumber       15.95   28.3500  gram   \n",
       "316   Poke Bar  Wazzup Poke Bowl  green onion       15.95    7.0875  gram   \n",
       "317   Poke Bar  Wazzup Poke Bowl        ponzu       15.95   35.4375  gram   \n",
       "318   Poke Bar  Wazzup Poke Bowl       wasabi       15.95  452.1825  gram   \n",
       "319   Poke Bar  Wazzup Poke Bowl         mayo       15.95   35.4375  gram   \n",
       "\n",
       "         FDC  Calorie/100g  Ingredient_Price/100 gm  \n",
       "0     331960         237.0                    1.320  \n",
       "1     790214         359.0                    0.274  \n",
       "2     747444         180.0                    0.440  \n",
       "3    2346389          21.0                    1.110  \n",
       "4     746777          34.0                    0.590  \n",
       "..       ...           ...                      ...  \n",
       "315   168409          15.0                    0.880  \n",
       "316   170006          27.0                    0.440  \n",
       "317  2451144          33.0                    1.900  \n",
       "318   171831         292.0                    8.780  \n",
       "319   171002         334.0                    0.560  \n",
       "\n",
       "[320 rows x 9 columns]"
      ]
     },
     "execution_count": 5,
     "metadata": {},
     "output_type": "execute_result"
    }
   ],
   "source": [
    "# get food list from five restaurants\n",
    "food_list_total = pd.read_csv(\"FoodList1.csv\")\n",
    "food_list_total = food_list_total.astype({\"FDC\": str})\n",
    "food_list_total"
   ]
  },
  {
   "cell_type": "code",
   "execution_count": 6,
   "id": "24b6d19b",
   "metadata": {},
   "outputs": [],
   "source": [
    "# split food_list by restaurant\n",
    "grouped = food_list_total.groupby(food_list_total.Restaurant)\n",
    "restaurants = ['Thai Basil', 'Ttoust', 'IB', 'Poke Bar']\n",
    "\n",
    "food_list_res = []\n",
    "\n",
    "for r in restaurants: \n",
    "    food_list_res.append(grouped.get_group(r))\n"
   ]
  },
  {
   "cell_type": "code",
   "execution_count": 7,
   "id": "4505c460",
   "metadata": {},
   "outputs": [
    {
     "name": "stderr",
     "output_type": "stream",
     "text": [
      "/tmp/ipykernel_198/162337130.py:22: SettingWithCopyWarning: \n",
      "A value is trying to be set on a copy of a slice from a DataFrame\n",
      "\n",
      "See the caveats in the documentation: https://pandas.pydata.org/pandas-docs/stable/user_guide/indexing.html#returning-a-view-versus-a-copy\n",
      "  temp.Quantity['Energy'] = temp.Quantity['Energy']*4.184\n"
     ]
    }
   ],
   "source": [
    "import fooddatacentral as fdc\n",
    "import warnings\n",
    "from collections import defaultdict\n",
    "\n",
    "# get nutritional information for ingredients\n",
    "ing_res = []\n",
    "for i in range(4):\n",
    "    L = []\n",
    "    D = {}\n",
    "    items = []\n",
    "    count = 0\n",
    "    food_list = food_list_res[i]\n",
    "    for food in food_list.Ingredients.tolist():\n",
    "        try:\n",
    "            FDC = food_list.iloc[count,:].FDC\n",
    "            count+=1\n",
    "            temp = fdc.nutrients(apikey,FDC)\n",
    "            key = temp.Units\n",
    "            # convert units if necessary\n",
    "            if 'Energy' in key.index:\n",
    "                if key['Energy'] != 'kJ':\n",
    "                    temp.Quantity['Energy'] = temp.Quantity['Energy']*4.184\n",
    "\n",
    "            L.append(temp.Quantity)\n",
    "            D[food] = temp.Quantity\n",
    "            items.append(food)\n",
    "        except AttributeError: \n",
    "            warnings.warn(\"Couldn't find FDC Code %s for food %s.\" % (food,FDC))     \n",
    "\n",
    "    FoodNutrients_Ing = pd.DataFrame(L,dtype=float)\n",
    "    FoodNutrients_Ing.index = items\n",
    "    FoodNutrients_Ing = FoodNutrients_Ing.fillna(0)\n",
    "    FoodNutrients_Ing = FoodNutrients_Ing.transpose() \n",
    "\n",
    "    #FoodNutrients_Ing\n",
    "\n",
    "    FoodNutrients_Ing_d = pd.DataFrame(D,dtype=float)\n",
    "    FoodNutrients_Ing_d = FoodNutrients_Ing_d.fillna(0)\n",
    "    ing_res.append(FoodNutrients_Ing_d)"
   ]
  },
  {
   "cell_type": "code",
   "execution_count": 8,
   "id": "ece77585",
   "metadata": {},
   "outputs": [
    {
     "data": {
      "text/html": [
       "<div>\n",
       "<style scoped>\n",
       "    .dataframe tbody tr th:only-of-type {\n",
       "        vertical-align: middle;\n",
       "    }\n",
       "\n",
       "    .dataframe tbody tr th {\n",
       "        vertical-align: top;\n",
       "    }\n",
       "\n",
       "    .dataframe thead th {\n",
       "        text-align: right;\n",
       "    }\n",
       "</style>\n",
       "<table border=\"1\" class=\"dataframe\">\n",
       "  <thead>\n",
       "    <tr style=\"text-align: right;\">\n",
       "      <th></th>\n",
       "      <th>prawns</th>\n",
       "      <th>chicken</th>\n",
       "      <th>egg</th>\n",
       "      <th>Pineapple</th>\n",
       "      <th>white onion</th>\n",
       "      <th>raisins</th>\n",
       "      <th>cashew nuts</th>\n",
       "      <th>peas</th>\n",
       "      <th>carrots</th>\n",
       "      <th>bell pepper</th>\n",
       "      <th>...</th>\n",
       "      <th>bean sprouts</th>\n",
       "      <th>Thai chili</th>\n",
       "      <th>peanuts</th>\n",
       "      <th>tofu</th>\n",
       "      <th>beef</th>\n",
       "      <th>pork</th>\n",
       "      <th>imitation crab</th>\n",
       "      <th>mushrooms</th>\n",
       "      <th>catfish</th>\n",
       "      <th>red curry</th>\n",
       "    </tr>\n",
       "  </thead>\n",
       "  <tbody>\n",
       "    <tr>\n",
       "      <th>Ergosta-5,7-dienol</th>\n",
       "      <td>0.0</td>\n",
       "      <td>0.0</td>\n",
       "      <td>0.000</td>\n",
       "      <td>0.0</td>\n",
       "      <td>0.0</td>\n",
       "      <td>0.0</td>\n",
       "      <td>0.000</td>\n",
       "      <td>0.00</td>\n",
       "      <td>0.0</td>\n",
       "      <td>0.0</td>\n",
       "      <td>...</td>\n",
       "      <td>0.000</td>\n",
       "      <td>0.0</td>\n",
       "      <td>0.000</td>\n",
       "      <td>0.0</td>\n",
       "      <td>0.0</td>\n",
       "      <td>0.00</td>\n",
       "      <td>0.0</td>\n",
       "      <td>3.607</td>\n",
       "      <td>0.00</td>\n",
       "      <td>0.0</td>\n",
       "    </tr>\n",
       "    <tr>\n",
       "      <th>Ergosta-7,22-dienol</th>\n",
       "      <td>0.0</td>\n",
       "      <td>0.0</td>\n",
       "      <td>0.000</td>\n",
       "      <td>0.0</td>\n",
       "      <td>0.0</td>\n",
       "      <td>0.0</td>\n",
       "      <td>0.000</td>\n",
       "      <td>0.00</td>\n",
       "      <td>0.0</td>\n",
       "      <td>0.0</td>\n",
       "      <td>...</td>\n",
       "      <td>0.000</td>\n",
       "      <td>0.0</td>\n",
       "      <td>0.000</td>\n",
       "      <td>0.0</td>\n",
       "      <td>0.0</td>\n",
       "      <td>0.00</td>\n",
       "      <td>0.0</td>\n",
       "      <td>1.507</td>\n",
       "      <td>0.00</td>\n",
       "      <td>0.0</td>\n",
       "    </tr>\n",
       "    <tr>\n",
       "      <th>25-hydroxycholecalciferol</th>\n",
       "      <td>0.0</td>\n",
       "      <td>0.0</td>\n",
       "      <td>0.560</td>\n",
       "      <td>0.0</td>\n",
       "      <td>0.0</td>\n",
       "      <td>0.0</td>\n",
       "      <td>0.000</td>\n",
       "      <td>0.00</td>\n",
       "      <td>0.0</td>\n",
       "      <td>0.0</td>\n",
       "      <td>...</td>\n",
       "      <td>0.000</td>\n",
       "      <td>0.0</td>\n",
       "      <td>0.000</td>\n",
       "      <td>0.0</td>\n",
       "      <td>0.0</td>\n",
       "      <td>0.00</td>\n",
       "      <td>0.0</td>\n",
       "      <td>0.000</td>\n",
       "      <td>0.00</td>\n",
       "      <td>0.0</td>\n",
       "    </tr>\n",
       "    <tr>\n",
       "      <th>Alanine</th>\n",
       "      <td>0.0</td>\n",
       "      <td>0.0</td>\n",
       "      <td>0.667</td>\n",
       "      <td>0.0</td>\n",
       "      <td>0.0</td>\n",
       "      <td>0.0</td>\n",
       "      <td>0.837</td>\n",
       "      <td>0.24</td>\n",
       "      <td>0.0</td>\n",
       "      <td>0.0</td>\n",
       "      <td>...</td>\n",
       "      <td>0.174</td>\n",
       "      <td>0.0</td>\n",
       "      <td>1.001</td>\n",
       "      <td>0.0</td>\n",
       "      <td>0.0</td>\n",
       "      <td>0.53</td>\n",
       "      <td>0.0</td>\n",
       "      <td>0.000</td>\n",
       "      <td>0.86</td>\n",
       "      <td>0.0</td>\n",
       "    </tr>\n",
       "    <tr>\n",
       "      <th>Alcohol, ethyl</th>\n",
       "      <td>0.0</td>\n",
       "      <td>0.0</td>\n",
       "      <td>0.000</td>\n",
       "      <td>0.0</td>\n",
       "      <td>0.0</td>\n",
       "      <td>0.0</td>\n",
       "      <td>0.000</td>\n",
       "      <td>0.00</td>\n",
       "      <td>0.0</td>\n",
       "      <td>0.0</td>\n",
       "      <td>...</td>\n",
       "      <td>0.000</td>\n",
       "      <td>0.0</td>\n",
       "      <td>0.000</td>\n",
       "      <td>0.0</td>\n",
       "      <td>0.0</td>\n",
       "      <td>0.00</td>\n",
       "      <td>0.0</td>\n",
       "      <td>0.000</td>\n",
       "      <td>0.00</td>\n",
       "      <td>0.0</td>\n",
       "    </tr>\n",
       "    <tr>\n",
       "      <th>...</th>\n",
       "      <td>...</td>\n",
       "      <td>...</td>\n",
       "      <td>...</td>\n",
       "      <td>...</td>\n",
       "      <td>...</td>\n",
       "      <td>...</td>\n",
       "      <td>...</td>\n",
       "      <td>...</td>\n",
       "      <td>...</td>\n",
       "      <td>...</td>\n",
       "      <td>...</td>\n",
       "      <td>...</td>\n",
       "      <td>...</td>\n",
       "      <td>...</td>\n",
       "      <td>...</td>\n",
       "      <td>...</td>\n",
       "      <td>...</td>\n",
       "      <td>...</td>\n",
       "      <td>...</td>\n",
       "      <td>...</td>\n",
       "      <td>...</td>\n",
       "    </tr>\n",
       "    <tr>\n",
       "      <th>cis-Lutein/Zeaxanthin</th>\n",
       "      <td>0.0</td>\n",
       "      <td>0.0</td>\n",
       "      <td>57.000</td>\n",
       "      <td>0.0</td>\n",
       "      <td>0.0</td>\n",
       "      <td>0.0</td>\n",
       "      <td>0.000</td>\n",
       "      <td>0.00</td>\n",
       "      <td>0.0</td>\n",
       "      <td>0.0</td>\n",
       "      <td>...</td>\n",
       "      <td>0.000</td>\n",
       "      <td>0.0</td>\n",
       "      <td>0.000</td>\n",
       "      <td>0.0</td>\n",
       "      <td>0.0</td>\n",
       "      <td>0.00</td>\n",
       "      <td>0.0</td>\n",
       "      <td>0.000</td>\n",
       "      <td>0.00</td>\n",
       "      <td>0.0</td>\n",
       "    </tr>\n",
       "    <tr>\n",
       "      <th>cis-Lycopene</th>\n",
       "      <td>0.0</td>\n",
       "      <td>0.0</td>\n",
       "      <td>0.000</td>\n",
       "      <td>0.0</td>\n",
       "      <td>0.0</td>\n",
       "      <td>0.0</td>\n",
       "      <td>0.000</td>\n",
       "      <td>0.00</td>\n",
       "      <td>0.0</td>\n",
       "      <td>0.0</td>\n",
       "      <td>...</td>\n",
       "      <td>0.000</td>\n",
       "      <td>0.0</td>\n",
       "      <td>0.000</td>\n",
       "      <td>0.0</td>\n",
       "      <td>0.0</td>\n",
       "      <td>0.00</td>\n",
       "      <td>0.0</td>\n",
       "      <td>0.000</td>\n",
       "      <td>0.00</td>\n",
       "      <td>0.0</td>\n",
       "    </tr>\n",
       "    <tr>\n",
       "      <th>cis-beta-Carotene</th>\n",
       "      <td>0.0</td>\n",
       "      <td>0.0</td>\n",
       "      <td>0.000</td>\n",
       "      <td>0.0</td>\n",
       "      <td>0.0</td>\n",
       "      <td>0.0</td>\n",
       "      <td>0.000</td>\n",
       "      <td>0.00</td>\n",
       "      <td>0.0</td>\n",
       "      <td>0.0</td>\n",
       "      <td>...</td>\n",
       "      <td>0.000</td>\n",
       "      <td>0.0</td>\n",
       "      <td>0.000</td>\n",
       "      <td>0.0</td>\n",
       "      <td>0.0</td>\n",
       "      <td>0.00</td>\n",
       "      <td>0.0</td>\n",
       "      <td>0.000</td>\n",
       "      <td>0.00</td>\n",
       "      <td>0.0</td>\n",
       "    </tr>\n",
       "    <tr>\n",
       "      <th>trans-Lycopene</th>\n",
       "      <td>0.0</td>\n",
       "      <td>0.0</td>\n",
       "      <td>0.000</td>\n",
       "      <td>0.0</td>\n",
       "      <td>0.0</td>\n",
       "      <td>0.0</td>\n",
       "      <td>0.000</td>\n",
       "      <td>0.00</td>\n",
       "      <td>0.0</td>\n",
       "      <td>0.0</td>\n",
       "      <td>...</td>\n",
       "      <td>0.000</td>\n",
       "      <td>0.0</td>\n",
       "      <td>0.000</td>\n",
       "      <td>0.0</td>\n",
       "      <td>0.0</td>\n",
       "      <td>0.00</td>\n",
       "      <td>0.0</td>\n",
       "      <td>0.000</td>\n",
       "      <td>0.00</td>\n",
       "      <td>0.0</td>\n",
       "    </tr>\n",
       "    <tr>\n",
       "      <th>trans-beta-Carotene</th>\n",
       "      <td>0.0</td>\n",
       "      <td>0.0</td>\n",
       "      <td>0.000</td>\n",
       "      <td>0.0</td>\n",
       "      <td>0.0</td>\n",
       "      <td>0.0</td>\n",
       "      <td>0.000</td>\n",
       "      <td>0.00</td>\n",
       "      <td>0.0</td>\n",
       "      <td>0.0</td>\n",
       "      <td>...</td>\n",
       "      <td>0.000</td>\n",
       "      <td>0.0</td>\n",
       "      <td>0.000</td>\n",
       "      <td>0.0</td>\n",
       "      <td>0.0</td>\n",
       "      <td>0.00</td>\n",
       "      <td>0.0</td>\n",
       "      <td>0.000</td>\n",
       "      <td>0.00</td>\n",
       "      <td>0.0</td>\n",
       "    </tr>\n",
       "  </tbody>\n",
       "</table>\n",
       "<p>206 rows × 25 columns</p>\n",
       "</div>"
      ],
      "text/plain": [
       "                           prawns  chicken     egg  Pineapple  white onion  \\\n",
       " Ergosta-5,7-dienol           0.0      0.0   0.000        0.0          0.0   \n",
       " Ergosta-7,22-dienol          0.0      0.0   0.000        0.0          0.0   \n",
       "25-hydroxycholecalciferol     0.0      0.0   0.560        0.0          0.0   \n",
       "Alanine                       0.0      0.0   0.667        0.0          0.0   \n",
       "Alcohol, ethyl                0.0      0.0   0.000        0.0          0.0   \n",
       "...                           ...      ...     ...        ...          ...   \n",
       "cis-Lutein/Zeaxanthin         0.0      0.0  57.000        0.0          0.0   \n",
       "cis-Lycopene                  0.0      0.0   0.000        0.0          0.0   \n",
       "cis-beta-Carotene             0.0      0.0   0.000        0.0          0.0   \n",
       "trans-Lycopene                0.0      0.0   0.000        0.0          0.0   \n",
       "trans-beta-Carotene           0.0      0.0   0.000        0.0          0.0   \n",
       "\n",
       "                           raisins  cashew nuts  peas  carrots  bell pepper  \\\n",
       " Ergosta-5,7-dienol            0.0        0.000  0.00      0.0          0.0   \n",
       " Ergosta-7,22-dienol           0.0        0.000  0.00      0.0          0.0   \n",
       "25-hydroxycholecalciferol      0.0        0.000  0.00      0.0          0.0   \n",
       "Alanine                        0.0        0.837  0.24      0.0          0.0   \n",
       "Alcohol, ethyl                 0.0        0.000  0.00      0.0          0.0   \n",
       "...                            ...          ...   ...      ...          ...   \n",
       "cis-Lutein/Zeaxanthin          0.0        0.000  0.00      0.0          0.0   \n",
       "cis-Lycopene                   0.0        0.000  0.00      0.0          0.0   \n",
       "cis-beta-Carotene              0.0        0.000  0.00      0.0          0.0   \n",
       "trans-Lycopene                 0.0        0.000  0.00      0.0          0.0   \n",
       "trans-beta-Carotene            0.0        0.000  0.00      0.0          0.0   \n",
       "\n",
       "                           ...  bean sprouts  Thai chili  peanuts  tofu  beef  \\\n",
       " Ergosta-5,7-dienol        ...         0.000         0.0    0.000   0.0   0.0   \n",
       " Ergosta-7,22-dienol       ...         0.000         0.0    0.000   0.0   0.0   \n",
       "25-hydroxycholecalciferol  ...         0.000         0.0    0.000   0.0   0.0   \n",
       "Alanine                    ...         0.174         0.0    1.001   0.0   0.0   \n",
       "Alcohol, ethyl             ...         0.000         0.0    0.000   0.0   0.0   \n",
       "...                        ...           ...         ...      ...   ...   ...   \n",
       "cis-Lutein/Zeaxanthin      ...         0.000         0.0    0.000   0.0   0.0   \n",
       "cis-Lycopene               ...         0.000         0.0    0.000   0.0   0.0   \n",
       "cis-beta-Carotene          ...         0.000         0.0    0.000   0.0   0.0   \n",
       "trans-Lycopene             ...         0.000         0.0    0.000   0.0   0.0   \n",
       "trans-beta-Carotene        ...         0.000         0.0    0.000   0.0   0.0   \n",
       "\n",
       "                           pork  imitation crab  mushrooms  catfish  red curry  \n",
       " Ergosta-5,7-dienol        0.00             0.0      3.607     0.00        0.0  \n",
       " Ergosta-7,22-dienol       0.00             0.0      1.507     0.00        0.0  \n",
       "25-hydroxycholecalciferol  0.00             0.0      0.000     0.00        0.0  \n",
       "Alanine                    0.53             0.0      0.000     0.86        0.0  \n",
       "Alcohol, ethyl             0.00             0.0      0.000     0.00        0.0  \n",
       "...                         ...             ...        ...      ...        ...  \n",
       "cis-Lutein/Zeaxanthin      0.00             0.0      0.000     0.00        0.0  \n",
       "cis-Lycopene               0.00             0.0      0.000     0.00        0.0  \n",
       "cis-beta-Carotene          0.00             0.0      0.000     0.00        0.0  \n",
       "trans-Lycopene             0.00             0.0      0.000     0.00        0.0  \n",
       "trans-beta-Carotene        0.00             0.0      0.000     0.00        0.0  \n",
       "\n",
       "[206 rows x 25 columns]"
      ]
     },
     "execution_count": 8,
     "metadata": {},
     "output_type": "execute_result"
    }
   ],
   "source": [
    "ing_res[0]"
   ]
  },
  {
   "cell_type": "code",
   "execution_count": 9,
   "id": "a4a78b29",
   "metadata": {},
   "outputs": [
    {
     "name": "stderr",
     "output_type": "stream",
     "text": [
      "/opt/conda/lib/python3.9/site-packages/pandas/core/dtypes/cast.py:1990: UnitStrippedWarning: The unit of the quantity is stripped when downcasting to ndarray.\n",
      "  result[:] = values\n",
      "/tmp/ipykernel_198/2289315912.py:2: SettingWithCopyWarning: \n",
      "A value is trying to be set on a copy of a slice from a DataFrame.\n",
      "Try using .loc[row_indexer,col_indexer] = value instead\n",
      "\n",
      "See the caveats in the documentation: https://pandas.pydata.org/pandas-docs/stable/user_guide/indexing.html#returning-a-view-versus-a-copy\n",
      "  food_list['FDC Quantity'] = food_list[['Quantity','Unit']].T.apply(lambda x : fdc.units(x['Quantity'],x['Unit']))\n",
      "/tmp/ipykernel_198/2289315912.py:5: SettingWithCopyWarning: \n",
      "A value is trying to be set on a copy of a slice from a DataFrame.\n",
      "Try using .loc[row_indexer,col_indexer] = value instead\n",
      "\n",
      "See the caveats in the documentation: https://pandas.pydata.org/pandas-docs/stable/user_guide/indexing.html#returning-a-view-versus-a-copy\n",
      "  food_list['FDC Price'] = food_list['Dish_Price']/food_list.groupby('Dish',sort=False)['FDC Quantity'].sum()\n"
     ]
    }
   ],
   "source": [
    "# Convert food quantities to FDC units\n",
    "food_list['FDC Quantity'] = food_list[['Quantity','Unit']].T.apply(lambda x : fdc.units(x['Quantity'],x['Unit']))\n",
    "\n",
    "# Now may want to filter df by time or place--need to get a unique set of food names.\n",
    "food_list['FDC Price'] = food_list['Dish_Price']/food_list.groupby('Dish',sort=False)['FDC Quantity'].sum()\n",
    "\n",
    "food_list.dropna(how='any') # Drop food with any missing data\n",
    "\n",
    "# To use minimum price observed\n",
    "Dish_Prices = food_list.groupby('Dish',sort=False)['Dish_Price'].min()/food_list.groupby('Dish',sort=False)['FDC Quantity'].sum()"
   ]
  },
  {
   "cell_type": "markdown",
   "id": "9c8eba50",
   "metadata": {},
   "source": [
    "## Table of nutritional information for dishes"
   ]
  },
  {
   "cell_type": "code",
   "execution_count": 10,
   "id": "4a03f2e9",
   "metadata": {},
   "outputs": [
    {
     "data": {
      "text/html": [
       "<div>\n",
       "<style scoped>\n",
       "    .dataframe tbody tr th:only-of-type {\n",
       "        vertical-align: middle;\n",
       "    }\n",
       "\n",
       "    .dataframe tbody tr th {\n",
       "        vertical-align: top;\n",
       "    }\n",
       "\n",
       "    .dataframe thead th {\n",
       "        text-align: right;\n",
       "    }\n",
       "</style>\n",
       "<table border=\"1\" class=\"dataframe\">\n",
       "  <thead>\n",
       "    <tr style=\"text-align: right;\">\n",
       "      <th></th>\n",
       "      <th>Original Salmon Poke Bowl</th>\n",
       "      <th>Firecracker Poke Bowl</th>\n",
       "      <th>Sunset House Poke Bowl</th>\n",
       "      <th>The O.G. Poke Bowl</th>\n",
       "      <th>Goodie Mob Poke Bowl</th>\n",
       "      <th>Wazzup Poke Bowl</th>\n",
       "    </tr>\n",
       "  </thead>\n",
       "  <tbody>\n",
       "    <tr>\n",
       "      <th>Proximates</th>\n",
       "      <td>0.000000</td>\n",
       "      <td>0.000000</td>\n",
       "      <td>0.000000</td>\n",
       "      <td>0.00000</td>\n",
       "      <td>0.000000</td>\n",
       "      <td>0.000000</td>\n",
       "    </tr>\n",
       "    <tr>\n",
       "      <th>Water</th>\n",
       "      <td>349.970000</td>\n",
       "      <td>349.370000</td>\n",
       "      <td>424.540000</td>\n",
       "      <td>336.83000</td>\n",
       "      <td>444.350000</td>\n",
       "      <td>448.360000</td>\n",
       "    </tr>\n",
       "    <tr>\n",
       "      <th>Energy</th>\n",
       "      <td>14278.841536</td>\n",
       "      <td>50999.296902</td>\n",
       "      <td>42197.319302</td>\n",
       "      <td>44274.83239</td>\n",
       "      <td>5629.147776</td>\n",
       "      <td>5466.693248</td>\n",
       "    </tr>\n",
       "    <tr>\n",
       "      <th>Protein</th>\n",
       "      <td>42.170000</td>\n",
       "      <td>30.610000</td>\n",
       "      <td>56.240000</td>\n",
       "      <td>44.55000</td>\n",
       "      <td>41.900000</td>\n",
       "      <td>33.200000</td>\n",
       "    </tr>\n",
       "    <tr>\n",
       "      <th>Total lipid (fat)</th>\n",
       "      <td>81.880000</td>\n",
       "      <td>120.000000</td>\n",
       "      <td>71.250000</td>\n",
       "      <td>63.89000</td>\n",
       "      <td>13.850000</td>\n",
       "      <td>46.890000</td>\n",
       "    </tr>\n",
       "    <tr>\n",
       "      <th>...</th>\n",
       "      <td>...</td>\n",
       "      <td>...</td>\n",
       "      <td>...</td>\n",
       "      <td>...</td>\n",
       "      <td>...</td>\n",
       "      <td>...</td>\n",
       "    </tr>\n",
       "    <tr>\n",
       "      <th>Fatty acids, total trans-polyenoic</th>\n",
       "      <td>0.000000</td>\n",
       "      <td>0.000000</td>\n",
       "      <td>0.000000</td>\n",
       "      <td>0.00000</td>\n",
       "      <td>0.000000</td>\n",
       "      <td>0.023000</td>\n",
       "    </tr>\n",
       "    <tr>\n",
       "      <th>Fluoride, F</th>\n",
       "      <td>0.000000</td>\n",
       "      <td>1.300000</td>\n",
       "      <td>1.300000</td>\n",
       "      <td>0.00000</td>\n",
       "      <td>1.300000</td>\n",
       "      <td>1.300000</td>\n",
       "    </tr>\n",
       "    <tr>\n",
       "      <th>Phytosterols</th>\n",
       "      <td>0.000000</td>\n",
       "      <td>14.000000</td>\n",
       "      <td>14.000000</td>\n",
       "      <td>0.00000</td>\n",
       "      <td>14.000000</td>\n",
       "      <td>14.000000</td>\n",
       "    </tr>\n",
       "    <tr>\n",
       "      <th>Sugars, added</th>\n",
       "      <td>0.000000</td>\n",
       "      <td>13.300000</td>\n",
       "      <td>13.300000</td>\n",
       "      <td>13.30000</td>\n",
       "      <td>0.000000</td>\n",
       "      <td>0.000000</td>\n",
       "    </tr>\n",
       "    <tr>\n",
       "      <th>PUFA 18:3i</th>\n",
       "      <td>0.000000</td>\n",
       "      <td>0.000000</td>\n",
       "      <td>0.000000</td>\n",
       "      <td>0.00000</td>\n",
       "      <td>0.000000</td>\n",
       "      <td>0.000000</td>\n",
       "    </tr>\n",
       "  </tbody>\n",
       "</table>\n",
       "<p>144 rows × 6 columns</p>\n",
       "</div>"
      ],
      "text/plain": [
       "                                    Original Salmon Poke Bowl  \\\n",
       "Proximates                                           0.000000   \n",
       "Water                                              349.970000   \n",
       "Energy                                           14278.841536   \n",
       "Protein                                             42.170000   \n",
       "Total lipid (fat)                                   81.880000   \n",
       "...                                                       ...   \n",
       "Fatty acids, total trans-polyenoic                   0.000000   \n",
       "Fluoride, F                                          0.000000   \n",
       "Phytosterols                                         0.000000   \n",
       "Sugars, added                                        0.000000   \n",
       "PUFA 18:3i                                           0.000000   \n",
       "\n",
       "                                    Firecracker Poke Bowl  \\\n",
       "Proximates                                       0.000000   \n",
       "Water                                          349.370000   \n",
       "Energy                                       50999.296902   \n",
       "Protein                                         30.610000   \n",
       "Total lipid (fat)                              120.000000   \n",
       "...                                                   ...   \n",
       "Fatty acids, total trans-polyenoic               0.000000   \n",
       "Fluoride, F                                      1.300000   \n",
       "Phytosterols                                    14.000000   \n",
       "Sugars, added                                   13.300000   \n",
       "PUFA 18:3i                                       0.000000   \n",
       "\n",
       "                                    Sunset House Poke Bowl  \\\n",
       "Proximates                                        0.000000   \n",
       "Water                                           424.540000   \n",
       "Energy                                        42197.319302   \n",
       "Protein                                          56.240000   \n",
       "Total lipid (fat)                                71.250000   \n",
       "...                                                    ...   \n",
       "Fatty acids, total trans-polyenoic                0.000000   \n",
       "Fluoride, F                                       1.300000   \n",
       "Phytosterols                                     14.000000   \n",
       "Sugars, added                                    13.300000   \n",
       "PUFA 18:3i                                        0.000000   \n",
       "\n",
       "                                    The O.G. Poke Bowl  Goodie Mob Poke Bowl  \\\n",
       "Proximates                                     0.00000              0.000000   \n",
       "Water                                        336.83000            444.350000   \n",
       "Energy                                     44274.83239           5629.147776   \n",
       "Protein                                       44.55000             41.900000   \n",
       "Total lipid (fat)                             63.89000             13.850000   \n",
       "...                                                ...                   ...   \n",
       "Fatty acids, total trans-polyenoic             0.00000              0.000000   \n",
       "Fluoride, F                                    0.00000              1.300000   \n",
       "Phytosterols                                   0.00000             14.000000   \n",
       "Sugars, added                                 13.30000              0.000000   \n",
       "PUFA 18:3i                                     0.00000              0.000000   \n",
       "\n",
       "                                    Wazzup Poke Bowl  \n",
       "Proximates                                  0.000000  \n",
       "Water                                     448.360000  \n",
       "Energy                                   5466.693248  \n",
       "Protein                                    33.200000  \n",
       "Total lipid (fat)                          46.890000  \n",
       "...                                              ...  \n",
       "Fatty acids, total trans-polyenoic          0.023000  \n",
       "Fluoride, F                                 1.300000  \n",
       "Phytosterols                               14.000000  \n",
       "Sugars, added                               0.000000  \n",
       "PUFA 18:3i                                  0.000000  \n",
       "\n",
       "[144 rows x 6 columns]"
      ]
     },
     "execution_count": 10,
     "metadata": {},
     "output_type": "execute_result"
    }
   ],
   "source": [
    "# construct table of nutritional information for dishes\n",
    "\n",
    "dishes = food_list.groupby('Dish',sort=False)['Ingredients'].count()\n",
    "\n",
    "FoodNutrients = pd.DataFrame(columns=dishes.keys().tolist(),\n",
    "                  index=FoodNutrients_Ing.index, )\n",
    "start = 0\n",
    "end = 0\n",
    "for i, column in enumerate(FoodNutrients): \n",
    "\n",
    "    FoodNutrients[column] = FoodNutrients_Ing.iloc[:, start:start+dishes[i]].sum(axis=1)\n",
    "    start = start+dishes[i]\n",
    "FoodNutrients"
   ]
  },
  {
   "cell_type": "code",
   "execution_count": 11,
   "id": "f0911518",
   "metadata": {},
   "outputs": [
    {
     "data": {
      "text/plain": [
       "Dish\n",
       "Original Salmon Poke Bowl    3.2149155958679763 / hectogram\n",
       "Firecracker Poke Bowl         6.082272748939414 / hectogram\n",
       "Sunset House Poke Bowl       2.6790963298899806 / hectogram\n",
       "The O.G. Poke Bowl           1.7337757450751807 / hectogram\n",
       "Goodie Mob Poke Bowl         1.7472367368847699 / hectogram\n",
       "Wazzup Poke Bowl             1.6819438842358623 / hectogram\n",
       "dtype: object"
      ]
     },
     "execution_count": 11,
     "metadata": {},
     "output_type": "execute_result"
    }
   ],
   "source": [
    "Dish_Prices"
   ]
  },
  {
   "cell_type": "code",
   "execution_count": 12,
   "id": "99d2e303",
   "metadata": {},
   "outputs": [
    {
     "name": "stderr",
     "output_type": "stream",
     "text": [
      "/opt/conda/lib/python3.9/site-packages/pandas/core/dtypes/cast.py:1990: UnitStrippedWarning: The unit of the quantity is stripped when downcasting to ndarray.\n",
      "  result[:] = values\n",
      "/tmp/ipykernel_198/2842241641.py:5: SettingWithCopyWarning: \n",
      "A value is trying to be set on a copy of a slice from a DataFrame.\n",
      "Try using .loc[row_indexer,col_indexer] = value instead\n",
      "\n",
      "See the caveats in the documentation: https://pandas.pydata.org/pandas-docs/stable/user_guide/indexing.html#returning-a-view-versus-a-copy\n",
      "  food_list['FDC Quantity'] = food_list[['Quantity','Unit']].T.apply(lambda x : fdc.units(x['Quantity'],x['Unit']))\n",
      "/tmp/ipykernel_198/2842241641.py:8: SettingWithCopyWarning: \n",
      "A value is trying to be set on a copy of a slice from a DataFrame.\n",
      "Try using .loc[row_indexer,col_indexer] = value instead\n",
      "\n",
      "See the caveats in the documentation: https://pandas.pydata.org/pandas-docs/stable/user_guide/indexing.html#returning-a-view-versus-a-copy\n",
      "  food_list['FDC Price'] = food_list['Ingredient_Price/100 gm']\n"
     ]
    }
   ],
   "source": [
    "# Convert food quantities to FDC units\n",
    "ing_prices = []\n",
    "for r in food_list_res:\n",
    "    food_list = r\n",
    "    food_list['FDC Quantity'] = food_list[['Quantity','Unit']].T.apply(lambda x : fdc.units(x['Quantity'],x['Unit']))\n",
    "\n",
    "    # Now may want to filter df by time or place--need to get a unique set of food names.\n",
    "    food_list['FDC Price'] = food_list['Ingredient_Price/100 gm']\n",
    "\n",
    "    food_list.dropna(how='any') # Drop food with any missing data\n",
    "\n",
    "    # To use minimum price observed\n",
    "    Ingredient_Prices = food_list.groupby('Ingredients',sort=False)['FDC Price'].min()\n",
    "    ing_prices.append(Ingredient_Prices)"
   ]
  },
  {
   "cell_type": "code",
   "execution_count": 13,
   "id": "59d52999",
   "metadata": {},
   "outputs": [
    {
     "data": {
      "text/plain": [
       "Ingredients\n",
       "salmon            2.20\n",
       "white rice        0.28\n",
       "sweet onion       0.44\n",
       "green onion       0.44\n",
       "kale              0.88\n",
       "shoyu             1.69\n",
       "spicy mayo        1.38\n",
       "ahi tuna          2.36\n",
       "cucumber          0.88\n",
       "sweet chili       1.05\n",
       "house dressing    3.17\n",
       "edamame           0.56\n",
       "ponzu             1.90\n",
       "tofu              0.74\n",
       "wasabi            8.78\n",
       "mayo              0.56\n",
       "Name: FDC Price, dtype: float64"
      ]
     },
     "execution_count": 13,
     "metadata": {},
     "output_type": "execute_result"
    }
   ],
   "source": [
    "# Ingredient price for Poke bar\n",
    "ing_prices[3]"
   ]
  },
  {
   "cell_type": "markdown",
   "id": "8e4a5314",
   "metadata": {},
   "source": [
    "## Solution"
   ]
  },
  {
   "cell_type": "code",
   "execution_count": 14,
   "id": "48c6388d",
   "metadata": {},
   "outputs": [],
   "source": [
    "from  scipy.optimize import linprog as lp\n",
    "import numpy as np\n",
    "import warnings\n",
    "\n",
    "def solve_subsistence_problem(FoodNutrients,Prices,dietmin,dietmax,max_weight=None,tol=1e-6):\n",
    "    \"\"\"Solve Stigler's Subsistence Cost Problem.\n",
    "\n",
    "    Inputs:\n",
    "       - FoodNutrients : A pd.DataFrame with rows corresponding to foods, columns to nutrients.\n",
    "       - Prices : A pd.Series of prices for different foods\n",
    "       - diet_min : A pd.Series of DRIs, with index corresponding to columns of FoodNutrients,\n",
    "                    describing minimum intakes.\n",
    "       - diet_max : A pd.Series of DRIs, with index corresponding to columns of FoodNutrients,\n",
    "                    describing maximum intakes.\n",
    "       - max_weight : Maximum weight (in hectograms) allowed for diet.\n",
    "       - tol : Solution values smaller than this in absolute value treated as zeros.\n",
    "       \n",
    "    \"\"\"\n",
    "    try: \n",
    "        p = Prices.apply(lambda x:x.magnitude)\n",
    "    except AttributeError:  # Maybe not passing in prices with units?\n",
    "        warnings.warn(\"Prices have no units.  BE CAREFUL!  We're assuming prices are per hectogram or deciliter!\")\n",
    "        p = Prices\n",
    "\n",
    "    p = p.dropna()\n",
    "\n",
    "    # Compile list that we have both prices and nutritional info for; drop if either missing\n",
    "    use = p.index.intersection(FoodNutrients.columns)\n",
    "    p = p[use]\n",
    "\n",
    "    # Drop nutritional information for foods we don't know the price of,\n",
    "    # and replace missing nutrients with zeros.\n",
    "    Aall = FoodNutrients[p.index].fillna(0)\n",
    "    #print(Aall)\n",
    "    # Drop rows of A that we don't have constraints for.\n",
    "    Amin = Aall.loc[Aall.index.intersection(dietmin.index)]\n",
    "    #print(dietmin)\n",
    "    #print(Amin)\n",
    "    Amin = Amin.reindex(dietmin.index,axis=0)\n",
    "    #print(dietmin.index)\n",
    "    #print(Amin)\n",
    "    idx = Amin.index.to_frame()\n",
    "    #print(Amin)\n",
    "    idx['type'] = 'min'\n",
    "    #print(Amin)\n",
    "    #Amin.index = pd.MultiIndex.from_frame(idx)\n",
    "    #dietmin.index = Amin.index\n",
    "    \n",
    "    \n",
    "\n",
    "    Amax = Aall.loc[Aall.index.intersection(dietmax.index)]\n",
    "    Amax = Amax.reindex(dietmax.index,axis=0)\n",
    "    idx = Amax.index.to_frame()\n",
    "    idx['type'] = 'max'\n",
    "    #Amax.index = pd.MultiIndex.from_frame(idx)\n",
    "    #dietmax.index = Amax.index\n",
    "\n",
    "    # Minimum requirements involve multiplying constraint by -1 to make <=.\n",
    "    A = pd.concat([Amin,\n",
    "                   -Amax])\n",
    "\n",
    "    b = pd.concat([dietmin,\n",
    "                   -dietmax]) # Note sign change for max constraints\n",
    "\n",
    "    # Make sure order of p, A, b are consistent\n",
    "    A = A.reindex(p.index,axis=1)\n",
    "    A = A.reindex(b.index,axis=0)\n",
    "\n",
    "    if max_weight is not None:\n",
    "        # Add up weights of foods consumed\n",
    "        A.loc['Hectograms'] = -1\n",
    "        b.loc['Hectograms'] = -max_weight\n",
    "    #print(p)\n",
    "    #print(A)\n",
    "    #print(b)\n",
    "    # Now solve problem!  (Note that the linear program solver we'll use assumes\n",
    "    # \"less-than-or-equal\" constraints.  We can switch back and forth by\n",
    "    # multiplying $A$ and $b$ by $-1$.)\n",
    "\n",
    "    result = lp(p, -A, -b, method='interior-point', options={'presolve': True,\n",
    "                                                            'cholesky':False, \n",
    "                                                            'sym_pos':False,\n",
    "                                                            'lstsq':True})\n",
    "\n",
    "    result.A = A\n",
    "    result.b = b\n",
    "    \n",
    "    if result.success:\n",
    "        result.diet = pd.Series(result.x,index=p.index)\n",
    "    else: # No feasible solution?\n",
    "        warnings.warn(result.message)\n",
    "        result.diet = pd.Series(result.x,index=p.index)*np.nan  \n",
    "\n",
    "    return result"
   ]
  },
  {
   "cell_type": "markdown",
   "id": "8a1f5b7d",
   "metadata": {},
   "source": [
    "### Dish-based Solution"
   ]
  },
  {
   "cell_type": "code",
   "execution_count": 15,
   "id": "a34f721c",
   "metadata": {},
   "outputs": [
    {
     "name": "stdout",
     "output_type": "stream",
     "text": [
      "Cost of diet for M 19-30 is $14.37 per day.\n",
      "\n",
      "\n",
      "Diet (in 100s of grams or milliliters):\n",
      "Series([], dtype: float64)\n",
      "\n",
      "\n",
      "With the following nutritional outcomes of interest:\n",
      "                                Outcome  Recommendation\n",
      "Nutrition                                              \n",
      "Energy                              NaN         10041.6\n",
      "Protein                             NaN            56.0\n",
      "Fiber, total dietary                NaN            33.6\n",
      "Folate, DFE                         NaN           400.0\n",
      "Calcium, Ca                         NaN          1000.0\n",
      "Carbohydrate, by difference         NaN           130.0\n",
      "Iron, Fe                            NaN             8.0\n",
      "Magnesium, Mg                       NaN           400.0\n",
      "Niacin                              NaN            16.0\n",
      "Phosphorus, P                       NaN           700.0\n",
      "Potassium, K                        NaN          4700.0\n",
      "Riboflavin                          NaN             1.3\n",
      "Thiamin                             NaN             1.2\n",
      "Vitamin A, RAE                      NaN           900.0\n",
      "Vitamin B-12                        NaN             2.4\n",
      "Vitamin B-6                         NaN             1.3\n",
      "Vitamin C, total ascorbic acid      NaN            90.0\n",
      "Vitamin E (alpha-tocopherol)        NaN            15.0\n",
      "Vitamin K (phylloquinone)           NaN           120.0\n",
      "Zinc, Zn                            NaN            11.0\n",
      "Sodium, Na                          NaN          2300.0\n",
      "Energy                              NaN         12970.4\n",
      "\n",
      "\n",
      "Constraining nutrients are:\n",
      "[]\n"
     ]
    },
    {
     "name": "stderr",
     "output_type": "stream",
     "text": [
      "/tmp/ipykernel_198/2046845037.py:91: UserWarning: The algorithm terminated successfully and determined that the problem is infeasible.\n",
      "  warnings.warn(result.message)\n"
     ]
    }
   ],
   "source": [
    "#dish-based result\n",
    "group = 'M 19-30'\n",
    "tol = 1e-5\n",
    "\n",
    "result = solve_subsistence_problem(FoodNutrients,Dish_Prices,dri_min[group],dri_max[group],tol=tol)\n",
    "\n",
    "print(\"Cost of diet for %s is $%4.2f per day.\\n\" % (group,result.fun))\n",
    "\n",
    "# Put back into nice series\n",
    "diet = result.diet\n",
    "\n",
    "print(\"\\nDiet (in 100s of grams or milliliters):\")\n",
    "print(diet[diet >= tol])  # Drop items with quantities less than precision of calculation.\n",
    "print()\n",
    "\n",
    "tab = pd.DataFrame({\"Outcome\":np.abs(result.A).dot(diet),\"Recommendation\":np.abs(result.b)})\n",
    "print(\"\\nWith the following nutritional outcomes of interest:\")\n",
    "print(tab)\n",
    "print()\n",
    "\n",
    "print(\"\\nConstraining nutrients are:\")\n",
    "excess = tab.diff(axis=1).iloc[:,1]\n",
    "print(excess.loc[np.abs(excess) < tol*100].index.tolist())\n"
   ]
  },
  {
   "cell_type": "markdown",
   "id": "7c83382a",
   "metadata": {},
   "source": [
    "### Ingredient-based solutions"
   ]
  },
  {
   "cell_type": "code",
   "execution_count": 16,
   "id": "c886a1c4",
   "metadata": {},
   "outputs": [
    {
     "name": "stderr",
     "output_type": "stream",
     "text": [
      "/tmp/ipykernel_198/2046845037.py:22: UserWarning: Prices have no units.  BE CAREFUL!  We're assuming prices are per hectogram or deciliter!\n",
      "  warnings.warn(\"Prices have no units.  BE CAREFUL!  We're assuming prices are per hectogram or deciliter!\")\n",
      "/tmp/ipykernel_198/2046845037.py:22: UserWarning: Prices have no units.  BE CAREFUL!  We're assuming prices are per hectogram or deciliter!\n",
      "  warnings.warn(\"Prices have no units.  BE CAREFUL!  We're assuming prices are per hectogram or deciliter!\")\n",
      "/tmp/ipykernel_198/2046845037.py:22: UserWarning: Prices have no units.  BE CAREFUL!  We're assuming prices are per hectogram or deciliter!\n",
      "  warnings.warn(\"Prices have no units.  BE CAREFUL!  We're assuming prices are per hectogram or deciliter!\")\n",
      "/tmp/ipykernel_198/2046845037.py:22: UserWarning: Prices have no units.  BE CAREFUL!  We're assuming prices are per hectogram or deciliter!\n",
      "  warnings.warn(\"Prices have no units.  BE CAREFUL!  We're assuming prices are per hectogram or deciliter!\")\n",
      "/tmp/ipykernel_198/2046845037.py:22: UserWarning: Prices have no units.  BE CAREFUL!  We're assuming prices are per hectogram or deciliter!\n",
      "  warnings.warn(\"Prices have no units.  BE CAREFUL!  We're assuming prices are per hectogram or deciliter!\")\n",
      "/tmp/ipykernel_198/2046845037.py:22: UserWarning: Prices have no units.  BE CAREFUL!  We're assuming prices are per hectogram or deciliter!\n",
      "  warnings.warn(\"Prices have no units.  BE CAREFUL!  We're assuming prices are per hectogram or deciliter!\")\n",
      "/tmp/ipykernel_198/2046845037.py:22: UserWarning: Prices have no units.  BE CAREFUL!  We're assuming prices are per hectogram or deciliter!\n",
      "  warnings.warn(\"Prices have no units.  BE CAREFUL!  We're assuming prices are per hectogram or deciliter!\")\n",
      "/tmp/ipykernel_198/2046845037.py:22: UserWarning: Prices have no units.  BE CAREFUL!  We're assuming prices are per hectogram or deciliter!\n",
      "  warnings.warn(\"Prices have no units.  BE CAREFUL!  We're assuming prices are per hectogram or deciliter!\")\n"
     ]
    },
    {
     "name": "stdout",
     "output_type": "stream",
     "text": [
      "Result for restaurant: Thai Basil\n",
      "Cost of diet for C 1-3 is $4.05 per day.\n",
      "\n",
      "\n",
      "Diet (in 100s of grams or milliliters):\n",
      "egg         1.653595\n",
      "carrots     1.385275\n",
      "rice        0.709294\n",
      "broccoli    0.294118\n",
      "peanuts     3.263896\n",
      "tofu        1.812969\n",
      "dtype: float64\n",
      "\n",
      "\n",
      "With the following nutritional outcomes of interest:\n",
      "                                     Outcome  Recommendation\n",
      "Nutrition                                                   \n",
      "Energy                          10459.999995          4184.0\n",
      "Protein                           129.501998            13.0\n",
      "Fiber, total dietary               34.722741            14.0\n",
      "Folate, DFE                       780.071050           150.0\n",
      "Calcium, Ca                       700.000000           700.0\n",
      "Carbohydrate, by difference       130.000000           130.0\n",
      "Iron, Fe                           14.715686             7.0\n",
      "Magnesium, Mg                     616.643101            80.0\n",
      "Niacin                             43.412963             6.0\n",
      "Phosphorus, P                    1686.069063           460.0\n",
      "Potassium, K                     3000.000106          3000.0\n",
      "Riboflavin                          1.285557             0.5\n",
      "Thiamin                             2.435177             0.5\n",
      "Vitamin A, RAE                    300.000000           300.0\n",
      "Vitamin B-12                        1.686667             0.9\n",
      "Vitamin B-6                         1.528240             0.5\n",
      "Vitamin C, total ascorbic acid     28.847207            15.0\n",
      "Vitamin E (alpha-tocopherol)       21.455273             6.0\n",
      "Vitamin K (phylloquinone)          30.000000            30.0\n",
      "Zinc, Zn                           17.804583             3.0\n",
      "Sodium, Na                        439.949463          1500.0\n",
      "Energy                          10459.999995         10460.0\n",
      "\n",
      "\n",
      "Constraining nutrients are:\n",
      "['Calcium, Ca', 'Carbohydrate, by difference', 'Vitamin A, RAE', 'Vitamin K (phylloquinone)', 'Energy']\n",
      "Result for restaurant: Ttoust\n",
      "Cost of diet for C 1-3 is $3.25 per day.\n",
      "\n",
      "\n",
      "Diet (in 100s of grams or milliliters):\n",
      "Egg            0.882353\n",
      "Spinach        1.531482\n",
      "Sesame         0.274879\n",
      "Brown Sugar    0.069292\n",
      "Flour          5.180750\n",
      "dtype: float64\n",
      "\n",
      "\n",
      "With the following nutritional outcomes of interest:\n",
      "                                     Outcome  Recommendation\n",
      "Nutrition                                                   \n",
      "Energy                          10459.953724          4184.0\n",
      "Protein                            70.150286            13.0\n",
      "Fiber, total dietary               74.786948            14.0\n",
      "Folate, DFE                       395.320659           150.0\n",
      "Calcium, Ca                       700.000000           700.0\n",
      "Carbohydrate, by difference       405.827414           130.0\n",
      "Iron, Fe                           30.160991             7.0\n",
      "Magnesium, Mg                     845.927993            80.0\n",
      "Niacin                             29.692973             6.0\n",
      "Phosphorus, P                    2094.396913           460.0\n",
      "Potassium, K                     3000.000007          3000.0\n",
      "Riboflavin                          1.773012             0.5\n",
      "Thiamin                             1.969544             0.5\n",
      "Vitamin A, RAE                    961.320242           300.0\n",
      "Vitamin B-12                        0.900000             0.9\n",
      "Vitamin B-6                         1.632884             0.5\n",
      "Vitamin C, total ascorbic acid     15.008527            15.0\n",
      "Vitamin E (alpha-tocopherol)        6.000000             6.0\n",
      "Vitamin K (phylloquinone)         765.783076            30.0\n",
      "Zinc, Zn                           19.723375             3.0\n",
      "Sodium, Na                        239.593224          1500.0\n",
      "Energy                          10459.953724         10460.0\n",
      "\n",
      "\n",
      "Constraining nutrients are:\n",
      "['Calcium, Ca', 'Potassium, K', 'Vitamin B-12', 'Vitamin E (alpha-tocopherol)']\n",
      "Result for restaurant: IB\n",
      "Cost of diet for C 1-3 is $5.05 per day.\n",
      "\n",
      "\n",
      "Diet (in 100s of grams or milliliters):\n",
      "bun               0.121403\n",
      "ketchup           0.897307\n",
      "onion             2.492501\n",
      "lettuce           0.076142\n",
      "cheddar cheese    0.334778\n",
      "grilled onion     0.016841\n",
      "sandwich bun      0.121403\n",
      "avocado           8.817275\n",
      "cheese            0.334778\n",
      "dtype: float64\n",
      "\n",
      "\n",
      "With the following nutritional outcomes of interest:\n",
      "                                     Outcome  Recommendation\n",
      "Nutrition                                                   \n",
      "Energy                          10459.998724          4184.0\n",
      "Protein                            41.302921            13.0\n",
      "Fiber, total dietary               64.805706            14.0\n",
      "Folate, DFE                       875.953306           150.0\n",
      "Calcium, Ca                       700.000000           700.0\n",
      "Carbohydrate, by difference       130.000000           130.0\n",
      "Iron, Fe                            7.000000             7.0\n",
      "Magnesium, Mg                     317.355053            80.0\n",
      "Niacin                             19.326167             6.0\n",
      "Phosphorus, P                     922.012078           460.0\n",
      "Potassium, K                     5192.581760          3000.0\n",
      "Riboflavin                          1.823332             0.5\n",
      "Thiamin                             0.865317             0.5\n",
      "Vitamin A, RAE                    300.000000           300.0\n",
      "Vitamin B-12                        0.900000             0.9\n",
      "Vitamin B-6                         3.080462             0.5\n",
      "Vitamin C, total ascorbic acid    101.200965            15.0\n",
      "Vitamin E (alpha-tocopherol)       19.353937             6.0\n",
      "Vitamin K (phylloquinone)         201.216531            30.0\n",
      "Zinc, Zn                            9.753457             3.0\n",
      "Sodium, Na                       1499.999999          1500.0\n",
      "Energy                          10459.998724         10460.0\n",
      "\n",
      "\n",
      "Constraining nutrients are:\n",
      "['Calcium, Ca', 'Carbohydrate, by difference', 'Iron, Fe', 'Vitamin A, RAE', 'Vitamin B-12', 'Sodium, Na']\n",
      "Result for restaurant: Poke Bar\n",
      "Cost of diet for C 1-3 is $6.38 per day.\n",
      "\n",
      "\n",
      "Diet (in 100s of grams or milliliters):\n",
      "salmon        0.278638\n",
      "white rice    1.042062\n",
      "kale          4.139557\n",
      "edamame       3.267990\n",
      "dtype: float64\n",
      "\n",
      "\n",
      "With the following nutritional outcomes of interest:\n",
      "                                     Outcome  Recommendation\n",
      "Nutrition                                                   \n",
      "Energy                          10459.999993          4184.0\n",
      "Protein                            61.559446            13.0\n",
      "Fiber, total dietary               35.813084            14.0\n",
      "Folate, DFE                      1202.710615           150.0\n",
      "Calcium, Ca                      1263.723267           700.0\n",
      "Carbohydrate, by difference       130.000000           130.0\n",
      "Iron, Fe                           14.272329             7.0\n",
      "Magnesium, Mg                     383.216165            80.0\n",
      "Niacin                             12.895403             6.0\n",
      "Phosphorus, P                     932.621169           460.0\n",
      "Potassium, K                     3000.000000          3000.0\n",
      "Riboflavin                          1.991697             0.5\n",
      "Thiamin                             1.270563             0.5\n",
      "Vitamin A, RAE                   1098.762000           300.0\n",
      "Vitamin B-12                        0.900000             0.9\n",
      "Vitamin B-6                         1.609350             0.5\n",
      "Vitamin C, total ascorbic acid    405.041667            15.0\n",
      "Vitamin E (alpha-tocopherol)        7.103889             6.0\n",
      "Vitamin K (phylloquinone)        1704.741288            30.0\n",
      "Zinc, Zn                            6.894813             3.0\n",
      "Sodium, Na                        650.870932          1500.0\n",
      "Energy                          10459.999993         10460.0\n",
      "\n",
      "\n",
      "Constraining nutrients are:\n",
      "['Carbohydrate, by difference', 'Potassium, K', 'Vitamin B-12', 'Energy']\n",
      "Result for restaurant: Thai Basil\n",
      "Cost of diet for F 4-8 is $5.68 per day.\n",
      "\n",
      "\n",
      "Diet (in 100s of grams or milliliters):\n",
      "egg         2.198257\n",
      "carrots     4.112315\n",
      "rice        0.341276\n",
      "broccoli    0.539216\n",
      "peanuts     3.146450\n",
      "tofu        3.102381\n",
      "dtype: float64\n",
      "\n",
      "\n",
      "With the following nutritional outcomes of interest:\n",
      "                                     Outcome  Recommendation\n",
      "Nutrition                                                   \n",
      "Energy                          10459.999799          5020.8\n",
      "Protein                           148.020403            19.0\n",
      "Fiber, total dietary               43.729334            16.8\n",
      "Folate, DFE                       752.001443           200.0\n",
      "Calcium, Ca                      1000.000001          1000.0\n",
      "Carbohydrate, by difference       130.000001           130.0\n",
      "Iron, Fe                           18.003191            10.0\n",
      "Magnesium, Mg                     633.440070           130.0\n",
      "Niacin                             45.490382             8.0\n",
      "Phosphorus, P                    1832.048768           500.0\n",
      "Potassium, K                     3800.001430          3800.0\n",
      "Riboflavin                          1.785395             0.6\n",
      "Thiamin                             2.563432             0.6\n",
      "Vitamin A, RAE                    400.000001           400.0\n",
      "Vitamin B-12                        2.242222             1.2\n",
      "Vitamin B-6                         1.946651             0.6\n",
      "Vitamin C, total ascorbic acid     52.643012            25.0\n",
      "Vitamin E (alpha-tocopherol)       20.721591             7.0\n",
      "Vitamin K (phylloquinone)          55.000001            55.0\n",
      "Zinc, Zn                           18.269350             5.0\n",
      "Sodium, Na                        794.868459          1900.0\n",
      "Energy                          10459.999799         10460.0\n",
      "\n",
      "\n",
      "Constraining nutrients are:\n",
      "['Calcium, Ca', 'Carbohydrate, by difference', 'Vitamin A, RAE', 'Vitamin K (phylloquinone)']\n",
      "Result for restaurant: Ttoust\n",
      "Cost of diet for F 4-8 is $4.52 per day.\n",
      "\n",
      "\n",
      "Diet (in 100s of grams or milliliters):\n",
      "Egg            1.176471\n",
      "Spinach        2.551020\n",
      "Sesame         0.414732\n",
      "Brown Sugar    0.018560\n",
      "Flour          5.740700\n",
      "dtype: float64\n",
      "\n",
      "\n",
      "With the following nutritional outcomes of interest:\n",
      "                                     Outcome  Recommendation\n",
      "Nutrition                                                   \n",
      "Energy                          10459.998923          5020.8\n",
      "Protein                            84.686090            19.0\n",
      "Fiber, total dietary               86.219457            16.8\n",
      "Folate, DFE                       573.417569           200.0\n",
      "Calcium, Ca                      1000.000000          1000.0\n",
      "Carbohydrate, by difference       449.844592           130.0\n",
      "Iron, Fe                           38.404194            10.0\n",
      "Magnesium, Mg                    1052.583320           130.0\n",
      "Niacin                             33.818038             8.0\n",
      "Phosphorus, P                    2474.440194           500.0\n",
      "Potassium, K                     3800.000000          3800.0\n",
      "Riboflavin                          2.276672             0.6\n",
      "Thiamin                             2.365976             0.6\n",
      "Vitamin A, RAE                   1548.499404           400.0\n",
      "Vitamin B-12                        1.200000             1.2\n",
      "Vitamin B-6                         2.115576             0.6\n",
      "Vitamin C, total ascorbic acid     25.000000            25.0\n",
      "Vitamin E (alpha-tocopherol)        8.452377             7.0\n",
      "Vitamin K (phylloquinone)        1270.091008            55.0\n",
      "Zinc, Zn                           23.604243             5.0\n",
      "Sodium, Na                        352.120287          1900.0\n",
      "Energy                          10459.998923         10460.0\n",
      "\n",
      "\n",
      "Constraining nutrients are:\n",
      "['Calcium, Ca', 'Potassium, K', 'Vitamin B-12', 'Vitamin C, total ascorbic acid']\n",
      "Result for restaurant: IB\n",
      "Cost of diet for F 4-8 is $5.97 per day.\n",
      "\n",
      "\n",
      "Diet (in 100s of grams or milliliters):\n",
      "bun               0.738188\n",
      "ketchup           0.362655\n",
      "onion             0.607122\n",
      "lettuce           0.064151\n",
      "cheddar cheese    0.441587\n",
      "sandwich bun      0.738188\n",
      "avocado           9.942795\n",
      "cheese            0.441587\n",
      "dtype: float64\n",
      "\n",
      "\n",
      "With the following nutritional outcomes of interest:\n",
      "                                     Outcome  Recommendation\n",
      "Nutrition                                                   \n",
      "Energy                          10459.999940          5020.8\n",
      "Protein                            66.027956            19.0\n",
      "Fiber, total dietary               70.311684            16.8\n",
      "Folate, DFE                      1016.050414           200.0\n",
      "Calcium, Ca                      1000.000004          1000.0\n",
      "Carbohydrate, by difference       130.000000           130.0\n",
      "Iron, Fe                           10.000000            10.0\n",
      "Magnesium, Mg                     355.173035           130.0\n",
      "Niacin                             24.769365             8.0\n",
      "Phosphorus, P                    1215.669126           500.0\n",
      "Potassium, K                     5638.968396          3800.0\n",
      "Riboflavin                          2.188023             0.6\n",
      "Thiamin                             1.147006             0.6\n",
      "Vitamin A, RAE                    400.000007           400.0\n",
      "Vitamin B-12                        2.666955             1.2\n",
      "Vitamin B-6                         3.371693             0.6\n",
      "Vitamin C, total ascorbic acid     98.347875            25.0\n",
      "Vitamin E (alpha-tocopherol)       21.348647             7.0\n",
      "Vitamin K (phylloquinone)         227.290435            55.0\n",
      "Zinc, Zn                           14.326518             5.0\n",
      "Sodium, Na                       1899.999987          1900.0\n",
      "Energy                          10459.999940         10460.0\n",
      "\n",
      "\n",
      "Constraining nutrients are:\n",
      "['Calcium, Ca', 'Carbohydrate, by difference', 'Iron, Fe', 'Vitamin A, RAE', 'Sodium, Na', 'Energy']\n"
     ]
    },
    {
     "name": "stderr",
     "output_type": "stream",
     "text": [
      "/tmp/ipykernel_198/2046845037.py:22: UserWarning: Prices have no units.  BE CAREFUL!  We're assuming prices are per hectogram or deciliter!\n",
      "  warnings.warn(\"Prices have no units.  BE CAREFUL!  We're assuming prices are per hectogram or deciliter!\")\n"
     ]
    },
    {
     "name": "stdout",
     "output_type": "stream",
     "text": [
      "Result for restaurant: Poke Bar\n",
      "Cost of diet for F 4-8 is $8.56 per day.\n",
      "\n",
      "\n",
      "Diet (in 100s of grams or milliliters):\n",
      "salmon        0.371517\n",
      "white rice    0.923280\n",
      "kale          6.489605\n",
      "edamame       3.167269\n",
      "dtype: float64\n",
      "\n",
      "\n",
      "With the following nutritional outcomes of interest:\n",
      "                                     Outcome  Recommendation\n",
      "Nutrition                                                   \n",
      "Energy                          10459.999993          5020.8\n",
      "Protein                            68.453133            19.0\n",
      "Fiber, total dietary               44.659597            16.8\n",
      "Folate, DFE                      1321.547001           200.0\n",
      "Calcium, Ca                      1854.139526          1000.0\n",
      "Carbohydrate, by difference       130.000000           130.0\n",
      "Iron, Fe                           17.800823            10.0\n",
      "Magnesium, Mg                     452.873396           130.0\n",
      "Niacin                             16.077025             8.0\n",
      "Phosphorus, P                    1056.005900           500.0\n",
      "Potassium, K                     3800.000000          3800.0\n",
      "Riboflavin                          2.803957             0.6\n",
      "Thiamin                             1.520420             0.6\n",
      "Vitamin A, RAE                   1667.891790           400.0\n",
      "Vitamin B-12                        1.200000             1.2\n",
      "Vitamin B-6                         1.950708             0.6\n",
      "Vitamin C, total ascorbic acid    624.364547            25.0\n",
      "Vitamin E (alpha-tocopherol)        8.870855             7.0\n",
      "Vitamin K (phylloquinone)        2617.536123            55.0\n",
      "Zinc, Zn                            7.615784             5.0\n",
      "Sodium, Na                        768.111732          1900.0\n",
      "Energy                          10459.999993         10460.0\n",
      "\n",
      "\n",
      "Constraining nutrients are:\n",
      "['Carbohydrate, by difference', 'Potassium, K', 'Vitamin B-12', 'Energy']\n",
      "Result for restaurant: Thai Basil\n",
      "Cost of diet for M 4-8 is $5.68 per day.\n",
      "\n",
      "\n",
      "Diet (in 100s of grams or milliliters):\n",
      "egg         2.198257\n",
      "peas        0.000002\n",
      "carrots     4.112361\n",
      "rice        0.341269\n",
      "broccoli    0.539215\n",
      "peanuts     3.146454\n",
      "tofu        3.102369\n",
      "dtype: float64\n",
      "\n",
      "\n",
      "With the following nutritional outcomes of interest:\n",
      "                                     Outcome  Recommendation\n",
      "Nutrition                                                   \n",
      "Energy                          10459.997363          5857.6\n",
      "Protein                           148.020401            19.0\n",
      "Fiber, total dietary               43.729512            19.6\n",
      "Folate, DFE                       752.002691           200.0\n",
      "Calcium, Ca                      1000.000013          1000.0\n",
      "Carbohydrate, by difference       130.000016           130.0\n",
      "Iron, Fe                           18.003190            10.0\n",
      "Magnesium, Mg                     633.441366           130.0\n",
      "Niacin                             45.490501             8.0\n",
      "Phosphorus, P                    1832.051982           500.0\n",
      "Potassium, K                     3800.017560          3800.0\n",
      "Riboflavin                          1.785400             0.6\n",
      "Thiamin                             2.563438             0.6\n",
      "Vitamin A, RAE                    400.000036           400.0\n",
      "Vitamin B-12                        2.242222             1.2\n",
      "Vitamin B-6                         1.946660             0.6\n",
      "Vitamin C, total ascorbic acid     52.643056            25.0\n",
      "Vitamin E (alpha-tocopherol)       20.721623             7.0\n",
      "Vitamin K (phylloquinone)          55.000017            55.0\n",
      "Zinc, Zn                           18.269376             5.0\n",
      "Sodium, Na                        794.872246          1900.0\n",
      "Energy                          10459.997363         10460.0\n",
      "\n",
      "\n",
      "Constraining nutrients are:\n",
      "['Calcium, Ca', 'Carbohydrate, by difference', 'Vitamin A, RAE', 'Vitamin K (phylloquinone)']\n"
     ]
    },
    {
     "name": "stderr",
     "output_type": "stream",
     "text": [
      "/tmp/ipykernel_198/2046845037.py:22: UserWarning: Prices have no units.  BE CAREFUL!  We're assuming prices are per hectogram or deciliter!\n",
      "  warnings.warn(\"Prices have no units.  BE CAREFUL!  We're assuming prices are per hectogram or deciliter!\")\n",
      "/tmp/ipykernel_198/2046845037.py:22: UserWarning: Prices have no units.  BE CAREFUL!  We're assuming prices are per hectogram or deciliter!\n",
      "  warnings.warn(\"Prices have no units.  BE CAREFUL!  We're assuming prices are per hectogram or deciliter!\")\n",
      "/tmp/ipykernel_198/2046845037.py:22: UserWarning: Prices have no units.  BE CAREFUL!  We're assuming prices are per hectogram or deciliter!\n",
      "  warnings.warn(\"Prices have no units.  BE CAREFUL!  We're assuming prices are per hectogram or deciliter!\")\n"
     ]
    },
    {
     "name": "stdout",
     "output_type": "stream",
     "text": [
      "Result for restaurant: Ttoust\n",
      "Cost of diet for M 4-8 is $4.52 per day.\n",
      "\n",
      "\n",
      "Diet (in 100s of grams or milliliters):\n",
      "Egg            1.176471\n",
      "Spinach        2.551020\n",
      "Sesame         0.414732\n",
      "Brown Sugar    0.018560\n",
      "Flour          5.740700\n",
      "dtype: float64\n",
      "\n",
      "\n",
      "With the following nutritional outcomes of interest:\n",
      "                                     Outcome  Recommendation\n",
      "Nutrition                                                   \n",
      "Energy                          10459.999979          5857.6\n",
      "Protein                            84.686090            19.0\n",
      "Fiber, total dietary               86.219457            19.6\n",
      "Folate, DFE                       573.417567           200.0\n",
      "Calcium, Ca                      1000.000000          1000.0\n",
      "Carbohydrate, by difference       449.844598           130.0\n",
      "Iron, Fe                           38.404194            10.0\n",
      "Magnesium, Mg                    1052.583320           130.0\n",
      "Niacin                             33.818038             8.0\n",
      "Phosphorus, P                    2474.440198           500.0\n",
      "Potassium, K                     3800.000000          3800.0\n",
      "Riboflavin                          2.276672             0.6\n",
      "Thiamin                             2.365976             0.6\n",
      "Vitamin A, RAE                   1548.499397           400.0\n",
      "Vitamin B-12                        1.200000             1.2\n",
      "Vitamin B-6                         2.115576             0.6\n",
      "Vitamin C, total ascorbic acid     25.000000            25.0\n",
      "Vitamin E (alpha-tocopherol)        8.452377             7.0\n",
      "Vitamin K (phylloquinone)        1270.091002            55.0\n",
      "Zinc, Zn                           23.604243             5.0\n",
      "Sodium, Na                        352.120284          1900.0\n",
      "Energy                          10459.999979         10460.0\n",
      "\n",
      "\n",
      "Constraining nutrients are:\n",
      "['Calcium, Ca', 'Potassium, K', 'Vitamin B-12', 'Vitamin C, total ascorbic acid', 'Energy']\n",
      "Result for restaurant: IB\n",
      "Cost of diet for M 4-8 is $5.97 per day.\n",
      "\n",
      "\n",
      "Diet (in 100s of grams or milliliters):\n",
      "bun               0.738188\n",
      "ketchup           0.362656\n",
      "onion             0.607122\n",
      "lettuce           0.064151\n",
      "cheddar cheese    0.441587\n",
      "sandwich bun      0.738188\n",
      "avocado           9.942795\n",
      "cheese            0.441587\n",
      "dtype: float64\n",
      "\n",
      "\n",
      "With the following nutritional outcomes of interest:\n",
      "                                     Outcome  Recommendation\n",
      "Nutrition                                                   \n",
      "Energy                          10459.999994          5857.6\n",
      "Protein                            66.027956            19.0\n",
      "Fiber, total dietary               70.311685            19.6\n",
      "Folate, DFE                      1016.050435           200.0\n",
      "Calcium, Ca                      1000.000001          1000.0\n",
      "Carbohydrate, by difference       130.000000           130.0\n",
      "Iron, Fe                           10.000000            10.0\n",
      "Magnesium, Mg                     355.173039           130.0\n",
      "Niacin                             24.769365             8.0\n",
      "Phosphorus, P                    1215.669126           500.0\n",
      "Potassium, K                     5638.968486          3800.0\n",
      "Riboflavin                          2.188023             0.6\n",
      "Thiamin                             1.147006             0.6\n",
      "Vitamin A, RAE                    400.000001           400.0\n",
      "Vitamin B-12                        2.666955             1.2\n",
      "Vitamin B-6                         3.371693             0.6\n",
      "Vitamin C, total ascorbic acid     98.347873            25.0\n",
      "Vitamin E (alpha-tocopherol)       21.348647             7.0\n",
      "Vitamin K (phylloquinone)         227.290438            55.0\n",
      "Zinc, Zn                           14.326518             5.0\n",
      "Sodium, Na                       1899.999999          1900.0\n",
      "Energy                          10459.999994         10460.0\n",
      "\n",
      "\n",
      "Constraining nutrients are:\n",
      "['Calcium, Ca', 'Carbohydrate, by difference', 'Iron, Fe', 'Vitamin A, RAE', 'Sodium, Na', 'Energy']\n",
      "Result for restaurant: Poke Bar\n",
      "Cost of diet for M 4-8 is $8.56 per day.\n",
      "\n",
      "\n",
      "Diet (in 100s of grams or milliliters):\n",
      "salmon        0.371517\n",
      "white rice    0.923280\n",
      "kale          6.489605\n",
      "edamame       3.167269\n",
      "dtype: float64\n",
      "\n",
      "\n",
      "With the following nutritional outcomes of interest:\n",
      "                                     Outcome  Recommendation\n",
      "Nutrition                                                   \n",
      "Energy                          10459.999999          5857.6\n",
      "Protein                            68.453133            19.0\n",
      "Fiber, total dietary               44.659597            19.6\n",
      "Folate, DFE                      1321.547002           200.0\n",
      "Calcium, Ca                      1854.139527          1000.0\n",
      "Carbohydrate, by difference       130.000000           130.0\n",
      "Iron, Fe                           17.800823            10.0\n",
      "Magnesium, Mg                     452.873397           130.0\n",
      "Niacin                             16.077025             8.0\n",
      "Phosphorus, P                    1056.005901           500.0\n",
      "Potassium, K                     3800.000000          3800.0\n",
      "Riboflavin                          2.803957             0.6\n",
      "Thiamin                             1.520420             0.6\n",
      "Vitamin A, RAE                   1667.891786           400.0\n",
      "Vitamin B-12                        1.200000             1.2\n",
      "Vitamin B-6                         1.950708             0.6\n",
      "Vitamin C, total ascorbic acid    624.364548            25.0\n",
      "Vitamin E (alpha-tocopherol)        8.870855             7.0\n",
      "Vitamin K (phylloquinone)        2617.536122            55.0\n",
      "Zinc, Zn                            7.615784             5.0\n",
      "Sodium, Na                        768.111733          1900.0\n",
      "Energy                          10459.999999         10460.0\n",
      "\n",
      "\n",
      "Constraining nutrients are:\n",
      "['Carbohydrate, by difference', 'Potassium, K', 'Vitamin B-12', 'Energy']\n",
      "Result for restaurant: Thai Basil\n",
      "Cost of diet for F 9-13 is $7.37 per day.\n",
      "\n",
      "\n",
      "Diet (in 100s of grams or milliliters):\n",
      "egg         3.307190\n",
      "carrots     5.560350\n",
      "rice        0.076731\n",
      "broccoli    0.588235\n",
      "peanuts     3.369259\n",
      "tofu        4.324780\n",
      "dtype: float64\n",
      "\n",
      "\n",
      "With the following nutritional outcomes of interest:\n",
      "                                     Outcome  Recommendation\n",
      "Nutrition                                                   \n",
      "Energy                          11715.199774          6694.4\n",
      "Protein                           180.385336            34.0\n",
      "Fiber, total dietary               51.190416            22.4\n",
      "Folate, DFE                       805.252902           300.0\n",
      "Calcium, Ca                      1300.000001          1300.0\n",
      "Carbohydrate, by difference       130.000002           130.0\n",
      "Iron, Fe                           22.682535             8.0\n",
      "Magnesium, Mg                     697.181679           240.0\n",
      "Niacin                             49.984228            12.0\n",
      "Phosphorus, P                    2156.823280          1250.0\n",
      "Potassium, K                     4500.001608          4500.0\n",
      "Riboflavin                          2.422377             0.9\n",
      "Thiamin                             2.868402             0.9\n",
      "Vitamin A, RAE                    600.000004           600.0\n",
      "Vitamin B-12                        3.373333             1.8\n",
      "Vitamin B-6                         2.300046             1.0\n",
      "Vitamin C, total ascorbic acid     58.463145            45.0\n",
      "Vitamin E (alpha-tocopherol)       22.190574            11.0\n",
      "Vitamin K (phylloquinone)          60.000001            60.0\n",
      "Zinc, Zn                           20.679568             8.0\n",
      "Sodium, Na                       1106.402208          2200.0\n",
      "Energy                          11715.199774         11715.2\n",
      "\n",
      "\n",
      "Constraining nutrients are:\n",
      "['Calcium, Ca', 'Carbohydrate, by difference', 'Vitamin A, RAE', 'Vitamin K (phylloquinone)']\n",
      "Result for restaurant: Ttoust\n",
      "Cost of diet for F 9-13 is $5.88 per day.\n",
      "\n",
      "\n",
      "Diet (in 100s of grams or milliliters):\n",
      "Egg            1.764706\n",
      "Spinach        4.591837\n",
      "Sesame         0.427184\n",
      "Brown Sugar    0.085821\n",
      "Flour          4.891728\n",
      "dtype: float64\n",
      "\n",
      "\n",
      "With the following nutritional outcomes of interest:\n",
      "                                     Outcome  Recommendation\n",
      "Nutrition                                                   \n",
      "Energy                          11715.199995          6694.4\n",
      "Protein                            90.103584            34.0\n",
      "Fiber, total dietary               80.142816            22.4\n",
      "Folate, DFE                       848.813380           300.0\n",
      "Calcium, Ca                      1300.000000          1300.0\n",
      "Carbohydrate, by difference       401.848934           130.0\n",
      "Iron, Fe                           43.703752             8.0\n",
      "Magnesium, Mg                    1141.881150           240.0\n",
      "Niacin                             30.334805            12.0\n",
      "Phosphorus, P                    2430.575540          1250.0\n",
      "Potassium, K                     4500.000000          4500.0\n",
      "Riboflavin                          2.848245             0.9\n",
      "Thiamin                             2.362852             0.9\n",
      "Vitamin A, RAE                   2723.769508           600.0\n",
      "Vitamin B-12                        1.800000             1.8\n",
      "Vitamin B-6                         2.494196             1.0\n",
      "Vitamin C, total ascorbic acid     45.000000            45.0\n",
      "Vitamin E (alpha-tocopherol)       12.250432            11.0\n",
      "Vitamin K (phylloquinone)        2275.824896            60.0\n",
      "Zinc, Zn                           23.468221             8.0\n",
      "Sodium, Na                        568.449837          2200.0\n",
      "Energy                          11715.199995         11715.2\n",
      "\n",
      "\n",
      "Constraining nutrients are:\n",
      "['Calcium, Ca', 'Potassium, K', 'Vitamin B-12', 'Vitamin C, total ascorbic acid', 'Energy']\n",
      "Result for restaurant: IB\n",
      "Cost of diet for F 9-13 is $6.05 per day.\n",
      "\n",
      "\n",
      "Diet (in 100s of grams or milliliters):\n",
      "bun                0.181859\n",
      "ketchup            0.977317\n",
      "onion              0.555479\n",
      "lettuce            0.239637\n",
      "cheddar cheese     0.758205\n",
      "grilled onion      0.008636\n",
      "sandwich bun       0.181859\n",
      "avocado           10.157771\n",
      "cheese             0.758205\n",
      "dtype: float64\n",
      "\n",
      "\n",
      "With the following nutritional outcomes of interest:\n",
      "                                     Outcome  Recommendation\n",
      "Nutrition                                                   \n",
      "Energy                          11715.199936          6694.4\n",
      "Protein                            64.595127            34.0\n",
      "Fiber, total dietary               70.985601            22.4\n",
      "Folate, DFE                       995.627697           300.0\n",
      "Calcium, Ca                      1300.000000          1300.0\n",
      "Carbohydrate, by difference       130.000000           130.0\n",
      "Iron, Fe                            8.000000             8.0\n",
      "Magnesium, Mg                     365.509036           240.0\n",
      "Niacin                             22.291853            12.0\n",
      "Phosphorus, P                    1354.550457          1250.0\n",
      "Potassium, K                     5734.016059          4500.0\n",
      "Riboflavin                          2.381285             0.9\n",
      "Thiamin                             0.939872             0.9\n",
      "Vitamin A, RAE                    600.000000           600.0\n",
      "Vitamin B-12                        1.800000             1.8\n",
      "Vitamin B-6                         3.349488             1.0\n",
      "Vitamin C, total ascorbic acid    100.806829            45.0\n",
      "Vitamin E (alpha-tocopherol)       22.811623            11.0\n",
      "Vitamin K (phylloquinone)         252.082414            60.0\n",
      "Zinc, Zn                           13.880094             8.0\n",
      "Sodium, Na                       2200.000000          2200.0\n",
      "Energy                          11715.199936         11715.2\n",
      "\n",
      "\n",
      "Constraining nutrients are:\n",
      "['Calcium, Ca', 'Carbohydrate, by difference', 'Iron, Fe', 'Vitamin A, RAE', 'Vitamin B-12', 'Sodium, Na', 'Energy']\n"
     ]
    },
    {
     "name": "stderr",
     "output_type": "stream",
     "text": [
      "/tmp/ipykernel_198/2046845037.py:22: UserWarning: Prices have no units.  BE CAREFUL!  We're assuming prices are per hectogram or deciliter!\n",
      "  warnings.warn(\"Prices have no units.  BE CAREFUL!  We're assuming prices are per hectogram or deciliter!\")\n",
      "/tmp/ipykernel_198/2046845037.py:22: UserWarning: Prices have no units.  BE CAREFUL!  We're assuming prices are per hectogram or deciliter!\n",
      "  warnings.warn(\"Prices have no units.  BE CAREFUL!  We're assuming prices are per hectogram or deciliter!\")\n",
      "/tmp/ipykernel_198/2046845037.py:22: UserWarning: Prices have no units.  BE CAREFUL!  We're assuming prices are per hectogram or deciliter!\n",
      "  warnings.warn(\"Prices have no units.  BE CAREFUL!  We're assuming prices are per hectogram or deciliter!\")\n",
      "/tmp/ipykernel_198/2046845037.py:22: UserWarning: Prices have no units.  BE CAREFUL!  We're assuming prices are per hectogram or deciliter!\n",
      "  warnings.warn(\"Prices have no units.  BE CAREFUL!  We're assuming prices are per hectogram or deciliter!\")\n",
      "/tmp/ipykernel_198/2046845037.py:22: UserWarning: Prices have no units.  BE CAREFUL!  We're assuming prices are per hectogram or deciliter!\n",
      "  warnings.warn(\"Prices have no units.  BE CAREFUL!  We're assuming prices are per hectogram or deciliter!\")\n"
     ]
    },
    {
     "name": "stdout",
     "output_type": "stream",
     "text": [
      "Result for restaurant: Poke Bar\n",
      "Cost of diet for F 9-13 is $10.49 per day.\n",
      "\n",
      "\n",
      "Diet (in 100s of grams or milliliters):\n",
      "salmon         0.631523\n",
      "white rice     0.811563\n",
      "green onion    0.000002\n",
      "kale           7.716063\n",
      "ahi tuna       0.035968\n",
      "edamame        3.576420\n",
      "dtype: float64\n",
      "\n",
      "\n",
      "With the following nutritional outcomes of interest:\n",
      "                                     Outcome  Recommendation\n",
      "Nutrition                                                   \n",
      "Energy                          11715.199866          6694.4\n",
      "Protein                            82.175537            34.0\n",
      "Fiber, total dietary               51.465709            22.4\n",
      "Folate, DFE                      1521.241534           300.0\n",
      "Calcium, Ca                      2192.884051          1300.0\n",
      "Carbohydrate, by difference       130.000032           130.0\n",
      "Iron, Fe                           20.757550             8.0\n",
      "Magnesium, Mg                     523.046864           240.0\n",
      "Niacin                             20.406091            12.0\n",
      "Phosphorus, P                    1250.000011          1250.0\n",
      "Potassium, K                     4500.000074          4500.0\n",
      "Riboflavin                          3.332462             0.9\n",
      "Thiamin                             1.773884             0.9\n",
      "Vitamin A, RAE                   1989.762169           600.0\n",
      "Vitamin B-12                        2.108160             1.8\n",
      "Vitamin B-6                         2.324460             1.0\n",
      "Vitamin C, total ascorbic acid    742.134210            45.0\n",
      "Vitamin E (alpha-tocopherol)       11.000201            11.0\n",
      "Vitamin K (phylloquinone)        3106.991435            60.0\n",
      "Zinc, Zn                            8.671996             8.0\n",
      "Sodium, Na                        901.747814          2200.0\n",
      "Energy                          11715.199866         11715.2\n",
      "\n",
      "\n",
      "Constraining nutrients are:\n",
      "['Carbohydrate, by difference', 'Phosphorus, P', 'Potassium, K']\n",
      "Result for restaurant: Thai Basil\n",
      "Cost of diet for M 9-13 is $7.35 per day.\n",
      "\n",
      "\n",
      "Diet (in 100s of grams or milliliters):\n",
      "egg         3.307190\n",
      "carrots     4.722822\n",
      "rice        0.115391\n",
      "broccoli    0.588235\n",
      "peanuts     3.704435\n",
      "tofu        4.294345\n",
      "dtype: float64\n",
      "\n",
      "\n",
      "With the following nutritional outcomes of interest:\n",
      "                                     Outcome  Recommendation\n",
      "Nutrition                                                   \n",
      "Energy                          12551.999994          7531.2\n",
      "Protein                           187.976056            34.0\n",
      "Fiber, total dietary               51.439205            25.2\n",
      "Folate, DFE                       885.360071           300.0\n",
      "Calcium, Ca                      1300.000000          1300.0\n",
      "Carbohydrate, by difference       130.000000           130.0\n",
      "Iron, Fe                           23.368340             8.0\n",
      "Magnesium, Mg                     744.954942           240.0\n",
      "Niacin                             53.002797            12.0\n",
      "Phosphorus, P                    2254.482373          1250.0\n",
      "Potassium, K                     4500.000083          4500.0\n",
      "Riboflavin                          2.386720             0.9\n",
      "Thiamin                             3.036313             0.9\n",
      "Vitamin A, RAE                    600.000000           600.0\n",
      "Vitamin B-12                        3.373333             1.8\n",
      "Vitamin B-6                         2.296084             1.0\n",
      "Vitamin C, total ascorbic acid     58.429662            45.0\n",
      "Vitamin E (alpha-tocopherol)       24.389332            11.0\n",
      "Vitamin K (phylloquinone)          60.000000            60.0\n",
      "Zinc, Zn                           22.012413             8.0\n",
      "Sodium, Na                       1036.371133          2200.0\n",
      "Energy                          12551.999994         12552.0\n",
      "\n",
      "\n",
      "Constraining nutrients are:\n",
      "['Calcium, Ca', 'Carbohydrate, by difference', 'Potassium, K', 'Vitamin A, RAE', 'Vitamin K (phylloquinone)', 'Energy']\n"
     ]
    },
    {
     "name": "stderr",
     "output_type": "stream",
     "text": [
      "/tmp/ipykernel_198/2046845037.py:22: UserWarning: Prices have no units.  BE CAREFUL!  We're assuming prices are per hectogram or deciliter!\n",
      "  warnings.warn(\"Prices have no units.  BE CAREFUL!  We're assuming prices are per hectogram or deciliter!\")\n",
      "/tmp/ipykernel_198/2046845037.py:22: UserWarning: Prices have no units.  BE CAREFUL!  We're assuming prices are per hectogram or deciliter!\n",
      "  warnings.warn(\"Prices have no units.  BE CAREFUL!  We're assuming prices are per hectogram or deciliter!\")\n",
      "/tmp/ipykernel_198/2046845037.py:22: UserWarning: Prices have no units.  BE CAREFUL!  We're assuming prices are per hectogram or deciliter!\n",
      "  warnings.warn(\"Prices have no units.  BE CAREFUL!  We're assuming prices are per hectogram or deciliter!\")\n",
      "/tmp/ipykernel_198/2046845037.py:22: UserWarning: Prices have no units.  BE CAREFUL!  We're assuming prices are per hectogram or deciliter!\n",
      "  warnings.warn(\"Prices have no units.  BE CAREFUL!  We're assuming prices are per hectogram or deciliter!\")\n"
     ]
    },
    {
     "name": "stdout",
     "output_type": "stream",
     "text": [
      "Result for restaurant: Ttoust\n",
      "Cost of diet for M 9-13 is $5.88 per day.\n",
      "\n",
      "\n",
      "Diet (in 100s of grams or milliliters):\n",
      "Egg            1.764706\n",
      "Spinach        4.591837\n",
      "Sesame         0.422279\n",
      "Brown Sugar    0.116420\n",
      "Flour          4.897554\n",
      "dtype: float64\n",
      "\n",
      "\n",
      "With the following nutritional outcomes of interest:\n",
      "                                     Outcome  Recommendation\n",
      "Nutrition                                                   \n",
      "Energy                          12551.999977          7531.2\n",
      "Protein                            90.072611            34.0\n",
      "Fiber, total dietary               80.161259            25.2\n",
      "Folate, DFE                       848.500747           300.0\n",
      "Calcium, Ca                      1300.000000          1300.0\n",
      "Carbohydrate, by difference       405.227730           130.0\n",
      "Iron, Fe                           43.654002             8.0\n",
      "Magnesium, Mg                    1140.841225           240.0\n",
      "Niacin                             30.343812            12.0\n",
      "Phosphorus, P                    2429.372240          1250.0\n",
      "Potassium, K                     4500.000000          4500.0\n",
      "Riboflavin                          2.848128             0.9\n",
      "Thiamin                             2.360703             0.9\n",
      "Vitamin A, RAE                   2723.769507           600.0\n",
      "Vitamin B-12                        1.800000             1.8\n",
      "Vitamin B-6                         2.491434             1.0\n",
      "Vitamin C, total ascorbic acid     45.000000            45.0\n",
      "Vitamin E (alpha-tocopherol)       12.252294            11.0\n",
      "Vitamin K (phylloquinone)        2275.835964            60.0\n",
      "Zinc, Zn                           23.447454             8.0\n",
      "Sodium, Na                        568.413363          2200.0\n",
      "Energy                          12551.999977         12552.0\n",
      "\n",
      "\n",
      "Constraining nutrients are:\n",
      "['Calcium, Ca', 'Potassium, K', 'Vitamin B-12', 'Vitamin C, total ascorbic acid', 'Energy']\n",
      "Result for restaurant: IB\n",
      "Cost of diet for M 9-13 is $6.05 per day.\n",
      "\n",
      "\n",
      "Diet (in 100s of grams or milliliters):\n",
      "bun                0.181854\n",
      "ketchup            0.975725\n",
      "onion              0.551738\n",
      "lettuce            0.239762\n",
      "cheddar cheese     0.758212\n",
      "grilled onion      0.015523\n",
      "sandwich bun       0.181854\n",
      "avocado           10.156659\n",
      "cheese             0.758212\n",
      "dtype: float64\n",
      "\n",
      "\n",
      "With the following nutritional outcomes of interest:\n",
      "                                     Outcome  Recommendation\n",
      "Nutrition                                                   \n",
      "Energy                          12551.998075          7531.2\n",
      "Protein                            64.598407            34.0\n",
      "Fiber, total dietary               70.971354            25.2\n",
      "Folate, DFE                       995.447839           300.0\n",
      "Calcium, Ca                      1300.000001          1300.0\n",
      "Carbohydrate, by difference       130.000000           130.0\n",
      "Iron, Fe                            8.000000             8.0\n",
      "Magnesium, Mg                     365.418873           240.0\n",
      "Niacin                             22.287032            12.0\n",
      "Phosphorus, P                    1354.348760          1250.0\n",
      "Potassium, K                     5732.507259          4500.0\n",
      "Riboflavin                          2.380775             0.9\n",
      "Thiamin                             0.939606             0.9\n",
      "Vitamin A, RAE                    600.000000           600.0\n",
      "Vitamin B-12                        1.800000             1.8\n",
      "Vitamin B-6                         3.348478             1.0\n",
      "Vitamin C, total ascorbic acid    100.797006            45.0\n",
      "Vitamin E (alpha-tocopherol)       22.807069            11.0\n",
      "Vitamin K (phylloquinone)         252.068514            60.0\n",
      "Zinc, Zn                           13.878494             8.0\n",
      "Sodium, Na                       2200.000000          2200.0\n",
      "Energy                          12551.998075         12552.0\n",
      "\n",
      "\n",
      "Constraining nutrients are:\n",
      "['Calcium, Ca', 'Carbohydrate, by difference', 'Iron, Fe', 'Vitamin A, RAE', 'Vitamin B-12', 'Sodium, Na']\n",
      "Result for restaurant: Poke Bar\n",
      "Cost of diet for M 9-13 is $10.19 per day.\n",
      "\n",
      "\n",
      "Diet (in 100s of grams or milliliters):\n",
      "salmon         0.593711\n",
      "white rice     0.790559\n",
      "green onion    0.000001\n",
      "kale           7.319178\n",
      "edamame        3.974708\n",
      "dtype: float64\n",
      "\n",
      "\n",
      "With the following nutritional outcomes of interest:\n",
      "                                     Outcome  Recommendation\n",
      "Nutrition                                                   \n",
      "Energy                          12551.999702          7531.2\n",
      "Protein                            83.908543            34.0\n",
      "Fiber, total dietary               51.779511            25.2\n",
      "Folate, DFE                      1609.154159           300.0\n",
      "Calcium, Ca                      2114.777372          1300.0\n",
      "Carbohydrate, by difference       130.000011           130.0\n",
      "Iron, Fe                           20.933600             8.0\n",
      "Magnesium, Mg                     531.664527           240.0\n",
      "Niacin                             19.354430            12.0\n",
      "Phosphorus, P                    1274.372281          1250.0\n",
      "Potassium, K                     4500.000292          4500.0\n",
      "Riboflavin                          3.244588             0.9\n",
      "Thiamin                             1.790409             0.9\n",
      "Vitamin A, RAE                   1901.699711           600.0\n",
      "Vitamin B-12                        1.917686             1.8\n",
      "Vitamin B-6                         2.247345             1.0\n",
      "Vitamin C, total ascorbic acid    706.992633            45.0\n",
      "Vitamin E (alpha-tocopherol)       11.000000            11.0\n",
      "Vitamin K (phylloquinone)        2963.537971            60.0\n",
      "Zinc, Zn                            8.987024             8.0\n",
      "Sodium, Na                        927.733534          2200.0\n",
      "Energy                          12551.999702         12552.0\n",
      "\n",
      "\n",
      "Constraining nutrients are:\n",
      "['Carbohydrate, by difference', 'Vitamin E (alpha-tocopherol)']\n",
      "Result for restaurant: Thai Basil\n",
      "Cost of diet for F 14-18 is $7.56 per day.\n",
      "\n",
      "\n",
      "Diet (in 100s of grams or milliliters):\n",
      "egg         3.856209\n",
      "carrots     4.790331\n",
      "rice        0.071868\n",
      "broccoli    0.735294\n",
      "peanuts     3.802057\n",
      "tofu        4.001710\n",
      "dtype: float64\n",
      "\n",
      "\n",
      "With the following nutritional outcomes of interest:\n",
      "                                     Outcome  Recommendation\n",
      "Nutrition                                                   \n",
      "Energy                          12970.399993          7531.2\n",
      "Protein                           194.186865            46.0\n",
      "Fiber, total dietary               52.545742            25.2\n",
      "Folate, DFE                       908.691701           400.0\n",
      "Calcium, Ca                      1300.000000          1300.0\n",
      "Carbohydrate, by difference       130.000000           130.0\n",
      "Iron, Fe                           24.141636            15.0\n",
      "Magnesium, Mg                     770.839172           360.0\n",
      "Niacin                             54.345353            14.0\n",
      "Phosphorus, P                    2401.047682          1250.0\n",
      "Potassium, K                     4700.000002          4700.0\n",
      "Riboflavin                          2.652726             1.0\n",
      "Thiamin                             3.154129             1.0\n",
      "Vitamin A, RAE                    700.000000           700.0\n",
      "Vitamin B-12                        3.933333             2.4\n",
      "Vitamin B-6                         2.400104             1.2\n",
      "Vitamin C, total ascorbic acid     71.534234            65.0\n",
      "Vitamin E (alpha-tocopherol)       25.051790            15.0\n",
      "Vitamin K (phylloquinone)          75.000000            75.0\n",
      "Zinc, Zn                           23.151594             9.0\n",
      "Sodium, Na                       1109.440118          2300.0\n",
      "Energy                          12970.399993         12970.4\n",
      "\n",
      "\n",
      "Constraining nutrients are:\n",
      "['Calcium, Ca', 'Carbohydrate, by difference', 'Potassium, K', 'Vitamin A, RAE', 'Vitamin K (phylloquinone)', 'Energy']\n",
      "Result for restaurant: Ttoust\n",
      "Cost of diet for F 14-18 is $6.14 per day.\n",
      "\n",
      "\n",
      "Diet (in 100s of grams or milliliters):\n",
      "Egg            2.352941\n",
      "Spinach        6.632653\n",
      "Sesame         0.152256\n",
      "Brown Sugar    0.225141\n",
      "Flour          3.115075\n",
      "dtype: float64\n",
      "\n",
      "\n",
      "With the following nutritional outcomes of interest:\n",
      "                                     Outcome  Recommendation\n",
      "Nutrition                                                   \n",
      "Energy                          12970.399981          7531.2\n",
      "Protein                            81.510821            46.0\n",
      "Fiber, total dietary               58.522474            25.2\n",
      "Folate, DFE                      1070.358270           400.0\n",
      "Calcium, Ca                      1300.000000          1300.0\n",
      "Carbohydrate, by difference       285.226577           130.0\n",
      "Iron, Fe                           41.380235            15.0\n",
      "Magnesium, Mg                    1021.769956           360.0\n",
      "Niacin                             20.593743            14.0\n",
      "Phosphorus, P                    1906.308014          1250.0\n",
      "Potassium, K                     4700.000000          4700.0\n",
      "Riboflavin                          3.174430             1.0\n",
      "Thiamin                             1.856890             1.0\n",
      "Vitamin A, RAE                   3899.039609           700.0\n",
      "Vitamin B-12                        2.400000             2.4\n",
      "Vitamin B-6                         2.468599             1.2\n",
      "Vitamin C, total ascorbic acid     65.000000            65.0\n",
      "Vitamin E (alpha-tocopherol)       15.484972            15.0\n",
      "Vitamin K (phylloquinone)        3279.796188            75.0\n",
      "Zinc, Zn                           18.359069             9.0\n",
      "Sodium, Na                        778.835166          2300.0\n",
      "Energy                          12970.399981         12970.4\n",
      "\n",
      "\n",
      "Constraining nutrients are:\n",
      "['Calcium, Ca', 'Potassium, K', 'Vitamin B-12', 'Vitamin C, total ascorbic acid', 'Energy']\n",
      "Result for restaurant: IB\n",
      "Cost of diet for F 14-18 is $9.07 per day.\n",
      "\n",
      "\n",
      "Diet (in 100s of grams or milliliters):\n",
      "bun                1.223376\n",
      "onion              0.000002\n",
      "lettuce            2.173746\n",
      "cheddar cheese     0.492827\n",
      "sandwich bun       1.223376\n",
      "avocado           11.840989\n",
      "cheese             0.492827\n",
      "dtype: float64\n",
      "\n",
      "\n",
      "With the following nutritional outcomes of interest:\n",
      "                                     Outcome  Recommendation\n",
      "Nutrition                                                   \n",
      "Energy                          12970.399888          7531.2\n",
      "Protein                            89.802002            46.0\n",
      "Fiber, total dietary               85.791354            25.2\n",
      "Folate, DFE                      1312.315000           400.0\n",
      "Calcium, Ca                      1300.000013          1300.0\n",
      "Carbohydrate, by difference       154.612404           130.0\n",
      "Iron, Fe                           15.000000            15.0\n",
      "Magnesium, Mg                     449.641869           360.0\n",
      "Niacin                             31.964231            14.0\n",
      "Phosphorus, P                    1559.566872          1250.0\n",
      "Potassium, K                     7052.964663          4700.0\n",
      "Riboflavin                          2.794072             1.0\n",
      "Thiamin                             1.632049             1.0\n",
      "Vitamin A, RAE                   1254.056871           700.0\n",
      "Vitamin B-12                        3.999220             2.4\n",
      "Vitamin B-6                         4.191531             1.2\n",
      "Vitamin C, total ascorbic acid    131.294772            65.0\n",
      "Vitamin E (alpha-tocopherol)       25.430147            15.0\n",
      "Vitamin K (phylloquinone)         537.070224            75.0\n",
      "Zinc, Zn                           18.906997             9.0\n",
      "Sodium, Na                       2299.999966          2300.0\n",
      "Energy                          12970.399888         12970.4\n",
      "\n",
      "\n",
      "Constraining nutrients are:\n",
      "['Calcium, Ca', 'Iron, Fe', 'Sodium, Na']\n",
      "Result for restaurant: Poke Bar\n",
      "Cost of diet for F 14-18 is $12.59 per day.\n",
      "\n",
      "\n",
      "Diet (in 100s of grams or milliliters):\n",
      "salmon        1.843038\n",
      "white rice    0.834238\n",
      "kale          7.086777\n",
      "edamame       3.688175\n",
      "dtype: float64\n",
      "\n",
      "\n",
      "With the following nutritional outcomes of interest:\n",
      "                                     Outcome  Recommendation\n",
      "Nutrition                                                   \n",
      "Energy                          12970.400000          7531.2\n",
      "Protein                           105.705959            46.0\n",
      "Fiber, total dietary               49.498833            25.2\n",
      "Folate, DFE                      1545.454163           400.0\n",
      "Calcium, Ca                      2049.949862          1300.0\n",
      "Carbohydrate, by difference       130.000000           130.0\n",
      "Iron, Fe                           20.371445            15.0\n",
      "Magnesium, Mg                     541.490863           360.0\n",
      "Niacin                             29.773625            14.0\n",
      "Phosphorus, P                    1518.717950          1250.0\n",
      "Potassium, K                     4755.033328          4700.0\n",
      "Riboflavin                          3.315528             1.0\n",
      "Thiamin                             1.976064             1.0\n",
      "Vitamin A, RAE                   1910.702129           700.0\n",
      "Vitamin B-12                        5.953014             2.4\n",
      "Vitamin B-6                         2.994420             1.2\n",
      "Vitamin C, total ascorbic acid    688.640189            65.0\n",
      "Vitamin E (alpha-tocopherol)       15.000000            15.0\n",
      "Vitamin K (phylloquinone)        2865.567723            75.0\n",
      "Zinc, Zn                            9.000000             9.0\n",
      "Sodium, Na                        952.736671          2300.0\n",
      "Energy                          12970.400000         12970.4\n",
      "\n",
      "\n",
      "Constraining nutrients are:\n",
      "['Carbohydrate, by difference', 'Vitamin E (alpha-tocopherol)', 'Zinc, Zn', 'Energy']\n"
     ]
    },
    {
     "name": "stderr",
     "output_type": "stream",
     "text": [
      "/tmp/ipykernel_198/2046845037.py:22: UserWarning: Prices have no units.  BE CAREFUL!  We're assuming prices are per hectogram or deciliter!\n",
      "  warnings.warn(\"Prices have no units.  BE CAREFUL!  We're assuming prices are per hectogram or deciliter!\")\n",
      "/tmp/ipykernel_198/2046845037.py:22: UserWarning: Prices have no units.  BE CAREFUL!  We're assuming prices are per hectogram or deciliter!\n",
      "  warnings.warn(\"Prices have no units.  BE CAREFUL!  We're assuming prices are per hectogram or deciliter!\")\n",
      "/tmp/ipykernel_198/2046845037.py:22: UserWarning: Prices have no units.  BE CAREFUL!  We're assuming prices are per hectogram or deciliter!\n",
      "  warnings.warn(\"Prices have no units.  BE CAREFUL!  We're assuming prices are per hectogram or deciliter!\")\n",
      "/tmp/ipykernel_198/2046845037.py:22: UserWarning: Prices have no units.  BE CAREFUL!  We're assuming prices are per hectogram or deciliter!\n",
      "  warnings.warn(\"Prices have no units.  BE CAREFUL!  We're assuming prices are per hectogram or deciliter!\")\n"
     ]
    },
    {
     "name": "stdout",
     "output_type": "stream",
     "text": [
      "Result for restaurant: Thai Basil\n",
      "Cost of diet for M 14-18 is $7.89 per day.\n",
      "\n",
      "\n",
      "Diet (in 100s of grams or milliliters):\n",
      "egg         4.925740\n",
      "peas        0.207583\n",
      "carrots     4.847558\n",
      "rice        0.078538\n",
      "broccoli    0.684823\n",
      "peanuts     3.522295\n",
      "tofu        3.793047\n",
      "dtype: float64\n",
      "\n",
      "\n",
      "With the following nutritional outcomes of interest:\n",
      "                                     Outcome  Recommendation\n",
      "Nutrition                                                   \n",
      "Energy                          12970.400000          9204.8\n",
      "Protein                           199.218769            52.0\n",
      "Fiber, total dietary               51.222502            30.8\n",
      "Folate, DFE                       855.321286           400.0\n",
      "Calcium, Ca                      1300.000000          1300.0\n",
      "Carbohydrate, by difference       130.000000           130.0\n",
      "Iron, Fe                           25.142113            11.0\n",
      "Magnesium, Mg                     741.847944           410.0\n",
      "Niacin                             51.373684            16.0\n",
      "Phosphorus, P                    2513.474101          1250.0\n",
      "Potassium, K                     4700.000001          4700.0\n",
      "Riboflavin                          3.091295             1.3\n",
      "Thiamin                             3.109448             1.2\n",
      "Vitamin A, RAE                    900.000000           900.0\n",
      "Vitamin B-12                        5.024255             2.4\n",
      "Vitamin B-6                         2.404807             1.3\n",
      "Vitamin C, total ascorbic acid     75.000000            75.0\n",
      "Vitamin E (alpha-tocopherol)       23.235962            15.0\n",
      "Vitamin K (phylloquinone)          75.000000            75.0\n",
      "Zinc, Zn                           23.496134            11.0\n",
      "Sodium, Na                       1241.939110          2300.0\n",
      "Energy                          12970.400000         12970.4\n",
      "\n",
      "\n",
      "Constraining nutrients are:\n",
      "['Calcium, Ca', 'Carbohydrate, by difference', 'Potassium, K', 'Vitamin A, RAE', 'Vitamin C, total ascorbic acid', 'Vitamin K (phylloquinone)', 'Energy']\n"
     ]
    },
    {
     "name": "stderr",
     "output_type": "stream",
     "text": [
      "/tmp/ipykernel_198/2046845037.py:22: UserWarning: Prices have no units.  BE CAREFUL!  We're assuming prices are per hectogram or deciliter!\n",
      "  warnings.warn(\"Prices have no units.  BE CAREFUL!  We're assuming prices are per hectogram or deciliter!\")\n",
      "/tmp/ipykernel_198/2046845037.py:22: UserWarning: Prices have no units.  BE CAREFUL!  We're assuming prices are per hectogram or deciliter!\n",
      "  warnings.warn(\"Prices have no units.  BE CAREFUL!  We're assuming prices are per hectogram or deciliter!\")\n",
      "/tmp/ipykernel_198/2046845037.py:22: UserWarning: Prices have no units.  BE CAREFUL!  We're assuming prices are per hectogram or deciliter!\n",
      "  warnings.warn(\"Prices have no units.  BE CAREFUL!  We're assuming prices are per hectogram or deciliter!\")\n",
      "/tmp/ipykernel_198/2046845037.py:22: UserWarning: Prices have no units.  BE CAREFUL!  We're assuming prices are per hectogram or deciliter!\n",
      "  warnings.warn(\"Prices have no units.  BE CAREFUL!  We're assuming prices are per hectogram or deciliter!\")\n"
     ]
    },
    {
     "name": "stdout",
     "output_type": "stream",
     "text": [
      "Result for restaurant: Ttoust\n",
      "Cost of diet for M 14-18 is $6.16 per day.\n",
      "\n",
      "\n",
      "Diet (in 100s of grams or milliliters):\n",
      "Egg                2.352941\n",
      "Purple Cabbage     0.038374\n",
      "Spinach            7.429868\n",
      "Sesame             0.060869\n",
      "Brown Sugar        0.273601\n",
      "Flour              2.257061\n",
      "dtype: float64\n",
      "\n",
      "\n",
      "With the following nutritional outcomes of interest:\n",
      "                                     Outcome  Recommendation\n",
      "Nutrition                                                   \n",
      "Energy                          12970.399995          9204.8\n",
      "Protein                            74.067605            52.0\n",
      "Fiber, total dietary               48.198011            30.8\n",
      "Folate, DFE                      1154.553447           400.0\n",
      "Calcium, Ca                      1300.000000          1300.0\n",
      "Carbohydrate, by difference       227.296957           130.0\n",
      "Iron, Fe                           39.744072            11.0\n",
      "Magnesium, Mg                     959.276994           410.0\n",
      "Niacin                             16.000000            16.0\n",
      "Phosphorus, P                    1617.481884          1250.0\n",
      "Potassium, K                     4700.000000          4700.0\n",
      "Riboflavin                          3.181341             1.3\n",
      "Thiamin                             1.607964             1.2\n",
      "Vitamin A, RAE                   4318.929349           900.0\n",
      "Vitamin B-12                        2.400000             2.4\n",
      "Vitamin B-6                         2.433468             1.3\n",
      "Vitamin C, total ascorbic acid     75.000000            75.0\n",
      "Vitamin E (alpha-tocopherol)       16.669807            15.0\n",
      "Vitamin K (phylloquinone)        3673.137306            75.0\n",
      "Zinc, Zn                           15.725420            11.0\n",
      "Sodium, Na                        832.097018          2300.0\n",
      "Energy                          12970.399995         12970.4\n",
      "\n",
      "\n",
      "Constraining nutrients are:\n",
      "['Calcium, Ca', 'Niacin', 'Potassium, K', 'Vitamin B-12', 'Vitamin C, total ascorbic acid', 'Energy']\n",
      "Result for restaurant: IB\n",
      "Cost of diet for M 14-18 is $7.21 per day.\n",
      "\n",
      "\n",
      "Diet (in 100s of grams or milliliters):\n",
      "bun                0.500017\n",
      "ketchup            0.025090\n",
      "lettuce            1.026597\n",
      "cheddar cheese     0.673220\n",
      "hot sauce          0.316260\n",
      "sandwich bun       0.500017\n",
      "avocado           11.513386\n",
      "cheese             0.673220\n",
      "dtype: float64\n",
      "\n",
      "\n",
      "With the following nutritional outcomes of interest:\n",
      "                                     Outcome  Recommendation\n",
      "Nutrition                                                   \n",
      "Energy                          11713.816582          9204.8\n",
      "Protein                            73.491626            52.0\n",
      "Fiber, total dietary               81.328936            30.8\n",
      "Folate, DFE                      1161.283850           400.0\n",
      "Calcium, Ca                      1300.000000          1300.0\n",
      "Carbohydrate, by difference       130.000000           130.0\n",
      "Iron, Fe                           11.000000            11.0\n",
      "Magnesium, Mg                     410.000000           410.0\n",
      "Niacin                             26.343767            16.0\n",
      "Phosphorus, P                    1451.062848          1250.0\n",
      "Potassium, K                     6472.952175          4700.0\n",
      "Riboflavin                          2.591279             1.3\n",
      "Thiamin                             1.227355             1.2\n",
      "Vitamin A, RAE                    900.000000           900.0\n",
      "Vitamin B-12                        2.464911             2.4\n",
      "Vitamin B-6                         3.859588             1.3\n",
      "Vitamin C, total ascorbic acid    122.272850            75.0\n",
      "Vitamin E (alpha-tocopherol)       25.862137            15.0\n",
      "Vitamin K (phylloquinone)         382.894471            75.0\n",
      "Zinc, Zn                           15.899589            11.0\n",
      "Sodium, Na                       2300.000000          2300.0\n",
      "Energy                          11713.816582         12970.4\n",
      "\n",
      "\n",
      "Constraining nutrients are:\n",
      "['Calcium, Ca', 'Carbohydrate, by difference', 'Iron, Fe', 'Magnesium, Mg', 'Vitamin A, RAE', 'Sodium, Na']\n",
      "Result for restaurant: Poke Bar\n",
      "Cost of diet for M 14-18 is $15.45 per day.\n",
      "\n",
      "\n",
      "Diet (in 100s of grams or milliliters):\n",
      "salmon         0.693784\n",
      "white rice     0.483775\n",
      "kale          12.933494\n",
      "ahi tuna       0.083725\n",
      "edamame        3.947745\n",
      "dtype: float64\n",
      "\n",
      "\n",
      "With the following nutritional outcomes of interest:\n",
      "                                     Outcome  Recommendation\n",
      "Nutrition                                                   \n",
      "Energy                          12970.400000          9204.8\n",
      "Protein                           102.052348            52.0\n",
      "Fiber, total dietary               73.927109            30.8\n",
      "Folate, DFE                      1951.658645           400.0\n",
      "Calcium, Ca                      3539.429620          1300.0\n",
      "Carbohydrate, by difference       130.000000           130.0\n",
      "Iron, Fe                           29.888492            11.0\n",
      "Magnesium, Mg                     710.076420           410.0\n",
      "Niacin                             27.318059            16.0\n",
      "Phosphorus, P                    1591.277385          1250.0\n",
      "Potassium, K                     6489.490631          4700.0\n",
      "Riboflavin                          5.206152             1.3\n",
      "Thiamin                             2.401007             1.2\n",
      "Vitamin A, RAE                   3261.192390           900.0\n",
      "Vitamin B-12                        2.400000             2.4\n",
      "Vitamin B-6                         3.070658             1.3\n",
      "Vitamin C, total ascorbic acid   1231.700826            75.0\n",
      "Vitamin E (alpha-tocopherol)       15.000000            15.0\n",
      "Vitamin K (phylloquinone)        5150.167602            75.0\n",
      "Zinc, Zn                           11.000000            11.0\n",
      "Sodium, Na                       1230.869840          2300.0\n",
      "Energy                          12970.400000         12970.4\n",
      "\n",
      "\n",
      "Constraining nutrients are:\n",
      "['Carbohydrate, by difference', 'Vitamin B-12', 'Vitamin E (alpha-tocopherol)', 'Zinc, Zn', 'Energy']\n",
      "Result for restaurant: Thai Basil\n",
      "Cost of diet for F 19-30 is $6.26 per day.\n",
      "\n",
      "\n",
      "Diet (in 100s of grams or milliliters):\n",
      "egg         3.849673\n",
      "carrots     3.968611\n",
      "rice        0.136584\n",
      "broccoli    0.882353\n",
      "peanuts     4.064671\n",
      "tofu        1.953617\n",
      "dtype: float64\n",
      "\n",
      "\n",
      "With the following nutritional outcomes of interest:\n",
      "                                     Outcome  Recommendation\n",
      "Nutrition                                                   \n",
      "Energy                          12970.399993          8368.0\n",
      "Protein                           178.409496            46.0\n",
      "Fiber, total dietary               50.776747            28.0\n",
      "Folate, DFE                       971.456283           400.0\n",
      "Calcium, Ca                      1000.000000          1000.0\n",
      "Carbohydrate, by difference       130.000000           130.0\n",
      "Iron, Fe                           21.331229            18.0\n",
      "Magnesium, Mg                     810.011346           310.0\n",
      "Niacin                             56.614720            14.0\n",
      "Phosphorus, P                    2482.861654           700.0\n",
      "Potassium, K                     4700.000089          4700.0\n",
      "Riboflavin                          2.623091             1.1\n",
      "Thiamin                             3.288848             1.1\n",
      "Vitamin A, RAE                    700.000000           700.0\n",
      "Vitamin B-12                        3.926667             2.4\n",
      "Vitamin B-6                         2.402367             1.3\n",
      "Vitamin C, total ascorbic acid     82.707803            75.0\n",
      "Vitamin E (alpha-tocopherol)       26.796592            15.0\n",
      "Vitamin K (phylloquinone)          90.000000            90.0\n",
      "Zinc, Zn                           24.251388             8.0\n",
      "Sodium, Na                        978.051730          2300.0\n",
      "Energy                          12970.399993         12970.4\n",
      "\n",
      "\n",
      "Constraining nutrients are:\n",
      "['Calcium, Ca', 'Carbohydrate, by difference', 'Potassium, K', 'Vitamin A, RAE', 'Vitamin K (phylloquinone)', 'Energy']\n",
      "Result for restaurant: Ttoust\n",
      "Cost of diet for F 19-30 is $5.35 per day.\n",
      "\n",
      "\n",
      "Diet (in 100s of grams or milliliters):\n",
      "Egg                0.899094\n",
      "Purple Cabbage     0.256304\n",
      "Spinach            6.162313\n",
      "Pork               2.213320\n",
      "Flour              2.310570\n",
      "dtype: float64\n",
      "\n",
      "\n",
      "With the following nutritional outcomes of interest:\n",
      "                                     Outcome  Recommendation\n",
      "Nutrition                                                   \n",
      "Energy                          10247.893540          8368.0\n",
      "Protein                            72.495134            46.0\n",
      "Fiber, total dietary               45.596256            28.0\n",
      "Folate, DFE                       969.007078           400.0\n",
      "Calcium, Ca                      1000.000003          1000.0\n",
      "Carbohydrate, by difference       197.952018           130.0\n",
      "Iron, Fe                           32.853664            18.0\n",
      "Magnesium, Mg                     834.088339           310.0\n",
      "Niacin                             21.302317            14.0\n",
      "Phosphorus, P                    1450.444869           700.0\n",
      "Potassium, K                     4700.000009          4700.0\n",
      "Riboflavin                          2.482297             1.1\n",
      "Thiamin                             1.711424             1.1\n",
      "Vitamin A, RAE                   3462.788079           700.0\n",
      "Vitamin B-12                        2.400000             2.4\n",
      "Vitamin B-6                         2.359314             1.3\n",
      "Vitamin C, total ascorbic acid     75.000001            75.0\n",
      "Vitamin E (alpha-tocopherol)       15.000000            15.0\n",
      "Vitamin K (phylloquinone)        3055.898414            90.0\n",
      "Zinc, Zn                           14.021900             8.0\n",
      "Sodium, Na                        665.222996          2300.0\n",
      "Energy                          10247.893540         12970.4\n",
      "\n",
      "\n",
      "Constraining nutrients are:\n",
      "['Calcium, Ca', 'Potassium, K', 'Vitamin B-12', 'Vitamin C, total ascorbic acid', 'Vitamin E (alpha-tocopherol)']\n",
      "Result for restaurant: IB\n",
      "Cost of diet for F 19-30 is $10.59 per day.\n",
      "\n",
      "\n",
      "Diet (in 100s of grams or milliliters):\n",
      "bun                1.515613\n",
      "lettuce            3.878586\n",
      "cheddar cheese     0.173106\n",
      "sandwich bun       1.515613\n",
      "avocado           12.271541\n",
      "cheese             0.173106\n",
      "dtype: float64\n",
      "\n",
      "\n",
      "With the following nutritional outcomes of interest:\n",
      "                                     Outcome  Recommendation\n",
      "Nutrition                                                   \n",
      "Energy                          12970.399999          8368.0\n",
      "Protein                            86.949859            46.0\n",
      "Fiber, total dietary               91.519869            28.0\n",
      "Folate, DFE                      1433.805985           400.0\n",
      "Calcium, Ca                      1000.000000          1000.0\n",
      "Carbohydrate, by difference       172.366226           130.0\n",
      "Iron, Fe                           18.000000            18.0\n",
      "Magnesium, Mg                     479.299802           310.0\n",
      "Niacin                             35.425264            14.0\n",
      "Phosphorus, P                    1434.552200           700.0\n",
      "Potassium, K                     7685.486440          4700.0\n",
      "Riboflavin                          2.833744             1.1\n",
      "Thiamin                             1.901428             1.1\n",
      "Vitamin A, RAE                   1745.405566           700.0\n",
      "Vitamin B-12                        4.184636             2.4\n",
      "Vitamin B-6                         4.545653             1.3\n",
      "Vitamin C, total ascorbic acid    152.463115            75.0\n",
      "Vitamin E (alpha-tocopherol)       26.359200            15.0\n",
      "Vitamin K (phylloquinone)         762.645511            90.0\n",
      "Zinc, Zn                           18.734124             8.0\n",
      "Sodium, Na                       2300.000000          2300.0\n",
      "Energy                          12970.399999         12970.4\n",
      "\n",
      "\n",
      "Constraining nutrients are:\n",
      "['Calcium, Ca', 'Iron, Fe', 'Sodium, Na', 'Energy']\n",
      "Result for restaurant: Poke Bar\n",
      "Cost of diet for F 19-30 is $12.50 per day.\n",
      "\n",
      "\n",
      "Diet (in 100s of grams or milliliters):\n",
      "salmon        1.880272\n",
      "white rice    0.845605\n",
      "kale          6.898159\n",
      "edamame       3.679231\n",
      "dtype: float64\n",
      "\n",
      "\n",
      "With the following nutritional outcomes of interest:\n",
      "                                     Outcome  Recommendation\n",
      "Nutrition                                                   \n",
      "Energy                          12970.399998          8368.0\n",
      "Protein                           105.880300            46.0\n",
      "Fiber, total dietary               48.708064            28.0\n",
      "Folate, DFE                      1532.215554           400.0\n",
      "Calcium, Ca                      2001.944124          1000.0\n",
      "Carbohydrate, by difference       130.000000           130.0\n",
      "Iron, Fe                           20.066619            18.0\n",
      "Magnesium, Mg                     536.115151           310.0\n",
      "Niacin                             29.895467            14.0\n",
      "Phosphorus, P                    1516.927411           700.0\n",
      "Potassium, K                     4700.000001          4700.0\n",
      "Riboflavin                          3.254746             1.1\n",
      "Thiamin                             1.962381             1.1\n",
      "Vitamin A, RAE                   1867.172245           700.0\n",
      "Vitamin B-12                        6.073280             2.4\n",
      "Vitamin B-6                         2.994320             1.3\n",
      "Vitamin C, total ascorbic acid    671.121083            75.0\n",
      "Vitamin E (alpha-tocopherol)       15.000000            15.0\n",
      "Vitamin K (phylloquinone)        2791.849468            90.0\n",
      "Zinc, Zn                            8.937042             8.0\n",
      "Sodium, Na                        943.800901          2300.0\n",
      "Energy                          12970.399998         12970.4\n",
      "\n",
      "\n",
      "Constraining nutrients are:\n",
      "['Carbohydrate, by difference', 'Potassium, K', 'Vitamin E (alpha-tocopherol)', 'Energy']\n"
     ]
    },
    {
     "name": "stderr",
     "output_type": "stream",
     "text": [
      "/tmp/ipykernel_198/2046845037.py:22: UserWarning: Prices have no units.  BE CAREFUL!  We're assuming prices are per hectogram or deciliter!\n",
      "  warnings.warn(\"Prices have no units.  BE CAREFUL!  We're assuming prices are per hectogram or deciliter!\")\n",
      "/tmp/ipykernel_198/2046845037.py:22: UserWarning: Prices have no units.  BE CAREFUL!  We're assuming prices are per hectogram or deciliter!\n",
      "  warnings.warn(\"Prices have no units.  BE CAREFUL!  We're assuming prices are per hectogram or deciliter!\")\n",
      "/tmp/ipykernel_198/2046845037.py:22: UserWarning: Prices have no units.  BE CAREFUL!  We're assuming prices are per hectogram or deciliter!\n",
      "  warnings.warn(\"Prices have no units.  BE CAREFUL!  We're assuming prices are per hectogram or deciliter!\")\n",
      "/tmp/ipykernel_198/2046845037.py:22: UserWarning: Prices have no units.  BE CAREFUL!  We're assuming prices are per hectogram or deciliter!\n",
      "  warnings.warn(\"Prices have no units.  BE CAREFUL!  We're assuming prices are per hectogram or deciliter!\")\n"
     ]
    },
    {
     "name": "stdout",
     "output_type": "stream",
     "text": [
      "Result for restaurant: Thai Basil\n",
      "Cost of diet for M 19-30 is $6.69 per day.\n",
      "\n",
      "\n",
      "Diet (in 100s of grams or milliliters):\n",
      "egg         4.947712\n",
      "peas        0.000002\n",
      "carrots     3.846585\n",
      "rice        0.179986\n",
      "broccoli    1.176470\n",
      "peanuts     3.770186\n",
      "tofu        1.708200\n",
      "dtype: float64\n",
      "\n",
      "\n",
      "With the following nutritional outcomes of interest:\n",
      "                                     Outcome  Recommendation\n",
      "Nutrition                                                   \n",
      "Energy                          12970.398166         10041.6\n",
      "Protein                           182.869406            56.0\n",
      "Fiber, total dietary               48.402672            33.6\n",
      "Folate, DFE                       901.074516           400.0\n",
      "Calcium, Ca                      1000.000019          1000.0\n",
      "Carbohydrate, by difference       130.000025           130.0\n",
      "Iron, Fe                           22.193402             8.0\n",
      "Magnesium, Mg                     777.823316           400.0\n",
      "Niacin                             53.041101            16.0\n",
      "Phosphorus, P                    2591.924736           700.0\n",
      "Potassium, K                     4700.001588          4700.0\n",
      "Riboflavin                          3.066529             1.3\n",
      "Thiamin                             3.199721             1.2\n",
      "Vitamin A, RAE                    900.000052           900.0\n",
      "Vitamin B-12                        5.046667             2.4\n",
      "Vitamin B-6                         2.410319             1.3\n",
      "Vitamin C, total ascorbic acid    109.290848            90.0\n",
      "Vitamin E (alpha-tocopherol)       24.908889            15.0\n",
      "Vitamin K (phylloquinone)         120.000025           120.0\n",
      "Zinc, Zn                           24.454723            11.0\n",
      "Sodium, Na                       1108.887027          2300.0\n",
      "Energy                          12970.398166         12970.4\n",
      "\n",
      "\n",
      "Constraining nutrients are:\n",
      "['Calcium, Ca', 'Carbohydrate, by difference', 'Vitamin A, RAE', 'Vitamin K (phylloquinone)']\n",
      "Result for restaurant: Ttoust\n",
      "Cost of diet for M 19-30 is $5.41 per day.\n",
      "\n",
      "\n",
      "Diet (in 100s of grams or milliliters):\n",
      "Egg                0.748143\n",
      "Purple Cabbage     0.515229\n",
      "Spinach            6.186931\n",
      "Pork               2.443126\n",
      "Flour              1.978106\n",
      "dtype: float64\n",
      "\n",
      "\n",
      "With the following nutritional outcomes of interest:\n",
      "                                     Outcome  Recommendation\n",
      "Nutrition                                                   \n",
      "Energy                          10336.150569         10041.6\n",
      "Protein                            69.997446            56.0\n",
      "Fiber, total dietary               41.843802            33.6\n",
      "Folate, DFE                       967.952967           400.0\n",
      "Calcium, Ca                      1000.000003          1000.0\n",
      "Carbohydrate, by difference       175.045777           130.0\n",
      "Iron, Fe                           31.722910             8.0\n",
      "Magnesium, Mg                     801.132606           400.0\n",
      "Niacin                             20.249316            16.0\n",
      "Phosphorus, P                    1343.734035           700.0\n",
      "Potassium, K                     4700.000022          4700.0\n",
      "Riboflavin                          2.400903             1.3\n",
      "Thiamin                             1.656738             1.2\n",
      "Vitamin A, RAE                   3468.991445           900.0\n",
      "Vitamin B-12                        2.400000             2.4\n",
      "Vitamin B-6                         2.379238             1.3\n",
      "Vitamin C, total ascorbic acid     90.000001            90.0\n",
      "Vitamin E (alpha-tocopherol)       15.000000            15.0\n",
      "Vitamin K (phylloquinone)        3077.309120           120.0\n",
      "Zinc, Zn                           13.064184            11.0\n",
      "Sodium, Na                        664.268057          2300.0\n",
      "Energy                          10336.150569         12970.4\n",
      "\n",
      "\n",
      "Constraining nutrients are:\n",
      "['Calcium, Ca', 'Potassium, K', 'Vitamin B-12', 'Vitamin C, total ascorbic acid', 'Vitamin E (alpha-tocopherol)']\n"
     ]
    },
    {
     "name": "stderr",
     "output_type": "stream",
     "text": [
      "/tmp/ipykernel_198/2046845037.py:22: UserWarning: Prices have no units.  BE CAREFUL!  We're assuming prices are per hectogram or deciliter!\n",
      "  warnings.warn(\"Prices have no units.  BE CAREFUL!  We're assuming prices are per hectogram or deciliter!\")\n",
      "/tmp/ipykernel_198/2046845037.py:22: UserWarning: Prices have no units.  BE CAREFUL!  We're assuming prices are per hectogram or deciliter!\n",
      "  warnings.warn(\"Prices have no units.  BE CAREFUL!  We're assuming prices are per hectogram or deciliter!\")\n",
      "/tmp/ipykernel_198/2046845037.py:22: UserWarning: Prices have no units.  BE CAREFUL!  We're assuming prices are per hectogram or deciliter!\n",
      "  warnings.warn(\"Prices have no units.  BE CAREFUL!  We're assuming prices are per hectogram or deciliter!\")\n",
      "/tmp/ipykernel_198/2046845037.py:22: UserWarning: Prices have no units.  BE CAREFUL!  We're assuming prices are per hectogram or deciliter!\n",
      "  warnings.warn(\"Prices have no units.  BE CAREFUL!  We're assuming prices are per hectogram or deciliter!\")\n"
     ]
    },
    {
     "name": "stdout",
     "output_type": "stream",
     "text": [
      "Result for restaurant: IB\n",
      "Cost of diet for M 19-30 is $7.08 per day.\n",
      "\n",
      "\n",
      "Diet (in 100s of grams or milliliters):\n",
      "bun                0.515668\n",
      "ketchup            0.314521\n",
      "lettuce            1.203287\n",
      "cheddar cheese     0.613574\n",
      "sandwich bun       0.515668\n",
      "avocado           11.212515\n",
      "cheese             0.613574\n",
      "dtype: float64\n",
      "\n",
      "\n",
      "With the following nutritional outcomes of interest:\n",
      "                                     Outcome  Recommendation\n",
      "Nutrition                                                   \n",
      "Energy                          11356.763389         10041.6\n",
      "Protein                            70.459913            56.0\n",
      "Fiber, total dietary               78.935067            33.6\n",
      "Folate, DFE                      1142.513903           400.0\n",
      "Calcium, Ca                      1220.686874          1000.0\n",
      "Carbohydrate, by difference       130.000000           130.0\n",
      "Iron, Fe                           10.617107             8.0\n",
      "Magnesium, Mg                     400.000000           400.0\n",
      "Niacin                             25.957669            16.0\n",
      "Phosphorus, P                    1383.207129           700.0\n",
      "Potassium, K                     6327.875865          4700.0\n",
      "Riboflavin                          2.494838             1.3\n",
      "Thiamin                             1.200000             1.2\n",
      "Vitamin A, RAE                    900.000000           900.0\n",
      "Vitamin B-12                        2.400000             2.4\n",
      "Vitamin B-6                         3.688724             1.3\n",
      "Vitamin C, total ascorbic acid    114.020780            90.0\n",
      "Vitamin E (alpha-tocopherol)       24.130721            15.0\n",
      "Vitamin K (phylloquinone)         396.173953           120.0\n",
      "Zinc, Zn                           15.337759            11.0\n",
      "Sodium, Na                       1841.884707          2300.0\n",
      "Energy                          11356.763389         12970.4\n",
      "\n",
      "\n",
      "Constraining nutrients are:\n",
      "['Carbohydrate, by difference', 'Magnesium, Mg', 'Thiamin', 'Vitamin A, RAE', 'Vitamin B-12']\n",
      "Result for restaurant: Poke Bar\n",
      "Cost of diet for M 19-30 is $15.45 per day.\n",
      "\n",
      "\n",
      "Diet (in 100s of grams or milliliters):\n",
      "salmon         0.693784\n",
      "white rice     0.483775\n",
      "kale          12.933494\n",
      "ahi tuna       0.083725\n",
      "edamame        3.947745\n",
      "dtype: float64\n",
      "\n",
      "\n",
      "With the following nutritional outcomes of interest:\n",
      "                                     Outcome  Recommendation\n",
      "Nutrition                                                   \n",
      "Energy                          12970.399996         10041.6\n",
      "Protein                           102.052347            56.0\n",
      "Fiber, total dietary               73.927109            33.6\n",
      "Folate, DFE                      1951.658640           400.0\n",
      "Calcium, Ca                      3539.429651          1000.0\n",
      "Carbohydrate, by difference       130.000005           130.0\n",
      "Iron, Fe                           29.888492             8.0\n",
      "Magnesium, Mg                     710.076423           400.0\n",
      "Niacin                             27.318059            16.0\n",
      "Phosphorus, P                    1591.277387           700.0\n",
      "Potassium, K                     6489.490665          4700.0\n",
      "Riboflavin                          5.206152             1.3\n",
      "Thiamin                             2.401007             1.2\n",
      "Vitamin A, RAE                   3261.192443           900.0\n",
      "Vitamin B-12                        2.400000             2.4\n",
      "Vitamin B-6                         3.070658             1.3\n",
      "Vitamin C, total ascorbic acid   1231.700838            90.0\n",
      "Vitamin E (alpha-tocopherol)       15.000000            15.0\n",
      "Vitamin K (phylloquinone)        5150.167663           120.0\n",
      "Zinc, Zn                           11.000000            11.0\n",
      "Sodium, Na                       1230.869850          2300.0\n",
      "Energy                          12970.399996         12970.4\n",
      "\n",
      "\n",
      "Constraining nutrients are:\n",
      "['Carbohydrate, by difference', 'Vitamin B-12', 'Vitamin E (alpha-tocopherol)', 'Zinc, Zn', 'Energy']\n",
      "Result for restaurant: Thai Basil\n",
      "Cost of diet for F 31-50 is $6.26 per day.\n",
      "\n",
      "\n",
      "Diet (in 100s of grams or milliliters):\n",
      "egg         3.849673\n",
      "carrots     3.968612\n",
      "rice        0.136584\n",
      "broccoli    0.882353\n",
      "peanuts     4.064671\n",
      "tofu        1.953617\n",
      "dtype: float64\n",
      "\n",
      "\n",
      "With the following nutritional outcomes of interest:\n",
      "                                     Outcome  Recommendation\n",
      "Nutrition                                                   \n",
      "Energy                          12970.399946          7531.2\n",
      "Protein                           178.409496            46.0\n",
      "Fiber, total dietary               50.776749            25.2\n",
      "Folate, DFE                       971.456292           400.0\n",
      "Calcium, Ca                      1000.000000          1000.0\n",
      "Carbohydrate, by difference       130.000000           130.0\n",
      "Iron, Fe                           21.331229            18.0\n",
      "Magnesium, Mg                     810.011358           320.0\n",
      "Niacin                             56.614721            14.0\n",
      "Phosphorus, P                    2482.861684           700.0\n",
      "Potassium, K                     4700.000257          4700.0\n",
      "Riboflavin                          2.623091             1.1\n",
      "Thiamin                             3.288848             1.1\n",
      "Vitamin A, RAE                    700.000001           700.0\n",
      "Vitamin B-12                        3.926667             2.4\n",
      "Vitamin B-6                         2.402367             1.3\n",
      "Vitamin C, total ascorbic acid     82.707803            75.0\n",
      "Vitamin E (alpha-tocopherol)       26.796593            15.0\n",
      "Vitamin K (phylloquinone)          90.000001            90.0\n",
      "Zinc, Zn                           24.251389             8.0\n",
      "Sodium, Na                        978.051772          2300.0\n",
      "Energy                          12970.399946         12970.4\n",
      "\n",
      "\n",
      "Constraining nutrients are:\n",
      "['Calcium, Ca', 'Carbohydrate, by difference', 'Vitamin A, RAE', 'Vitamin K (phylloquinone)', 'Energy']\n",
      "Result for restaurant: Ttoust\n",
      "Cost of diet for F 31-50 is $5.35 per day.\n",
      "\n",
      "\n",
      "Diet (in 100s of grams or milliliters):\n",
      "Egg                0.899094\n",
      "Purple Cabbage     0.256304\n",
      "Spinach            6.162313\n",
      "Pork               2.213320\n",
      "Flour              2.310570\n",
      "dtype: float64\n",
      "\n",
      "\n",
      "With the following nutritional outcomes of interest:\n",
      "                                     Outcome  Recommendation\n",
      "Nutrition                                                   \n",
      "Energy                          10247.875816          7531.2\n",
      "Protein                            72.495133            46.0\n",
      "Fiber, total dietary               45.596257            25.2\n",
      "Folate, DFE                       969.007076           400.0\n",
      "Calcium, Ca                      1000.000000          1000.0\n",
      "Carbohydrate, by difference       197.952023           130.0\n",
      "Iron, Fe                           32.853664            18.0\n",
      "Magnesium, Mg                     834.088350           320.0\n",
      "Niacin                             21.302317            14.0\n",
      "Phosphorus, P                    1450.444905           700.0\n",
      "Potassium, K                     4700.000000          4700.0\n",
      "Riboflavin                          2.482297             1.1\n",
      "Thiamin                             1.711424             1.1\n",
      "Vitamin A, RAE                   3462.788070           700.0\n",
      "Vitamin B-12                        2.400000             2.4\n",
      "Vitamin B-6                         2.359314             1.3\n",
      "Vitamin C, total ascorbic acid     75.000000            75.0\n",
      "Vitamin E (alpha-tocopherol)       15.000000            15.0\n",
      "Vitamin K (phylloquinone)        3055.898402            90.0\n",
      "Zinc, Zn                           14.021900             8.0\n",
      "Sodium, Na                        665.222953          2300.0\n",
      "Energy                          10247.875816         12970.4\n",
      "\n",
      "\n",
      "Constraining nutrients are:\n",
      "['Calcium, Ca', 'Potassium, K', 'Vitamin B-12', 'Vitamin C, total ascorbic acid', 'Vitamin E (alpha-tocopherol)']\n",
      "Result for restaurant: IB\n",
      "Cost of diet for F 31-50 is $10.59 per day.\n",
      "\n",
      "\n",
      "Diet (in 100s of grams or milliliters):\n",
      "bun                1.515613\n",
      "lettuce            3.878586\n",
      "cheddar cheese     0.173106\n",
      "sandwich bun       1.515613\n",
      "avocado           12.271541\n",
      "cheese             0.173106\n",
      "dtype: float64\n",
      "\n",
      "\n",
      "With the following nutritional outcomes of interest:\n",
      "                                     Outcome  Recommendation\n",
      "Nutrition                                                   \n",
      "Energy                          12970.399997          7531.2\n",
      "Protein                            86.949859            46.0\n",
      "Fiber, total dietary               91.519869            25.2\n",
      "Folate, DFE                      1433.805986           400.0\n",
      "Calcium, Ca                      1000.000000          1000.0\n",
      "Carbohydrate, by difference       172.366226           130.0\n",
      "Iron, Fe                           18.000000            18.0\n",
      "Magnesium, Mg                     479.299802           320.0\n",
      "Niacin                             35.425264            14.0\n",
      "Phosphorus, P                    1434.552199           700.0\n",
      "Potassium, K                     7685.486446          4700.0\n",
      "Riboflavin                          2.833744             1.1\n",
      "Thiamin                             1.901428             1.1\n",
      "Vitamin A, RAE                   1745.405569           700.0\n",
      "Vitamin B-12                        4.184636             2.4\n",
      "Vitamin B-6                         4.545653             1.3\n",
      "Vitamin C, total ascorbic acid    152.463115            75.0\n",
      "Vitamin E (alpha-tocopherol)       26.359200            15.0\n",
      "Vitamin K (phylloquinone)         762.645513            90.0\n",
      "Zinc, Zn                           18.734124             8.0\n",
      "Sodium, Na                       2299.999999          2300.0\n",
      "Energy                          12970.399997         12970.4\n",
      "\n",
      "\n",
      "Constraining nutrients are:\n",
      "['Calcium, Ca', 'Iron, Fe', 'Sodium, Na', 'Energy']\n",
      "Result for restaurant: Poke Bar\n",
      "Cost of diet for F 31-50 is $12.50 per day.\n",
      "\n",
      "\n",
      "Diet (in 100s of grams or milliliters):\n",
      "salmon        1.880272\n",
      "white rice    0.845606\n",
      "kale          6.898160\n",
      "edamame       3.679231\n",
      "dtype: float64\n",
      "\n",
      "\n",
      "With the following nutritional outcomes of interest:\n",
      "                                     Outcome  Recommendation\n",
      "Nutrition                                                   \n",
      "Energy                          12970.399629          7531.2\n",
      "Protein                           105.880298            46.0\n",
      "Fiber, total dietary               48.708065            25.2\n",
      "Folate, DFE                      1532.215490           400.0\n",
      "Calcium, Ca                      2001.944257          1000.0\n",
      "Carbohydrate, by difference       130.000006           130.0\n",
      "Iron, Fe                           20.066619            18.0\n",
      "Magnesium, Mg                     536.115155           320.0\n",
      "Niacin                             29.895468            14.0\n",
      "Phosphorus, P                    1516.927394           700.0\n",
      "Potassium, K                     4700.000114          4700.0\n",
      "Riboflavin                          3.254746             1.1\n",
      "Thiamin                             1.962381             1.1\n",
      "Vitamin A, RAE                   1867.172447           700.0\n",
      "Vitamin B-12                        6.073280             2.4\n",
      "Vitamin B-6                         2.994320             1.3\n",
      "Vitamin C, total ascorbic acid    671.121133            75.0\n",
      "Vitamin E (alpha-tocopherol)       15.000000            15.0\n",
      "Vitamin K (phylloquinone)        2791.849722            90.0\n",
      "Zinc, Zn                            8.937042             8.0\n",
      "Sodium, Na                        943.800968          2300.0\n",
      "Energy                          12970.399629         12970.4\n",
      "\n",
      "\n",
      "Constraining nutrients are:\n",
      "['Carbohydrate, by difference', 'Vitamin E (alpha-tocopherol)']\n"
     ]
    },
    {
     "name": "stderr",
     "output_type": "stream",
     "text": [
      "/tmp/ipykernel_198/2046845037.py:22: UserWarning: Prices have no units.  BE CAREFUL!  We're assuming prices are per hectogram or deciliter!\n",
      "  warnings.warn(\"Prices have no units.  BE CAREFUL!  We're assuming prices are per hectogram or deciliter!\")\n",
      "/tmp/ipykernel_198/2046845037.py:22: UserWarning: Prices have no units.  BE CAREFUL!  We're assuming prices are per hectogram or deciliter!\n",
      "  warnings.warn(\"Prices have no units.  BE CAREFUL!  We're assuming prices are per hectogram or deciliter!\")\n",
      "/tmp/ipykernel_198/2046845037.py:22: UserWarning: Prices have no units.  BE CAREFUL!  We're assuming prices are per hectogram or deciliter!\n",
      "  warnings.warn(\"Prices have no units.  BE CAREFUL!  We're assuming prices are per hectogram or deciliter!\")\n",
      "/tmp/ipykernel_198/2046845037.py:22: UserWarning: Prices have no units.  BE CAREFUL!  We're assuming prices are per hectogram or deciliter!\n",
      "  warnings.warn(\"Prices have no units.  BE CAREFUL!  We're assuming prices are per hectogram or deciliter!\")\n"
     ]
    },
    {
     "name": "stdout",
     "output_type": "stream",
     "text": [
      "Result for restaurant: Thai Basil\n",
      "Cost of diet for M 31-50 is $6.69 per day.\n",
      "\n",
      "\n",
      "Diet (in 100s of grams or milliliters):\n",
      "egg         4.947712\n",
      "carrots     3.846580\n",
      "rice        0.179987\n",
      "broccoli    1.176471\n",
      "peanuts     3.770187\n",
      "tofu        1.708201\n",
      "dtype: float64\n",
      "\n",
      "\n",
      "With the following nutritional outcomes of interest:\n",
      "                                     Outcome  Recommendation\n",
      "Nutrition                                                   \n",
      "Energy                          12970.399994          9204.8\n",
      "Protein                           182.869415            56.0\n",
      "Fiber, total dietary               48.402654            30.8\n",
      "Folate, DFE                       901.074608           400.0\n",
      "Calcium, Ca                      1000.000000          1000.0\n",
      "Carbohydrate, by difference       130.000000           130.0\n",
      "Iron, Fe                           22.193402             8.0\n",
      "Magnesium, Mg                     777.823330           420.0\n",
      "Niacin                             53.041099            16.0\n",
      "Phosphorus, P                    2591.924619           700.0\n",
      "Potassium, K                     4700.000066          4700.0\n",
      "Riboflavin                          3.066529             1.3\n",
      "Thiamin                             3.199720             1.2\n",
      "Vitamin A, RAE                    900.000000           900.0\n",
      "Vitamin B-12                        5.046667             2.4\n",
      "Vitamin B-6                         2.410318             1.3\n",
      "Vitamin C, total ascorbic acid    109.290785            90.0\n",
      "Vitamin E (alpha-tocopherol)       24.908895            15.0\n",
      "Vitamin K (phylloquinone)         120.000000           120.0\n",
      "Zinc, Zn                           24.454723            11.0\n",
      "Sodium, Na                       1108.886383          2300.0\n",
      "Energy                          12970.399994         12970.4\n",
      "\n",
      "\n",
      "Constraining nutrients are:\n",
      "['Calcium, Ca', 'Carbohydrate, by difference', 'Potassium, K', 'Vitamin A, RAE', 'Vitamin K (phylloquinone)', 'Energy']\n",
      "Result for restaurant: Ttoust\n",
      "Cost of diet for M 31-50 is $5.41 per day.\n",
      "\n",
      "\n",
      "Diet (in 100s of grams or milliliters):\n",
      "Egg                0.748143\n",
      "Purple Cabbage     0.515229\n",
      "Spinach            6.186931\n",
      "Pork               2.443126\n",
      "Flour              1.978106\n",
      "dtype: float64\n",
      "\n",
      "\n",
      "With the following nutritional outcomes of interest:\n",
      "                                     Outcome  Recommendation\n",
      "Nutrition                                                   \n",
      "Energy                          10336.143184          9204.8\n",
      "Protein                            69.997446            56.0\n",
      "Fiber, total dietary               41.843804            30.8\n",
      "Folate, DFE                       967.952966           400.0\n",
      "Calcium, Ca                      1000.000000          1000.0\n",
      "Carbohydrate, by difference       175.045785           130.0\n",
      "Iron, Fe                           31.722910             8.0\n",
      "Magnesium, Mg                     801.132621           420.0\n",
      "Niacin                             20.249316            16.0\n",
      "Phosphorus, P                    1343.734087           700.0\n",
      "Potassium, K                     4700.000000          4700.0\n",
      "Riboflavin                          2.400904             1.3\n",
      "Thiamin                             1.656738             1.2\n",
      "Vitamin A, RAE                   3468.991444           900.0\n",
      "Vitamin B-12                        2.400000             2.4\n",
      "Vitamin B-6                         2.379238             1.3\n",
      "Vitamin C, total ascorbic acid     90.000000            90.0\n",
      "Vitamin E (alpha-tocopherol)       15.000000            15.0\n",
      "Vitamin K (phylloquinone)        3077.309107           120.0\n",
      "Zinc, Zn                           13.064184            11.0\n",
      "Sodium, Na                        664.267989          2300.0\n",
      "Energy                          10336.143184         12970.4\n",
      "\n",
      "\n",
      "Constraining nutrients are:\n",
      "['Calcium, Ca', 'Potassium, K', 'Vitamin B-12', 'Vitamin C, total ascorbic acid', 'Vitamin E (alpha-tocopherol)']\n",
      "Result for restaurant: IB\n",
      "Cost of diet for M 31-50 is $7.20 per day.\n",
      "\n",
      "\n",
      "Diet (in 100s of grams or milliliters):\n",
      "bun                0.416821\n",
      "ketchup            0.221607\n",
      "lettuce            1.015800\n",
      "cheddar cheese     0.757350\n",
      "grilled onion      0.000001\n",
      "sandwich bun       0.416821\n",
      "avocado           11.906506\n",
      "cheese             0.757350\n",
      "dtype: float64\n",
      "\n",
      "\n",
      "With the following nutritional outcomes of interest:\n",
      "                                     Outcome  Recommendation\n",
      "Nutrition                                                   \n",
      "Energy                          12046.084110          9204.8\n",
      "Protein                            75.227439            56.0\n",
      "Fiber, total dietary               83.184905            30.8\n",
      "Folate, DFE                      1192.023015           400.0\n",
      "Calcium, Ca                      1396.454433          1000.0\n",
      "Carbohydrate, by difference       130.000004           130.0\n",
      "Iron, Fe                           10.424398             8.0\n",
      "Magnesium, Mg                     420.000005           420.0\n",
      "Niacin                             26.408212            16.0\n",
      "Phosphorus, P                    1512.484761           700.0\n",
      "Potassium, K                     6595.910347          4700.0\n",
      "Riboflavin                          2.648124             1.3\n",
      "Thiamin                             1.200000             1.2\n",
      "Vitamin A, RAE                    900.000027           900.0\n",
      "Vitamin B-12                        2.400000             2.4\n",
      "Vitamin B-6                         3.835606             1.3\n",
      "Vitamin C, total ascorbic acid    117.448783            90.0\n",
      "Vitamin E (alpha-tocopherol)       25.476082            15.0\n",
      "Vitamin K (phylloquinone)         386.550471           120.0\n",
      "Zinc, Zn                           16.288897            11.0\n",
      "Sodium, Na                       1819.171306          2300.0\n",
      "Energy                          12046.084110         12970.4\n",
      "\n",
      "\n",
      "Constraining nutrients are:\n"
     ]
    },
    {
     "name": "stderr",
     "output_type": "stream",
     "text": [
      "/tmp/ipykernel_198/2046845037.py:22: UserWarning: Prices have no units.  BE CAREFUL!  We're assuming prices are per hectogram or deciliter!\n",
      "  warnings.warn(\"Prices have no units.  BE CAREFUL!  We're assuming prices are per hectogram or deciliter!\")\n",
      "/tmp/ipykernel_198/2046845037.py:22: UserWarning: Prices have no units.  BE CAREFUL!  We're assuming prices are per hectogram or deciliter!\n",
      "  warnings.warn(\"Prices have no units.  BE CAREFUL!  We're assuming prices are per hectogram or deciliter!\")\n",
      "/tmp/ipykernel_198/2046845037.py:22: UserWarning: Prices have no units.  BE CAREFUL!  We're assuming prices are per hectogram or deciliter!\n",
      "  warnings.warn(\"Prices have no units.  BE CAREFUL!  We're assuming prices are per hectogram or deciliter!\")\n",
      "/tmp/ipykernel_198/2046845037.py:22: UserWarning: Prices have no units.  BE CAREFUL!  We're assuming prices are per hectogram or deciliter!\n",
      "  warnings.warn(\"Prices have no units.  BE CAREFUL!  We're assuming prices are per hectogram or deciliter!\")\n"
     ]
    },
    {
     "name": "stdout",
     "output_type": "stream",
     "text": [
      "['Carbohydrate, by difference', 'Magnesium, Mg', 'Thiamin', 'Vitamin A, RAE', 'Vitamin B-12']\n",
      "Result for restaurant: Poke Bar\n",
      "Cost of diet for M 31-50 is $15.45 per day.\n",
      "\n",
      "\n",
      "Diet (in 100s of grams or milliliters):\n",
      "salmon          0.693784\n",
      "white rice      0.483776\n",
      "green onion     0.000003\n",
      "kale           12.933493\n",
      "ahi tuna        0.083724\n",
      "edamame         3.947744\n",
      "dtype: float64\n",
      "\n",
      "\n",
      "With the following nutritional outcomes of interest:\n",
      "                                     Outcome  Recommendation\n",
      "Nutrition                                                   \n",
      "Energy                          12970.399910          9204.8\n",
      "Protein                           102.052346            56.0\n",
      "Fiber, total dietary               73.927111            30.8\n",
      "Folate, DFE                      1951.658547           400.0\n",
      "Calcium, Ca                      3539.429695          1000.0\n",
      "Carbohydrate, by difference       130.000052           130.0\n",
      "Iron, Fe                           29.888492             8.0\n",
      "Magnesium, Mg                     710.076441           420.0\n",
      "Niacin                             27.318059            16.0\n",
      "Phosphorus, P                    1591.277406           700.0\n",
      "Potassium, K                     6489.490860          4700.0\n",
      "Riboflavin                          5.206152             1.3\n",
      "Thiamin                             2.401007             1.2\n",
      "Vitamin A, RAE                   3261.192915           900.0\n",
      "Vitamin B-12                        2.400000             2.4\n",
      "Vitamin B-6                         3.070658             1.3\n",
      "Vitamin C, total ascorbic acid   1231.700842            90.0\n",
      "Vitamin E (alpha-tocopherol)       15.000001            15.0\n",
      "Vitamin K (phylloquinone)        5150.167958           120.0\n",
      "Zinc, Zn                           11.000000            11.0\n",
      "Sodium, Na                       1230.870039          2300.0\n",
      "Energy                          12970.399910         12970.4\n",
      "\n",
      "\n",
      "Constraining nutrients are:\n",
      "['Carbohydrate, by difference', 'Vitamin B-12', 'Vitamin E (alpha-tocopherol)', 'Zinc, Zn', 'Energy']\n",
      "Result for restaurant: Thai Basil\n",
      "Cost of diet for F 51+ is $7.16 per day.\n",
      "\n",
      "\n",
      "Diet (in 100s of grams or milliliters):\n",
      "egg         3.849673\n",
      "carrots     4.427298\n",
      "rice        0.098724\n",
      "broccoli    0.882353\n",
      "peanuts     3.882918\n",
      "tofu        3.312157\n",
      "dtype: float64\n",
      "\n",
      "\n",
      "With the following nutritional outcomes of interest:\n",
      "                                     Outcome  Recommendation\n",
      "Nutrition                                                   \n",
      "Energy                          12970.399996          6694.4\n",
      "Protein                           188.835390            46.0\n",
      "Fiber, total dietary               51.855241            22.4\n",
      "Folate, DFE                       928.017380           400.0\n",
      "Calcium, Ca                      1200.000000          1200.0\n",
      "Carbohydrate, by difference       130.000000           130.0\n",
      "Iron, Fe                           23.224348             8.0\n",
      "Magnesium, Mg                     783.775299           320.0\n",
      "Niacin                             54.963119            14.0\n",
      "Phosphorus, P                    2428.497151           700.0\n",
      "Potassium, K                     4700.000073          4700.0\n",
      "Riboflavin                          2.642857             1.1\n",
      "Thiamin                             3.196571             1.1\n",
      "Vitamin A, RAE                    700.000000           700.0\n",
      "Vitamin B-12                        3.926667             2.4\n",
      "Vitamin B-6                         2.404297             1.5\n",
      "Vitamin C, total ascorbic acid     84.202196            75.0\n",
      "Vitamin E (alpha-tocopherol)       25.604294            15.0\n",
      "Vitamin K (phylloquinone)          90.000000            90.0\n",
      "Zinc, Zn                           23.509605             8.0\n",
      "Sodium, Na                       1060.621921          2300.0\n",
      "Energy                          12970.399996         12970.4\n",
      "\n",
      "\n",
      "Constraining nutrients are:\n",
      "['Calcium, Ca', 'Carbohydrate, by difference', 'Potassium, K', 'Vitamin A, RAE', 'Vitamin K (phylloquinone)', 'Energy']\n",
      "Result for restaurant: Ttoust\n",
      "Cost of diet for F 51+ is $5.83 per day.\n",
      "\n",
      "\n",
      "Diet (in 100s of grams or milliliters):\n",
      "Egg                2.352941\n",
      "Purple Cabbage     0.053790\n",
      "Spinach            7.340200\n",
      "Brown Sugar        0.042107\n",
      "Flour              2.425907\n",
      "dtype: float64\n",
      "\n",
      "\n",
      "With the following nutritional outcomes of interest:\n",
      "                                    Outcome  Recommendation\n",
      "Nutrition                                                  \n",
      "Energy                          6694.400002          6694.4\n",
      "Protein                           74.366753            46.0\n",
      "Fiber, total dietary              49.508823            22.4\n",
      "Folate, DFE                     1140.562873           400.0\n",
      "Calcium, Ca                     1200.000000          1200.0\n",
      "Carbohydrate, by difference      215.073294           130.0\n",
      "Iron, Fe                          39.177075             8.0\n",
      "Magnesium, Mg                    950.112734           320.0\n",
      "Niacin                            16.590508            14.0\n",
      "Phosphorus, P                   1629.174098           700.0\n",
      "Potassium, K                    4700.000000          4700.0\n",
      "Riboflavin                         3.177952             1.1\n",
      "Thiamin                            1.602432             1.1\n",
      "Vitamin A, RAE                  4272.806642           700.0\n",
      "Vitamin B-12                       2.400000             2.4\n",
      "Vitamin B-6                        2.399154             1.5\n",
      "Vitamin C, total ascorbic acid    75.000000            75.0\n",
      "Vitamin E (alpha-tocopherol)      16.559264            15.0\n",
      "Vitamin K (phylloquinone)       3629.786899            90.0\n",
      "Zinc, Zn                          15.688718             8.0\n",
      "Sodium, Na                       826.073491          2300.0\n",
      "Energy                          6694.400002         12970.4\n",
      "\n",
      "\n",
      "Constraining nutrients are:\n",
      "['Energy', 'Calcium, Ca', 'Potassium, K', 'Vitamin B-12', 'Vitamin C, total ascorbic acid']\n",
      "Result for restaurant: IB\n",
      "Cost of diet for F 51+ is $6.49 per day.\n",
      "\n",
      "\n",
      "Diet (in 100s of grams or milliliters):\n",
      "bun               0.618549\n",
      "ketchup           0.718364\n",
      "lettuce           0.656327\n",
      "cheddar cheese    0.600967\n",
      "sandwich bun      0.618549\n",
      "avocado           9.705777\n",
      "cheese            0.600967\n",
      "dtype: float64\n",
      "\n",
      "\n",
      "With the following nutritional outcomes of interest:\n",
      "                                     Outcome  Recommendation\n",
      "Nutrition                                                   \n",
      "Energy                          10656.800277          6694.4\n",
      "Protein                            69.929137            46.0\n",
      "Fiber, total dietary               68.305119            22.4\n",
      "Folate, DFE                      1003.135088           400.0\n",
      "Calcium, Ca                      1200.000001          1200.0\n",
      "Carbohydrate, by difference       130.000000           130.0\n",
      "Iron, Fe                            9.864616             8.0\n",
      "Magnesium, Mg                     358.488173           320.0\n",
      "Niacin                             24.160537            14.0\n",
      "Phosphorus, P                    1318.833877           700.0\n",
      "Potassium, K                     5609.454141          4700.0\n",
      "Riboflavin                          2.333688             1.1\n",
      "Thiamin                             1.100000             1.1\n",
      "Vitamin A, RAE                    700.000000           700.0\n",
      "Vitamin B-12                        2.641187             2.4\n",
      "Vitamin B-6                         3.313013             1.5\n",
      "Vitamin C, total ascorbic acid     97.981927            75.0\n",
      "Vitamin E (alpha-tocopherol)       21.684078            15.0\n",
      "Vitamin K (phylloquinone)         297.569541            90.0\n",
      "Zinc, Zn                           14.755001             8.0\n",
      "Sodium, Na                       2299.999986          2300.0\n",
      "Energy                          10656.800277         12970.4\n",
      "\n",
      "\n",
      "Constraining nutrients are:\n",
      "['Calcium, Ca', 'Carbohydrate, by difference', 'Thiamin', 'Vitamin A, RAE', 'Sodium, Na']\n",
      "Result for restaurant: Poke Bar\n",
      "Cost of diet for F 51+ is $12.50 per day.\n",
      "\n",
      "\n",
      "Diet (in 100s of grams or milliliters):\n",
      "salmon        1.880272\n",
      "white rice    0.845605\n",
      "kale          6.898159\n",
      "edamame       3.679231\n",
      "dtype: float64\n",
      "\n",
      "\n",
      "With the following nutritional outcomes of interest:\n",
      "                                     Outcome  Recommendation\n",
      "Nutrition                                                   \n",
      "Energy                          12970.399999          6694.4\n",
      "Protein                           105.880300            46.0\n",
      "Fiber, total dietary               48.708064            22.4\n",
      "Folate, DFE                      1532.215554           400.0\n",
      "Calcium, Ca                      2001.944124          1200.0\n",
      "Carbohydrate, by difference       130.000000           130.0\n",
      "Iron, Fe                           20.066619             8.0\n",
      "Magnesium, Mg                     536.115151           320.0\n",
      "Niacin                             29.895467            14.0\n",
      "Phosphorus, P                    1516.927411           700.0\n",
      "Potassium, K                     4700.000000          4700.0\n",
      "Riboflavin                          3.254746             1.1\n",
      "Thiamin                             1.962381             1.1\n",
      "Vitamin A, RAE                   1867.172244           700.0\n",
      "Vitamin B-12                        6.073280             2.4\n",
      "Vitamin B-6                         2.994320             1.5\n",
      "Vitamin C, total ascorbic acid    671.121083            75.0\n",
      "Vitamin E (alpha-tocopherol)       15.000000            15.0\n",
      "Vitamin K (phylloquinone)        2791.849468            90.0\n",
      "Zinc, Zn                            8.937042             8.0\n",
      "Sodium, Na                        943.800901          2300.0\n",
      "Energy                          12970.399999         12970.4\n",
      "\n",
      "\n",
      "Constraining nutrients are:\n",
      "['Carbohydrate, by difference', 'Potassium, K', 'Vitamin E (alpha-tocopherol)', 'Energy']\n"
     ]
    },
    {
     "name": "stderr",
     "output_type": "stream",
     "text": [
      "/tmp/ipykernel_198/2046845037.py:22: UserWarning: Prices have no units.  BE CAREFUL!  We're assuming prices are per hectogram or deciliter!\n",
      "  warnings.warn(\"Prices have no units.  BE CAREFUL!  We're assuming prices are per hectogram or deciliter!\")\n",
      "/tmp/ipykernel_198/2046845037.py:22: UserWarning: Prices have no units.  BE CAREFUL!  We're assuming prices are per hectogram or deciliter!\n",
      "  warnings.warn(\"Prices have no units.  BE CAREFUL!  We're assuming prices are per hectogram or deciliter!\")\n",
      "/tmp/ipykernel_198/2046845037.py:22: UserWarning: Prices have no units.  BE CAREFUL!  We're assuming prices are per hectogram or deciliter!\n",
      "  warnings.warn(\"Prices have no units.  BE CAREFUL!  We're assuming prices are per hectogram or deciliter!\")\n",
      "/tmp/ipykernel_198/2046845037.py:22: UserWarning: Prices have no units.  BE CAREFUL!  We're assuming prices are per hectogram or deciliter!\n",
      "  warnings.warn(\"Prices have no units.  BE CAREFUL!  We're assuming prices are per hectogram or deciliter!\")\n"
     ]
    },
    {
     "name": "stdout",
     "output_type": "stream",
     "text": [
      "Result for restaurant: Thai Basil\n",
      "Cost of diet for M 51+ is $6.69 per day.\n",
      "\n",
      "\n",
      "Diet (in 100s of grams or milliliters):\n",
      "egg         4.947712\n",
      "carrots     3.846579\n",
      "rice        0.179987\n",
      "broccoli    1.176471\n",
      "peanuts     3.770187\n",
      "tofu        1.708201\n",
      "dtype: float64\n",
      "\n",
      "\n",
      "With the following nutritional outcomes of interest:\n",
      "                                     Outcome  Recommendation\n",
      "Nutrition                                                   \n",
      "Energy                          12970.399999          8368.0\n",
      "Protein                           182.869415            56.0\n",
      "Fiber, total dietary               48.402653            28.0\n",
      "Folate, DFE                       901.074603           400.0\n",
      "Calcium, Ca                      1000.000000          1000.0\n",
      "Carbohydrate, by difference       130.000000           130.0\n",
      "Iron, Fe                           22.193402             8.0\n",
      "Magnesium, Mg                     777.823325           420.0\n",
      "Niacin                             53.041098            16.0\n",
      "Phosphorus, P                    2591.924606           700.0\n",
      "Potassium, K                     4700.000005          4700.0\n",
      "Riboflavin                          3.066529             1.3\n",
      "Thiamin                             3.199720             1.2\n",
      "Vitamin A, RAE                    900.000000           900.0\n",
      "Vitamin B-12                        5.046667             2.4\n",
      "Vitamin B-6                         2.410318             1.7\n",
      "Vitamin C, total ascorbic acid    109.290785            90.0\n",
      "Vitamin E (alpha-tocopherol)       24.908895            15.0\n",
      "Vitamin K (phylloquinone)         120.000000           120.0\n",
      "Zinc, Zn                           24.454723            11.0\n",
      "Sodium, Na                       1108.886369          2300.0\n",
      "Energy                          12970.399999         12970.4\n",
      "\n",
      "\n",
      "Constraining nutrients are:\n",
      "['Calcium, Ca', 'Carbohydrate, by difference', 'Potassium, K', 'Vitamin A, RAE', 'Vitamin K (phylloquinone)', 'Energy']\n",
      "Result for restaurant: Ttoust\n",
      "Cost of diet for M 51+ is $5.41 per day.\n",
      "\n",
      "\n",
      "Diet (in 100s of grams or milliliters):\n",
      "Egg                0.748143\n",
      "Purple Cabbage     0.515229\n",
      "Spinach            6.186931\n",
      "Pork               2.443126\n",
      "Flour              1.978106\n",
      "dtype: float64\n",
      "\n",
      "\n",
      "With the following nutritional outcomes of interest:\n",
      "                                     Outcome  Recommendation\n",
      "Nutrition                                                   \n",
      "Energy                          10336.143077          8368.0\n",
      "Protein                            69.997446            56.0\n",
      "Fiber, total dietary               41.843804            28.0\n",
      "Folate, DFE                       967.952966           400.0\n",
      "Calcium, Ca                      1000.000000          1000.0\n",
      "Carbohydrate, by difference       175.045785           130.0\n",
      "Iron, Fe                           31.722910             8.0\n",
      "Magnesium, Mg                     801.132622           420.0\n",
      "Niacin                             20.249316            16.0\n",
      "Phosphorus, P                    1343.734089           700.0\n",
      "Potassium, K                     4700.000000          4700.0\n",
      "Riboflavin                          2.400904             1.3\n",
      "Thiamin                             1.656738             1.2\n",
      "Vitamin A, RAE                   3468.991444           900.0\n",
      "Vitamin B-12                        2.400000             2.4\n",
      "Vitamin B-6                         2.379238             1.7\n",
      "Vitamin C, total ascorbic acid     90.000000            90.0\n",
      "Vitamin E (alpha-tocopherol)       15.000000            15.0\n",
      "Vitamin K (phylloquinone)        3077.309107           120.0\n",
      "Zinc, Zn                           13.064184            11.0\n",
      "Sodium, Na                        664.267988          2300.0\n",
      "Energy                          10336.143077         12970.4\n",
      "\n",
      "\n",
      "Constraining nutrients are:\n",
      "['Calcium, Ca', 'Potassium, K', 'Vitamin B-12', 'Vitamin C, total ascorbic acid', 'Vitamin E (alpha-tocopherol)']\n"
     ]
    },
    {
     "name": "stderr",
     "output_type": "stream",
     "text": [
      "/tmp/ipykernel_198/2046845037.py:22: UserWarning: Prices have no units.  BE CAREFUL!  We're assuming prices are per hectogram or deciliter!\n",
      "  warnings.warn(\"Prices have no units.  BE CAREFUL!  We're assuming prices are per hectogram or deciliter!\")\n",
      "/tmp/ipykernel_198/2046845037.py:22: UserWarning: Prices have no units.  BE CAREFUL!  We're assuming prices are per hectogram or deciliter!\n",
      "  warnings.warn(\"Prices have no units.  BE CAREFUL!  We're assuming prices are per hectogram or deciliter!\")\n"
     ]
    },
    {
     "name": "stdout",
     "output_type": "stream",
     "text": [
      "Result for restaurant: IB\n",
      "Cost of diet for M 51+ is $7.20 per day.\n",
      "\n",
      "\n",
      "Diet (in 100s of grams or milliliters):\n",
      "bun                0.416821\n",
      "ketchup            0.221608\n",
      "lettuce            1.015800\n",
      "cheddar cheese     0.757351\n",
      "sandwich bun       0.416821\n",
      "avocado           11.906505\n",
      "cheese             0.757351\n",
      "dtype: float64\n",
      "\n",
      "\n",
      "With the following nutritional outcomes of interest:\n",
      "                                     Outcome  Recommendation\n",
      "Nutrition                                                   \n",
      "Energy                          12045.958131          8368.0\n",
      "Protein                            75.227442            56.0\n",
      "Fiber, total dietary               83.184902            28.0\n",
      "Folate, DFE                      1192.022992           400.0\n",
      "Calcium, Ca                      1396.454973          1000.0\n",
      "Carbohydrate, by difference       130.000000           130.0\n",
      "Iron, Fe                           10.424396             8.0\n",
      "Magnesium, Mg                     420.000000           420.0\n",
      "Niacin                             26.408207            16.0\n",
      "Phosphorus, P                    1512.484987           700.0\n",
      "Potassium, K                     6595.910059          4700.0\n",
      "Riboflavin                          2.648125             1.3\n",
      "Thiamin                             1.200000             1.2\n",
      "Vitamin A, RAE                    900.000000           900.0\n",
      "Vitamin B-12                        2.400000             2.4\n",
      "Vitamin B-6                         3.835605             1.7\n",
      "Vitamin C, total ascorbic acid    117.448762            90.0\n",
      "Vitamin E (alpha-tocopherol)       25.476081            15.0\n",
      "Vitamin K (phylloquinone)         386.550352           120.0\n",
      "Zinc, Zn                           16.288899            11.0\n",
      "Sodium, Na                       1819.171822          2300.0\n",
      "Energy                          12045.958131         12970.4\n",
      "\n",
      "\n",
      "Constraining nutrients are:\n",
      "['Carbohydrate, by difference', 'Magnesium, Mg', 'Thiamin', 'Vitamin A, RAE', 'Vitamin B-12']\n",
      "Result for restaurant: Poke Bar\n",
      "Cost of diet for M 51+ is $15.45 per day.\n",
      "\n",
      "\n",
      "Diet (in 100s of grams or milliliters):\n",
      "salmon         0.693784\n",
      "white rice     0.483775\n",
      "kale          12.933494\n",
      "ahi tuna       0.083725\n",
      "edamame        3.947745\n",
      "dtype: float64\n",
      "\n",
      "\n",
      "With the following nutritional outcomes of interest:\n",
      "                                     Outcome  Recommendation\n",
      "Nutrition                                                   \n",
      "Energy                          12970.399997          8368.0\n",
      "Protein                           102.052348            56.0\n",
      "Fiber, total dietary               73.927109            28.0\n",
      "Folate, DFE                      1951.658637           400.0\n",
      "Calcium, Ca                      3539.429625          1000.0\n",
      "Carbohydrate, by difference       130.000004           130.0\n",
      "Iron, Fe                           29.888492             8.0\n",
      "Magnesium, Mg                     710.076420           420.0\n",
      "Niacin                             27.318059            16.0\n",
      "Phosphorus, P                    1591.277386           700.0\n",
      "Potassium, K                     6489.490637          4700.0\n",
      "Riboflavin                          5.206152             1.3\n",
      "Thiamin                             2.401007             1.2\n",
      "Vitamin A, RAE                   3261.192405           900.0\n",
      "Vitamin B-12                        2.400000             2.4\n",
      "Vitamin B-6                         3.070658             1.7\n",
      "Vitamin C, total ascorbic acid   1231.700828            90.0\n",
      "Vitamin E (alpha-tocopherol)       15.000000            15.0\n",
      "Vitamin K (phylloquinone)        5150.167616           120.0\n",
      "Zinc, Zn                           11.000000            11.0\n",
      "Sodium, Na                       1230.869852          2300.0\n",
      "Energy                          12970.399997         12970.4\n",
      "\n",
      "\n",
      "Constraining nutrients are:\n",
      "['Carbohydrate, by difference', 'Vitamin B-12', 'Vitamin E (alpha-tocopherol)', 'Zinc, Zn', 'Energy']\n"
     ]
    },
    {
     "name": "stderr",
     "output_type": "stream",
     "text": [
      "/tmp/ipykernel_198/2046845037.py:22: UserWarning: Prices have no units.  BE CAREFUL!  We're assuming prices are per hectogram or deciliter!\n",
      "  warnings.warn(\"Prices have no units.  BE CAREFUL!  We're assuming prices are per hectogram or deciliter!\")\n"
     ]
    }
   ],
   "source": [
    "# ingredient-based results for each of 4 restaurants\n",
    "groups = dri_min.columns[1:]\n",
    "\n",
    "cost_tbl = pd.DataFrame(columns = groups, index = restaurants)\n",
    "diet_tbl = pd.DataFrame(columns = groups, index = restaurants)\n",
    "nurt_tbl = pd.DataFrame(columns = groups, index = restaurants)\n",
    "excess_tbl = pd.DataFrame(columns = groups, index = restaurants)\n",
    "\n",
    "for group in groups:\n",
    "    tol = 1e-6\n",
    "    for i in range(4):\n",
    "        result = solve_subsistence_problem(ing_res[i],ing_prices[i],dri_min[group],dri_max[group],tol=tol)\n",
    "        \n",
    "        #results_tbl.loc[restaurants[i], group] = result\n",
    "        \n",
    "        print(\"Result for restaurant: \" + restaurants[i])\n",
    "        print(\"Cost of diet for %s is $%4.2f per day.\\n\" % (group,result.fun))\n",
    "        \n",
    "        cost_tbl.loc[restaurants[i], group] = result.fun\n",
    "        \n",
    "        # Put back into nice series\n",
    "        diet = result.diet\n",
    "\n",
    "        print(\"\\nDiet (in 100s of grams or milliliters):\")\n",
    "        print(diet[diet >= tol])  # Drop items with quantities less than precision of calculation.\n",
    "        print()\n",
    "        \n",
    "        diet_tbl.loc[restaurants[i], group] = list(diet[diet >= tol])\n",
    "\n",
    "        tab = pd.DataFrame({\"Outcome\":np.abs(result.A).dot(diet),\"Recommendation\":np.abs(result.b)})\n",
    "        print(\"\\nWith the following nutritional outcomes of interest:\")\n",
    "        print(tab)\n",
    "        print()\n",
    "        \n",
    "        nurt_tbl.loc[restaurants[i], group] = list(np.abs(result.A).dot(diet))\n",
    "\n",
    "        print(\"\\nConstraining nutrients are:\")\n",
    "        excess = tab.diff(axis=1).iloc[:,1]\n",
    "        print(excess.loc[np.abs(excess) < tol*100].index.tolist())\n",
    "        \n",
    "        excess_tbl.loc[restaurants[i], group] = list(excess.loc[np.abs(excess) < tol*100].index.tolist())"
   ]
  },
  {
   "cell_type": "code",
   "execution_count": 17,
   "id": "f34e5658",
   "metadata": {},
   "outputs": [
    {
     "data": {
      "text/html": [
       "<div>\n",
       "<style scoped>\n",
       "    .dataframe tbody tr th:only-of-type {\n",
       "        vertical-align: middle;\n",
       "    }\n",
       "\n",
       "    .dataframe tbody tr th {\n",
       "        vertical-align: top;\n",
       "    }\n",
       "\n",
       "    .dataframe thead th {\n",
       "        text-align: right;\n",
       "    }\n",
       "</style>\n",
       "<table border=\"1\" class=\"dataframe\">\n",
       "  <thead>\n",
       "    <tr style=\"text-align: right;\">\n",
       "      <th></th>\n",
       "      <th>C 1-3</th>\n",
       "      <th>F 4-8</th>\n",
       "      <th>M 4-8</th>\n",
       "      <th>F 9-13</th>\n",
       "      <th>M 9-13</th>\n",
       "      <th>F 14-18</th>\n",
       "      <th>M 14-18</th>\n",
       "      <th>F 19-30</th>\n",
       "      <th>M 19-30</th>\n",
       "      <th>F 31-50</th>\n",
       "      <th>M 31-50</th>\n",
       "      <th>F 51+</th>\n",
       "      <th>M 51+</th>\n",
       "    </tr>\n",
       "  </thead>\n",
       "  <tbody>\n",
       "    <tr>\n",
       "      <th>Thai Basil</th>\n",
       "      <td>4.052806</td>\n",
       "      <td>5.681346</td>\n",
       "      <td>5.681348</td>\n",
       "      <td>7.366037</td>\n",
       "      <td>7.347198</td>\n",
       "      <td>7.559409</td>\n",
       "      <td>7.889342</td>\n",
       "      <td>6.257664</td>\n",
       "      <td>6.693508</td>\n",
       "      <td>6.257664</td>\n",
       "      <td>6.693506</td>\n",
       "      <td>7.163111</td>\n",
       "      <td>6.693506</td>\n",
       "    </tr>\n",
       "    <tr>\n",
       "      <th>Ttoust</th>\n",
       "      <td>3.254694</td>\n",
       "      <td>4.524609</td>\n",
       "      <td>4.524609</td>\n",
       "      <td>5.881514</td>\n",
       "      <td>5.88149</td>\n",
       "      <td>6.141627</td>\n",
       "      <td>6.160926</td>\n",
       "      <td>5.353081</td>\n",
       "      <td>5.41441</td>\n",
       "      <td>5.353081</td>\n",
       "      <td>5.41441</td>\n",
       "      <td>5.832565</td>\n",
       "      <td>5.41441</td>\n",
       "    </tr>\n",
       "    <tr>\n",
       "      <th>IB</th>\n",
       "      <td>5.046551</td>\n",
       "      <td>5.973081</td>\n",
       "      <td>5.97308</td>\n",
       "      <td>6.050696</td>\n",
       "      <td>6.050574</td>\n",
       "      <td>9.070692</td>\n",
       "      <td>7.207749</td>\n",
       "      <td>10.594395</td>\n",
       "      <td>7.080005</td>\n",
       "      <td>10.594395</td>\n",
       "      <td>7.198854</td>\n",
       "      <td>6.485626</td>\n",
       "      <td>7.198853</td>\n",
       "    </tr>\n",
       "    <tr>\n",
       "      <th>Poke Bar</th>\n",
       "      <td>6.377665</td>\n",
       "      <td>8.560379</td>\n",
       "      <td>8.560379</td>\n",
       "      <td>10.494406</td>\n",
       "      <td>10.194235</td>\n",
       "      <td>12.590013</td>\n",
       "      <td>15.451584</td>\n",
       "      <td>12.504119</td>\n",
       "      <td>15.451584</td>\n",
       "      <td>12.504119</td>\n",
       "      <td>15.451586</td>\n",
       "      <td>12.504119</td>\n",
       "      <td>15.451584</td>\n",
       "    </tr>\n",
       "  </tbody>\n",
       "</table>\n",
       "</div>"
      ],
      "text/plain": [
       "               C 1-3     F 4-8     M 4-8     F 9-13     M 9-13    F 14-18  \\\n",
       "Thai Basil  4.052806  5.681346  5.681348   7.366037   7.347198   7.559409   \n",
       "Ttoust      3.254694  4.524609  4.524609   5.881514    5.88149   6.141627   \n",
       "IB          5.046551  5.973081   5.97308   6.050696   6.050574   9.070692   \n",
       "Poke Bar    6.377665  8.560379  8.560379  10.494406  10.194235  12.590013   \n",
       "\n",
       "              M 14-18    F 19-30    M 19-30    F 31-50    M 31-50      F 51+  \\\n",
       "Thai Basil   7.889342   6.257664   6.693508   6.257664   6.693506   7.163111   \n",
       "Ttoust       6.160926   5.353081    5.41441   5.353081    5.41441   5.832565   \n",
       "IB           7.207749  10.594395   7.080005  10.594395   7.198854   6.485626   \n",
       "Poke Bar    15.451584  12.504119  15.451584  12.504119  15.451586  12.504119   \n",
       "\n",
       "                M 51+  \n",
       "Thai Basil   6.693506  \n",
       "Ttoust        5.41441  \n",
       "IB           7.198853  \n",
       "Poke Bar    15.451584  "
      ]
     },
     "execution_count": 17,
     "metadata": {},
     "output_type": "execute_result"
    }
   ],
   "source": [
    "cost_tbl"
   ]
  },
  {
   "cell_type": "code",
   "execution_count": 18,
   "id": "85a51f7f",
   "metadata": {},
   "outputs": [
    {
     "data": {
      "text/html": [
       "<div>\n",
       "<style scoped>\n",
       "    .dataframe tbody tr th:only-of-type {\n",
       "        vertical-align: middle;\n",
       "    }\n",
       "\n",
       "    .dataframe tbody tr th {\n",
       "        vertical-align: top;\n",
       "    }\n",
       "\n",
       "    .dataframe thead th {\n",
       "        text-align: right;\n",
       "    }\n",
       "</style>\n",
       "<table border=\"1\" class=\"dataframe\">\n",
       "  <thead>\n",
       "    <tr style=\"text-align: right;\">\n",
       "      <th></th>\n",
       "      <th>C 1-3</th>\n",
       "      <th>F 4-8</th>\n",
       "      <th>M 4-8</th>\n",
       "      <th>F 9-13</th>\n",
       "      <th>M 9-13</th>\n",
       "      <th>F 14-18</th>\n",
       "      <th>M 14-18</th>\n",
       "      <th>F 19-30</th>\n",
       "      <th>M 19-30</th>\n",
       "      <th>F 31-50</th>\n",
       "      <th>M 31-50</th>\n",
       "      <th>F 51+</th>\n",
       "      <th>M 51+</th>\n",
       "    </tr>\n",
       "  </thead>\n",
       "  <tbody>\n",
       "    <tr>\n",
       "      <th>Thai Basil</th>\n",
       "      <td>[1.6535947706889553, 1.3852752287717585, 0.709...</td>\n",
       "      <td>[2.1982570758309756, 4.11231494774835, 0.34127...</td>\n",
       "      <td>[2.198256851418826, 1.78151173378974e-06, 4.11...</td>\n",
       "      <td>[3.3071895265853226, 5.56034958804642, 0.07673...</td>\n",
       "      <td>[3.3071895423056197, 4.722821936295839, 0.1153...</td>\n",
       "      <td>[3.8562091513207064, 4.790331164253986, 0.0718...</td>\n",
       "      <td>[4.925740434841197, 0.20758255836004372, 4.847...</td>\n",
       "      <td>[3.849673202078504, 3.9686114560475874, 0.1365...</td>\n",
       "      <td>[4.947712189157788, 1.9233930755712387e-06, 3....</td>\n",
       "      <td>[3.849673201126317, 3.968611957532809, 0.13658...</td>\n",
       "      <td>[4.94771241775595, 3.8465795947305943, 0.17998...</td>\n",
       "      <td>[3.8496732024200333, 4.427298237925396, 0.0987...</td>\n",
       "      <td>[4.947712418235566, 3.8465794220684857, 0.1799...</td>\n",
       "    </tr>\n",
       "    <tr>\n",
       "      <th>Ttoust</th>\n",
       "      <td>[0.882352925603457, 1.5314822731509792, 0.2748...</td>\n",
       "      <td>[1.1764705868476217, 2.551020416219487, 0.4147...</td>\n",
       "      <td>[1.1764705880371733, 2.5510204034365738, 0.414...</td>\n",
       "      <td>[1.7647058822237875, 4.591836734301037, 0.4271...</td>\n",
       "      <td>[1.7647058820567403, 4.591836733460813, 0.4222...</td>\n",
       "      <td>[2.3529411759875267, 6.632653048006388, 0.1522...</td>\n",
       "      <td>[2.352941175766801, 0.038373509910166095, 7.42...</td>\n",
       "      <td>[0.899093957300926, 0.2563041354425244, 6.1623...</td>\n",
       "      <td>[0.7481425468840616, 0.515229448839125, 6.1869...</td>\n",
       "      <td>[0.8990940417231688, 0.2563041491157663, 6.162...</td>\n",
       "      <td>[0.7481426971027444, 0.5152294766063318, 6.186...</td>\n",
       "      <td>[2.3529411763500763, 0.05379011503111703, 7.34...</td>\n",
       "      <td>[0.7481427032552965, 0.5152294773758332, 6.186...</td>\n",
       "    </tr>\n",
       "    <tr>\n",
       "      <th>IB</th>\n",
       "      <td>[0.12140266060050481, 0.8973065484928846, 2.49...</td>\n",
       "      <td>[0.7381884201213375, 0.36265548456572066, 0.60...</td>\n",
       "      <td>[0.7381884087079148, 0.3626555521447199, 0.607...</td>\n",
       "      <td>[0.1818589658506186, 0.9773167656716606, 0.555...</td>\n",
       "      <td>[0.18185436510852976, 0.975725026242236, 0.551...</td>\n",
       "      <td>[1.2233763054815683, 1.57576435130077e-06, 2.1...</td>\n",
       "      <td>[0.5000167883018362, 0.025090358481825042, 1.0...</td>\n",
       "      <td>[1.5156130817054203, 3.8785864811010535, 0.173...</td>\n",
       "      <td>[0.5156678917103827, 0.31452057376256354, 1.20...</td>\n",
       "      <td>[1.5156130812067994, 3.8785864897315094, 0.173...</td>\n",
       "      <td>[0.41682131618836893, 0.22160690879118547, 1.0...</td>\n",
       "      <td>[0.6185488197692462, 0.7183637701925146, 0.656...</td>\n",
       "      <td>[0.41682140001715734, 0.2216078528273798, 1.01...</td>\n",
       "    </tr>\n",
       "    <tr>\n",
       "      <th>Poke Bar</th>\n",
       "      <td>[0.2786377700974017, 1.04206165823365, 4.13955...</td>\n",
       "      <td>[0.3715170277047409, 0.923279850987226, 6.4896...</td>\n",
       "      <td>[0.37151702781763934, 0.9232798518582935, 6.48...</td>\n",
       "      <td>[0.6315231559302386, 0.8115626100037986, 1.611...</td>\n",
       "      <td>[0.593710832494077, 0.7905590873998726, 1.4035...</td>\n",
       "      <td>[1.8430382611738536, 0.8342380454859687, 7.086...</td>\n",
       "      <td>[0.6937842576074815, 0.48377537465033155, 12.9...</td>\n",
       "      <td>[1.8802723382680828, 0.8456054989862727, 6.898...</td>\n",
       "      <td>[0.6937842973729921, 0.4837754199649512, 12.93...</td>\n",
       "      <td>[1.8802723187799568, 0.8456055203133529, 6.898...</td>\n",
       "      <td>[0.6937844327917748, 0.4837758079467785, 2.984...</td>\n",
       "      <td>[1.880272337983991, 0.8456054990230503, 6.8981...</td>\n",
       "      <td>[0.693784262838222, 0.4837754128303332, 12.933...</td>\n",
       "    </tr>\n",
       "  </tbody>\n",
       "</table>\n",
       "</div>"
      ],
      "text/plain": [
       "                                                        C 1-3  \\\n",
       "Thai Basil  [1.6535947706889553, 1.3852752287717585, 0.709...   \n",
       "Ttoust      [0.882352925603457, 1.5314822731509792, 0.2748...   \n",
       "IB          [0.12140266060050481, 0.8973065484928846, 2.49...   \n",
       "Poke Bar    [0.2786377700974017, 1.04206165823365, 4.13955...   \n",
       "\n",
       "                                                        F 4-8  \\\n",
       "Thai Basil  [2.1982570758309756, 4.11231494774835, 0.34127...   \n",
       "Ttoust      [1.1764705868476217, 2.551020416219487, 0.4147...   \n",
       "IB          [0.7381884201213375, 0.36265548456572066, 0.60...   \n",
       "Poke Bar    [0.3715170277047409, 0.923279850987226, 6.4896...   \n",
       "\n",
       "                                                        M 4-8  \\\n",
       "Thai Basil  [2.198256851418826, 1.78151173378974e-06, 4.11...   \n",
       "Ttoust      [1.1764705880371733, 2.5510204034365738, 0.414...   \n",
       "IB          [0.7381884087079148, 0.3626555521447199, 0.607...   \n",
       "Poke Bar    [0.37151702781763934, 0.9232798518582935, 6.48...   \n",
       "\n",
       "                                                       F 9-13  \\\n",
       "Thai Basil  [3.3071895265853226, 5.56034958804642, 0.07673...   \n",
       "Ttoust      [1.7647058822237875, 4.591836734301037, 0.4271...   \n",
       "IB          [0.1818589658506186, 0.9773167656716606, 0.555...   \n",
       "Poke Bar    [0.6315231559302386, 0.8115626100037986, 1.611...   \n",
       "\n",
       "                                                       M 9-13  \\\n",
       "Thai Basil  [3.3071895423056197, 4.722821936295839, 0.1153...   \n",
       "Ttoust      [1.7647058820567403, 4.591836733460813, 0.4222...   \n",
       "IB          [0.18185436510852976, 0.975725026242236, 0.551...   \n",
       "Poke Bar    [0.593710832494077, 0.7905590873998726, 1.4035...   \n",
       "\n",
       "                                                      F 14-18  \\\n",
       "Thai Basil  [3.8562091513207064, 4.790331164253986, 0.0718...   \n",
       "Ttoust      [2.3529411759875267, 6.632653048006388, 0.1522...   \n",
       "IB          [1.2233763054815683, 1.57576435130077e-06, 2.1...   \n",
       "Poke Bar    [1.8430382611738536, 0.8342380454859687, 7.086...   \n",
       "\n",
       "                                                      M 14-18  \\\n",
       "Thai Basil  [4.925740434841197, 0.20758255836004372, 4.847...   \n",
       "Ttoust      [2.352941175766801, 0.038373509910166095, 7.42...   \n",
       "IB          [0.5000167883018362, 0.025090358481825042, 1.0...   \n",
       "Poke Bar    [0.6937842576074815, 0.48377537465033155, 12.9...   \n",
       "\n",
       "                                                      F 19-30  \\\n",
       "Thai Basil  [3.849673202078504, 3.9686114560475874, 0.1365...   \n",
       "Ttoust      [0.899093957300926, 0.2563041354425244, 6.1623...   \n",
       "IB          [1.5156130817054203, 3.8785864811010535, 0.173...   \n",
       "Poke Bar    [1.8802723382680828, 0.8456054989862727, 6.898...   \n",
       "\n",
       "                                                      M 19-30  \\\n",
       "Thai Basil  [4.947712189157788, 1.9233930755712387e-06, 3....   \n",
       "Ttoust      [0.7481425468840616, 0.515229448839125, 6.1869...   \n",
       "IB          [0.5156678917103827, 0.31452057376256354, 1.20...   \n",
       "Poke Bar    [0.6937842973729921, 0.4837754199649512, 12.93...   \n",
       "\n",
       "                                                      F 31-50  \\\n",
       "Thai Basil  [3.849673201126317, 3.968611957532809, 0.13658...   \n",
       "Ttoust      [0.8990940417231688, 0.2563041491157663, 6.162...   \n",
       "IB          [1.5156130812067994, 3.8785864897315094, 0.173...   \n",
       "Poke Bar    [1.8802723187799568, 0.8456055203133529, 6.898...   \n",
       "\n",
       "                                                      M 31-50  \\\n",
       "Thai Basil  [4.94771241775595, 3.8465795947305943, 0.17998...   \n",
       "Ttoust      [0.7481426971027444, 0.5152294766063318, 6.186...   \n",
       "IB          [0.41682131618836893, 0.22160690879118547, 1.0...   \n",
       "Poke Bar    [0.6937844327917748, 0.4837758079467785, 2.984...   \n",
       "\n",
       "                                                        F 51+  \\\n",
       "Thai Basil  [3.8496732024200333, 4.427298237925396, 0.0987...   \n",
       "Ttoust      [2.3529411763500763, 0.05379011503111703, 7.34...   \n",
       "IB          [0.6185488197692462, 0.7183637701925146, 0.656...   \n",
       "Poke Bar    [1.880272337983991, 0.8456054990230503, 6.8981...   \n",
       "\n",
       "                                                        M 51+  \n",
       "Thai Basil  [4.947712418235566, 3.8465794220684857, 0.1799...  \n",
       "Ttoust      [0.7481427032552965, 0.5152294773758332, 6.186...  \n",
       "IB          [0.41682140001715734, 0.2216078528273798, 1.01...  \n",
       "Poke Bar    [0.693784262838222, 0.4837754128303332, 12.933...  "
      ]
     },
     "execution_count": 18,
     "metadata": {},
     "output_type": "execute_result"
    }
   ],
   "source": [
    "diet_tbl"
   ]
  },
  {
   "cell_type": "code",
   "execution_count": 19,
   "id": "81d6b613",
   "metadata": {},
   "outputs": [
    {
     "data": {
      "text/plain": [
       "[10459.998923079153,\n",
       " 84.68608960743502,\n",
       " 86.21945718594837,\n",
       " 573.4175691360044,\n",
       " 1000.0000000445157,\n",
       " 449.84459176570596,\n",
       " 38.40419387870724,\n",
       " 1052.5833199392803,\n",
       " 33.818038202406456,\n",
       " 2474.4401938047595,\n",
       " 3800.0000001348694,\n",
       " 2.2766723886068054,\n",
       " 2.365975976282556,\n",
       " 1548.4994043794954,\n",
       " 1.2000000004507179,\n",
       " 2.115576431538548,\n",
       " 25.00000030530556,\n",
       " 8.452376544520046,\n",
       " 1270.0910082076123,\n",
       " 23.60424297294048,\n",
       " 352.1202874184242,\n",
       " 10459.998923079153]"
      ]
     },
     "execution_count": 19,
     "metadata": {},
     "output_type": "execute_result"
    }
   ],
   "source": [
    "nurt_tbl.iloc[1,1]"
   ]
  },
  {
   "cell_type": "code",
   "execution_count": 20,
   "id": "ba051ecd",
   "metadata": {},
   "outputs": [
    {
     "data": {
      "text/html": [
       "<div>\n",
       "<style scoped>\n",
       "    .dataframe tbody tr th:only-of-type {\n",
       "        vertical-align: middle;\n",
       "    }\n",
       "\n",
       "    .dataframe tbody tr th {\n",
       "        vertical-align: top;\n",
       "    }\n",
       "\n",
       "    .dataframe thead th {\n",
       "        text-align: right;\n",
       "    }\n",
       "</style>\n",
       "<table border=\"1\" class=\"dataframe\">\n",
       "  <thead>\n",
       "    <tr style=\"text-align: right;\">\n",
       "      <th></th>\n",
       "      <th>C 1-3</th>\n",
       "      <th>F 4-8</th>\n",
       "      <th>M 4-8</th>\n",
       "      <th>F 9-13</th>\n",
       "      <th>M 9-13</th>\n",
       "      <th>F 14-18</th>\n",
       "      <th>M 14-18</th>\n",
       "      <th>F 19-30</th>\n",
       "      <th>M 19-30</th>\n",
       "      <th>F 31-50</th>\n",
       "      <th>M 31-50</th>\n",
       "      <th>F 51+</th>\n",
       "      <th>M 51+</th>\n",
       "    </tr>\n",
       "  </thead>\n",
       "  <tbody>\n",
       "    <tr>\n",
       "      <th>Thai Basil</th>\n",
       "      <td>[Calcium, Ca, Carbohydrate, by difference, Vit...</td>\n",
       "      <td>[Calcium, Ca, Carbohydrate, by difference, Vit...</td>\n",
       "      <td>[Calcium, Ca, Carbohydrate, by difference, Vit...</td>\n",
       "      <td>[Calcium, Ca, Carbohydrate, by difference, Vit...</td>\n",
       "      <td>[Calcium, Ca, Carbohydrate, by difference, Pot...</td>\n",
       "      <td>[Calcium, Ca, Carbohydrate, by difference, Pot...</td>\n",
       "      <td>[Calcium, Ca, Carbohydrate, by difference, Pot...</td>\n",
       "      <td>[Calcium, Ca, Carbohydrate, by difference, Pot...</td>\n",
       "      <td>[Calcium, Ca, Carbohydrate, by difference, Vit...</td>\n",
       "      <td>[Calcium, Ca, Carbohydrate, by difference, Vit...</td>\n",
       "      <td>[Calcium, Ca, Carbohydrate, by difference, Pot...</td>\n",
       "      <td>[Calcium, Ca, Carbohydrate, by difference, Pot...</td>\n",
       "      <td>[Calcium, Ca, Carbohydrate, by difference, Pot...</td>\n",
       "    </tr>\n",
       "    <tr>\n",
       "      <th>Ttoust</th>\n",
       "      <td>[Calcium, Ca, Potassium, K, Vitamin B-12, Vita...</td>\n",
       "      <td>[Calcium, Ca, Potassium, K, Vitamin B-12, Vita...</td>\n",
       "      <td>[Calcium, Ca, Potassium, K, Vitamin B-12, Vita...</td>\n",
       "      <td>[Calcium, Ca, Potassium, K, Vitamin B-12, Vita...</td>\n",
       "      <td>[Calcium, Ca, Potassium, K, Vitamin B-12, Vita...</td>\n",
       "      <td>[Calcium, Ca, Potassium, K, Vitamin B-12, Vita...</td>\n",
       "      <td>[Calcium, Ca, Niacin, Potassium, K, Vitamin B-...</td>\n",
       "      <td>[Calcium, Ca, Potassium, K, Vitamin B-12, Vita...</td>\n",
       "      <td>[Calcium, Ca, Potassium, K, Vitamin B-12, Vita...</td>\n",
       "      <td>[Calcium, Ca, Potassium, K, Vitamin B-12, Vita...</td>\n",
       "      <td>[Calcium, Ca, Potassium, K, Vitamin B-12, Vita...</td>\n",
       "      <td>[Energy, Calcium, Ca, Potassium, K, Vitamin B-...</td>\n",
       "      <td>[Calcium, Ca, Potassium, K, Vitamin B-12, Vita...</td>\n",
       "    </tr>\n",
       "    <tr>\n",
       "      <th>IB</th>\n",
       "      <td>[Calcium, Ca, Carbohydrate, by difference, Iro...</td>\n",
       "      <td>[Calcium, Ca, Carbohydrate, by difference, Iro...</td>\n",
       "      <td>[Calcium, Ca, Carbohydrate, by difference, Iro...</td>\n",
       "      <td>[Calcium, Ca, Carbohydrate, by difference, Iro...</td>\n",
       "      <td>[Calcium, Ca, Carbohydrate, by difference, Iro...</td>\n",
       "      <td>[Calcium, Ca, Iron, Fe, Sodium, Na]</td>\n",
       "      <td>[Calcium, Ca, Carbohydrate, by difference, Iro...</td>\n",
       "      <td>[Calcium, Ca, Iron, Fe, Sodium, Na, Energy]</td>\n",
       "      <td>[Carbohydrate, by difference, Magnesium, Mg, T...</td>\n",
       "      <td>[Calcium, Ca, Iron, Fe, Sodium, Na, Energy]</td>\n",
       "      <td>[Carbohydrate, by difference, Magnesium, Mg, T...</td>\n",
       "      <td>[Calcium, Ca, Carbohydrate, by difference, Thi...</td>\n",
       "      <td>[Carbohydrate, by difference, Magnesium, Mg, T...</td>\n",
       "    </tr>\n",
       "    <tr>\n",
       "      <th>Poke Bar</th>\n",
       "      <td>[Carbohydrate, by difference, Potassium, K, Vi...</td>\n",
       "      <td>[Carbohydrate, by difference, Potassium, K, Vi...</td>\n",
       "      <td>[Carbohydrate, by difference, Potassium, K, Vi...</td>\n",
       "      <td>[Carbohydrate, by difference, Phosphorus, P, P...</td>\n",
       "      <td>[Carbohydrate, by difference, Vitamin E (alpha...</td>\n",
       "      <td>[Carbohydrate, by difference, Vitamin E (alpha...</td>\n",
       "      <td>[Carbohydrate, by difference, Vitamin B-12, Vi...</td>\n",
       "      <td>[Carbohydrate, by difference, Potassium, K, Vi...</td>\n",
       "      <td>[Carbohydrate, by difference, Vitamin B-12, Vi...</td>\n",
       "      <td>[Carbohydrate, by difference, Vitamin E (alpha...</td>\n",
       "      <td>[Carbohydrate, by difference, Vitamin B-12, Vi...</td>\n",
       "      <td>[Carbohydrate, by difference, Potassium, K, Vi...</td>\n",
       "      <td>[Carbohydrate, by difference, Vitamin B-12, Vi...</td>\n",
       "    </tr>\n",
       "  </tbody>\n",
       "</table>\n",
       "</div>"
      ],
      "text/plain": [
       "                                                        C 1-3  \\\n",
       "Thai Basil  [Calcium, Ca, Carbohydrate, by difference, Vit...   \n",
       "Ttoust      [Calcium, Ca, Potassium, K, Vitamin B-12, Vita...   \n",
       "IB          [Calcium, Ca, Carbohydrate, by difference, Iro...   \n",
       "Poke Bar    [Carbohydrate, by difference, Potassium, K, Vi...   \n",
       "\n",
       "                                                        F 4-8  \\\n",
       "Thai Basil  [Calcium, Ca, Carbohydrate, by difference, Vit...   \n",
       "Ttoust      [Calcium, Ca, Potassium, K, Vitamin B-12, Vita...   \n",
       "IB          [Calcium, Ca, Carbohydrate, by difference, Iro...   \n",
       "Poke Bar    [Carbohydrate, by difference, Potassium, K, Vi...   \n",
       "\n",
       "                                                        M 4-8  \\\n",
       "Thai Basil  [Calcium, Ca, Carbohydrate, by difference, Vit...   \n",
       "Ttoust      [Calcium, Ca, Potassium, K, Vitamin B-12, Vita...   \n",
       "IB          [Calcium, Ca, Carbohydrate, by difference, Iro...   \n",
       "Poke Bar    [Carbohydrate, by difference, Potassium, K, Vi...   \n",
       "\n",
       "                                                       F 9-13  \\\n",
       "Thai Basil  [Calcium, Ca, Carbohydrate, by difference, Vit...   \n",
       "Ttoust      [Calcium, Ca, Potassium, K, Vitamin B-12, Vita...   \n",
       "IB          [Calcium, Ca, Carbohydrate, by difference, Iro...   \n",
       "Poke Bar    [Carbohydrate, by difference, Phosphorus, P, P...   \n",
       "\n",
       "                                                       M 9-13  \\\n",
       "Thai Basil  [Calcium, Ca, Carbohydrate, by difference, Pot...   \n",
       "Ttoust      [Calcium, Ca, Potassium, K, Vitamin B-12, Vita...   \n",
       "IB          [Calcium, Ca, Carbohydrate, by difference, Iro...   \n",
       "Poke Bar    [Carbohydrate, by difference, Vitamin E (alpha...   \n",
       "\n",
       "                                                      F 14-18  \\\n",
       "Thai Basil  [Calcium, Ca, Carbohydrate, by difference, Pot...   \n",
       "Ttoust      [Calcium, Ca, Potassium, K, Vitamin B-12, Vita...   \n",
       "IB                        [Calcium, Ca, Iron, Fe, Sodium, Na]   \n",
       "Poke Bar    [Carbohydrate, by difference, Vitamin E (alpha...   \n",
       "\n",
       "                                                      M 14-18  \\\n",
       "Thai Basil  [Calcium, Ca, Carbohydrate, by difference, Pot...   \n",
       "Ttoust      [Calcium, Ca, Niacin, Potassium, K, Vitamin B-...   \n",
       "IB          [Calcium, Ca, Carbohydrate, by difference, Iro...   \n",
       "Poke Bar    [Carbohydrate, by difference, Vitamin B-12, Vi...   \n",
       "\n",
       "                                                      F 19-30  \\\n",
       "Thai Basil  [Calcium, Ca, Carbohydrate, by difference, Pot...   \n",
       "Ttoust      [Calcium, Ca, Potassium, K, Vitamin B-12, Vita...   \n",
       "IB                [Calcium, Ca, Iron, Fe, Sodium, Na, Energy]   \n",
       "Poke Bar    [Carbohydrate, by difference, Potassium, K, Vi...   \n",
       "\n",
       "                                                      M 19-30  \\\n",
       "Thai Basil  [Calcium, Ca, Carbohydrate, by difference, Vit...   \n",
       "Ttoust      [Calcium, Ca, Potassium, K, Vitamin B-12, Vita...   \n",
       "IB          [Carbohydrate, by difference, Magnesium, Mg, T...   \n",
       "Poke Bar    [Carbohydrate, by difference, Vitamin B-12, Vi...   \n",
       "\n",
       "                                                      F 31-50  \\\n",
       "Thai Basil  [Calcium, Ca, Carbohydrate, by difference, Vit...   \n",
       "Ttoust      [Calcium, Ca, Potassium, K, Vitamin B-12, Vita...   \n",
       "IB                [Calcium, Ca, Iron, Fe, Sodium, Na, Energy]   \n",
       "Poke Bar    [Carbohydrate, by difference, Vitamin E (alpha...   \n",
       "\n",
       "                                                      M 31-50  \\\n",
       "Thai Basil  [Calcium, Ca, Carbohydrate, by difference, Pot...   \n",
       "Ttoust      [Calcium, Ca, Potassium, K, Vitamin B-12, Vita...   \n",
       "IB          [Carbohydrate, by difference, Magnesium, Mg, T...   \n",
       "Poke Bar    [Carbohydrate, by difference, Vitamin B-12, Vi...   \n",
       "\n",
       "                                                        F 51+  \\\n",
       "Thai Basil  [Calcium, Ca, Carbohydrate, by difference, Pot...   \n",
       "Ttoust      [Energy, Calcium, Ca, Potassium, K, Vitamin B-...   \n",
       "IB          [Calcium, Ca, Carbohydrate, by difference, Thi...   \n",
       "Poke Bar    [Carbohydrate, by difference, Potassium, K, Vi...   \n",
       "\n",
       "                                                        M 51+  \n",
       "Thai Basil  [Calcium, Ca, Carbohydrate, by difference, Pot...  \n",
       "Ttoust      [Calcium, Ca, Potassium, K, Vitamin B-12, Vita...  \n",
       "IB          [Carbohydrate, by difference, Magnesium, Mg, T...  \n",
       "Poke Bar    [Carbohydrate, by difference, Vitamin B-12, Vi...  "
      ]
     },
     "execution_count": 20,
     "metadata": {},
     "output_type": "execute_result"
    }
   ],
   "source": [
    "excess_tbl"
   ]
  },
  {
   "cell_type": "markdown",
   "id": "06e4f164",
   "metadata": {},
   "source": [
    "## Sensitivity of solution"
   ]
  },
  {
   "cell_type": "markdown",
   "id": "1c5232aa",
   "metadata": {},
   "source": [
    "### Effects of Price Changes on Subsistence Diet Cost"
   ]
  },
  {
   "cell_type": "code",
   "execution_count": 21,
   "id": "99afc665",
   "metadata": {},
   "outputs": [
    {
     "name": "stderr",
     "output_type": "stream",
     "text": [
      "/opt/conda/lib/python3.9/site-packages/geopandas/_compat.py:111: UserWarning:\n",
      "\n",
      "The Shapely GEOS version (3.10.3-CAPI-1.16.1) is incompatible with the GEOS version PyGEOS was compiled with (3.10.4-CAPI-1.16.2). Conversions between both will be slow.\n",
      "\n"
     ]
    },
    {
     "data": {
      "text/html": [
       "        <script type=\"text/javascript\">\n",
       "        window.PlotlyConfig = {MathJaxConfig: 'local'};\n",
       "        if (window.MathJax) {MathJax.Hub.Config({SVG: {font: \"STIX-Web\"}});}\n",
       "        if (typeof require !== 'undefined') {\n",
       "        require.undef(\"plotly\");\n",
       "        requirejs.config({\n",
       "            paths: {\n",
       "                'plotly': ['https://cdn.plot.ly/plotly-2.3.1.min']\n",
       "            }\n",
       "        });\n",
       "        require(['plotly'], function(Plotly) {\n",
       "            window._Plotly = Plotly;\n",
       "        });\n",
       "        }\n",
       "        </script>\n",
       "        "
      ]
     },
     "metadata": {},
     "output_type": "display_data"
    },
    {
     "name": "stderr",
     "output_type": "stream",
     "text": [
      "/tmp/ipykernel_198/2046845037.py:22: UserWarning:\n",
      "\n",
      "Prices have no units.  BE CAREFUL!  We're assuming prices are per hectogram or deciliter!\n",
      "\n"
     ]
    },
    {
     "data": {
      "application/vnd.plotly.v1+json": {
       "config": {
        "linkText": "Export to plot.ly",
        "plotlyServerURL": "https://plot.ly",
        "showLink": true
       },
       "data": [
        {
         "line": {
          "color": "rgba(255, 153, 51, 1.0)",
          "dash": "solid",
          "shape": "linear",
          "width": 1.3
         },
         "mode": "lines",
         "name": "Beef",
         "text": "",
         "type": "scatter",
         "x": [
          -0.6931471805599453,
          -0.5108256237659907,
          -0.35667494393873245,
          -0.22314355131420968,
          -0.10536051565782628,
          0,
          0.09531017980432495,
          0.1823215567939546,
          0.26236426446749106,
          0.33647223662121284,
          0.4054651081081644
         ],
         "y": [
          -0.041202957242750915,
          -0.01018076594171588,
          -2.04533685415106e-08,
          -2.0412429954819474e-08,
          -2.0439599888344588e-08,
          0,
          -2.0422891475571815e-08,
          -2.0415395138534175e-08,
          -2.0385469964473335e-08,
          -2.0374727335245825e-08,
          -2.0370014105343364e-08
         ]
        },
        {
         "line": {
          "color": "rgba(55, 128, 191, 1.0)",
          "dash": "solid",
          "shape": "linear",
          "width": 1.3
         },
         "mode": "lines",
         "name": "Egg",
         "text": "",
         "type": "scatter",
         "x": [
          -0.6931471805599453,
          -0.5108256237659907,
          -0.35667494393873245,
          -0.22314355131420968,
          -0.10536051565782628,
          0,
          0.09531017980432495,
          0.1823215567939546,
          0.26236426446749106,
          0.33647223662121284,
          0.4054651081081644
         ],
         "y": [
          -0.08465158042551889,
          -0.06101429841628459,
          -0.03792283089197646,
          -0.016938492658754994,
          -0.008433378754298464,
          0,
          0.008362824868187844,
          0.016656312332918564,
          0.018720789363642056,
          0.018720782939357857,
          0.018720781886281148
         ]
        },
        {
         "line": {
          "color": "rgba(50, 171, 96, 1.0)",
          "dash": "solid",
          "shape": "linear",
          "width": 1.3
         },
         "mode": "lines",
         "name": "Carrots",
         "text": "",
         "type": "scatter",
         "x": [
          -0.6931471805599453,
          -0.5108256237659907,
          -0.35667494393873245,
          -0.22314355131420968,
          -0.10536051565782628,
          0,
          0.09531017980432495,
          0.1823215567939546,
          0.26236426446749106,
          0.33647223662121284,
          0.4054651081081644
         ],
         "y": [
          -1.908201448406926e-08,
          -9.600113305981043e-09,
          -4.020293550598475e-09,
          -1.8217516400905133e-09,
          -6.848334124356563e-10,
          0,
          4.30823598925222e-10,
          6.958296159064684e-10,
          8.54772474657651e-10,
          9.603162704870656e-10,
          1.0467635641681453e-09
         ]
        },
        {
         "line": {
          "color": "rgba(128, 0, 128, 1.0)",
          "dash": "solid",
          "shape": "linear",
          "width": 1.3
         },
         "mode": "lines",
         "name": "Purple Cabbage ",
         "text": "",
         "type": "scatter",
         "x": [
          -0.6931471805599453,
          -0.5108256237659907,
          -0.35667494393873245,
          -0.22314355131420968,
          -0.10536051565782628,
          0,
          0.09531017980432495,
          0.1823215567939546,
          0.26236426446749106,
          0.33647223662121284,
          0.4054651081081644
         ],
         "y": [
          -0.008897235802478773,
          -0.007111448566109459,
          -0.00532884480432377,
          -0.003549405969563199,
          -0.001773141889058666,
          0,
          0.0017699664624996677,
          0.0035368185297325414,
          0.005300558061950479,
          0.0070611922696063095,
          0.008818732102241152
         ]
        },
        {
         "line": {
          "color": "rgba(219, 64, 82, 1.0)",
          "dash": "solid",
          "shape": "linear",
          "width": 1.3
         },
         "mode": "lines",
         "name": "Squash",
         "text": "",
         "type": "scatter",
         "x": [
          -0.6931471805599453,
          -0.5108256237659907,
          -0.35667494393873245,
          -0.22314355131420968,
          -0.10536051565782628,
          0,
          0.09531017980432495,
          0.1823215567939546,
          0.26236426446749106,
          0.33647223662121284,
          0.4054651081081644
         ],
         "y": [
          9.378170688809657e-08,
          -1.9918930592373625e-08,
          -2.040842249370799e-08,
          -1.2589503518989433e-08,
          -5.885464577470723e-09,
          0,
          5.262313904107092e-09,
          1.0093088758235815e-08,
          1.4573290690158768e-08,
          1.8667257565346413e-08,
          2.242261329229545e-08
         ]
        },
        {
         "line": {
          "color": "rgba(0, 128, 128, 1.0)",
          "dash": "solid",
          "shape": "linear",
          "width": 1.3
         },
         "mode": "lines",
         "name": "Spinach ",
         "text": "",
         "type": "scatter",
         "x": [
          -0.6931471805599453,
          -0.5108256237659907,
          -0.35667494393873245,
          -0.22314355131420968,
          -0.10536051565782628,
          0,
          0.09531017980432495,
          0.1823215567939546,
          0.26236426446749106,
          0.33647223662121284,
          0.4054651081081644
         ],
         "y": [
          -0.40445427578988397,
          -0.3064087949519871,
          -0.21712369382211288,
          -0.13930380253735922,
          -0.06722812903717633,
          0,
          0.06299181668147351,
          0.1222497280028008,
          0.17819171786143412,
          0.2311693038983249,
          0.2792611617143901
         ]
        },
        {
         "line": {
          "color": "rgba(255, 255, 51, 1.0)",
          "dash": "solid",
          "shape": "linear",
          "width": 1.3
         },
         "mode": "lines",
         "name": "Jasmine Rice",
         "text": "",
         "type": "scatter",
         "x": [
          -0.6931471805599453,
          -0.5108256237659907,
          -0.35667494393873245,
          -0.22314355131420968,
          -0.10536051565782628,
          0,
          0.09531017980432495,
          0.1823215567939546,
          0.26236426446749106,
          0.33647223662121284,
          0.4054651081081644
         ],
         "y": [
          -1.9118382615493056e-08,
          -1.9621802264552674e-08,
          -1.997097018826711e-08,
          -2.0210164302036768e-08,
          -2.0423555499976406e-08,
          0,
          -1.967201942929992e-08,
          -7.178801134887651e-09,
          6.428729386468104e-08,
          -1.9129316647160178e-08,
          2.9339517717915488e-08
         ]
        },
        {
         "line": {
          "color": "rgba(128, 128, 0, 1.0)",
          "dash": "solid",
          "shape": "linear",
          "width": 1.3
         },
         "mode": "lines",
         "name": "Kimchi",
         "text": "",
         "type": "scatter",
         "x": [
          -0.6931471805599453,
          -0.5108256237659907,
          -0.35667494393873245,
          -0.22314355131420968,
          -0.10536051565782628,
          0,
          0.09531017980432495,
          0.1823215567939546,
          0.26236426446749106,
          0.33647223662121284,
          0.4054651081081644
         ],
         "y": [
          -2.0400178310425817e-08,
          -2.036905442854133e-08,
          -2.0414485199724614e-08,
          -4.694744826146088e-09,
          5.365826213391761e-09,
          0,
          -1.2955602674660067e-08,
          -2.0391268770471485e-08,
          -2.03343364215871e-08,
          -1.04454607731538e-08,
          7.518853434748439e-08
         ]
        },
        {
         "line": {
          "color": "rgba(251, 128, 114, 1.0)",
          "dash": "solid",
          "shape": "linear",
          "width": 1.3
         },
         "mode": "lines",
         "name": "Onions",
         "text": "",
         "type": "scatter",
         "x": [
          -0.6931471805599453,
          -0.5108256237659907,
          -0.35667494393873245,
          -0.22314355131420968,
          -0.10536051565782628,
          0,
          0.09531017980432495,
          0.1823215567939546,
          0.26236426446749106,
          0.33647223662121284,
          0.4054651081081644
         ],
         "y": [
          -1.7169043979054537e-09,
          -2.0390821794672656e-08,
          -9.984992993429173e-09,
          -4.010372042499074e-09,
          -1.307827624830506e-09,
          0,
          8.343505882707336e-10,
          1.5628431869751995e-09,
          2.2943134032941814e-09,
          3.0671920511906184e-09,
          3.863214851661117e-09
         ]
        },
        {
         "line": {
          "color": "rgba(128, 177, 211, 1.0)",
          "dash": "solid",
          "shape": "linear",
          "width": 1.3
         },
         "mode": "lines",
         "name": "Fish Sauce",
         "text": "",
         "type": "scatter",
         "x": [
          -0.6931471805599453,
          -0.5108256237659907,
          -0.35667494393873245,
          -0.22314355131420968,
          -0.10536051565782628,
          0,
          0.09531017980432495,
          0.1823215567939546,
          0.26236426446749106,
          0.33647223662121284,
          0.4054651081081644
         ],
         "y": [
          9.689477173632797e-09,
          -2.0417458932156784e-08,
          -1.742811132831247e-08,
          -8.500049922298569e-09,
          -3.347718552423643e-09,
          0,
          2.590049060756467e-09,
          4.777546125068263e-09,
          6.6940723850928945e-09,
          8.38511279114844e-09,
          9.902277837525625e-09
         ]
        },
        {
         "line": {
          "color": "rgba(128, 177, 211, 0.8999999999999999)",
          "dash": "solid",
          "shape": "linear",
          "width": 1.3
         },
         "mode": "lines",
         "name": "Pork",
         "text": "",
         "type": "scatter",
         "x": [
          -0.6931471805599453,
          -0.5108256237659907,
          -0.35667494393873245,
          -0.22314355131420968,
          -0.10536051565782628,
          0,
          0.09531017980432495,
          0.1823215567939546,
          0.26236426446749106,
          0.33647223662121284,
          0.4054651081081644
         ],
         "y": [
          -0.12133919741249241,
          -0.0917136545852497,
          -0.06294093364519064,
          -0.03534732828810909,
          -0.016592887759980968,
          0,
          0.016322012360303964,
          0.028314900721711323,
          0.02831489948365134,
          0.02831489918249491,
          0.02831489902464982
         ]
        },
        {
         "line": {
          "color": "rgba(255, 153, 51, 0.8999999999999999)",
          "dash": "solid",
          "shape": "linear",
          "width": 1.3
         },
         "mode": "lines",
         "name": "Tofu",
         "text": "",
         "type": "scatter",
         "x": [
          -0.6931471805599453,
          -0.5108256237659907,
          -0.35667494393873245,
          -0.22314355131420968,
          -0.10536051565782628,
          0,
          0.09531017980432495,
          0.1823215567939546,
          0.26236426446749106,
          0.33647223662121284,
          0.4054651081081644
         ],
         "y": [
          -2.0456688663533658e-08,
          -2.013433362543454e-08,
          -1.747220128299188e-08,
          1.666886196701795e-07,
          -2.037658196284625e-08,
          0,
          -1.0724026502144137e-08,
          4.00354691637071e-07,
          -2.037639211470517e-08,
          -2.037957545724855e-08,
          -2.0406695652780252e-08
         ]
        },
        {
         "line": {
          "color": "rgba(55, 128, 191, 0.8999999999999999)",
          "dash": "solid",
          "shape": "linear",
          "width": 1.3
         },
         "mode": "lines",
         "name": "Green Onions",
         "text": "",
         "type": "scatter",
         "x": [
          -0.6931471805599453,
          -0.5108256237659907,
          -0.35667494393873245,
          -0.22314355131420968,
          -0.10536051565782628,
          0,
          0.09531017980432495,
          0.1823215567939546,
          0.26236426446749106,
          0.33647223662121284,
          0.4054651081081644
         ],
         "y": [
          -2.0362104654310245e-08,
          -1.9724788219677513e-08,
          6.756733144536362e-08,
          1.5734680989809342e-08,
          2.856641589535345e-10,
          0,
          -1.6721246610961423e-10,
          -8.11160564232788e-09,
          -1.5769125685226487e-08,
          -2.045261370086072e-08,
          -2.0392446939169242e-08
         ]
        },
        {
         "line": {
          "color": "rgba(50, 171, 96, 0.8999999999999999)",
          "dash": "solid",
          "shape": "linear",
          "width": 1.3
         },
         "mode": "lines",
         "name": "Sweet Chili Sauce",
         "text": "",
         "type": "scatter",
         "x": [
          -0.6931471805599453,
          -0.5108256237659907,
          -0.35667494393873245,
          -0.22314355131420968,
          -0.10536051565782628,
          0,
          0.09531017980432495,
          0.1823215567939546,
          0.26236426446749106,
          0.33647223662121284,
          0.4054651081081644
         ],
         "y": [
          -2.0317281952292282e-08,
          -2.0361105564590042e-08,
          -2.0413513199446712e-08,
          -2.0401152642172107e-08,
          -6.7567422996190216e-09,
          0,
          -1.1450729763330218e-08,
          -2.0391287866307896e-08,
          -2.0383750451017746e-08,
          -1.9907506730289655e-08,
          -8.407819142948842e-09
         ]
        },
        {
         "line": {
          "color": "rgba(128, 0, 128, 0.8999999999999999)",
          "dash": "solid",
          "shape": "linear",
          "width": 1.3
         },
         "mode": "lines",
         "name": "Beef Short Ribs",
         "text": "",
         "type": "scatter",
         "x": [
          -0.6931471805599453,
          -0.5108256237659907,
          -0.35667494393873245,
          -0.22314355131420968,
          -0.10536051565782628,
          0,
          0.09531017980432495,
          0.1823215567939546,
          0.26236426446749106,
          0.33647223662121284,
          0.4054651081081644
         ],
         "y": [
          -0.04558789927159357,
          -0.018723421748967215,
          -1.814728961359524e-08,
          -1.8615047454660614e-08,
          2.7728410072185415e-08,
          0,
          4.9787600801704377e-08,
          1.1473254088085884e-07,
          -2.029633848268585e-08,
          -2.028566557546666e-08,
          -2.0280140772517158e-08
         ]
        },
        {
         "line": {
          "color": "rgba(219, 64, 82, 0.8999999999999999)",
          "dash": "solid",
          "shape": "linear",
          "width": 1.3
         },
         "mode": "lines",
         "name": "potato",
         "text": "",
         "type": "scatter",
         "x": [
          -0.6931471805599453,
          -0.5108256237659907,
          -0.35667494393873245,
          -0.22314355131420968,
          -0.10536051565782628,
          0,
          0.09531017980432495,
          0.1823215567939546,
          0.26236426446749106,
          0.33647223662121284,
          0.4054651081081644
         ],
         "y": [
          -2.03643812776909e-08,
          3.577361476342483e-08,
          4.773124403940359e-08,
          -2.0313050559192567e-08,
          -1.0634732706609866e-08,
          0,
          -3.367400697292584e-09,
          -9.764156308974265e-09,
          -1.4737337570084644e-08,
          -1.74133246006568e-08,
          9.697869525695974e-08
         ]
        },
        {
         "line": {
          "color": "rgba(0, 128, 128, 0.8999999999999999)",
          "dash": "solid",
          "shape": "linear",
          "width": 1.3
         },
         "mode": "lines",
         "name": "fish cake",
         "text": "",
         "type": "scatter",
         "x": [
          -0.6931471805599453,
          -0.5108256237659907,
          -0.35667494393873245,
          -0.22314355131420968,
          -0.10536051565782628,
          0,
          0.09531017980432495,
          0.1823215567939546,
          0.26236426446749106,
          0.33647223662121284,
          0.4054651081081644
         ],
         "y": [
          -2.041011769327889e-08,
          -2.036965727965598e-08,
          -2.0394371954910898e-08,
          4.361361706710075e-09,
          1.0339419045218738e-08,
          0,
          -1.4431770327448989e-08,
          -2.0380302320277585e-08,
          -2.000604646418594e-08,
          2.0976398176039618e-08,
          1.1716063654585667e-07
         ]
        },
        {
         "line": {
          "color": "rgba(255, 255, 51, 0.8999999999999999)",
          "dash": "solid",
          "shape": "linear",
          "width": 1.3
         },
         "mode": "lines",
         "name": "kimchi",
         "text": "",
         "type": "scatter",
         "x": [
          -0.6931471805599453,
          -0.5108256237659907,
          -0.35667494393873245,
          -0.22314355131420968,
          -0.10536051565782628,
          0,
          0.09531017980432495,
          0.1823215567939546,
          0.26236426446749106,
          0.33647223662121284,
          0.4054651081081644
         ],
         "y": [
          -2.040020917462653e-08,
          -2.0369045879823865e-08,
          -2.04144754297618e-08,
          -4.695622124384265e-09,
          5.366299612486921e-09,
          0,
          -1.2954835954629329e-08,
          -2.0391283092348794e-08,
          -2.0334343638036907e-08,
          -1.0448827191444239e-08,
          7.520047146454756e-08
         ]
        },
        {
         "line": {
          "color": "rgba(128, 128, 0, 0.8999999999999999)",
          "dash": "solid",
          "shape": "linear",
          "width": 1.3
         },
         "mode": "lines",
         "name": "Soy Sauce",
         "text": "",
         "type": "scatter",
         "x": [
          -0.6931471805599453,
          -0.5108256237659907,
          -0.35667494393873245,
          -0.22314355131420968,
          -0.10536051565782628,
          0,
          0.09531017980432495,
          0.1823215567939546,
          0.26236426446749106,
          0.33647223662121284,
          0.4054651081081644
         ],
         "y": [
          -1.2065583160983535e-08,
          7.280621906775185e-08,
          -9.716665852499532e-09,
          -2.0285166308162358e-08,
          -2.0448720925789866e-08,
          0,
          -2.034909195201834e-08,
          -1.970431814919052e-08,
          -2.0456431535875893e-08,
          -2.042408096854469e-08,
          1.4544158882505936e-08
         ]
        },
        {
         "line": {
          "color": "rgba(251, 128, 114, 0.8999999999999999)",
          "dash": "solid",
          "shape": "linear",
          "width": 1.3
         },
         "mode": "lines",
         "name": "Sesame ",
         "text": "",
         "type": "scatter",
         "x": [
          -0.6931471805599453,
          -0.5108256237659907,
          -0.35667494393873245,
          -0.22314355131420968,
          -0.10536051565782628,
          0,
          0.09531017980432495,
          0.1823215567939546,
          0.26236426446749106,
          0.33647223662121284,
          0.4054651081081644
         ],
         "y": [
          -0.00012367133209358186,
          1.1308355478783611e-07,
          -2.0022259717472848e-08,
          9.960597228333553e-08,
          -2.0334338308966283e-08,
          0,
          -7.83393109009412e-09,
          -1.6478528566445495e-08,
          -2.040990819418987e-08,
          -2.0378182460391164e-08,
          -2.0376423978106626e-08
         ]
        },
        {
         "line": {
          "color": "rgba(251, 128, 114, 0.7999999999999998)",
          "dash": "solid",
          "shape": "linear",
          "width": 1.3
         },
         "mode": "lines",
         "name": "Brown Sugar",
         "text": "",
         "type": "scatter",
         "x": [
          -0.6931471805599453,
          -0.5108256237659907,
          -0.35667494393873245,
          -0.22314355131420968,
          -0.10536051565782628,
          0,
          0.09531017980432495,
          0.1823215567939546,
          0.26236426446749106,
          0.33647223662121284,
          0.4054651081081644
         ],
         "y": [
          -1.9943672690126656e-08,
          2.914540694831164e-07,
          -2.0455555791936156e-08,
          -8.339201475270407e-09,
          -1.1346725401465446e-08,
          0,
          -2.6408490984462497e-09,
          1.336223908841561e-07,
          -2.038097089659664e-08,
          -2.000645991124858e-08,
          1.9130962630921152e-08
         ]
        },
        {
         "line": {
          "color": "rgba(128, 177, 211, 0.7999999999999998)",
          "dash": "solid",
          "shape": "linear",
          "width": 1.3
         },
         "mode": "lines",
         "name": "Lettuce",
         "text": "",
         "type": "scatter",
         "x": [
          -0.6931471805599453,
          -0.5108256237659907,
          -0.35667494393873245,
          -0.22314355131420968,
          -0.10536051565782628,
          0,
          0.09531017980432495,
          0.1823215567939546,
          0.26236426446749106,
          0.33647223662121284,
          0.4054651081081644
         ],
         "y": [
          -2.0385779383636608e-08,
          4.892116592065929e-08,
          -1.0060648809133631e-08,
          -4.230713788256863e-09,
          -1.1863837697066832e-09,
          0,
          1.7536327943784613e-10,
          -1.3451262327118646e-10,
          -6.579961022656759e-10,
          -1.2506502508107473e-09,
          -1.8457244638605993e-09
         ]
        },
        {
         "line": {
          "color": "rgba(255, 153, 51, 0.7999999999999998)",
          "dash": "solid",
          "shape": "linear",
          "width": 1.3
         },
         "mode": "lines",
         "name": "Rice Cake",
         "text": "",
         "type": "scatter",
         "x": [
          -0.6931471805599453,
          -0.5108256237659907,
          -0.35667494393873245,
          -0.22314355131420968,
          -0.10536051565782628,
          0,
          0.09531017980432495,
          0.1823215567939546,
          0.26236426446749106,
          0.33647223662121284,
          0.4054651081081644
         ],
         "y": [
          -2.0353647308203385e-08,
          -2.0384172890887225e-08,
          -2.0410128018353232e-08,
          -2.0388973495343573e-08,
          -4.69994810842004e-09,
          0,
          4.086090848795272e-08,
          -2.034083389094856e-08,
          -7.828138140774981e-10,
          2.3277452139122196e-08,
          -5.386909377534835e-09
         ]
        },
        {
         "line": {
          "color": "rgba(55, 128, 191, 0.7999999999999998)",
          "dash": "solid",
          "shape": "linear",
          "width": 1.3
         },
         "mode": "lines",
         "name": "Glass Noodle",
         "text": "",
         "type": "scatter",
         "x": [
          -0.6931471805599453,
          -0.5108256237659907,
          -0.35667494393873245,
          -0.22314355131420968,
          -0.10536051565782628,
          0,
          0.09531017980432495,
          0.1823215567939546,
          0.26236426446749106,
          0.33647223662121284,
          0.4054651081081644
         ],
         "y": [
          -1.3646519230047675e-08,
          -9.66215179203848e-09,
          -5.664358331769236e-09,
          -2.4876339907853015e-09,
          -5.98979865886283e-10,
          0,
          -4.524017828046722e-10,
          -1.6546611872148478e-09,
          -3.2876215137674865e-09,
          -5.692967558030961e-09,
          -8.516499097793671e-09
         ]
        },
        {
         "line": {
          "color": "rgba(50, 171, 96, 0.7999999999999998)",
          "dash": "solid",
          "shape": "linear",
          "width": 1.3
         },
         "mode": "lines",
         "name": "Seaweed",
         "text": "",
         "type": "scatter",
         "x": [
          -0.6931471805599453,
          -0.5108256237659907,
          -0.35667494393873245,
          -0.22314355131420968,
          -0.10536051565782628,
          0,
          0.09531017980432495,
          0.1823215567939546,
          0.26236426446749106,
          0.33647223662121284,
          0.4054651081081644
         ],
         "y": [
          5.501545489938237e-08,
          -1.9996495770425575e-08,
          -2.03782655050751e-08,
          3.630498511155826e-07,
          1.5338941028874022e-07,
          0,
          -1.8486286894500465e-08,
          -2.037815226232428e-08,
          -2.0399541486485902e-08,
          -2.0369833361031273e-08,
          -2.0349912295827926e-08
         ]
        },
        {
         "line": {
          "color": "rgba(128, 0, 128, 0.7999999999999998)",
          "dash": "solid",
          "shape": "linear",
          "width": 1.3
         },
         "mode": "lines",
         "name": "Cabbage ",
         "text": "",
         "type": "scatter",
         "x": [
          -0.6931471805599453,
          -0.5108256237659907,
          -0.35667494393873245,
          -0.22314355131420968,
          -0.10536051565782628,
          0,
          0.09531017980432495,
          0.1823215567939546,
          0.26236426446749106,
          0.33647223662121284,
          0.4054651081081644
         ],
         "y": [
          -0.005239710156217632,
          -0.002252990700938197,
          -2.0236954428251976e-08,
          2.6855948540036757e-09,
          -6.734827142687847e-10,
          0,
          -1.6312947672663815e-09,
          -3.6683808280596496e-09,
          -5.441574095028086e-09,
          -6.776502715278826e-09,
          -7.723790081811782e-09
         ]
        },
        {
         "line": {
          "color": "rgba(219, 64, 82, 0.7999999999999998)",
          "dash": "solid",
          "shape": "linear",
          "width": 1.3
         },
         "mode": "lines",
         "name": "Flour",
         "text": "",
         "type": "scatter",
         "x": [
          -0.6931471805599453,
          -0.5108256237659907,
          -0.35667494393873245,
          -0.22314355131420968,
          -0.10536051565782628,
          0,
          0.09531017980432495,
          0.1823215567939546,
          0.26236426446749106,
          0.33647223662121284,
          0.4054651081081644
         ],
         "y": [
          -0.063701562446814,
          -0.03888806230632573,
          -0.02538889033129746,
          -0.016854109787691696,
          -0.008391464516408384,
          0,
          0.008321685894004173,
          0.01657471270979932,
          0.024760184409064814,
          0.030749043470504306,
          0.035625011351409774
         ]
        },
        {
         "line": {
          "color": "rgba(0, 128, 128, 0.7999999999999998)",
          "dash": "solid",
          "shape": "linear",
          "width": 1.3
         },
         "mode": "lines",
         "name": "Chicken",
         "text": "",
         "type": "scatter",
         "x": [
          -0.6931471805599453,
          -0.5108256237659907,
          -0.35667494393873245,
          -0.22314355131420968,
          -0.10536051565782628,
          0,
          0.09531017980432495,
          0.1823215567939546,
          0.26236426446749106,
          0.33647223662121284,
          0.4054651081081644
         ],
         "y": [
          -3.937780664856987e-09,
          -2.0443327684270572e-08,
          6.908705857447083e-08,
          2.504250832887615e-07,
          6.930041722377733e-08,
          0,
          -2.0353000936345293e-08,
          -2.0301893039613108e-08,
          -2.02826428821985e-08,
          -2.0273028683677202e-08,
          -2.0274368611872787e-08
         ]
        },
        {
         "line": {
          "color": "rgba(255, 255, 51, 0.7999999999999998)",
          "dash": "solid",
          "shape": "linear",
          "width": 1.3
         },
         "mode": "lines",
         "name": "Teriyaki Sauce",
         "text": "",
         "type": "scatter",
         "x": [
          -0.6931471805599453,
          -0.5108256237659907,
          -0.35667494393873245,
          -0.22314355131420968,
          -0.10536051565782628,
          0,
          0.09531017980432495,
          0.1823215567939546,
          0.26236426446749106,
          0.33647223662121284,
          0.4054651081081644
         ],
         "y": [
          1.1912287973917244e-08,
          -1.790825648266046e-08,
          9.853298350876652e-09,
          -1.8869217699834498e-08,
          -6.793063468160311e-09,
          0,
          -1.4507228634810926e-08,
          5.63159574214924e-08,
          -2.03809793342918e-08,
          -2.039880096771337e-08,
          -2.041170997517331e-08
         ]
        }
       ],
       "layout": {
        "legend": {
         "bgcolor": "#F5F6F9",
         "font": {
          "color": "#4D5663"
         }
        },
        "paper_bgcolor": "#F5F6F9",
        "plot_bgcolor": "#F5F6F9",
        "template": {
         "data": {
          "bar": [
           {
            "error_x": {
             "color": "#2a3f5f"
            },
            "error_y": {
             "color": "#2a3f5f"
            },
            "marker": {
             "line": {
              "color": "#E5ECF6",
              "width": 0.5
             },
             "pattern": {
              "fillmode": "overlay",
              "size": 10,
              "solidity": 0.2
             }
            },
            "type": "bar"
           }
          ],
          "barpolar": [
           {
            "marker": {
             "line": {
              "color": "#E5ECF6",
              "width": 0.5
             },
             "pattern": {
              "fillmode": "overlay",
              "size": 10,
              "solidity": 0.2
             }
            },
            "type": "barpolar"
           }
          ],
          "carpet": [
           {
            "aaxis": {
             "endlinecolor": "#2a3f5f",
             "gridcolor": "white",
             "linecolor": "white",
             "minorgridcolor": "white",
             "startlinecolor": "#2a3f5f"
            },
            "baxis": {
             "endlinecolor": "#2a3f5f",
             "gridcolor": "white",
             "linecolor": "white",
             "minorgridcolor": "white",
             "startlinecolor": "#2a3f5f"
            },
            "type": "carpet"
           }
          ],
          "choropleth": [
           {
            "colorbar": {
             "outlinewidth": 0,
             "ticks": ""
            },
            "type": "choropleth"
           }
          ],
          "contour": [
           {
            "colorbar": {
             "outlinewidth": 0,
             "ticks": ""
            },
            "colorscale": [
             [
              0,
              "#0d0887"
             ],
             [
              0.1111111111111111,
              "#46039f"
             ],
             [
              0.2222222222222222,
              "#7201a8"
             ],
             [
              0.3333333333333333,
              "#9c179e"
             ],
             [
              0.4444444444444444,
              "#bd3786"
             ],
             [
              0.5555555555555556,
              "#d8576b"
             ],
             [
              0.6666666666666666,
              "#ed7953"
             ],
             [
              0.7777777777777778,
              "#fb9f3a"
             ],
             [
              0.8888888888888888,
              "#fdca26"
             ],
             [
              1,
              "#f0f921"
             ]
            ],
            "type": "contour"
           }
          ],
          "contourcarpet": [
           {
            "colorbar": {
             "outlinewidth": 0,
             "ticks": ""
            },
            "type": "contourcarpet"
           }
          ],
          "heatmap": [
           {
            "colorbar": {
             "outlinewidth": 0,
             "ticks": ""
            },
            "colorscale": [
             [
              0,
              "#0d0887"
             ],
             [
              0.1111111111111111,
              "#46039f"
             ],
             [
              0.2222222222222222,
              "#7201a8"
             ],
             [
              0.3333333333333333,
              "#9c179e"
             ],
             [
              0.4444444444444444,
              "#bd3786"
             ],
             [
              0.5555555555555556,
              "#d8576b"
             ],
             [
              0.6666666666666666,
              "#ed7953"
             ],
             [
              0.7777777777777778,
              "#fb9f3a"
             ],
             [
              0.8888888888888888,
              "#fdca26"
             ],
             [
              1,
              "#f0f921"
             ]
            ],
            "type": "heatmap"
           }
          ],
          "heatmapgl": [
           {
            "colorbar": {
             "outlinewidth": 0,
             "ticks": ""
            },
            "colorscale": [
             [
              0,
              "#0d0887"
             ],
             [
              0.1111111111111111,
              "#46039f"
             ],
             [
              0.2222222222222222,
              "#7201a8"
             ],
             [
              0.3333333333333333,
              "#9c179e"
             ],
             [
              0.4444444444444444,
              "#bd3786"
             ],
             [
              0.5555555555555556,
              "#d8576b"
             ],
             [
              0.6666666666666666,
              "#ed7953"
             ],
             [
              0.7777777777777778,
              "#fb9f3a"
             ],
             [
              0.8888888888888888,
              "#fdca26"
             ],
             [
              1,
              "#f0f921"
             ]
            ],
            "type": "heatmapgl"
           }
          ],
          "histogram": [
           {
            "marker": {
             "pattern": {
              "fillmode": "overlay",
              "size": 10,
              "solidity": 0.2
             }
            },
            "type": "histogram"
           }
          ],
          "histogram2d": [
           {
            "colorbar": {
             "outlinewidth": 0,
             "ticks": ""
            },
            "colorscale": [
             [
              0,
              "#0d0887"
             ],
             [
              0.1111111111111111,
              "#46039f"
             ],
             [
              0.2222222222222222,
              "#7201a8"
             ],
             [
              0.3333333333333333,
              "#9c179e"
             ],
             [
              0.4444444444444444,
              "#bd3786"
             ],
             [
              0.5555555555555556,
              "#d8576b"
             ],
             [
              0.6666666666666666,
              "#ed7953"
             ],
             [
              0.7777777777777778,
              "#fb9f3a"
             ],
             [
              0.8888888888888888,
              "#fdca26"
             ],
             [
              1,
              "#f0f921"
             ]
            ],
            "type": "histogram2d"
           }
          ],
          "histogram2dcontour": [
           {
            "colorbar": {
             "outlinewidth": 0,
             "ticks": ""
            },
            "colorscale": [
             [
              0,
              "#0d0887"
             ],
             [
              0.1111111111111111,
              "#46039f"
             ],
             [
              0.2222222222222222,
              "#7201a8"
             ],
             [
              0.3333333333333333,
              "#9c179e"
             ],
             [
              0.4444444444444444,
              "#bd3786"
             ],
             [
              0.5555555555555556,
              "#d8576b"
             ],
             [
              0.6666666666666666,
              "#ed7953"
             ],
             [
              0.7777777777777778,
              "#fb9f3a"
             ],
             [
              0.8888888888888888,
              "#fdca26"
             ],
             [
              1,
              "#f0f921"
             ]
            ],
            "type": "histogram2dcontour"
           }
          ],
          "mesh3d": [
           {
            "colorbar": {
             "outlinewidth": 0,
             "ticks": ""
            },
            "type": "mesh3d"
           }
          ],
          "parcoords": [
           {
            "line": {
             "colorbar": {
              "outlinewidth": 0,
              "ticks": ""
             }
            },
            "type": "parcoords"
           }
          ],
          "pie": [
           {
            "automargin": true,
            "type": "pie"
           }
          ],
          "scatter": [
           {
            "marker": {
             "colorbar": {
              "outlinewidth": 0,
              "ticks": ""
             }
            },
            "type": "scatter"
           }
          ],
          "scatter3d": [
           {
            "line": {
             "colorbar": {
              "outlinewidth": 0,
              "ticks": ""
             }
            },
            "marker": {
             "colorbar": {
              "outlinewidth": 0,
              "ticks": ""
             }
            },
            "type": "scatter3d"
           }
          ],
          "scattercarpet": [
           {
            "marker": {
             "colorbar": {
              "outlinewidth": 0,
              "ticks": ""
             }
            },
            "type": "scattercarpet"
           }
          ],
          "scattergeo": [
           {
            "marker": {
             "colorbar": {
              "outlinewidth": 0,
              "ticks": ""
             }
            },
            "type": "scattergeo"
           }
          ],
          "scattergl": [
           {
            "marker": {
             "colorbar": {
              "outlinewidth": 0,
              "ticks": ""
             }
            },
            "type": "scattergl"
           }
          ],
          "scattermapbox": [
           {
            "marker": {
             "colorbar": {
              "outlinewidth": 0,
              "ticks": ""
             }
            },
            "type": "scattermapbox"
           }
          ],
          "scatterpolar": [
           {
            "marker": {
             "colorbar": {
              "outlinewidth": 0,
              "ticks": ""
             }
            },
            "type": "scatterpolar"
           }
          ],
          "scatterpolargl": [
           {
            "marker": {
             "colorbar": {
              "outlinewidth": 0,
              "ticks": ""
             }
            },
            "type": "scatterpolargl"
           }
          ],
          "scatterternary": [
           {
            "marker": {
             "colorbar": {
              "outlinewidth": 0,
              "ticks": ""
             }
            },
            "type": "scatterternary"
           }
          ],
          "surface": [
           {
            "colorbar": {
             "outlinewidth": 0,
             "ticks": ""
            },
            "colorscale": [
             [
              0,
              "#0d0887"
             ],
             [
              0.1111111111111111,
              "#46039f"
             ],
             [
              0.2222222222222222,
              "#7201a8"
             ],
             [
              0.3333333333333333,
              "#9c179e"
             ],
             [
              0.4444444444444444,
              "#bd3786"
             ],
             [
              0.5555555555555556,
              "#d8576b"
             ],
             [
              0.6666666666666666,
              "#ed7953"
             ],
             [
              0.7777777777777778,
              "#fb9f3a"
             ],
             [
              0.8888888888888888,
              "#fdca26"
             ],
             [
              1,
              "#f0f921"
             ]
            ],
            "type": "surface"
           }
          ],
          "table": [
           {
            "cells": {
             "fill": {
              "color": "#EBF0F8"
             },
             "line": {
              "color": "white"
             }
            },
            "header": {
             "fill": {
              "color": "#C8D4E3"
             },
             "line": {
              "color": "white"
             }
            },
            "type": "table"
           }
          ]
         },
         "layout": {
          "annotationdefaults": {
           "arrowcolor": "#2a3f5f",
           "arrowhead": 0,
           "arrowwidth": 1
          },
          "autotypenumbers": "strict",
          "coloraxis": {
           "colorbar": {
            "outlinewidth": 0,
            "ticks": ""
           }
          },
          "colorscale": {
           "diverging": [
            [
             0,
             "#8e0152"
            ],
            [
             0.1,
             "#c51b7d"
            ],
            [
             0.2,
             "#de77ae"
            ],
            [
             0.3,
             "#f1b6da"
            ],
            [
             0.4,
             "#fde0ef"
            ],
            [
             0.5,
             "#f7f7f7"
            ],
            [
             0.6,
             "#e6f5d0"
            ],
            [
             0.7,
             "#b8e186"
            ],
            [
             0.8,
             "#7fbc41"
            ],
            [
             0.9,
             "#4d9221"
            ],
            [
             1,
             "#276419"
            ]
           ],
           "sequential": [
            [
             0,
             "#0d0887"
            ],
            [
             0.1111111111111111,
             "#46039f"
            ],
            [
             0.2222222222222222,
             "#7201a8"
            ],
            [
             0.3333333333333333,
             "#9c179e"
            ],
            [
             0.4444444444444444,
             "#bd3786"
            ],
            [
             0.5555555555555556,
             "#d8576b"
            ],
            [
             0.6666666666666666,
             "#ed7953"
            ],
            [
             0.7777777777777778,
             "#fb9f3a"
            ],
            [
             0.8888888888888888,
             "#fdca26"
            ],
            [
             1,
             "#f0f921"
            ]
           ],
           "sequentialminus": [
            [
             0,
             "#0d0887"
            ],
            [
             0.1111111111111111,
             "#46039f"
            ],
            [
             0.2222222222222222,
             "#7201a8"
            ],
            [
             0.3333333333333333,
             "#9c179e"
            ],
            [
             0.4444444444444444,
             "#bd3786"
            ],
            [
             0.5555555555555556,
             "#d8576b"
            ],
            [
             0.6666666666666666,
             "#ed7953"
            ],
            [
             0.7777777777777778,
             "#fb9f3a"
            ],
            [
             0.8888888888888888,
             "#fdca26"
            ],
            [
             1,
             "#f0f921"
            ]
           ]
          },
          "colorway": [
           "#636efa",
           "#EF553B",
           "#00cc96",
           "#ab63fa",
           "#FFA15A",
           "#19d3f3",
           "#FF6692",
           "#B6E880",
           "#FF97FF",
           "#FECB52"
          ],
          "font": {
           "color": "#2a3f5f"
          },
          "geo": {
           "bgcolor": "white",
           "lakecolor": "white",
           "landcolor": "#E5ECF6",
           "showlakes": true,
           "showland": true,
           "subunitcolor": "white"
          },
          "hoverlabel": {
           "align": "left"
          },
          "hovermode": "closest",
          "mapbox": {
           "style": "light"
          },
          "paper_bgcolor": "white",
          "plot_bgcolor": "#E5ECF6",
          "polar": {
           "angularaxis": {
            "gridcolor": "white",
            "linecolor": "white",
            "ticks": ""
           },
           "bgcolor": "#E5ECF6",
           "radialaxis": {
            "gridcolor": "white",
            "linecolor": "white",
            "ticks": ""
           }
          },
          "scene": {
           "xaxis": {
            "backgroundcolor": "#E5ECF6",
            "gridcolor": "white",
            "gridwidth": 2,
            "linecolor": "white",
            "showbackground": true,
            "ticks": "",
            "zerolinecolor": "white"
           },
           "yaxis": {
            "backgroundcolor": "#E5ECF6",
            "gridcolor": "white",
            "gridwidth": 2,
            "linecolor": "white",
            "showbackground": true,
            "ticks": "",
            "zerolinecolor": "white"
           },
           "zaxis": {
            "backgroundcolor": "#E5ECF6",
            "gridcolor": "white",
            "gridwidth": 2,
            "linecolor": "white",
            "showbackground": true,
            "ticks": "",
            "zerolinecolor": "white"
           }
          },
          "shapedefaults": {
           "line": {
            "color": "#2a3f5f"
           }
          },
          "ternary": {
           "aaxis": {
            "gridcolor": "white",
            "linecolor": "white",
            "ticks": ""
           },
           "baxis": {
            "gridcolor": "white",
            "linecolor": "white",
            "ticks": ""
           },
           "bgcolor": "#E5ECF6",
           "caxis": {
            "gridcolor": "white",
            "linecolor": "white",
            "ticks": ""
           }
          },
          "title": {
           "x": 0.05
          },
          "xaxis": {
           "automargin": true,
           "gridcolor": "white",
           "linecolor": "white",
           "ticks": "",
           "title": {
            "standoff": 15
           },
           "zerolinecolor": "white",
           "zerolinewidth": 2
          },
          "yaxis": {
           "automargin": true,
           "gridcolor": "white",
           "linecolor": "white",
           "ticks": "",
           "title": {
            "standoff": 15
           },
           "zerolinecolor": "white",
           "zerolinewidth": 2
          }
         }
        },
        "title": {
         "font": {
          "color": "#4D5663"
         },
         "text": "Effects of Price Changes on Subsistence Diet Cost for F 19-30"
        },
        "xaxis": {
         "gridcolor": "#E1E5ED",
         "showgrid": true,
         "tickfont": {
          "color": "#4D5663"
         },
         "title": {
          "font": {
           "color": "#4D5663"
          },
          "text": "change in log price"
         },
         "zerolinecolor": "#E1E5ED"
        },
        "yaxis": {
         "gridcolor": "#E1E5ED",
         "showgrid": true,
         "tickfont": {
          "color": "#4D5663"
         },
         "title": {
          "font": {
           "color": "#4D5663"
          },
          "text": "change in log cost"
         },
         "zerolinecolor": "#E1E5ED"
        }
       }
      },
      "text/html": [
       "<div>                            <div id=\"743dfcfb-f5e0-4dcc-aae8-37c492be755c\" class=\"plotly-graph-div\" style=\"height:525px; width:100%;\"></div>            <script type=\"text/javascript\">                require([\"plotly\"], function(Plotly) {                    window.PLOTLYENV=window.PLOTLYENV || {};\n",
       "                    window.PLOTLYENV.BASE_URL='https://plot.ly';                                    if (document.getElementById(\"743dfcfb-f5e0-4dcc-aae8-37c492be755c\")) {                    Plotly.newPlot(                        \"743dfcfb-f5e0-4dcc-aae8-37c492be755c\",                        [{\"line\":{\"color\":\"rgba(255, 153, 51, 1.0)\",\"dash\":\"solid\",\"shape\":\"linear\",\"width\":1.3},\"mode\":\"lines\",\"name\":\"Beef\",\"text\":\"\",\"type\":\"scatter\",\"x\":[-0.6931471805599453,-0.5108256237659907,-0.35667494393873245,-0.22314355131420968,-0.10536051565782628,0.0,0.09531017980432495,0.1823215567939546,0.26236426446749106,0.33647223662121284,0.4054651081081644],\"y\":[-0.041202957242750915,-0.01018076594171588,-2.04533685415106e-08,-2.0412429954819474e-08,-2.0439599888344588e-08,0.0,-2.0422891475571815e-08,-2.0415395138534175e-08,-2.0385469964473335e-08,-2.0374727335245825e-08,-2.0370014105343364e-08]},{\"line\":{\"color\":\"rgba(55, 128, 191, 1.0)\",\"dash\":\"solid\",\"shape\":\"linear\",\"width\":1.3},\"mode\":\"lines\",\"name\":\"Egg\",\"text\":\"\",\"type\":\"scatter\",\"x\":[-0.6931471805599453,-0.5108256237659907,-0.35667494393873245,-0.22314355131420968,-0.10536051565782628,0.0,0.09531017980432495,0.1823215567939546,0.26236426446749106,0.33647223662121284,0.4054651081081644],\"y\":[-0.08465158042551889,-0.06101429841628459,-0.03792283089197646,-0.016938492658754994,-0.008433378754298464,0.0,0.008362824868187844,0.016656312332918564,0.018720789363642056,0.018720782939357857,0.018720781886281148]},{\"line\":{\"color\":\"rgba(50, 171, 96, 1.0)\",\"dash\":\"solid\",\"shape\":\"linear\",\"width\":1.3},\"mode\":\"lines\",\"name\":\"Carrots\",\"text\":\"\",\"type\":\"scatter\",\"x\":[-0.6931471805599453,-0.5108256237659907,-0.35667494393873245,-0.22314355131420968,-0.10536051565782628,0.0,0.09531017980432495,0.1823215567939546,0.26236426446749106,0.33647223662121284,0.4054651081081644],\"y\":[-1.908201448406926e-08,-9.600113305981043e-09,-4.020293550598475e-09,-1.8217516400905133e-09,-6.848334124356563e-10,0.0,4.30823598925222e-10,6.958296159064684e-10,8.54772474657651e-10,9.603162704870656e-10,1.0467635641681453e-09]},{\"line\":{\"color\":\"rgba(128, 0, 128, 1.0)\",\"dash\":\"solid\",\"shape\":\"linear\",\"width\":1.3},\"mode\":\"lines\",\"name\":\"Purple Cabbage \",\"text\":\"\",\"type\":\"scatter\",\"x\":[-0.6931471805599453,-0.5108256237659907,-0.35667494393873245,-0.22314355131420968,-0.10536051565782628,0.0,0.09531017980432495,0.1823215567939546,0.26236426446749106,0.33647223662121284,0.4054651081081644],\"y\":[-0.008897235802478773,-0.007111448566109459,-0.00532884480432377,-0.003549405969563199,-0.001773141889058666,0.0,0.0017699664624996677,0.0035368185297325414,0.005300558061950479,0.0070611922696063095,0.008818732102241152]},{\"line\":{\"color\":\"rgba(219, 64, 82, 1.0)\",\"dash\":\"solid\",\"shape\":\"linear\",\"width\":1.3},\"mode\":\"lines\",\"name\":\"Squash\",\"text\":\"\",\"type\":\"scatter\",\"x\":[-0.6931471805599453,-0.5108256237659907,-0.35667494393873245,-0.22314355131420968,-0.10536051565782628,0.0,0.09531017980432495,0.1823215567939546,0.26236426446749106,0.33647223662121284,0.4054651081081644],\"y\":[9.378170688809657e-08,-1.9918930592373625e-08,-2.040842249370799e-08,-1.2589503518989433e-08,-5.885464577470723e-09,0.0,5.262313904107092e-09,1.0093088758235815e-08,1.4573290690158768e-08,1.8667257565346413e-08,2.242261329229545e-08]},{\"line\":{\"color\":\"rgba(0, 128, 128, 1.0)\",\"dash\":\"solid\",\"shape\":\"linear\",\"width\":1.3},\"mode\":\"lines\",\"name\":\"Spinach \",\"text\":\"\",\"type\":\"scatter\",\"x\":[-0.6931471805599453,-0.5108256237659907,-0.35667494393873245,-0.22314355131420968,-0.10536051565782628,0.0,0.09531017980432495,0.1823215567939546,0.26236426446749106,0.33647223662121284,0.4054651081081644],\"y\":[-0.40445427578988397,-0.3064087949519871,-0.21712369382211288,-0.13930380253735922,-0.06722812903717633,0.0,0.06299181668147351,0.1222497280028008,0.17819171786143412,0.2311693038983249,0.2792611617143901]},{\"line\":{\"color\":\"rgba(255, 255, 51, 1.0)\",\"dash\":\"solid\",\"shape\":\"linear\",\"width\":1.3},\"mode\":\"lines\",\"name\":\"Jasmine Rice\",\"text\":\"\",\"type\":\"scatter\",\"x\":[-0.6931471805599453,-0.5108256237659907,-0.35667494393873245,-0.22314355131420968,-0.10536051565782628,0.0,0.09531017980432495,0.1823215567939546,0.26236426446749106,0.33647223662121284,0.4054651081081644],\"y\":[-1.9118382615493056e-08,-1.9621802264552674e-08,-1.997097018826711e-08,-2.0210164302036768e-08,-2.0423555499976406e-08,0.0,-1.967201942929992e-08,-7.178801134887651e-09,6.428729386468104e-08,-1.9129316647160178e-08,2.9339517717915488e-08]},{\"line\":{\"color\":\"rgba(128, 128, 0, 1.0)\",\"dash\":\"solid\",\"shape\":\"linear\",\"width\":1.3},\"mode\":\"lines\",\"name\":\"Kimchi\",\"text\":\"\",\"type\":\"scatter\",\"x\":[-0.6931471805599453,-0.5108256237659907,-0.35667494393873245,-0.22314355131420968,-0.10536051565782628,0.0,0.09531017980432495,0.1823215567939546,0.26236426446749106,0.33647223662121284,0.4054651081081644],\"y\":[-2.0400178310425817e-08,-2.036905442854133e-08,-2.0414485199724614e-08,-4.694744826146088e-09,5.365826213391761e-09,0.0,-1.2955602674660067e-08,-2.0391268770471485e-08,-2.03343364215871e-08,-1.04454607731538e-08,7.518853434748439e-08]},{\"line\":{\"color\":\"rgba(251, 128, 114, 1.0)\",\"dash\":\"solid\",\"shape\":\"linear\",\"width\":1.3},\"mode\":\"lines\",\"name\":\"Onions\",\"text\":\"\",\"type\":\"scatter\",\"x\":[-0.6931471805599453,-0.5108256237659907,-0.35667494393873245,-0.22314355131420968,-0.10536051565782628,0.0,0.09531017980432495,0.1823215567939546,0.26236426446749106,0.33647223662121284,0.4054651081081644],\"y\":[-1.7169043979054537e-09,-2.0390821794672656e-08,-9.984992993429173e-09,-4.010372042499074e-09,-1.307827624830506e-09,0.0,8.343505882707336e-10,1.5628431869751995e-09,2.2943134032941814e-09,3.0671920511906184e-09,3.863214851661117e-09]},{\"line\":{\"color\":\"rgba(128, 177, 211, 1.0)\",\"dash\":\"solid\",\"shape\":\"linear\",\"width\":1.3},\"mode\":\"lines\",\"name\":\"Fish Sauce\",\"text\":\"\",\"type\":\"scatter\",\"x\":[-0.6931471805599453,-0.5108256237659907,-0.35667494393873245,-0.22314355131420968,-0.10536051565782628,0.0,0.09531017980432495,0.1823215567939546,0.26236426446749106,0.33647223662121284,0.4054651081081644],\"y\":[9.689477173632797e-09,-2.0417458932156784e-08,-1.742811132831247e-08,-8.500049922298569e-09,-3.347718552423643e-09,0.0,2.590049060756467e-09,4.777546125068263e-09,6.6940723850928945e-09,8.38511279114844e-09,9.902277837525625e-09]},{\"line\":{\"color\":\"rgba(128, 177, 211, 0.8999999999999999)\",\"dash\":\"solid\",\"shape\":\"linear\",\"width\":1.3},\"mode\":\"lines\",\"name\":\"Pork\",\"text\":\"\",\"type\":\"scatter\",\"x\":[-0.6931471805599453,-0.5108256237659907,-0.35667494393873245,-0.22314355131420968,-0.10536051565782628,0.0,0.09531017980432495,0.1823215567939546,0.26236426446749106,0.33647223662121284,0.4054651081081644],\"y\":[-0.12133919741249241,-0.0917136545852497,-0.06294093364519064,-0.03534732828810909,-0.016592887759980968,0.0,0.016322012360303964,0.028314900721711323,0.02831489948365134,0.02831489918249491,0.02831489902464982]},{\"line\":{\"color\":\"rgba(255, 153, 51, 0.8999999999999999)\",\"dash\":\"solid\",\"shape\":\"linear\",\"width\":1.3},\"mode\":\"lines\",\"name\":\"Tofu\",\"text\":\"\",\"type\":\"scatter\",\"x\":[-0.6931471805599453,-0.5108256237659907,-0.35667494393873245,-0.22314355131420968,-0.10536051565782628,0.0,0.09531017980432495,0.1823215567939546,0.26236426446749106,0.33647223662121284,0.4054651081081644],\"y\":[-2.0456688663533658e-08,-2.013433362543454e-08,-1.747220128299188e-08,1.666886196701795e-07,-2.037658196284625e-08,0.0,-1.0724026502144137e-08,4.00354691637071e-07,-2.037639211470517e-08,-2.037957545724855e-08,-2.0406695652780252e-08]},{\"line\":{\"color\":\"rgba(55, 128, 191, 0.8999999999999999)\",\"dash\":\"solid\",\"shape\":\"linear\",\"width\":1.3},\"mode\":\"lines\",\"name\":\"Green Onions\",\"text\":\"\",\"type\":\"scatter\",\"x\":[-0.6931471805599453,-0.5108256237659907,-0.35667494393873245,-0.22314355131420968,-0.10536051565782628,0.0,0.09531017980432495,0.1823215567939546,0.26236426446749106,0.33647223662121284,0.4054651081081644],\"y\":[-2.0362104654310245e-08,-1.9724788219677513e-08,6.756733144536362e-08,1.5734680989809342e-08,2.856641589535345e-10,0.0,-1.6721246610961423e-10,-8.11160564232788e-09,-1.5769125685226487e-08,-2.045261370086072e-08,-2.0392446939169242e-08]},{\"line\":{\"color\":\"rgba(50, 171, 96, 0.8999999999999999)\",\"dash\":\"solid\",\"shape\":\"linear\",\"width\":1.3},\"mode\":\"lines\",\"name\":\"Sweet Chili Sauce\",\"text\":\"\",\"type\":\"scatter\",\"x\":[-0.6931471805599453,-0.5108256237659907,-0.35667494393873245,-0.22314355131420968,-0.10536051565782628,0.0,0.09531017980432495,0.1823215567939546,0.26236426446749106,0.33647223662121284,0.4054651081081644],\"y\":[-2.0317281952292282e-08,-2.0361105564590042e-08,-2.0413513199446712e-08,-2.0401152642172107e-08,-6.7567422996190216e-09,0.0,-1.1450729763330218e-08,-2.0391287866307896e-08,-2.0383750451017746e-08,-1.9907506730289655e-08,-8.407819142948842e-09]},{\"line\":{\"color\":\"rgba(128, 0, 128, 0.8999999999999999)\",\"dash\":\"solid\",\"shape\":\"linear\",\"width\":1.3},\"mode\":\"lines\",\"name\":\"Beef Short Ribs\",\"text\":\"\",\"type\":\"scatter\",\"x\":[-0.6931471805599453,-0.5108256237659907,-0.35667494393873245,-0.22314355131420968,-0.10536051565782628,0.0,0.09531017980432495,0.1823215567939546,0.26236426446749106,0.33647223662121284,0.4054651081081644],\"y\":[-0.04558789927159357,-0.018723421748967215,-1.814728961359524e-08,-1.8615047454660614e-08,2.7728410072185415e-08,0.0,4.9787600801704377e-08,1.1473254088085884e-07,-2.029633848268585e-08,-2.028566557546666e-08,-2.0280140772517158e-08]},{\"line\":{\"color\":\"rgba(219, 64, 82, 0.8999999999999999)\",\"dash\":\"solid\",\"shape\":\"linear\",\"width\":1.3},\"mode\":\"lines\",\"name\":\"potato\",\"text\":\"\",\"type\":\"scatter\",\"x\":[-0.6931471805599453,-0.5108256237659907,-0.35667494393873245,-0.22314355131420968,-0.10536051565782628,0.0,0.09531017980432495,0.1823215567939546,0.26236426446749106,0.33647223662121284,0.4054651081081644],\"y\":[-2.03643812776909e-08,3.577361476342483e-08,4.773124403940359e-08,-2.0313050559192567e-08,-1.0634732706609866e-08,0.0,-3.367400697292584e-09,-9.764156308974265e-09,-1.4737337570084644e-08,-1.74133246006568e-08,9.697869525695974e-08]},{\"line\":{\"color\":\"rgba(0, 128, 128, 0.8999999999999999)\",\"dash\":\"solid\",\"shape\":\"linear\",\"width\":1.3},\"mode\":\"lines\",\"name\":\"fish cake\",\"text\":\"\",\"type\":\"scatter\",\"x\":[-0.6931471805599453,-0.5108256237659907,-0.35667494393873245,-0.22314355131420968,-0.10536051565782628,0.0,0.09531017980432495,0.1823215567939546,0.26236426446749106,0.33647223662121284,0.4054651081081644],\"y\":[-2.041011769327889e-08,-2.036965727965598e-08,-2.0394371954910898e-08,4.361361706710075e-09,1.0339419045218738e-08,0.0,-1.4431770327448989e-08,-2.0380302320277585e-08,-2.000604646418594e-08,2.0976398176039618e-08,1.1716063654585667e-07]},{\"line\":{\"color\":\"rgba(255, 255, 51, 0.8999999999999999)\",\"dash\":\"solid\",\"shape\":\"linear\",\"width\":1.3},\"mode\":\"lines\",\"name\":\"kimchi\",\"text\":\"\",\"type\":\"scatter\",\"x\":[-0.6931471805599453,-0.5108256237659907,-0.35667494393873245,-0.22314355131420968,-0.10536051565782628,0.0,0.09531017980432495,0.1823215567939546,0.26236426446749106,0.33647223662121284,0.4054651081081644],\"y\":[-2.040020917462653e-08,-2.0369045879823865e-08,-2.04144754297618e-08,-4.695622124384265e-09,5.366299612486921e-09,0.0,-1.2954835954629329e-08,-2.0391283092348794e-08,-2.0334343638036907e-08,-1.0448827191444239e-08,7.520047146454756e-08]},{\"line\":{\"color\":\"rgba(128, 128, 0, 0.8999999999999999)\",\"dash\":\"solid\",\"shape\":\"linear\",\"width\":1.3},\"mode\":\"lines\",\"name\":\"Soy Sauce\",\"text\":\"\",\"type\":\"scatter\",\"x\":[-0.6931471805599453,-0.5108256237659907,-0.35667494393873245,-0.22314355131420968,-0.10536051565782628,0.0,0.09531017980432495,0.1823215567939546,0.26236426446749106,0.33647223662121284,0.4054651081081644],\"y\":[-1.2065583160983535e-08,7.280621906775185e-08,-9.716665852499532e-09,-2.0285166308162358e-08,-2.0448720925789866e-08,0.0,-2.034909195201834e-08,-1.970431814919052e-08,-2.0456431535875893e-08,-2.042408096854469e-08,1.4544158882505936e-08]},{\"line\":{\"color\":\"rgba(251, 128, 114, 0.8999999999999999)\",\"dash\":\"solid\",\"shape\":\"linear\",\"width\":1.3},\"mode\":\"lines\",\"name\":\"Sesame \",\"text\":\"\",\"type\":\"scatter\",\"x\":[-0.6931471805599453,-0.5108256237659907,-0.35667494393873245,-0.22314355131420968,-0.10536051565782628,0.0,0.09531017980432495,0.1823215567939546,0.26236426446749106,0.33647223662121284,0.4054651081081644],\"y\":[-0.00012367133209358186,1.1308355478783611e-07,-2.0022259717472848e-08,9.960597228333553e-08,-2.0334338308966283e-08,0.0,-7.83393109009412e-09,-1.6478528566445495e-08,-2.040990819418987e-08,-2.0378182460391164e-08,-2.0376423978106626e-08]},{\"line\":{\"color\":\"rgba(251, 128, 114, 0.7999999999999998)\",\"dash\":\"solid\",\"shape\":\"linear\",\"width\":1.3},\"mode\":\"lines\",\"name\":\"Brown Sugar\",\"text\":\"\",\"type\":\"scatter\",\"x\":[-0.6931471805599453,-0.5108256237659907,-0.35667494393873245,-0.22314355131420968,-0.10536051565782628,0.0,0.09531017980432495,0.1823215567939546,0.26236426446749106,0.33647223662121284,0.4054651081081644],\"y\":[-1.9943672690126656e-08,2.914540694831164e-07,-2.0455555791936156e-08,-8.339201475270407e-09,-1.1346725401465446e-08,0.0,-2.6408490984462497e-09,1.336223908841561e-07,-2.038097089659664e-08,-2.000645991124858e-08,1.9130962630921152e-08]},{\"line\":{\"color\":\"rgba(128, 177, 211, 0.7999999999999998)\",\"dash\":\"solid\",\"shape\":\"linear\",\"width\":1.3},\"mode\":\"lines\",\"name\":\"Lettuce\",\"text\":\"\",\"type\":\"scatter\",\"x\":[-0.6931471805599453,-0.5108256237659907,-0.35667494393873245,-0.22314355131420968,-0.10536051565782628,0.0,0.09531017980432495,0.1823215567939546,0.26236426446749106,0.33647223662121284,0.4054651081081644],\"y\":[-2.0385779383636608e-08,4.892116592065929e-08,-1.0060648809133631e-08,-4.230713788256863e-09,-1.1863837697066832e-09,0.0,1.7536327943784613e-10,-1.3451262327118646e-10,-6.579961022656759e-10,-1.2506502508107473e-09,-1.8457244638605993e-09]},{\"line\":{\"color\":\"rgba(255, 153, 51, 0.7999999999999998)\",\"dash\":\"solid\",\"shape\":\"linear\",\"width\":1.3},\"mode\":\"lines\",\"name\":\"Rice Cake\",\"text\":\"\",\"type\":\"scatter\",\"x\":[-0.6931471805599453,-0.5108256237659907,-0.35667494393873245,-0.22314355131420968,-0.10536051565782628,0.0,0.09531017980432495,0.1823215567939546,0.26236426446749106,0.33647223662121284,0.4054651081081644],\"y\":[-2.0353647308203385e-08,-2.0384172890887225e-08,-2.0410128018353232e-08,-2.0388973495343573e-08,-4.69994810842004e-09,0.0,4.086090848795272e-08,-2.034083389094856e-08,-7.828138140774981e-10,2.3277452139122196e-08,-5.386909377534835e-09]},{\"line\":{\"color\":\"rgba(55, 128, 191, 0.7999999999999998)\",\"dash\":\"solid\",\"shape\":\"linear\",\"width\":1.3},\"mode\":\"lines\",\"name\":\"Glass Noodle\",\"text\":\"\",\"type\":\"scatter\",\"x\":[-0.6931471805599453,-0.5108256237659907,-0.35667494393873245,-0.22314355131420968,-0.10536051565782628,0.0,0.09531017980432495,0.1823215567939546,0.26236426446749106,0.33647223662121284,0.4054651081081644],\"y\":[-1.3646519230047675e-08,-9.66215179203848e-09,-5.664358331769236e-09,-2.4876339907853015e-09,-5.98979865886283e-10,0.0,-4.524017828046722e-10,-1.6546611872148478e-09,-3.2876215137674865e-09,-5.692967558030961e-09,-8.516499097793671e-09]},{\"line\":{\"color\":\"rgba(50, 171, 96, 0.7999999999999998)\",\"dash\":\"solid\",\"shape\":\"linear\",\"width\":1.3},\"mode\":\"lines\",\"name\":\"Seaweed\",\"text\":\"\",\"type\":\"scatter\",\"x\":[-0.6931471805599453,-0.5108256237659907,-0.35667494393873245,-0.22314355131420968,-0.10536051565782628,0.0,0.09531017980432495,0.1823215567939546,0.26236426446749106,0.33647223662121284,0.4054651081081644],\"y\":[5.501545489938237e-08,-1.9996495770425575e-08,-2.03782655050751e-08,3.630498511155826e-07,1.5338941028874022e-07,0.0,-1.8486286894500465e-08,-2.037815226232428e-08,-2.0399541486485902e-08,-2.0369833361031273e-08,-2.0349912295827926e-08]},{\"line\":{\"color\":\"rgba(128, 0, 128, 0.7999999999999998)\",\"dash\":\"solid\",\"shape\":\"linear\",\"width\":1.3},\"mode\":\"lines\",\"name\":\"Cabbage \",\"text\":\"\",\"type\":\"scatter\",\"x\":[-0.6931471805599453,-0.5108256237659907,-0.35667494393873245,-0.22314355131420968,-0.10536051565782628,0.0,0.09531017980432495,0.1823215567939546,0.26236426446749106,0.33647223662121284,0.4054651081081644],\"y\":[-0.005239710156217632,-0.002252990700938197,-2.0236954428251976e-08,2.6855948540036757e-09,-6.734827142687847e-10,0.0,-1.6312947672663815e-09,-3.6683808280596496e-09,-5.441574095028086e-09,-6.776502715278826e-09,-7.723790081811782e-09]},{\"line\":{\"color\":\"rgba(219, 64, 82, 0.7999999999999998)\",\"dash\":\"solid\",\"shape\":\"linear\",\"width\":1.3},\"mode\":\"lines\",\"name\":\"Flour\",\"text\":\"\",\"type\":\"scatter\",\"x\":[-0.6931471805599453,-0.5108256237659907,-0.35667494393873245,-0.22314355131420968,-0.10536051565782628,0.0,0.09531017980432495,0.1823215567939546,0.26236426446749106,0.33647223662121284,0.4054651081081644],\"y\":[-0.063701562446814,-0.03888806230632573,-0.02538889033129746,-0.016854109787691696,-0.008391464516408384,0.0,0.008321685894004173,0.01657471270979932,0.024760184409064814,0.030749043470504306,0.035625011351409774]},{\"line\":{\"color\":\"rgba(0, 128, 128, 0.7999999999999998)\",\"dash\":\"solid\",\"shape\":\"linear\",\"width\":1.3},\"mode\":\"lines\",\"name\":\"Chicken\",\"text\":\"\",\"type\":\"scatter\",\"x\":[-0.6931471805599453,-0.5108256237659907,-0.35667494393873245,-0.22314355131420968,-0.10536051565782628,0.0,0.09531017980432495,0.1823215567939546,0.26236426446749106,0.33647223662121284,0.4054651081081644],\"y\":[-3.937780664856987e-09,-2.0443327684270572e-08,6.908705857447083e-08,2.504250832887615e-07,6.930041722377733e-08,0.0,-2.0353000936345293e-08,-2.0301893039613108e-08,-2.02826428821985e-08,-2.0273028683677202e-08,-2.0274368611872787e-08]},{\"line\":{\"color\":\"rgba(255, 255, 51, 0.7999999999999998)\",\"dash\":\"solid\",\"shape\":\"linear\",\"width\":1.3},\"mode\":\"lines\",\"name\":\"Teriyaki Sauce\",\"text\":\"\",\"type\":\"scatter\",\"x\":[-0.6931471805599453,-0.5108256237659907,-0.35667494393873245,-0.22314355131420968,-0.10536051565782628,0.0,0.09531017980432495,0.1823215567939546,0.26236426446749106,0.33647223662121284,0.4054651081081644],\"y\":[1.1912287973917244e-08,-1.790825648266046e-08,9.853298350876652e-09,-1.8869217699834498e-08,-6.793063468160311e-09,0.0,-1.4507228634810926e-08,5.63159574214924e-08,-2.03809793342918e-08,-2.039880096771337e-08,-2.041170997517331e-08]}],                        {\"legend\":{\"bgcolor\":\"#F5F6F9\",\"font\":{\"color\":\"#4D5663\"}},\"paper_bgcolor\":\"#F5F6F9\",\"plot_bgcolor\":\"#F5F6F9\",\"template\":{\"data\":{\"bar\":[{\"error_x\":{\"color\":\"#2a3f5f\"},\"error_y\":{\"color\":\"#2a3f5f\"},\"marker\":{\"line\":{\"color\":\"#E5ECF6\",\"width\":0.5},\"pattern\":{\"fillmode\":\"overlay\",\"size\":10,\"solidity\":0.2}},\"type\":\"bar\"}],\"barpolar\":[{\"marker\":{\"line\":{\"color\":\"#E5ECF6\",\"width\":0.5},\"pattern\":{\"fillmode\":\"overlay\",\"size\":10,\"solidity\":0.2}},\"type\":\"barpolar\"}],\"carpet\":[{\"aaxis\":{\"endlinecolor\":\"#2a3f5f\",\"gridcolor\":\"white\",\"linecolor\":\"white\",\"minorgridcolor\":\"white\",\"startlinecolor\":\"#2a3f5f\"},\"baxis\":{\"endlinecolor\":\"#2a3f5f\",\"gridcolor\":\"white\",\"linecolor\":\"white\",\"minorgridcolor\":\"white\",\"startlinecolor\":\"#2a3f5f\"},\"type\":\"carpet\"}],\"choropleth\":[{\"colorbar\":{\"outlinewidth\":0,\"ticks\":\"\"},\"type\":\"choropleth\"}],\"contour\":[{\"colorbar\":{\"outlinewidth\":0,\"ticks\":\"\"},\"colorscale\":[[0.0,\"#0d0887\"],[0.1111111111111111,\"#46039f\"],[0.2222222222222222,\"#7201a8\"],[0.3333333333333333,\"#9c179e\"],[0.4444444444444444,\"#bd3786\"],[0.5555555555555556,\"#d8576b\"],[0.6666666666666666,\"#ed7953\"],[0.7777777777777778,\"#fb9f3a\"],[0.8888888888888888,\"#fdca26\"],[1.0,\"#f0f921\"]],\"type\":\"contour\"}],\"contourcarpet\":[{\"colorbar\":{\"outlinewidth\":0,\"ticks\":\"\"},\"type\":\"contourcarpet\"}],\"heatmap\":[{\"colorbar\":{\"outlinewidth\":0,\"ticks\":\"\"},\"colorscale\":[[0.0,\"#0d0887\"],[0.1111111111111111,\"#46039f\"],[0.2222222222222222,\"#7201a8\"],[0.3333333333333333,\"#9c179e\"],[0.4444444444444444,\"#bd3786\"],[0.5555555555555556,\"#d8576b\"],[0.6666666666666666,\"#ed7953\"],[0.7777777777777778,\"#fb9f3a\"],[0.8888888888888888,\"#fdca26\"],[1.0,\"#f0f921\"]],\"type\":\"heatmap\"}],\"heatmapgl\":[{\"colorbar\":{\"outlinewidth\":0,\"ticks\":\"\"},\"colorscale\":[[0.0,\"#0d0887\"],[0.1111111111111111,\"#46039f\"],[0.2222222222222222,\"#7201a8\"],[0.3333333333333333,\"#9c179e\"],[0.4444444444444444,\"#bd3786\"],[0.5555555555555556,\"#d8576b\"],[0.6666666666666666,\"#ed7953\"],[0.7777777777777778,\"#fb9f3a\"],[0.8888888888888888,\"#fdca26\"],[1.0,\"#f0f921\"]],\"type\":\"heatmapgl\"}],\"histogram\":[{\"marker\":{\"pattern\":{\"fillmode\":\"overlay\",\"size\":10,\"solidity\":0.2}},\"type\":\"histogram\"}],\"histogram2d\":[{\"colorbar\":{\"outlinewidth\":0,\"ticks\":\"\"},\"colorscale\":[[0.0,\"#0d0887\"],[0.1111111111111111,\"#46039f\"],[0.2222222222222222,\"#7201a8\"],[0.3333333333333333,\"#9c179e\"],[0.4444444444444444,\"#bd3786\"],[0.5555555555555556,\"#d8576b\"],[0.6666666666666666,\"#ed7953\"],[0.7777777777777778,\"#fb9f3a\"],[0.8888888888888888,\"#fdca26\"],[1.0,\"#f0f921\"]],\"type\":\"histogram2d\"}],\"histogram2dcontour\":[{\"colorbar\":{\"outlinewidth\":0,\"ticks\":\"\"},\"colorscale\":[[0.0,\"#0d0887\"],[0.1111111111111111,\"#46039f\"],[0.2222222222222222,\"#7201a8\"],[0.3333333333333333,\"#9c179e\"],[0.4444444444444444,\"#bd3786\"],[0.5555555555555556,\"#d8576b\"],[0.6666666666666666,\"#ed7953\"],[0.7777777777777778,\"#fb9f3a\"],[0.8888888888888888,\"#fdca26\"],[1.0,\"#f0f921\"]],\"type\":\"histogram2dcontour\"}],\"mesh3d\":[{\"colorbar\":{\"outlinewidth\":0,\"ticks\":\"\"},\"type\":\"mesh3d\"}],\"parcoords\":[{\"line\":{\"colorbar\":{\"outlinewidth\":0,\"ticks\":\"\"}},\"type\":\"parcoords\"}],\"pie\":[{\"automargin\":true,\"type\":\"pie\"}],\"scatter\":[{\"marker\":{\"colorbar\":{\"outlinewidth\":0,\"ticks\":\"\"}},\"type\":\"scatter\"}],\"scatter3d\":[{\"line\":{\"colorbar\":{\"outlinewidth\":0,\"ticks\":\"\"}},\"marker\":{\"colorbar\":{\"outlinewidth\":0,\"ticks\":\"\"}},\"type\":\"scatter3d\"}],\"scattercarpet\":[{\"marker\":{\"colorbar\":{\"outlinewidth\":0,\"ticks\":\"\"}},\"type\":\"scattercarpet\"}],\"scattergeo\":[{\"marker\":{\"colorbar\":{\"outlinewidth\":0,\"ticks\":\"\"}},\"type\":\"scattergeo\"}],\"scattergl\":[{\"marker\":{\"colorbar\":{\"outlinewidth\":0,\"ticks\":\"\"}},\"type\":\"scattergl\"}],\"scattermapbox\":[{\"marker\":{\"colorbar\":{\"outlinewidth\":0,\"ticks\":\"\"}},\"type\":\"scattermapbox\"}],\"scatterpolar\":[{\"marker\":{\"colorbar\":{\"outlinewidth\":0,\"ticks\":\"\"}},\"type\":\"scatterpolar\"}],\"scatterpolargl\":[{\"marker\":{\"colorbar\":{\"outlinewidth\":0,\"ticks\":\"\"}},\"type\":\"scatterpolargl\"}],\"scatterternary\":[{\"marker\":{\"colorbar\":{\"outlinewidth\":0,\"ticks\":\"\"}},\"type\":\"scatterternary\"}],\"surface\":[{\"colorbar\":{\"outlinewidth\":0,\"ticks\":\"\"},\"colorscale\":[[0.0,\"#0d0887\"],[0.1111111111111111,\"#46039f\"],[0.2222222222222222,\"#7201a8\"],[0.3333333333333333,\"#9c179e\"],[0.4444444444444444,\"#bd3786\"],[0.5555555555555556,\"#d8576b\"],[0.6666666666666666,\"#ed7953\"],[0.7777777777777778,\"#fb9f3a\"],[0.8888888888888888,\"#fdca26\"],[1.0,\"#f0f921\"]],\"type\":\"surface\"}],\"table\":[{\"cells\":{\"fill\":{\"color\":\"#EBF0F8\"},\"line\":{\"color\":\"white\"}},\"header\":{\"fill\":{\"color\":\"#C8D4E3\"},\"line\":{\"color\":\"white\"}},\"type\":\"table\"}]},\"layout\":{\"annotationdefaults\":{\"arrowcolor\":\"#2a3f5f\",\"arrowhead\":0,\"arrowwidth\":1},\"autotypenumbers\":\"strict\",\"coloraxis\":{\"colorbar\":{\"outlinewidth\":0,\"ticks\":\"\"}},\"colorscale\":{\"diverging\":[[0,\"#8e0152\"],[0.1,\"#c51b7d\"],[0.2,\"#de77ae\"],[0.3,\"#f1b6da\"],[0.4,\"#fde0ef\"],[0.5,\"#f7f7f7\"],[0.6,\"#e6f5d0\"],[0.7,\"#b8e186\"],[0.8,\"#7fbc41\"],[0.9,\"#4d9221\"],[1,\"#276419\"]],\"sequential\":[[0.0,\"#0d0887\"],[0.1111111111111111,\"#46039f\"],[0.2222222222222222,\"#7201a8\"],[0.3333333333333333,\"#9c179e\"],[0.4444444444444444,\"#bd3786\"],[0.5555555555555556,\"#d8576b\"],[0.6666666666666666,\"#ed7953\"],[0.7777777777777778,\"#fb9f3a\"],[0.8888888888888888,\"#fdca26\"],[1.0,\"#f0f921\"]],\"sequentialminus\":[[0.0,\"#0d0887\"],[0.1111111111111111,\"#46039f\"],[0.2222222222222222,\"#7201a8\"],[0.3333333333333333,\"#9c179e\"],[0.4444444444444444,\"#bd3786\"],[0.5555555555555556,\"#d8576b\"],[0.6666666666666666,\"#ed7953\"],[0.7777777777777778,\"#fb9f3a\"],[0.8888888888888888,\"#fdca26\"],[1.0,\"#f0f921\"]]},\"colorway\":[\"#636efa\",\"#EF553B\",\"#00cc96\",\"#ab63fa\",\"#FFA15A\",\"#19d3f3\",\"#FF6692\",\"#B6E880\",\"#FF97FF\",\"#FECB52\"],\"font\":{\"color\":\"#2a3f5f\"},\"geo\":{\"bgcolor\":\"white\",\"lakecolor\":\"white\",\"landcolor\":\"#E5ECF6\",\"showlakes\":true,\"showland\":true,\"subunitcolor\":\"white\"},\"hoverlabel\":{\"align\":\"left\"},\"hovermode\":\"closest\",\"mapbox\":{\"style\":\"light\"},\"paper_bgcolor\":\"white\",\"plot_bgcolor\":\"#E5ECF6\",\"polar\":{\"angularaxis\":{\"gridcolor\":\"white\",\"linecolor\":\"white\",\"ticks\":\"\"},\"bgcolor\":\"#E5ECF6\",\"radialaxis\":{\"gridcolor\":\"white\",\"linecolor\":\"white\",\"ticks\":\"\"}},\"scene\":{\"xaxis\":{\"backgroundcolor\":\"#E5ECF6\",\"gridcolor\":\"white\",\"gridwidth\":2,\"linecolor\":\"white\",\"showbackground\":true,\"ticks\":\"\",\"zerolinecolor\":\"white\"},\"yaxis\":{\"backgroundcolor\":\"#E5ECF6\",\"gridcolor\":\"white\",\"gridwidth\":2,\"linecolor\":\"white\",\"showbackground\":true,\"ticks\":\"\",\"zerolinecolor\":\"white\"},\"zaxis\":{\"backgroundcolor\":\"#E5ECF6\",\"gridcolor\":\"white\",\"gridwidth\":2,\"linecolor\":\"white\",\"showbackground\":true,\"ticks\":\"\",\"zerolinecolor\":\"white\"}},\"shapedefaults\":{\"line\":{\"color\":\"#2a3f5f\"}},\"ternary\":{\"aaxis\":{\"gridcolor\":\"white\",\"linecolor\":\"white\",\"ticks\":\"\"},\"baxis\":{\"gridcolor\":\"white\",\"linecolor\":\"white\",\"ticks\":\"\"},\"bgcolor\":\"#E5ECF6\",\"caxis\":{\"gridcolor\":\"white\",\"linecolor\":\"white\",\"ticks\":\"\"}},\"title\":{\"x\":0.05},\"xaxis\":{\"automargin\":true,\"gridcolor\":\"white\",\"linecolor\":\"white\",\"ticks\":\"\",\"title\":{\"standoff\":15},\"zerolinecolor\":\"white\",\"zerolinewidth\":2},\"yaxis\":{\"automargin\":true,\"gridcolor\":\"white\",\"linecolor\":\"white\",\"ticks\":\"\",\"title\":{\"standoff\":15},\"zerolinecolor\":\"white\",\"zerolinewidth\":2}}},\"title\":{\"font\":{\"color\":\"#4D5663\"},\"text\":\"Effects of Price Changes on Subsistence Diet Cost for F 19-30\"},\"xaxis\":{\"gridcolor\":\"#E1E5ED\",\"showgrid\":true,\"tickfont\":{\"color\":\"#4D5663\"},\"title\":{\"font\":{\"color\":\"#4D5663\"},\"text\":\"change in log price\"},\"zerolinecolor\":\"#E1E5ED\"},\"yaxis\":{\"gridcolor\":\"#E1E5ED\",\"showgrid\":true,\"tickfont\":{\"color\":\"#4D5663\"},\"title\":{\"font\":{\"color\":\"#4D5663\"},\"text\":\"change in log cost\"},\"zerolinecolor\":\"#E1E5ED\"}},                        {\"showLink\": true, \"linkText\": \"Export to plot.ly\", \"plotlyServerURL\": \"https://plot.ly\", \"responsive\": true}                    ).then(function(){\n",
       "                            \n",
       "var gd = document.getElementById('743dfcfb-f5e0-4dcc-aae8-37c492be755c');\n",
       "var x = new MutationObserver(function (mutations, observer) {{\n",
       "        var display = window.getComputedStyle(gd).display;\n",
       "        if (!display || display === 'none') {{\n",
       "            console.log([gd, 'removed!']);\n",
       "            Plotly.purge(gd);\n",
       "            observer.disconnect();\n",
       "        }}\n",
       "}});\n",
       "\n",
       "// Listen for the removal of the full notebook cells\n",
       "var notebookContainer = gd.closest('#notebook-container');\n",
       "if (notebookContainer) {{\n",
       "    x.observe(notebookContainer, {childList: true});\n",
       "}}\n",
       "\n",
       "// Listen for the clearing of the current output cell\n",
       "var outputEl = gd.closest('.output');\n",
       "if (outputEl) {{\n",
       "    x.observe(outputEl, {childList: true});\n",
       "}}\n",
       "\n",
       "                        })                };                });            </script>        </div>"
      ]
     },
     "metadata": {},
     "output_type": "display_data"
    },
    {
     "data": {
      "application/vnd.plotly.v1+json": {
       "config": {
        "linkText": "Export to plot.ly",
        "plotlyServerURL": "https://plot.ly",
        "showLink": true
       },
       "data": [
        {
         "line": {
          "color": "rgba(255, 153, 51, 1.0)",
          "dash": "solid",
          "shape": "linear",
          "width": 1.3
         },
         "mode": "lines",
         "name": "Beef",
         "text": "",
         "type": "scatter",
         "x": [
          -0.6931471805599453,
          -0.5108256237659907,
          -0.35667494393873245,
          -0.22314355131420968,
          -0.10536051565782628,
          0,
          0.09531017980432495,
          0.1823215567939546,
          0.26236426446749106,
          0.33647223662121284,
          0.4054651081081644
         ],
         "y": [
          -0.0379475691640926,
          -0.008375306347299766,
          2.5179295664560413e-08,
          2.903290454757377e-08,
          -1.331312838635207e-09,
          0,
          1.2500280066194527e-08,
          1.525100278870693e-08,
          1.794647481173626e-08,
          1.8114633406861486e-08,
          1.6578839941122625e-08
         ]
        },
        {
         "line": {
          "color": "rgba(55, 128, 191, 1.0)",
          "dash": "solid",
          "shape": "linear",
          "width": 1.3
         },
         "mode": "lines",
         "name": "Egg",
         "text": "",
         "type": "scatter",
         "x": [
          -0.6931471805599453,
          -0.5108256237659907,
          -0.35667494393873245,
          -0.22314355131420968,
          -0.10536051565782628,
          0,
          0.09531017980432495,
          0.1823215567939546,
          0.26236426446749106,
          0.33647223662121284,
          0.4054651081081644
         ],
         "y": [
          -0.08010542784689752,
          -0.056837536608081836,
          -0.03409875671738298,
          -0.013913997482709156,
          -0.006932784884729082,
          0,
          0.006885055801731917,
          0.013723050871328003,
          0.01596581397835074,
          0.016316184156004363,
          0.016316202570126764
         ]
        },
        {
         "line": {
          "color": "rgba(50, 171, 96, 1.0)",
          "dash": "solid",
          "shape": "linear",
          "width": 1.3
         },
         "mode": "lines",
         "name": "Carrots",
         "text": "",
         "type": "scatter",
         "x": [
          -0.6931471805599453,
          -0.5108256237659907,
          -0.35667494393873245,
          -0.22314355131420968,
          -0.10536051565782628,
          0,
          0.09531017980432495,
          0.1823215567939546,
          0.26236426446749106,
          0.33647223662121284,
          0.4054651081081644
         ],
         "y": [
          3.728996215965407e-09,
          1.5997476663891975e-09,
          7.768217177608665e-10,
          3.7870839790278203e-10,
          1.5121037754106971e-10,
          0,
          -1.1509448950116163e-10,
          4.983644606861241e-10,
          1.8160235521089021e-09,
          2.9611701935505837e-09,
          3.910493921025618e-09
         ]
        },
        {
         "line": {
          "color": "rgba(128, 0, 128, 1.0)",
          "dash": "solid",
          "shape": "linear",
          "width": 1.3
         },
         "mode": "lines",
         "name": "Purple Cabbage ",
         "text": "",
         "type": "scatter",
         "x": [
          -0.6931471805599453,
          -0.5108256237659907,
          -0.35667494393873245,
          -0.22314355131420968,
          -0.10536051565782628,
          0,
          0.09531017980432495,
          0.1823215567939546,
          0.26236426446749106,
          0.33647223662121284,
          0.4054651081081644
         ],
         "y": [
          -0.017761226821055787,
          -0.014183657674433754,
          -0.010618845324956636,
          -0.007066697074496719,
          -0.0035270893090597905,
          0,
          0.0035146927759710112,
          0.00701707694436189,
          0.010507237979905772,
          0.013985260374487102,
          0.017451228673392803
         ]
        },
        {
         "line": {
          "color": "rgba(219, 64, 82, 1.0)",
          "dash": "solid",
          "shape": "linear",
          "width": 1.3
         },
         "mode": "lines",
         "name": "Squash",
         "text": "",
         "type": "scatter",
         "x": [
          -0.6931471805599453,
          -0.5108256237659907,
          -0.35667494393873245,
          -0.22314355131420968,
          -0.10536051565782628,
          0,
          0.09531017980432495,
          0.1823215567939546,
          0.26236426446749106,
          0.33647223662121284,
          0.4054651081081644
         ],
         "y": [
          2.5559985206788265e-09,
          1.1141147997950516e-09,
          4.469729030343316e-10,
          1.600857224431467e-10,
          4.043720913589464e-11,
          0,
          -3.5975666890018285e-12,
          1.0296652419530541e-11,
          3.324762687329193e-11,
          5.963363136451787e-11,
          8.760014935276676e-11
         ]
        },
        {
         "line": {
          "color": "rgba(0, 128, 128, 1.0)",
          "dash": "solid",
          "shape": "linear",
          "width": 1.3
         },
         "mode": "lines",
         "name": "Spinach ",
         "text": "",
         "type": "scatter",
         "x": [
          -0.6931471805599453,
          -0.5108256237659907,
          -0.35667494393873245,
          -0.22314355131420968,
          -0.10536051565782628,
          0,
          0.09531017980432495,
          0.1823215567939546,
          0.26236426446749106,
          0.33647223662121284,
          0.4054651081081644
         ],
         "y": [
          -0.3969803104658373,
          -0.3020134009324195,
          -0.2152881182423466,
          -0.13820170518067662,
          -0.06671526261630802,
          0,
          0.06254138258267743,
          0.12140043542048728,
          0.17698688147362143,
          0.22964550362925643,
          0.27754195364140294
         ]
        },
        {
         "line": {
          "color": "rgba(255, 255, 51, 1.0)",
          "dash": "solid",
          "shape": "linear",
          "width": 1.3
         },
         "mode": "lines",
         "name": "Jasmine Rice",
         "text": "",
         "type": "scatter",
         "x": [
          -0.6931471805599453,
          -0.5108256237659907,
          -0.35667494393873245,
          -0.22314355131420968,
          -0.10536051565782628,
          0,
          0.09531017980432495,
          0.1823215567939546,
          0.26236426446749106,
          0.33647223662121284,
          0.4054651081081644
         ],
         "y": [
          3.801353002921471e-09,
          4.752290105690619e-09,
          4.9991735070972466e-09,
          4.572524348693689e-09,
          2.7018289791152244e-09,
          0,
          -2.9961114745211004e-09,
          -6.088409239762028e-09,
          -9.140242937660682e-09,
          -1.190500749518226e-08,
          -1.4471785874459244e-08
         ]
        },
        {
         "line": {
          "color": "rgba(128, 128, 0, 1.0)",
          "dash": "solid",
          "shape": "linear",
          "width": 1.3
         },
         "mode": "lines",
         "name": "Kimchi",
         "text": "",
         "type": "scatter",
         "x": [
          -0.6931471805599453,
          -0.5108256237659907,
          -0.35667494393873245,
          -0.22314355131420968,
          -0.10536051565782628,
          0,
          0.09531017980432495,
          0.1823215567939546,
          0.26236426446749106,
          0.33647223662121284,
          0.4054651081081644
         ],
         "y": [
          1.1437994708130485e-08,
          5.763851157512157e-09,
          2.7632387451085114e-09,
          1.2228489324767611e-09,
          4.0737080367365934e-10,
          0,
          -1.6608370236028972e-10,
          -1.834922214340599e-10,
          -1.0793010930015412e-10,
          5.431906034604401e-10,
          1.4030208096576859e-09
         ]
        },
        {
         "line": {
          "color": "rgba(251, 128, 114, 1.0)",
          "dash": "solid",
          "shape": "linear",
          "width": 1.3
         },
         "mode": "lines",
         "name": "Onions",
         "text": "",
         "type": "scatter",
         "x": [
          -0.6931471805599453,
          -0.5108256237659907,
          -0.35667494393873245,
          -0.22314355131420968,
          -0.10536051565782628,
          0,
          0.09531017980432495,
          0.1823215567939546,
          0.26236426446749106,
          0.33647223662121284,
          0.4054651081081644
         ],
         "y": [
          5.0982862246296094e-09,
          3.5139868730814745e-09,
          1.6298391512000463e-09,
          9.426486253792013e-10,
          4.1642955741705454e-10,
          0,
          -3.3265501470074073e-10,
          -6.017036870565335e-10,
          -8.236619167884349e-10,
          -1.0088374585252638e-09,
          -1.1667748996003797e-09
         ]
        },
        {
         "line": {
          "color": "rgba(128, 177, 211, 1.0)",
          "dash": "solid",
          "shape": "linear",
          "width": 1.3
         },
         "mode": "lines",
         "name": "Fish Sauce",
         "text": "",
         "type": "scatter",
         "x": [
          -0.6931471805599453,
          -0.5108256237659907,
          -0.35667494393873245,
          -0.22314355131420968,
          -0.10536051565782628,
          0,
          0.09531017980432495,
          0.1823215567939546,
          0.26236426446749106,
          0.33647223662121284,
          0.4054651081081644
         ],
         "y": [
          -2.661749034413395e-08,
          -1.6538053162837483e-09,
          -2.156736458419467e-09,
          -1.3220747838573477e-09,
          -5.806887195001898e-10,
          0,
          4.501643501394875e-10,
          8.038556483891231e-10,
          1.086116529457041e-09,
          1.3154994862547949e-09,
          1.5062679980839587e-09
         ]
        },
        {
         "line": {
          "color": "rgba(128, 177, 211, 0.8999999999999999)",
          "dash": "solid",
          "shape": "linear",
          "width": 1.3
         },
         "mode": "lines",
         "name": "Pork",
         "text": "",
         "type": "scatter",
         "x": [
          -0.6931471805599453,
          -0.5108256237659907,
          -0.35667494393873245,
          -0.22314355131420968,
          -0.10536051565782628,
          0,
          0.09531017980432495,
          0.1823215567939546,
          0.26236426446749106,
          0.33647223662121284,
          0.4054651081081644
         ],
         "y": [
          -0.12239954666542861,
          -0.09307421905173152,
          -0.06466074035095512,
          -0.03781476495431861,
          -0.018122024791734116,
          0,
          0.017799438530629718,
          0.03117092124312218,
          0.03117067796335713,
          0.03117067822054352,
          0.03117067836891862
         ]
        },
        {
         "line": {
          "color": "rgba(255, 153, 51, 0.8999999999999999)",
          "dash": "solid",
          "shape": "linear",
          "width": 1.3
         },
         "mode": "lines",
         "name": "Tofu",
         "text": "",
         "type": "scatter",
         "x": [
          -0.6931471805599453,
          -0.5108256237659907,
          -0.35667494393873245,
          -0.22314355131420968,
          -0.10536051565782628,
          0,
          0.09531017980432495,
          0.1823215567939546,
          0.26236426446749106,
          0.33647223662121284,
          0.4054651081081644
         ],
         "y": [
          4.573583829209573e-08,
          2.1845682579649783e-08,
          1.0596633736514526e-08,
          3.640897576795385e-09,
          9.530847218007858e-10,
          0,
          -7.206448773654339e-10,
          -1.3031816745332918e-09,
          -1.7968987425277999e-09,
          -2.2294872639589573e-09,
          -2.6165426526373295e-09
         ]
        },
        {
         "line": {
          "color": "rgba(55, 128, 191, 0.8999999999999999)",
          "dash": "solid",
          "shape": "linear",
          "width": 1.3
         },
         "mode": "lines",
         "name": "Green Onions",
         "text": "",
         "type": "scatter",
         "x": [
          -0.6931471805599453,
          -0.5108256237659907,
          -0.35667494393873245,
          -0.22314355131420968,
          -0.10536051565782628,
          0,
          0.09531017980432495,
          0.1823215567939546,
          0.26236426446749106,
          0.33647223662121284,
          0.4054651081081644
         ],
         "y": [
          -2.6580895726934377e-08,
          -2.6425422421913688e-08,
          -2.6571306286326632e-08,
          -1.202079776283152e-08,
          4.739929992816129e-09,
          0,
          -5.140678994919487e-10,
          -8.46800407575931e-12,
          1.155658457150958e-09,
          2.5752075994016083e-09,
          4.1289673816914354e-09
         ]
        },
        {
         "line": {
          "color": "rgba(50, 171, 96, 0.8999999999999999)",
          "dash": "solid",
          "shape": "linear",
          "width": 1.3
         },
         "mode": "lines",
         "name": "Sweet Chili Sauce",
         "text": "",
         "type": "scatter",
         "x": [
          -0.6931471805599453,
          -0.5108256237659907,
          -0.35667494393873245,
          -0.22314355131420968,
          -0.10536051565782628,
          0,
          0.09531017980432495,
          0.1823215567939546,
          0.26236426446749106,
          0.33647223662121284,
          0.4054651081081644
         ],
         "y": [
          2.6962669838214694e-09,
          1.873824649244113e-09,
          1.2686394149365675e-09,
          7.829787926060308e-10,
          3.6915248628880165e-10,
          0,
          -3.38125638656416e-10,
          -6.537967946945794e-10,
          -9.5267205281051e-10,
          -1.238756098466226e-09,
          -1.5141330423157293e-09
         ]
        },
        {
         "line": {
          "color": "rgba(128, 0, 128, 0.8999999999999999)",
          "dash": "solid",
          "shape": "linear",
          "width": 1.3
         },
         "mode": "lines",
         "name": "Beef Short Ribs",
         "text": "",
         "type": "scatter",
         "x": [
          -0.6931471805599453,
          -0.5108256237659907,
          -0.35667494393873245,
          -0.22314355131420968,
          -0.10536051565782628,
          0,
          0.09531017980432495,
          0.1823215567939546,
          0.26236426446749106,
          0.33647223662121284,
          0.4054651081081644
         ],
         "y": [
          -0.047815853226008155,
          -0.02016176480289902,
          -2.4712122431746887e-08,
          -4.57307914804961e-09,
          -2.2977359168420818e-08,
          0,
          7.219453009329483e-09,
          9.124960782813753e-10,
          -8.324992840882867e-09,
          -1.4719007343588903e-08,
          -1.8342312614904375e-08
         ]
        },
        {
         "line": {
          "color": "rgba(219, 64, 82, 0.8999999999999999)",
          "dash": "solid",
          "shape": "linear",
          "width": 1.3
         },
         "mode": "lines",
         "name": "potato",
         "text": "",
         "type": "scatter",
         "x": [
          -0.6931471805599453,
          -0.5108256237659907,
          -0.35667494393873245,
          -0.22314355131420968,
          -0.10536051565782628,
          0,
          0.09531017980432495,
          0.1823215567939546,
          0.26236426446749106,
          0.33647223662121284,
          0.4054651081081644
         ],
         "y": [
          -2.5106786853839865e-08,
          3.4181263306653294e-07,
          -2.6697933442906732e-08,
          2.5051962695127738e-09,
          1.133196424942448e-09,
          0,
          -8.426207513065441e-10,
          -1.4394692115317943e-09,
          -1.870588241610188e-09,
          -2.189786243622149e-09,
          -2.425672554651056e-09
         ]
        },
        {
         "line": {
          "color": "rgba(0, 128, 128, 0.8999999999999999)",
          "dash": "solid",
          "shape": "linear",
          "width": 1.3
         },
         "mode": "lines",
         "name": "fish cake",
         "text": "",
         "type": "scatter",
         "x": [
          -0.6931471805599453,
          -0.5108256237659907,
          -0.35667494393873245,
          -0.22314355131420968,
          -0.10536051565782628,
          0,
          0.09531017980432495,
          0.1823215567939546,
          0.26236426446749106,
          0.33647223662121284,
          0.4054651081081644
         ],
         "y": [
          2.836109787438003e-09,
          2.0555168657145483e-09,
          1.4563230610829446e-09,
          9.269622842789361e-10,
          4.419982157078024e-10,
          0,
          -3.9678171867108286e-10,
          -1.8968171479750003e-10,
          9.56098755265161e-10,
          1.8865005095816357e-09,
          2.2456172451878213e-09
         ]
        },
        {
         "line": {
          "color": "rgba(255, 255, 51, 0.8999999999999999)",
          "dash": "solid",
          "shape": "linear",
          "width": 1.3
         },
         "mode": "lines",
         "name": "kimchi",
         "text": "",
         "type": "scatter",
         "x": [
          -0.6931471805599453,
          -0.5108256237659907,
          -0.35667494393873245,
          -0.22314355131420968,
          -0.10536051565782628,
          0,
          0.09531017980432495,
          0.1823215567939546,
          0.26236426446749106,
          0.33647223662121284,
          0.4054651081081644
         ],
         "y": [
          1.1438246284664987e-08,
          5.7636331097113775e-09,
          2.7634194894164207e-09,
          1.2229925953359718e-09,
          4.0755598887409134e-10,
          0,
          -1.6594192688002157e-10,
          -1.8368939704326953e-10,
          -1.0798861805355818e-10,
          5.431735060258701e-10,
          1.4028456164646457e-09
         ]
        },
        {
         "line": {
          "color": "rgba(128, 128, 0, 0.8999999999999999)",
          "dash": "solid",
          "shape": "linear",
          "width": 1.3
         },
         "mode": "lines",
         "name": "Soy Sauce",
         "text": "",
         "type": "scatter",
         "x": [
          -0.6931471805599453,
          -0.5108256237659907,
          -0.35667494393873245,
          -0.22314355131420968,
          -0.10536051565782628,
          0,
          0.09531017980432495,
          0.1823215567939546,
          0.26236426446749106,
          0.33647223662121284,
          0.4054651081081644
         ],
         "y": [
          -1.2175071358597656e-08,
          -7.185038589929397e-09,
          1.3335306169451982e-07,
          1.6658667764681841e-09,
          -1.559217966905473e-08,
          0,
          -2.428541519618346e-08,
          -2.6522688064475392e-08,
          -1.2846056079228642e-08,
          -2.630664476440326e-08,
          -1.4657864030055622e-08
         ]
        },
        {
         "line": {
          "color": "rgba(251, 128, 114, 0.8999999999999999)",
          "dash": "solid",
          "shape": "linear",
          "width": 1.3
         },
         "mode": "lines",
         "name": "Sesame ",
         "text": "",
         "type": "scatter",
         "x": [
          -0.6931471805599453,
          -0.5108256237659907,
          -0.35667494393873245,
          -0.22314355131420968,
          -0.10536051565782628,
          0,
          0.09531017980432495,
          0.1823215567939546,
          0.26236426446749106,
          0.33647223662121284,
          0.4054651081081644
         ],
         "y": [
          -8.668349524781861e-05,
          3.763997753696785e-08,
          3.677485204238473e-08,
          1.7897569266333404e-08,
          4.0374170591870325e-09,
          0,
          -1.6396699567109438e-09,
          -2.5283798420250507e-09,
          -2.9198929983205922e-09,
          -2.940269809729663e-09,
          -2.655160872472288e-09
         ]
        },
        {
         "line": {
          "color": "rgba(251, 128, 114, 0.7999999999999998)",
          "dash": "solid",
          "shape": "linear",
          "width": 1.3
         },
         "mode": "lines",
         "name": "Brown Sugar",
         "text": "",
         "type": "scatter",
         "x": [
          -0.6931471805599453,
          -0.5108256237659907,
          -0.35667494393873245,
          -0.22314355131420968,
          -0.10536051565782628,
          0,
          0.09531017980432495,
          0.1823215567939546,
          0.26236426446749106,
          0.33647223662121284,
          0.4054651081081644
         ],
         "y": [
          5.4343757571714416e-08,
          4.172222702440829e-08,
          3.0457675251021694e-08,
          1.7951108438468668e-08,
          7.315365619819024e-09,
          0,
          -4.1075637420268195e-09,
          -6.404858886005243e-09,
          -7.634975014717286e-09,
          -8.214215230658891e-09,
          -8.379035056481604e-09
         ]
        },
        {
         "line": {
          "color": "rgba(128, 177, 211, 0.7999999999999998)",
          "dash": "solid",
          "shape": "linear",
          "width": 1.3
         },
         "mode": "lines",
         "name": "Lettuce",
         "text": "",
         "type": "scatter",
         "x": [
          -0.6931471805599453,
          -0.5108256237659907,
          -0.35667494393873245,
          -0.22314355131420968,
          -0.10536051565782628,
          0,
          0.09531017980432495,
          0.1823215567939546,
          0.26236426446749106,
          0.33647223662121284,
          0.4054651081081644
         ],
         "y": [
          1.597226349904304e-09,
          9.946392593490124e-10,
          6.190581378933215e-10,
          3.5640201894481717e-10,
          1.5804735297025916e-10,
          0,
          -1.326559973068578e-10,
          -2.4699875481312776e-10,
          -3.474842636457019e-10,
          -4.3784498258851745e-10,
          -5.211742150316478e-10
         ]
        },
        {
         "line": {
          "color": "rgba(255, 153, 51, 0.7999999999999998)",
          "dash": "solid",
          "shape": "linear",
          "width": 1.3
         },
         "mode": "lines",
         "name": "Rice Cake",
         "text": "",
         "type": "scatter",
         "x": [
          -0.6931471805599453,
          -0.5108256237659907,
          -0.35667494393873245,
          -0.22314355131420968,
          -0.10536051565782628,
          0,
          0.09531017980432495,
          0.1823215567939546,
          0.26236426446749106,
          0.33647223662121284,
          0.4054651081081644
         ],
         "y": [
          1.2008023614408682e-08,
          1.0851863126953064e-08,
          8.100317050951455e-09,
          4.333042582010255e-09,
          6.499663027900644e-10,
          0,
          -4.891518302716029e-10,
          -8.780254305253925e-10,
          -1.183557474949546e-09,
          -1.4243050082836332e-09,
          -1.6162090567832794e-09
         ]
        },
        {
         "line": {
          "color": "rgba(55, 128, 191, 0.7999999999999998)",
          "dash": "solid",
          "shape": "linear",
          "width": 1.3
         },
         "mode": "lines",
         "name": "Glass Noodle",
         "text": "",
         "type": "scatter",
         "x": [
          -0.6931471805599453,
          -0.5108256237659907,
          -0.35667494393873245,
          -0.22314355131420968,
          -0.10536051565782628,
          0,
          0.09531017980432495,
          0.1823215567939546,
          0.26236426446749106,
          0.33647223662121284,
          0.4054651081081644
         ],
         "y": [
          2.3266255586087544e-10,
          1.9756485334634545e-10,
          1.5868706347694685e-10,
          1.1082024186589331e-10,
          5.697264881925144e-11,
          0,
          -5.714406725750923e-11,
          -1.1243961318207346e-10,
          -1.6387990965604522e-10,
          -2.090407847040508e-10,
          -2.4804469592488603e-10
         ]
        },
        {
         "line": {
          "color": "rgba(50, 171, 96, 0.7999999999999998)",
          "dash": "solid",
          "shape": "linear",
          "width": 1.3
         },
         "mode": "lines",
         "name": "Seaweed",
         "text": "",
         "type": "scatter",
         "x": [
          -0.6931471805599453,
          -0.5108256237659907,
          -0.35667494393873245,
          -0.22314355131420968,
          -0.10536051565782628,
          0,
          0.09531017980432495,
          0.1823215567939546,
          0.26236426446749106,
          0.33647223662121284,
          0.4054651081081644
         ],
         "y": [
          1.7804815463352255e-08,
          1.3680022354598842e-08,
          1.2769091036278712e-08,
          9.648184649077164e-09,
          2.7286424193993517e-09,
          0,
          9.284930597838691e-10,
          2.5414206262688383e-09,
          5.204874739871883e-09,
          8.761819231735247e-09,
          -2.6569000908154743e-08
         ]
        },
        {
         "line": {
          "color": "rgba(128, 0, 128, 0.7999999999999998)",
          "dash": "solid",
          "shape": "linear",
          "width": 1.3
         },
         "mode": "lines",
         "name": "Cabbage ",
         "text": "",
         "type": "scatter",
         "x": [
          -0.6931471805599453,
          -0.5108256237659907,
          -0.35667494393873245,
          -0.22314355131420968,
          -0.10536051565782628,
          0,
          0.09531017980432495,
          0.1823215567939546,
          0.26236426446749106,
          0.33647223662121284,
          0.4054651081081644
         ],
         "y": [
          -0.010440779325595726,
          -0.004482778584479088,
          3.3257287979302567e-09,
          1.1398824100337467e-09,
          5.403435475376338e-10,
          0,
          -4.2322467761553916e-10,
          -7.501088641930232e-10,
          -1.0046659065283374e-09,
          -1.2054774963293239e-09,
          -1.366722846941883e-09
         ]
        },
        {
         "line": {
          "color": "rgba(219, 64, 82, 0.7999999999999998)",
          "dash": "solid",
          "shape": "linear",
          "width": 1.3
         },
         "mode": "lines",
         "name": "Flour",
         "text": "",
         "type": "scatter",
         "x": [
          -0.6931471805599453,
          -0.5108256237659907,
          -0.35667494393873245,
          -0.22314355131420968,
          -0.10536051565782628,
          0,
          0.09531017980432495,
          0.1823215567939546,
          0.26236426446749106,
          0.33647223662121284,
          0.4054651081081644
         ],
         "y": [
          -0.05711713639109735,
          -0.033353520878035996,
          -0.021447390659444527,
          -0.01424703860106728,
          -0.007098158268564677,
          0,
          0.007048127830413412,
          0.014046857629985242,
          0.020997009513380245,
          0.026496598187089427,
          0.0312568839104381
         ]
        },
        {
         "line": {
          "color": "rgba(0, 128, 128, 0.7999999999999998)",
          "dash": "solid",
          "shape": "linear",
          "width": 1.3
         },
         "mode": "lines",
         "name": "Chicken",
         "text": "",
         "type": "scatter",
         "x": [
          -0.6931471805599453,
          -0.5108256237659907,
          -0.35667494393873245,
          -0.22314355131420968,
          -0.10536051565782628,
          0,
          0.09531017980432495,
          0.1823215567939546,
          0.26236426446749106,
          0.33647223662121284,
          0.4054651081081644
         ],
         "y": [
          -2.424099828051498e-08,
          -3.918011478491348e-09,
          2.1057265265141512e-08,
          -2.5964355003359635e-08,
          -2.6706470281037937e-08,
          0,
          3.572761191618451e-09,
          1.0984697979730063e-08,
          1.4991582973669867e-08,
          1.5772058423701368e-08,
          1.4566913569198237e-08
         ]
        },
        {
         "line": {
          "color": "rgba(255, 255, 51, 0.7999999999999998)",
          "dash": "solid",
          "shape": "linear",
          "width": 1.3
         },
         "mode": "lines",
         "name": "Teriyaki Sauce",
         "text": "",
         "type": "scatter",
         "x": [
          -0.6931471805599453,
          -0.5108256237659907,
          -0.35667494393873245,
          -0.22314355131420968,
          -0.10536051565782628,
          0,
          0.09531017980432495,
          0.1823215567939546,
          0.26236426446749106,
          0.33647223662121284,
          0.4054651081081644
         ],
         "y": [
          -2.632383001807597e-08,
          4.015893831629106e-09,
          1.0738043951875586e-08,
          9.369504017602256e-09,
          3.5721774363541888e-09,
          0,
          -1.0810462531000355e-09,
          -1.775009363290592e-09,
          -2.200855833335778e-09,
          -2.3125207331369397e-09,
          -2.258157552388906e-09
         ]
        }
       ],
       "layout": {
        "legend": {
         "bgcolor": "#F5F6F9",
         "font": {
          "color": "#4D5663"
         }
        },
        "paper_bgcolor": "#F5F6F9",
        "plot_bgcolor": "#F5F6F9",
        "template": {
         "data": {
          "bar": [
           {
            "error_x": {
             "color": "#2a3f5f"
            },
            "error_y": {
             "color": "#2a3f5f"
            },
            "marker": {
             "line": {
              "color": "#E5ECF6",
              "width": 0.5
             },
             "pattern": {
              "fillmode": "overlay",
              "size": 10,
              "solidity": 0.2
             }
            },
            "type": "bar"
           }
          ],
          "barpolar": [
           {
            "marker": {
             "line": {
              "color": "#E5ECF6",
              "width": 0.5
             },
             "pattern": {
              "fillmode": "overlay",
              "size": 10,
              "solidity": 0.2
             }
            },
            "type": "barpolar"
           }
          ],
          "carpet": [
           {
            "aaxis": {
             "endlinecolor": "#2a3f5f",
             "gridcolor": "white",
             "linecolor": "white",
             "minorgridcolor": "white",
             "startlinecolor": "#2a3f5f"
            },
            "baxis": {
             "endlinecolor": "#2a3f5f",
             "gridcolor": "white",
             "linecolor": "white",
             "minorgridcolor": "white",
             "startlinecolor": "#2a3f5f"
            },
            "type": "carpet"
           }
          ],
          "choropleth": [
           {
            "colorbar": {
             "outlinewidth": 0,
             "ticks": ""
            },
            "type": "choropleth"
           }
          ],
          "contour": [
           {
            "colorbar": {
             "outlinewidth": 0,
             "ticks": ""
            },
            "colorscale": [
             [
              0,
              "#0d0887"
             ],
             [
              0.1111111111111111,
              "#46039f"
             ],
             [
              0.2222222222222222,
              "#7201a8"
             ],
             [
              0.3333333333333333,
              "#9c179e"
             ],
             [
              0.4444444444444444,
              "#bd3786"
             ],
             [
              0.5555555555555556,
              "#d8576b"
             ],
             [
              0.6666666666666666,
              "#ed7953"
             ],
             [
              0.7777777777777778,
              "#fb9f3a"
             ],
             [
              0.8888888888888888,
              "#fdca26"
             ],
             [
              1,
              "#f0f921"
             ]
            ],
            "type": "contour"
           }
          ],
          "contourcarpet": [
           {
            "colorbar": {
             "outlinewidth": 0,
             "ticks": ""
            },
            "type": "contourcarpet"
           }
          ],
          "heatmap": [
           {
            "colorbar": {
             "outlinewidth": 0,
             "ticks": ""
            },
            "colorscale": [
             [
              0,
              "#0d0887"
             ],
             [
              0.1111111111111111,
              "#46039f"
             ],
             [
              0.2222222222222222,
              "#7201a8"
             ],
             [
              0.3333333333333333,
              "#9c179e"
             ],
             [
              0.4444444444444444,
              "#bd3786"
             ],
             [
              0.5555555555555556,
              "#d8576b"
             ],
             [
              0.6666666666666666,
              "#ed7953"
             ],
             [
              0.7777777777777778,
              "#fb9f3a"
             ],
             [
              0.8888888888888888,
              "#fdca26"
             ],
             [
              1,
              "#f0f921"
             ]
            ],
            "type": "heatmap"
           }
          ],
          "heatmapgl": [
           {
            "colorbar": {
             "outlinewidth": 0,
             "ticks": ""
            },
            "colorscale": [
             [
              0,
              "#0d0887"
             ],
             [
              0.1111111111111111,
              "#46039f"
             ],
             [
              0.2222222222222222,
              "#7201a8"
             ],
             [
              0.3333333333333333,
              "#9c179e"
             ],
             [
              0.4444444444444444,
              "#bd3786"
             ],
             [
              0.5555555555555556,
              "#d8576b"
             ],
             [
              0.6666666666666666,
              "#ed7953"
             ],
             [
              0.7777777777777778,
              "#fb9f3a"
             ],
             [
              0.8888888888888888,
              "#fdca26"
             ],
             [
              1,
              "#f0f921"
             ]
            ],
            "type": "heatmapgl"
           }
          ],
          "histogram": [
           {
            "marker": {
             "pattern": {
              "fillmode": "overlay",
              "size": 10,
              "solidity": 0.2
             }
            },
            "type": "histogram"
           }
          ],
          "histogram2d": [
           {
            "colorbar": {
             "outlinewidth": 0,
             "ticks": ""
            },
            "colorscale": [
             [
              0,
              "#0d0887"
             ],
             [
              0.1111111111111111,
              "#46039f"
             ],
             [
              0.2222222222222222,
              "#7201a8"
             ],
             [
              0.3333333333333333,
              "#9c179e"
             ],
             [
              0.4444444444444444,
              "#bd3786"
             ],
             [
              0.5555555555555556,
              "#d8576b"
             ],
             [
              0.6666666666666666,
              "#ed7953"
             ],
             [
              0.7777777777777778,
              "#fb9f3a"
             ],
             [
              0.8888888888888888,
              "#fdca26"
             ],
             [
              1,
              "#f0f921"
             ]
            ],
            "type": "histogram2d"
           }
          ],
          "histogram2dcontour": [
           {
            "colorbar": {
             "outlinewidth": 0,
             "ticks": ""
            },
            "colorscale": [
             [
              0,
              "#0d0887"
             ],
             [
              0.1111111111111111,
              "#46039f"
             ],
             [
              0.2222222222222222,
              "#7201a8"
             ],
             [
              0.3333333333333333,
              "#9c179e"
             ],
             [
              0.4444444444444444,
              "#bd3786"
             ],
             [
              0.5555555555555556,
              "#d8576b"
             ],
             [
              0.6666666666666666,
              "#ed7953"
             ],
             [
              0.7777777777777778,
              "#fb9f3a"
             ],
             [
              0.8888888888888888,
              "#fdca26"
             ],
             [
              1,
              "#f0f921"
             ]
            ],
            "type": "histogram2dcontour"
           }
          ],
          "mesh3d": [
           {
            "colorbar": {
             "outlinewidth": 0,
             "ticks": ""
            },
            "type": "mesh3d"
           }
          ],
          "parcoords": [
           {
            "line": {
             "colorbar": {
              "outlinewidth": 0,
              "ticks": ""
             }
            },
            "type": "parcoords"
           }
          ],
          "pie": [
           {
            "automargin": true,
            "type": "pie"
           }
          ],
          "scatter": [
           {
            "marker": {
             "colorbar": {
              "outlinewidth": 0,
              "ticks": ""
             }
            },
            "type": "scatter"
           }
          ],
          "scatter3d": [
           {
            "line": {
             "colorbar": {
              "outlinewidth": 0,
              "ticks": ""
             }
            },
            "marker": {
             "colorbar": {
              "outlinewidth": 0,
              "ticks": ""
             }
            },
            "type": "scatter3d"
           }
          ],
          "scattercarpet": [
           {
            "marker": {
             "colorbar": {
              "outlinewidth": 0,
              "ticks": ""
             }
            },
            "type": "scattercarpet"
           }
          ],
          "scattergeo": [
           {
            "marker": {
             "colorbar": {
              "outlinewidth": 0,
              "ticks": ""
             }
            },
            "type": "scattergeo"
           }
          ],
          "scattergl": [
           {
            "marker": {
             "colorbar": {
              "outlinewidth": 0,
              "ticks": ""
             }
            },
            "type": "scattergl"
           }
          ],
          "scattermapbox": [
           {
            "marker": {
             "colorbar": {
              "outlinewidth": 0,
              "ticks": ""
             }
            },
            "type": "scattermapbox"
           }
          ],
          "scatterpolar": [
           {
            "marker": {
             "colorbar": {
              "outlinewidth": 0,
              "ticks": ""
             }
            },
            "type": "scatterpolar"
           }
          ],
          "scatterpolargl": [
           {
            "marker": {
             "colorbar": {
              "outlinewidth": 0,
              "ticks": ""
             }
            },
            "type": "scatterpolargl"
           }
          ],
          "scatterternary": [
           {
            "marker": {
             "colorbar": {
              "outlinewidth": 0,
              "ticks": ""
             }
            },
            "type": "scatterternary"
           }
          ],
          "surface": [
           {
            "colorbar": {
             "outlinewidth": 0,
             "ticks": ""
            },
            "colorscale": [
             [
              0,
              "#0d0887"
             ],
             [
              0.1111111111111111,
              "#46039f"
             ],
             [
              0.2222222222222222,
              "#7201a8"
             ],
             [
              0.3333333333333333,
              "#9c179e"
             ],
             [
              0.4444444444444444,
              "#bd3786"
             ],
             [
              0.5555555555555556,
              "#d8576b"
             ],
             [
              0.6666666666666666,
              "#ed7953"
             ],
             [
              0.7777777777777778,
              "#fb9f3a"
             ],
             [
              0.8888888888888888,
              "#fdca26"
             ],
             [
              1,
              "#f0f921"
             ]
            ],
            "type": "surface"
           }
          ],
          "table": [
           {
            "cells": {
             "fill": {
              "color": "#EBF0F8"
             },
             "line": {
              "color": "white"
             }
            },
            "header": {
             "fill": {
              "color": "#C8D4E3"
             },
             "line": {
              "color": "white"
             }
            },
            "type": "table"
           }
          ]
         },
         "layout": {
          "annotationdefaults": {
           "arrowcolor": "#2a3f5f",
           "arrowhead": 0,
           "arrowwidth": 1
          },
          "autotypenumbers": "strict",
          "coloraxis": {
           "colorbar": {
            "outlinewidth": 0,
            "ticks": ""
           }
          },
          "colorscale": {
           "diverging": [
            [
             0,
             "#8e0152"
            ],
            [
             0.1,
             "#c51b7d"
            ],
            [
             0.2,
             "#de77ae"
            ],
            [
             0.3,
             "#f1b6da"
            ],
            [
             0.4,
             "#fde0ef"
            ],
            [
             0.5,
             "#f7f7f7"
            ],
            [
             0.6,
             "#e6f5d0"
            ],
            [
             0.7,
             "#b8e186"
            ],
            [
             0.8,
             "#7fbc41"
            ],
            [
             0.9,
             "#4d9221"
            ],
            [
             1,
             "#276419"
            ]
           ],
           "sequential": [
            [
             0,
             "#0d0887"
            ],
            [
             0.1111111111111111,
             "#46039f"
            ],
            [
             0.2222222222222222,
             "#7201a8"
            ],
            [
             0.3333333333333333,
             "#9c179e"
            ],
            [
             0.4444444444444444,
             "#bd3786"
            ],
            [
             0.5555555555555556,
             "#d8576b"
            ],
            [
             0.6666666666666666,
             "#ed7953"
            ],
            [
             0.7777777777777778,
             "#fb9f3a"
            ],
            [
             0.8888888888888888,
             "#fdca26"
            ],
            [
             1,
             "#f0f921"
            ]
           ],
           "sequentialminus": [
            [
             0,
             "#0d0887"
            ],
            [
             0.1111111111111111,
             "#46039f"
            ],
            [
             0.2222222222222222,
             "#7201a8"
            ],
            [
             0.3333333333333333,
             "#9c179e"
            ],
            [
             0.4444444444444444,
             "#bd3786"
            ],
            [
             0.5555555555555556,
             "#d8576b"
            ],
            [
             0.6666666666666666,
             "#ed7953"
            ],
            [
             0.7777777777777778,
             "#fb9f3a"
            ],
            [
             0.8888888888888888,
             "#fdca26"
            ],
            [
             1,
             "#f0f921"
            ]
           ]
          },
          "colorway": [
           "#636efa",
           "#EF553B",
           "#00cc96",
           "#ab63fa",
           "#FFA15A",
           "#19d3f3",
           "#FF6692",
           "#B6E880",
           "#FF97FF",
           "#FECB52"
          ],
          "font": {
           "color": "#2a3f5f"
          },
          "geo": {
           "bgcolor": "white",
           "lakecolor": "white",
           "landcolor": "#E5ECF6",
           "showlakes": true,
           "showland": true,
           "subunitcolor": "white"
          },
          "hoverlabel": {
           "align": "left"
          },
          "hovermode": "closest",
          "mapbox": {
           "style": "light"
          },
          "paper_bgcolor": "white",
          "plot_bgcolor": "#E5ECF6",
          "polar": {
           "angularaxis": {
            "gridcolor": "white",
            "linecolor": "white",
            "ticks": ""
           },
           "bgcolor": "#E5ECF6",
           "radialaxis": {
            "gridcolor": "white",
            "linecolor": "white",
            "ticks": ""
           }
          },
          "scene": {
           "xaxis": {
            "backgroundcolor": "#E5ECF6",
            "gridcolor": "white",
            "gridwidth": 2,
            "linecolor": "white",
            "showbackground": true,
            "ticks": "",
            "zerolinecolor": "white"
           },
           "yaxis": {
            "backgroundcolor": "#E5ECF6",
            "gridcolor": "white",
            "gridwidth": 2,
            "linecolor": "white",
            "showbackground": true,
            "ticks": "",
            "zerolinecolor": "white"
           },
           "zaxis": {
            "backgroundcolor": "#E5ECF6",
            "gridcolor": "white",
            "gridwidth": 2,
            "linecolor": "white",
            "showbackground": true,
            "ticks": "",
            "zerolinecolor": "white"
           }
          },
          "shapedefaults": {
           "line": {
            "color": "#2a3f5f"
           }
          },
          "ternary": {
           "aaxis": {
            "gridcolor": "white",
            "linecolor": "white",
            "ticks": ""
           },
           "baxis": {
            "gridcolor": "white",
            "linecolor": "white",
            "ticks": ""
           },
           "bgcolor": "#E5ECF6",
           "caxis": {
            "gridcolor": "white",
            "linecolor": "white",
            "ticks": ""
           }
          },
          "title": {
           "x": 0.05
          },
          "xaxis": {
           "automargin": true,
           "gridcolor": "white",
           "linecolor": "white",
           "ticks": "",
           "title": {
            "standoff": 15
           },
           "zerolinecolor": "white",
           "zerolinewidth": 2
          },
          "yaxis": {
           "automargin": true,
           "gridcolor": "white",
           "linecolor": "white",
           "ticks": "",
           "title": {
            "standoff": 15
           },
           "zerolinecolor": "white",
           "zerolinewidth": 2
          }
         }
        },
        "title": {
         "font": {
          "color": "#4D5663"
         },
         "text": "Effects of Price Changes on Subsistence Diet Cost for M 19-30"
        },
        "xaxis": {
         "gridcolor": "#E1E5ED",
         "showgrid": true,
         "tickfont": {
          "color": "#4D5663"
         },
         "title": {
          "font": {
           "color": "#4D5663"
          },
          "text": "change in log price"
         },
         "zerolinecolor": "#E1E5ED"
        },
        "yaxis": {
         "gridcolor": "#E1E5ED",
         "showgrid": true,
         "tickfont": {
          "color": "#4D5663"
         },
         "title": {
          "font": {
           "color": "#4D5663"
          },
          "text": "change in log cost"
         },
         "zerolinecolor": "#E1E5ED"
        }
       }
      },
      "text/html": [
       "<div>                            <div id=\"6a643abd-7efd-474a-9a1b-9ee36b0af503\" class=\"plotly-graph-div\" style=\"height:525px; width:100%;\"></div>            <script type=\"text/javascript\">                require([\"plotly\"], function(Plotly) {                    window.PLOTLYENV=window.PLOTLYENV || {};\n",
       "                    window.PLOTLYENV.BASE_URL='https://plot.ly';                                    if (document.getElementById(\"6a643abd-7efd-474a-9a1b-9ee36b0af503\")) {                    Plotly.newPlot(                        \"6a643abd-7efd-474a-9a1b-9ee36b0af503\",                        [{\"line\":{\"color\":\"rgba(255, 153, 51, 1.0)\",\"dash\":\"solid\",\"shape\":\"linear\",\"width\":1.3},\"mode\":\"lines\",\"name\":\"Beef\",\"text\":\"\",\"type\":\"scatter\",\"x\":[-0.6931471805599453,-0.5108256237659907,-0.35667494393873245,-0.22314355131420968,-0.10536051565782628,0.0,0.09531017980432495,0.1823215567939546,0.26236426446749106,0.33647223662121284,0.4054651081081644],\"y\":[-0.0379475691640926,-0.008375306347299766,2.5179295664560413e-08,2.903290454757377e-08,-1.331312838635207e-09,0.0,1.2500280066194527e-08,1.525100278870693e-08,1.794647481173626e-08,1.8114633406861486e-08,1.6578839941122625e-08]},{\"line\":{\"color\":\"rgba(55, 128, 191, 1.0)\",\"dash\":\"solid\",\"shape\":\"linear\",\"width\":1.3},\"mode\":\"lines\",\"name\":\"Egg\",\"text\":\"\",\"type\":\"scatter\",\"x\":[-0.6931471805599453,-0.5108256237659907,-0.35667494393873245,-0.22314355131420968,-0.10536051565782628,0.0,0.09531017980432495,0.1823215567939546,0.26236426446749106,0.33647223662121284,0.4054651081081644],\"y\":[-0.08010542784689752,-0.056837536608081836,-0.03409875671738298,-0.013913997482709156,-0.006932784884729082,0.0,0.006885055801731917,0.013723050871328003,0.01596581397835074,0.016316184156004363,0.016316202570126764]},{\"line\":{\"color\":\"rgba(50, 171, 96, 1.0)\",\"dash\":\"solid\",\"shape\":\"linear\",\"width\":1.3},\"mode\":\"lines\",\"name\":\"Carrots\",\"text\":\"\",\"type\":\"scatter\",\"x\":[-0.6931471805599453,-0.5108256237659907,-0.35667494393873245,-0.22314355131420968,-0.10536051565782628,0.0,0.09531017980432495,0.1823215567939546,0.26236426446749106,0.33647223662121284,0.4054651081081644],\"y\":[3.728996215965407e-09,1.5997476663891975e-09,7.768217177608665e-10,3.7870839790278203e-10,1.5121037754106971e-10,0.0,-1.1509448950116163e-10,4.983644606861241e-10,1.8160235521089021e-09,2.9611701935505837e-09,3.910493921025618e-09]},{\"line\":{\"color\":\"rgba(128, 0, 128, 1.0)\",\"dash\":\"solid\",\"shape\":\"linear\",\"width\":1.3},\"mode\":\"lines\",\"name\":\"Purple Cabbage \",\"text\":\"\",\"type\":\"scatter\",\"x\":[-0.6931471805599453,-0.5108256237659907,-0.35667494393873245,-0.22314355131420968,-0.10536051565782628,0.0,0.09531017980432495,0.1823215567939546,0.26236426446749106,0.33647223662121284,0.4054651081081644],\"y\":[-0.017761226821055787,-0.014183657674433754,-0.010618845324956636,-0.007066697074496719,-0.0035270893090597905,0.0,0.0035146927759710112,0.00701707694436189,0.010507237979905772,0.013985260374487102,0.017451228673392803]},{\"line\":{\"color\":\"rgba(219, 64, 82, 1.0)\",\"dash\":\"solid\",\"shape\":\"linear\",\"width\":1.3},\"mode\":\"lines\",\"name\":\"Squash\",\"text\":\"\",\"type\":\"scatter\",\"x\":[-0.6931471805599453,-0.5108256237659907,-0.35667494393873245,-0.22314355131420968,-0.10536051565782628,0.0,0.09531017980432495,0.1823215567939546,0.26236426446749106,0.33647223662121284,0.4054651081081644],\"y\":[2.5559985206788265e-09,1.1141147997950516e-09,4.469729030343316e-10,1.600857224431467e-10,4.043720913589464e-11,0.0,-3.5975666890018285e-12,1.0296652419530541e-11,3.324762687329193e-11,5.963363136451787e-11,8.760014935276676e-11]},{\"line\":{\"color\":\"rgba(0, 128, 128, 1.0)\",\"dash\":\"solid\",\"shape\":\"linear\",\"width\":1.3},\"mode\":\"lines\",\"name\":\"Spinach \",\"text\":\"\",\"type\":\"scatter\",\"x\":[-0.6931471805599453,-0.5108256237659907,-0.35667494393873245,-0.22314355131420968,-0.10536051565782628,0.0,0.09531017980432495,0.1823215567939546,0.26236426446749106,0.33647223662121284,0.4054651081081644],\"y\":[-0.3969803104658373,-0.3020134009324195,-0.2152881182423466,-0.13820170518067662,-0.06671526261630802,0.0,0.06254138258267743,0.12140043542048728,0.17698688147362143,0.22964550362925643,0.27754195364140294]},{\"line\":{\"color\":\"rgba(255, 255, 51, 1.0)\",\"dash\":\"solid\",\"shape\":\"linear\",\"width\":1.3},\"mode\":\"lines\",\"name\":\"Jasmine Rice\",\"text\":\"\",\"type\":\"scatter\",\"x\":[-0.6931471805599453,-0.5108256237659907,-0.35667494393873245,-0.22314355131420968,-0.10536051565782628,0.0,0.09531017980432495,0.1823215567939546,0.26236426446749106,0.33647223662121284,0.4054651081081644],\"y\":[3.801353002921471e-09,4.752290105690619e-09,4.9991735070972466e-09,4.572524348693689e-09,2.7018289791152244e-09,0.0,-2.9961114745211004e-09,-6.088409239762028e-09,-9.140242937660682e-09,-1.190500749518226e-08,-1.4471785874459244e-08]},{\"line\":{\"color\":\"rgba(128, 128, 0, 1.0)\",\"dash\":\"solid\",\"shape\":\"linear\",\"width\":1.3},\"mode\":\"lines\",\"name\":\"Kimchi\",\"text\":\"\",\"type\":\"scatter\",\"x\":[-0.6931471805599453,-0.5108256237659907,-0.35667494393873245,-0.22314355131420968,-0.10536051565782628,0.0,0.09531017980432495,0.1823215567939546,0.26236426446749106,0.33647223662121284,0.4054651081081644],\"y\":[1.1437994708130485e-08,5.763851157512157e-09,2.7632387451085114e-09,1.2228489324767611e-09,4.0737080367365934e-10,0.0,-1.6608370236028972e-10,-1.834922214340599e-10,-1.0793010930015412e-10,5.431906034604401e-10,1.4030208096576859e-09]},{\"line\":{\"color\":\"rgba(251, 128, 114, 1.0)\",\"dash\":\"solid\",\"shape\":\"linear\",\"width\":1.3},\"mode\":\"lines\",\"name\":\"Onions\",\"text\":\"\",\"type\":\"scatter\",\"x\":[-0.6931471805599453,-0.5108256237659907,-0.35667494393873245,-0.22314355131420968,-0.10536051565782628,0.0,0.09531017980432495,0.1823215567939546,0.26236426446749106,0.33647223662121284,0.4054651081081644],\"y\":[5.0982862246296094e-09,3.5139868730814745e-09,1.6298391512000463e-09,9.426486253792013e-10,4.1642955741705454e-10,0.0,-3.3265501470074073e-10,-6.017036870565335e-10,-8.236619167884349e-10,-1.0088374585252638e-09,-1.1667748996003797e-09]},{\"line\":{\"color\":\"rgba(128, 177, 211, 1.0)\",\"dash\":\"solid\",\"shape\":\"linear\",\"width\":1.3},\"mode\":\"lines\",\"name\":\"Fish Sauce\",\"text\":\"\",\"type\":\"scatter\",\"x\":[-0.6931471805599453,-0.5108256237659907,-0.35667494393873245,-0.22314355131420968,-0.10536051565782628,0.0,0.09531017980432495,0.1823215567939546,0.26236426446749106,0.33647223662121284,0.4054651081081644],\"y\":[-2.661749034413395e-08,-1.6538053162837483e-09,-2.156736458419467e-09,-1.3220747838573477e-09,-5.806887195001898e-10,0.0,4.501643501394875e-10,8.038556483891231e-10,1.086116529457041e-09,1.3154994862547949e-09,1.5062679980839587e-09]},{\"line\":{\"color\":\"rgba(128, 177, 211, 0.8999999999999999)\",\"dash\":\"solid\",\"shape\":\"linear\",\"width\":1.3},\"mode\":\"lines\",\"name\":\"Pork\",\"text\":\"\",\"type\":\"scatter\",\"x\":[-0.6931471805599453,-0.5108256237659907,-0.35667494393873245,-0.22314355131420968,-0.10536051565782628,0.0,0.09531017980432495,0.1823215567939546,0.26236426446749106,0.33647223662121284,0.4054651081081644],\"y\":[-0.12239954666542861,-0.09307421905173152,-0.06466074035095512,-0.03781476495431861,-0.018122024791734116,0.0,0.017799438530629718,0.03117092124312218,0.03117067796335713,0.03117067822054352,0.03117067836891862]},{\"line\":{\"color\":\"rgba(255, 153, 51, 0.8999999999999999)\",\"dash\":\"solid\",\"shape\":\"linear\",\"width\":1.3},\"mode\":\"lines\",\"name\":\"Tofu\",\"text\":\"\",\"type\":\"scatter\",\"x\":[-0.6931471805599453,-0.5108256237659907,-0.35667494393873245,-0.22314355131420968,-0.10536051565782628,0.0,0.09531017980432495,0.1823215567939546,0.26236426446749106,0.33647223662121284,0.4054651081081644],\"y\":[4.573583829209573e-08,2.1845682579649783e-08,1.0596633736514526e-08,3.640897576795385e-09,9.530847218007858e-10,0.0,-7.206448773654339e-10,-1.3031816745332918e-09,-1.7968987425277999e-09,-2.2294872639589573e-09,-2.6165426526373295e-09]},{\"line\":{\"color\":\"rgba(55, 128, 191, 0.8999999999999999)\",\"dash\":\"solid\",\"shape\":\"linear\",\"width\":1.3},\"mode\":\"lines\",\"name\":\"Green Onions\",\"text\":\"\",\"type\":\"scatter\",\"x\":[-0.6931471805599453,-0.5108256237659907,-0.35667494393873245,-0.22314355131420968,-0.10536051565782628,0.0,0.09531017980432495,0.1823215567939546,0.26236426446749106,0.33647223662121284,0.4054651081081644],\"y\":[-2.6580895726934377e-08,-2.6425422421913688e-08,-2.6571306286326632e-08,-1.202079776283152e-08,4.739929992816129e-09,0.0,-5.140678994919487e-10,-8.46800407575931e-12,1.155658457150958e-09,2.5752075994016083e-09,4.1289673816914354e-09]},{\"line\":{\"color\":\"rgba(50, 171, 96, 0.8999999999999999)\",\"dash\":\"solid\",\"shape\":\"linear\",\"width\":1.3},\"mode\":\"lines\",\"name\":\"Sweet Chili Sauce\",\"text\":\"\",\"type\":\"scatter\",\"x\":[-0.6931471805599453,-0.5108256237659907,-0.35667494393873245,-0.22314355131420968,-0.10536051565782628,0.0,0.09531017980432495,0.1823215567939546,0.26236426446749106,0.33647223662121284,0.4054651081081644],\"y\":[2.6962669838214694e-09,1.873824649244113e-09,1.2686394149365675e-09,7.829787926060308e-10,3.6915248628880165e-10,0.0,-3.38125638656416e-10,-6.537967946945794e-10,-9.5267205281051e-10,-1.238756098466226e-09,-1.5141330423157293e-09]},{\"line\":{\"color\":\"rgba(128, 0, 128, 0.8999999999999999)\",\"dash\":\"solid\",\"shape\":\"linear\",\"width\":1.3},\"mode\":\"lines\",\"name\":\"Beef Short Ribs\",\"text\":\"\",\"type\":\"scatter\",\"x\":[-0.6931471805599453,-0.5108256237659907,-0.35667494393873245,-0.22314355131420968,-0.10536051565782628,0.0,0.09531017980432495,0.1823215567939546,0.26236426446749106,0.33647223662121284,0.4054651081081644],\"y\":[-0.047815853226008155,-0.02016176480289902,-2.4712122431746887e-08,-4.57307914804961e-09,-2.2977359168420818e-08,0.0,7.219453009329483e-09,9.124960782813753e-10,-8.324992840882867e-09,-1.4719007343588903e-08,-1.8342312614904375e-08]},{\"line\":{\"color\":\"rgba(219, 64, 82, 0.8999999999999999)\",\"dash\":\"solid\",\"shape\":\"linear\",\"width\":1.3},\"mode\":\"lines\",\"name\":\"potato\",\"text\":\"\",\"type\":\"scatter\",\"x\":[-0.6931471805599453,-0.5108256237659907,-0.35667494393873245,-0.22314355131420968,-0.10536051565782628,0.0,0.09531017980432495,0.1823215567939546,0.26236426446749106,0.33647223662121284,0.4054651081081644],\"y\":[-2.5106786853839865e-08,3.4181263306653294e-07,-2.6697933442906732e-08,2.5051962695127738e-09,1.133196424942448e-09,0.0,-8.426207513065441e-10,-1.4394692115317943e-09,-1.870588241610188e-09,-2.189786243622149e-09,-2.425672554651056e-09]},{\"line\":{\"color\":\"rgba(0, 128, 128, 0.8999999999999999)\",\"dash\":\"solid\",\"shape\":\"linear\",\"width\":1.3},\"mode\":\"lines\",\"name\":\"fish cake\",\"text\":\"\",\"type\":\"scatter\",\"x\":[-0.6931471805599453,-0.5108256237659907,-0.35667494393873245,-0.22314355131420968,-0.10536051565782628,0.0,0.09531017980432495,0.1823215567939546,0.26236426446749106,0.33647223662121284,0.4054651081081644],\"y\":[2.836109787438003e-09,2.0555168657145483e-09,1.4563230610829446e-09,9.269622842789361e-10,4.419982157078024e-10,0.0,-3.9678171867108286e-10,-1.8968171479750003e-10,9.56098755265161e-10,1.8865005095816357e-09,2.2456172451878213e-09]},{\"line\":{\"color\":\"rgba(255, 255, 51, 0.8999999999999999)\",\"dash\":\"solid\",\"shape\":\"linear\",\"width\":1.3},\"mode\":\"lines\",\"name\":\"kimchi\",\"text\":\"\",\"type\":\"scatter\",\"x\":[-0.6931471805599453,-0.5108256237659907,-0.35667494393873245,-0.22314355131420968,-0.10536051565782628,0.0,0.09531017980432495,0.1823215567939546,0.26236426446749106,0.33647223662121284,0.4054651081081644],\"y\":[1.1438246284664987e-08,5.7636331097113775e-09,2.7634194894164207e-09,1.2229925953359718e-09,4.0755598887409134e-10,0.0,-1.6594192688002157e-10,-1.8368939704326953e-10,-1.0798861805355818e-10,5.431735060258701e-10,1.4028456164646457e-09]},{\"line\":{\"color\":\"rgba(128, 128, 0, 0.8999999999999999)\",\"dash\":\"solid\",\"shape\":\"linear\",\"width\":1.3},\"mode\":\"lines\",\"name\":\"Soy Sauce\",\"text\":\"\",\"type\":\"scatter\",\"x\":[-0.6931471805599453,-0.5108256237659907,-0.35667494393873245,-0.22314355131420968,-0.10536051565782628,0.0,0.09531017980432495,0.1823215567939546,0.26236426446749106,0.33647223662121284,0.4054651081081644],\"y\":[-1.2175071358597656e-08,-7.185038589929397e-09,1.3335306169451982e-07,1.6658667764681841e-09,-1.559217966905473e-08,0.0,-2.428541519618346e-08,-2.6522688064475392e-08,-1.2846056079228642e-08,-2.630664476440326e-08,-1.4657864030055622e-08]},{\"line\":{\"color\":\"rgba(251, 128, 114, 0.8999999999999999)\",\"dash\":\"solid\",\"shape\":\"linear\",\"width\":1.3},\"mode\":\"lines\",\"name\":\"Sesame \",\"text\":\"\",\"type\":\"scatter\",\"x\":[-0.6931471805599453,-0.5108256237659907,-0.35667494393873245,-0.22314355131420968,-0.10536051565782628,0.0,0.09531017980432495,0.1823215567939546,0.26236426446749106,0.33647223662121284,0.4054651081081644],\"y\":[-8.668349524781861e-05,3.763997753696785e-08,3.677485204238473e-08,1.7897569266333404e-08,4.0374170591870325e-09,0.0,-1.6396699567109438e-09,-2.5283798420250507e-09,-2.9198929983205922e-09,-2.940269809729663e-09,-2.655160872472288e-09]},{\"line\":{\"color\":\"rgba(251, 128, 114, 0.7999999999999998)\",\"dash\":\"solid\",\"shape\":\"linear\",\"width\":1.3},\"mode\":\"lines\",\"name\":\"Brown Sugar\",\"text\":\"\",\"type\":\"scatter\",\"x\":[-0.6931471805599453,-0.5108256237659907,-0.35667494393873245,-0.22314355131420968,-0.10536051565782628,0.0,0.09531017980432495,0.1823215567939546,0.26236426446749106,0.33647223662121284,0.4054651081081644],\"y\":[5.4343757571714416e-08,4.172222702440829e-08,3.0457675251021694e-08,1.7951108438468668e-08,7.315365619819024e-09,0.0,-4.1075637420268195e-09,-6.404858886005243e-09,-7.634975014717286e-09,-8.214215230658891e-09,-8.379035056481604e-09]},{\"line\":{\"color\":\"rgba(128, 177, 211, 0.7999999999999998)\",\"dash\":\"solid\",\"shape\":\"linear\",\"width\":1.3},\"mode\":\"lines\",\"name\":\"Lettuce\",\"text\":\"\",\"type\":\"scatter\",\"x\":[-0.6931471805599453,-0.5108256237659907,-0.35667494393873245,-0.22314355131420968,-0.10536051565782628,0.0,0.09531017980432495,0.1823215567939546,0.26236426446749106,0.33647223662121284,0.4054651081081644],\"y\":[1.597226349904304e-09,9.946392593490124e-10,6.190581378933215e-10,3.5640201894481717e-10,1.5804735297025916e-10,0.0,-1.326559973068578e-10,-2.4699875481312776e-10,-3.474842636457019e-10,-4.3784498258851745e-10,-5.211742150316478e-10]},{\"line\":{\"color\":\"rgba(255, 153, 51, 0.7999999999999998)\",\"dash\":\"solid\",\"shape\":\"linear\",\"width\":1.3},\"mode\":\"lines\",\"name\":\"Rice Cake\",\"text\":\"\",\"type\":\"scatter\",\"x\":[-0.6931471805599453,-0.5108256237659907,-0.35667494393873245,-0.22314355131420968,-0.10536051565782628,0.0,0.09531017980432495,0.1823215567939546,0.26236426446749106,0.33647223662121284,0.4054651081081644],\"y\":[1.2008023614408682e-08,1.0851863126953064e-08,8.100317050951455e-09,4.333042582010255e-09,6.499663027900644e-10,0.0,-4.891518302716029e-10,-8.780254305253925e-10,-1.183557474949546e-09,-1.4243050082836332e-09,-1.6162090567832794e-09]},{\"line\":{\"color\":\"rgba(55, 128, 191, 0.7999999999999998)\",\"dash\":\"solid\",\"shape\":\"linear\",\"width\":1.3},\"mode\":\"lines\",\"name\":\"Glass Noodle\",\"text\":\"\",\"type\":\"scatter\",\"x\":[-0.6931471805599453,-0.5108256237659907,-0.35667494393873245,-0.22314355131420968,-0.10536051565782628,0.0,0.09531017980432495,0.1823215567939546,0.26236426446749106,0.33647223662121284,0.4054651081081644],\"y\":[2.3266255586087544e-10,1.9756485334634545e-10,1.5868706347694685e-10,1.1082024186589331e-10,5.697264881925144e-11,0.0,-5.714406725750923e-11,-1.1243961318207346e-10,-1.6387990965604522e-10,-2.090407847040508e-10,-2.4804469592488603e-10]},{\"line\":{\"color\":\"rgba(50, 171, 96, 0.7999999999999998)\",\"dash\":\"solid\",\"shape\":\"linear\",\"width\":1.3},\"mode\":\"lines\",\"name\":\"Seaweed\",\"text\":\"\",\"type\":\"scatter\",\"x\":[-0.6931471805599453,-0.5108256237659907,-0.35667494393873245,-0.22314355131420968,-0.10536051565782628,0.0,0.09531017980432495,0.1823215567939546,0.26236426446749106,0.33647223662121284,0.4054651081081644],\"y\":[1.7804815463352255e-08,1.3680022354598842e-08,1.2769091036278712e-08,9.648184649077164e-09,2.7286424193993517e-09,0.0,9.284930597838691e-10,2.5414206262688383e-09,5.204874739871883e-09,8.761819231735247e-09,-2.6569000908154743e-08]},{\"line\":{\"color\":\"rgba(128, 0, 128, 0.7999999999999998)\",\"dash\":\"solid\",\"shape\":\"linear\",\"width\":1.3},\"mode\":\"lines\",\"name\":\"Cabbage \",\"text\":\"\",\"type\":\"scatter\",\"x\":[-0.6931471805599453,-0.5108256237659907,-0.35667494393873245,-0.22314355131420968,-0.10536051565782628,0.0,0.09531017980432495,0.1823215567939546,0.26236426446749106,0.33647223662121284,0.4054651081081644],\"y\":[-0.010440779325595726,-0.004482778584479088,3.3257287979302567e-09,1.1398824100337467e-09,5.403435475376338e-10,0.0,-4.2322467761553916e-10,-7.501088641930232e-10,-1.0046659065283374e-09,-1.2054774963293239e-09,-1.366722846941883e-09]},{\"line\":{\"color\":\"rgba(219, 64, 82, 0.7999999999999998)\",\"dash\":\"solid\",\"shape\":\"linear\",\"width\":1.3},\"mode\":\"lines\",\"name\":\"Flour\",\"text\":\"\",\"type\":\"scatter\",\"x\":[-0.6931471805599453,-0.5108256237659907,-0.35667494393873245,-0.22314355131420968,-0.10536051565782628,0.0,0.09531017980432495,0.1823215567939546,0.26236426446749106,0.33647223662121284,0.4054651081081644],\"y\":[-0.05711713639109735,-0.033353520878035996,-0.021447390659444527,-0.01424703860106728,-0.007098158268564677,0.0,0.007048127830413412,0.014046857629985242,0.020997009513380245,0.026496598187089427,0.0312568839104381]},{\"line\":{\"color\":\"rgba(0, 128, 128, 0.7999999999999998)\",\"dash\":\"solid\",\"shape\":\"linear\",\"width\":1.3},\"mode\":\"lines\",\"name\":\"Chicken\",\"text\":\"\",\"type\":\"scatter\",\"x\":[-0.6931471805599453,-0.5108256237659907,-0.35667494393873245,-0.22314355131420968,-0.10536051565782628,0.0,0.09531017980432495,0.1823215567939546,0.26236426446749106,0.33647223662121284,0.4054651081081644],\"y\":[-2.424099828051498e-08,-3.918011478491348e-09,2.1057265265141512e-08,-2.5964355003359635e-08,-2.6706470281037937e-08,0.0,3.572761191618451e-09,1.0984697979730063e-08,1.4991582973669867e-08,1.5772058423701368e-08,1.4566913569198237e-08]},{\"line\":{\"color\":\"rgba(255, 255, 51, 0.7999999999999998)\",\"dash\":\"solid\",\"shape\":\"linear\",\"width\":1.3},\"mode\":\"lines\",\"name\":\"Teriyaki Sauce\",\"text\":\"\",\"type\":\"scatter\",\"x\":[-0.6931471805599453,-0.5108256237659907,-0.35667494393873245,-0.22314355131420968,-0.10536051565782628,0.0,0.09531017980432495,0.1823215567939546,0.26236426446749106,0.33647223662121284,0.4054651081081644],\"y\":[-2.632383001807597e-08,4.015893831629106e-09,1.0738043951875586e-08,9.369504017602256e-09,3.5721774363541888e-09,0.0,-1.0810462531000355e-09,-1.775009363290592e-09,-2.200855833335778e-09,-2.3125207331369397e-09,-2.258157552388906e-09]}],                        {\"legend\":{\"bgcolor\":\"#F5F6F9\",\"font\":{\"color\":\"#4D5663\"}},\"paper_bgcolor\":\"#F5F6F9\",\"plot_bgcolor\":\"#F5F6F9\",\"template\":{\"data\":{\"bar\":[{\"error_x\":{\"color\":\"#2a3f5f\"},\"error_y\":{\"color\":\"#2a3f5f\"},\"marker\":{\"line\":{\"color\":\"#E5ECF6\",\"width\":0.5},\"pattern\":{\"fillmode\":\"overlay\",\"size\":10,\"solidity\":0.2}},\"type\":\"bar\"}],\"barpolar\":[{\"marker\":{\"line\":{\"color\":\"#E5ECF6\",\"width\":0.5},\"pattern\":{\"fillmode\":\"overlay\",\"size\":10,\"solidity\":0.2}},\"type\":\"barpolar\"}],\"carpet\":[{\"aaxis\":{\"endlinecolor\":\"#2a3f5f\",\"gridcolor\":\"white\",\"linecolor\":\"white\",\"minorgridcolor\":\"white\",\"startlinecolor\":\"#2a3f5f\"},\"baxis\":{\"endlinecolor\":\"#2a3f5f\",\"gridcolor\":\"white\",\"linecolor\":\"white\",\"minorgridcolor\":\"white\",\"startlinecolor\":\"#2a3f5f\"},\"type\":\"carpet\"}],\"choropleth\":[{\"colorbar\":{\"outlinewidth\":0,\"ticks\":\"\"},\"type\":\"choropleth\"}],\"contour\":[{\"colorbar\":{\"outlinewidth\":0,\"ticks\":\"\"},\"colorscale\":[[0.0,\"#0d0887\"],[0.1111111111111111,\"#46039f\"],[0.2222222222222222,\"#7201a8\"],[0.3333333333333333,\"#9c179e\"],[0.4444444444444444,\"#bd3786\"],[0.5555555555555556,\"#d8576b\"],[0.6666666666666666,\"#ed7953\"],[0.7777777777777778,\"#fb9f3a\"],[0.8888888888888888,\"#fdca26\"],[1.0,\"#f0f921\"]],\"type\":\"contour\"}],\"contourcarpet\":[{\"colorbar\":{\"outlinewidth\":0,\"ticks\":\"\"},\"type\":\"contourcarpet\"}],\"heatmap\":[{\"colorbar\":{\"outlinewidth\":0,\"ticks\":\"\"},\"colorscale\":[[0.0,\"#0d0887\"],[0.1111111111111111,\"#46039f\"],[0.2222222222222222,\"#7201a8\"],[0.3333333333333333,\"#9c179e\"],[0.4444444444444444,\"#bd3786\"],[0.5555555555555556,\"#d8576b\"],[0.6666666666666666,\"#ed7953\"],[0.7777777777777778,\"#fb9f3a\"],[0.8888888888888888,\"#fdca26\"],[1.0,\"#f0f921\"]],\"type\":\"heatmap\"}],\"heatmapgl\":[{\"colorbar\":{\"outlinewidth\":0,\"ticks\":\"\"},\"colorscale\":[[0.0,\"#0d0887\"],[0.1111111111111111,\"#46039f\"],[0.2222222222222222,\"#7201a8\"],[0.3333333333333333,\"#9c179e\"],[0.4444444444444444,\"#bd3786\"],[0.5555555555555556,\"#d8576b\"],[0.6666666666666666,\"#ed7953\"],[0.7777777777777778,\"#fb9f3a\"],[0.8888888888888888,\"#fdca26\"],[1.0,\"#f0f921\"]],\"type\":\"heatmapgl\"}],\"histogram\":[{\"marker\":{\"pattern\":{\"fillmode\":\"overlay\",\"size\":10,\"solidity\":0.2}},\"type\":\"histogram\"}],\"histogram2d\":[{\"colorbar\":{\"outlinewidth\":0,\"ticks\":\"\"},\"colorscale\":[[0.0,\"#0d0887\"],[0.1111111111111111,\"#46039f\"],[0.2222222222222222,\"#7201a8\"],[0.3333333333333333,\"#9c179e\"],[0.4444444444444444,\"#bd3786\"],[0.5555555555555556,\"#d8576b\"],[0.6666666666666666,\"#ed7953\"],[0.7777777777777778,\"#fb9f3a\"],[0.8888888888888888,\"#fdca26\"],[1.0,\"#f0f921\"]],\"type\":\"histogram2d\"}],\"histogram2dcontour\":[{\"colorbar\":{\"outlinewidth\":0,\"ticks\":\"\"},\"colorscale\":[[0.0,\"#0d0887\"],[0.1111111111111111,\"#46039f\"],[0.2222222222222222,\"#7201a8\"],[0.3333333333333333,\"#9c179e\"],[0.4444444444444444,\"#bd3786\"],[0.5555555555555556,\"#d8576b\"],[0.6666666666666666,\"#ed7953\"],[0.7777777777777778,\"#fb9f3a\"],[0.8888888888888888,\"#fdca26\"],[1.0,\"#f0f921\"]],\"type\":\"histogram2dcontour\"}],\"mesh3d\":[{\"colorbar\":{\"outlinewidth\":0,\"ticks\":\"\"},\"type\":\"mesh3d\"}],\"parcoords\":[{\"line\":{\"colorbar\":{\"outlinewidth\":0,\"ticks\":\"\"}},\"type\":\"parcoords\"}],\"pie\":[{\"automargin\":true,\"type\":\"pie\"}],\"scatter\":[{\"marker\":{\"colorbar\":{\"outlinewidth\":0,\"ticks\":\"\"}},\"type\":\"scatter\"}],\"scatter3d\":[{\"line\":{\"colorbar\":{\"outlinewidth\":0,\"ticks\":\"\"}},\"marker\":{\"colorbar\":{\"outlinewidth\":0,\"ticks\":\"\"}},\"type\":\"scatter3d\"}],\"scattercarpet\":[{\"marker\":{\"colorbar\":{\"outlinewidth\":0,\"ticks\":\"\"}},\"type\":\"scattercarpet\"}],\"scattergeo\":[{\"marker\":{\"colorbar\":{\"outlinewidth\":0,\"ticks\":\"\"}},\"type\":\"scattergeo\"}],\"scattergl\":[{\"marker\":{\"colorbar\":{\"outlinewidth\":0,\"ticks\":\"\"}},\"type\":\"scattergl\"}],\"scattermapbox\":[{\"marker\":{\"colorbar\":{\"outlinewidth\":0,\"ticks\":\"\"}},\"type\":\"scattermapbox\"}],\"scatterpolar\":[{\"marker\":{\"colorbar\":{\"outlinewidth\":0,\"ticks\":\"\"}},\"type\":\"scatterpolar\"}],\"scatterpolargl\":[{\"marker\":{\"colorbar\":{\"outlinewidth\":0,\"ticks\":\"\"}},\"type\":\"scatterpolargl\"}],\"scatterternary\":[{\"marker\":{\"colorbar\":{\"outlinewidth\":0,\"ticks\":\"\"}},\"type\":\"scatterternary\"}],\"surface\":[{\"colorbar\":{\"outlinewidth\":0,\"ticks\":\"\"},\"colorscale\":[[0.0,\"#0d0887\"],[0.1111111111111111,\"#46039f\"],[0.2222222222222222,\"#7201a8\"],[0.3333333333333333,\"#9c179e\"],[0.4444444444444444,\"#bd3786\"],[0.5555555555555556,\"#d8576b\"],[0.6666666666666666,\"#ed7953\"],[0.7777777777777778,\"#fb9f3a\"],[0.8888888888888888,\"#fdca26\"],[1.0,\"#f0f921\"]],\"type\":\"surface\"}],\"table\":[{\"cells\":{\"fill\":{\"color\":\"#EBF0F8\"},\"line\":{\"color\":\"white\"}},\"header\":{\"fill\":{\"color\":\"#C8D4E3\"},\"line\":{\"color\":\"white\"}},\"type\":\"table\"}]},\"layout\":{\"annotationdefaults\":{\"arrowcolor\":\"#2a3f5f\",\"arrowhead\":0,\"arrowwidth\":1},\"autotypenumbers\":\"strict\",\"coloraxis\":{\"colorbar\":{\"outlinewidth\":0,\"ticks\":\"\"}},\"colorscale\":{\"diverging\":[[0,\"#8e0152\"],[0.1,\"#c51b7d\"],[0.2,\"#de77ae\"],[0.3,\"#f1b6da\"],[0.4,\"#fde0ef\"],[0.5,\"#f7f7f7\"],[0.6,\"#e6f5d0\"],[0.7,\"#b8e186\"],[0.8,\"#7fbc41\"],[0.9,\"#4d9221\"],[1,\"#276419\"]],\"sequential\":[[0.0,\"#0d0887\"],[0.1111111111111111,\"#46039f\"],[0.2222222222222222,\"#7201a8\"],[0.3333333333333333,\"#9c179e\"],[0.4444444444444444,\"#bd3786\"],[0.5555555555555556,\"#d8576b\"],[0.6666666666666666,\"#ed7953\"],[0.7777777777777778,\"#fb9f3a\"],[0.8888888888888888,\"#fdca26\"],[1.0,\"#f0f921\"]],\"sequentialminus\":[[0.0,\"#0d0887\"],[0.1111111111111111,\"#46039f\"],[0.2222222222222222,\"#7201a8\"],[0.3333333333333333,\"#9c179e\"],[0.4444444444444444,\"#bd3786\"],[0.5555555555555556,\"#d8576b\"],[0.6666666666666666,\"#ed7953\"],[0.7777777777777778,\"#fb9f3a\"],[0.8888888888888888,\"#fdca26\"],[1.0,\"#f0f921\"]]},\"colorway\":[\"#636efa\",\"#EF553B\",\"#00cc96\",\"#ab63fa\",\"#FFA15A\",\"#19d3f3\",\"#FF6692\",\"#B6E880\",\"#FF97FF\",\"#FECB52\"],\"font\":{\"color\":\"#2a3f5f\"},\"geo\":{\"bgcolor\":\"white\",\"lakecolor\":\"white\",\"landcolor\":\"#E5ECF6\",\"showlakes\":true,\"showland\":true,\"subunitcolor\":\"white\"},\"hoverlabel\":{\"align\":\"left\"},\"hovermode\":\"closest\",\"mapbox\":{\"style\":\"light\"},\"paper_bgcolor\":\"white\",\"plot_bgcolor\":\"#E5ECF6\",\"polar\":{\"angularaxis\":{\"gridcolor\":\"white\",\"linecolor\":\"white\",\"ticks\":\"\"},\"bgcolor\":\"#E5ECF6\",\"radialaxis\":{\"gridcolor\":\"white\",\"linecolor\":\"white\",\"ticks\":\"\"}},\"scene\":{\"xaxis\":{\"backgroundcolor\":\"#E5ECF6\",\"gridcolor\":\"white\",\"gridwidth\":2,\"linecolor\":\"white\",\"showbackground\":true,\"ticks\":\"\",\"zerolinecolor\":\"white\"},\"yaxis\":{\"backgroundcolor\":\"#E5ECF6\",\"gridcolor\":\"white\",\"gridwidth\":2,\"linecolor\":\"white\",\"showbackground\":true,\"ticks\":\"\",\"zerolinecolor\":\"white\"},\"zaxis\":{\"backgroundcolor\":\"#E5ECF6\",\"gridcolor\":\"white\",\"gridwidth\":2,\"linecolor\":\"white\",\"showbackground\":true,\"ticks\":\"\",\"zerolinecolor\":\"white\"}},\"shapedefaults\":{\"line\":{\"color\":\"#2a3f5f\"}},\"ternary\":{\"aaxis\":{\"gridcolor\":\"white\",\"linecolor\":\"white\",\"ticks\":\"\"},\"baxis\":{\"gridcolor\":\"white\",\"linecolor\":\"white\",\"ticks\":\"\"},\"bgcolor\":\"#E5ECF6\",\"caxis\":{\"gridcolor\":\"white\",\"linecolor\":\"white\",\"ticks\":\"\"}},\"title\":{\"x\":0.05},\"xaxis\":{\"automargin\":true,\"gridcolor\":\"white\",\"linecolor\":\"white\",\"ticks\":\"\",\"title\":{\"standoff\":15},\"zerolinecolor\":\"white\",\"zerolinewidth\":2},\"yaxis\":{\"automargin\":true,\"gridcolor\":\"white\",\"linecolor\":\"white\",\"ticks\":\"\",\"title\":{\"standoff\":15},\"zerolinecolor\":\"white\",\"zerolinewidth\":2}}},\"title\":{\"font\":{\"color\":\"#4D5663\"},\"text\":\"Effects of Price Changes on Subsistence Diet Cost for M 19-30\"},\"xaxis\":{\"gridcolor\":\"#E1E5ED\",\"showgrid\":true,\"tickfont\":{\"color\":\"#4D5663\"},\"title\":{\"font\":{\"color\":\"#4D5663\"},\"text\":\"change in log price\"},\"zerolinecolor\":\"#E1E5ED\"},\"yaxis\":{\"gridcolor\":\"#E1E5ED\",\"showgrid\":true,\"tickfont\":{\"color\":\"#4D5663\"},\"title\":{\"font\":{\"color\":\"#4D5663\"},\"text\":\"change in log cost\"},\"zerolinecolor\":\"#E1E5ED\"}},                        {\"showLink\": true, \"linkText\": \"Export to plot.ly\", \"plotlyServerURL\": \"https://plot.ly\", \"responsive\": true}                    ).then(function(){\n",
       "                            \n",
       "var gd = document.getElementById('6a643abd-7efd-474a-9a1b-9ee36b0af503');\n",
       "var x = new MutationObserver(function (mutations, observer) {{\n",
       "        var display = window.getComputedStyle(gd).display;\n",
       "        if (!display || display === 'none') {{\n",
       "            console.log([gd, 'removed!']);\n",
       "            Plotly.purge(gd);\n",
       "            observer.disconnect();\n",
       "        }}\n",
       "}});\n",
       "\n",
       "// Listen for the removal of the full notebook cells\n",
       "var notebookContainer = gd.closest('#notebook-container');\n",
       "if (notebookContainer) {{\n",
       "    x.observe(notebookContainer, {childList: true});\n",
       "}}\n",
       "\n",
       "// Listen for the clearing of the current output cell\n",
       "var outputEl = gd.closest('.output');\n",
       "if (outputEl) {{\n",
       "    x.observe(outputEl, {childList: true});\n",
       "}}\n",
       "\n",
       "                        })                };                });            </script>        </div>"
      ]
     },
     "metadata": {},
     "output_type": "display_data"
    }
   ],
   "source": [
    "# examine effects of price change on subsistence diet cost for T-toust, the cheapest option\n",
    "# for men and women aged 19-30\n",
    "import cufflinks as cf\n",
    "cf.go_offline()\n",
    "\n",
    "group_pc = ['F 19-30', 'M 19-30']\n",
    "\n",
    "for group in group_pc: \n",
    "    scale = [.5,.6,.7,.8,.9,1.,1.1,1.2,1.3,1.4,1.5]\n",
    "\n",
    "    cost0 = solve_subsistence_problem(ing_res[1],ing_prices[1],dri_min[group],dri_max[group],tol=tol).fun\n",
    "\n",
    "    Price_response={}\n",
    "    for s in scale:\n",
    "        cost = {}\n",
    "        for i,p in enumerate(ing_prices[1]):\n",
    "            my_p = ing_prices[1].copy()\n",
    "            my_p[i] = p*s\n",
    "            result = solve_subsistence_problem(ing_res[1],my_p,dri_min[group],dri_max[group],tol=tol)\n",
    "            cost[ing_prices[1].index[i]] = np.log(result.fun/cost0)\n",
    "        Price_response[np.log(s)] = cost\n",
    "\n",
    "    Price_response = pd.DataFrame(Price_response).T\n",
    "    Price_response.iplot(xTitle='change in log price',yTitle='change in log cost', title ='Effects of Price Changes on Subsistence Diet Cost for '+ group)"
   ]
  },
  {
   "cell_type": "markdown",
   "id": "cdbeaa42",
   "metadata": {},
   "source": [
    "### Effects of Price Changes on Subsistence Diet Composition"
   ]
  },
  {
   "cell_type": "code",
   "execution_count": 22,
   "id": "0b58d2de",
   "metadata": {},
   "outputs": [
    {
     "data": {
      "text/html": [
       "        <script type=\"text/javascript\">\n",
       "        window.PlotlyConfig = {MathJaxConfig: 'local'};\n",
       "        if (window.MathJax) {MathJax.Hub.Config({SVG: {font: \"STIX-Web\"}});}\n",
       "        if (typeof require !== 'undefined') {\n",
       "        require.undef(\"plotly\");\n",
       "        requirejs.config({\n",
       "            paths: {\n",
       "                'plotly': ['https://cdn.plot.ly/plotly-2.3.1.min']\n",
       "            }\n",
       "        });\n",
       "        require(['plotly'], function(Plotly) {\n",
       "            window._Plotly = Plotly;\n",
       "        });\n",
       "        }\n",
       "        </script>\n",
       "        "
      ]
     },
     "metadata": {},
     "output_type": "display_data"
    },
    {
     "name": "stderr",
     "output_type": "stream",
     "text": [
      "/tmp/ipykernel_198/2046845037.py:22: UserWarning:\n",
      "\n",
      "Prices have no units.  BE CAREFUL!  We're assuming prices are per hectogram or deciliter!\n",
      "\n"
     ]
    },
    {
     "data": {
      "application/vnd.plotly.v1+json": {
       "config": {
        "linkText": "Export to plot.ly",
        "plotlyServerURL": "https://plot.ly",
        "showLink": true
       },
       "data": [
        {
         "line": {
          "color": "rgba(255, 153, 51, 1.0)",
          "dash": "solid",
          "shape": "linear",
          "width": 1.3
         },
         "mode": "lines",
         "name": "Egg",
         "text": "",
         "type": "scatter",
         "x": [
          0.25,
          0.375,
          0.45,
          0.5,
          0.55,
          0.6,
          0.65,
          0.7,
          0.75,
          1,
          2
         ],
         "y": [
          2.352941137881212,
          2.3529411125835913,
          0.8990940507466499,
          0.899093957300926,
          0.8990940404179155,
          0.8990940397779349,
          3.19626680181663e-09,
          3.631124489951501e-09,
          1.1063168500921674e-10,
          2.86423953250566e-08,
          5.158482750276499e-09
         ]
        },
        {
         "line": {
          "color": "rgba(55, 128, 191, 1.0)",
          "dash": "solid",
          "shape": "linear",
          "width": 1.3
         },
         "mode": "lines",
         "name": "Purple Cabbage ",
         "text": "",
         "type": "scatter",
         "x": [
          0.25,
          0.375,
          0.45,
          0.5,
          0.55,
          0.6,
          0.65,
          0.7,
          0.75,
          1,
          2
         ],
         "y": [
          0.23365975609441306,
          0.23365978071850774,
          0.25630413611995856,
          0.2563041354425244,
          0.2563041490467942,
          0.2563041491073397,
          0.2484358244872536,
          0.24843583251341578,
          0.2484358188644531,
          0.24843616802358837,
          0.24843597856159266
         ]
        },
        {
         "line": {
          "color": "rgba(50, 171, 96, 1.0)",
          "dash": "solid",
          "shape": "linear",
          "width": 1.3
         },
         "mode": "lines",
         "name": "Spinach ",
         "text": "",
         "type": "scatter",
         "x": [
          0.25,
          0.375,
          0.45,
          0.5,
          0.55,
          0.6,
          0.65,
          0.7,
          0.75,
          1,
          2
         ],
         "y": [
          6.294019630509624,
          6.294019615535347,
          6.162312610333944,
          6.162312617867369,
          6.162312601404013,
          6.162312601777468,
          6.20807731217208,
          6.208077296364534,
          6.2080773797687705,
          6.208075036685833,
          6.208076249567966
         ]
        },
        {
         "line": {
          "color": "rgba(128, 0, 128, 1.0)",
          "dash": "solid",
          "shape": "linear",
          "width": 1.3
         },
         "mode": "lines",
         "name": "Jasmine Rice",
         "text": "",
         "type": "scatter",
         "x": [
          0.25,
          0.375,
          0.45,
          0.5,
          0.55,
          0.6,
          0.65,
          0.7,
          0.75,
          1,
          2
         ],
         "y": [
          0.004645953828275547,
          0.0046459393065280226,
          1.6574462758816717e-09,
          6.101603675940348e-08,
          5.046707309921228e-12,
          6.15496250895586e-11,
          5.274467655665229e-10,
          2.3477435410621395e-10,
          5.5523759325329815e-12,
          2.5617086094637463e-09,
          2.936326623323525e-09
         ]
        },
        {
         "line": {
          "color": "rgba(219, 64, 82, 1.0)",
          "dash": "solid",
          "shape": "linear",
          "width": 1.3
         },
         "mode": "lines",
         "name": "Pork",
         "text": "",
         "type": "scatter",
         "x": [
          0.25,
          0.375,
          0.45,
          0.5,
          0.55,
          0.6,
          0.65,
          0.7,
          0.75,
          1,
          2
         ],
         "y": [
          5.069316679536577e-08,
          8.455113003094926e-08,
          2.2133194811398393,
          2.2133196023069415,
          2.2133195200843025,
          2.213319521339541,
          3.582089537989037,
          3.5820895433792916,
          3.5820895519604545,
          3.582089328850952,
          3.582089412317546
         ]
        },
        {
         "line": {
          "color": "rgba(0, 128, 128, 1.0)",
          "dash": "solid",
          "shape": "linear",
          "width": 1.3
         },
         "mode": "lines",
         "name": "Sesame ",
         "text": "",
         "type": "scatter",
         "x": [
          0.25,
          0.375,
          0.45,
          0.5,
          0.55,
          0.6,
          0.65,
          0.7,
          0.75,
          1,
          2
         ],
         "y": [
          1.585155820175564e-09,
          4.068074706351689e-10,
          1.3285068192379531e-09,
          2.4591145822001775e-09,
          4.202030269779454e-11,
          3.226277545143847e-11,
          0.04615477143367705,
          0.04615476960923504,
          0.04615475703865899,
          0.046154974718628804,
          0.046154862459116486
         ]
        },
        {
         "line": {
          "color": "rgba(255, 255, 51, 1.0)",
          "dash": "solid",
          "shape": "linear",
          "width": 1.3
         },
         "mode": "lines",
         "name": "Brown Sugar",
         "text": "",
         "type": "scatter",
         "x": [
          0.25,
          0.375,
          0.45,
          0.5,
          0.55,
          0.6,
          0.65,
          0.7,
          0.75,
          1,
          2
         ],
         "y": [
          1.0457248983613854e-08,
          2.201530182177674e-09,
          4.5454700506086466e-09,
          2.3105855471714875e-09,
          2.553479610626978e-10,
          4.340151316478764e-10,
          0.031960586631758416,
          0.03196064195606839,
          0.031960670724892996,
          0.031960429178718296,
          0.031960511383224255
         ]
        },
        {
         "line": {
          "color": "rgba(128, 128, 0, 1.0)",
          "dash": "solid",
          "shape": "linear",
          "width": 1.3
         },
         "mode": "lines",
         "name": "Flour",
         "text": "",
         "type": "scatter",
         "x": [
          0.25,
          0.375,
          0.45,
          0.5,
          0.55,
          0.6,
          0.65,
          0.7,
          0.75,
          1,
          2
         ],
         "y": [
          3.5523331393716178,
          3.5523331799049007,
          2.310570064969992,
          2.310569942002602,
          2.3105700654492076,
          2.3105700644549882,
          1.3508372014958205,
          1.3508371067493044,
          1.3508370311067694,
          1.3508402341305596,
          1.3508387093126195
         ]
        }
       ],
       "layout": {
        "legend": {
         "bgcolor": "#F5F6F9",
         "font": {
          "color": "#4D5663"
         }
        },
        "paper_bgcolor": "#F5F6F9",
        "plot_bgcolor": "#F5F6F9",
        "template": {
         "data": {
          "bar": [
           {
            "error_x": {
             "color": "#2a3f5f"
            },
            "error_y": {
             "color": "#2a3f5f"
            },
            "marker": {
             "line": {
              "color": "#E5ECF6",
              "width": 0.5
             },
             "pattern": {
              "fillmode": "overlay",
              "size": 10,
              "solidity": 0.2
             }
            },
            "type": "bar"
           }
          ],
          "barpolar": [
           {
            "marker": {
             "line": {
              "color": "#E5ECF6",
              "width": 0.5
             },
             "pattern": {
              "fillmode": "overlay",
              "size": 10,
              "solidity": 0.2
             }
            },
            "type": "barpolar"
           }
          ],
          "carpet": [
           {
            "aaxis": {
             "endlinecolor": "#2a3f5f",
             "gridcolor": "white",
             "linecolor": "white",
             "minorgridcolor": "white",
             "startlinecolor": "#2a3f5f"
            },
            "baxis": {
             "endlinecolor": "#2a3f5f",
             "gridcolor": "white",
             "linecolor": "white",
             "minorgridcolor": "white",
             "startlinecolor": "#2a3f5f"
            },
            "type": "carpet"
           }
          ],
          "choropleth": [
           {
            "colorbar": {
             "outlinewidth": 0,
             "ticks": ""
            },
            "type": "choropleth"
           }
          ],
          "contour": [
           {
            "colorbar": {
             "outlinewidth": 0,
             "ticks": ""
            },
            "colorscale": [
             [
              0,
              "#0d0887"
             ],
             [
              0.1111111111111111,
              "#46039f"
             ],
             [
              0.2222222222222222,
              "#7201a8"
             ],
             [
              0.3333333333333333,
              "#9c179e"
             ],
             [
              0.4444444444444444,
              "#bd3786"
             ],
             [
              0.5555555555555556,
              "#d8576b"
             ],
             [
              0.6666666666666666,
              "#ed7953"
             ],
             [
              0.7777777777777778,
              "#fb9f3a"
             ],
             [
              0.8888888888888888,
              "#fdca26"
             ],
             [
              1,
              "#f0f921"
             ]
            ],
            "type": "contour"
           }
          ],
          "contourcarpet": [
           {
            "colorbar": {
             "outlinewidth": 0,
             "ticks": ""
            },
            "type": "contourcarpet"
           }
          ],
          "heatmap": [
           {
            "colorbar": {
             "outlinewidth": 0,
             "ticks": ""
            },
            "colorscale": [
             [
              0,
              "#0d0887"
             ],
             [
              0.1111111111111111,
              "#46039f"
             ],
             [
              0.2222222222222222,
              "#7201a8"
             ],
             [
              0.3333333333333333,
              "#9c179e"
             ],
             [
              0.4444444444444444,
              "#bd3786"
             ],
             [
              0.5555555555555556,
              "#d8576b"
             ],
             [
              0.6666666666666666,
              "#ed7953"
             ],
             [
              0.7777777777777778,
              "#fb9f3a"
             ],
             [
              0.8888888888888888,
              "#fdca26"
             ],
             [
              1,
              "#f0f921"
             ]
            ],
            "type": "heatmap"
           }
          ],
          "heatmapgl": [
           {
            "colorbar": {
             "outlinewidth": 0,
             "ticks": ""
            },
            "colorscale": [
             [
              0,
              "#0d0887"
             ],
             [
              0.1111111111111111,
              "#46039f"
             ],
             [
              0.2222222222222222,
              "#7201a8"
             ],
             [
              0.3333333333333333,
              "#9c179e"
             ],
             [
              0.4444444444444444,
              "#bd3786"
             ],
             [
              0.5555555555555556,
              "#d8576b"
             ],
             [
              0.6666666666666666,
              "#ed7953"
             ],
             [
              0.7777777777777778,
              "#fb9f3a"
             ],
             [
              0.8888888888888888,
              "#fdca26"
             ],
             [
              1,
              "#f0f921"
             ]
            ],
            "type": "heatmapgl"
           }
          ],
          "histogram": [
           {
            "marker": {
             "pattern": {
              "fillmode": "overlay",
              "size": 10,
              "solidity": 0.2
             }
            },
            "type": "histogram"
           }
          ],
          "histogram2d": [
           {
            "colorbar": {
             "outlinewidth": 0,
             "ticks": ""
            },
            "colorscale": [
             [
              0,
              "#0d0887"
             ],
             [
              0.1111111111111111,
              "#46039f"
             ],
             [
              0.2222222222222222,
              "#7201a8"
             ],
             [
              0.3333333333333333,
              "#9c179e"
             ],
             [
              0.4444444444444444,
              "#bd3786"
             ],
             [
              0.5555555555555556,
              "#d8576b"
             ],
             [
              0.6666666666666666,
              "#ed7953"
             ],
             [
              0.7777777777777778,
              "#fb9f3a"
             ],
             [
              0.8888888888888888,
              "#fdca26"
             ],
             [
              1,
              "#f0f921"
             ]
            ],
            "type": "histogram2d"
           }
          ],
          "histogram2dcontour": [
           {
            "colorbar": {
             "outlinewidth": 0,
             "ticks": ""
            },
            "colorscale": [
             [
              0,
              "#0d0887"
             ],
             [
              0.1111111111111111,
              "#46039f"
             ],
             [
              0.2222222222222222,
              "#7201a8"
             ],
             [
              0.3333333333333333,
              "#9c179e"
             ],
             [
              0.4444444444444444,
              "#bd3786"
             ],
             [
              0.5555555555555556,
              "#d8576b"
             ],
             [
              0.6666666666666666,
              "#ed7953"
             ],
             [
              0.7777777777777778,
              "#fb9f3a"
             ],
             [
              0.8888888888888888,
              "#fdca26"
             ],
             [
              1,
              "#f0f921"
             ]
            ],
            "type": "histogram2dcontour"
           }
          ],
          "mesh3d": [
           {
            "colorbar": {
             "outlinewidth": 0,
             "ticks": ""
            },
            "type": "mesh3d"
           }
          ],
          "parcoords": [
           {
            "line": {
             "colorbar": {
              "outlinewidth": 0,
              "ticks": ""
             }
            },
            "type": "parcoords"
           }
          ],
          "pie": [
           {
            "automargin": true,
            "type": "pie"
           }
          ],
          "scatter": [
           {
            "marker": {
             "colorbar": {
              "outlinewidth": 0,
              "ticks": ""
             }
            },
            "type": "scatter"
           }
          ],
          "scatter3d": [
           {
            "line": {
             "colorbar": {
              "outlinewidth": 0,
              "ticks": ""
             }
            },
            "marker": {
             "colorbar": {
              "outlinewidth": 0,
              "ticks": ""
             }
            },
            "type": "scatter3d"
           }
          ],
          "scattercarpet": [
           {
            "marker": {
             "colorbar": {
              "outlinewidth": 0,
              "ticks": ""
             }
            },
            "type": "scattercarpet"
           }
          ],
          "scattergeo": [
           {
            "marker": {
             "colorbar": {
              "outlinewidth": 0,
              "ticks": ""
             }
            },
            "type": "scattergeo"
           }
          ],
          "scattergl": [
           {
            "marker": {
             "colorbar": {
              "outlinewidth": 0,
              "ticks": ""
             }
            },
            "type": "scattergl"
           }
          ],
          "scattermapbox": [
           {
            "marker": {
             "colorbar": {
              "outlinewidth": 0,
              "ticks": ""
             }
            },
            "type": "scattermapbox"
           }
          ],
          "scatterpolar": [
           {
            "marker": {
             "colorbar": {
              "outlinewidth": 0,
              "ticks": ""
             }
            },
            "type": "scatterpolar"
           }
          ],
          "scatterpolargl": [
           {
            "marker": {
             "colorbar": {
              "outlinewidth": 0,
              "ticks": ""
             }
            },
            "type": "scatterpolargl"
           }
          ],
          "scatterternary": [
           {
            "marker": {
             "colorbar": {
              "outlinewidth": 0,
              "ticks": ""
             }
            },
            "type": "scatterternary"
           }
          ],
          "surface": [
           {
            "colorbar": {
             "outlinewidth": 0,
             "ticks": ""
            },
            "colorscale": [
             [
              0,
              "#0d0887"
             ],
             [
              0.1111111111111111,
              "#46039f"
             ],
             [
              0.2222222222222222,
              "#7201a8"
             ],
             [
              0.3333333333333333,
              "#9c179e"
             ],
             [
              0.4444444444444444,
              "#bd3786"
             ],
             [
              0.5555555555555556,
              "#d8576b"
             ],
             [
              0.6666666666666666,
              "#ed7953"
             ],
             [
              0.7777777777777778,
              "#fb9f3a"
             ],
             [
              0.8888888888888888,
              "#fdca26"
             ],
             [
              1,
              "#f0f921"
             ]
            ],
            "type": "surface"
           }
          ],
          "table": [
           {
            "cells": {
             "fill": {
              "color": "#EBF0F8"
             },
             "line": {
              "color": "white"
             }
            },
            "header": {
             "fill": {
              "color": "#C8D4E3"
             },
             "line": {
              "color": "white"
             }
            },
            "type": "table"
           }
          ]
         },
         "layout": {
          "annotationdefaults": {
           "arrowcolor": "#2a3f5f",
           "arrowhead": 0,
           "arrowwidth": 1
          },
          "autotypenumbers": "strict",
          "coloraxis": {
           "colorbar": {
            "outlinewidth": 0,
            "ticks": ""
           }
          },
          "colorscale": {
           "diverging": [
            [
             0,
             "#8e0152"
            ],
            [
             0.1,
             "#c51b7d"
            ],
            [
             0.2,
             "#de77ae"
            ],
            [
             0.3,
             "#f1b6da"
            ],
            [
             0.4,
             "#fde0ef"
            ],
            [
             0.5,
             "#f7f7f7"
            ],
            [
             0.6,
             "#e6f5d0"
            ],
            [
             0.7,
             "#b8e186"
            ],
            [
             0.8,
             "#7fbc41"
            ],
            [
             0.9,
             "#4d9221"
            ],
            [
             1,
             "#276419"
            ]
           ],
           "sequential": [
            [
             0,
             "#0d0887"
            ],
            [
             0.1111111111111111,
             "#46039f"
            ],
            [
             0.2222222222222222,
             "#7201a8"
            ],
            [
             0.3333333333333333,
             "#9c179e"
            ],
            [
             0.4444444444444444,
             "#bd3786"
            ],
            [
             0.5555555555555556,
             "#d8576b"
            ],
            [
             0.6666666666666666,
             "#ed7953"
            ],
            [
             0.7777777777777778,
             "#fb9f3a"
            ],
            [
             0.8888888888888888,
             "#fdca26"
            ],
            [
             1,
             "#f0f921"
            ]
           ],
           "sequentialminus": [
            [
             0,
             "#0d0887"
            ],
            [
             0.1111111111111111,
             "#46039f"
            ],
            [
             0.2222222222222222,
             "#7201a8"
            ],
            [
             0.3333333333333333,
             "#9c179e"
            ],
            [
             0.4444444444444444,
             "#bd3786"
            ],
            [
             0.5555555555555556,
             "#d8576b"
            ],
            [
             0.6666666666666666,
             "#ed7953"
            ],
            [
             0.7777777777777778,
             "#fb9f3a"
            ],
            [
             0.8888888888888888,
             "#fdca26"
            ],
            [
             1,
             "#f0f921"
            ]
           ]
          },
          "colorway": [
           "#636efa",
           "#EF553B",
           "#00cc96",
           "#ab63fa",
           "#FFA15A",
           "#19d3f3",
           "#FF6692",
           "#B6E880",
           "#FF97FF",
           "#FECB52"
          ],
          "font": {
           "color": "#2a3f5f"
          },
          "geo": {
           "bgcolor": "white",
           "lakecolor": "white",
           "landcolor": "#E5ECF6",
           "showlakes": true,
           "showland": true,
           "subunitcolor": "white"
          },
          "hoverlabel": {
           "align": "left"
          },
          "hovermode": "closest",
          "mapbox": {
           "style": "light"
          },
          "paper_bgcolor": "white",
          "plot_bgcolor": "#E5ECF6",
          "polar": {
           "angularaxis": {
            "gridcolor": "white",
            "linecolor": "white",
            "ticks": ""
           },
           "bgcolor": "#E5ECF6",
           "radialaxis": {
            "gridcolor": "white",
            "linecolor": "white",
            "ticks": ""
           }
          },
          "scene": {
           "xaxis": {
            "backgroundcolor": "#E5ECF6",
            "gridcolor": "white",
            "gridwidth": 2,
            "linecolor": "white",
            "showbackground": true,
            "ticks": "",
            "zerolinecolor": "white"
           },
           "yaxis": {
            "backgroundcolor": "#E5ECF6",
            "gridcolor": "white",
            "gridwidth": 2,
            "linecolor": "white",
            "showbackground": true,
            "ticks": "",
            "zerolinecolor": "white"
           },
           "zaxis": {
            "backgroundcolor": "#E5ECF6",
            "gridcolor": "white",
            "gridwidth": 2,
            "linecolor": "white",
            "showbackground": true,
            "ticks": "",
            "zerolinecolor": "white"
           }
          },
          "shapedefaults": {
           "line": {
            "color": "#2a3f5f"
           }
          },
          "ternary": {
           "aaxis": {
            "gridcolor": "white",
            "linecolor": "white",
            "ticks": ""
           },
           "baxis": {
            "gridcolor": "white",
            "linecolor": "white",
            "ticks": ""
           },
           "bgcolor": "#E5ECF6",
           "caxis": {
            "gridcolor": "white",
            "linecolor": "white",
            "ticks": ""
           }
          },
          "title": {
           "x": 0.05
          },
          "xaxis": {
           "automargin": true,
           "gridcolor": "white",
           "linecolor": "white",
           "ticks": "",
           "title": {
            "standoff": 15
           },
           "zerolinecolor": "white",
           "zerolinewidth": 2
          },
          "yaxis": {
           "automargin": true,
           "gridcolor": "white",
           "linecolor": "white",
           "ticks": "",
           "title": {
            "standoff": 15
           },
           "zerolinecolor": "white",
           "zerolinewidth": 2
          }
         }
        },
        "title": {
         "font": {
          "color": "#4D5663"
         },
         "text": "Effects of Price Changes on Subsistence Diet Composition Based on Egg Price for F 19-30"
        },
        "xaxis": {
         "gridcolor": "#E1E5ED",
         "showgrid": true,
         "tickfont": {
          "color": "#4D5663"
         },
         "title": {
          "font": {
           "color": "#4D5663"
          },
          "text": "Egg Price"
         },
         "zerolinecolor": "#E1E5ED"
        },
        "yaxis": {
         "gridcolor": "#E1E5ED",
         "showgrid": true,
         "tickfont": {
          "color": "#4D5663"
         },
         "title": {
          "font": {
           "color": "#4D5663"
          },
          "text": "Hectograms"
         },
         "zerolinecolor": "#E1E5ED"
        }
       }
      },
      "text/html": [
       "<div>                            <div id=\"3d7bef27-e7bc-404c-b04a-9dee75c54ce5\" class=\"plotly-graph-div\" style=\"height:525px; width:100%;\"></div>            <script type=\"text/javascript\">                require([\"plotly\"], function(Plotly) {                    window.PLOTLYENV=window.PLOTLYENV || {};\n",
       "                    window.PLOTLYENV.BASE_URL='https://plot.ly';                                    if (document.getElementById(\"3d7bef27-e7bc-404c-b04a-9dee75c54ce5\")) {                    Plotly.newPlot(                        \"3d7bef27-e7bc-404c-b04a-9dee75c54ce5\",                        [{\"line\":{\"color\":\"rgba(255, 153, 51, 1.0)\",\"dash\":\"solid\",\"shape\":\"linear\",\"width\":1.3},\"mode\":\"lines\",\"name\":\"Egg\",\"text\":\"\",\"type\":\"scatter\",\"x\":[0.25,0.375,0.45,0.5,0.55,0.6,0.65,0.7,0.75,1.0,2.0],\"y\":[2.352941137881212,2.3529411125835913,0.8990940507466499,0.899093957300926,0.8990940404179155,0.8990940397779349,3.19626680181663e-09,3.631124489951501e-09,1.1063168500921674e-10,2.86423953250566e-08,5.158482750276499e-09]},{\"line\":{\"color\":\"rgba(55, 128, 191, 1.0)\",\"dash\":\"solid\",\"shape\":\"linear\",\"width\":1.3},\"mode\":\"lines\",\"name\":\"Purple Cabbage \",\"text\":\"\",\"type\":\"scatter\",\"x\":[0.25,0.375,0.45,0.5,0.55,0.6,0.65,0.7,0.75,1.0,2.0],\"y\":[0.23365975609441306,0.23365978071850774,0.25630413611995856,0.2563041354425244,0.2563041490467942,0.2563041491073397,0.2484358244872536,0.24843583251341578,0.2484358188644531,0.24843616802358837,0.24843597856159266]},{\"line\":{\"color\":\"rgba(50, 171, 96, 1.0)\",\"dash\":\"solid\",\"shape\":\"linear\",\"width\":1.3},\"mode\":\"lines\",\"name\":\"Spinach \",\"text\":\"\",\"type\":\"scatter\",\"x\":[0.25,0.375,0.45,0.5,0.55,0.6,0.65,0.7,0.75,1.0,2.0],\"y\":[6.294019630509624,6.294019615535347,6.162312610333944,6.162312617867369,6.162312601404013,6.162312601777468,6.20807731217208,6.208077296364534,6.2080773797687705,6.208075036685833,6.208076249567966]},{\"line\":{\"color\":\"rgba(128, 0, 128, 1.0)\",\"dash\":\"solid\",\"shape\":\"linear\",\"width\":1.3},\"mode\":\"lines\",\"name\":\"Jasmine Rice\",\"text\":\"\",\"type\":\"scatter\",\"x\":[0.25,0.375,0.45,0.5,0.55,0.6,0.65,0.7,0.75,1.0,2.0],\"y\":[0.004645953828275547,0.0046459393065280226,1.6574462758816717e-09,6.101603675940348e-08,5.046707309921228e-12,6.15496250895586e-11,5.274467655665229e-10,2.3477435410621395e-10,5.5523759325329815e-12,2.5617086094637463e-09,2.936326623323525e-09]},{\"line\":{\"color\":\"rgba(219, 64, 82, 1.0)\",\"dash\":\"solid\",\"shape\":\"linear\",\"width\":1.3},\"mode\":\"lines\",\"name\":\"Pork\",\"text\":\"\",\"type\":\"scatter\",\"x\":[0.25,0.375,0.45,0.5,0.55,0.6,0.65,0.7,0.75,1.0,2.0],\"y\":[5.069316679536577e-08,8.455113003094926e-08,2.2133194811398393,2.2133196023069415,2.2133195200843025,2.213319521339541,3.582089537989037,3.5820895433792916,3.5820895519604545,3.582089328850952,3.582089412317546]},{\"line\":{\"color\":\"rgba(0, 128, 128, 1.0)\",\"dash\":\"solid\",\"shape\":\"linear\",\"width\":1.3},\"mode\":\"lines\",\"name\":\"Sesame \",\"text\":\"\",\"type\":\"scatter\",\"x\":[0.25,0.375,0.45,0.5,0.55,0.6,0.65,0.7,0.75,1.0,2.0],\"y\":[1.585155820175564e-09,4.068074706351689e-10,1.3285068192379531e-09,2.4591145822001775e-09,4.202030269779454e-11,3.226277545143847e-11,0.04615477143367705,0.04615476960923504,0.04615475703865899,0.046154974718628804,0.046154862459116486]},{\"line\":{\"color\":\"rgba(255, 255, 51, 1.0)\",\"dash\":\"solid\",\"shape\":\"linear\",\"width\":1.3},\"mode\":\"lines\",\"name\":\"Brown Sugar\",\"text\":\"\",\"type\":\"scatter\",\"x\":[0.25,0.375,0.45,0.5,0.55,0.6,0.65,0.7,0.75,1.0,2.0],\"y\":[1.0457248983613854e-08,2.201530182177674e-09,4.5454700506086466e-09,2.3105855471714875e-09,2.553479610626978e-10,4.340151316478764e-10,0.031960586631758416,0.03196064195606839,0.031960670724892996,0.031960429178718296,0.031960511383224255]},{\"line\":{\"color\":\"rgba(128, 128, 0, 1.0)\",\"dash\":\"solid\",\"shape\":\"linear\",\"width\":1.3},\"mode\":\"lines\",\"name\":\"Flour\",\"text\":\"\",\"type\":\"scatter\",\"x\":[0.25,0.375,0.45,0.5,0.55,0.6,0.65,0.7,0.75,1.0,2.0],\"y\":[3.5523331393716178,3.5523331799049007,2.310570064969992,2.310569942002602,2.3105700654492076,2.3105700644549882,1.3508372014958205,1.3508371067493044,1.3508370311067694,1.3508402341305596,1.3508387093126195]}],                        {\"legend\":{\"bgcolor\":\"#F5F6F9\",\"font\":{\"color\":\"#4D5663\"}},\"paper_bgcolor\":\"#F5F6F9\",\"plot_bgcolor\":\"#F5F6F9\",\"template\":{\"data\":{\"bar\":[{\"error_x\":{\"color\":\"#2a3f5f\"},\"error_y\":{\"color\":\"#2a3f5f\"},\"marker\":{\"line\":{\"color\":\"#E5ECF6\",\"width\":0.5},\"pattern\":{\"fillmode\":\"overlay\",\"size\":10,\"solidity\":0.2}},\"type\":\"bar\"}],\"barpolar\":[{\"marker\":{\"line\":{\"color\":\"#E5ECF6\",\"width\":0.5},\"pattern\":{\"fillmode\":\"overlay\",\"size\":10,\"solidity\":0.2}},\"type\":\"barpolar\"}],\"carpet\":[{\"aaxis\":{\"endlinecolor\":\"#2a3f5f\",\"gridcolor\":\"white\",\"linecolor\":\"white\",\"minorgridcolor\":\"white\",\"startlinecolor\":\"#2a3f5f\"},\"baxis\":{\"endlinecolor\":\"#2a3f5f\",\"gridcolor\":\"white\",\"linecolor\":\"white\",\"minorgridcolor\":\"white\",\"startlinecolor\":\"#2a3f5f\"},\"type\":\"carpet\"}],\"choropleth\":[{\"colorbar\":{\"outlinewidth\":0,\"ticks\":\"\"},\"type\":\"choropleth\"}],\"contour\":[{\"colorbar\":{\"outlinewidth\":0,\"ticks\":\"\"},\"colorscale\":[[0.0,\"#0d0887\"],[0.1111111111111111,\"#46039f\"],[0.2222222222222222,\"#7201a8\"],[0.3333333333333333,\"#9c179e\"],[0.4444444444444444,\"#bd3786\"],[0.5555555555555556,\"#d8576b\"],[0.6666666666666666,\"#ed7953\"],[0.7777777777777778,\"#fb9f3a\"],[0.8888888888888888,\"#fdca26\"],[1.0,\"#f0f921\"]],\"type\":\"contour\"}],\"contourcarpet\":[{\"colorbar\":{\"outlinewidth\":0,\"ticks\":\"\"},\"type\":\"contourcarpet\"}],\"heatmap\":[{\"colorbar\":{\"outlinewidth\":0,\"ticks\":\"\"},\"colorscale\":[[0.0,\"#0d0887\"],[0.1111111111111111,\"#46039f\"],[0.2222222222222222,\"#7201a8\"],[0.3333333333333333,\"#9c179e\"],[0.4444444444444444,\"#bd3786\"],[0.5555555555555556,\"#d8576b\"],[0.6666666666666666,\"#ed7953\"],[0.7777777777777778,\"#fb9f3a\"],[0.8888888888888888,\"#fdca26\"],[1.0,\"#f0f921\"]],\"type\":\"heatmap\"}],\"heatmapgl\":[{\"colorbar\":{\"outlinewidth\":0,\"ticks\":\"\"},\"colorscale\":[[0.0,\"#0d0887\"],[0.1111111111111111,\"#46039f\"],[0.2222222222222222,\"#7201a8\"],[0.3333333333333333,\"#9c179e\"],[0.4444444444444444,\"#bd3786\"],[0.5555555555555556,\"#d8576b\"],[0.6666666666666666,\"#ed7953\"],[0.7777777777777778,\"#fb9f3a\"],[0.8888888888888888,\"#fdca26\"],[1.0,\"#f0f921\"]],\"type\":\"heatmapgl\"}],\"histogram\":[{\"marker\":{\"pattern\":{\"fillmode\":\"overlay\",\"size\":10,\"solidity\":0.2}},\"type\":\"histogram\"}],\"histogram2d\":[{\"colorbar\":{\"outlinewidth\":0,\"ticks\":\"\"},\"colorscale\":[[0.0,\"#0d0887\"],[0.1111111111111111,\"#46039f\"],[0.2222222222222222,\"#7201a8\"],[0.3333333333333333,\"#9c179e\"],[0.4444444444444444,\"#bd3786\"],[0.5555555555555556,\"#d8576b\"],[0.6666666666666666,\"#ed7953\"],[0.7777777777777778,\"#fb9f3a\"],[0.8888888888888888,\"#fdca26\"],[1.0,\"#f0f921\"]],\"type\":\"histogram2d\"}],\"histogram2dcontour\":[{\"colorbar\":{\"outlinewidth\":0,\"ticks\":\"\"},\"colorscale\":[[0.0,\"#0d0887\"],[0.1111111111111111,\"#46039f\"],[0.2222222222222222,\"#7201a8\"],[0.3333333333333333,\"#9c179e\"],[0.4444444444444444,\"#bd3786\"],[0.5555555555555556,\"#d8576b\"],[0.6666666666666666,\"#ed7953\"],[0.7777777777777778,\"#fb9f3a\"],[0.8888888888888888,\"#fdca26\"],[1.0,\"#f0f921\"]],\"type\":\"histogram2dcontour\"}],\"mesh3d\":[{\"colorbar\":{\"outlinewidth\":0,\"ticks\":\"\"},\"type\":\"mesh3d\"}],\"parcoords\":[{\"line\":{\"colorbar\":{\"outlinewidth\":0,\"ticks\":\"\"}},\"type\":\"parcoords\"}],\"pie\":[{\"automargin\":true,\"type\":\"pie\"}],\"scatter\":[{\"marker\":{\"colorbar\":{\"outlinewidth\":0,\"ticks\":\"\"}},\"type\":\"scatter\"}],\"scatter3d\":[{\"line\":{\"colorbar\":{\"outlinewidth\":0,\"ticks\":\"\"}},\"marker\":{\"colorbar\":{\"outlinewidth\":0,\"ticks\":\"\"}},\"type\":\"scatter3d\"}],\"scattercarpet\":[{\"marker\":{\"colorbar\":{\"outlinewidth\":0,\"ticks\":\"\"}},\"type\":\"scattercarpet\"}],\"scattergeo\":[{\"marker\":{\"colorbar\":{\"outlinewidth\":0,\"ticks\":\"\"}},\"type\":\"scattergeo\"}],\"scattergl\":[{\"marker\":{\"colorbar\":{\"outlinewidth\":0,\"ticks\":\"\"}},\"type\":\"scattergl\"}],\"scattermapbox\":[{\"marker\":{\"colorbar\":{\"outlinewidth\":0,\"ticks\":\"\"}},\"type\":\"scattermapbox\"}],\"scatterpolar\":[{\"marker\":{\"colorbar\":{\"outlinewidth\":0,\"ticks\":\"\"}},\"type\":\"scatterpolar\"}],\"scatterpolargl\":[{\"marker\":{\"colorbar\":{\"outlinewidth\":0,\"ticks\":\"\"}},\"type\":\"scatterpolargl\"}],\"scatterternary\":[{\"marker\":{\"colorbar\":{\"outlinewidth\":0,\"ticks\":\"\"}},\"type\":\"scatterternary\"}],\"surface\":[{\"colorbar\":{\"outlinewidth\":0,\"ticks\":\"\"},\"colorscale\":[[0.0,\"#0d0887\"],[0.1111111111111111,\"#46039f\"],[0.2222222222222222,\"#7201a8\"],[0.3333333333333333,\"#9c179e\"],[0.4444444444444444,\"#bd3786\"],[0.5555555555555556,\"#d8576b\"],[0.6666666666666666,\"#ed7953\"],[0.7777777777777778,\"#fb9f3a\"],[0.8888888888888888,\"#fdca26\"],[1.0,\"#f0f921\"]],\"type\":\"surface\"}],\"table\":[{\"cells\":{\"fill\":{\"color\":\"#EBF0F8\"},\"line\":{\"color\":\"white\"}},\"header\":{\"fill\":{\"color\":\"#C8D4E3\"},\"line\":{\"color\":\"white\"}},\"type\":\"table\"}]},\"layout\":{\"annotationdefaults\":{\"arrowcolor\":\"#2a3f5f\",\"arrowhead\":0,\"arrowwidth\":1},\"autotypenumbers\":\"strict\",\"coloraxis\":{\"colorbar\":{\"outlinewidth\":0,\"ticks\":\"\"}},\"colorscale\":{\"diverging\":[[0,\"#8e0152\"],[0.1,\"#c51b7d\"],[0.2,\"#de77ae\"],[0.3,\"#f1b6da\"],[0.4,\"#fde0ef\"],[0.5,\"#f7f7f7\"],[0.6,\"#e6f5d0\"],[0.7,\"#b8e186\"],[0.8,\"#7fbc41\"],[0.9,\"#4d9221\"],[1,\"#276419\"]],\"sequential\":[[0.0,\"#0d0887\"],[0.1111111111111111,\"#46039f\"],[0.2222222222222222,\"#7201a8\"],[0.3333333333333333,\"#9c179e\"],[0.4444444444444444,\"#bd3786\"],[0.5555555555555556,\"#d8576b\"],[0.6666666666666666,\"#ed7953\"],[0.7777777777777778,\"#fb9f3a\"],[0.8888888888888888,\"#fdca26\"],[1.0,\"#f0f921\"]],\"sequentialminus\":[[0.0,\"#0d0887\"],[0.1111111111111111,\"#46039f\"],[0.2222222222222222,\"#7201a8\"],[0.3333333333333333,\"#9c179e\"],[0.4444444444444444,\"#bd3786\"],[0.5555555555555556,\"#d8576b\"],[0.6666666666666666,\"#ed7953\"],[0.7777777777777778,\"#fb9f3a\"],[0.8888888888888888,\"#fdca26\"],[1.0,\"#f0f921\"]]},\"colorway\":[\"#636efa\",\"#EF553B\",\"#00cc96\",\"#ab63fa\",\"#FFA15A\",\"#19d3f3\",\"#FF6692\",\"#B6E880\",\"#FF97FF\",\"#FECB52\"],\"font\":{\"color\":\"#2a3f5f\"},\"geo\":{\"bgcolor\":\"white\",\"lakecolor\":\"white\",\"landcolor\":\"#E5ECF6\",\"showlakes\":true,\"showland\":true,\"subunitcolor\":\"white\"},\"hoverlabel\":{\"align\":\"left\"},\"hovermode\":\"closest\",\"mapbox\":{\"style\":\"light\"},\"paper_bgcolor\":\"white\",\"plot_bgcolor\":\"#E5ECF6\",\"polar\":{\"angularaxis\":{\"gridcolor\":\"white\",\"linecolor\":\"white\",\"ticks\":\"\"},\"bgcolor\":\"#E5ECF6\",\"radialaxis\":{\"gridcolor\":\"white\",\"linecolor\":\"white\",\"ticks\":\"\"}},\"scene\":{\"xaxis\":{\"backgroundcolor\":\"#E5ECF6\",\"gridcolor\":\"white\",\"gridwidth\":2,\"linecolor\":\"white\",\"showbackground\":true,\"ticks\":\"\",\"zerolinecolor\":\"white\"},\"yaxis\":{\"backgroundcolor\":\"#E5ECF6\",\"gridcolor\":\"white\",\"gridwidth\":2,\"linecolor\":\"white\",\"showbackground\":true,\"ticks\":\"\",\"zerolinecolor\":\"white\"},\"zaxis\":{\"backgroundcolor\":\"#E5ECF6\",\"gridcolor\":\"white\",\"gridwidth\":2,\"linecolor\":\"white\",\"showbackground\":true,\"ticks\":\"\",\"zerolinecolor\":\"white\"}},\"shapedefaults\":{\"line\":{\"color\":\"#2a3f5f\"}},\"ternary\":{\"aaxis\":{\"gridcolor\":\"white\",\"linecolor\":\"white\",\"ticks\":\"\"},\"baxis\":{\"gridcolor\":\"white\",\"linecolor\":\"white\",\"ticks\":\"\"},\"bgcolor\":\"#E5ECF6\",\"caxis\":{\"gridcolor\":\"white\",\"linecolor\":\"white\",\"ticks\":\"\"}},\"title\":{\"x\":0.05},\"xaxis\":{\"automargin\":true,\"gridcolor\":\"white\",\"linecolor\":\"white\",\"ticks\":\"\",\"title\":{\"standoff\":15},\"zerolinecolor\":\"white\",\"zerolinewidth\":2},\"yaxis\":{\"automargin\":true,\"gridcolor\":\"white\",\"linecolor\":\"white\",\"ticks\":\"\",\"title\":{\"standoff\":15},\"zerolinecolor\":\"white\",\"zerolinewidth\":2}}},\"title\":{\"font\":{\"color\":\"#4D5663\"},\"text\":\"Effects of Price Changes on Subsistence Diet Composition Based on Egg Price for F 19-30\"},\"xaxis\":{\"gridcolor\":\"#E1E5ED\",\"showgrid\":true,\"tickfont\":{\"color\":\"#4D5663\"},\"title\":{\"font\":{\"color\":\"#4D5663\"},\"text\":\"Egg Price\"},\"zerolinecolor\":\"#E1E5ED\"},\"yaxis\":{\"gridcolor\":\"#E1E5ED\",\"showgrid\":true,\"tickfont\":{\"color\":\"#4D5663\"},\"title\":{\"font\":{\"color\":\"#4D5663\"},\"text\":\"Hectograms\"},\"zerolinecolor\":\"#E1E5ED\"}},                        {\"showLink\": true, \"linkText\": \"Export to plot.ly\", \"plotlyServerURL\": \"https://plot.ly\", \"responsive\": true}                    ).then(function(){\n",
       "                            \n",
       "var gd = document.getElementById('3d7bef27-e7bc-404c-b04a-9dee75c54ce5');\n",
       "var x = new MutationObserver(function (mutations, observer) {{\n",
       "        var display = window.getComputedStyle(gd).display;\n",
       "        if (!display || display === 'none') {{\n",
       "            console.log([gd, 'removed!']);\n",
       "            Plotly.purge(gd);\n",
       "            observer.disconnect();\n",
       "        }}\n",
       "}});\n",
       "\n",
       "// Listen for the removal of the full notebook cells\n",
       "var notebookContainer = gd.closest('#notebook-container');\n",
       "if (notebookContainer) {{\n",
       "    x.observe(notebookContainer, {childList: true});\n",
       "}}\n",
       "\n",
       "// Listen for the clearing of the current output cell\n",
       "var outputEl = gd.closest('.output');\n",
       "if (outputEl) {{\n",
       "    x.observe(outputEl, {childList: true});\n",
       "}}\n",
       "\n",
       "                        })                };                });            </script>        </div>"
      ]
     },
     "metadata": {},
     "output_type": "display_data"
    },
    {
     "data": {
      "application/vnd.plotly.v1+json": {
       "config": {
        "linkText": "Export to plot.ly",
        "plotlyServerURL": "https://plot.ly",
        "showLink": true
       },
       "data": [
        {
         "line": {
          "color": "rgba(255, 153, 51, 1.0)",
          "dash": "solid",
          "shape": "linear",
          "width": 1.3
         },
         "mode": "lines",
         "name": "Egg",
         "text": "",
         "type": "scatter",
         "x": [
          0.25,
          0.375,
          0.45,
          0.5,
          0.55,
          0.6,
          0.65,
          0.7,
          0.75,
          1,
          2
         ],
         "y": [
          2.35294117622342,
          2.3529411761503654,
          0.7481426381915193,
          0.7481425468840616,
          0.748142381940705,
          0.7481399816799367,
          0.04879342743200945,
          2.234691472295976e-09,
          7.480265102372378e-08,
          1.7519540579691254e-09,
          3.900298408241972e-12
         ]
        },
        {
         "line": {
          "color": "rgba(55, 128, 191, 1.0)",
          "dash": "solid",
          "shape": "linear",
          "width": 1.3
         },
         "mode": "lines",
         "name": "Purple Cabbage ",
         "text": "",
         "type": "scatter",
         "x": [
          0.25,
          0.375,
          0.45,
          0.5,
          0.55,
          0.6,
          0.65,
          0.7,
          0.75,
          1,
          2
         ],
         "y": [
          0.490233973339839,
          0.4902339734970414,
          0.5152294459377437,
          0.515229448839125,
          0.5152294455309562,
          0.5152293061766373,
          0.524266518314342,
          0.5273446328956551,
          0.5273446027448049,
          0.5273446301128879,
          0.5273446330545988
         ]
        },
        {
         "line": {
          "color": "rgba(50, 171, 96, 1.0)",
          "dash": "solid",
          "shape": "linear",
          "width": 1.3
         },
         "mode": "lines",
         "name": "Spinach ",
         "text": "",
         "type": "scatter",
         "x": [
          0.25,
          0.375,
          0.45,
          0.5,
          0.55,
          0.6,
          0.65,
          0.7,
          0.75,
          1,
          2
         ],
         "y": [
          6.332312603059457,
          6.332312603009711,
          6.186930604366288,
          6.18693060628688,
          6.186930626725185,
          6.186931344025328,
          6.13436813594243,
          6.116464890051244,
          6.116464980006801,
          6.11646489054722,
          6.116464889215506
         ]
        },
        {
         "line": {
          "color": "rgba(128, 0, 128, 1.0)",
          "dash": "solid",
          "shape": "linear",
          "width": 1.3
         },
         "mode": "lines",
         "name": "Jasmine Rice",
         "text": "",
         "type": "scatter",
         "x": [
          0.25,
          0.375,
          0.45,
          0.5,
          0.55,
          0.6,
          0.65,
          0.7,
          0.75,
          1,
          2
         ],
         "y": [
          0.011300030827760545,
          0.011300030760553536,
          2.2490328536712246e-08,
          2.2195834400535423e-08,
          2.4567477116344734e-08,
          4.3225203634683885e-08,
          5.436951415352524e-09,
          1.4241122249670107e-12,
          7.35062107682952e-11,
          2.9625696057763963e-10,
          1.0605518735844628e-12
         ]
        },
        {
         "line": {
          "color": "rgba(219, 64, 82, 1.0)",
          "dash": "solid",
          "shape": "linear",
          "width": 1.3
         },
         "mode": "lines",
         "name": "Pork",
         "text": "",
         "type": "scatter",
         "x": [
          0.25,
          0.375,
          0.45,
          0.5,
          0.55,
          0.6,
          0.65,
          0.7,
          0.75,
          1,
          2
         ],
         "y": [
          3.2300848502469333e-10,
          4.587740398304727e-10,
          2.4431260799033208,
          2.4431262176285844,
          2.4431264595634454,
          2.4431300496790356,
          3.50780696802384,
          3.58208954809899,
          3.582089123634466,
          3.5820894994325156,
          3.582089551633844
         ]
        },
        {
         "line": {
          "color": "rgba(0, 128, 128, 1.0)",
          "dash": "solid",
          "shape": "linear",
          "width": 1.3
         },
         "mode": "lines",
         "name": "Sesame ",
         "text": "",
         "type": "scatter",
         "x": [
          0.25,
          0.375,
          0.45,
          0.5,
          0.55,
          0.6,
          0.65,
          0.7,
          0.75,
          1,
          2
         ],
         "y": [
          9.616087891535065e-12,
          1.1690793074676968e-12,
          2.2548630807232465e-09,
          2.998549613894542e-09,
          5.64222736452888e-09,
          2.839941177909297e-08,
          0.042383205777309495,
          0.04683254997131824,
          0.04683253106189115,
          0.04683255000003987,
          0.04683255017645307
         ]
        },
        {
         "line": {
          "color": "rgba(255, 255, 51, 1.0)",
          "dash": "solid",
          "shape": "linear",
          "width": 1.3
         },
         "mode": "lines",
         "name": "Brown Sugar",
         "text": "",
         "type": "scatter",
         "x": [
          0.25,
          0.375,
          0.45,
          0.5,
          0.55,
          0.6,
          0.65,
          0.7,
          0.75,
          1,
          2
         ],
         "y": [
          6.509365893148939e-11,
          7.94106814160114e-12,
          1.4886090919145277e-08,
          2.0851882125198993e-08,
          4.3225007365240485e-08,
          3.517329473051281e-07,
          0.0389208935436643,
          0.032084997058109924,
          0.032085027756858696,
          0.032084987831247566,
          0.03208499676556277
         ]
        },
        {
         "line": {
          "color": "rgba(128, 128, 0, 1.0)",
          "dash": "solid",
          "shape": "linear",
          "width": 1.3
         },
         "mode": "lines",
         "name": "Flour",
         "text": "",
         "type": "scatter",
         "x": [
          0.25,
          0.375,
          0.45,
          0.5,
          0.55,
          0.6,
          0.65,
          0.7,
          0.75,
          1,
          2
         ],
         "y": [
          3.3488000912647538,
          3.3488000914207303,
          1.978105938576796,
          1.9781058513911618,
          1.9781056703947069,
          1.9781025791732711,
          1.3188119510482679,
          1.3274705120425045,
          1.327470513914001,
          1.3274705460676142,
          1.3274705123911852
         ]
        }
       ],
       "layout": {
        "legend": {
         "bgcolor": "#F5F6F9",
         "font": {
          "color": "#4D5663"
         }
        },
        "paper_bgcolor": "#F5F6F9",
        "plot_bgcolor": "#F5F6F9",
        "template": {
         "data": {
          "bar": [
           {
            "error_x": {
             "color": "#2a3f5f"
            },
            "error_y": {
             "color": "#2a3f5f"
            },
            "marker": {
             "line": {
              "color": "#E5ECF6",
              "width": 0.5
             },
             "pattern": {
              "fillmode": "overlay",
              "size": 10,
              "solidity": 0.2
             }
            },
            "type": "bar"
           }
          ],
          "barpolar": [
           {
            "marker": {
             "line": {
              "color": "#E5ECF6",
              "width": 0.5
             },
             "pattern": {
              "fillmode": "overlay",
              "size": 10,
              "solidity": 0.2
             }
            },
            "type": "barpolar"
           }
          ],
          "carpet": [
           {
            "aaxis": {
             "endlinecolor": "#2a3f5f",
             "gridcolor": "white",
             "linecolor": "white",
             "minorgridcolor": "white",
             "startlinecolor": "#2a3f5f"
            },
            "baxis": {
             "endlinecolor": "#2a3f5f",
             "gridcolor": "white",
             "linecolor": "white",
             "minorgridcolor": "white",
             "startlinecolor": "#2a3f5f"
            },
            "type": "carpet"
           }
          ],
          "choropleth": [
           {
            "colorbar": {
             "outlinewidth": 0,
             "ticks": ""
            },
            "type": "choropleth"
           }
          ],
          "contour": [
           {
            "colorbar": {
             "outlinewidth": 0,
             "ticks": ""
            },
            "colorscale": [
             [
              0,
              "#0d0887"
             ],
             [
              0.1111111111111111,
              "#46039f"
             ],
             [
              0.2222222222222222,
              "#7201a8"
             ],
             [
              0.3333333333333333,
              "#9c179e"
             ],
             [
              0.4444444444444444,
              "#bd3786"
             ],
             [
              0.5555555555555556,
              "#d8576b"
             ],
             [
              0.6666666666666666,
              "#ed7953"
             ],
             [
              0.7777777777777778,
              "#fb9f3a"
             ],
             [
              0.8888888888888888,
              "#fdca26"
             ],
             [
              1,
              "#f0f921"
             ]
            ],
            "type": "contour"
           }
          ],
          "contourcarpet": [
           {
            "colorbar": {
             "outlinewidth": 0,
             "ticks": ""
            },
            "type": "contourcarpet"
           }
          ],
          "heatmap": [
           {
            "colorbar": {
             "outlinewidth": 0,
             "ticks": ""
            },
            "colorscale": [
             [
              0,
              "#0d0887"
             ],
             [
              0.1111111111111111,
              "#46039f"
             ],
             [
              0.2222222222222222,
              "#7201a8"
             ],
             [
              0.3333333333333333,
              "#9c179e"
             ],
             [
              0.4444444444444444,
              "#bd3786"
             ],
             [
              0.5555555555555556,
              "#d8576b"
             ],
             [
              0.6666666666666666,
              "#ed7953"
             ],
             [
              0.7777777777777778,
              "#fb9f3a"
             ],
             [
              0.8888888888888888,
              "#fdca26"
             ],
             [
              1,
              "#f0f921"
             ]
            ],
            "type": "heatmap"
           }
          ],
          "heatmapgl": [
           {
            "colorbar": {
             "outlinewidth": 0,
             "ticks": ""
            },
            "colorscale": [
             [
              0,
              "#0d0887"
             ],
             [
              0.1111111111111111,
              "#46039f"
             ],
             [
              0.2222222222222222,
              "#7201a8"
             ],
             [
              0.3333333333333333,
              "#9c179e"
             ],
             [
              0.4444444444444444,
              "#bd3786"
             ],
             [
              0.5555555555555556,
              "#d8576b"
             ],
             [
              0.6666666666666666,
              "#ed7953"
             ],
             [
              0.7777777777777778,
              "#fb9f3a"
             ],
             [
              0.8888888888888888,
              "#fdca26"
             ],
             [
              1,
              "#f0f921"
             ]
            ],
            "type": "heatmapgl"
           }
          ],
          "histogram": [
           {
            "marker": {
             "pattern": {
              "fillmode": "overlay",
              "size": 10,
              "solidity": 0.2
             }
            },
            "type": "histogram"
           }
          ],
          "histogram2d": [
           {
            "colorbar": {
             "outlinewidth": 0,
             "ticks": ""
            },
            "colorscale": [
             [
              0,
              "#0d0887"
             ],
             [
              0.1111111111111111,
              "#46039f"
             ],
             [
              0.2222222222222222,
              "#7201a8"
             ],
             [
              0.3333333333333333,
              "#9c179e"
             ],
             [
              0.4444444444444444,
              "#bd3786"
             ],
             [
              0.5555555555555556,
              "#d8576b"
             ],
             [
              0.6666666666666666,
              "#ed7953"
             ],
             [
              0.7777777777777778,
              "#fb9f3a"
             ],
             [
              0.8888888888888888,
              "#fdca26"
             ],
             [
              1,
              "#f0f921"
             ]
            ],
            "type": "histogram2d"
           }
          ],
          "histogram2dcontour": [
           {
            "colorbar": {
             "outlinewidth": 0,
             "ticks": ""
            },
            "colorscale": [
             [
              0,
              "#0d0887"
             ],
             [
              0.1111111111111111,
              "#46039f"
             ],
             [
              0.2222222222222222,
              "#7201a8"
             ],
             [
              0.3333333333333333,
              "#9c179e"
             ],
             [
              0.4444444444444444,
              "#bd3786"
             ],
             [
              0.5555555555555556,
              "#d8576b"
             ],
             [
              0.6666666666666666,
              "#ed7953"
             ],
             [
              0.7777777777777778,
              "#fb9f3a"
             ],
             [
              0.8888888888888888,
              "#fdca26"
             ],
             [
              1,
              "#f0f921"
             ]
            ],
            "type": "histogram2dcontour"
           }
          ],
          "mesh3d": [
           {
            "colorbar": {
             "outlinewidth": 0,
             "ticks": ""
            },
            "type": "mesh3d"
           }
          ],
          "parcoords": [
           {
            "line": {
             "colorbar": {
              "outlinewidth": 0,
              "ticks": ""
             }
            },
            "type": "parcoords"
           }
          ],
          "pie": [
           {
            "automargin": true,
            "type": "pie"
           }
          ],
          "scatter": [
           {
            "marker": {
             "colorbar": {
              "outlinewidth": 0,
              "ticks": ""
             }
            },
            "type": "scatter"
           }
          ],
          "scatter3d": [
           {
            "line": {
             "colorbar": {
              "outlinewidth": 0,
              "ticks": ""
             }
            },
            "marker": {
             "colorbar": {
              "outlinewidth": 0,
              "ticks": ""
             }
            },
            "type": "scatter3d"
           }
          ],
          "scattercarpet": [
           {
            "marker": {
             "colorbar": {
              "outlinewidth": 0,
              "ticks": ""
             }
            },
            "type": "scattercarpet"
           }
          ],
          "scattergeo": [
           {
            "marker": {
             "colorbar": {
              "outlinewidth": 0,
              "ticks": ""
             }
            },
            "type": "scattergeo"
           }
          ],
          "scattergl": [
           {
            "marker": {
             "colorbar": {
              "outlinewidth": 0,
              "ticks": ""
             }
            },
            "type": "scattergl"
           }
          ],
          "scattermapbox": [
           {
            "marker": {
             "colorbar": {
              "outlinewidth": 0,
              "ticks": ""
             }
            },
            "type": "scattermapbox"
           }
          ],
          "scatterpolar": [
           {
            "marker": {
             "colorbar": {
              "outlinewidth": 0,
              "ticks": ""
             }
            },
            "type": "scatterpolar"
           }
          ],
          "scatterpolargl": [
           {
            "marker": {
             "colorbar": {
              "outlinewidth": 0,
              "ticks": ""
             }
            },
            "type": "scatterpolargl"
           }
          ],
          "scatterternary": [
           {
            "marker": {
             "colorbar": {
              "outlinewidth": 0,
              "ticks": ""
             }
            },
            "type": "scatterternary"
           }
          ],
          "surface": [
           {
            "colorbar": {
             "outlinewidth": 0,
             "ticks": ""
            },
            "colorscale": [
             [
              0,
              "#0d0887"
             ],
             [
              0.1111111111111111,
              "#46039f"
             ],
             [
              0.2222222222222222,
              "#7201a8"
             ],
             [
              0.3333333333333333,
              "#9c179e"
             ],
             [
              0.4444444444444444,
              "#bd3786"
             ],
             [
              0.5555555555555556,
              "#d8576b"
             ],
             [
              0.6666666666666666,
              "#ed7953"
             ],
             [
              0.7777777777777778,
              "#fb9f3a"
             ],
             [
              0.8888888888888888,
              "#fdca26"
             ],
             [
              1,
              "#f0f921"
             ]
            ],
            "type": "surface"
           }
          ],
          "table": [
           {
            "cells": {
             "fill": {
              "color": "#EBF0F8"
             },
             "line": {
              "color": "white"
             }
            },
            "header": {
             "fill": {
              "color": "#C8D4E3"
             },
             "line": {
              "color": "white"
             }
            },
            "type": "table"
           }
          ]
         },
         "layout": {
          "annotationdefaults": {
           "arrowcolor": "#2a3f5f",
           "arrowhead": 0,
           "arrowwidth": 1
          },
          "autotypenumbers": "strict",
          "coloraxis": {
           "colorbar": {
            "outlinewidth": 0,
            "ticks": ""
           }
          },
          "colorscale": {
           "diverging": [
            [
             0,
             "#8e0152"
            ],
            [
             0.1,
             "#c51b7d"
            ],
            [
             0.2,
             "#de77ae"
            ],
            [
             0.3,
             "#f1b6da"
            ],
            [
             0.4,
             "#fde0ef"
            ],
            [
             0.5,
             "#f7f7f7"
            ],
            [
             0.6,
             "#e6f5d0"
            ],
            [
             0.7,
             "#b8e186"
            ],
            [
             0.8,
             "#7fbc41"
            ],
            [
             0.9,
             "#4d9221"
            ],
            [
             1,
             "#276419"
            ]
           ],
           "sequential": [
            [
             0,
             "#0d0887"
            ],
            [
             0.1111111111111111,
             "#46039f"
            ],
            [
             0.2222222222222222,
             "#7201a8"
            ],
            [
             0.3333333333333333,
             "#9c179e"
            ],
            [
             0.4444444444444444,
             "#bd3786"
            ],
            [
             0.5555555555555556,
             "#d8576b"
            ],
            [
             0.6666666666666666,
             "#ed7953"
            ],
            [
             0.7777777777777778,
             "#fb9f3a"
            ],
            [
             0.8888888888888888,
             "#fdca26"
            ],
            [
             1,
             "#f0f921"
            ]
           ],
           "sequentialminus": [
            [
             0,
             "#0d0887"
            ],
            [
             0.1111111111111111,
             "#46039f"
            ],
            [
             0.2222222222222222,
             "#7201a8"
            ],
            [
             0.3333333333333333,
             "#9c179e"
            ],
            [
             0.4444444444444444,
             "#bd3786"
            ],
            [
             0.5555555555555556,
             "#d8576b"
            ],
            [
             0.6666666666666666,
             "#ed7953"
            ],
            [
             0.7777777777777778,
             "#fb9f3a"
            ],
            [
             0.8888888888888888,
             "#fdca26"
            ],
            [
             1,
             "#f0f921"
            ]
           ]
          },
          "colorway": [
           "#636efa",
           "#EF553B",
           "#00cc96",
           "#ab63fa",
           "#FFA15A",
           "#19d3f3",
           "#FF6692",
           "#B6E880",
           "#FF97FF",
           "#FECB52"
          ],
          "font": {
           "color": "#2a3f5f"
          },
          "geo": {
           "bgcolor": "white",
           "lakecolor": "white",
           "landcolor": "#E5ECF6",
           "showlakes": true,
           "showland": true,
           "subunitcolor": "white"
          },
          "hoverlabel": {
           "align": "left"
          },
          "hovermode": "closest",
          "mapbox": {
           "style": "light"
          },
          "paper_bgcolor": "white",
          "plot_bgcolor": "#E5ECF6",
          "polar": {
           "angularaxis": {
            "gridcolor": "white",
            "linecolor": "white",
            "ticks": ""
           },
           "bgcolor": "#E5ECF6",
           "radialaxis": {
            "gridcolor": "white",
            "linecolor": "white",
            "ticks": ""
           }
          },
          "scene": {
           "xaxis": {
            "backgroundcolor": "#E5ECF6",
            "gridcolor": "white",
            "gridwidth": 2,
            "linecolor": "white",
            "showbackground": true,
            "ticks": "",
            "zerolinecolor": "white"
           },
           "yaxis": {
            "backgroundcolor": "#E5ECF6",
            "gridcolor": "white",
            "gridwidth": 2,
            "linecolor": "white",
            "showbackground": true,
            "ticks": "",
            "zerolinecolor": "white"
           },
           "zaxis": {
            "backgroundcolor": "#E5ECF6",
            "gridcolor": "white",
            "gridwidth": 2,
            "linecolor": "white",
            "showbackground": true,
            "ticks": "",
            "zerolinecolor": "white"
           }
          },
          "shapedefaults": {
           "line": {
            "color": "#2a3f5f"
           }
          },
          "ternary": {
           "aaxis": {
            "gridcolor": "white",
            "linecolor": "white",
            "ticks": ""
           },
           "baxis": {
            "gridcolor": "white",
            "linecolor": "white",
            "ticks": ""
           },
           "bgcolor": "#E5ECF6",
           "caxis": {
            "gridcolor": "white",
            "linecolor": "white",
            "ticks": ""
           }
          },
          "title": {
           "x": 0.05
          },
          "xaxis": {
           "automargin": true,
           "gridcolor": "white",
           "linecolor": "white",
           "ticks": "",
           "title": {
            "standoff": 15
           },
           "zerolinecolor": "white",
           "zerolinewidth": 2
          },
          "yaxis": {
           "automargin": true,
           "gridcolor": "white",
           "linecolor": "white",
           "ticks": "",
           "title": {
            "standoff": 15
           },
           "zerolinecolor": "white",
           "zerolinewidth": 2
          }
         }
        },
        "title": {
         "font": {
          "color": "#4D5663"
         },
         "text": "Effects of Price Changes on Subsistence Diet Composition Based on Egg Price for M 19-30"
        },
        "xaxis": {
         "gridcolor": "#E1E5ED",
         "showgrid": true,
         "tickfont": {
          "color": "#4D5663"
         },
         "title": {
          "font": {
           "color": "#4D5663"
          },
          "text": "Egg Price"
         },
         "zerolinecolor": "#E1E5ED"
        },
        "yaxis": {
         "gridcolor": "#E1E5ED",
         "showgrid": true,
         "tickfont": {
          "color": "#4D5663"
         },
         "title": {
          "font": {
           "color": "#4D5663"
          },
          "text": "Hectograms"
         },
         "zerolinecolor": "#E1E5ED"
        }
       }
      },
      "text/html": [
       "<div>                            <div id=\"bf0cbcae-3666-4b2c-8838-8edf89c15995\" class=\"plotly-graph-div\" style=\"height:525px; width:100%;\"></div>            <script type=\"text/javascript\">                require([\"plotly\"], function(Plotly) {                    window.PLOTLYENV=window.PLOTLYENV || {};\n",
       "                    window.PLOTLYENV.BASE_URL='https://plot.ly';                                    if (document.getElementById(\"bf0cbcae-3666-4b2c-8838-8edf89c15995\")) {                    Plotly.newPlot(                        \"bf0cbcae-3666-4b2c-8838-8edf89c15995\",                        [{\"line\":{\"color\":\"rgba(255, 153, 51, 1.0)\",\"dash\":\"solid\",\"shape\":\"linear\",\"width\":1.3},\"mode\":\"lines\",\"name\":\"Egg\",\"text\":\"\",\"type\":\"scatter\",\"x\":[0.25,0.375,0.45,0.5,0.55,0.6,0.65,0.7,0.75,1.0,2.0],\"y\":[2.35294117622342,2.3529411761503654,0.7481426381915193,0.7481425468840616,0.748142381940705,0.7481399816799367,0.04879342743200945,2.234691472295976e-09,7.480265102372378e-08,1.7519540579691254e-09,3.900298408241972e-12]},{\"line\":{\"color\":\"rgba(55, 128, 191, 1.0)\",\"dash\":\"solid\",\"shape\":\"linear\",\"width\":1.3},\"mode\":\"lines\",\"name\":\"Purple Cabbage \",\"text\":\"\",\"type\":\"scatter\",\"x\":[0.25,0.375,0.45,0.5,0.55,0.6,0.65,0.7,0.75,1.0,2.0],\"y\":[0.490233973339839,0.4902339734970414,0.5152294459377437,0.515229448839125,0.5152294455309562,0.5152293061766373,0.524266518314342,0.5273446328956551,0.5273446027448049,0.5273446301128879,0.5273446330545988]},{\"line\":{\"color\":\"rgba(50, 171, 96, 1.0)\",\"dash\":\"solid\",\"shape\":\"linear\",\"width\":1.3},\"mode\":\"lines\",\"name\":\"Spinach \",\"text\":\"\",\"type\":\"scatter\",\"x\":[0.25,0.375,0.45,0.5,0.55,0.6,0.65,0.7,0.75,1.0,2.0],\"y\":[6.332312603059457,6.332312603009711,6.186930604366288,6.18693060628688,6.186930626725185,6.186931344025328,6.13436813594243,6.116464890051244,6.116464980006801,6.11646489054722,6.116464889215506]},{\"line\":{\"color\":\"rgba(128, 0, 128, 1.0)\",\"dash\":\"solid\",\"shape\":\"linear\",\"width\":1.3},\"mode\":\"lines\",\"name\":\"Jasmine Rice\",\"text\":\"\",\"type\":\"scatter\",\"x\":[0.25,0.375,0.45,0.5,0.55,0.6,0.65,0.7,0.75,1.0,2.0],\"y\":[0.011300030827760545,0.011300030760553536,2.2490328536712246e-08,2.2195834400535423e-08,2.4567477116344734e-08,4.3225203634683885e-08,5.436951415352524e-09,1.4241122249670107e-12,7.35062107682952e-11,2.9625696057763963e-10,1.0605518735844628e-12]},{\"line\":{\"color\":\"rgba(219, 64, 82, 1.0)\",\"dash\":\"solid\",\"shape\":\"linear\",\"width\":1.3},\"mode\":\"lines\",\"name\":\"Pork\",\"text\":\"\",\"type\":\"scatter\",\"x\":[0.25,0.375,0.45,0.5,0.55,0.6,0.65,0.7,0.75,1.0,2.0],\"y\":[3.2300848502469333e-10,4.587740398304727e-10,2.4431260799033208,2.4431262176285844,2.4431264595634454,2.4431300496790356,3.50780696802384,3.58208954809899,3.582089123634466,3.5820894994325156,3.582089551633844]},{\"line\":{\"color\":\"rgba(0, 128, 128, 1.0)\",\"dash\":\"solid\",\"shape\":\"linear\",\"width\":1.3},\"mode\":\"lines\",\"name\":\"Sesame \",\"text\":\"\",\"type\":\"scatter\",\"x\":[0.25,0.375,0.45,0.5,0.55,0.6,0.65,0.7,0.75,1.0,2.0],\"y\":[9.616087891535065e-12,1.1690793074676968e-12,2.2548630807232465e-09,2.998549613894542e-09,5.64222736452888e-09,2.839941177909297e-08,0.042383205777309495,0.04683254997131824,0.04683253106189115,0.04683255000003987,0.04683255017645307]},{\"line\":{\"color\":\"rgba(255, 255, 51, 1.0)\",\"dash\":\"solid\",\"shape\":\"linear\",\"width\":1.3},\"mode\":\"lines\",\"name\":\"Brown Sugar\",\"text\":\"\",\"type\":\"scatter\",\"x\":[0.25,0.375,0.45,0.5,0.55,0.6,0.65,0.7,0.75,1.0,2.0],\"y\":[6.509365893148939e-11,7.94106814160114e-12,1.4886090919145277e-08,2.0851882125198993e-08,4.3225007365240485e-08,3.517329473051281e-07,0.0389208935436643,0.032084997058109924,0.032085027756858696,0.032084987831247566,0.03208499676556277]},{\"line\":{\"color\":\"rgba(128, 128, 0, 1.0)\",\"dash\":\"solid\",\"shape\":\"linear\",\"width\":1.3},\"mode\":\"lines\",\"name\":\"Flour\",\"text\":\"\",\"type\":\"scatter\",\"x\":[0.25,0.375,0.45,0.5,0.55,0.6,0.65,0.7,0.75,1.0,2.0],\"y\":[3.3488000912647538,3.3488000914207303,1.978105938576796,1.9781058513911618,1.9781056703947069,1.9781025791732711,1.3188119510482679,1.3274705120425045,1.327470513914001,1.3274705460676142,1.3274705123911852]}],                        {\"legend\":{\"bgcolor\":\"#F5F6F9\",\"font\":{\"color\":\"#4D5663\"}},\"paper_bgcolor\":\"#F5F6F9\",\"plot_bgcolor\":\"#F5F6F9\",\"template\":{\"data\":{\"bar\":[{\"error_x\":{\"color\":\"#2a3f5f\"},\"error_y\":{\"color\":\"#2a3f5f\"},\"marker\":{\"line\":{\"color\":\"#E5ECF6\",\"width\":0.5},\"pattern\":{\"fillmode\":\"overlay\",\"size\":10,\"solidity\":0.2}},\"type\":\"bar\"}],\"barpolar\":[{\"marker\":{\"line\":{\"color\":\"#E5ECF6\",\"width\":0.5},\"pattern\":{\"fillmode\":\"overlay\",\"size\":10,\"solidity\":0.2}},\"type\":\"barpolar\"}],\"carpet\":[{\"aaxis\":{\"endlinecolor\":\"#2a3f5f\",\"gridcolor\":\"white\",\"linecolor\":\"white\",\"minorgridcolor\":\"white\",\"startlinecolor\":\"#2a3f5f\"},\"baxis\":{\"endlinecolor\":\"#2a3f5f\",\"gridcolor\":\"white\",\"linecolor\":\"white\",\"minorgridcolor\":\"white\",\"startlinecolor\":\"#2a3f5f\"},\"type\":\"carpet\"}],\"choropleth\":[{\"colorbar\":{\"outlinewidth\":0,\"ticks\":\"\"},\"type\":\"choropleth\"}],\"contour\":[{\"colorbar\":{\"outlinewidth\":0,\"ticks\":\"\"},\"colorscale\":[[0.0,\"#0d0887\"],[0.1111111111111111,\"#46039f\"],[0.2222222222222222,\"#7201a8\"],[0.3333333333333333,\"#9c179e\"],[0.4444444444444444,\"#bd3786\"],[0.5555555555555556,\"#d8576b\"],[0.6666666666666666,\"#ed7953\"],[0.7777777777777778,\"#fb9f3a\"],[0.8888888888888888,\"#fdca26\"],[1.0,\"#f0f921\"]],\"type\":\"contour\"}],\"contourcarpet\":[{\"colorbar\":{\"outlinewidth\":0,\"ticks\":\"\"},\"type\":\"contourcarpet\"}],\"heatmap\":[{\"colorbar\":{\"outlinewidth\":0,\"ticks\":\"\"},\"colorscale\":[[0.0,\"#0d0887\"],[0.1111111111111111,\"#46039f\"],[0.2222222222222222,\"#7201a8\"],[0.3333333333333333,\"#9c179e\"],[0.4444444444444444,\"#bd3786\"],[0.5555555555555556,\"#d8576b\"],[0.6666666666666666,\"#ed7953\"],[0.7777777777777778,\"#fb9f3a\"],[0.8888888888888888,\"#fdca26\"],[1.0,\"#f0f921\"]],\"type\":\"heatmap\"}],\"heatmapgl\":[{\"colorbar\":{\"outlinewidth\":0,\"ticks\":\"\"},\"colorscale\":[[0.0,\"#0d0887\"],[0.1111111111111111,\"#46039f\"],[0.2222222222222222,\"#7201a8\"],[0.3333333333333333,\"#9c179e\"],[0.4444444444444444,\"#bd3786\"],[0.5555555555555556,\"#d8576b\"],[0.6666666666666666,\"#ed7953\"],[0.7777777777777778,\"#fb9f3a\"],[0.8888888888888888,\"#fdca26\"],[1.0,\"#f0f921\"]],\"type\":\"heatmapgl\"}],\"histogram\":[{\"marker\":{\"pattern\":{\"fillmode\":\"overlay\",\"size\":10,\"solidity\":0.2}},\"type\":\"histogram\"}],\"histogram2d\":[{\"colorbar\":{\"outlinewidth\":0,\"ticks\":\"\"},\"colorscale\":[[0.0,\"#0d0887\"],[0.1111111111111111,\"#46039f\"],[0.2222222222222222,\"#7201a8\"],[0.3333333333333333,\"#9c179e\"],[0.4444444444444444,\"#bd3786\"],[0.5555555555555556,\"#d8576b\"],[0.6666666666666666,\"#ed7953\"],[0.7777777777777778,\"#fb9f3a\"],[0.8888888888888888,\"#fdca26\"],[1.0,\"#f0f921\"]],\"type\":\"histogram2d\"}],\"histogram2dcontour\":[{\"colorbar\":{\"outlinewidth\":0,\"ticks\":\"\"},\"colorscale\":[[0.0,\"#0d0887\"],[0.1111111111111111,\"#46039f\"],[0.2222222222222222,\"#7201a8\"],[0.3333333333333333,\"#9c179e\"],[0.4444444444444444,\"#bd3786\"],[0.5555555555555556,\"#d8576b\"],[0.6666666666666666,\"#ed7953\"],[0.7777777777777778,\"#fb9f3a\"],[0.8888888888888888,\"#fdca26\"],[1.0,\"#f0f921\"]],\"type\":\"histogram2dcontour\"}],\"mesh3d\":[{\"colorbar\":{\"outlinewidth\":0,\"ticks\":\"\"},\"type\":\"mesh3d\"}],\"parcoords\":[{\"line\":{\"colorbar\":{\"outlinewidth\":0,\"ticks\":\"\"}},\"type\":\"parcoords\"}],\"pie\":[{\"automargin\":true,\"type\":\"pie\"}],\"scatter\":[{\"marker\":{\"colorbar\":{\"outlinewidth\":0,\"ticks\":\"\"}},\"type\":\"scatter\"}],\"scatter3d\":[{\"line\":{\"colorbar\":{\"outlinewidth\":0,\"ticks\":\"\"}},\"marker\":{\"colorbar\":{\"outlinewidth\":0,\"ticks\":\"\"}},\"type\":\"scatter3d\"}],\"scattercarpet\":[{\"marker\":{\"colorbar\":{\"outlinewidth\":0,\"ticks\":\"\"}},\"type\":\"scattercarpet\"}],\"scattergeo\":[{\"marker\":{\"colorbar\":{\"outlinewidth\":0,\"ticks\":\"\"}},\"type\":\"scattergeo\"}],\"scattergl\":[{\"marker\":{\"colorbar\":{\"outlinewidth\":0,\"ticks\":\"\"}},\"type\":\"scattergl\"}],\"scattermapbox\":[{\"marker\":{\"colorbar\":{\"outlinewidth\":0,\"ticks\":\"\"}},\"type\":\"scattermapbox\"}],\"scatterpolar\":[{\"marker\":{\"colorbar\":{\"outlinewidth\":0,\"ticks\":\"\"}},\"type\":\"scatterpolar\"}],\"scatterpolargl\":[{\"marker\":{\"colorbar\":{\"outlinewidth\":0,\"ticks\":\"\"}},\"type\":\"scatterpolargl\"}],\"scatterternary\":[{\"marker\":{\"colorbar\":{\"outlinewidth\":0,\"ticks\":\"\"}},\"type\":\"scatterternary\"}],\"surface\":[{\"colorbar\":{\"outlinewidth\":0,\"ticks\":\"\"},\"colorscale\":[[0.0,\"#0d0887\"],[0.1111111111111111,\"#46039f\"],[0.2222222222222222,\"#7201a8\"],[0.3333333333333333,\"#9c179e\"],[0.4444444444444444,\"#bd3786\"],[0.5555555555555556,\"#d8576b\"],[0.6666666666666666,\"#ed7953\"],[0.7777777777777778,\"#fb9f3a\"],[0.8888888888888888,\"#fdca26\"],[1.0,\"#f0f921\"]],\"type\":\"surface\"}],\"table\":[{\"cells\":{\"fill\":{\"color\":\"#EBF0F8\"},\"line\":{\"color\":\"white\"}},\"header\":{\"fill\":{\"color\":\"#C8D4E3\"},\"line\":{\"color\":\"white\"}},\"type\":\"table\"}]},\"layout\":{\"annotationdefaults\":{\"arrowcolor\":\"#2a3f5f\",\"arrowhead\":0,\"arrowwidth\":1},\"autotypenumbers\":\"strict\",\"coloraxis\":{\"colorbar\":{\"outlinewidth\":0,\"ticks\":\"\"}},\"colorscale\":{\"diverging\":[[0,\"#8e0152\"],[0.1,\"#c51b7d\"],[0.2,\"#de77ae\"],[0.3,\"#f1b6da\"],[0.4,\"#fde0ef\"],[0.5,\"#f7f7f7\"],[0.6,\"#e6f5d0\"],[0.7,\"#b8e186\"],[0.8,\"#7fbc41\"],[0.9,\"#4d9221\"],[1,\"#276419\"]],\"sequential\":[[0.0,\"#0d0887\"],[0.1111111111111111,\"#46039f\"],[0.2222222222222222,\"#7201a8\"],[0.3333333333333333,\"#9c179e\"],[0.4444444444444444,\"#bd3786\"],[0.5555555555555556,\"#d8576b\"],[0.6666666666666666,\"#ed7953\"],[0.7777777777777778,\"#fb9f3a\"],[0.8888888888888888,\"#fdca26\"],[1.0,\"#f0f921\"]],\"sequentialminus\":[[0.0,\"#0d0887\"],[0.1111111111111111,\"#46039f\"],[0.2222222222222222,\"#7201a8\"],[0.3333333333333333,\"#9c179e\"],[0.4444444444444444,\"#bd3786\"],[0.5555555555555556,\"#d8576b\"],[0.6666666666666666,\"#ed7953\"],[0.7777777777777778,\"#fb9f3a\"],[0.8888888888888888,\"#fdca26\"],[1.0,\"#f0f921\"]]},\"colorway\":[\"#636efa\",\"#EF553B\",\"#00cc96\",\"#ab63fa\",\"#FFA15A\",\"#19d3f3\",\"#FF6692\",\"#B6E880\",\"#FF97FF\",\"#FECB52\"],\"font\":{\"color\":\"#2a3f5f\"},\"geo\":{\"bgcolor\":\"white\",\"lakecolor\":\"white\",\"landcolor\":\"#E5ECF6\",\"showlakes\":true,\"showland\":true,\"subunitcolor\":\"white\"},\"hoverlabel\":{\"align\":\"left\"},\"hovermode\":\"closest\",\"mapbox\":{\"style\":\"light\"},\"paper_bgcolor\":\"white\",\"plot_bgcolor\":\"#E5ECF6\",\"polar\":{\"angularaxis\":{\"gridcolor\":\"white\",\"linecolor\":\"white\",\"ticks\":\"\"},\"bgcolor\":\"#E5ECF6\",\"radialaxis\":{\"gridcolor\":\"white\",\"linecolor\":\"white\",\"ticks\":\"\"}},\"scene\":{\"xaxis\":{\"backgroundcolor\":\"#E5ECF6\",\"gridcolor\":\"white\",\"gridwidth\":2,\"linecolor\":\"white\",\"showbackground\":true,\"ticks\":\"\",\"zerolinecolor\":\"white\"},\"yaxis\":{\"backgroundcolor\":\"#E5ECF6\",\"gridcolor\":\"white\",\"gridwidth\":2,\"linecolor\":\"white\",\"showbackground\":true,\"ticks\":\"\",\"zerolinecolor\":\"white\"},\"zaxis\":{\"backgroundcolor\":\"#E5ECF6\",\"gridcolor\":\"white\",\"gridwidth\":2,\"linecolor\":\"white\",\"showbackground\":true,\"ticks\":\"\",\"zerolinecolor\":\"white\"}},\"shapedefaults\":{\"line\":{\"color\":\"#2a3f5f\"}},\"ternary\":{\"aaxis\":{\"gridcolor\":\"white\",\"linecolor\":\"white\",\"ticks\":\"\"},\"baxis\":{\"gridcolor\":\"white\",\"linecolor\":\"white\",\"ticks\":\"\"},\"bgcolor\":\"#E5ECF6\",\"caxis\":{\"gridcolor\":\"white\",\"linecolor\":\"white\",\"ticks\":\"\"}},\"title\":{\"x\":0.05},\"xaxis\":{\"automargin\":true,\"gridcolor\":\"white\",\"linecolor\":\"white\",\"ticks\":\"\",\"title\":{\"standoff\":15},\"zerolinecolor\":\"white\",\"zerolinewidth\":2},\"yaxis\":{\"automargin\":true,\"gridcolor\":\"white\",\"linecolor\":\"white\",\"ticks\":\"\",\"title\":{\"standoff\":15},\"zerolinecolor\":\"white\",\"zerolinewidth\":2}}},\"title\":{\"font\":{\"color\":\"#4D5663\"},\"text\":\"Effects of Price Changes on Subsistence Diet Composition Based on Egg Price for M 19-30\"},\"xaxis\":{\"gridcolor\":\"#E1E5ED\",\"showgrid\":true,\"tickfont\":{\"color\":\"#4D5663\"},\"title\":{\"font\":{\"color\":\"#4D5663\"},\"text\":\"Egg Price\"},\"zerolinecolor\":\"#E1E5ED\"},\"yaxis\":{\"gridcolor\":\"#E1E5ED\",\"showgrid\":true,\"tickfont\":{\"color\":\"#4D5663\"},\"title\":{\"font\":{\"color\":\"#4D5663\"},\"text\":\"Hectograms\"},\"zerolinecolor\":\"#E1E5ED\"}},                        {\"showLink\": true, \"linkText\": \"Export to plot.ly\", \"plotlyServerURL\": \"https://plot.ly\", \"responsive\": true}                    ).then(function(){\n",
       "                            \n",
       "var gd = document.getElementById('bf0cbcae-3666-4b2c-8838-8edf89c15995');\n",
       "var x = new MutationObserver(function (mutations, observer) {{\n",
       "        var display = window.getComputedStyle(gd).display;\n",
       "        if (!display || display === 'none') {{\n",
       "            console.log([gd, 'removed!']);\n",
       "            Plotly.purge(gd);\n",
       "            observer.disconnect();\n",
       "        }}\n",
       "}});\n",
       "\n",
       "// Listen for the removal of the full notebook cells\n",
       "var notebookContainer = gd.closest('#notebook-container');\n",
       "if (notebookContainer) {{\n",
       "    x.observe(notebookContainer, {childList: true});\n",
       "}}\n",
       "\n",
       "// Listen for the clearing of the current output cell\n",
       "var outputEl = gd.closest('.output');\n",
       "if (outputEl) {{\n",
       "    x.observe(outputEl, {childList: true});\n",
       "}}\n",
       "\n",
       "                        })                };                });            </script>        </div>"
      ]
     },
     "metadata": {},
     "output_type": "display_data"
    }
   ],
   "source": [
    "# examine effects of price change on subsistence diet cost for T-toust, the cheapest option\n",
    "# for men and women aged 19-30\n",
    "import cufflinks as cf\n",
    "cf.go_offline()\n",
    "\n",
    "ReferenceGood = 'Egg'\n",
    "\n",
    "group_pc = ['F 19-30', 'M 19-30']\n",
    "\n",
    "for group in group_pc: \n",
    "\n",
    "    scale = [0.5,0.75,0.9,1.,1.1,1.2,1.3,1.4,1.5,2,4]\n",
    "\n",
    "    cost0 = solve_subsistence_problem(ing_res[1],ing_prices[1],dri_min[group],dri_max[group],tol=tol).fun\n",
    "\n",
    "    my_p = ing_prices[1].copy()\n",
    "    diet = {}\n",
    "    for s in scale:\n",
    "        my_p[ReferenceGood] = ing_prices[1][ReferenceGood]*s\n",
    "        result = solve_subsistence_problem(ing_res[1],my_p,dri_min[group],dri_max[group],tol=tol)\n",
    "        diet[my_p[ReferenceGood]] = result.diet\n",
    "\n",
    "    Diet_response = pd.DataFrame(diet).T\n",
    "    Diet_response.index.name = '%s Price' % ReferenceGood\n",
    "\n",
    "    Diet_response.reset_index(inplace=True)\n",
    "\n",
    "    # Get rid of units for index (cufflinks chokes)\n",
    "    # Diet_response['%s Price' % ReferenceGood] = Diet_response['%s Price' % ReferenceGood].apply(lambda x: x.magnitude)\n",
    "\n",
    "    Diet_response = Diet_response.set_index('%s Price' % ReferenceGood)\n",
    "\n",
    "    # Just look at goods consumed in quantities greater than error tolerance\n",
    "    Diet_response.loc[:,(Diet_response>tol).sum()>0].iplot(xTitle='%s Price' % ReferenceGood,yTitle='Hectograms',\n",
    "                                                          title='Effects of Price Changes on Subsistence Diet Composition Based on Egg Price for '+group)"
   ]
  },
  {
   "cell_type": "markdown",
   "id": "d641f331",
   "metadata": {},
   "source": [
    "## Total Cost for Population of Interest"
   ]
  },
  {
   "cell_type": "markdown",
   "id": "1e720bcb",
   "metadata": {},
   "source": [
    "Our population of interest is all UC berkeley students and we assume they are males and females from 19-30. Based on data from UC Berkeley Office of Planning and Analysis(https://opa.berkeley.edu/campus-data/uc-berkeley-quick-facts), there are 23,974 female students and 20,642 male students in Berkeley for Fall 2022. "
   ]
  },
  {
   "cell_type": "code",
   "execution_count": 23,
   "id": "61b1dc4e",
   "metadata": {},
   "outputs": [
    {
     "data": {
      "text/plain": [
       "240099.02962844836"
      ]
     },
     "execution_count": 23,
     "metadata": {},
     "output_type": "execute_result"
    }
   ],
   "source": [
    "#Cost per capita for female and male student\n",
    "cost_f_1930 = cost_tbl.loc[:,'F 19-30'].min()\n",
    "cost_m_1930 = cost_tbl.loc[:,'M 19-30'].min()\n",
    "\n",
    "num_f = 23974\n",
    "num_m = 20642\n",
    "\n",
    "#Calculation of total cost for all students\n",
    "total_cost = cost_f_1930*num_f + cost_m_1930*num_m\n",
    "total_cost"
   ]
  },
  {
   "cell_type": "markdown",
   "id": "329f1322",
   "metadata": {},
   "source": [
    "### Total Food Required for Population of Interest"
   ]
  },
  {
   "cell_type": "markdown",
   "id": "a07583ea",
   "metadata": {},
   "source": [
    "Still, we consider to feed the population by Ttoust, our cheapest option. "
   ]
  },
  {
   "cell_type": "code",
   "execution_count": 24,
   "id": "cd514dc8",
   "metadata": {},
   "outputs": [
    {
     "name": "stdout",
     "output_type": "stream",
     "text": [
      "Cost of diet for M 19-30 is $5.41 per day.\n",
      "\n",
      "\n",
      "Diet (in 100s of grams or milliliters):\n",
      "Egg                0.748143\n",
      "Purple Cabbage     0.515229\n",
      "Spinach            6.186931\n",
      "Pork               2.443126\n",
      "Flour              1.978106\n",
      "dtype: float64\n",
      "\n"
     ]
    },
    {
     "name": "stderr",
     "output_type": "stream",
     "text": [
      "/tmp/ipykernel_198/2046845037.py:22: UserWarning:\n",
      "\n",
      "Prices have no units.  BE CAREFUL!  We're assuming prices are per hectogram or deciliter!\n",
      "\n"
     ]
    }
   ],
   "source": [
    "#Extract result for male 19-30 in Ttoust\n",
    "group = 'M 19-30'\n",
    "tol = 1e-5\n",
    "\n",
    "result = solve_subsistence_problem(ing_res[1],ing_prices[1],dri_min[group],dri_max[group],tol=tol)\n",
    "\n",
    "print(\"Cost of diet for %s is $%4.2f per day.\\n\" % (group,result.fun))\n",
    "\n",
    "# Put back into nice series\n",
    "diet = result.diet\n",
    "\n",
    "print(\"\\nDiet (in 100s of grams or milliliters):\")\n",
    "print(diet[diet >= tol])  # Drop items with quantities less than precision of calculation.\n",
    "print()"
   ]
  },
  {
   "cell_type": "code",
   "execution_count": 25,
   "id": "0021f644",
   "metadata": {},
   "outputs": [
    {
     "name": "stdout",
     "output_type": "stream",
     "text": [
      "Cost of diet for F 19-30 is $5.35 per day.\n",
      "\n",
      "\n",
      "Diet (in 100s of grams or milliliters):\n",
      "Egg                0.899094\n",
      "Purple Cabbage     0.256304\n",
      "Spinach            6.162313\n",
      "Pork               2.213320\n",
      "Flour              2.310570\n",
      "dtype: float64\n",
      "\n"
     ]
    },
    {
     "name": "stderr",
     "output_type": "stream",
     "text": [
      "/tmp/ipykernel_198/2046845037.py:22: UserWarning:\n",
      "\n",
      "Prices have no units.  BE CAREFUL!  We're assuming prices are per hectogram or deciliter!\n",
      "\n"
     ]
    }
   ],
   "source": [
    "#Extract result for female 19-30 in Ttoust\n",
    "group = 'F 19-30'\n",
    "tol = 1e-5\n",
    "\n",
    "result = solve_subsistence_problem(ing_res[1],ing_prices[1],dri_min[group],dri_max[group],tol=tol)\n",
    "\n",
    "print(\"Cost of diet for %s is $%4.2f per day.\\n\" % (group,result.fun))\n",
    "\n",
    "# Put back into nice series\n",
    "diet = result.diet\n",
    "\n",
    "print(\"\\nDiet (in 100s of grams or milliliters):\")\n",
    "print(diet[diet >= tol])  # Drop items with quantities less than precision of calculation.\n",
    "print()"
   ]
  },
  {
   "cell_type": "code",
   "execution_count": 26,
   "id": "e5f3b882",
   "metadata": {},
   "outputs": [],
   "source": [
    "#Food requirement\n",
    "#Male\n",
    "egg_m = 0.748143\n",
    "pc_m = 0.515229\n",
    "spinach_m = 6.186931\n",
    "pork_m = 2.443126\n",
    "flour_m = 1.978106\n",
    "\n",
    "#Female\n",
    "egg_f = 0.899094\n",
    "pc_f = 0.256304\n",
    "spinach_f = 6.162313\n",
    "pork_f = 2.213320\n",
    "flour_f = 2.310570\n",
    "\n",
    "#Total\n",
    "egg = egg_m*num_m + egg_f*num_f\n",
    "pc = pc_m*num_m + pc_f*num_f\n",
    "spinach = spinach_m*num_m + spinach_f*num_f\n",
    "pork = pork_m*num_m + pork_f*num_f\n",
    "flour = flour_m*num_m + flour_f*num_f"
   ]
  },
  {
   "cell_type": "code",
   "execution_count": 27,
   "id": "18899769",
   "metadata": {},
   "outputs": [
    {
     "name": "stdout",
     "output_type": "stream",
     "text": [
      "We need 3699.8047361999998 kg eggs to feed all UC Berkeley students for one day\n",
      "We need 1677.9989114 kg purple cabbage to feed all UC Berkeley students for one day\n",
      "We need 27544.592156400002 kg spinach to feed all UC Berkeley students for one day\n",
      "We need 10349.314057200001 kg pork to feed all UC Berkeley students for one day\n",
      "We need 9622.566923199998 kg of flour to feed all UC Berkeley students for one day\n"
     ]
    }
   ],
   "source": [
    "print('We need', egg/10, 'kg eggs to feed all UC Berkeley students for one day')\n",
    "print('We need', pc/10, 'kg purple cabbage to feed all UC Berkeley students for one day')\n",
    "print('We need', spinach/10, 'kg spinach to feed all UC Berkeley students for one day')\n",
    "print('We need', pork/10, 'kg pork to feed all UC Berkeley students for one day')\n",
    "print('We need', flour/10, 'kg of flour to feed all UC Berkeley students for one day')"
   ]
  }
 ],
 "metadata": {
  "kernelspec": {
   "display_name": "Python 3 (ipykernel)",
   "language": "python",
   "name": "python3"
  },
  "language_info": {
   "codemirror_mode": {
    "name": "ipython",
    "version": 3
   },
   "file_extension": ".py",
   "mimetype": "text/x-python",
   "name": "python",
   "nbconvert_exporter": "python",
   "pygments_lexer": "ipython3",
   "version": "3.9.15"
  }
 },
 "nbformat": 4,
 "nbformat_minor": 5
}
