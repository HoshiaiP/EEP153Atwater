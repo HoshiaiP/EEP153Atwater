{
 "cells": [
  {
   "cell_type": "markdown",
   "id": "151da743",
   "metadata": {},
   "source": [
    "# EEP 153 Project 2 Subsistence Cost Diet: Atwater"
   ]
  },
  {
   "cell_type": "code",
   "execution_count": 10,
   "id": "d6b4882b",
   "metadata": {},
   "outputs": [
    {
     "name": "stdout",
     "output_type": "stream",
     "text": [
      "Collecting pint>=0.18\n",
      "  Using cached Pint-0.20.1-py3-none-any.whl (269 kB)\n",
      "Requirement already satisfied: requests>=2.26.0 in /opt/conda/lib/python3.9/site-packages (from -r requirements.txt (line 6)) (2.26.0)\n",
      "Collecting python-gnupg\n",
      "  Using cached python_gnupg-0.5.0-py2.py3-none-any.whl (18 kB)\n",
      "Collecting eep153_tools\n",
      "  Using cached eep153_tools-0.11-py2.py3-none-any.whl (4.4 kB)\n",
      "Collecting fooddatacentral\n",
      "  Using cached fooddatacentral-1.0.9-py3-none-any.whl\n",
      "Requirement already satisfied: charset-normalizer~=2.0.0 in /opt/conda/lib/python3.9/site-packages (from requests>=2.26.0->-r requirements.txt (line 6)) (2.0.0)\n",
      "Requirement already satisfied: urllib3<1.27,>=1.21.1 in /opt/conda/lib/python3.9/site-packages (from requests>=2.26.0->-r requirements.txt (line 6)) (1.26.7)\n",
      "Requirement already satisfied: idna<4,>=2.5 in /opt/conda/lib/python3.9/site-packages (from requests>=2.26.0->-r requirements.txt (line 6)) (3.1)\n",
      "Requirement already satisfied: certifi>=2017.4.17 in /opt/conda/lib/python3.9/site-packages (from requests>=2.26.0->-r requirements.txt (line 6)) (2021.10.8)\n",
      "Installing collected packages: python-gnupg, fooddatacentral, eep153_tools, pint\n",
      "  Attempting uninstall: pint\n",
      "    Found existing installation: Pint 0.17\n",
      "    Uninstalling Pint-0.17:\n",
      "      Successfully uninstalled Pint-0.17\n",
      "Successfully installed eep153_tools-0.11 fooddatacentral-1.0.9 pint-0.20.1 python-gnupg-0.5.0\n",
      "Note: you may need to restart the kernel to use updated packages.\n"
     ]
    }
   ],
   "source": [
    "%pip install -r requirements.txt"
   ]
  },
  {
   "cell_type": "code",
   "execution_count": 27,
   "id": "0caf5152",
   "metadata": {},
   "outputs": [],
   "source": [
    "# API key for Gov;\n",
    "apikey = \"bwFohFv0W79JagEjhjfy121CHf29UEljz0OYel1N\""
   ]
  },
  {
   "cell_type": "markdown",
   "id": "fb74970f",
   "metadata": {},
   "source": [
    "## Dietary Reference Intakes"
   ]
  },
  {
   "cell_type": "code",
   "execution_count": 28,
   "id": "df823317",
   "metadata": {},
   "outputs": [],
   "source": [
    "# read in dietary requirements (max and min)\n",
    "import pandas as pd\n",
    "dri_max = pd.read_csv(\"Dietary Requirements Max.csv\").set_index('Nutrition')\n",
    "\n",
    "dri_min = pd.read_csv(\"Dietary Requirements Min.csv\").set_index('Nutrition')\n",
    "\n",
    "# convert units from kcal to kJ\n",
    "temp = dri_max.loc['Energy']\n",
    "temp.iloc[1:] = temp.iloc[1:] * 4.184\n",
    "dri_max.loc['Energy'] = temp\n",
    "\n",
    "temp = dri_min.loc['Energy']\n",
    "temp.iloc[1:] = temp.iloc[1:] * 4.184\n",
    "dri_min.loc['Energy'] = temp"
   ]
  },
  {
   "cell_type": "code",
   "execution_count": 29,
   "id": "aa43c0fb",
   "metadata": {},
   "outputs": [],
   "source": [
    "import re\n",
    "# function for age-sex specific DRI\n",
    "def dri(age,sex,dietmin,dietmax):\n",
    "    if age <= 3:\n",
    "        index = 2\n",
    "\n",
    "    else:\n",
    "        for i, j in enumerate(list(dietmax)[3:]):\n",
    "            if j[0] == sex:\n",
    "                interval = re.findall(r'\\d+', j)\n",
    "                if len(interval) == 1:\n",
    "                    if age >= int(interval[0]):\n",
    "                        index = i + 3\n",
    "                        break\n",
    "                else:\n",
    "                    if age >= int(interval[0]) and age <= int(interval[1]):\n",
    "                        index = i + 3\n",
    "                        break\n",
    "\n",
    "    df = pd.DataFrame({'Nutrition': dietmin.iloc[:, 0],\n",
    "                       'Max/Min': 'Minimum',\n",
    "                       'Age & Sex': list(dietmin)[index],\n",
    "                      'Intake': dietmin.iloc[:, index]})   \n",
    "    df_max = pd.DataFrame({'Nutrition': dietmax.iloc[:, 0],\n",
    "                       'Max/Min': 'Maximum',\n",
    "                       'Age & Sex': list(dietmax)[index],\n",
    "                      'Intake': dietmax.iloc[:, index]})   \n",
    "\n",
    "    df = pd.concat([df, df_max], axis=0)\n",
    "    \n",
    "    return df\n",
    "    "
   ]
  },
  {
   "cell_type": "code",
   "execution_count": 6,
   "id": "f133347b",
   "metadata": {},
   "outputs": [
    {
     "data": {
      "text/html": [
       "<div>\n",
       "<style scoped>\n",
       "    .dataframe tbody tr th:only-of-type {\n",
       "        vertical-align: middle;\n",
       "    }\n",
       "\n",
       "    .dataframe tbody tr th {\n",
       "        vertical-align: top;\n",
       "    }\n",
       "\n",
       "    .dataframe thead th {\n",
       "        text-align: right;\n",
       "    }\n",
       "</style>\n",
       "<table border=\"1\" class=\"dataframe\">\n",
       "  <thead>\n",
       "    <tr style=\"text-align: right;\">\n",
       "      <th></th>\n",
       "      <th>Nutrition</th>\n",
       "      <th>Max/Min</th>\n",
       "      <th>Age &amp; Sex</th>\n",
       "      <th>Intake</th>\n",
       "    </tr>\n",
       "    <tr>\n",
       "      <th>Nutrition</th>\n",
       "      <th></th>\n",
       "      <th></th>\n",
       "      <th></th>\n",
       "      <th></th>\n",
       "    </tr>\n",
       "  </thead>\n",
       "  <tbody>\n",
       "    <tr>\n",
       "      <th>Energy</th>\n",
       "      <td>---</td>\n",
       "      <td>Minimum</td>\n",
       "      <td>F 19-30</td>\n",
       "      <td>8368.0</td>\n",
       "    </tr>\n",
       "    <tr>\n",
       "      <th>Protein</th>\n",
       "      <td>RDA</td>\n",
       "      <td>Minimum</td>\n",
       "      <td>F 19-30</td>\n",
       "      <td>46.0</td>\n",
       "    </tr>\n",
       "    <tr>\n",
       "      <th>Fiber, total dietary</th>\n",
       "      <td>---</td>\n",
       "      <td>Minimum</td>\n",
       "      <td>F 19-30</td>\n",
       "      <td>28.0</td>\n",
       "    </tr>\n",
       "    <tr>\n",
       "      <th>Folate, DFE</th>\n",
       "      <td>RDA</td>\n",
       "      <td>Minimum</td>\n",
       "      <td>F 19-30</td>\n",
       "      <td>400.0</td>\n",
       "    </tr>\n",
       "    <tr>\n",
       "      <th>Calcium, Ca</th>\n",
       "      <td>RDA</td>\n",
       "      <td>Minimum</td>\n",
       "      <td>F 19-30</td>\n",
       "      <td>1000.0</td>\n",
       "    </tr>\n",
       "    <tr>\n",
       "      <th>Carbohydrate, by difference</th>\n",
       "      <td>RDA</td>\n",
       "      <td>Minimum</td>\n",
       "      <td>F 19-30</td>\n",
       "      <td>130.0</td>\n",
       "    </tr>\n",
       "    <tr>\n",
       "      <th>Iron, Fe</th>\n",
       "      <td>RDA</td>\n",
       "      <td>Minimum</td>\n",
       "      <td>F 19-30</td>\n",
       "      <td>18.0</td>\n",
       "    </tr>\n",
       "    <tr>\n",
       "      <th>Magnesium, Mg</th>\n",
       "      <td>RDA</td>\n",
       "      <td>Minimum</td>\n",
       "      <td>F 19-30</td>\n",
       "      <td>310.0</td>\n",
       "    </tr>\n",
       "    <tr>\n",
       "      <th>Niacin</th>\n",
       "      <td>RDA</td>\n",
       "      <td>Minimum</td>\n",
       "      <td>F 19-30</td>\n",
       "      <td>14.0</td>\n",
       "    </tr>\n",
       "    <tr>\n",
       "      <th>Phosphorus, P</th>\n",
       "      <td>RDA</td>\n",
       "      <td>Minimum</td>\n",
       "      <td>F 19-30</td>\n",
       "      <td>700.0</td>\n",
       "    </tr>\n",
       "    <tr>\n",
       "      <th>Potassium, K</th>\n",
       "      <td>AI</td>\n",
       "      <td>Minimum</td>\n",
       "      <td>F 19-30</td>\n",
       "      <td>4700.0</td>\n",
       "    </tr>\n",
       "    <tr>\n",
       "      <th>Riboflavin</th>\n",
       "      <td>RDA</td>\n",
       "      <td>Minimum</td>\n",
       "      <td>F 19-30</td>\n",
       "      <td>1.1</td>\n",
       "    </tr>\n",
       "    <tr>\n",
       "      <th>Thiamin</th>\n",
       "      <td>RDA</td>\n",
       "      <td>Minimum</td>\n",
       "      <td>F 19-30</td>\n",
       "      <td>1.1</td>\n",
       "    </tr>\n",
       "    <tr>\n",
       "      <th>Vitamin A, RAE</th>\n",
       "      <td>RDA</td>\n",
       "      <td>Minimum</td>\n",
       "      <td>F 19-30</td>\n",
       "      <td>700.0</td>\n",
       "    </tr>\n",
       "    <tr>\n",
       "      <th>Vitamin B-12</th>\n",
       "      <td>RDA</td>\n",
       "      <td>Minimum</td>\n",
       "      <td>F 19-30</td>\n",
       "      <td>2.4</td>\n",
       "    </tr>\n",
       "    <tr>\n",
       "      <th>Vitamin B-6</th>\n",
       "      <td>RDA</td>\n",
       "      <td>Minimum</td>\n",
       "      <td>F 19-30</td>\n",
       "      <td>1.3</td>\n",
       "    </tr>\n",
       "    <tr>\n",
       "      <th>Vitamin C, total ascorbic acid</th>\n",
       "      <td>RDA</td>\n",
       "      <td>Minimum</td>\n",
       "      <td>F 19-30</td>\n",
       "      <td>75.0</td>\n",
       "    </tr>\n",
       "    <tr>\n",
       "      <th>Vitamin E (alpha-tocopherol)</th>\n",
       "      <td>RDA</td>\n",
       "      <td>Minimum</td>\n",
       "      <td>F 19-30</td>\n",
       "      <td>15.0</td>\n",
       "    </tr>\n",
       "    <tr>\n",
       "      <th>Vitamin K (phylloquinone)</th>\n",
       "      <td>AI</td>\n",
       "      <td>Minimum</td>\n",
       "      <td>F 19-30</td>\n",
       "      <td>90.0</td>\n",
       "    </tr>\n",
       "    <tr>\n",
       "      <th>Zinc, Zn</th>\n",
       "      <td>RDA</td>\n",
       "      <td>Minimum</td>\n",
       "      <td>F 19-30</td>\n",
       "      <td>8.0</td>\n",
       "    </tr>\n",
       "    <tr>\n",
       "      <th>Sodium, Na</th>\n",
       "      <td>UL</td>\n",
       "      <td>Maximum</td>\n",
       "      <td>F 19-30</td>\n",
       "      <td>2300.0</td>\n",
       "    </tr>\n",
       "    <tr>\n",
       "      <th>Energy</th>\n",
       "      <td>NaN</td>\n",
       "      <td>Maximum</td>\n",
       "      <td>F 19-30</td>\n",
       "      <td>12970.4</td>\n",
       "    </tr>\n",
       "  </tbody>\n",
       "</table>\n",
       "</div>"
      ],
      "text/plain": [
       "                               Nutrition  Max/Min Age & Sex   Intake\n",
       "Nutrition                                                           \n",
       "Energy                               ---  Minimum   F 19-30   8368.0\n",
       "Protein                              RDA  Minimum   F 19-30     46.0\n",
       "Fiber, total dietary                 ---  Minimum   F 19-30     28.0\n",
       "Folate, DFE                          RDA  Minimum   F 19-30    400.0\n",
       "Calcium, Ca                          RDA  Minimum   F 19-30   1000.0\n",
       "Carbohydrate, by difference          RDA  Minimum   F 19-30    130.0\n",
       "Iron, Fe                             RDA  Minimum   F 19-30     18.0\n",
       "Magnesium, Mg                        RDA  Minimum   F 19-30    310.0\n",
       "Niacin                               RDA  Minimum   F 19-30     14.0\n",
       "Phosphorus, P                        RDA  Minimum   F 19-30    700.0\n",
       "Potassium, K                          AI  Minimum   F 19-30   4700.0\n",
       "Riboflavin                           RDA  Minimum   F 19-30      1.1\n",
       "Thiamin                              RDA  Minimum   F 19-30      1.1\n",
       "Vitamin A, RAE                       RDA  Minimum   F 19-30    700.0\n",
       "Vitamin B-12                         RDA  Minimum   F 19-30      2.4\n",
       "Vitamin B-6                          RDA  Minimum   F 19-30      1.3\n",
       "Vitamin C, total ascorbic acid       RDA  Minimum   F 19-30     75.0\n",
       "Vitamin E (alpha-tocopherol)         RDA  Minimum   F 19-30     15.0\n",
       "Vitamin K (phylloquinone)             AI  Minimum   F 19-30     90.0\n",
       "Zinc, Zn                             RDA  Minimum   F 19-30      8.0\n",
       "Sodium, Na                            UL  Maximum   F 19-30   2300.0\n",
       "Energy                               NaN  Maximum   F 19-30  12970.4"
      ]
     },
     "execution_count": 6,
     "metadata": {},
     "output_type": "execute_result"
    }
   ],
   "source": [
    "# Testing: dietary reference intakes for 20-year-old female\n",
    "dri(20, 'F', dri_min, dri_max)"
   ]
  },
  {
   "cell_type": "markdown",
   "id": "8bb305e4",
   "metadata": {},
   "source": [
    "## Data on prices for different foods"
   ]
  },
  {
   "cell_type": "code",
   "execution_count": 30,
   "id": "f418a847",
   "metadata": {},
   "outputs": [
    {
     "data": {
      "text/html": [
       "<div>\n",
       "<style scoped>\n",
       "    .dataframe tbody tr th:only-of-type {\n",
       "        vertical-align: middle;\n",
       "    }\n",
       "\n",
       "    .dataframe tbody tr th {\n",
       "        vertical-align: top;\n",
       "    }\n",
       "\n",
       "    .dataframe thead th {\n",
       "        text-align: right;\n",
       "    }\n",
       "</style>\n",
       "<table border=\"1\" class=\"dataframe\">\n",
       "  <thead>\n",
       "    <tr style=\"text-align: right;\">\n",
       "      <th></th>\n",
       "      <th>Restaurant</th>\n",
       "      <th>Dish</th>\n",
       "      <th>Ingredients</th>\n",
       "      <th>Dish_Price</th>\n",
       "      <th>Quantity</th>\n",
       "      <th>Unit</th>\n",
       "      <th>FDC</th>\n",
       "      <th>Calorie/100g</th>\n",
       "      <th>Ingredient_Price/100 gm</th>\n",
       "    </tr>\n",
       "  </thead>\n",
       "  <tbody>\n",
       "    <tr>\n",
       "      <th>0</th>\n",
       "      <td>Thai Basil</td>\n",
       "      <td>Pineapple Fried Rice</td>\n",
       "      <td>prawns</td>\n",
       "      <td>17.45</td>\n",
       "      <td>140.0000</td>\n",
       "      <td>gram</td>\n",
       "      <td>175180</td>\n",
       "      <td>99.0</td>\n",
       "      <td>1.200</td>\n",
       "    </tr>\n",
       "    <tr>\n",
       "      <th>1</th>\n",
       "      <td>Thai Basil</td>\n",
       "      <td>Pineapple Fried Rice</td>\n",
       "      <td>chicken</td>\n",
       "      <td>17.45</td>\n",
       "      <td>200.0000</td>\n",
       "      <td>gram</td>\n",
       "      <td>331960</td>\n",
       "      <td>152.5</td>\n",
       "      <td>0.490</td>\n",
       "    </tr>\n",
       "    <tr>\n",
       "      <th>2</th>\n",
       "      <td>Thai Basil</td>\n",
       "      <td>Pineapple Fried Rice</td>\n",
       "      <td>egg</td>\n",
       "      <td>17.45</td>\n",
       "      <td>48.0000</td>\n",
       "      <td>gram</td>\n",
       "      <td>748967</td>\n",
       "      <td>145.0</td>\n",
       "      <td>0.500</td>\n",
       "    </tr>\n",
       "    <tr>\n",
       "      <th>3</th>\n",
       "      <td>Thai Basil</td>\n",
       "      <td>Pineapple Fried Rice</td>\n",
       "      <td>Pineapple</td>\n",
       "      <td>17.45</td>\n",
       "      <td>180.0000</td>\n",
       "      <td>gram</td>\n",
       "      <td>2346398</td>\n",
       "      <td>57.0</td>\n",
       "      <td>0.520</td>\n",
       "    </tr>\n",
       "    <tr>\n",
       "      <th>4</th>\n",
       "      <td>Thai Basil</td>\n",
       "      <td>Pineapple Fried Rice</td>\n",
       "      <td>white onion</td>\n",
       "      <td>17.45</td>\n",
       "      <td>80.0000</td>\n",
       "      <td>gram</td>\n",
       "      <td>1104962</td>\n",
       "      <td>34.5</td>\n",
       "      <td>0.498</td>\n",
       "    </tr>\n",
       "    <tr>\n",
       "      <th>...</th>\n",
       "      <td>...</td>\n",
       "      <td>...</td>\n",
       "      <td>...</td>\n",
       "      <td>...</td>\n",
       "      <td>...</td>\n",
       "      <td>...</td>\n",
       "      <td>...</td>\n",
       "      <td>...</td>\n",
       "      <td>...</td>\n",
       "    </tr>\n",
       "    <tr>\n",
       "      <th>181</th>\n",
       "      <td>Poke Bar</td>\n",
       "      <td>Wazzup Poke Bowl</td>\n",
       "      <td>cucumber</td>\n",
       "      <td>15.95</td>\n",
       "      <td>28.3500</td>\n",
       "      <td>gram</td>\n",
       "      <td>168409</td>\n",
       "      <td>15.0</td>\n",
       "      <td>0.880</td>\n",
       "    </tr>\n",
       "    <tr>\n",
       "      <th>182</th>\n",
       "      <td>Poke Bar</td>\n",
       "      <td>Wazzup Poke Bowl</td>\n",
       "      <td>green onion</td>\n",
       "      <td>15.95</td>\n",
       "      <td>7.0875</td>\n",
       "      <td>gram</td>\n",
       "      <td>170006</td>\n",
       "      <td>27.0</td>\n",
       "      <td>0.440</td>\n",
       "    </tr>\n",
       "    <tr>\n",
       "      <th>183</th>\n",
       "      <td>Poke Bar</td>\n",
       "      <td>Wazzup Poke Bowl</td>\n",
       "      <td>ponzu</td>\n",
       "      <td>15.95</td>\n",
       "      <td>35.4375</td>\n",
       "      <td>gram</td>\n",
       "      <td>2451144</td>\n",
       "      <td>33.0</td>\n",
       "      <td>1.900</td>\n",
       "    </tr>\n",
       "    <tr>\n",
       "      <th>184</th>\n",
       "      <td>Poke Bar</td>\n",
       "      <td>Wazzup Poke Bowl</td>\n",
       "      <td>wasabi</td>\n",
       "      <td>15.95</td>\n",
       "      <td>452.1825</td>\n",
       "      <td>gram</td>\n",
       "      <td>171831</td>\n",
       "      <td>292.0</td>\n",
       "      <td>8.780</td>\n",
       "    </tr>\n",
       "    <tr>\n",
       "      <th>185</th>\n",
       "      <td>Poke Bar</td>\n",
       "      <td>Wazzup Poke Bowl</td>\n",
       "      <td>mayo</td>\n",
       "      <td>15.95</td>\n",
       "      <td>35.4375</td>\n",
       "      <td>gram</td>\n",
       "      <td>171002</td>\n",
       "      <td>334.0</td>\n",
       "      <td>0.560</td>\n",
       "    </tr>\n",
       "  </tbody>\n",
       "</table>\n",
       "<p>186 rows × 9 columns</p>\n",
       "</div>"
      ],
      "text/plain": [
       "     Restaurant                  Dish  Ingredients  Dish_Price  Quantity  \\\n",
       "0    Thai Basil  Pineapple Fried Rice       prawns       17.45  140.0000   \n",
       "1    Thai Basil  Pineapple Fried Rice      chicken       17.45  200.0000   \n",
       "2    Thai Basil  Pineapple Fried Rice          egg       17.45   48.0000   \n",
       "3    Thai Basil  Pineapple Fried Rice    Pineapple       17.45  180.0000   \n",
       "4    Thai Basil  Pineapple Fried Rice  white onion       17.45   80.0000   \n",
       "..          ...                   ...          ...         ...       ...   \n",
       "181    Poke Bar      Wazzup Poke Bowl     cucumber       15.95   28.3500   \n",
       "182    Poke Bar      Wazzup Poke Bowl  green onion       15.95    7.0875   \n",
       "183    Poke Bar      Wazzup Poke Bowl        ponzu       15.95   35.4375   \n",
       "184    Poke Bar      Wazzup Poke Bowl       wasabi       15.95  452.1825   \n",
       "185    Poke Bar      Wazzup Poke Bowl         mayo       15.95   35.4375   \n",
       "\n",
       "     Unit      FDC  Calorie/100g  Ingredient_Price/100 gm  \n",
       "0    gram   175180          99.0                    1.200  \n",
       "1    gram   331960         152.5                    0.490  \n",
       "2    gram   748967         145.0                    0.500  \n",
       "3    gram  2346398          57.0                    0.520  \n",
       "4    gram  1104962          34.5                    0.498  \n",
       "..    ...      ...           ...                      ...  \n",
       "181  gram   168409          15.0                    0.880  \n",
       "182  gram   170006          27.0                    0.440  \n",
       "183  gram  2451144          33.0                    1.900  \n",
       "184  gram   171831         292.0                    8.780  \n",
       "185  gram   171002         334.0                    0.560  \n",
       "\n",
       "[186 rows x 9 columns]"
      ]
     },
     "execution_count": 30,
     "metadata": {},
     "output_type": "execute_result"
    }
   ],
   "source": [
    "# get food list from four restaurants\n",
    "food_list_total = pd.read_csv(\"FoodList.csv\")\n",
    "food_list_total = food_list_total.astype({\"FDC\": str})\n",
    "food_list_total"
   ]
  },
  {
   "cell_type": "code",
   "execution_count": 8,
   "id": "24b6d19b",
   "metadata": {},
   "outputs": [],
   "source": [
    "# construct food lists by restaurant\n",
    "grouped = food_list_total.groupby(food_list_total.Restaurant)\n",
    "restaurants = ['Thai Basil', 'Ttoust', 'IB', 'Poke Bar']\n",
    "\n",
    "food_list_res = []\n",
    "\n",
    "for r in restaurants: \n",
    "    food_list_res.append(grouped.get_group(r))\n",
    "    "
   ]
  },
  {
   "cell_type": "code",
   "execution_count": 36,
   "id": "4505c460",
   "metadata": {},
   "outputs": [],
   "source": [
    "import fooddatacentral as fdc\n",
    "import warnings\n",
    "from collections import defaultdict\n",
    "\n",
    "# get nutritional information for ingredients\n",
    "ing_res = []\n",
    "ing_res_list = []\n",
    "for i in range(4):\n",
    "    L = []\n",
    "    D = {}\n",
    "    items = []\n",
    "    count = 0\n",
    "    food_list = food_list_res[i]\n",
    "    for food in food_list.Ingredients.tolist():\n",
    "        try:\n",
    "            FDC = food_list.iloc[count,:].FDC\n",
    "            count+=1\n",
    "            temp = fdc.nutrients(apikey,FDC)\n",
    "            key = temp.Units\n",
    "            # convert units if necessary\n",
    "            if 'Energy' in key.index:\n",
    "                if key['Energy'] != 'kJ':\n",
    "                    temp.Quantity['Energy'] = temp.Quantity['Energy']*4.184\n",
    "\n",
    "            L.append(temp.Quantity)\n",
    "            D[food] = temp.Quantity\n",
    "            items.append(food)\n",
    "        except AttributeError: \n",
    "            warnings.warn(\"Couldn't find FDC Code %s for food %s.\" % (food,FDC))     \n",
    "\n",
    "    # construct nutrient tables\n",
    "    # list version\n",
    "    FoodNutrients_Ing = pd.DataFrame(L,dtype=float)\n",
    "    FoodNutrients_Ing.index = items\n",
    "    FoodNutrients_Ing = FoodNutrients_Ing.fillna(0)\n",
    "    FoodNutrients_Ing = FoodNutrients_Ing.transpose() \n",
    "    ing_res_list.append(FoodNutrients_Ing)\n",
    "    # dictionary version\n",
    "    FoodNutrients_Ing_d = pd.DataFrame(D,dtype=float)\n",
    "    FoodNutrients_Ing_d = FoodNutrients_Ing_d.fillna(0)\n",
    "    ing_res.append(FoodNutrients_Ing_d)"
   ]
  },
  {
   "cell_type": "code",
   "execution_count": 37,
   "id": "ece77585",
   "metadata": {},
   "outputs": [
    {
     "data": {
      "text/html": [
       "<div>\n",
       "<style scoped>\n",
       "    .dataframe tbody tr th:only-of-type {\n",
       "        vertical-align: middle;\n",
       "    }\n",
       "\n",
       "    .dataframe tbody tr th {\n",
       "        vertical-align: top;\n",
       "    }\n",
       "\n",
       "    .dataframe thead th {\n",
       "        text-align: right;\n",
       "    }\n",
       "</style>\n",
       "<table border=\"1\" class=\"dataframe\">\n",
       "  <thead>\n",
       "    <tr style=\"text-align: right;\">\n",
       "      <th></th>\n",
       "      <th>prawns</th>\n",
       "      <th>chicken</th>\n",
       "      <th>egg</th>\n",
       "      <th>Pineapple</th>\n",
       "      <th>white onion</th>\n",
       "      <th>raisins</th>\n",
       "      <th>cashew nuts</th>\n",
       "      <th>peas</th>\n",
       "      <th>carrots</th>\n",
       "      <th>chicken</th>\n",
       "      <th>...</th>\n",
       "      <th>pork</th>\n",
       "      <th>imitation crab</th>\n",
       "      <th>prawns</th>\n",
       "      <th>mushrooms</th>\n",
       "      <th>white onion</th>\n",
       "      <th>rice</th>\n",
       "      <th>catfish</th>\n",
       "      <th>eggplant</th>\n",
       "      <th>red curry</th>\n",
       "      <th>rice</th>\n",
       "    </tr>\n",
       "  </thead>\n",
       "  <tbody>\n",
       "    <tr>\n",
       "      <th>Proximates</th>\n",
       "      <td>0.00</td>\n",
       "      <td>0.00</td>\n",
       "      <td>0.00</td>\n",
       "      <td>0.000000</td>\n",
       "      <td>0.00</td>\n",
       "      <td>0.000000</td>\n",
       "      <td>0.00</td>\n",
       "      <td>0.00</td>\n",
       "      <td>0.00000</td>\n",
       "      <td>0.0</td>\n",
       "      <td>...</td>\n",
       "      <td>0.00</td>\n",
       "      <td>0.00000</td>\n",
       "      <td>0.00</td>\n",
       "      <td>0.000000</td>\n",
       "      <td>0.00</td>\n",
       "      <td>0.00</td>\n",
       "      <td>0.00</td>\n",
       "      <td>0.00</td>\n",
       "      <td>0.000000</td>\n",
       "      <td>0.00</td>\n",
       "    </tr>\n",
       "    <tr>\n",
       "      <th>Water</th>\n",
       "      <td>74.33</td>\n",
       "      <td>65.30</td>\n",
       "      <td>75.80</td>\n",
       "      <td>84.990000</td>\n",
       "      <td>91.30</td>\n",
       "      <td>15.500000</td>\n",
       "      <td>5.20</td>\n",
       "      <td>78.86</td>\n",
       "      <td>87.72000</td>\n",
       "      <td>93.9</td>\n",
       "      <td>...</td>\n",
       "      <td>24.76</td>\n",
       "      <td>74.70000</td>\n",
       "      <td>74.33</td>\n",
       "      <td>88.600000</td>\n",
       "      <td>91.30</td>\n",
       "      <td>11.60</td>\n",
       "      <td>79.06</td>\n",
       "      <td>92.30</td>\n",
       "      <td>0.000000</td>\n",
       "      <td>11.60</td>\n",
       "    </tr>\n",
       "    <tr>\n",
       "      <th>Energy</th>\n",
       "      <td>415.00</td>\n",
       "      <td>695.00</td>\n",
       "      <td>617.00</td>\n",
       "      <td>0.000000</td>\n",
       "      <td>148.00</td>\n",
       "      <td>5234.250944</td>\n",
       "      <td>2314.00</td>\n",
       "      <td>339.00</td>\n",
       "      <td>0.00000</td>\n",
       "      <td>84.0</td>\n",
       "      <td>...</td>\n",
       "      <td>2645.00</td>\n",
       "      <td>1663.05632</td>\n",
       "      <td>415.00</td>\n",
       "      <td>0.000000</td>\n",
       "      <td>148.00</td>\n",
       "      <td>1500.00</td>\n",
       "      <td>496.00</td>\n",
       "      <td>104.00</td>\n",
       "      <td>2328.278848</td>\n",
       "      <td>1500.00</td>\n",
       "    </tr>\n",
       "    <tr>\n",
       "      <th>Protein</th>\n",
       "      <td>23.98</td>\n",
       "      <td>32.10</td>\n",
       "      <td>12.40</td>\n",
       "      <td>0.460938</td>\n",
       "      <td>0.89</td>\n",
       "      <td>3.300000</td>\n",
       "      <td>18.22</td>\n",
       "      <td>5.42</td>\n",
       "      <td>0.94125</td>\n",
       "      <td>0.7</td>\n",
       "      <td>...</td>\n",
       "      <td>9.25</td>\n",
       "      <td>7.62000</td>\n",
       "      <td>23.98</td>\n",
       "      <td>2.414375</td>\n",
       "      <td>0.89</td>\n",
       "      <td>6.94</td>\n",
       "      <td>15.23</td>\n",
       "      <td>0.98</td>\n",
       "      <td>6.670000</td>\n",
       "      <td>6.94</td>\n",
       "    </tr>\n",
       "    <tr>\n",
       "      <th>Total lipid (fat)</th>\n",
       "      <td>0.28</td>\n",
       "      <td>3.24</td>\n",
       "      <td>9.96</td>\n",
       "      <td>0.211300</td>\n",
       "      <td>0.13</td>\n",
       "      <td>0.250000</td>\n",
       "      <td>43.85</td>\n",
       "      <td>0.40</td>\n",
       "      <td>0.35060</td>\n",
       "      <td>0.1</td>\n",
       "      <td>...</td>\n",
       "      <td>65.70</td>\n",
       "      <td>0.46000</td>\n",
       "      <td>0.28</td>\n",
       "      <td>0.195000</td>\n",
       "      <td>0.13</td>\n",
       "      <td>1.30</td>\n",
       "      <td>5.94</td>\n",
       "      <td>0.18</td>\n",
       "      <td>3.330000</td>\n",
       "      <td>1.30</td>\n",
       "    </tr>\n",
       "    <tr>\n",
       "      <th>...</th>\n",
       "      <td>...</td>\n",
       "      <td>...</td>\n",
       "      <td>...</td>\n",
       "      <td>...</td>\n",
       "      <td>...</td>\n",
       "      <td>...</td>\n",
       "      <td>...</td>\n",
       "      <td>...</td>\n",
       "      <td>...</td>\n",
       "      <td>...</td>\n",
       "      <td>...</td>\n",
       "      <td>...</td>\n",
       "      <td>...</td>\n",
       "      <td>...</td>\n",
       "      <td>...</td>\n",
       "      <td>...</td>\n",
       "      <td>...</td>\n",
       "      <td>...</td>\n",
       "      <td>...</td>\n",
       "      <td>...</td>\n",
       "      <td>...</td>\n",
       "    </tr>\n",
       "    <tr>\n",
       "      <th>Beta-sitostanol</th>\n",
       "      <td>0.00</td>\n",
       "      <td>0.00</td>\n",
       "      <td>0.00</td>\n",
       "      <td>0.000000</td>\n",
       "      <td>0.00</td>\n",
       "      <td>0.000000</td>\n",
       "      <td>0.00</td>\n",
       "      <td>0.00</td>\n",
       "      <td>0.00000</td>\n",
       "      <td>0.0</td>\n",
       "      <td>...</td>\n",
       "      <td>0.00</td>\n",
       "      <td>0.00000</td>\n",
       "      <td>0.00</td>\n",
       "      <td>0.000000</td>\n",
       "      <td>0.00</td>\n",
       "      <td>0.00</td>\n",
       "      <td>0.00</td>\n",
       "      <td>0.00</td>\n",
       "      <td>0.000000</td>\n",
       "      <td>0.00</td>\n",
       "    </tr>\n",
       "    <tr>\n",
       "      <th>Delta-5-avenasterol</th>\n",
       "      <td>0.00</td>\n",
       "      <td>0.00</td>\n",
       "      <td>0.00</td>\n",
       "      <td>0.000000</td>\n",
       "      <td>0.00</td>\n",
       "      <td>0.000000</td>\n",
       "      <td>0.00</td>\n",
       "      <td>0.00</td>\n",
       "      <td>0.00000</td>\n",
       "      <td>0.0</td>\n",
       "      <td>...</td>\n",
       "      <td>0.00</td>\n",
       "      <td>0.00000</td>\n",
       "      <td>0.00</td>\n",
       "      <td>0.000000</td>\n",
       "      <td>0.00</td>\n",
       "      <td>0.00</td>\n",
       "      <td>0.00</td>\n",
       "      <td>0.00</td>\n",
       "      <td>0.000000</td>\n",
       "      <td>0.00</td>\n",
       "    </tr>\n",
       "    <tr>\n",
       "      <th>Delta-7-Stigmastenol</th>\n",
       "      <td>0.00</td>\n",
       "      <td>0.00</td>\n",
       "      <td>0.00</td>\n",
       "      <td>0.000000</td>\n",
       "      <td>0.00</td>\n",
       "      <td>0.000000</td>\n",
       "      <td>0.00</td>\n",
       "      <td>0.00</td>\n",
       "      <td>0.00000</td>\n",
       "      <td>0.0</td>\n",
       "      <td>...</td>\n",
       "      <td>0.00</td>\n",
       "      <td>0.00000</td>\n",
       "      <td>0.00</td>\n",
       "      <td>0.000000</td>\n",
       "      <td>0.00</td>\n",
       "      <td>0.00</td>\n",
       "      <td>0.00</td>\n",
       "      <td>0.00</td>\n",
       "      <td>0.000000</td>\n",
       "      <td>0.00</td>\n",
       "    </tr>\n",
       "    <tr>\n",
       "      <th>Ergothioneine</th>\n",
       "      <td>0.00</td>\n",
       "      <td>0.00</td>\n",
       "      <td>0.00</td>\n",
       "      <td>0.000000</td>\n",
       "      <td>0.00</td>\n",
       "      <td>0.000000</td>\n",
       "      <td>0.00</td>\n",
       "      <td>0.00</td>\n",
       "      <td>0.00000</td>\n",
       "      <td>0.0</td>\n",
       "      <td>...</td>\n",
       "      <td>0.00</td>\n",
       "      <td>0.00000</td>\n",
       "      <td>0.00</td>\n",
       "      <td>11.060000</td>\n",
       "      <td>0.00</td>\n",
       "      <td>0.00</td>\n",
       "      <td>0.00</td>\n",
       "      <td>0.00</td>\n",
       "      <td>0.000000</td>\n",
       "      <td>0.00</td>\n",
       "    </tr>\n",
       "    <tr>\n",
       "      <th>Vitamin K (Menaquinone-4)</th>\n",
       "      <td>0.00</td>\n",
       "      <td>0.00</td>\n",
       "      <td>0.00</td>\n",
       "      <td>0.000000</td>\n",
       "      <td>0.00</td>\n",
       "      <td>0.000000</td>\n",
       "      <td>0.00</td>\n",
       "      <td>0.00</td>\n",
       "      <td>0.00000</td>\n",
       "      <td>0.0</td>\n",
       "      <td>...</td>\n",
       "      <td>0.00</td>\n",
       "      <td>0.00000</td>\n",
       "      <td>0.00</td>\n",
       "      <td>0.000000</td>\n",
       "      <td>0.00</td>\n",
       "      <td>0.00</td>\n",
       "      <td>0.60</td>\n",
       "      <td>0.00</td>\n",
       "      <td>0.000000</td>\n",
       "      <td>0.00</td>\n",
       "    </tr>\n",
       "  </tbody>\n",
       "</table>\n",
       "<p>206 rows × 41 columns</p>\n",
       "</div>"
      ],
      "text/plain": [
       "                           prawns  chicken     egg  Pineapple  white onion  \\\n",
       "Proximates                   0.00     0.00    0.00   0.000000         0.00   \n",
       "Water                       74.33    65.30   75.80  84.990000        91.30   \n",
       "Energy                     415.00   695.00  617.00   0.000000       148.00   \n",
       "Protein                     23.98    32.10   12.40   0.460938         0.89   \n",
       "Total lipid (fat)            0.28     3.24    9.96   0.211300         0.13   \n",
       "...                           ...      ...     ...        ...          ...   \n",
       "Beta-sitostanol              0.00     0.00    0.00   0.000000         0.00   \n",
       "Delta-5-avenasterol          0.00     0.00    0.00   0.000000         0.00   \n",
       "Delta-7-Stigmastenol         0.00     0.00    0.00   0.000000         0.00   \n",
       "Ergothioneine                0.00     0.00    0.00   0.000000         0.00   \n",
       "Vitamin K (Menaquinone-4)    0.00     0.00    0.00   0.000000         0.00   \n",
       "\n",
       "                               raisins  cashew nuts    peas   carrots  \\\n",
       "Proximates                    0.000000         0.00    0.00   0.00000   \n",
       "Water                        15.500000         5.20   78.86  87.72000   \n",
       "Energy                     5234.250944      2314.00  339.00   0.00000   \n",
       "Protein                       3.300000        18.22    5.42   0.94125   \n",
       "Total lipid (fat)             0.250000        43.85    0.40   0.35060   \n",
       "...                                ...          ...     ...       ...   \n",
       "Beta-sitostanol               0.000000         0.00    0.00   0.00000   \n",
       "Delta-5-avenasterol           0.000000         0.00    0.00   0.00000   \n",
       "Delta-7-Stigmastenol          0.000000         0.00    0.00   0.00000   \n",
       "Ergothioneine                 0.000000         0.00    0.00   0.00000   \n",
       "Vitamin K (Menaquinone-4)     0.000000         0.00    0.00   0.00000   \n",
       "\n",
       "                           chicken  ...     pork  imitation crab  prawns  \\\n",
       "Proximates                     0.0  ...     0.00         0.00000    0.00   \n",
       "Water                         93.9  ...    24.76        74.70000   74.33   \n",
       "Energy                        84.0  ...  2645.00      1663.05632  415.00   \n",
       "Protein                        0.7  ...     9.25         7.62000   23.98   \n",
       "Total lipid (fat)              0.1  ...    65.70         0.46000    0.28   \n",
       "...                            ...  ...      ...             ...     ...   \n",
       "Beta-sitostanol                0.0  ...     0.00         0.00000    0.00   \n",
       "Delta-5-avenasterol            0.0  ...     0.00         0.00000    0.00   \n",
       "Delta-7-Stigmastenol           0.0  ...     0.00         0.00000    0.00   \n",
       "Ergothioneine                  0.0  ...     0.00         0.00000    0.00   \n",
       "Vitamin K (Menaquinone-4)      0.0  ...     0.00         0.00000    0.00   \n",
       "\n",
       "                           mushrooms  white onion     rice  catfish  \\\n",
       "Proximates                  0.000000         0.00     0.00     0.00   \n",
       "Water                      88.600000        91.30    11.60    79.06   \n",
       "Energy                      0.000000       148.00  1500.00   496.00   \n",
       "Protein                     2.414375         0.89     6.94    15.23   \n",
       "Total lipid (fat)           0.195000         0.13     1.30     5.94   \n",
       "...                              ...          ...      ...      ...   \n",
       "Beta-sitostanol             0.000000         0.00     0.00     0.00   \n",
       "Delta-5-avenasterol         0.000000         0.00     0.00     0.00   \n",
       "Delta-7-Stigmastenol        0.000000         0.00     0.00     0.00   \n",
       "Ergothioneine              11.060000         0.00     0.00     0.00   \n",
       "Vitamin K (Menaquinone-4)   0.000000         0.00     0.00     0.60   \n",
       "\n",
       "                           eggplant     red curry     rice  \n",
       "Proximates                      0.00     0.000000     0.00  \n",
       "Water                          92.30     0.000000    11.60  \n",
       "Energy                        104.00  2328.278848  1500.00  \n",
       "Protein                         0.98     6.670000     6.94  \n",
       "Total lipid (fat)               0.18     3.330000     1.30  \n",
       "...                              ...          ...      ...  \n",
       "Beta-sitostanol                 0.00     0.000000     0.00  \n",
       "Delta-5-avenasterol             0.00     0.000000     0.00  \n",
       "Delta-7-Stigmastenol            0.00     0.000000     0.00  \n",
       "Ergothioneine                   0.00     0.000000     0.00  \n",
       "Vitamin K (Menaquinone-4)       0.00     0.000000     0.00  \n",
       "\n",
       "[206 rows x 41 columns]"
      ]
     },
     "execution_count": 37,
     "metadata": {},
     "output_type": "execute_result"
    }
   ],
   "source": [
    "# example: nutrient table for Thai Basil\n",
    "ing_res_list[0]"
   ]
  },
  {
   "cell_type": "code",
   "execution_count": 46,
   "id": "a4a78b29",
   "metadata": {},
   "outputs": [],
   "source": [
    "# construct price vector for dishes\n",
    "# Convert food quantities to FDC units\n",
    "food_list_total['FDC Quantity'] = food_list_total[['Quantity','Unit']].T.apply(lambda x : fdc.units(x['Quantity'],x['Unit']))\n",
    "\n",
    "food_list_total['FDC Price'] = food_list_total['Dish_Price']/food_list_total.groupby('Dish',sort=False)['FDC Quantity'].sum()\n",
    "\n",
    "food_list_total.dropna(how='any') \n",
    "\n",
    "Dish_Prices = food_list_total.groupby('Dish',sort=False)['Dish_Price'].min()/food_list_total.groupby('Dish',sort=False)['FDC Quantity'].sum()"
   ]
  },
  {
   "cell_type": "markdown",
   "id": "9c8eba50",
   "metadata": {},
   "source": [
    "## Table of nutritional information for dishes"
   ]
  },
  {
   "cell_type": "code",
   "execution_count": 60,
   "id": "4a03f2e9",
   "metadata": {},
   "outputs": [
    {
     "data": {
      "text/html": [
       "<div>\n",
       "<style scoped>\n",
       "    .dataframe tbody tr th:only-of-type {\n",
       "        vertical-align: middle;\n",
       "    }\n",
       "\n",
       "    .dataframe tbody tr th {\n",
       "        vertical-align: top;\n",
       "    }\n",
       "\n",
       "    .dataframe thead th {\n",
       "        text-align: right;\n",
       "    }\n",
       "</style>\n",
       "<table border=\"1\" class=\"dataframe\">\n",
       "  <thead>\n",
       "    <tr style=\"text-align: right;\">\n",
       "      <th></th>\n",
       "      <th>Pineapple Fried Rice</th>\n",
       "      <th>Basil Eggplant Chicken</th>\n",
       "      <th>Pad Kee Mow Chicken</th>\n",
       "      <th>Pad Thai Chicken &amp; Prawns</th>\n",
       "      <th>Combo Garlic Pepper</th>\n",
       "      <th>Spicy Basil Catfish</th>\n",
       "      <th>Bibim Bop</th>\n",
       "      <th>Kimchi Soup</th>\n",
       "      <th>Galbi Short Rib</th>\n",
       "      <th>Spicy Rice Cake</th>\n",
       "      <th>...</th>\n",
       "      <th>Veggie Combo</th>\n",
       "      <th>IB's Original(chicken)</th>\n",
       "      <th>IB's Original(beef)</th>\n",
       "      <th>IB's Original(lamb)</th>\n",
       "      <th>Original Salmon Poke Bowl</th>\n",
       "      <th>Firecracker Poke Bowl</th>\n",
       "      <th>Sunset House Poke Bowl</th>\n",
       "      <th>The O.G. Poke Bowl</th>\n",
       "      <th>Goodie Mob Poke Bowl</th>\n",
       "      <th>Wazzup Poke Bowl</th>\n",
       "    </tr>\n",
       "  </thead>\n",
       "  <tbody>\n",
       "    <tr>\n",
       "      <th>Proximates</th>\n",
       "      <td>0.000000</td>\n",
       "      <td>0.000000</td>\n",
       "      <td>0.000000</td>\n",
       "      <td>0.00</td>\n",
       "      <td>0.000000</td>\n",
       "      <td>0.000000</td>\n",
       "      <td>0.000000e+00</td>\n",
       "      <td>0.000000e+00</td>\n",
       "      <td>0.000000e+00</td>\n",
       "      <td>0.000000e+00</td>\n",
       "      <td>...</td>\n",
       "      <td>0.000000e+00</td>\n",
       "      <td>0.000000e+00</td>\n",
       "      <td>0.000000e+00</td>\n",
       "      <td>0.000000e+00</td>\n",
       "      <td>0.000000</td>\n",
       "      <td>0.000000e+00</td>\n",
       "      <td>0.000000e+00</td>\n",
       "      <td>0.000000e+00</td>\n",
       "      <td>0.000000</td>\n",
       "      <td>0.000000</td>\n",
       "    </tr>\n",
       "    <tr>\n",
       "      <th>Water</th>\n",
       "      <td>579.000000</td>\n",
       "      <td>473.040000</td>\n",
       "      <td>513.500000</td>\n",
       "      <td>474.33</td>\n",
       "      <td>504.290000</td>\n",
       "      <td>182.960000</td>\n",
       "      <td>5.141800e+02</td>\n",
       "      <td>4.503900e+02</td>\n",
       "      <td>4.079100e+02</td>\n",
       "      <td>5.425200e+02</td>\n",
       "      <td>...</td>\n",
       "      <td>5.997200e+02</td>\n",
       "      <td>4.979900e+02</td>\n",
       "      <td>5.063900e+02</td>\n",
       "      <td>4.921600e+02</td>\n",
       "      <td>349.970000</td>\n",
       "      <td>3.493700e+02</td>\n",
       "      <td>4.245400e+02</td>\n",
       "      <td>3.368300e+02</td>\n",
       "      <td>444.350000</td>\n",
       "      <td>448.360000</td>\n",
       "    </tr>\n",
       "    <tr>\n",
       "      <th>Energy</th>\n",
       "      <td>9762.250944</td>\n",
       "      <td>1930.000000</td>\n",
       "      <td>4395.477952</td>\n",
       "      <td>4972.00</td>\n",
       "      <td>7578.056320</td>\n",
       "      <td>4428.278848</td>\n",
       "      <td>3.699143e+08</td>\n",
       "      <td>3.727082e+08</td>\n",
       "      <td>3.751580e+08</td>\n",
       "      <td>3.723758e+08</td>\n",
       "      <td>...</td>\n",
       "      <td>1.561929e+08</td>\n",
       "      <td>1.561928e+08</td>\n",
       "      <td>1.561926e+08</td>\n",
       "      <td>1.561933e+08</td>\n",
       "      <td>203829.476256</td>\n",
       "      <td>3.047023e+06</td>\n",
       "      <td>2.862573e+06</td>\n",
       "      <td>2.914639e+06</td>\n",
       "      <td>62263.178881</td>\n",
       "      <td>15002.014812</td>\n",
       "    </tr>\n",
       "    <tr>\n",
       "      <th>Protein</th>\n",
       "      <td>97.712187</td>\n",
       "      <td>13.541875</td>\n",
       "      <td>25.511875</td>\n",
       "      <td>102.38</td>\n",
       "      <td>106.594375</td>\n",
       "      <td>29.820000</td>\n",
       "      <td>4.609000e+01</td>\n",
       "      <td>9.712000e+01</td>\n",
       "      <td>1.153900e+02</td>\n",
       "      <td>3.242000e+01</td>\n",
       "      <td>...</td>\n",
       "      <td>5.016000e+01</td>\n",
       "      <td>7.982000e+01</td>\n",
       "      <td>7.112000e+01</td>\n",
       "      <td>6.428000e+01</td>\n",
       "      <td>42.170000</td>\n",
       "      <td>3.061000e+01</td>\n",
       "      <td>5.624000e+01</td>\n",
       "      <td>4.455000e+01</td>\n",
       "      <td>41.900000</td>\n",
       "      <td>33.200000</td>\n",
       "    </tr>\n",
       "    <tr>\n",
       "      <th>Total lipid (fat)</th>\n",
       "      <td>58.671900</td>\n",
       "      <td>2.505600</td>\n",
       "      <td>11.285600</td>\n",
       "      <td>69.83</td>\n",
       "      <td>73.785000</td>\n",
       "      <td>10.750000</td>\n",
       "      <td>1.404000e+01</td>\n",
       "      <td>1.132000e+02</td>\n",
       "      <td>9.508000e+01</td>\n",
       "      <td>5.040000e+00</td>\n",
       "      <td>...</td>\n",
       "      <td>1.456100e+02</td>\n",
       "      <td>1.330100e+02</td>\n",
       "      <td>1.322500e+02</td>\n",
       "      <td>1.531800e+02</td>\n",
       "      <td>81.880000</td>\n",
       "      <td>1.200000e+02</td>\n",
       "      <td>7.125000e+01</td>\n",
       "      <td>6.389000e+01</td>\n",
       "      <td>13.850000</td>\n",
       "      <td>46.890000</td>\n",
       "    </tr>\n",
       "    <tr>\n",
       "      <th>...</th>\n",
       "      <td>...</td>\n",
       "      <td>...</td>\n",
       "      <td>...</td>\n",
       "      <td>...</td>\n",
       "      <td>...</td>\n",
       "      <td>...</td>\n",
       "      <td>...</td>\n",
       "      <td>...</td>\n",
       "      <td>...</td>\n",
       "      <td>...</td>\n",
       "      <td>...</td>\n",
       "      <td>...</td>\n",
       "      <td>...</td>\n",
       "      <td>...</td>\n",
       "      <td>...</td>\n",
       "      <td>...</td>\n",
       "      <td>...</td>\n",
       "      <td>...</td>\n",
       "      <td>...</td>\n",
       "      <td>...</td>\n",
       "      <td>...</td>\n",
       "    </tr>\n",
       "    <tr>\n",
       "      <th>Fatty acids, total trans-polyenoic</th>\n",
       "      <td>0.000000</td>\n",
       "      <td>0.000000</td>\n",
       "      <td>0.000000</td>\n",
       "      <td>0.00</td>\n",
       "      <td>0.132000</td>\n",
       "      <td>0.024000</td>\n",
       "      <td>0.000000e+00</td>\n",
       "      <td>1.320000e-01</td>\n",
       "      <td>0.000000e+00</td>\n",
       "      <td>0.000000e+00</td>\n",
       "      <td>...</td>\n",
       "      <td>3.340000e-01</td>\n",
       "      <td>3.340000e-01</td>\n",
       "      <td>3.340000e-01</td>\n",
       "      <td>3.340000e-01</td>\n",
       "      <td>0.000000</td>\n",
       "      <td>0.000000e+00</td>\n",
       "      <td>0.000000e+00</td>\n",
       "      <td>0.000000e+00</td>\n",
       "      <td>0.000000</td>\n",
       "      <td>0.023000</td>\n",
       "    </tr>\n",
       "    <tr>\n",
       "      <th>Fluoride, F</th>\n",
       "      <td>0.000000</td>\n",
       "      <td>0.000000</td>\n",
       "      <td>0.000000</td>\n",
       "      <td>0.00</td>\n",
       "      <td>0.000000</td>\n",
       "      <td>0.000000</td>\n",
       "      <td>4.100000e+01</td>\n",
       "      <td>1.100000e+00</td>\n",
       "      <td>1.100000e+00</td>\n",
       "      <td>6.400000e+00</td>\n",
       "      <td>...</td>\n",
       "      <td>2.300000e+00</td>\n",
       "      <td>2.300000e+00</td>\n",
       "      <td>2.300000e+00</td>\n",
       "      <td>2.300000e+00</td>\n",
       "      <td>0.000000</td>\n",
       "      <td>1.300000e+00</td>\n",
       "      <td>1.300000e+00</td>\n",
       "      <td>0.000000e+00</td>\n",
       "      <td>1.300000</td>\n",
       "      <td>1.300000</td>\n",
       "    </tr>\n",
       "    <tr>\n",
       "      <th>Phytosterols</th>\n",
       "      <td>0.000000</td>\n",
       "      <td>7.000000</td>\n",
       "      <td>0.000000</td>\n",
       "      <td>0.00</td>\n",
       "      <td>0.000000</td>\n",
       "      <td>7.000000</td>\n",
       "      <td>0.000000e+00</td>\n",
       "      <td>1.500000e+01</td>\n",
       "      <td>7.670000e+02</td>\n",
       "      <td>4.100000e+01</td>\n",
       "      <td>...</td>\n",
       "      <td>4.500000e+01</td>\n",
       "      <td>4.500000e+01</td>\n",
       "      <td>4.500000e+01</td>\n",
       "      <td>4.500000e+01</td>\n",
       "      <td>0.000000</td>\n",
       "      <td>1.400000e+01</td>\n",
       "      <td>1.400000e+01</td>\n",
       "      <td>0.000000e+00</td>\n",
       "      <td>14.000000</td>\n",
       "      <td>14.000000</td>\n",
       "    </tr>\n",
       "    <tr>\n",
       "      <th>Sugars, added</th>\n",
       "      <td>0.000000</td>\n",
       "      <td>0.000000</td>\n",
       "      <td>0.000000</td>\n",
       "      <td>0.00</td>\n",
       "      <td>0.000000</td>\n",
       "      <td>0.000000</td>\n",
       "      <td>0.000000e+00</td>\n",
       "      <td>0.000000e+00</td>\n",
       "      <td>1.000000e+02</td>\n",
       "      <td>1.000000e+02</td>\n",
       "      <td>...</td>\n",
       "      <td>0.000000e+00</td>\n",
       "      <td>0.000000e+00</td>\n",
       "      <td>0.000000e+00</td>\n",
       "      <td>0.000000e+00</td>\n",
       "      <td>0.000000</td>\n",
       "      <td>1.330000e+01</td>\n",
       "      <td>1.330000e+01</td>\n",
       "      <td>1.330000e+01</td>\n",
       "      <td>0.000000</td>\n",
       "      <td>0.000000</td>\n",
       "    </tr>\n",
       "    <tr>\n",
       "      <th>PUFA 18:3i</th>\n",
       "      <td>0.000000</td>\n",
       "      <td>0.000000</td>\n",
       "      <td>0.000000</td>\n",
       "      <td>0.00</td>\n",
       "      <td>0.000000</td>\n",
       "      <td>0.000000</td>\n",
       "      <td>0.000000e+00</td>\n",
       "      <td>0.000000e+00</td>\n",
       "      <td>0.000000e+00</td>\n",
       "      <td>0.000000e+00</td>\n",
       "      <td>...</td>\n",
       "      <td>3.000000e-03</td>\n",
       "      <td>3.000000e-03</td>\n",
       "      <td>3.000000e-03</td>\n",
       "      <td>3.000000e-03</td>\n",
       "      <td>0.000000</td>\n",
       "      <td>0.000000e+00</td>\n",
       "      <td>0.000000e+00</td>\n",
       "      <td>0.000000e+00</td>\n",
       "      <td>0.000000</td>\n",
       "      <td>0.000000</td>\n",
       "    </tr>\n",
       "  </tbody>\n",
       "</table>\n",
       "<p>144 rows × 23 columns</p>\n",
       "</div>"
      ],
      "text/plain": [
       "                                    Pineapple Fried Rice  \\\n",
       "Proximates                                      0.000000   \n",
       "Water                                         579.000000   \n",
       "Energy                                       9762.250944   \n",
       "Protein                                        97.712187   \n",
       "Total lipid (fat)                              58.671900   \n",
       "...                                                  ...   \n",
       "Fatty acids, total trans-polyenoic              0.000000   \n",
       "Fluoride, F                                     0.000000   \n",
       "Phytosterols                                    0.000000   \n",
       "Sugars, added                                   0.000000   \n",
       "PUFA 18:3i                                      0.000000   \n",
       "\n",
       "                                    Basil Eggplant Chicken  \\\n",
       "Proximates                                        0.000000   \n",
       "Water                                           473.040000   \n",
       "Energy                                         1930.000000   \n",
       "Protein                                          13.541875   \n",
       "Total lipid (fat)                                 2.505600   \n",
       "...                                                    ...   \n",
       "Fatty acids, total trans-polyenoic                0.000000   \n",
       "Fluoride, F                                       0.000000   \n",
       "Phytosterols                                      7.000000   \n",
       "Sugars, added                                     0.000000   \n",
       "PUFA 18:3i                                        0.000000   \n",
       "\n",
       "                                    Pad Kee Mow Chicken  \\\n",
       "Proximates                                     0.000000   \n",
       "Water                                        513.500000   \n",
       "Energy                                      4395.477952   \n",
       "Protein                                       25.511875   \n",
       "Total lipid (fat)                             11.285600   \n",
       "...                                                 ...   \n",
       "Fatty acids, total trans-polyenoic             0.000000   \n",
       "Fluoride, F                                    0.000000   \n",
       "Phytosterols                                   0.000000   \n",
       "Sugars, added                                  0.000000   \n",
       "PUFA 18:3i                                     0.000000   \n",
       "\n",
       "                                    Pad Thai Chicken & Prawns  \\\n",
       "Proximates                                               0.00   \n",
       "Water                                                  474.33   \n",
       "Energy                                                4972.00   \n",
       "Protein                                                102.38   \n",
       "Total lipid (fat)                                       69.83   \n",
       "...                                                       ...   \n",
       "Fatty acids, total trans-polyenoic                       0.00   \n",
       "Fluoride, F                                              0.00   \n",
       "Phytosterols                                             0.00   \n",
       "Sugars, added                                            0.00   \n",
       "PUFA 18:3i                                               0.00   \n",
       "\n",
       "                                    Combo Garlic Pepper  Spicy Basil Catfish  \\\n",
       "Proximates                                     0.000000             0.000000   \n",
       "Water                                        504.290000           182.960000   \n",
       "Energy                                      7578.056320          4428.278848   \n",
       "Protein                                      106.594375            29.820000   \n",
       "Total lipid (fat)                             73.785000            10.750000   \n",
       "...                                                 ...                  ...   \n",
       "Fatty acids, total trans-polyenoic             0.132000             0.024000   \n",
       "Fluoride, F                                    0.000000             0.000000   \n",
       "Phytosterols                                   0.000000             7.000000   \n",
       "Sugars, added                                  0.000000             0.000000   \n",
       "PUFA 18:3i                                     0.000000             0.000000   \n",
       "\n",
       "                                       Bibim Bop   Kimchi Soup  \\\n",
       "Proximates                          0.000000e+00  0.000000e+00   \n",
       "Water                               5.141800e+02  4.503900e+02   \n",
       "Energy                              3.699143e+08  3.727082e+08   \n",
       "Protein                             4.609000e+01  9.712000e+01   \n",
       "Total lipid (fat)                   1.404000e+01  1.132000e+02   \n",
       "...                                          ...           ...   \n",
       "Fatty acids, total trans-polyenoic  0.000000e+00  1.320000e-01   \n",
       "Fluoride, F                         4.100000e+01  1.100000e+00   \n",
       "Phytosterols                        0.000000e+00  1.500000e+01   \n",
       "Sugars, added                       0.000000e+00  0.000000e+00   \n",
       "PUFA 18:3i                          0.000000e+00  0.000000e+00   \n",
       "\n",
       "                                    Galbi Short Rib  Spicy Rice Cake  ...  \\\n",
       "Proximates                             0.000000e+00     0.000000e+00  ...   \n",
       "Water                                  4.079100e+02     5.425200e+02  ...   \n",
       "Energy                                 3.751580e+08     3.723758e+08  ...   \n",
       "Protein                                1.153900e+02     3.242000e+01  ...   \n",
       "Total lipid (fat)                      9.508000e+01     5.040000e+00  ...   \n",
       "...                                             ...              ...  ...   \n",
       "Fatty acids, total trans-polyenoic     0.000000e+00     0.000000e+00  ...   \n",
       "Fluoride, F                            1.100000e+00     6.400000e+00  ...   \n",
       "Phytosterols                           7.670000e+02     4.100000e+01  ...   \n",
       "Sugars, added                          1.000000e+02     1.000000e+02  ...   \n",
       "PUFA 18:3i                             0.000000e+00     0.000000e+00  ...   \n",
       "\n",
       "                                    Veggie Combo  IB's Original(chicken)  \\\n",
       "Proximates                          0.000000e+00            0.000000e+00   \n",
       "Water                               5.997200e+02            4.979900e+02   \n",
       "Energy                              1.561929e+08            1.561928e+08   \n",
       "Protein                             5.016000e+01            7.982000e+01   \n",
       "Total lipid (fat)                   1.456100e+02            1.330100e+02   \n",
       "...                                          ...                     ...   \n",
       "Fatty acids, total trans-polyenoic  3.340000e-01            3.340000e-01   \n",
       "Fluoride, F                         2.300000e+00            2.300000e+00   \n",
       "Phytosterols                        4.500000e+01            4.500000e+01   \n",
       "Sugars, added                       0.000000e+00            0.000000e+00   \n",
       "PUFA 18:3i                          3.000000e-03            3.000000e-03   \n",
       "\n",
       "                                    IB's Original(beef)  IB's Original(lamb)  \\\n",
       "Proximates                                 0.000000e+00         0.000000e+00   \n",
       "Water                                      5.063900e+02         4.921600e+02   \n",
       "Energy                                     1.561926e+08         1.561933e+08   \n",
       "Protein                                    7.112000e+01         6.428000e+01   \n",
       "Total lipid (fat)                          1.322500e+02         1.531800e+02   \n",
       "...                                                 ...                  ...   \n",
       "Fatty acids, total trans-polyenoic         3.340000e-01         3.340000e-01   \n",
       "Fluoride, F                                2.300000e+00         2.300000e+00   \n",
       "Phytosterols                               4.500000e+01         4.500000e+01   \n",
       "Sugars, added                              0.000000e+00         0.000000e+00   \n",
       "PUFA 18:3i                                 3.000000e-03         3.000000e-03   \n",
       "\n",
       "                                    Original Salmon Poke Bowl  \\\n",
       "Proximates                                           0.000000   \n",
       "Water                                              349.970000   \n",
       "Energy                                          203829.476256   \n",
       "Protein                                             42.170000   \n",
       "Total lipid (fat)                                   81.880000   \n",
       "...                                                       ...   \n",
       "Fatty acids, total trans-polyenoic                   0.000000   \n",
       "Fluoride, F                                          0.000000   \n",
       "Phytosterols                                         0.000000   \n",
       "Sugars, added                                        0.000000   \n",
       "PUFA 18:3i                                           0.000000   \n",
       "\n",
       "                                    Firecracker Poke Bowl  \\\n",
       "Proximates                                   0.000000e+00   \n",
       "Water                                        3.493700e+02   \n",
       "Energy                                       3.047023e+06   \n",
       "Protein                                      3.061000e+01   \n",
       "Total lipid (fat)                            1.200000e+02   \n",
       "...                                                   ...   \n",
       "Fatty acids, total trans-polyenoic           0.000000e+00   \n",
       "Fluoride, F                                  1.300000e+00   \n",
       "Phytosterols                                 1.400000e+01   \n",
       "Sugars, added                                1.330000e+01   \n",
       "PUFA 18:3i                                   0.000000e+00   \n",
       "\n",
       "                                    Sunset House Poke Bowl  \\\n",
       "Proximates                                    0.000000e+00   \n",
       "Water                                         4.245400e+02   \n",
       "Energy                                        2.862573e+06   \n",
       "Protein                                       5.624000e+01   \n",
       "Total lipid (fat)                             7.125000e+01   \n",
       "...                                                    ...   \n",
       "Fatty acids, total trans-polyenoic            0.000000e+00   \n",
       "Fluoride, F                                   1.300000e+00   \n",
       "Phytosterols                                  1.400000e+01   \n",
       "Sugars, added                                 1.330000e+01   \n",
       "PUFA 18:3i                                    0.000000e+00   \n",
       "\n",
       "                                    The O.G. Poke Bowl  Goodie Mob Poke Bowl  \\\n",
       "Proximates                                0.000000e+00              0.000000   \n",
       "Water                                     3.368300e+02            444.350000   \n",
       "Energy                                    2.914639e+06          62263.178881   \n",
       "Protein                                   4.455000e+01             41.900000   \n",
       "Total lipid (fat)                         6.389000e+01             13.850000   \n",
       "...                                                ...                   ...   \n",
       "Fatty acids, total trans-polyenoic        0.000000e+00              0.000000   \n",
       "Fluoride, F                               0.000000e+00              1.300000   \n",
       "Phytosterols                              0.000000e+00             14.000000   \n",
       "Sugars, added                             1.330000e+01              0.000000   \n",
       "PUFA 18:3i                                0.000000e+00              0.000000   \n",
       "\n",
       "                                    Wazzup Poke Bowl  \n",
       "Proximates                                  0.000000  \n",
       "Water                                     448.360000  \n",
       "Energy                                  15002.014812  \n",
       "Protein                                    33.200000  \n",
       "Total lipid (fat)                          46.890000  \n",
       "...                                              ...  \n",
       "Fatty acids, total trans-polyenoic          0.023000  \n",
       "Fluoride, F                                 1.300000  \n",
       "Phytosterols                               14.000000  \n",
       "Sugars, added                               0.000000  \n",
       "PUFA 18:3i                                  0.000000  \n",
       "\n",
       "[144 rows x 23 columns]"
      ]
     },
     "execution_count": 60,
     "metadata": {},
     "output_type": "execute_result"
    }
   ],
   "source": [
    "# construct nutrient table for dishes\n",
    "FoodNutrients_Ing_total = pd.DataFrame()\n",
    "for t in ing_res_list:\n",
    "    FoodNutrients_Ing_total = pd.concat([FoodNutrients_Ing_total, t], axis=1)\n",
    "    \n",
    "FoodNutrients_Ing_total = FoodNutrients_Ing_total.fillna(0)\n",
    "\n",
    "\n",
    "dishes = food_list_total.groupby('Dish',sort=False)['Ingredients'].count()\n",
    "\n",
    "FoodNutrients = pd.DataFrame(columns=dishes.keys().tolist(),\n",
    "                  index=FoodNutrients_Ing.index, )\n",
    "\n",
    "# sum up nutrients of each ingredient of the dishes\n",
    "start = 0\n",
    "for i, column in enumerate(FoodNutrients): \n",
    "\n",
    "    FoodNutrients[column] = FoodNutrients_Ing_total.iloc[:, start:start+dishes[i]].sum(axis=1)\n",
    "    start = start+dishes[i]\n",
    "\n",
    "FoodNutrients"
   ]
  },
  {
   "cell_type": "code",
   "execution_count": 55,
   "id": "f0911518",
   "metadata": {},
   "outputs": [
    {
     "data": {
      "text/plain": [
       "Dish\n",
       "Pineapple Fried Rice          2.326666666666666 / hectogram\n",
       "Basil Eggplant Chicken       1.9074074074074074 / hectogram\n",
       "Pad Kee Mow Chicken           2.653225806451613 / hectogram\n",
       "Pad Thai Chicken & Prawns     1.852497096399535 / hectogram\n",
       "Combo Garlic Pepper          1.8911335578002246 / hectogram\n",
       "Spicy Basil Catfish          1.8994708994708995 / hectogram\n",
       "Bibim Bop                     3.021598272138229 / hectogram\n",
       "Kimchi Soup                  2.7539370078740157 / hectogram\n",
       "Galbi Short Rib               4.401988636363637 / hectogram\n",
       "Spicy Rice Cake               1.635846372688478 / hectogram\n",
       "BBQ Chicken                   2.013888888888889 / hectogram\n",
       "Cheeseburger                  2.472527472527472 / hectogram\n",
       "Avogobble sandwich           3.1055900621118013 / hectogram\n",
       "Veggie Combo                  3.535353535353536 / hectogram\n",
       "IB's Original(chicken)       2.2569444444444446 / hectogram\n",
       "IB's Original(beef)          2.2569444444444446 / hectogram\n",
       "IB's Original(lamb)          2.2569444444444446 / hectogram\n",
       "Original Salmon Poke Bowl    3.2149155958679763 / hectogram\n",
       "Firecracker Poke Bowl         6.082272748939414 / hectogram\n",
       "Sunset House Poke Bowl       2.6790963298899806 / hectogram\n",
       "The O.G. Poke Bowl           1.7337757450751807 / hectogram\n",
       "Goodie Mob Poke Bowl         1.7472367368847699 / hectogram\n",
       "Wazzup Poke Bowl             1.6819438842358623 / hectogram\n",
       "dtype: object"
      ]
     },
     "execution_count": 55,
     "metadata": {},
     "output_type": "execute_result"
    }
   ],
   "source": [
    "# price vector for dishes\n",
    "Dish_Prices"
   ]
  },
  {
   "cell_type": "code",
   "execution_count": 48,
   "id": "99d2e303",
   "metadata": {},
   "outputs": [],
   "source": [
    "# construct price vector for ingredients\n",
    "ing_prices = []\n",
    "for r in food_list_res:\n",
    "    food_list = r\n",
    "    food_list['FDC Quantity'] = food_list[['Quantity','Unit']].T.apply(lambda x : fdc.units(x['Quantity'],x['Unit']))\n",
    "\n",
    "    # Now may want to filter df by time or place--need to get a unique set of food names.\n",
    "    food_list['FDC Price'] = food_list['Ingredient_Price/100 gm']\n",
    "\n",
    "    food_list.dropna(how='any') # Drop food with any missing data\n",
    "\n",
    "    # To use minimum price observed\n",
    "    Ingredient_Prices = food_list.groupby('Ingredients',sort=False)['FDC Price'].min()\n",
    "    ing_prices.append(Ingredient_Prices)"
   ]
  },
  {
   "cell_type": "code",
   "execution_count": 49,
   "id": "59d52999",
   "metadata": {},
   "outputs": [
    {
     "data": {
      "text/plain": [
       "Ingredients\n",
       "salmon            2.20\n",
       "white rice        0.28\n",
       "sweet onion       0.44\n",
       "green onion       0.44\n",
       "kale              0.88\n",
       "shoyu             1.69\n",
       "spicy mayo        1.38\n",
       "ahi tuna          2.36\n",
       "cucumber          0.88\n",
       "sweet chili       1.05\n",
       "house dressing    3.17\n",
       "edamame           0.56\n",
       "ponzu             1.90\n",
       "tofu              0.74\n",
       "wasabi            8.78\n",
       "mayo              0.56\n",
       "Name: FDC Price, dtype: float64"
      ]
     },
     "execution_count": 49,
     "metadata": {},
     "output_type": "execute_result"
    }
   ],
   "source": [
    "# Example: ingredient prices for Poke bar (per 100g)\n",
    "ing_prices[3]"
   ]
  },
  {
   "cell_type": "markdown",
   "id": "8e4a5314",
   "metadata": {},
   "source": [
    "## Solution"
   ]
  },
  {
   "cell_type": "code",
   "execution_count": 50,
   "id": "48c6388d",
   "metadata": {},
   "outputs": [],
   "source": [
    "from  scipy.optimize import linprog as lp\n",
    "import numpy as np\n",
    "import warnings\n",
    "\n",
    "def solve_subsistence_problem(FoodNutrients,Prices,dietmin,dietmax,max_weight=None,tol=1e-6):\n",
    "    \"\"\"Solve Stigler's Subsistence Cost Problem.\n",
    "\n",
    "    Inputs:\n",
    "       - FoodNutrients : A pd.DataFrame with rows corresponding to foods, columns to nutrients.\n",
    "       - Prices : A pd.Series of prices for different foods\n",
    "       - diet_min : A pd.Series of DRIs, with index corresponding to columns of FoodNutrients,\n",
    "                    describing minimum intakes.\n",
    "       - diet_max : A pd.Series of DRIs, with index corresponding to columns of FoodNutrients,\n",
    "                    describing maximum intakes.\n",
    "       - max_weight : Maximum weight (in hectograms) allowed for diet.\n",
    "       - tol : Solution values smaller than this in absolute value treated as zeros.\n",
    "       \n",
    "    \"\"\"\n",
    "    try: \n",
    "        p = Prices.apply(lambda x:x.magnitude)\n",
    "    except AttributeError:  # Maybe not passing in prices with units?\n",
    "        warnings.warn(\"Prices have no units.  BE CAREFUL!  We're assuming prices are per hectogram or deciliter!\")\n",
    "        p = Prices\n",
    "\n",
    "    p = p.dropna()\n",
    "\n",
    "    # Compile list that we have both prices and nutritional info for; drop if either missing\n",
    "    use = p.index.intersection(FoodNutrients.columns)\n",
    "    p = p[use]\n",
    "\n",
    "    # Drop nutritional information for foods we don't know the price of,\n",
    "    # and replace missing nutrients with zeros.\n",
    "    Aall = FoodNutrients[p.index].fillna(0)\n",
    "    #print(Aall)\n",
    "    # Drop rows of A that we don't have constraints for.\n",
    "    Amin = Aall.loc[Aall.index.intersection(dietmin.index)]\n",
    "    #print(dietmin)\n",
    "    #print(Amin)\n",
    "    Amin = Amin.reindex(dietmin.index,axis=0)\n",
    "    #print(dietmin.index)\n",
    "    #print(Amin)\n",
    "    idx = Amin.index.to_frame()\n",
    "    #print(Amin)\n",
    "    idx['type'] = 'min'\n",
    "    #print(Amin)\n",
    "    #Amin.index = pd.MultiIndex.from_frame(idx)\n",
    "    #dietmin.index = Amin.index\n",
    "    \n",
    "    \n",
    "\n",
    "    Amax = Aall.loc[Aall.index.intersection(dietmax.index)]\n",
    "    Amax = Amax.reindex(dietmax.index,axis=0)\n",
    "    idx = Amax.index.to_frame()\n",
    "    idx['type'] = 'max'\n",
    "    #Amax.index = pd.MultiIndex.from_frame(idx)\n",
    "    #dietmax.index = Amax.index\n",
    "\n",
    "    # Minimum requirements involve multiplying constraint by -1 to make <=.\n",
    "    A = pd.concat([Amin,\n",
    "                   -Amax])\n",
    "\n",
    "    b = pd.concat([dietmin,\n",
    "                   -dietmax]) # Note sign change for max constraints\n",
    "\n",
    "    # Make sure order of p, A, b are consistent\n",
    "    A = A.reindex(p.index,axis=1)\n",
    "    A = A.reindex(b.index,axis=0)\n",
    "\n",
    "    if max_weight is not None:\n",
    "        # Add up weights of foods consumed\n",
    "        A.loc['Hectograms'] = -1\n",
    "        b.loc['Hectograms'] = -max_weight\n",
    "    #print(p)\n",
    "    #print(A)\n",
    "    #print(b)\n",
    "    # Now solve problem!  (Note that the linear program solver we'll use assumes\n",
    "    # \"less-than-or-equal\" constraints.  We can switch back and forth by\n",
    "    # multiplying $A$ and $b$ by $-1$.)\n",
    "\n",
    "    result = lp(p, -A, -b, method='interior-point', options={'presolve': True,\n",
    "                                                            'cholesky':False, \n",
    "                                                            'sym_pos':False,\n",
    "                                                            'lstsq':True})\n",
    "\n",
    "    result.A = A\n",
    "    result.b = b\n",
    "    \n",
    "    if result.success:\n",
    "        result.diet = pd.Series(result.x,index=p.index)\n",
    "    else: # No feasible solution?\n",
    "        warnings.warn(result.message)\n",
    "        result.diet = pd.Series(result.x,index=p.index)*np.nan  \n",
    "\n",
    "    return result"
   ]
  },
  {
   "cell_type": "markdown",
   "id": "8a1f5b7d",
   "metadata": {},
   "source": [
    "### Dish-based Solution"
   ]
  },
  {
   "cell_type": "code",
   "execution_count": 66,
   "id": "a34f721c",
   "metadata": {},
   "outputs": [
    {
     "name": "stdout",
     "output_type": "stream",
     "text": [
      "Cost of diet for F 19-30 is $5.74 per day.\n",
      "\n",
      "\n",
      "Diet (in 100s of grams or milliliters):\n",
      "Series([], dtype: float64)\n",
      "\n",
      "\n",
      "With the following nutritional outcomes of interest:\n",
      "                                Outcome  Recommendation\n",
      "Nutrition                                              \n",
      "Energy                              NaN          8368.0\n",
      "Protein                             NaN            46.0\n",
      "Fiber, total dietary                NaN            28.0\n",
      "Folate, DFE                         NaN           400.0\n",
      "Calcium, Ca                         NaN          1000.0\n",
      "Carbohydrate, by difference         NaN           130.0\n",
      "Iron, Fe                            NaN            18.0\n",
      "Magnesium, Mg                       NaN           310.0\n",
      "Niacin                              NaN            14.0\n",
      "Phosphorus, P                       NaN           700.0\n",
      "Potassium, K                        NaN          4700.0\n",
      "Riboflavin                          NaN             1.1\n",
      "Thiamin                             NaN             1.1\n",
      "Vitamin A, RAE                      NaN           700.0\n",
      "Vitamin B-12                        NaN             2.4\n",
      "Vitamin B-6                         NaN             1.3\n",
      "Vitamin C, total ascorbic acid      NaN            75.0\n",
      "Vitamin E (alpha-tocopherol)        NaN            15.0\n",
      "Vitamin K (phylloquinone)           NaN            90.0\n",
      "Zinc, Zn                            NaN             8.0\n",
      "Sodium, Na                          NaN          2300.0\n",
      "Energy                              NaN         12970.4\n",
      "\n",
      "\n",
      "Constraining nutrients are:\n",
      "[]\n"
     ]
    },
    {
     "name": "stderr",
     "output_type": "stream",
     "text": [
      "/tmp/ipykernel_30/2046845037.py:91: UserWarning:\n",
      "\n",
      "The solution does not satisfy the constraints within the required tolerance of 3.16E-04, yet no errors were raised and there is no certificate of infeasibility or unboundedness. Check whether the slack and constraint residuals are acceptable; if not, consider enabling presolve, adjusting the tolerance option(s), and/or using a different method. Please consider submitting a bug report.\n",
      "\n"
     ]
    }
   ],
   "source": [
    "#dish-based result\n",
    "group = 'F 19-30'\n",
    "tol = 1e-6\n",
    "\n",
    "result = solve_subsistence_problem(FoodNutrients,Dish_Prices,dri_min[group],dri_max[group],tol=tol)\n",
    "\n",
    "print(\"Cost of diet for %s is $%4.2f per day.\\n\" % (group,result.fun))\n",
    "\n",
    "# Put back into nice series\n",
    "diet = result.diet\n",
    "\n",
    "print(\"\\nDiet (in 100s of grams or milliliters):\")\n",
    "print(diet[diet >= tol])  # Drop items with quantities less than precision of calculation.\n",
    "print()\n",
    "\n",
    "tab = pd.DataFrame({\"Outcome\":np.abs(result.A).dot(diet),\"Recommendation\":np.abs(result.b)})\n",
    "print(\"\\nWith the following nutritional outcomes of interest:\")\n",
    "print(tab)\n",
    "print()\n",
    "\n",
    "print(\"\\nConstraining nutrients are:\")\n",
    "excess = tab.diff(axis=1).iloc[:,1]\n",
    "print(excess.loc[np.abs(excess) < tol*100].index.tolist())\n",
    "\n",
    "# no feasible solution"
   ]
  },
  {
   "cell_type": "markdown",
   "id": "7c83382a",
   "metadata": {},
   "source": [
    "### Ingredient-based solutions"
   ]
  },
  {
   "cell_type": "code",
   "execution_count": 79,
   "id": "c886a1c4",
   "metadata": {},
   "outputs": [
    {
     "name": "stderr",
     "output_type": "stream",
     "text": [
      "/tmp/ipykernel_30/2046845037.py:22: UserWarning:\n",
      "\n",
      "Prices have no units.  BE CAREFUL!  We're assuming prices are per hectogram or deciliter!\n",
      "\n",
      "/tmp/ipykernel_30/2046845037.py:22: UserWarning:\n",
      "\n",
      "Prices have no units.  BE CAREFUL!  We're assuming prices are per hectogram or deciliter!\n",
      "\n",
      "/tmp/ipykernel_30/2046845037.py:22: UserWarning:\n",
      "\n",
      "Prices have no units.  BE CAREFUL!  We're assuming prices are per hectogram or deciliter!\n",
      "\n",
      "/tmp/ipykernel_30/2046845037.py:22: UserWarning:\n",
      "\n",
      "Prices have no units.  BE CAREFUL!  We're assuming prices are per hectogram or deciliter!\n",
      "\n",
      "/tmp/ipykernel_30/2046845037.py:22: UserWarning:\n",
      "\n",
      "Prices have no units.  BE CAREFUL!  We're assuming prices are per hectogram or deciliter!\n",
      "\n"
     ]
    },
    {
     "name": "stdout",
     "output_type": "stream",
     "text": [
      "Result for restaurant: Thai Basil\n",
      "Cost of diet for C 1-3 is $4.05 per day.\n",
      "\n",
      "\n",
      "Diet (in 100s of grams or milliliters):\n",
      "egg         1.653595\n",
      "carrots     1.385275\n",
      "rice        0.709294\n",
      "broccoli    0.294118\n",
      "peanuts     3.263896\n",
      "tofu        1.812969\n",
      "dtype: float64\n",
      "\n",
      "\n",
      "With the following nutritional outcomes of interest:\n",
      "                                     Outcome  Recommendation\n",
      "Nutrition                                                   \n",
      "Energy                          10460.000000          4184.0\n",
      "Protein                           129.501998            13.0\n",
      "Fiber, total dietary               34.722740            14.0\n",
      "Folate, DFE                       780.071041           150.0\n",
      "Calcium, Ca                       700.000000           700.0\n",
      "Carbohydrate, by difference       130.000000           130.0\n",
      "Iron, Fe                           14.715686             7.0\n",
      "Magnesium, Mg                     616.643092            80.0\n",
      "Niacin                             43.412963             6.0\n",
      "Phosphorus, P                    1686.069041           460.0\n",
      "Potassium, K                     3000.000000          3000.0\n",
      "Riboflavin                          1.285557             0.5\n",
      "Thiamin                             2.435177             0.5\n",
      "Vitamin A, RAE                    300.000000           300.0\n",
      "Vitamin B-12                        1.686667             0.9\n",
      "Vitamin B-6                         1.528240             0.5\n",
      "Vitamin C, total ascorbic acid     28.847207            15.0\n",
      "Vitamin E (alpha-tocopherol)       21.455273             6.0\n",
      "Vitamin K (phylloquinone)          30.000000            30.0\n",
      "Zinc, Zn                           17.804583             3.0\n",
      "Sodium, Na                        439.949438          1500.0\n",
      "Energy                          10460.000000         10460.0\n",
      "\n",
      "\n",
      "Constraining nutrients are:\n",
      "['Calcium, Ca', 'Carbohydrate, by difference', 'Potassium, K', 'Vitamin A, RAE', 'Vitamin K (phylloquinone)', 'Energy']\n",
      "Result for restaurant: Ttoust\n",
      "Cost of diet for C 1-3 is $3.25 per day.\n",
      "\n",
      "\n",
      "Diet (in 100s of grams or milliliters):\n",
      "Egg            0.882353\n",
      "Spinach        1.534268\n",
      "Sesame         0.285546\n",
      "Brown Sugar    0.000944\n",
      "Flour          5.164784\n",
      "dtype: float64\n",
      "\n",
      "\n",
      "With the following nutritional outcomes of interest:\n",
      "                                     Outcome  Recommendation\n",
      "Nutrition                                                   \n",
      "Energy                          10459.989587          4184.0\n",
      "Protein                            70.194256            13.0\n",
      "Fiber, total dietary               74.710358            14.0\n",
      "Folate, DFE                       396.315053           150.0\n",
      "Calcium, Ca                       700.000000           700.0\n",
      "Carbohydrate, by difference       398.064174           130.0\n",
      "Iron, Fe                           30.266907             7.0\n",
      "Magnesium, Mg                     848.046471            80.0\n",
      "Niacin                             29.657132             6.0\n",
      "Phosphorus, P                    2096.105559           460.0\n",
      "Potassium, K                     3000.000000          3000.0\n",
      "Riboflavin                          1.773302             0.5\n",
      "Thiamin                             1.973504             0.5\n",
      "Vitamin A, RAE                    962.780067           300.0\n",
      "Vitamin B-12                        0.900000             0.9\n",
      "Vitamin B-6                         1.638936             0.5\n",
      "Vitamin C, total ascorbic acid     15.035828            15.0\n",
      "Vitamin E (alpha-tocopherol)        6.000000             6.0\n",
      "Vitamin K (phylloquinone)         767.127875            30.0\n",
      "Zinc, Zn                           19.760902             3.0\n",
      "Sodium, Na                        239.857660          1500.0\n",
      "Energy                          10459.989587         10460.0\n",
      "\n",
      "\n",
      "Constraining nutrients are:\n",
      "['Calcium, Ca', 'Potassium, K', 'Vitamin B-12', 'Vitamin E (alpha-tocopherol)']\n",
      "Result for restaurant: IB\n",
      "Cost of diet for C 1-3 is $5.05 per day.\n",
      "\n",
      "\n",
      "Diet (in 100s of grams or milliliters):\n",
      "bun               0.121414\n",
      "ketchup           0.901194\n",
      "onion             2.501639\n",
      "lettuce           0.075837\n",
      "cheddar cheese    0.334762\n",
      "grilled onion     0.000002\n",
      "mustard           0.000007\n",
      "sandwich bun      0.121414\n",
      "avocado           8.819999\n",
      "cheese            0.334762\n",
      "dtype: float64\n",
      "\n",
      "\n",
      "With the following nutritional outcomes of interest:\n",
      "                                    Outcome  Recommendation\n",
      "Nutrition                                                  \n",
      "Energy                          9968.188323          4184.0\n",
      "Protein                           41.294902            13.0\n",
      "Fiber, total dietary              64.840556            14.0\n",
      "Folate, DFE                      876.393249           150.0\n",
      "Calcium, Ca                      700.000012           700.0\n",
      "Carbohydrate, by difference      130.000000           130.0\n",
      "Iron, Fe                           7.000000             7.0\n",
      "Magnesium, Mg                    317.575512            80.0\n",
      "Niacin                            19.337955             6.0\n",
      "Phosphorus, P                    922.505326           460.0\n",
      "Potassium, K                    5196.270609          3000.0\n",
      "Riboflavin                         1.824580             0.5\n",
      "Thiamin                            0.865968             0.5\n",
      "Vitamin A, RAE                   300.000003           300.0\n",
      "Vitamin B-12                       0.900000             0.9\n",
      "Vitamin B-6                        3.082930             0.5\n",
      "Vitamin C, total ascorbic acid   101.224929            15.0\n",
      "Vitamin E (alpha-tocopherol)      19.365102             6.0\n",
      "Vitamin K (phylloquinone)        201.251104            30.0\n",
      "Zinc, Zn                           9.757371             3.0\n",
      "Sodium, Na                      1499.999990          1500.0\n",
      "Energy                          9968.188323         10460.0\n",
      "\n",
      "\n",
      "Constraining nutrients are:\n",
      "['Calcium, Ca', 'Carbohydrate, by difference', 'Iron, Fe', 'Vitamin A, RAE', 'Vitamin B-12', 'Sodium, Na']\n",
      "Result for restaurant: Poke Bar\n",
      "Cost of diet for C 1-3 is $7.96 per day.\n",
      "\n",
      "\n",
      "Diet (in 100s of grams or milliliters):\n",
      "salmon        0.278638\n",
      "white rice    1.170064\n",
      "kale          7.869275\n",
      "edamame       0.169246\n",
      "dtype: float64\n",
      "\n",
      "\n",
      "With the following nutritional outcomes of interest:\n",
      "                                     Outcome  Recommendation\n",
      "Nutrition                                                   \n",
      "Energy                          10459.999726          4184.0\n",
      "Protein                            37.576277            13.0\n",
      "Fiber, total dietary               35.918412            14.0\n",
      "Folate, DFE                       548.224297           150.0\n",
      "Calcium, Ca                      2023.328287           700.0\n",
      "Carbohydrate, by difference       130.000000           130.0\n",
      "Iron, Fe                           13.467441             7.0\n",
      "Magnesium, Mg                     318.654794            80.0\n",
      "Niacin                             14.882509             6.0\n",
      "Phosphorus, P                     642.105819           460.0\n",
      "Potassium, K                     3000.000000          3000.0\n",
      "Riboflavin                          2.823786             0.5\n",
      "Thiamin                             1.139516             0.5\n",
      "Vitamin A, RAE                   1917.056719           300.0\n",
      "Vitamin B-12                        0.900000             0.9\n",
      "Vitamin B-6                         1.863270             0.5\n",
      "Vitamin C, total ascorbic acid    736.973993            15.0\n",
      "Vitamin E (alpha-tocopherol)        6.480839             6.0\n",
      "Vitamin K (phylloquinone)        3070.764750            30.0\n",
      "Zinc, Zn                            4.330475             3.0\n",
      "Sodium, Na                        455.005478          1500.0\n",
      "Energy                          10459.999726         10460.0\n",
      "\n",
      "\n",
      "Constraining nutrients are:\n",
      "['Carbohydrate, by difference', 'Potassium, K', 'Vitamin B-12']\n",
      "Result for restaurant: Thai Basil\n",
      "Cost of diet for F 4-8 is $5.68 per day.\n",
      "\n",
      "\n",
      "Diet (in 100s of grams or milliliters):\n",
      "egg         2.198257\n",
      "carrots     4.112375\n",
      "rice        0.341267\n",
      "broccoli    0.539216\n",
      "peanuts     3.146457\n",
      "tofu        3.102364\n",
      "dtype: float64\n",
      "\n",
      "\n",
      "With the following nutritional outcomes of interest:\n",
      "                                     Outcome  Recommendation\n",
      "Nutrition                                                   \n",
      "Energy                          10459.998998          5020.8\n",
      "Protein                           148.020416            19.0\n",
      "Fiber, total dietary               43.729569            16.8\n",
      "Folate, DFE                       752.003307           200.0\n",
      "Calcium, Ca                      1000.000010          1000.0\n",
      "Carbohydrate, by difference       130.000009           130.0\n",
      "Iron, Fe                           18.003190            10.0\n",
      "Magnesium, Mg                     633.441946           130.0\n",
      "Niacin                             45.490551             8.0\n",
      "Phosphorus, P                    1832.053319           500.0\n",
      "Potassium, K                     3800.023065          3800.0\n",
      "Riboflavin                          1.785402             0.6\n",
      "Thiamin                             2.563441             0.6\n",
      "Vitamin A, RAE                    400.000027           400.0\n",
      "Vitamin B-12                        2.242222             1.2\n",
      "Vitamin B-6                         1.946662             0.6\n",
      "Vitamin C, total ascorbic acid     52.643025            25.0\n",
      "Vitamin E (alpha-tocopherol)       20.721641             7.0\n",
      "Vitamin K (phylloquinone)          55.000021            55.0\n",
      "Zinc, Zn                           18.269388             5.0\n",
      "Sodium, Na                        794.873237          1900.0\n",
      "Energy                          10459.998998         10460.0\n",
      "\n",
      "\n",
      "Constraining nutrients are:\n",
      "['Calcium, Ca', 'Carbohydrate, by difference', 'Vitamin A, RAE', 'Vitamin K (phylloquinone)']\n"
     ]
    },
    {
     "name": "stderr",
     "output_type": "stream",
     "text": [
      "/tmp/ipykernel_30/2046845037.py:22: UserWarning:\n",
      "\n",
      "Prices have no units.  BE CAREFUL!  We're assuming prices are per hectogram or deciliter!\n",
      "\n",
      "/tmp/ipykernel_30/2046845037.py:22: UserWarning:\n",
      "\n",
      "Prices have no units.  BE CAREFUL!  We're assuming prices are per hectogram or deciliter!\n",
      "\n",
      "/tmp/ipykernel_30/2046845037.py:22: UserWarning:\n",
      "\n",
      "Prices have no units.  BE CAREFUL!  We're assuming prices are per hectogram or deciliter!\n",
      "\n",
      "/tmp/ipykernel_30/2046845037.py:22: UserWarning:\n",
      "\n",
      "Prices have no units.  BE CAREFUL!  We're assuming prices are per hectogram or deciliter!\n",
      "\n",
      "/tmp/ipykernel_30/2046845037.py:22: UserWarning:\n",
      "\n",
      "Prices have no units.  BE CAREFUL!  We're assuming prices are per hectogram or deciliter!\n",
      "\n"
     ]
    },
    {
     "name": "stdout",
     "output_type": "stream",
     "text": [
      "Result for restaurant: Ttoust\n",
      "Cost of diet for F 4-8 is $4.52 per day.\n",
      "\n",
      "\n",
      "Diet (in 100s of grams or milliliters):\n",
      "Egg            1.176470\n",
      "Spinach        2.551018\n",
      "Sesame         0.417671\n",
      "Brown Sugar    0.000224\n",
      "Flour          5.737211\n",
      "dtype: float64\n",
      "\n",
      "\n",
      "With the following nutritional outcomes of interest:\n",
      "                                     Outcome  Recommendation\n",
      "Nutrition                                                   \n",
      "Energy                          10430.963777          5020.8\n",
      "Protein                            84.704676            19.0\n",
      "Fiber, total dietary               86.208429            16.8\n",
      "Folate, DFE                       573.604638           200.0\n",
      "Calcium, Ca                      1000.000014          1000.0\n",
      "Carbohydrate, by difference       447.820007           130.0\n",
      "Iron, Fe                           38.434008            10.0\n",
      "Magnesium, Mg                    1053.206589           130.0\n",
      "Niacin                             33.812655             8.0\n",
      "Phosphorus, P                    2475.161923           500.0\n",
      "Potassium, K                     3800.000205          3800.0\n",
      "Riboflavin                          2.276742             0.6\n",
      "Thiamin                             2.367265             0.6\n",
      "Vitamin A, RAE                   1548.498074           400.0\n",
      "Vitamin B-12                        1.200000             1.2\n",
      "Vitamin B-6                         2.117232             0.6\n",
      "Vitamin C, total ascorbic acid     25.000027            25.0\n",
      "Vitamin E (alpha-tocopherol)        8.451257             7.0\n",
      "Vitamin K (phylloquinone)        1270.083112            55.0\n",
      "Zinc, Zn                           23.616694             5.0\n",
      "Sodium, Na                        352.142583          1900.0\n",
      "Energy                          10430.963777         10460.0\n",
      "\n",
      "\n",
      "Constraining nutrients are:\n",
      "['Calcium, Ca', 'Vitamin B-12', 'Vitamin C, total ascorbic acid']\n",
      "Result for restaurant: IB\n",
      "Cost of diet for F 4-8 is $6.00 per day.\n",
      "\n",
      "\n",
      "Diet (in 100s of grams or milliliters):\n",
      "bun               0.823948\n",
      "ketchup           0.282430\n",
      "onion             1.339311\n",
      "lettuce           0.097332\n",
      "cheddar cheese    0.419801\n",
      "sandwich bun      0.823948\n",
      "avocado           9.045903\n",
      "cheese            0.419801\n",
      "dtype: float64\n",
      "\n",
      "\n",
      "With the following nutritional outcomes of interest:\n",
      "                                     Outcome  Recommendation\n",
      "Nutrition                                                   \n",
      "Energy                          10460.000018          5020.8\n",
      "Protein                            66.762771            19.0\n",
      "Fiber, total dietary               65.648126            16.8\n",
      "Folate, DFE                       959.963646           200.0\n",
      "Calcium, Ca                      1000.000000          1000.0\n",
      "Carbohydrate, by difference       130.000000           130.0\n",
      "Iron, Fe                           10.000000            10.0\n",
      "Magnesium, Mg                     338.218690           130.0\n",
      "Niacin                             23.629260             8.0\n",
      "Phosphorus, P                    1195.604134           500.0\n",
      "Potassium, K                     5311.772820          3800.0\n",
      "Riboflavin                          2.084953             0.6\n",
      "Thiamin                             1.153304             0.6\n",
      "Vitamin A, RAE                    400.000000           400.0\n",
      "Vitamin B-12                        2.848156             1.2\n",
      "Vitamin B-6                         3.225895             0.6\n",
      "Vitamin C, total ascorbic acid     96.347163            25.0\n",
      "Vitamin E (alpha-tocopherol)       19.512630             7.0\n",
      "Vitamin K (phylloquinone)         213.400167            55.0\n",
      "Zinc, Zn                           14.146386             5.0\n",
      "Sodium, Na                       1900.000000          1900.0\n",
      "Energy                          10460.000018         10460.0\n",
      "\n",
      "\n",
      "Constraining nutrients are:\n",
      "['Calcium, Ca', 'Carbohydrate, by difference', 'Iron, Fe', 'Vitamin A, RAE', 'Sodium, Na', 'Energy']\n",
      "Result for restaurant: Poke Bar\n",
      "Cost of diet for F 4-8 is $10.09 per day.\n",
      "\n",
      "\n",
      "Diet (in 100s of grams or milliliters):\n",
      "salmon         0.371517\n",
      "white rice     1.047337\n",
      "kale          10.104371\n",
      "edamame        0.164030\n",
      "dtype: float64\n",
      "\n",
      "\n",
      "With the following nutritional outcomes of interest:\n",
      "                                     Outcome  Recommendation\n",
      "Nutrition                                                   \n",
      "Energy                          10459.998386          5020.8\n",
      "Protein                            45.209139            19.0\n",
      "Fiber, total dietary               44.761679            16.8\n",
      "Folate, DFE                       687.232319           200.0\n",
      "Calcium, Ca                      2590.333050          1000.0\n",
      "Carbohydrate, by difference       130.000012           130.0\n",
      "Iron, Fe                           17.020743            10.0\n",
      "Magnesium, Mg                     390.301847           130.0\n",
      "Niacin                             18.002887             8.0\n",
      "Phosphorus, P                     774.444412           500.0\n",
      "Potassium, K                     3800.000004          3800.0\n",
      "Riboflavin                          3.610400             0.6\n",
      "Thiamin                             1.393412             0.6\n",
      "Vitamin A, RAE                   2460.966229           400.0\n",
      "Vitamin B-12                        1.200000             1.2\n",
      "Vitamin B-6                         2.196802             0.6\n",
      "Vitamin C, total ascorbic acid    946.066512            25.0\n",
      "Vitamin E (alpha-tocopherol)        8.267007             7.0\n",
      "Vitamin K (phylloquinone)        3941.457938            55.0\n",
      "Zinc, Zn                            5.130480             5.0\n",
      "Sodium, Na                        578.283012          1900.0\n",
      "Energy                          10459.998386         10460.0\n",
      "\n",
      "\n",
      "Constraining nutrients are:\n",
      "['Carbohydrate, by difference', 'Potassium, K', 'Vitamin B-12']\n",
      "Result for restaurant: Thai Basil\n",
      "Cost of diet for M 4-8 is $5.68 per day.\n",
      "\n",
      "\n",
      "Diet (in 100s of grams or milliliters):\n",
      "egg         2.198257\n",
      "carrots     4.112311\n",
      "rice        0.341276\n",
      "broccoli    0.539216\n",
      "peanuts     3.146449\n",
      "tofu        3.102382\n",
      "dtype: float64\n",
      "\n",
      "\n",
      "With the following nutritional outcomes of interest:\n",
      "                                     Outcome  Recommendation\n",
      "Nutrition                                                   \n",
      "Energy                          10459.999998          5857.6\n",
      "Protein                           148.020404            19.0\n",
      "Fiber, total dietary               43.729319            19.6\n",
      "Folate, DFE                       752.001333           200.0\n",
      "Calcium, Ca                      1000.000000          1000.0\n",
      "Carbohydrate, by difference       130.000000           130.0\n",
      "Iron, Fe                           18.003191            10.0\n",
      "Magnesium, Mg                     633.439954           130.0\n",
      "Niacin                             45.490371             8.0\n",
      "Phosphorus, P                    1832.048483           500.0\n",
      "Potassium, K                     3800.000000          3800.0\n",
      "Riboflavin                          1.785395             0.6\n",
      "Thiamin                             2.563432             0.6\n",
      "Vitamin A, RAE                    400.000000           400.0\n",
      "Vitamin B-12                        2.242222             1.2\n",
      "Vitamin B-6                         1.946651             0.6\n",
      "Vitamin C, total ascorbic acid     52.643012            25.0\n",
      "Vitamin E (alpha-tocopherol)       20.721588             7.0\n",
      "Vitamin K (phylloquinone)          55.000000            55.0\n",
      "Zinc, Zn                           18.269348             5.0\n",
      "Sodium, Na                        794.868132          1900.0\n",
      "Energy                          10459.999998         10460.0\n",
      "\n",
      "\n",
      "Constraining nutrients are:\n",
      "['Calcium, Ca', 'Carbohydrate, by difference', 'Potassium, K', 'Vitamin A, RAE', 'Vitamin K (phylloquinone)', 'Energy']\n",
      "Result for restaurant: Ttoust\n",
      "Cost of diet for M 4-8 is $4.52 per day.\n",
      "\n",
      "\n",
      "Diet (in 100s of grams or milliliters):\n",
      "Egg            1.176470\n",
      "Spinach        2.551018\n",
      "Sesame         0.417673\n",
      "Brown Sugar    0.000213\n",
      "Flour          5.737208\n",
      "dtype: float64\n",
      "\n",
      "\n",
      "With the following nutritional outcomes of interest:\n",
      "                                     Outcome  Recommendation\n",
      "Nutrition                                                   \n",
      "Energy                          10398.127027          5857.6\n",
      "Protein                            84.704682            19.0\n",
      "Fiber, total dietary               86.208415            19.6\n",
      "Folate, DFE                       573.604814           200.0\n",
      "Calcium, Ca                      1000.000014          1000.0\n",
      "Carbohydrate, by difference       447.818745           130.0\n",
      "Iron, Fe                           38.434025            10.0\n",
      "Magnesium, Mg                    1053.206922           130.0\n",
      "Niacin                             33.812649             8.0\n",
      "Phosphorus, P                    2475.162154           500.0\n",
      "Potassium, K                     3800.000225          3800.0\n",
      "Riboflavin                          2.276742             0.6\n",
      "Thiamin                             2.367265             0.6\n",
      "Vitamin A, RAE                   1548.498381           400.0\n",
      "Vitamin B-12                        1.200000             1.2\n",
      "Vitamin B-6                         2.117233             0.6\n",
      "Vitamin C, total ascorbic acid     25.000035            25.0\n",
      "Vitamin E (alpha-tocopherol)        8.451257             7.0\n",
      "Vitamin K (phylloquinone)        1270.083396            55.0\n",
      "Zinc, Zn                           23.616699             5.0\n",
      "Sodium, Na                        352.142642          1900.0\n",
      "Energy                          10398.127027         10460.0\n",
      "\n",
      "\n",
      "Constraining nutrients are:\n",
      "['Calcium, Ca', 'Vitamin B-12', 'Vitamin C, total ascorbic acid']\n"
     ]
    },
    {
     "name": "stderr",
     "output_type": "stream",
     "text": [
      "/tmp/ipykernel_30/2046845037.py:22: UserWarning:\n",
      "\n",
      "Prices have no units.  BE CAREFUL!  We're assuming prices are per hectogram or deciliter!\n",
      "\n",
      "/tmp/ipykernel_30/2046845037.py:22: UserWarning:\n",
      "\n",
      "Prices have no units.  BE CAREFUL!  We're assuming prices are per hectogram or deciliter!\n",
      "\n",
      "/tmp/ipykernel_30/2046845037.py:22: UserWarning:\n",
      "\n",
      "Prices have no units.  BE CAREFUL!  We're assuming prices are per hectogram or deciliter!\n",
      "\n",
      "/tmp/ipykernel_30/2046845037.py:22: UserWarning:\n",
      "\n",
      "Prices have no units.  BE CAREFUL!  We're assuming prices are per hectogram or deciliter!\n",
      "\n",
      "/tmp/ipykernel_30/2046845037.py:22: UserWarning:\n",
      "\n",
      "Prices have no units.  BE CAREFUL!  We're assuming prices are per hectogram or deciliter!\n",
      "\n"
     ]
    },
    {
     "name": "stdout",
     "output_type": "stream",
     "text": [
      "Result for restaurant: IB\n",
      "Cost of diet for M 4-8 is $6.00 per day.\n",
      "\n",
      "\n",
      "Diet (in 100s of grams or milliliters):\n",
      "bun               0.823948\n",
      "ketchup           0.282430\n",
      "onion             1.339311\n",
      "lettuce           0.097332\n",
      "cheddar cheese    0.419801\n",
      "sandwich bun      0.823948\n",
      "avocado           9.045903\n",
      "cheese            0.419801\n",
      "dtype: float64\n",
      "\n",
      "\n",
      "With the following nutritional outcomes of interest:\n",
      "                                     Outcome  Recommendation\n",
      "Nutrition                                                   \n",
      "Energy                          10460.000012          5857.6\n",
      "Protein                            66.762771            19.0\n",
      "Fiber, total dietary               65.648126            19.6\n",
      "Folate, DFE                       959.963646           200.0\n",
      "Calcium, Ca                      1000.000000          1000.0\n",
      "Carbohydrate, by difference       130.000000           130.0\n",
      "Iron, Fe                           10.000000            10.0\n",
      "Magnesium, Mg                     338.218690           130.0\n",
      "Niacin                             23.629260             8.0\n",
      "Phosphorus, P                    1195.604134           500.0\n",
      "Potassium, K                     5311.772819          3800.0\n",
      "Riboflavin                          2.084953             0.6\n",
      "Thiamin                             1.153304             0.6\n",
      "Vitamin A, RAE                    400.000000           400.0\n",
      "Vitamin B-12                        2.848156             1.2\n",
      "Vitamin B-6                         3.225895             0.6\n",
      "Vitamin C, total ascorbic acid     96.347163            25.0\n",
      "Vitamin E (alpha-tocopherol)       19.512630             7.0\n",
      "Vitamin K (phylloquinone)         213.400167            55.0\n",
      "Zinc, Zn                           14.146386             5.0\n",
      "Sodium, Na                       1900.000000          1900.0\n",
      "Energy                          10460.000012         10460.0\n",
      "\n",
      "\n",
      "Constraining nutrients are:\n",
      "['Calcium, Ca', 'Carbohydrate, by difference', 'Iron, Fe', 'Vitamin A, RAE', 'Sodium, Na', 'Energy']\n",
      "Result for restaurant: Poke Bar\n",
      "Cost of diet for M 4-8 is $10.09 per day.\n",
      "\n",
      "\n",
      "Diet (in 100s of grams or milliliters):\n",
      "salmon         0.371517\n",
      "white rice     1.047337\n",
      "kale          10.104371\n",
      "edamame        0.164030\n",
      "dtype: float64\n",
      "\n",
      "\n",
      "With the following nutritional outcomes of interest:\n",
      "                                     Outcome  Recommendation\n",
      "Nutrition                                                   \n",
      "Energy                          10459.999981          5857.6\n",
      "Protein                            45.209139            19.0\n",
      "Fiber, total dietary               44.761679            19.6\n",
      "Folate, DFE                       687.232340           200.0\n",
      "Calcium, Ca                      2590.333077          1000.0\n",
      "Carbohydrate, by difference       130.000000           130.0\n",
      "Iron, Fe                           17.020743            10.0\n",
      "Magnesium, Mg                     390.301846           130.0\n",
      "Niacin                             18.002886             8.0\n",
      "Phosphorus, P                     774.444405           500.0\n",
      "Potassium, K                     3800.000000          3800.0\n",
      "Riboflavin                          3.610400             0.6\n",
      "Thiamin                             1.393412             0.6\n",
      "Vitamin A, RAE                   2460.966174           400.0\n",
      "Vitamin B-12                        1.200000             1.2\n",
      "Vitamin B-6                         2.196802             0.6\n",
      "Vitamin C, total ascorbic acid    946.066525            25.0\n",
      "Vitamin E (alpha-tocopherol)        8.267007             7.0\n",
      "Vitamin K (phylloquinone)        3941.457936            55.0\n",
      "Zinc, Zn                            5.130480             5.0\n",
      "Sodium, Na                        578.282963          1900.0\n",
      "Energy                          10459.999981         10460.0\n",
      "\n",
      "\n",
      "Constraining nutrients are:\n",
      "['Carbohydrate, by difference', 'Potassium, K', 'Vitamin B-12', 'Energy']\n",
      "Result for restaurant: Thai Basil\n",
      "Cost of diet for F 9-13 is $7.37 per day.\n",
      "\n",
      "\n",
      "Diet (in 100s of grams or milliliters):\n",
      "egg         3.307190\n",
      "carrots     5.560345\n",
      "rice        0.076731\n",
      "broccoli    0.588235\n",
      "peanuts     3.369258\n",
      "tofu        4.324781\n",
      "dtype: float64\n",
      "\n",
      "\n",
      "With the following nutritional outcomes of interest:\n",
      "                                     Outcome  Recommendation\n",
      "Nutrition                                                   \n",
      "Energy                          11715.199999          6694.4\n",
      "Protein                           180.385336            34.0\n",
      "Fiber, total dietary               51.190398            22.4\n",
      "Folate, DFE                       805.252781           300.0\n",
      "Calcium, Ca                      1300.000000          1300.0\n",
      "Carbohydrate, by difference       130.000000           130.0\n",
      "Iron, Fe                           22.682535             8.0\n",
      "Magnesium, Mg                     697.181551           240.0\n",
      "Niacin                             49.984216            12.0\n",
      "Phosphorus, P                    2156.822961          1250.0\n",
      "Potassium, K                     4500.000006          4500.0\n",
      "Riboflavin                          2.422377             0.9\n",
      "Thiamin                             2.868402             0.9\n",
      "Vitamin A, RAE                    600.000000           600.0\n",
      "Vitamin B-12                        3.373333             1.8\n",
      "Vitamin B-6                         2.300046             1.0\n",
      "Vitamin C, total ascorbic acid     58.463141            45.0\n",
      "Vitamin E (alpha-tocopherol)       22.190571            11.0\n",
      "Vitamin K (phylloquinone)          60.000000            60.0\n",
      "Zinc, Zn                           20.679565             8.0\n",
      "Sodium, Na                       1106.401833          2200.0\n",
      "Energy                          11715.199999         11715.2\n",
      "\n",
      "\n",
      "Constraining nutrients are:\n",
      "['Calcium, Ca', 'Carbohydrate, by difference', 'Potassium, K', 'Vitamin A, RAE', 'Vitamin K (phylloquinone)', 'Energy']\n",
      "Result for restaurant: Ttoust\n",
      "Cost of diet for F 9-13 is $5.88 per day.\n",
      "\n",
      "\n",
      "Diet (in 100s of grams or milliliters):\n",
      "Egg            1.764706\n",
      "Spinach        4.591835\n",
      "Sesame         0.440754\n",
      "Brown Sugar    0.001163\n",
      "Flour          4.875611\n",
      "dtype: float64\n",
      "\n",
      "\n",
      "With the following nutritional outcomes of interest:\n",
      "                                     Outcome  Recommendation\n",
      "Nutrition                                                   \n",
      "Energy                          11715.163823          6694.4\n",
      "Protein                            90.189294            34.0\n",
      "Fiber, total dietary               80.091801            22.4\n",
      "Folate, DFE                       849.678201           300.0\n",
      "Calcium, Ca                      1300.000005          1300.0\n",
      "Carbohydrate, by difference       392.500920           130.0\n",
      "Iron, Fe                           43.841395             8.0\n",
      "Magnesium, Mg                    1144.758363           240.0\n",
      "Niacin                             30.309894            12.0\n",
      "Phosphorus, P                    2433.905058          1250.0\n",
      "Potassium, K                     4500.000091          4500.0\n",
      "Riboflavin                          2.848566             0.9\n",
      "Thiamin                             2.368799             0.9\n",
      "Vitamin A, RAE                   2723.768843           600.0\n",
      "Vitamin B-12                        1.800000             1.8\n",
      "Vitamin B-6                         2.501838             1.0\n",
      "Vitamin C, total ascorbic acid     45.000012            45.0\n",
      "Vitamin E (alpha-tocopherol)       12.245280            11.0\n",
      "Vitamin K (phylloquinone)        2275.793641            60.0\n",
      "Zinc, Zn                           23.525680             8.0\n",
      "Sodium, Na                        568.550980          2200.0\n",
      "Energy                          11715.163823         11715.2\n",
      "\n",
      "\n",
      "Constraining nutrients are:\n",
      "['Calcium, Ca', 'Potassium, K', 'Vitamin B-12', 'Vitamin C, total ascorbic acid']\n",
      "Result for restaurant: IB\n",
      "Cost of diet for F 9-13 is $6.07 per day.\n",
      "\n",
      "\n",
      "Diet (in 100s of grams or milliliters):\n",
      "bun               0.242573\n",
      "ketchup           0.922521\n",
      "onion             1.078483\n",
      "lettuce           0.262970\n",
      "cheddar cheese    0.742774\n",
      "sandwich bun      0.242573\n",
      "avocado           9.524260\n",
      "cheese            0.742774\n",
      "dtype: float64\n",
      "\n",
      "\n",
      "With the following nutritional outcomes of interest:\n",
      "                                     Outcome  Recommendation\n",
      "Nutrition                                                   \n",
      "Energy                          11715.200024          6694.4\n",
      "Protein                            65.111187            34.0\n",
      "Fiber, total dietary               67.702156            22.4\n",
      "Folate, DFE                       956.149667           300.0\n",
      "Calcium, Ca                      1300.000000          1300.0\n",
      "Carbohydrate, by difference       130.000000           130.0\n",
      "Iron, Fe                            8.000000             8.0\n",
      "Magnesium, Mg                     353.620191           240.0\n",
      "Niacin                             21.490823            12.0\n",
      "Phosphorus, P                    1340.599460          1250.0\n",
      "Potassium, K                     5504.287744          4500.0\n",
      "Riboflavin                          2.308963             0.9\n",
      "Thiamin                             0.944664             0.9\n",
      "Vitamin A, RAE                    600.000000           600.0\n",
      "Vitamin B-12                        1.928271             1.8\n",
      "Vitamin B-6                         3.247544             1.0\n",
      "Vitamin C, total ascorbic acid     99.402852            45.0\n",
      "Vitamin E (alpha-tocopherol)       21.517627            11.0\n",
      "Vitamin K (phylloquinone)         242.267009            60.0\n",
      "Zinc, Zn                           13.754586             8.0\n",
      "Sodium, Na                       2200.000000          2200.0\n",
      "Energy                          11715.200024         11715.2\n",
      "\n",
      "\n",
      "Constraining nutrients are:\n",
      "['Calcium, Ca', 'Carbohydrate, by difference', 'Iron, Fe', 'Vitamin A, RAE', 'Sodium, Na', 'Energy']\n"
     ]
    },
    {
     "name": "stderr",
     "output_type": "stream",
     "text": [
      "/tmp/ipykernel_30/2046845037.py:22: UserWarning:\n",
      "\n",
      "Prices have no units.  BE CAREFUL!  We're assuming prices are per hectogram or deciliter!\n",
      "\n",
      "/tmp/ipykernel_30/2046845037.py:22: UserWarning:\n",
      "\n",
      "Prices have no units.  BE CAREFUL!  We're assuming prices are per hectogram or deciliter!\n",
      "\n",
      "/tmp/ipykernel_30/2046845037.py:22: UserWarning:\n",
      "\n",
      "Prices have no units.  BE CAREFUL!  We're assuming prices are per hectogram or deciliter!\n",
      "\n",
      "/tmp/ipykernel_30/2046845037.py:22: UserWarning:\n",
      "\n",
      "Prices have no units.  BE CAREFUL!  We're assuming prices are per hectogram or deciliter!\n",
      "\n",
      "/tmp/ipykernel_30/2046845037.py:22: UserWarning:\n",
      "\n",
      "Prices have no units.  BE CAREFUL!  We're assuming prices are per hectogram or deciliter!\n",
      "\n"
     ]
    },
    {
     "name": "stdout",
     "output_type": "stream",
     "text": [
      "Result for restaurant: Poke Bar\n",
      "Cost of diet for F 9-13 is $12.89 per day.\n",
      "\n",
      "\n",
      "Diet (in 100s of grams or milliliters):\n",
      "salmon         0.907968\n",
      "white rice     4.264361\n",
      "kale          10.974300\n",
      "edamame        0.064596\n",
      "dtype: float64\n",
      "\n",
      "\n",
      "With the following nutritional outcomes of interest:\n",
      "                                     Outcome  Recommendation\n",
      "Nutrition                                                   \n",
      "Energy                          11715.199994          6694.4\n",
      "Protein                            76.701467            34.0\n",
      "Fiber, total dietary               55.552081            22.4\n",
      "Folate, DFE                       739.545818           300.0\n",
      "Calcium, Ca                      2842.228016          1300.0\n",
      "Carbohydrate, by difference       390.767138           130.0\n",
      "Iron, Fe                           19.502228             8.0\n",
      "Magnesium, Mg                     539.924666           240.0\n",
      "Niacin                             31.925499            12.0\n",
      "Phosphorus, P                    1250.000000          1250.0\n",
      "Potassium, K                     4500.000000          4500.0\n",
      "Riboflavin                          4.048058             0.9\n",
      "Thiamin                             2.028413             0.9\n",
      "Vitamin A, RAE                   2699.148043           600.0\n",
      "Vitamin B-12                        2.932736             1.8\n",
      "Vitamin B-6                         4.057251             1.0\n",
      "Vitamin C, total ascorbic acid   1028.883096            45.0\n",
      "Vitamin E (alpha-tocopherol)       11.000000            11.0\n",
      "Vitamin K (phylloquinone)        4277.856595            60.0\n",
      "Zinc, Zn                            8.104248             8.0\n",
      "Sodium, Na                        643.411770          2200.0\n",
      "Energy                          11715.199994         11715.2\n",
      "\n",
      "\n",
      "Constraining nutrients are:\n",
      "['Phosphorus, P', 'Potassium, K', 'Vitamin E (alpha-tocopherol)', 'Energy']\n",
      "Result for restaurant: Thai Basil\n",
      "Cost of diet for M 9-13 is $7.35 per day.\n",
      "\n",
      "\n",
      "Diet (in 100s of grams or milliliters):\n",
      "egg         3.307190\n",
      "carrots     4.722824\n",
      "rice        0.115390\n",
      "broccoli    0.588235\n",
      "peanuts     3.704435\n",
      "tofu        4.294344\n",
      "dtype: float64\n",
      "\n",
      "\n",
      "With the following nutritional outcomes of interest:\n",
      "                                     Outcome  Recommendation\n",
      "Nutrition                                                   \n",
      "Energy                          12551.999568          7531.2\n",
      "Protein                           187.976052            34.0\n",
      "Fiber, total dietary               51.439211            25.2\n",
      "Folate, DFE                       885.360055           300.0\n",
      "Calcium, Ca                      1300.000003          1300.0\n",
      "Carbohydrate, by difference       130.000005           130.0\n",
      "Iron, Fe                           23.368340             8.0\n",
      "Magnesium, Mg                     744.954951           240.0\n",
      "Niacin                             53.002799            12.0\n",
      "Phosphorus, P                    2254.482424          1250.0\n",
      "Potassium, K                     4500.000620          4500.0\n",
      "Riboflavin                          2.386721             0.9\n",
      "Thiamin                             3.036313             0.9\n",
      "Vitamin A, RAE                    600.000008           600.0\n",
      "Vitamin B-12                        3.373333             1.8\n",
      "Vitamin B-6                         2.296084             1.0\n",
      "Vitamin C, total ascorbic acid     58.429668            45.0\n",
      "Vitamin E (alpha-tocopherol)       24.389331            11.0\n",
      "Vitamin K (phylloquinone)          60.000004            60.0\n",
      "Zinc, Zn                           22.012413             8.0\n",
      "Sodium, Na                       1036.371326          2200.0\n",
      "Energy                          12551.999568         12552.0\n",
      "\n",
      "\n",
      "Constraining nutrients are:\n",
      "['Calcium, Ca', 'Carbohydrate, by difference', 'Vitamin A, RAE', 'Vitamin K (phylloquinone)']\n",
      "Result for restaurant: Ttoust\n",
      "Cost of diet for M 9-13 is $5.88 per day.\n",
      "\n",
      "\n",
      "Diet (in 100s of grams or milliliters):\n",
      "Egg            1.764705\n",
      "Spinach        4.591834\n",
      "Sesame         0.440718\n",
      "Brown Sugar    0.001386\n",
      "Flour          4.875654\n",
      "dtype: float64\n",
      "\n",
      "\n",
      "With the following nutritional outcomes of interest:\n",
      "                                     Outcome  Recommendation\n",
      "Nutrition                                                   \n",
      "Energy                          12219.607083          7531.2\n",
      "Protein                            90.189074            34.0\n",
      "Fiber, total dietary               80.091943            25.2\n",
      "Folate, DFE                       849.675813           300.0\n",
      "Calcium, Ca                      1300.000011          1300.0\n",
      "Carbohydrate, by difference       392.525693           130.0\n",
      "Iron, Fe                           43.841031             8.0\n",
      "Magnesium, Mg                    1144.750777           240.0\n",
      "Niacin                             30.309965            12.0\n",
      "Phosphorus, P                    2433.896453          1250.0\n",
      "Potassium, K                     4500.000164          4500.0\n",
      "Riboflavin                          2.848565             0.9\n",
      "Thiamin                             2.368784             0.9\n",
      "Vitamin A, RAE                   2723.768365           600.0\n",
      "Vitamin B-12                        1.800000             1.8\n",
      "Vitamin B-6                         2.501818             1.0\n",
      "Vitamin C, total ascorbic acid     45.000023            45.0\n",
      "Vitamin E (alpha-tocopherol)       12.245292            11.0\n",
      "Vitamin K (phylloquinone)        2275.793267            60.0\n",
      "Zinc, Zn                           23.525530             8.0\n",
      "Sodium, Na                        568.551044          2200.0\n",
      "Energy                          12219.607083         12552.0\n",
      "\n",
      "\n",
      "Constraining nutrients are:\n",
      "['Calcium, Ca', 'Vitamin B-12', 'Vitamin C, total ascorbic acid']\n",
      "Result for restaurant: IB\n",
      "Cost of diet for M 9-13 is $6.05 per day.\n",
      "\n",
      "\n",
      "Diet (in 100s of grams or milliliters):\n",
      "bun                0.181865\n",
      "ketchup            0.979312\n",
      "onion              0.560169\n",
      "lettuce            0.239481\n",
      "cheddar cheese     0.758197\n",
      "sandwich bun       0.181865\n",
      "avocado           10.159166\n",
      "cheese             0.758197\n",
      "dtype: float64\n",
      "\n",
      "\n",
      "With the following nutritional outcomes of interest:\n",
      "                                     Outcome  Recommendation\n",
      "Nutrition                                                   \n",
      "Energy                          12114.984167          7531.2\n",
      "Protein                            64.591014            34.0\n",
      "Fiber, total dietary               71.003468            25.2\n",
      "Folate, DFE                       995.853250           300.0\n",
      "Calcium, Ca                      1300.000001          1300.0\n",
      "Carbohydrate, by difference       130.000000           130.0\n",
      "Iron, Fe                            8.000000             8.0\n",
      "Magnesium, Mg                     365.622092           240.0\n",
      "Niacin                             22.297898            12.0\n",
      "Phosphorus, P                    1354.803374          1250.0\n",
      "Potassium, K                     5735.907925          4500.0\n",
      "Riboflavin                          2.381925             0.9\n",
      "Thiamin                             0.940206             0.9\n",
      "Vitamin A, RAE                    600.000000           600.0\n",
      "Vitamin B-12                        1.800000             1.8\n",
      "Vitamin B-6                         3.350753             1.0\n",
      "Vitamin C, total ascorbic acid    100.819140            45.0\n",
      "Vitamin E (alpha-tocopherol)       22.817338            11.0\n",
      "Vitamin K (phylloquinone)         252.099922            60.0\n",
      "Zinc, Zn                           13.882101             8.0\n",
      "Sodium, Na                       2199.999999          2200.0\n",
      "Energy                          12114.984167         12552.0\n",
      "\n",
      "\n",
      "Constraining nutrients are:\n",
      "['Calcium, Ca', 'Carbohydrate, by difference', 'Iron, Fe', 'Vitamin A, RAE', 'Vitamin B-12', 'Sodium, Na']\n",
      "Result for restaurant: Poke Bar\n",
      "Cost of diet for M 9-13 is $12.87 per day.\n",
      "\n",
      "\n",
      "Diet (in 100s of grams or milliliters):\n",
      "salmon         0.906319\n",
      "white rice     4.244895\n",
      "kale          10.955659\n",
      "edamame        0.084893\n",
      "dtype: float64\n",
      "\n",
      "\n",
      "With the following nutritional outcomes of interest:\n",
      "                                     Outcome  Recommendation\n",
      "Nutrition                                                   \n",
      "Energy                          12551.999974          7531.2\n",
      "Protein                            76.730957            34.0\n",
      "Fiber, total dietary               55.530413            25.2\n",
      "Folate, DFE                       744.074125           300.0\n",
      "Calcium, Ca                      2838.521599          1300.0\n",
      "Carbohydrate, by difference       389.300035           130.0\n",
      "Iron, Fe                           19.509680             8.0\n",
      "Magnesium, Mg                     539.842035           240.0\n",
      "Niacin                             31.856771            12.0\n",
      "Phosphorus, P                    1250.000000          1250.0\n",
      "Potassium, K                     4500.000000          4500.0\n",
      "Riboflavin                          4.043970             0.9\n",
      "Thiamin                             2.027013             0.9\n",
      "Vitamin A, RAE                   2695.087486           600.0\n",
      "Vitamin B-12                        2.927412             1.8\n",
      "Vitamin B-6                         4.047268             1.0\n",
      "Vitamin C, total ascorbic acid   1027.243099            45.0\n",
      "Vitamin E (alpha-tocopherol)       11.000000            11.0\n",
      "Vitamin K (phylloquinone)        4271.163276            60.0\n",
      "Zinc, Zn                            8.107805             8.0\n",
      "Sodium, Na                        644.904169          2200.0\n",
      "Energy                          12551.999974         12552.0\n",
      "\n",
      "\n",
      "Constraining nutrients are:\n",
      "['Phosphorus, P', 'Potassium, K', 'Vitamin E (alpha-tocopherol)', 'Energy']\n",
      "Result for restaurant: Thai Basil\n",
      "Cost of diet for F 14-18 is $7.56 per day.\n",
      "\n",
      "\n",
      "Diet (in 100s of grams or milliliters):\n",
      "egg         3.856209\n",
      "carrots     4.790404\n",
      "rice        0.071858\n",
      "broccoli    0.735294\n",
      "peanuts     3.802065\n",
      "tofu        4.001691\n",
      "dtype: float64\n",
      "\n",
      "\n",
      "With the following nutritional outcomes of interest:\n",
      "                                     Outcome  Recommendation\n",
      "Nutrition                                                   \n",
      "Energy                          12970.397771          7531.2\n",
      "Protein                           194.186867            46.0\n",
      "Fiber, total dietary               52.546015            25.2\n",
      "Folate, DFE                       908.693672           400.0\n",
      "Calcium, Ca                      1300.000018          1300.0\n",
      "Carbohydrate, by difference       130.000033           130.0\n",
      "Iron, Fe                           24.141634            15.0\n",
      "Magnesium, Mg                     770.841264           360.0\n",
      "Niacin                             54.345546            14.0\n",
      "Phosphorus, P                    2401.052828          1250.0\n",
      "Potassium, K                     4700.025447          4700.0\n",
      "Riboflavin                          2.652734             1.0\n",
      "Thiamin                             3.154138             1.0\n",
      "Vitamin A, RAE                    700.000053           700.0\n",
      "Vitamin B-12                        3.933334             2.4\n",
      "Vitamin B-6                         2.400117             1.2\n",
      "Vitamin C, total ascorbic acid     71.534231            65.0\n",
      "Vitamin E (alpha-tocopherol)       25.051843            15.0\n",
      "Vitamin K (phylloquinone)          75.000044            75.0\n",
      "Zinc, Zn                           23.151636             9.0\n",
      "Sodium, Na                       1109.445999          2300.0\n",
      "Energy                          12970.397771         12970.4\n",
      "\n",
      "\n",
      "Constraining nutrients are:\n",
      "['Calcium, Ca', 'Carbohydrate, by difference', 'Vitamin A, RAE', 'Vitamin K (phylloquinone)']\n"
     ]
    },
    {
     "name": "stderr",
     "output_type": "stream",
     "text": [
      "/tmp/ipykernel_30/2046845037.py:22: UserWarning:\n",
      "\n",
      "Prices have no units.  BE CAREFUL!  We're assuming prices are per hectogram or deciliter!\n",
      "\n",
      "/tmp/ipykernel_30/2046845037.py:22: UserWarning:\n",
      "\n",
      "Prices have no units.  BE CAREFUL!  We're assuming prices are per hectogram or deciliter!\n",
      "\n",
      "/tmp/ipykernel_30/2046845037.py:22: UserWarning:\n",
      "\n",
      "Prices have no units.  BE CAREFUL!  We're assuming prices are per hectogram or deciliter!\n",
      "\n",
      "/tmp/ipykernel_30/2046845037.py:91: UserWarning:\n",
      "\n",
      "The solution does not satisfy the constraints within the required tolerance of 3.16E-04, yet no errors were raised and there is no certificate of infeasibility or unboundedness. Check whether the slack and constraint residuals are acceptable; if not, consider enabling presolve, adjusting the tolerance option(s), and/or using a different method. Please consider submitting a bug report.\n",
      "\n",
      "/tmp/ipykernel_30/2046845037.py:22: UserWarning:\n",
      "\n",
      "Prices have no units.  BE CAREFUL!  We're assuming prices are per hectogram or deciliter!\n",
      "\n",
      "/tmp/ipykernel_30/2046845037.py:22: UserWarning:\n",
      "\n",
      "Prices have no units.  BE CAREFUL!  We're assuming prices are per hectogram or deciliter!\n",
      "\n",
      "/tmp/ipykernel_30/2046845037.py:22: UserWarning:\n",
      "\n",
      "Prices have no units.  BE CAREFUL!  We're assuming prices are per hectogram or deciliter!\n",
      "\n",
      "/tmp/ipykernel_30/2046845037.py:22: UserWarning:\n",
      "\n",
      "Prices have no units.  BE CAREFUL!  We're assuming prices are per hectogram or deciliter!\n",
      "\n"
     ]
    },
    {
     "name": "stdout",
     "output_type": "stream",
     "text": [
      "Result for restaurant: Ttoust\n",
      "Cost of diet for F 14-18 is $6.14 per day.\n",
      "\n",
      "\n",
      "Diet (in 100s of grams or milliliters):\n",
      "Egg            2.352941\n",
      "Spinach        6.632653\n",
      "Sesame         0.187855\n",
      "Brown Sugar    0.003051\n",
      "Flour          3.072791\n",
      "dtype: float64\n",
      "\n",
      "\n",
      "With the following nutritional outcomes of interest:\n",
      "                                     Outcome  Recommendation\n",
      "Nutrition                                                   \n",
      "Energy                          12969.555413          7531.2\n",
      "Protein                            81.735636            46.0\n",
      "Fiber, total dietary               58.388613            25.2\n",
      "Folate, DFE                      1072.627327           400.0\n",
      "Calcium, Ca                      1300.000001          1300.0\n",
      "Carbohydrate, by difference       260.703030           130.0\n",
      "Iron, Fe                           41.741322            15.0\n",
      "Magnesium, Mg                    1029.317846           360.0\n",
      "Niacin                             20.528377            14.0\n",
      "Phosphorus, P                    1915.041812          1250.0\n",
      "Potassium, K                     4700.000035          4700.0\n",
      "Riboflavin                          3.175273             1.0\n",
      "Thiamin                             1.872490             1.0\n",
      "Vitamin A, RAE                   3899.039346           700.0\n",
      "Vitamin B-12                        2.400000             2.4\n",
      "Vitamin B-6                         2.488646             1.2\n",
      "Vitamin C, total ascorbic acid     65.000001            65.0\n",
      "Vitamin E (alpha-tocopherol)       15.471460            15.0\n",
      "Vitamin K (phylloquinone)        3279.715597            75.0\n",
      "Zinc, Zn                           18.509798             9.0\n",
      "Sodium, Na                        779.100230          2300.0\n",
      "Energy                          12969.555413         12970.4\n",
      "\n",
      "\n",
      "Constraining nutrients are:\n",
      "['Calcium, Ca', 'Potassium, K', 'Vitamin B-12', 'Vitamin C, total ascorbic acid']\n",
      "Result for restaurant: IB\n",
      "Cost of diet for F 14-18 is $9.07 per day.\n",
      "\n",
      "\n",
      "Diet (in 100s of grams or milliliters):\n",
      "Series([], dtype: float64)\n",
      "\n",
      "\n",
      "With the following nutritional outcomes of interest:\n",
      "                                Outcome  Recommendation\n",
      "Nutrition                                              \n",
      "Energy                              NaN          7531.2\n",
      "Protein                             NaN            46.0\n",
      "Fiber, total dietary                NaN            25.2\n",
      "Folate, DFE                         NaN           400.0\n",
      "Calcium, Ca                         NaN          1300.0\n",
      "Carbohydrate, by difference         NaN           130.0\n",
      "Iron, Fe                            NaN            15.0\n",
      "Magnesium, Mg                       NaN           360.0\n",
      "Niacin                              NaN            14.0\n",
      "Phosphorus, P                       NaN          1250.0\n",
      "Potassium, K                        NaN          4700.0\n",
      "Riboflavin                          NaN             1.0\n",
      "Thiamin                             NaN             1.0\n",
      "Vitamin A, RAE                      NaN           700.0\n",
      "Vitamin B-12                        NaN             2.4\n",
      "Vitamin B-6                         NaN             1.2\n",
      "Vitamin C, total ascorbic acid      NaN            65.0\n",
      "Vitamin E (alpha-tocopherol)        NaN            15.0\n",
      "Vitamin K (phylloquinone)           NaN            75.0\n",
      "Zinc, Zn                            NaN             9.0\n",
      "Sodium, Na                          NaN          2300.0\n",
      "Energy                              NaN         12970.4\n",
      "\n",
      "\n",
      "Constraining nutrients are:\n",
      "[]\n",
      "Result for restaurant: Poke Bar\n",
      "Cost of diet for F 14-18 is $15.14 per day.\n",
      "\n",
      "\n",
      "Diet (in 100s of grams or milliliters):\n",
      "salmon         2.188097\n",
      "white rice     5.325264\n",
      "kale          10.019968\n",
      "edamame        0.033298\n",
      "dtype: float64\n",
      "\n",
      "\n",
      "With the following nutritional outcomes of interest:\n",
      "                                     Outcome  Recommendation\n",
      "Nutrition                                                   \n",
      "Energy                          12970.395163          7531.2\n",
      "Protein                           106.007495            46.0\n",
      "Fiber, total dietary               54.028994            25.2\n",
      "Folate, DFE                       708.952926           400.0\n",
      "Calcium, Ca                      2620.048578          1300.0\n",
      "Carbohydrate, by difference       471.288996           130.0\n",
      "Iron, Fe                           18.713001            15.0\n",
      "Magnesium, Mg                     578.186287           360.0\n",
      "Niacin                             44.620673            14.0\n",
      "Phosphorus, P                    1603.578262          1250.0\n",
      "Potassium, K                     4700.000031          4700.0\n",
      "Riboflavin                          3.932909             1.0\n",
      "Thiamin                             2.326206             1.0\n",
      "Vitamin A, RAE                   2542.587730           700.0\n",
      "Vitamin B-12                        7.067553             2.4\n",
      "Vitamin B-6                         5.190143             1.2\n",
      "Vitamin C, total ascorbic acid    944.575062            65.0\n",
      "Vitamin E (alpha-tocopherol)       15.000000            15.0\n",
      "Vitamin K (phylloquinone)        3905.809293            75.0\n",
      "Zinc, Zn                            9.000000             9.0\n",
      "Sodium, Na                        664.385083          2300.0\n",
      "Energy                          12970.395163         12970.4\n",
      "\n",
      "\n",
      "Constraining nutrients are:\n",
      "['Potassium, K', 'Vitamin E (alpha-tocopherol)', 'Zinc, Zn']\n",
      "Result for restaurant: Thai Basil\n",
      "Cost of diet for M 14-18 is $7.89 per day.\n",
      "\n",
      "\n",
      "Diet (in 100s of grams or milliliters):\n",
      "egg         4.925740\n",
      "peas        0.207583\n",
      "carrots     4.847581\n",
      "rice        0.078534\n",
      "broccoli    0.684823\n",
      "peanuts     3.522297\n",
      "tofu        3.793041\n",
      "dtype: float64\n",
      "\n",
      "\n",
      "With the following nutritional outcomes of interest:\n",
      "                                     Outcome  Recommendation\n",
      "Nutrition                                                   \n",
      "Energy                          12970.399278          9204.8\n",
      "Protein                           199.218769            52.0\n",
      "Fiber, total dietary               51.222593            30.8\n",
      "Folate, DFE                       855.321966           400.0\n",
      "Calcium, Ca                      1300.000002          1300.0\n",
      "Carbohydrate, by difference       130.000003           130.0\n",
      "Iron, Fe                           25.142112            11.0\n",
      "Magnesium, Mg                     741.848653           410.0\n",
      "Niacin                             51.373749            16.0\n",
      "Phosphorus, P                    2513.475829          1250.0\n",
      "Potassium, K                     4700.008457          4700.0\n",
      "Riboflavin                          3.091297             1.3\n",
      "Thiamin                             3.109452             1.2\n",
      "Vitamin A, RAE                    900.000007           900.0\n",
      "Vitamin B-12                        5.024255             2.4\n",
      "Vitamin B-6                         2.404811             1.3\n",
      "Vitamin C, total ascorbic acid     75.000009            75.0\n",
      "Vitamin E (alpha-tocopherol)       23.235981            15.0\n",
      "Vitamin K (phylloquinone)          75.000012            75.0\n",
      "Zinc, Zn                           23.496148            11.0\n",
      "Sodium, Na                       1241.941008          2300.0\n",
      "Energy                          12970.399278         12970.4\n",
      "\n",
      "\n",
      "Constraining nutrients are:\n",
      "['Calcium, Ca', 'Carbohydrate, by difference', 'Vitamin A, RAE', 'Vitamin C, total ascorbic acid', 'Vitamin K (phylloquinone)']\n",
      "Result for restaurant: Ttoust\n",
      "Cost of diet for M 14-18 is $6.16 per day.\n",
      "\n",
      "\n",
      "Diet (in 100s of grams or milliliters):\n",
      "Egg                2.352941\n",
      "Purple Cabbage     0.041022\n",
      "Spinach            7.414464\n",
      "Sesame             0.105656\n",
      "Brown Sugar        0.003708\n",
      "Flour              2.220447\n",
      "dtype: float64\n",
      "\n",
      "\n",
      "With the following nutritional outcomes of interest:\n",
      "                                     Outcome  Recommendation\n",
      "Nutrition                                                   \n",
      "Energy                          12970.384809          9204.8\n",
      "Protein                            74.467866            52.0\n",
      "Fiber, total dietary               48.215453            30.8\n",
      "Folate, DFE                      1155.671349           400.0\n",
      "Calcium, Ca                      1300.000000          1300.0\n",
      "Carbohydrate, by difference       198.592688           130.0\n",
      "Iron, Fe                           40.207021            11.0\n",
      "Magnesium, Mg                     969.415841           410.0\n",
      "Niacin                             16.000000            16.0\n",
      "Phosphorus, P                    1633.043800          1250.0\n",
      "Potassium, K                     4700.000000          4700.0\n",
      "Riboflavin                          3.182067             1.3\n",
      "Thiamin                             1.631223             1.2\n",
      "Vitamin A, RAE                   4311.005991           900.0\n",
      "Vitamin B-12                        2.400000             2.4\n",
      "Vitamin B-6                         2.458683             1.3\n",
      "Vitamin C, total ascorbic acid     75.000000            75.0\n",
      "Vitamin E (alpha-tocopherol)       16.629849            15.0\n",
      "Vitamin K (phylloquinone)        3665.565520            75.0\n",
      "Zinc, Zn                           15.953022            11.0\n",
      "Sodium, Na                        831.473070          2300.0\n",
      "Energy                          12970.384809         12970.4\n",
      "\n",
      "\n",
      "Constraining nutrients are:\n",
      "['Calcium, Ca', 'Niacin', 'Potassium, K', 'Vitamin B-12', 'Vitamin C, total ascorbic acid']\n",
      "Result for restaurant: IB\n",
      "Cost of diet for M 14-18 is $7.21 per day.\n",
      "\n",
      "\n",
      "Diet (in 100s of grams or milliliters):\n",
      "bun                0.500017\n",
      "ketchup            0.025089\n",
      "lettuce            1.026597\n",
      "cheddar cheese     0.673220\n",
      "grilled onion      0.000002\n",
      "hot sauce          0.316260\n",
      "sandwich bun       0.500017\n",
      "avocado           11.513388\n",
      "cheese             0.673220\n",
      "dtype: float64\n",
      "\n",
      "\n",
      "With the following nutritional outcomes of interest:\n",
      "                                     Outcome  Recommendation\n",
      "Nutrition                                                   \n",
      "Energy                          12088.269283          9204.8\n",
      "Protein                            73.491626            52.0\n",
      "Fiber, total dietary               81.328943            30.8\n",
      "Folate, DFE                      1161.283918           400.0\n",
      "Calcium, Ca                      1300.000009          1300.0\n",
      "Carbohydrate, by difference       130.000002           130.0\n",
      "Iron, Fe                           11.000000            11.0\n",
      "Magnesium, Mg                     410.000015           410.0\n",
      "Niacin                             26.343767            16.0\n",
      "Phosphorus, P                    1451.062852          1250.0\n",
      "Potassium, K                     6472.952458          4700.0\n",
      "Riboflavin                          2.591279             1.3\n",
      "Thiamin                             1.227355             1.2\n",
      "Vitamin A, RAE                    900.000009           900.0\n",
      "Vitamin B-12                        2.464910             2.4\n",
      "Vitamin B-6                         3.859589             1.3\n",
      "Vitamin C, total ascorbic acid    122.272869            75.0\n",
      "Vitamin E (alpha-tocopherol)       25.862138            15.0\n",
      "Vitamin K (phylloquinone)         382.894502            75.0\n",
      "Zinc, Zn                           15.899589            11.0\n",
      "Sodium, Na                       2299.999459          2300.0\n",
      "Energy                          12088.269283         12970.4\n",
      "\n",
      "\n",
      "Constraining nutrients are:\n",
      "['Calcium, Ca', 'Carbohydrate, by difference', 'Iron, Fe', 'Magnesium, Mg', 'Vitamin A, RAE']\n",
      "Result for restaurant: Poke Bar\n",
      "Cost of diet for M 14-18 is $17.20 per day.\n",
      "\n",
      "\n",
      "Diet (in 100s of grams or milliliters):\n",
      "salmon         1.437845\n",
      "white rice     6.306049\n",
      "kale          13.942401\n",
      "dtype: float64\n",
      "\n",
      "\n",
      "With the following nutritional outcomes of interest:\n",
      "                                     Outcome  Recommendation\n",
      "Nutrition                                                   \n",
      "Energy                          12970.400097          9204.8\n",
      "Protein                           107.593602            52.0\n",
      "Fiber, total dietary               72.298361            30.8\n",
      "Folate, DFE                       927.037007           400.0\n",
      "Calcium, Ca                      3617.370846          1300.0\n",
      "Carbohydrate, by difference       566.929147           130.0\n",
      "Iron, Fe                           25.003826            11.0\n",
      "Magnesium, Mg                     719.632767           410.0\n",
      "Niacin                             45.253694            16.0\n",
      "Phosphorus, P                    1729.907709          1250.0\n",
      "Potassium, K                     5853.152956          4700.0\n",
      "Riboflavin                          5.193306             1.3\n",
      "Thiamin                             2.743360             1.2\n",
      "Vitamin A, RAE                   3443.513563           900.0\n",
      "Vitamin B-12                        4.644240             2.4\n",
      "Vitamin B-6                         5.713440             1.3\n",
      "Vitamin C, total ascorbic acid   1307.827808            75.0\n",
      "Vitamin E (alpha-tocopherol)       15.000000            15.0\n",
      "Vitamin K (phylloquinone)        5432.678186            75.0\n",
      "Zinc, Zn                           11.000000            11.0\n",
      "Sodium, Na                        823.780097          2300.0\n",
      "Energy                          12970.400097         12970.4\n",
      "\n",
      "\n",
      "Constraining nutrients are:\n",
      "['Vitamin E (alpha-tocopherol)', 'Zinc, Zn', 'Energy']\n"
     ]
    },
    {
     "name": "stderr",
     "output_type": "stream",
     "text": [
      "/tmp/ipykernel_30/2046845037.py:22: UserWarning:\n",
      "\n",
      "Prices have no units.  BE CAREFUL!  We're assuming prices are per hectogram or deciliter!\n",
      "\n",
      "/tmp/ipykernel_30/2046845037.py:22: UserWarning:\n",
      "\n",
      "Prices have no units.  BE CAREFUL!  We're assuming prices are per hectogram or deciliter!\n",
      "\n",
      "/tmp/ipykernel_30/2046845037.py:22: UserWarning:\n",
      "\n",
      "Prices have no units.  BE CAREFUL!  We're assuming prices are per hectogram or deciliter!\n",
      "\n",
      "/tmp/ipykernel_30/2046845037.py:22: UserWarning:\n",
      "\n",
      "Prices have no units.  BE CAREFUL!  We're assuming prices are per hectogram or deciliter!\n",
      "\n",
      "/tmp/ipykernel_30/2046845037.py:91: UserWarning:\n",
      "\n",
      "The solution does not satisfy the constraints within the required tolerance of 3.16E-04, yet no errors were raised and there is no certificate of infeasibility or unboundedness. Check whether the slack and constraint residuals are acceptable; if not, consider enabling presolve, adjusting the tolerance option(s), and/or using a different method. Please consider submitting a bug report.\n",
      "\n",
      "/tmp/ipykernel_30/2046845037.py:22: UserWarning:\n",
      "\n",
      "Prices have no units.  BE CAREFUL!  We're assuming prices are per hectogram or deciliter!\n",
      "\n",
      "/tmp/ipykernel_30/2046845037.py:22: UserWarning:\n",
      "\n",
      "Prices have no units.  BE CAREFUL!  We're assuming prices are per hectogram or deciliter!\n",
      "\n",
      "/tmp/ipykernel_30/2046845037.py:22: UserWarning:\n",
      "\n",
      "Prices have no units.  BE CAREFUL!  We're assuming prices are per hectogram or deciliter!\n",
      "\n"
     ]
    },
    {
     "name": "stdout",
     "output_type": "stream",
     "text": [
      "Result for restaurant: Thai Basil\n",
      "Cost of diet for F 19-30 is $6.26 per day.\n",
      "\n",
      "\n",
      "Diet (in 100s of grams or milliliters):\n",
      "egg         3.849673\n",
      "carrots     3.968611\n",
      "rice        0.136584\n",
      "broccoli    0.882353\n",
      "peanuts     4.064671\n",
      "tofu        1.953617\n",
      "dtype: float64\n",
      "\n",
      "\n",
      "With the following nutritional outcomes of interest:\n",
      "                                     Outcome  Recommendation\n",
      "Nutrition                                                   \n",
      "Energy                          12970.400000          8368.0\n",
      "Protein                           178.409496            46.0\n",
      "Fiber, total dietary               50.776746            28.0\n",
      "Folate, DFE                       971.456275           400.0\n",
      "Calcium, Ca                      1000.000000          1000.0\n",
      "Carbohydrate, by difference       130.000000           130.0\n",
      "Iron, Fe                           21.331229            18.0\n",
      "Magnesium, Mg                     810.011338           310.0\n",
      "Niacin                             56.614719            14.0\n",
      "Phosphorus, P                    2482.861635           700.0\n",
      "Potassium, K                     4700.000002          4700.0\n",
      "Riboflavin                          2.623091             1.1\n",
      "Thiamin                             3.288848             1.1\n",
      "Vitamin A, RAE                    700.000000           700.0\n",
      "Vitamin B-12                        3.926667             2.4\n",
      "Vitamin B-6                         2.402367             1.3\n",
      "Vitamin C, total ascorbic acid     82.707803            75.0\n",
      "Vitamin E (alpha-tocopherol)       26.796592            15.0\n",
      "Vitamin K (phylloquinone)          90.000000            90.0\n",
      "Zinc, Zn                           24.251388             8.0\n",
      "Sodium, Na                        978.051710          2300.0\n",
      "Energy                          12970.400000         12970.4\n",
      "\n",
      "\n",
      "Constraining nutrients are:\n",
      "['Calcium, Ca', 'Carbohydrate, by difference', 'Potassium, K', 'Vitamin A, RAE', 'Vitamin K (phylloquinone)', 'Energy']\n",
      "Result for restaurant: Ttoust\n",
      "Cost of diet for F 19-30 is $5.35 per day.\n",
      "\n",
      "\n",
      "Diet (in 100s of grams or milliliters):\n",
      "Egg                0.899093\n",
      "Purple Cabbage     0.256304\n",
      "Spinach            6.162312\n",
      "Jasmine Rice       0.000003\n",
      "Pork               2.213322\n",
      "Flour              2.310569\n",
      "dtype: float64\n",
      "\n",
      "\n",
      "With the following nutritional outcomes of interest:\n",
      "                                     Outcome  Recommendation\n",
      "Nutrition                                                   \n",
      "Energy                          11200.195214          8368.0\n",
      "Protein                            72.495173            46.0\n",
      "Fiber, total dietary               45.596253            28.0\n",
      "Folate, DFE                       969.007055           400.0\n",
      "Calcium, Ca                      1000.000013          1000.0\n",
      "Carbohydrate, by difference       197.952114           130.0\n",
      "Iron, Fe                           32.853662            18.0\n",
      "Magnesium, Mg                     834.088283           310.0\n",
      "Niacin                             21.302321            14.0\n",
      "Phosphorus, P                    1450.444676           700.0\n",
      "Potassium, K                     4700.000423          4700.0\n",
      "Riboflavin                          2.482297             1.1\n",
      "Thiamin                             1.711424             1.1\n",
      "Vitamin A, RAE                   3462.787829           700.0\n",
      "Vitamin B-12                        2.400000             2.4\n",
      "Vitamin B-6                         2.359314             1.3\n",
      "Vitamin C, total ascorbic acid     75.000008            75.0\n",
      "Vitamin E (alpha-tocopherol)       15.000000            15.0\n",
      "Vitamin K (phylloquinone)        3055.898332            90.0\n",
      "Zinc, Zn                           14.021898             8.0\n",
      "Sodium, Na                        665.224534          2300.0\n",
      "Energy                          11200.195214         12970.4\n",
      "\n",
      "\n",
      "Constraining nutrients are:\n",
      "['Calcium, Ca', 'Vitamin B-12', 'Vitamin C, total ascorbic acid', 'Vitamin E (alpha-tocopherol)']\n",
      "Result for restaurant: IB\n",
      "Cost of diet for F 19-30 is $10.59 per day.\n",
      "\n",
      "\n",
      "Diet (in 100s of grams or milliliters):\n",
      "Series([], dtype: float64)\n",
      "\n",
      "\n",
      "With the following nutritional outcomes of interest:\n",
      "                                Outcome  Recommendation\n",
      "Nutrition                                              \n",
      "Energy                              NaN          8368.0\n",
      "Protein                             NaN            46.0\n",
      "Fiber, total dietary                NaN            28.0\n",
      "Folate, DFE                         NaN           400.0\n",
      "Calcium, Ca                         NaN          1000.0\n",
      "Carbohydrate, by difference         NaN           130.0\n",
      "Iron, Fe                            NaN            18.0\n",
      "Magnesium, Mg                       NaN           310.0\n",
      "Niacin                              NaN            14.0\n",
      "Phosphorus, P                       NaN           700.0\n",
      "Potassium, K                        NaN          4700.0\n",
      "Riboflavin                          NaN             1.1\n",
      "Thiamin                             NaN             1.1\n",
      "Vitamin A, RAE                      NaN           700.0\n",
      "Vitamin B-12                        NaN             2.4\n",
      "Vitamin B-6                         NaN             1.3\n",
      "Vitamin C, total ascorbic acid      NaN            75.0\n",
      "Vitamin E (alpha-tocopherol)        NaN            15.0\n",
      "Vitamin K (phylloquinone)           NaN            90.0\n",
      "Zinc, Zn                            NaN             8.0\n",
      "Sodium, Na                          NaN          2300.0\n",
      "Energy                              NaN         12970.4\n",
      "\n",
      "\n",
      "Constraining nutrients are:\n",
      "[]\n",
      "Result for restaurant: Poke Bar\n",
      "Cost of diet for F 19-30 is $14.96 per day.\n",
      "\n",
      "\n",
      "Diet (in 100s of grams or milliliters):\n",
      "salmon         2.167049\n",
      "white rice     3.863024\n",
      "kale          10.298635\n",
      "edamame        0.084944\n",
      "dtype: float64\n",
      "\n",
      "\n",
      "With the following nutritional outcomes of interest:\n",
      "                                     Outcome  Recommendation\n",
      "Nutrition                                                   \n",
      "Energy                          12970.398766          8368.0\n",
      "Protein                            98.285005            46.0\n",
      "Fiber, total dietary               51.920381            28.0\n",
      "Folate, DFE                       734.604722           400.0\n",
      "Calcium, Ca                      2679.168561          1000.0\n",
      "Carbohydrate, by difference       355.797144           130.0\n",
      "Iron, Fe                           18.753548            18.0\n",
      "Magnesium, Mg                     538.837648           310.0\n",
      "Niacin                             41.025532            14.0\n",
      "Phosphorus, P                    1479.023873           700.0\n",
      "Potassium, K                     4700.000003          4700.0\n",
      "Riboflavin                          4.003384             1.1\n",
      "Thiamin                             2.161052             1.1\n",
      "Vitamin A, RAE                   2609.868449           700.0\n",
      "Vitamin B-12                        6.999569             2.4\n",
      "Vitamin B-6                         4.586020             1.3\n",
      "Vitamin C, total ascorbic acid    970.794205            75.0\n",
      "Vitamin E (alpha-tocopherol)       15.000000            15.0\n",
      "Vitamin K (phylloquinone)        4015.818665            90.0\n",
      "Zinc, Zn                            8.000000             8.0\n",
      "Sodium, Na                        684.471473          2300.0\n",
      "Energy                          12970.398766         12970.4\n",
      "\n",
      "\n",
      "Constraining nutrients are:\n",
      "['Potassium, K', 'Vitamin E (alpha-tocopherol)', 'Zinc, Zn']\n",
      "Result for restaurant: Thai Basil\n",
      "Cost of diet for M 19-30 is $6.69 per day.\n",
      "\n",
      "\n",
      "Diet (in 100s of grams or milliliters):\n",
      "egg         4.947712\n",
      "carrots     3.846586\n",
      "rice        0.179986\n",
      "broccoli    1.176470\n",
      "peanuts     3.770186\n",
      "tofu        1.708200\n",
      "dtype: float64\n",
      "\n",
      "\n",
      "With the following nutritional outcomes of interest:\n",
      "                                     Outcome  Recommendation\n",
      "Nutrition                                                   \n",
      "Energy                          12970.397117         10041.6\n",
      "Protein                           182.869390            56.0\n",
      "Fiber, total dietary               48.402666            33.6\n",
      "Folate, DFE                       901.074394           400.0\n",
      "Calcium, Ca                      1000.000007          1000.0\n",
      "Carbohydrate, by difference       130.000008           130.0\n",
      "Iron, Fe                           22.193400             8.0\n",
      "Magnesium, Mg                     777.823244           400.0\n",
      "Niacin                             53.041096            16.0\n",
      "Phosphorus, P                    2591.924512           700.0\n",
      "Potassium, K                     4700.001264          4700.0\n",
      "Riboflavin                          3.066529             1.3\n",
      "Thiamin                             3.199720             1.2\n",
      "Vitamin A, RAE                    900.000018           900.0\n",
      "Vitamin B-12                        5.046667             2.4\n",
      "Vitamin B-6                         2.410318             1.3\n",
      "Vitamin C, total ascorbic acid    109.290800            90.0\n",
      "Vitamin E (alpha-tocopherol)       24.908888            15.0\n",
      "Vitamin K (phylloquinone)         120.000008           120.0\n",
      "Zinc, Zn                           24.454720            11.0\n",
      "Sodium, Na                       1108.886965          2300.0\n",
      "Energy                          12970.397117         12970.4\n",
      "\n",
      "\n",
      "Constraining nutrients are:\n",
      "['Calcium, Ca', 'Carbohydrate, by difference', 'Vitamin A, RAE', 'Vitamin K (phylloquinone)']\n",
      "Result for restaurant: Ttoust\n",
      "Cost of diet for M 19-30 is $5.41 per day.\n",
      "\n",
      "\n",
      "Diet (in 100s of grams or milliliters):\n",
      "Egg                0.748142\n",
      "Purple Cabbage     0.515229\n",
      "Spinach            6.186931\n",
      "Pork               2.443127\n",
      "Flour              1.978105\n",
      "dtype: float64\n",
      "\n",
      "\n",
      "With the following nutritional outcomes of interest:\n",
      "                                     Outcome  Recommendation\n",
      "Nutrition                                                   \n",
      "Energy                          10336.455654         10041.6\n",
      "Protein                            69.997447            56.0\n",
      "Fiber, total dietary               41.843796            33.6\n",
      "Folate, DFE                       967.952978           400.0\n",
      "Calcium, Ca                      1000.000015          1000.0\n",
      "Carbohydrate, by difference       175.045744           130.0\n",
      "Iron, Fe                           31.722908             8.0\n",
      "Magnesium, Mg                     801.132558           400.0\n",
      "Niacin                             20.249316            16.0\n",
      "Phosphorus, P                    1343.733866           700.0\n",
      "Potassium, K                     4700.000105          4700.0\n",
      "Riboflavin                          2.400903             1.3\n",
      "Thiamin                             1.656738             1.2\n",
      "Vitamin A, RAE                   3468.991468           900.0\n",
      "Vitamin B-12                        2.400000             2.4\n",
      "Vitamin B-6                         2.379239             1.3\n",
      "Vitamin C, total ascorbic acid     90.000006            90.0\n",
      "Vitamin E (alpha-tocopherol)       15.000000            15.0\n",
      "Vitamin K (phylloquinone)        3077.309175           120.0\n",
      "Zinc, Zn                           13.064182            11.0\n",
      "Sodium, Na                        664.268322          2300.0\n",
      "Energy                          10336.455654         12970.4\n",
      "\n",
      "\n",
      "Constraining nutrients are:\n",
      "['Calcium, Ca', 'Vitamin B-12', 'Vitamin C, total ascorbic acid', 'Vitamin E (alpha-tocopherol)']\n",
      "Result for restaurant: IB\n",
      "Cost of diet for M 19-30 is $7.08 per day.\n",
      "\n",
      "\n",
      "Diet (in 100s of grams or milliliters):\n",
      "bun                0.515668\n",
      "ketchup            0.314520\n",
      "lettuce            1.203287\n",
      "cheddar cheese     0.613574\n",
      "grilled onion      0.000002\n",
      "sandwich bun       0.515668\n",
      "avocado           11.212515\n",
      "cheese             0.613574\n",
      "dtype: float64\n",
      "\n",
      "\n",
      "With the following nutritional outcomes of interest:\n",
      "                                     Outcome  Recommendation\n",
      "Nutrition                                                   \n",
      "Energy                          12048.188299         10041.6\n",
      "Protein                            70.459918            56.0\n",
      "Fiber, total dietary               78.935069            33.6\n",
      "Folate, DFE                      1142.513921           400.0\n",
      "Calcium, Ca                      1220.686973          1000.0\n",
      "Carbohydrate, by difference       130.000000           130.0\n",
      "Iron, Fe                           10.617107             8.0\n",
      "Magnesium, Mg                     400.000001           400.0\n",
      "Niacin                             25.957668            16.0\n",
      "Phosphorus, P                    1383.207181           700.0\n",
      "Potassium, K                     6327.875828          4700.0\n",
      "Riboflavin                          2.494838             1.3\n",
      "Thiamin                             1.200000             1.2\n",
      "Vitamin A, RAE                    900.000003           900.0\n",
      "Vitamin B-12                        2.400000             2.4\n",
      "Vitamin B-6                         3.688724             1.3\n",
      "Vitamin C, total ascorbic acid    114.020788            90.0\n",
      "Vitamin E (alpha-tocopherol)       24.130721            15.0\n",
      "Vitamin K (phylloquinone)         396.173958           120.0\n",
      "Zinc, Zn                           15.337759            11.0\n",
      "Sodium, Na                       1841.884429          2300.0\n",
      "Energy                          12048.188299         12970.4\n",
      "\n",
      "\n",
      "Constraining nutrients are:\n",
      "['Carbohydrate, by difference', 'Magnesium, Mg', 'Thiamin', 'Vitamin A, RAE', 'Vitamin B-12']\n"
     ]
    },
    {
     "name": "stderr",
     "output_type": "stream",
     "text": [
      "/tmp/ipykernel_30/2046845037.py:22: UserWarning:\n",
      "\n",
      "Prices have no units.  BE CAREFUL!  We're assuming prices are per hectogram or deciliter!\n",
      "\n",
      "/tmp/ipykernel_30/2046845037.py:22: UserWarning:\n",
      "\n",
      "Prices have no units.  BE CAREFUL!  We're assuming prices are per hectogram or deciliter!\n",
      "\n",
      "/tmp/ipykernel_30/2046845037.py:22: UserWarning:\n",
      "\n",
      "Prices have no units.  BE CAREFUL!  We're assuming prices are per hectogram or deciliter!\n",
      "\n",
      "/tmp/ipykernel_30/2046845037.py:22: UserWarning:\n",
      "\n",
      "Prices have no units.  BE CAREFUL!  We're assuming prices are per hectogram or deciliter!\n",
      "\n",
      "/tmp/ipykernel_30/2046845037.py:22: UserWarning:\n",
      "\n",
      "Prices have no units.  BE CAREFUL!  We're assuming prices are per hectogram or deciliter!\n",
      "\n",
      "/tmp/ipykernel_30/2046845037.py:22: UserWarning:\n",
      "\n",
      "Prices have no units.  BE CAREFUL!  We're assuming prices are per hectogram or deciliter!\n",
      "\n"
     ]
    },
    {
     "name": "stdout",
     "output_type": "stream",
     "text": [
      "Result for restaurant: Poke Bar\n",
      "Cost of diet for M 19-30 is $17.20 per day.\n",
      "\n",
      "\n",
      "Diet (in 100s of grams or milliliters):\n",
      "salmon         1.437845\n",
      "white rice     6.306049\n",
      "kale          13.942401\n",
      "dtype: float64\n",
      "\n",
      "\n",
      "With the following nutritional outcomes of interest:\n",
      "                                     Outcome  Recommendation\n",
      "Nutrition                                                   \n",
      "Energy                          12970.400041         10041.6\n",
      "Protein                           107.593601            56.0\n",
      "Fiber, total dietary               72.298361            33.6\n",
      "Folate, DFE                       927.037017           400.0\n",
      "Calcium, Ca                      3617.370892          1000.0\n",
      "Carbohydrate, by difference       566.929142           130.0\n",
      "Iron, Fe                           25.003826             8.0\n",
      "Magnesium, Mg                     719.632770           400.0\n",
      "Niacin                             45.253694            16.0\n",
      "Phosphorus, P                    1729.907705           700.0\n",
      "Potassium, K                     5853.152997          4700.0\n",
      "Riboflavin                          5.193306             1.3\n",
      "Thiamin                             2.743360             1.2\n",
      "Vitamin A, RAE                   3443.513600           900.0\n",
      "Vitamin B-12                        4.644240             2.4\n",
      "Vitamin B-6                         5.713440             1.3\n",
      "Vitamin C, total ascorbic acid   1307.827826            90.0\n",
      "Vitamin E (alpha-tocopherol)       15.000000            15.0\n",
      "Vitamin K (phylloquinone)        5432.678257           120.0\n",
      "Zinc, Zn                           11.000000            11.0\n",
      "Sodium, Na                        823.780122          2300.0\n",
      "Energy                          12970.400041         12970.4\n",
      "\n",
      "\n",
      "Constraining nutrients are:\n",
      "['Vitamin E (alpha-tocopherol)', 'Zinc, Zn', 'Energy']\n",
      "Result for restaurant: Thai Basil\n",
      "Cost of diet for F 31-50 is $6.26 per day.\n",
      "\n",
      "\n",
      "Diet (in 100s of grams or milliliters):\n",
      "egg         3.849673\n",
      "carrots     3.968611\n",
      "rice        0.136584\n",
      "broccoli    0.882353\n",
      "peanuts     4.064671\n",
      "tofu        1.953617\n",
      "dtype: float64\n",
      "\n",
      "\n",
      "With the following nutritional outcomes of interest:\n",
      "                                     Outcome  Recommendation\n",
      "Nutrition                                                   \n",
      "Energy                          12970.399992          7531.2\n",
      "Protein                           178.409496            46.0\n",
      "Fiber, total dietary               50.776747            25.2\n",
      "Folate, DFE                       971.456277           400.0\n",
      "Calcium, Ca                      1000.000000          1000.0\n",
      "Carbohydrate, by difference       130.000000           130.0\n",
      "Iron, Fe                           21.331229            18.0\n",
      "Magnesium, Mg                     810.011340           320.0\n",
      "Niacin                             56.614720            14.0\n",
      "Phosphorus, P                    2482.861640           700.0\n",
      "Potassium, K                     4700.000027          4700.0\n",
      "Riboflavin                          2.623091             1.1\n",
      "Thiamin                             3.288848             1.1\n",
      "Vitamin A, RAE                    700.000000           700.0\n",
      "Vitamin B-12                        3.926667             2.4\n",
      "Vitamin B-6                         2.402367             1.3\n",
      "Vitamin C, total ascorbic acid     82.707803            75.0\n",
      "Vitamin E (alpha-tocopherol)       26.796592            15.0\n",
      "Vitamin K (phylloquinone)          90.000000            90.0\n",
      "Zinc, Zn                           24.251388             8.0\n",
      "Sodium, Na                        978.051717          2300.0\n",
      "Energy                          12970.399992         12970.4\n",
      "\n",
      "\n",
      "Constraining nutrients are:\n",
      "['Calcium, Ca', 'Carbohydrate, by difference', 'Potassium, K', 'Vitamin A, RAE', 'Vitamin K (phylloquinone)', 'Energy']\n",
      "Result for restaurant: Ttoust\n",
      "Cost of diet for F 31-50 is $5.35 per day.\n",
      "\n",
      "\n",
      "Diet (in 100s of grams or milliliters):\n",
      "Egg                0.899093\n",
      "Purple Cabbage     0.256304\n",
      "Spinach            6.162313\n",
      "Pork               2.213321\n",
      "Flour              2.310569\n",
      "dtype: float64\n",
      "\n",
      "\n",
      "With the following nutritional outcomes of interest:\n",
      "                                     Outcome  Recommendation\n",
      "Nutrition                                                   \n",
      "Energy                          10500.544210          7531.2\n",
      "Protein                            72.495138            46.0\n",
      "Fiber, total dietary               45.596244            25.2\n",
      "Folate, DFE                       969.007104           400.0\n",
      "Calcium, Ca                      1000.000028          1000.0\n",
      "Carbohydrate, by difference       197.951975           130.0\n",
      "Iron, Fe                           32.853661            18.0\n",
      "Magnesium, Mg                     834.088243           320.0\n",
      "Niacin                             21.302316            14.0\n",
      "Phosphorus, P                    1450.444526           700.0\n",
      "Potassium, K                     4700.000197          4700.0\n",
      "Riboflavin                          2.482297             1.1\n",
      "Thiamin                             1.711424             1.1\n",
      "Vitamin A, RAE                   3462.788140           700.0\n",
      "Vitamin B-12                        2.400000             2.4\n",
      "Vitamin B-6                         2.359314             1.3\n",
      "Vitamin C, total ascorbic acid     75.000011            75.0\n",
      "Vitamin E (alpha-tocopherol)       15.000000            15.0\n",
      "Vitamin K (phylloquinone)        3055.898537            90.0\n",
      "Zinc, Zn                           14.021897             8.0\n",
      "Sodium, Na                        665.223583          2300.0\n",
      "Energy                          10500.544210         12970.4\n",
      "\n",
      "\n",
      "Constraining nutrients are:\n",
      "['Calcium, Ca', 'Vitamin B-12', 'Vitamin C, total ascorbic acid', 'Vitamin E (alpha-tocopherol)']\n",
      "Result for restaurant: IB\n",
      "Cost of diet for F 31-50 is $10.59 per day.\n",
      "\n",
      "\n",
      "Diet (in 100s of grams or milliliters):\n",
      "bun                1.515613\n",
      "lettuce            3.878586\n",
      "cheddar cheese     0.173106\n",
      "sandwich bun       1.515613\n",
      "avocado           12.271541\n",
      "cheese             0.173106\n",
      "dtype: float64\n",
      "\n",
      "\n",
      "With the following nutritional outcomes of interest:\n",
      "                                     Outcome  Recommendation\n",
      "Nutrition                                                   \n",
      "Energy                          12970.400090          7531.2\n",
      "Protein                            86.949859            46.0\n",
      "Fiber, total dietary               91.519870            25.2\n",
      "Folate, DFE                      1433.805992           400.0\n",
      "Calcium, Ca                      1000.000000          1000.0\n",
      "Carbohydrate, by difference       172.366227           130.0\n",
      "Iron, Fe                           18.000000            18.0\n",
      "Magnesium, Mg                     479.299804           320.0\n",
      "Niacin                             35.425264            14.0\n",
      "Phosphorus, P                    1434.552203           700.0\n",
      "Potassium, K                     7685.486478          4700.0\n",
      "Riboflavin                          2.833744             1.1\n",
      "Thiamin                             1.901428             1.1\n",
      "Vitamin A, RAE                   1745.405543           700.0\n",
      "Vitamin B-12                        4.184636             2.4\n",
      "Vitamin B-6                         4.545653             1.3\n",
      "Vitamin C, total ascorbic acid    152.463115            75.0\n",
      "Vitamin E (alpha-tocopherol)       26.359200            15.0\n",
      "Vitamin K (phylloquinone)         762.645505            90.0\n",
      "Zinc, Zn                           18.734124             8.0\n",
      "Sodium, Na                       2300.000000          2300.0\n",
      "Energy                          12970.400090         12970.4\n",
      "\n",
      "\n",
      "Constraining nutrients are:\n",
      "['Calcium, Ca', 'Iron, Fe', 'Sodium, Na', 'Energy']\n",
      "Result for restaurant: Poke Bar\n",
      "Cost of diet for F 31-50 is $14.96 per day.\n",
      "\n",
      "\n",
      "Diet (in 100s of grams or milliliters):\n",
      "salmon         2.167049\n",
      "white rice     3.863024\n",
      "kale          10.298635\n",
      "edamame        0.084944\n",
      "dtype: float64\n",
      "\n",
      "\n",
      "With the following nutritional outcomes of interest:\n",
      "                                     Outcome  Recommendation\n",
      "Nutrition                                                   \n",
      "Energy                          12970.399163          7531.2\n",
      "Protein                            98.285005            46.0\n",
      "Fiber, total dietary               51.920381            25.2\n",
      "Folate, DFE                       734.604727           400.0\n",
      "Calcium, Ca                      2679.168559          1000.0\n",
      "Carbohydrate, by difference       355.797142           130.0\n",
      "Iron, Fe                           18.753548            18.0\n",
      "Magnesium, Mg                     538.837647           320.0\n",
      "Niacin                             41.025531            14.0\n",
      "Phosphorus, P                    1479.023872           700.0\n",
      "Potassium, K                     4700.000007          4700.0\n",
      "Riboflavin                          4.003384             1.1\n",
      "Thiamin                             2.161052             1.1\n",
      "Vitamin A, RAE                   2609.868453           700.0\n",
      "Vitamin B-12                        6.999569             2.4\n",
      "Vitamin B-6                         4.586020             1.3\n",
      "Vitamin C, total ascorbic acid    970.794204            75.0\n",
      "Vitamin E (alpha-tocopherol)       15.000000            15.0\n",
      "Vitamin K (phylloquinone)        4015.818666            90.0\n",
      "Zinc, Zn                            8.000000             8.0\n",
      "Sodium, Na                        684.471472          2300.0\n",
      "Energy                          12970.399163         12970.4\n",
      "\n",
      "\n",
      "Constraining nutrients are:\n",
      "['Potassium, K', 'Vitamin E (alpha-tocopherol)', 'Zinc, Zn']\n"
     ]
    },
    {
     "name": "stderr",
     "output_type": "stream",
     "text": [
      "/tmp/ipykernel_30/2046845037.py:22: UserWarning:\n",
      "\n",
      "Prices have no units.  BE CAREFUL!  We're assuming prices are per hectogram or deciliter!\n",
      "\n",
      "/tmp/ipykernel_30/2046845037.py:22: UserWarning:\n",
      "\n",
      "Prices have no units.  BE CAREFUL!  We're assuming prices are per hectogram or deciliter!\n",
      "\n",
      "/tmp/ipykernel_30/2046845037.py:22: UserWarning:\n",
      "\n",
      "Prices have no units.  BE CAREFUL!  We're assuming prices are per hectogram or deciliter!\n",
      "\n",
      "/tmp/ipykernel_30/2046845037.py:22: UserWarning:\n",
      "\n",
      "Prices have no units.  BE CAREFUL!  We're assuming prices are per hectogram or deciliter!\n",
      "\n",
      "/tmp/ipykernel_30/2046845037.py:22: UserWarning:\n",
      "\n",
      "Prices have no units.  BE CAREFUL!  We're assuming prices are per hectogram or deciliter!\n",
      "\n"
     ]
    },
    {
     "name": "stdout",
     "output_type": "stream",
     "text": [
      "Result for restaurant: Thai Basil\n",
      "Cost of diet for M 31-50 is $6.69 per day.\n",
      "\n",
      "\n",
      "Diet (in 100s of grams or milliliters):\n",
      "egg         4.947712\n",
      "carrots     3.846583\n",
      "rice        0.179986\n",
      "broccoli    1.176471\n",
      "peanuts     3.770187\n",
      "tofu        1.708200\n",
      "dtype: float64\n",
      "\n",
      "\n",
      "With the following nutritional outcomes of interest:\n",
      "                                     Outcome  Recommendation\n",
      "Nutrition                                                   \n",
      "Energy                          12970.399906          9204.8\n",
      "Protein                           182.869416            56.0\n",
      "Fiber, total dietary               48.402665            30.8\n",
      "Folate, DFE                       901.074694           400.0\n",
      "Calcium, Ca                      1000.000001          1000.0\n",
      "Carbohydrate, by difference       130.000001           130.0\n",
      "Iron, Fe                           22.193402             8.0\n",
      "Magnesium, Mg                     777.823418           420.0\n",
      "Niacin                             53.041107            16.0\n",
      "Phosphorus, P                    2591.924835           700.0\n",
      "Potassium, K                     4700.001125          4700.0\n",
      "Riboflavin                          3.066529             1.3\n",
      "Thiamin                             3.199721             1.2\n",
      "Vitamin A, RAE                    900.000003           900.0\n",
      "Vitamin B-12                        5.046667             2.4\n",
      "Vitamin B-6                         2.410318             1.3\n",
      "Vitamin C, total ascorbic acid    109.290788            90.0\n",
      "Vitamin E (alpha-tocopherol)       24.908897            15.0\n",
      "Vitamin K (phylloquinone)         120.000002           120.0\n",
      "Zinc, Zn                           24.454725            11.0\n",
      "Sodium, Na                       1108.886623          2300.0\n",
      "Energy                          12970.399906         12970.4\n",
      "\n",
      "\n",
      "Constraining nutrients are:\n",
      "['Calcium, Ca', 'Carbohydrate, by difference', 'Vitamin A, RAE', 'Vitamin K (phylloquinone)', 'Energy']\n",
      "Result for restaurant: Ttoust\n",
      "Cost of diet for M 31-50 is $5.41 per day.\n",
      "\n",
      "\n",
      "Diet (in 100s of grams or milliliters):\n",
      "Egg                0.748142\n",
      "Purple Cabbage     0.515229\n",
      "Spinach            6.186931\n",
      "Pork               2.443127\n",
      "Flour              1.978105\n",
      "dtype: float64\n",
      "\n",
      "\n",
      "With the following nutritional outcomes of interest:\n",
      "                                     Outcome  Recommendation\n",
      "Nutrition                                                   \n",
      "Energy                          10336.369932          9204.8\n",
      "Protein                            69.997447            56.0\n",
      "Fiber, total dietary               41.843798            30.8\n",
      "Folate, DFE                       967.952977           400.0\n",
      "Calcium, Ca                      1000.000013          1000.0\n",
      "Carbohydrate, by difference       175.045750           130.0\n",
      "Iron, Fe                           31.722908             8.0\n",
      "Magnesium, Mg                     801.132569           420.0\n",
      "Niacin                             20.249316            16.0\n",
      "Phosphorus, P                    1343.733904           700.0\n",
      "Potassium, K                     4700.000094          4700.0\n",
      "Riboflavin                          2.400903             1.3\n",
      "Thiamin                             1.656738             1.2\n",
      "Vitamin A, RAE                   3468.991470           900.0\n",
      "Vitamin B-12                        2.400000             2.4\n",
      "Vitamin B-6                         2.379239             1.3\n",
      "Vitamin C, total ascorbic acid     90.000005            90.0\n",
      "Vitamin E (alpha-tocopherol)       15.000000            15.0\n",
      "Vitamin K (phylloquinone)        3077.309167           120.0\n",
      "Zinc, Zn                           13.064183            11.0\n",
      "Sodium, Na                        664.268279          2300.0\n",
      "Energy                          10336.369932         12970.4\n",
      "\n",
      "\n",
      "Constraining nutrients are:\n",
      "['Calcium, Ca', 'Potassium, K', 'Vitamin B-12', 'Vitamin C, total ascorbic acid', 'Vitamin E (alpha-tocopherol)']\n",
      "Result for restaurant: IB\n",
      "Cost of diet for M 31-50 is $7.20 per day.\n",
      "\n",
      "\n",
      "Diet (in 100s of grams or milliliters):\n",
      "bun                0.416821\n",
      "ketchup            0.221608\n",
      "lettuce            1.015800\n",
      "cheddar cheese     0.757351\n",
      "sandwich bun       0.416821\n",
      "avocado           11.906506\n",
      "cheese             0.757351\n",
      "dtype: float64\n",
      "\n",
      "\n",
      "With the following nutritional outcomes of interest:\n",
      "                                     Outcome  Recommendation\n",
      "Nutrition                                                   \n",
      "Energy                          12459.752819          9204.8\n",
      "Protein                            75.227444            56.0\n",
      "Fiber, total dietary               83.184902            30.8\n",
      "Folate, DFE                      1192.022998           400.0\n",
      "Calcium, Ca                      1396.454993          1000.0\n",
      "Carbohydrate, by difference       130.000000           130.0\n",
      "Iron, Fe                           10.424396             8.0\n",
      "Magnesium, Mg                     420.000000           420.0\n",
      "Niacin                             26.408207            16.0\n",
      "Phosphorus, P                    1512.484998           700.0\n",
      "Potassium, K                     6595.910046          4700.0\n",
      "Riboflavin                          2.648125             1.3\n",
      "Thiamin                             1.200000             1.2\n",
      "Vitamin A, RAE                    900.000001           900.0\n",
      "Vitamin B-12                        2.400000             2.4\n",
      "Vitamin B-6                         3.835605             1.3\n",
      "Vitamin C, total ascorbic acid    117.448765            90.0\n",
      "Vitamin E (alpha-tocopherol)       25.476081            15.0\n",
      "Vitamin K (phylloquinone)         386.550355           120.0\n",
      "Zinc, Zn                           16.288899            11.0\n",
      "Sodium, Na                       1819.171691          2300.0\n",
      "Energy                          12459.752819         12970.4\n",
      "\n",
      "\n",
      "Constraining nutrients are:\n",
      "['Carbohydrate, by difference', 'Magnesium, Mg', 'Thiamin', 'Vitamin A, RAE', 'Vitamin B-12']\n",
      "Result for restaurant: Poke Bar\n",
      "Cost of diet for M 31-50 is $17.20 per day.\n",
      "\n",
      "\n",
      "Diet (in 100s of grams or milliliters):\n",
      "salmon         1.437845\n",
      "white rice     6.306049\n",
      "kale          13.942401\n",
      "dtype: float64\n",
      "\n",
      "\n",
      "With the following nutritional outcomes of interest:\n",
      "                                     Outcome  Recommendation\n",
      "Nutrition                                                   \n",
      "Energy                          12970.400002          9204.8\n",
      "Protein                           107.593601            56.0\n",
      "Fiber, total dietary               72.298361            30.8\n",
      "Folate, DFE                       927.037010           400.0\n",
      "Calcium, Ca                      3617.370862          1000.0\n",
      "Carbohydrate, by difference       566.929148           130.0\n",
      "Iron, Fe                           25.003826             8.0\n",
      "Magnesium, Mg                     719.632768           420.0\n",
      "Niacin                             45.253693            16.0\n",
      "Phosphorus, P                    1729.907702           700.0\n",
      "Potassium, K                     5853.152952          4700.0\n",
      "Riboflavin                          5.193306             1.3\n",
      "Thiamin                             2.743360             1.2\n",
      "Vitamin A, RAE                   3443.513571           900.0\n",
      "Vitamin B-12                        4.644240             2.4\n",
      "Vitamin B-6                         5.713440             1.3\n",
      "Vitamin C, total ascorbic acid   1307.827816            90.0\n",
      "Vitamin E (alpha-tocopherol)       15.000000            15.0\n",
      "Vitamin K (phylloquinone)        5432.678212           120.0\n",
      "Zinc, Zn                           11.000000            11.0\n",
      "Sodium, Na                        823.780096          2300.0\n",
      "Energy                          12970.400002         12970.4\n",
      "\n",
      "\n",
      "Constraining nutrients are:\n",
      "['Vitamin E (alpha-tocopherol)', 'Zinc, Zn', 'Energy']\n",
      "Result for restaurant: Thai Basil\n",
      "Cost of diet for F 51+ is $7.16 per day.\n",
      "\n",
      "\n",
      "Diet (in 100s of grams or milliliters):\n",
      "egg         3.849673\n",
      "carrots     4.427299\n",
      "rice        0.098724\n",
      "broccoli    0.882353\n",
      "peanuts     3.882918\n",
      "tofu        3.312157\n",
      "dtype: float64\n",
      "\n",
      "\n",
      "With the following nutritional outcomes of interest:\n",
      "                                     Outcome  Recommendation\n",
      "Nutrition                                                   \n",
      "Energy                          12970.399977          6694.4\n",
      "Protein                           188.835390            46.0\n",
      "Fiber, total dietary               51.855243            22.4\n",
      "Folate, DFE                       928.017398           400.0\n",
      "Calcium, Ca                      1200.000000          1200.0\n",
      "Carbohydrate, by difference       130.000000           130.0\n",
      "Iron, Fe                           23.224348             8.0\n",
      "Magnesium, Mg                     783.775317           320.0\n",
      "Niacin                             54.963121            14.0\n",
      "Phosphorus, P                    2428.497197           700.0\n",
      "Potassium, K                     4700.000307          4700.0\n",
      "Riboflavin                          2.642857             1.1\n",
      "Thiamin                             3.196571             1.1\n",
      "Vitamin A, RAE                    700.000000           700.0\n",
      "Vitamin B-12                        3.926667             2.4\n",
      "Vitamin B-6                         2.404297             1.5\n",
      "Vitamin C, total ascorbic acid     84.202197            75.0\n",
      "Vitamin E (alpha-tocopherol)       25.604295            15.0\n",
      "Vitamin K (phylloquinone)          90.000001            90.0\n",
      "Zinc, Zn                           23.509605             8.0\n",
      "Sodium, Na                       1060.621981          2300.0\n",
      "Energy                          12970.399977         12970.4\n",
      "\n",
      "\n",
      "Constraining nutrients are:\n",
      "['Calcium, Ca', 'Carbohydrate, by difference', 'Vitamin A, RAE', 'Vitamin K (phylloquinone)', 'Energy']\n"
     ]
    },
    {
     "name": "stderr",
     "output_type": "stream",
     "text": [
      "/tmp/ipykernel_30/2046845037.py:22: UserWarning:\n",
      "\n",
      "Prices have no units.  BE CAREFUL!  We're assuming prices are per hectogram or deciliter!\n",
      "\n",
      "/tmp/ipykernel_30/2046845037.py:22: UserWarning:\n",
      "\n",
      "Prices have no units.  BE CAREFUL!  We're assuming prices are per hectogram or deciliter!\n",
      "\n",
      "/tmp/ipykernel_30/2046845037.py:22: UserWarning:\n",
      "\n",
      "Prices have no units.  BE CAREFUL!  We're assuming prices are per hectogram or deciliter!\n",
      "\n",
      "/tmp/ipykernel_30/2046845037.py:22: UserWarning:\n",
      "\n",
      "Prices have no units.  BE CAREFUL!  We're assuming prices are per hectogram or deciliter!\n",
      "\n",
      "/tmp/ipykernel_30/2046845037.py:22: UserWarning:\n",
      "\n",
      "Prices have no units.  BE CAREFUL!  We're assuming prices are per hectogram or deciliter!\n",
      "\n"
     ]
    },
    {
     "name": "stdout",
     "output_type": "stream",
     "text": [
      "Result for restaurant: Ttoust\n",
      "Cost of diet for F 51+ is $5.83 per day.\n",
      "\n",
      "\n",
      "Diet (in 100s of grams or milliliters):\n",
      "Egg                2.352941\n",
      "Purple Cabbage     0.042080\n",
      "Spinach            7.408311\n",
      "Jasmine Rice       0.000003\n",
      "Flour              2.352572\n",
      "dtype: float64\n",
      "\n",
      "\n",
      "With the following nutritional outcomes of interest:\n",
      "                                    Outcome  Recommendation\n",
      "Nutrition                                                  \n",
      "Energy                          6695.011473          6694.4\n",
      "Protein                           73.847559            46.0\n",
      "Fiber, total dietary              48.687013            22.4\n",
      "Folate, DFE                     1148.242873           400.0\n",
      "Calcium, Ca                     1200.000000          1200.0\n",
      "Carbohydrate, by difference      205.569852           130.0\n",
      "Iron, Fe                          39.138789             8.0\n",
      "Magnesium, Mg                    947.270804           320.0\n",
      "Niacin                            16.226865            14.0\n",
      "Phosphorus, P                   1608.949774           700.0\n",
      "Potassium, K                    4700.000001          4700.0\n",
      "Riboflavin                         3.179431             1.1\n",
      "Thiamin                            1.586373             1.1\n",
      "Vitamin A, RAE                  4307.840886           700.0\n",
      "Vitamin B-12                       2.400000             2.4\n",
      "Vitamin B-6                        2.399183             1.5\n",
      "Vitamin C, total ascorbic acid    75.000000            75.0\n",
      "Vitamin E (alpha-tocopherol)      16.660779            15.0\n",
      "Vitamin K (phylloquinone)       3662.819683            90.0\n",
      "Zinc, Zn                          15.520834             8.0\n",
      "Sodium, Na                       830.305064          2300.0\n",
      "Energy                          6695.011473         12970.4\n",
      "\n",
      "\n",
      "Constraining nutrients are:\n",
      "['Calcium, Ca', 'Potassium, K', 'Vitamin B-12', 'Vitamin C, total ascorbic acid']\n",
      "Result for restaurant: IB\n",
      "Cost of diet for F 51+ is $6.49 per day.\n",
      "\n",
      "\n",
      "Diet (in 100s of grams or milliliters):\n",
      "bun               0.618548\n",
      "ketchup           0.718362\n",
      "lettuce           0.656327\n",
      "cheddar cheese    0.600967\n",
      "grilled onion     0.000003\n",
      "sandwich bun      0.618548\n",
      "avocado           9.705781\n",
      "cheese            0.600967\n",
      "dtype: float64\n",
      "\n",
      "\n",
      "With the following nutritional outcomes of interest:\n",
      "                                     Outcome  Recommendation\n",
      "Nutrition                                                   \n",
      "Energy                          12091.639269          6694.4\n",
      "Protein                            69.929134            46.0\n",
      "Fiber, total dietary               68.305140            22.4\n",
      "Folate, DFE                      1003.135303           400.0\n",
      "Calcium, Ca                      1200.000011          1200.0\n",
      "Carbohydrate, by difference       130.000001           130.0\n",
      "Iron, Fe                            9.864616             8.0\n",
      "Magnesium, Mg                     358.488229           320.0\n",
      "Niacin                             24.160537            14.0\n",
      "Phosphorus, P                    1318.833926           700.0\n",
      "Potassium, K                     5609.455138          4700.0\n",
      "Riboflavin                          2.333688             1.1\n",
      "Thiamin                             1.100000             1.1\n",
      "Vitamin A, RAE                    700.000009           700.0\n",
      "Vitamin B-12                        2.641186             2.4\n",
      "Vitamin B-6                         3.313014             1.5\n",
      "Vitamin C, total ascorbic acid     97.981962            75.0\n",
      "Vitamin E (alpha-tocopherol)       21.684083            15.0\n",
      "Vitamin K (phylloquinone)         297.569645            90.0\n",
      "Zinc, Zn                           14.755001             8.0\n",
      "Sodium, Na                       2299.998686          2300.0\n",
      "Energy                          12091.639269         12970.4\n",
      "\n",
      "\n",
      "Constraining nutrients are:\n",
      "['Calcium, Ca', 'Carbohydrate, by difference', 'Thiamin', 'Vitamin A, RAE']\n",
      "Result for restaurant: Poke Bar\n",
      "Cost of diet for F 51+ is $14.96 per day.\n",
      "\n",
      "\n",
      "Diet (in 100s of grams or milliliters):\n",
      "salmon         2.167049\n",
      "white rice     3.863024\n",
      "kale          10.298635\n",
      "edamame        0.084944\n",
      "dtype: float64\n",
      "\n",
      "\n",
      "With the following nutritional outcomes of interest:\n",
      "                                     Outcome  Recommendation\n",
      "Nutrition                                                   \n",
      "Energy                          12970.399998          6694.4\n",
      "Protein                            98.285005            46.0\n",
      "Fiber, total dietary               51.920381            22.4\n",
      "Folate, DFE                       734.604733           400.0\n",
      "Calcium, Ca                      2679.168564          1200.0\n",
      "Carbohydrate, by difference       355.797139           130.0\n",
      "Iron, Fe                           18.753548             8.0\n",
      "Magnesium, Mg                     538.837647           320.0\n",
      "Niacin                             41.025531            14.0\n",
      "Phosphorus, P                    1479.023867           700.0\n",
      "Potassium, K                     4700.000000          4700.0\n",
      "Riboflavin                          4.003384             1.1\n",
      "Thiamin                             2.161052             1.1\n",
      "Vitamin A, RAE                   2609.868434           700.0\n",
      "Vitamin B-12                        6.999569             2.4\n",
      "Vitamin B-6                         4.586020             1.5\n",
      "Vitamin C, total ascorbic acid    970.794207            75.0\n",
      "Vitamin E (alpha-tocopherol)       15.000000            15.0\n",
      "Vitamin K (phylloquinone)        4015.818660            90.0\n",
      "Zinc, Zn                            8.000000             8.0\n",
      "Sodium, Na                        684.471443          2300.0\n",
      "Energy                          12970.399998         12970.4\n",
      "\n",
      "\n",
      "Constraining nutrients are:\n",
      "['Potassium, K', 'Vitamin E (alpha-tocopherol)', 'Zinc, Zn', 'Energy']\n",
      "Result for restaurant: Thai Basil\n",
      "Cost of diet for M 51+ is $6.69 per day.\n",
      "\n",
      "\n",
      "Diet (in 100s of grams or milliliters):\n",
      "egg         4.947712\n",
      "carrots     3.846579\n",
      "rice        0.179987\n",
      "broccoli    1.176471\n",
      "peanuts     3.770187\n",
      "tofu        1.708201\n",
      "dtype: float64\n",
      "\n",
      "\n",
      "With the following nutritional outcomes of interest:\n",
      "                                     Outcome  Recommendation\n",
      "Nutrition                                                   \n",
      "Energy                          12970.399999          8368.0\n",
      "Protein                           182.869415            56.0\n",
      "Fiber, total dietary               48.402653            28.0\n",
      "Folate, DFE                       901.074602           400.0\n",
      "Calcium, Ca                      1000.000000          1000.0\n",
      "Carbohydrate, by difference       130.000000           130.0\n",
      "Iron, Fe                           22.193402             8.0\n",
      "Magnesium, Mg                     777.823325           420.0\n",
      "Niacin                             53.041098            16.0\n",
      "Phosphorus, P                    2591.924605           700.0\n",
      "Potassium, K                     4700.000000          4700.0\n",
      "Riboflavin                          3.066529             1.3\n",
      "Thiamin                             3.199720             1.2\n",
      "Vitamin A, RAE                    900.000000           900.0\n",
      "Vitamin B-12                        5.046667             2.4\n",
      "Vitamin B-6                         2.410318             1.7\n",
      "Vitamin C, total ascorbic acid    109.290785            90.0\n",
      "Vitamin E (alpha-tocopherol)       24.908895            15.0\n",
      "Vitamin K (phylloquinone)         120.000000           120.0\n",
      "Zinc, Zn                           24.454723            11.0\n",
      "Sodium, Na                       1108.886368          2300.0\n",
      "Energy                          12970.399999         12970.4\n",
      "\n",
      "\n",
      "Constraining nutrients are:\n",
      "['Calcium, Ca', 'Carbohydrate, by difference', 'Potassium, K', 'Vitamin A, RAE', 'Vitamin K (phylloquinone)', 'Energy']\n",
      "Result for restaurant: Ttoust\n",
      "Cost of diet for M 51+ is $5.41 per day.\n",
      "\n",
      "\n",
      "Diet (in 100s of grams or milliliters):\n",
      "Egg                0.748142\n",
      "Purple Cabbage     0.515229\n",
      "Spinach            6.186931\n",
      "Pork               2.443127\n",
      "Flour              1.978105\n",
      "dtype: float64\n",
      "\n",
      "\n",
      "With the following nutritional outcomes of interest:\n",
      "                                     Outcome  Recommendation\n",
      "Nutrition                                                   \n",
      "Energy                          10336.348179          8368.0\n",
      "Protein                            69.997447            56.0\n",
      "Fiber, total dietary               41.843798            28.0\n",
      "Folate, DFE                       967.952977           400.0\n",
      "Calcium, Ca                      1000.000013          1000.0\n",
      "Carbohydrate, by difference       175.045751           130.0\n",
      "Iron, Fe                           31.722908             8.0\n",
      "Magnesium, Mg                     801.132572           420.0\n",
      "Niacin                             20.249316            16.0\n",
      "Phosphorus, P                    1343.733914           700.0\n",
      "Potassium, K                     4700.000087          4700.0\n",
      "Riboflavin                          2.400903             1.3\n",
      "Thiamin                             1.656738             1.2\n",
      "Vitamin A, RAE                   3468.991472           900.0\n",
      "Vitamin B-12                        2.400000             2.4\n",
      "Vitamin B-6                         2.379239             1.7\n",
      "Vitamin C, total ascorbic acid     90.000005            90.0\n",
      "Vitamin E (alpha-tocopherol)       15.000000            15.0\n",
      "Vitamin K (phylloquinone)        3077.309167           120.0\n",
      "Zinc, Zn                           13.064183            11.0\n",
      "Sodium, Na                        664.268267          2300.0\n",
      "Energy                          10336.348179         12970.4\n",
      "\n",
      "\n",
      "Constraining nutrients are:\n",
      "['Calcium, Ca', 'Potassium, K', 'Vitamin B-12', 'Vitamin C, total ascorbic acid', 'Vitamin E (alpha-tocopherol)']\n"
     ]
    },
    {
     "name": "stdout",
     "output_type": "stream",
     "text": [
      "Result for restaurant: IB\n",
      "Cost of diet for M 51+ is $7.20 per day.\n",
      "\n",
      "\n",
      "Diet (in 100s of grams or milliliters):\n",
      "bun                0.416821\n",
      "ketchup            0.221608\n",
      "lettuce            1.015800\n",
      "cheddar cheese     0.757351\n",
      "sandwich bun       0.416821\n",
      "avocado           11.906505\n",
      "cheese             0.757351\n",
      "dtype: float64\n",
      "\n",
      "\n",
      "With the following nutritional outcomes of interest:\n",
      "                                     Outcome  Recommendation\n",
      "Nutrition                                                   \n",
      "Energy                          12370.143726          8368.0\n",
      "Protein                            75.227445            56.0\n",
      "Fiber, total dietary               83.184901            28.0\n",
      "Folate, DFE                      1192.022976           400.0\n",
      "Calcium, Ca                      1396.454851          1000.0\n",
      "Carbohydrate, by difference       130.000001           130.0\n",
      "Iron, Fe                           10.424396             8.0\n",
      "Magnesium, Mg                     420.000002           420.0\n",
      "Niacin                             26.408209            16.0\n",
      "Phosphorus, P                    1512.484964           700.0\n",
      "Potassium, K                     6595.910113          4700.0\n",
      "Riboflavin                          2.648125             1.3\n",
      "Thiamin                             1.200000             1.2\n",
      "Vitamin A, RAE                    900.000005           900.0\n",
      "Vitamin B-12                        2.400000             2.4\n",
      "Vitamin B-6                         3.835605             1.7\n",
      "Vitamin C, total ascorbic acid    117.448763            90.0\n",
      "Vitamin E (alpha-tocopherol)       25.476081            15.0\n",
      "Vitamin K (phylloquinone)         386.550370           120.0\n",
      "Zinc, Zn                           16.288898            11.0\n",
      "Sodium, Na                       1819.171875          2300.0\n",
      "Energy                          12370.143726         12970.4\n",
      "\n",
      "\n",
      "Constraining nutrients are:\n",
      "['Carbohydrate, by difference', 'Magnesium, Mg', 'Thiamin', 'Vitamin A, RAE', 'Vitamin B-12']\n",
      "Result for restaurant: Poke Bar\n",
      "Cost of diet for M 51+ is $17.20 per day.\n",
      "\n",
      "\n",
      "Diet (in 100s of grams or milliliters):\n",
      "salmon         1.437845\n",
      "white rice     6.306049\n",
      "kale          13.942401\n",
      "dtype: float64\n",
      "\n",
      "\n",
      "With the following nutritional outcomes of interest:\n",
      "                                     Outcome  Recommendation\n",
      "Nutrition                                                   \n",
      "Energy                          12970.400133          8368.0\n",
      "Protein                           107.593602            56.0\n",
      "Fiber, total dietary               72.298361            28.0\n",
      "Folate, DFE                       927.037011           400.0\n",
      "Calcium, Ca                      3617.370852          1000.0\n",
      "Carbohydrate, by difference       566.929144           130.0\n",
      "Iron, Fe                           25.003826             8.0\n",
      "Magnesium, Mg                     719.632768           420.0\n",
      "Niacin                             45.253694            16.0\n",
      "Phosphorus, P                    1729.907710           700.0\n",
      "Potassium, K                     5853.152983          4700.0\n",
      "Riboflavin                          5.193306             1.3\n",
      "Thiamin                             2.743360             1.2\n",
      "Vitamin A, RAE                   3443.513585           900.0\n",
      "Vitamin B-12                        4.644240             2.4\n",
      "Vitamin B-6                         5.713440             1.7\n",
      "Vitamin C, total ascorbic acid   1307.827809            90.0\n",
      "Vitamin E (alpha-tocopherol)       15.000000            15.0\n",
      "Vitamin K (phylloquinone)        5432.678203           120.0\n",
      "Zinc, Zn                           11.000000            11.0\n",
      "Sodium, Na                        823.780107          2300.0\n",
      "Energy                          12970.400133         12970.4\n",
      "\n",
      "\n",
      "Constraining nutrients are:\n",
      "['Vitamin E (alpha-tocopherol)', 'Zinc, Zn']\n"
     ]
    },
    {
     "name": "stderr",
     "output_type": "stream",
     "text": [
      "/tmp/ipykernel_30/2046845037.py:22: UserWarning:\n",
      "\n",
      "Prices have no units.  BE CAREFUL!  We're assuming prices are per hectogram or deciliter!\n",
      "\n",
      "/tmp/ipykernel_30/2046845037.py:22: UserWarning:\n",
      "\n",
      "Prices have no units.  BE CAREFUL!  We're assuming prices are per hectogram or deciliter!\n",
      "\n"
     ]
    }
   ],
   "source": [
    "# ingredient-based results for each of 4 restaurants\n",
    "groups = dri_min.columns[1:]\n",
    "\n",
    "cost_tbl = pd.DataFrame(columns = groups, index = restaurants)\n",
    "diet_tbl_name = pd.DataFrame(columns = groups, index = restaurants)\n",
    "diet_tbl = pd.DataFrame(columns = groups, index = restaurants)\n",
    "nurt_tbl = pd.DataFrame(columns = groups, index = restaurants)\n",
    "excess_tbl = pd.DataFrame(columns = groups, index = restaurants)\n",
    "\n",
    "for group in groups:\n",
    "    tol = 1e-6\n",
    "    for i in range(4):\n",
    "        result = solve_subsistence_problem(ing_res[i],ing_prices[i],dri_min[group],dri_max[group],tol=tol)\n",
    "        \n",
    "        #results_tbl.loc[restaurants[i], group] = result\n",
    "        \n",
    "        print(\"Result for restaurant: \" + restaurants[i])\n",
    "        print(\"Cost of diet for %s is $%4.2f per day.\\n\" % (group,result.fun))\n",
    "        \n",
    "        cost_tbl.loc[restaurants[i], group] = result.fun\n",
    "        \n",
    "        # Put back into nice series\n",
    "        diet = result.diet\n",
    "\n",
    "        print(\"\\nDiet (in 100s of grams or milliliters):\")\n",
    "        print(diet[diet >= tol])  # Drop items with quantities less than precision of calculation.\n",
    "        print()\n",
    "        \n",
    "        diet_tbl_name.loc[restaurants[i], group] = list(diet[diet >= tol].index)\n",
    "        diet_tbl.loc[restaurants[i], group] = list(diet[diet >= tol])\n",
    "\n",
    "        tab = pd.DataFrame({\"Outcome\":np.abs(result.A).dot(diet),\"Recommendation\":np.abs(result.b)})\n",
    "        print(\"\\nWith the following nutritional outcomes of interest:\")\n",
    "        print(tab)\n",
    "        print()\n",
    "        \n",
    "        nurt_tbl.loc[restaurants[i], group] = list(np.abs(result.A).dot(diet))\n",
    "\n",
    "        print(\"\\nConstraining nutrients are:\")\n",
    "        excess = tab.diff(axis=1).iloc[:,1]\n",
    "        print(excess.loc[np.abs(excess) < tol*100].index.tolist())\n",
    "        \n",
    "        excess_tbl.loc[restaurants[i], group] = list(excess.loc[np.abs(excess) < tol*100].index.tolist())"
   ]
  },
  {
   "cell_type": "code",
   "execution_count": 80,
   "id": "f34e5658",
   "metadata": {},
   "outputs": [
    {
     "data": {
      "text/html": [
       "<div>\n",
       "<style scoped>\n",
       "    .dataframe tbody tr th:only-of-type {\n",
       "        vertical-align: middle;\n",
       "    }\n",
       "\n",
       "    .dataframe tbody tr th {\n",
       "        vertical-align: top;\n",
       "    }\n",
       "\n",
       "    .dataframe thead th {\n",
       "        text-align: right;\n",
       "    }\n",
       "</style>\n",
       "<table border=\"1\" class=\"dataframe\">\n",
       "  <thead>\n",
       "    <tr style=\"text-align: right;\">\n",
       "      <th></th>\n",
       "      <th>C 1-3</th>\n",
       "      <th>F 4-8</th>\n",
       "      <th>M 4-8</th>\n",
       "      <th>F 9-13</th>\n",
       "      <th>M 9-13</th>\n",
       "      <th>F 14-18</th>\n",
       "      <th>M 14-18</th>\n",
       "      <th>F 19-30</th>\n",
       "      <th>M 19-30</th>\n",
       "      <th>F 31-50</th>\n",
       "      <th>M 31-50</th>\n",
       "      <th>F 51+</th>\n",
       "      <th>M 51+</th>\n",
       "    </tr>\n",
       "  </thead>\n",
       "  <tbody>\n",
       "    <tr>\n",
       "      <th>Thai Basil</th>\n",
       "      <td>4.052806</td>\n",
       "      <td>5.681348</td>\n",
       "      <td>5.681346</td>\n",
       "      <td>7.366037</td>\n",
       "      <td>7.347199</td>\n",
       "      <td>7.559411</td>\n",
       "      <td>7.889343</td>\n",
       "      <td>6.257664</td>\n",
       "      <td>6.693507</td>\n",
       "      <td>6.257664</td>\n",
       "      <td>6.693507</td>\n",
       "      <td>7.163111</td>\n",
       "      <td>6.693506</td>\n",
       "    </tr>\n",
       "    <tr>\n",
       "      <th>Ttoust</th>\n",
       "      <td>3.254792</td>\n",
       "      <td>4.524625</td>\n",
       "      <td>4.524625</td>\n",
       "      <td>5.881581</td>\n",
       "      <td>5.881581</td>\n",
       "      <td>6.141801</td>\n",
       "      <td>6.161338</td>\n",
       "      <td>5.353084</td>\n",
       "      <td>5.414411</td>\n",
       "      <td>5.353083</td>\n",
       "      <td>5.414411</td>\n",
       "      <td>5.831713</td>\n",
       "      <td>5.414411</td>\n",
       "    </tr>\n",
       "    <tr>\n",
       "      <th>IB</th>\n",
       "      <td>5.04685</td>\n",
       "      <td>6.000173</td>\n",
       "      <td>6.000173</td>\n",
       "      <td>6.070028</td>\n",
       "      <td>6.050849</td>\n",
       "      <td>9.07069</td>\n",
       "      <td>7.207749</td>\n",
       "      <td>10.594395</td>\n",
       "      <td>7.080006</td>\n",
       "      <td>10.594395</td>\n",
       "      <td>7.198853</td>\n",
       "      <td>6.485627</td>\n",
       "      <td>7.198853</td>\n",
       "    </tr>\n",
       "    <tr>\n",
       "      <th>Poke Bar</th>\n",
       "      <td>7.960361</td>\n",
       "      <td>10.094295</td>\n",
       "      <td>10.094295</td>\n",
       "      <td>12.885109</td>\n",
       "      <td>12.870993</td>\n",
       "      <td>15.141106</td>\n",
       "      <td>17.198266</td>\n",
       "      <td>14.959522</td>\n",
       "      <td>17.198266</td>\n",
       "      <td>14.959522</td>\n",
       "      <td>17.198266</td>\n",
       "      <td>14.959522</td>\n",
       "      <td>17.198266</td>\n",
       "    </tr>\n",
       "  </tbody>\n",
       "</table>\n",
       "</div>"
      ],
      "text/plain": [
       "               C 1-3      F 4-8      M 4-8     F 9-13     M 9-13    F 14-18  \\\n",
       "Thai Basil  4.052806   5.681348   5.681346   7.366037   7.347199   7.559411   \n",
       "Ttoust      3.254792   4.524625   4.524625   5.881581   5.881581   6.141801   \n",
       "IB           5.04685   6.000173   6.000173   6.070028   6.050849    9.07069   \n",
       "Poke Bar    7.960361  10.094295  10.094295  12.885109  12.870993  15.141106   \n",
       "\n",
       "              M 14-18    F 19-30    M 19-30    F 31-50    M 31-50      F 51+  \\\n",
       "Thai Basil   7.889343   6.257664   6.693507   6.257664   6.693507   7.163111   \n",
       "Ttoust       6.161338   5.353084   5.414411   5.353083   5.414411   5.831713   \n",
       "IB           7.207749  10.594395   7.080006  10.594395   7.198853   6.485627   \n",
       "Poke Bar    17.198266  14.959522  17.198266  14.959522  17.198266  14.959522   \n",
       "\n",
       "                M 51+  \n",
       "Thai Basil   6.693506  \n",
       "Ttoust       5.414411  \n",
       "IB           7.198853  \n",
       "Poke Bar    17.198266  "
      ]
     },
     "execution_count": 80,
     "metadata": {},
     "output_type": "execute_result"
    }
   ],
   "source": [
    "# table of minimum diets costs by age-sex groups and restaurants\n",
    "cost_tbl"
   ]
  },
  {
   "cell_type": "code",
   "execution_count": 22,
   "id": "85a51f7f",
   "metadata": {},
   "outputs": [
    {
     "data": {
      "text/html": [
       "<div>\n",
       "<style scoped>\n",
       "    .dataframe tbody tr th:only-of-type {\n",
       "        vertical-align: middle;\n",
       "    }\n",
       "\n",
       "    .dataframe tbody tr th {\n",
       "        vertical-align: top;\n",
       "    }\n",
       "\n",
       "    .dataframe thead th {\n",
       "        text-align: right;\n",
       "    }\n",
       "</style>\n",
       "<table border=\"1\" class=\"dataframe\">\n",
       "  <thead>\n",
       "    <tr style=\"text-align: right;\">\n",
       "      <th></th>\n",
       "      <th>C 1-3</th>\n",
       "      <th>F 4-8</th>\n",
       "      <th>M 4-8</th>\n",
       "      <th>F 9-13</th>\n",
       "      <th>M 9-13</th>\n",
       "      <th>F 14-18</th>\n",
       "      <th>M 14-18</th>\n",
       "      <th>F 19-30</th>\n",
       "      <th>M 19-30</th>\n",
       "      <th>F 31-50</th>\n",
       "      <th>M 31-50</th>\n",
       "      <th>F 51+</th>\n",
       "      <th>M 51+</th>\n",
       "    </tr>\n",
       "  </thead>\n",
       "  <tbody>\n",
       "    <tr>\n",
       "      <th>Thai Basil</th>\n",
       "      <td>[1.6535947706889553, 1.3852752287717585, 0.709...</td>\n",
       "      <td>[2.1982570758309756, 4.11231494774835, 0.34127...</td>\n",
       "      <td>[2.198256851418826, 1.78151173378974e-06, 4.11...</td>\n",
       "      <td>[3.3071895265853226, 5.56034958804642, 0.07673...</td>\n",
       "      <td>[3.3071895423056197, 4.722821936295839, 0.1153...</td>\n",
       "      <td>[3.8562091513207064, 4.790331164253986, 0.0718...</td>\n",
       "      <td>[4.925740434841197, 0.20758255836004372, 4.847...</td>\n",
       "      <td>[3.849673202078504, 3.9686114560475874, 0.1365...</td>\n",
       "      <td>[4.947712189157788, 1.9233930755712387e-06, 3....</td>\n",
       "      <td>[3.849673201126317, 3.968611957532809, 0.13658...</td>\n",
       "      <td>[4.94771241775595, 3.8465795947305943, 0.17998...</td>\n",
       "      <td>[3.8496732024200333, 4.427298237925396, 0.0987...</td>\n",
       "      <td>[4.947712418235566, 3.8465794220684857, 0.1799...</td>\n",
       "    </tr>\n",
       "    <tr>\n",
       "      <th>Ttoust</th>\n",
       "      <td>[0.882352925603457, 1.5314822731509792, 0.2748...</td>\n",
       "      <td>[1.1764705868476217, 2.551020416219487, 0.4147...</td>\n",
       "      <td>[1.1764705880371733, 2.5510204034365738, 0.414...</td>\n",
       "      <td>[1.7647058822237875, 4.591836734301037, 0.4271...</td>\n",
       "      <td>[1.7647058820567403, 4.591836733460813, 0.4222...</td>\n",
       "      <td>[2.3529411759875267, 6.632653048006388, 0.1522...</td>\n",
       "      <td>[2.352941175766801, 0.038373509910166095, 7.42...</td>\n",
       "      <td>[0.899093957300926, 0.2563041354425244, 6.1623...</td>\n",
       "      <td>[0.7481425468840616, 0.515229448839125, 6.1869...</td>\n",
       "      <td>[0.8990940417231688, 0.2563041491157663, 6.162...</td>\n",
       "      <td>[0.7481426971027444, 0.5152294766063318, 6.186...</td>\n",
       "      <td>[2.3529411763500763, 0.05379011503111703, 7.34...</td>\n",
       "      <td>[0.7481427032552965, 0.5152294773758332, 6.186...</td>\n",
       "    </tr>\n",
       "    <tr>\n",
       "      <th>IB</th>\n",
       "      <td>[0.12140266060050481, 0.8973065484928846, 2.49...</td>\n",
       "      <td>[0.7381884201213375, 0.36265548456572066, 0.60...</td>\n",
       "      <td>[0.7381884087079148, 0.3626555521447199, 0.607...</td>\n",
       "      <td>[0.1818589658506186, 0.9773167656716606, 0.555...</td>\n",
       "      <td>[0.18185436510852976, 0.975725026242236, 0.551...</td>\n",
       "      <td>[1.2233763054815683, 1.57576435130077e-06, 2.1...</td>\n",
       "      <td>[0.5000167883018362, 0.025090358481825042, 1.0...</td>\n",
       "      <td>[1.5156130817054203, 3.8785864811010535, 0.173...</td>\n",
       "      <td>[0.5156678917103827, 0.31452057376256354, 1.20...</td>\n",
       "      <td>[1.5156130812067994, 3.8785864897315094, 0.173...</td>\n",
       "      <td>[0.41682131618836893, 0.22160690879118547, 1.0...</td>\n",
       "      <td>[0.6185488197692462, 0.7183637701925146, 0.656...</td>\n",
       "      <td>[0.41682140001715734, 0.2216078528273798, 1.01...</td>\n",
       "    </tr>\n",
       "    <tr>\n",
       "      <th>Poke Bar</th>\n",
       "      <td>[0.2786377700974017, 1.04206165823365, 4.13955...</td>\n",
       "      <td>[0.3715170277047409, 0.923279850987226, 6.4896...</td>\n",
       "      <td>[0.37151702781763934, 0.9232798518582935, 6.48...</td>\n",
       "      <td>[0.6315231559302386, 0.8115626100037986, 1.611...</td>\n",
       "      <td>[0.593710832494077, 0.7905590873998726, 1.4035...</td>\n",
       "      <td>[1.8430382611738536, 0.8342380454859687, 7.086...</td>\n",
       "      <td>[0.6937842576074815, 0.48377537465033155, 12.9...</td>\n",
       "      <td>[1.8802723382680828, 0.8456054989862727, 6.898...</td>\n",
       "      <td>[0.6937842973729921, 0.4837754199649512, 12.93...</td>\n",
       "      <td>[1.8802723187799568, 0.8456055203133529, 6.898...</td>\n",
       "      <td>[0.6937844327917748, 0.4837758079467785, 2.984...</td>\n",
       "      <td>[1.880272337983991, 0.8456054990230503, 6.8981...</td>\n",
       "      <td>[0.693784262838222, 0.4837754128303332, 12.933...</td>\n",
       "    </tr>\n",
       "  </tbody>\n",
       "</table>\n",
       "</div>"
      ],
      "text/plain": [
       "                                                        C 1-3  \\\n",
       "Thai Basil  [1.6535947706889553, 1.3852752287717585, 0.709...   \n",
       "Ttoust      [0.882352925603457, 1.5314822731509792, 0.2748...   \n",
       "IB          [0.12140266060050481, 0.8973065484928846, 2.49...   \n",
       "Poke Bar    [0.2786377700974017, 1.04206165823365, 4.13955...   \n",
       "\n",
       "                                                        F 4-8  \\\n",
       "Thai Basil  [2.1982570758309756, 4.11231494774835, 0.34127...   \n",
       "Ttoust      [1.1764705868476217, 2.551020416219487, 0.4147...   \n",
       "IB          [0.7381884201213375, 0.36265548456572066, 0.60...   \n",
       "Poke Bar    [0.3715170277047409, 0.923279850987226, 6.4896...   \n",
       "\n",
       "                                                        M 4-8  \\\n",
       "Thai Basil  [2.198256851418826, 1.78151173378974e-06, 4.11...   \n",
       "Ttoust      [1.1764705880371733, 2.5510204034365738, 0.414...   \n",
       "IB          [0.7381884087079148, 0.3626555521447199, 0.607...   \n",
       "Poke Bar    [0.37151702781763934, 0.9232798518582935, 6.48...   \n",
       "\n",
       "                                                       F 9-13  \\\n",
       "Thai Basil  [3.3071895265853226, 5.56034958804642, 0.07673...   \n",
       "Ttoust      [1.7647058822237875, 4.591836734301037, 0.4271...   \n",
       "IB          [0.1818589658506186, 0.9773167656716606, 0.555...   \n",
       "Poke Bar    [0.6315231559302386, 0.8115626100037986, 1.611...   \n",
       "\n",
       "                                                       M 9-13  \\\n",
       "Thai Basil  [3.3071895423056197, 4.722821936295839, 0.1153...   \n",
       "Ttoust      [1.7647058820567403, 4.591836733460813, 0.4222...   \n",
       "IB          [0.18185436510852976, 0.975725026242236, 0.551...   \n",
       "Poke Bar    [0.593710832494077, 0.7905590873998726, 1.4035...   \n",
       "\n",
       "                                                      F 14-18  \\\n",
       "Thai Basil  [3.8562091513207064, 4.790331164253986, 0.0718...   \n",
       "Ttoust      [2.3529411759875267, 6.632653048006388, 0.1522...   \n",
       "IB          [1.2233763054815683, 1.57576435130077e-06, 2.1...   \n",
       "Poke Bar    [1.8430382611738536, 0.8342380454859687, 7.086...   \n",
       "\n",
       "                                                      M 14-18  \\\n",
       "Thai Basil  [4.925740434841197, 0.20758255836004372, 4.847...   \n",
       "Ttoust      [2.352941175766801, 0.038373509910166095, 7.42...   \n",
       "IB          [0.5000167883018362, 0.025090358481825042, 1.0...   \n",
       "Poke Bar    [0.6937842576074815, 0.48377537465033155, 12.9...   \n",
       "\n",
       "                                                      F 19-30  \\\n",
       "Thai Basil  [3.849673202078504, 3.9686114560475874, 0.1365...   \n",
       "Ttoust      [0.899093957300926, 0.2563041354425244, 6.1623...   \n",
       "IB          [1.5156130817054203, 3.8785864811010535, 0.173...   \n",
       "Poke Bar    [1.8802723382680828, 0.8456054989862727, 6.898...   \n",
       "\n",
       "                                                      M 19-30  \\\n",
       "Thai Basil  [4.947712189157788, 1.9233930755712387e-06, 3....   \n",
       "Ttoust      [0.7481425468840616, 0.515229448839125, 6.1869...   \n",
       "IB          [0.5156678917103827, 0.31452057376256354, 1.20...   \n",
       "Poke Bar    [0.6937842973729921, 0.4837754199649512, 12.93...   \n",
       "\n",
       "                                                      F 31-50  \\\n",
       "Thai Basil  [3.849673201126317, 3.968611957532809, 0.13658...   \n",
       "Ttoust      [0.8990940417231688, 0.2563041491157663, 6.162...   \n",
       "IB          [1.5156130812067994, 3.8785864897315094, 0.173...   \n",
       "Poke Bar    [1.8802723187799568, 0.8456055203133529, 6.898...   \n",
       "\n",
       "                                                      M 31-50  \\\n",
       "Thai Basil  [4.94771241775595, 3.8465795947305943, 0.17998...   \n",
       "Ttoust      [0.7481426971027444, 0.5152294766063318, 6.186...   \n",
       "IB          [0.41682131618836893, 0.22160690879118547, 1.0...   \n",
       "Poke Bar    [0.6937844327917748, 0.4837758079467785, 2.984...   \n",
       "\n",
       "                                                        F 51+  \\\n",
       "Thai Basil  [3.8496732024200333, 4.427298237925396, 0.0987...   \n",
       "Ttoust      [2.3529411763500763, 0.05379011503111703, 7.34...   \n",
       "IB          [0.6185488197692462, 0.7183637701925146, 0.656...   \n",
       "Poke Bar    [1.880272337983991, 0.8456054990230503, 6.8981...   \n",
       "\n",
       "                                                        M 51+  \n",
       "Thai Basil  [4.947712418235566, 3.8465794220684857, 0.1799...  \n",
       "Ttoust      [0.7481427032552965, 0.5152294773758332, 6.186...  \n",
       "IB          [0.41682140001715734, 0.2216078528273798, 1.01...  \n",
       "Poke Bar    [0.693784262838222, 0.4837754128303332, 12.933...  "
      ]
     },
     "execution_count": 22,
     "metadata": {},
     "output_type": "execute_result"
    }
   ],
   "source": [
    "# table of minimum cost diet compositions by age-sex groups and restaurants\n",
    "diet_tbl\n",
    "# it seems there is a feasible solution for each group-restaurant combination"
   ]
  },
  {
   "cell_type": "code",
   "execution_count": 69,
   "id": "81d6b613",
   "metadata": {},
   "outputs": [
    {
     "data": {
      "text/html": [
       "<div>\n",
       "<style scoped>\n",
       "    .dataframe tbody tr th:only-of-type {\n",
       "        vertical-align: middle;\n",
       "    }\n",
       "\n",
       "    .dataframe tbody tr th {\n",
       "        vertical-align: top;\n",
       "    }\n",
       "\n",
       "    .dataframe thead th {\n",
       "        text-align: right;\n",
       "    }\n",
       "</style>\n",
       "<table border=\"1\" class=\"dataframe\">\n",
       "  <thead>\n",
       "    <tr style=\"text-align: right;\">\n",
       "      <th></th>\n",
       "      <th>C 1-3</th>\n",
       "      <th>F 4-8</th>\n",
       "      <th>M 4-8</th>\n",
       "      <th>F 9-13</th>\n",
       "      <th>M 9-13</th>\n",
       "      <th>F 14-18</th>\n",
       "      <th>M 14-18</th>\n",
       "      <th>F 19-30</th>\n",
       "      <th>M 19-30</th>\n",
       "      <th>F 31-50</th>\n",
       "      <th>M 31-50</th>\n",
       "      <th>F 51+</th>\n",
       "      <th>M 51+</th>\n",
       "    </tr>\n",
       "  </thead>\n",
       "  <tbody>\n",
       "    <tr>\n",
       "      <th>Thai Basil</th>\n",
       "      <td>[10459.999999953641, 129.50199755271453, 34.72...</td>\n",
       "      <td>[10459.998997694707, 148.02041630488833, 43.72...</td>\n",
       "      <td>[10459.999998331097, 148.02040380939283, 43.72...</td>\n",
       "      <td>[11715.199999374792, 180.38533590544185, 51.19...</td>\n",
       "      <td>[12551.999567923745, 187.97605221334132, 51.43...</td>\n",
       "      <td>[12970.397770809583, 194.18686659278725, 52.54...</td>\n",
       "      <td>[12970.399278348923, 199.2187694663418, 51.222...</td>\n",
       "      <td>[12970.39999967084, 178.4094962975711, 50.7767...</td>\n",
       "      <td>[12970.39711703268, 182.86938986133043, 48.402...</td>\n",
       "      <td>[12970.399992092489, 178.40949624925975, 50.77...</td>\n",
       "      <td>[12970.399905738706, 182.86941554972967, 48.40...</td>\n",
       "      <td>[12970.399977480749, 188.83539022439288, 51.85...</td>\n",
       "      <td>[12970.399999003146, 182.8694152338798, 48.402...</td>\n",
       "    </tr>\n",
       "    <tr>\n",
       "      <th>Ttoust</th>\n",
       "      <td>[10459.989587448796, 70.19425615514349, 74.710...</td>\n",
       "      <td>[10430.963777238232, 84.7046757194536, 86.2084...</td>\n",
       "      <td>[10398.127026905906, 84.70468178274984, 86.208...</td>\n",
       "      <td>[11715.163823075573, 90.1892943443678, 80.0918...</td>\n",
       "      <td>[12219.607082796967, 90.18907381244074, 80.091...</td>\n",
       "      <td>[12969.555413263646, 81.73563609243551, 58.388...</td>\n",
       "      <td>[12970.384808957173, 74.46786626491082, 48.215...</td>\n",
       "      <td>[11200.195213756182, 72.49517284703869, 45.596...</td>\n",
       "      <td>[10336.455653704028, 69.99744676005318, 41.843...</td>\n",
       "      <td>[10500.54420951185, 72.49513778200725, 45.5962...</td>\n",
       "      <td>[10336.369931795512, 69.99744673196055, 41.843...</td>\n",
       "      <td>[6695.011472604339, 73.8475591582878, 48.68701...</td>\n",
       "      <td>[10336.348179273025, 69.9974468330487, 41.8437...</td>\n",
       "    </tr>\n",
       "    <tr>\n",
       "      <th>IB</th>\n",
       "      <td>[9968.188323098531, 41.29490178922483, 64.8405...</td>\n",
       "      <td>[10460.000017905637, 66.76277142336572, 65.648...</td>\n",
       "      <td>[10460.00001234891, 66.7627714254226, 65.64812...</td>\n",
       "      <td>[11715.200024350213, 65.11118670603817, 67.702...</td>\n",
       "      <td>[12114.984166597984, 64.59101427584942, 71.003...</td>\n",
       "      <td>[nan, nan, nan, nan, nan, nan, nan, nan, nan, ...</td>\n",
       "      <td>[12088.26928313422, 73.4916263015994, 81.32894...</td>\n",
       "      <td>[nan, nan, nan, nan, nan, nan, nan, nan, nan, ...</td>\n",
       "      <td>[12048.188298540093, 70.45991751767411, 78.935...</td>\n",
       "      <td>[12970.400090200104, 86.94985921836529, 91.519...</td>\n",
       "      <td>[12459.752818991665, 75.22744400420413, 83.184...</td>\n",
       "      <td>[12091.639268871784, 69.92913387913053, 68.305...</td>\n",
       "      <td>[12370.143725902937, 75.22744532124652, 83.184...</td>\n",
       "    </tr>\n",
       "    <tr>\n",
       "      <th>Poke Bar</th>\n",
       "      <td>[10459.999725621048, 37.57627697924011, 35.918...</td>\n",
       "      <td>[10459.998385734929, 45.20913935281094, 44.761...</td>\n",
       "      <td>[10459.999981149922, 45.20913901922931, 44.761...</td>\n",
       "      <td>[11715.199994105724, 76.70146711928513, 55.552...</td>\n",
       "      <td>[12551.999974043054, 76.73095749897972, 55.530...</td>\n",
       "      <td>[12970.395162712399, 106.00749509753444, 54.02...</td>\n",
       "      <td>[12970.40009691195, 107.59360165325603, 72.298...</td>\n",
       "      <td>[12970.398766192067, 98.28500542060023, 51.920...</td>\n",
       "      <td>[12970.400041370156, 107.5936013105872, 72.298...</td>\n",
       "      <td>[12970.399163381924, 98.28500528395313, 51.920...</td>\n",
       "      <td>[12970.400002118524, 107.59360090764085, 72.29...</td>\n",
       "      <td>[12970.39999791659, 98.28500493367888, 51.9203...</td>\n",
       "      <td>[12970.400133226072, 107.593601780598, 72.2983...</td>\n",
       "    </tr>\n",
       "  </tbody>\n",
       "</table>\n",
       "</div>"
      ],
      "text/plain": [
       "                                                        C 1-3  \\\n",
       "Thai Basil  [10459.999999953641, 129.50199755271453, 34.72...   \n",
       "Ttoust      [10459.989587448796, 70.19425615514349, 74.710...   \n",
       "IB          [9968.188323098531, 41.29490178922483, 64.8405...   \n",
       "Poke Bar    [10459.999725621048, 37.57627697924011, 35.918...   \n",
       "\n",
       "                                                        F 4-8  \\\n",
       "Thai Basil  [10459.998997694707, 148.02041630488833, 43.72...   \n",
       "Ttoust      [10430.963777238232, 84.7046757194536, 86.2084...   \n",
       "IB          [10460.000017905637, 66.76277142336572, 65.648...   \n",
       "Poke Bar    [10459.998385734929, 45.20913935281094, 44.761...   \n",
       "\n",
       "                                                        M 4-8  \\\n",
       "Thai Basil  [10459.999998331097, 148.02040380939283, 43.72...   \n",
       "Ttoust      [10398.127026905906, 84.70468178274984, 86.208...   \n",
       "IB          [10460.00001234891, 66.7627714254226, 65.64812...   \n",
       "Poke Bar    [10459.999981149922, 45.20913901922931, 44.761...   \n",
       "\n",
       "                                                       F 9-13  \\\n",
       "Thai Basil  [11715.199999374792, 180.38533590544185, 51.19...   \n",
       "Ttoust      [11715.163823075573, 90.1892943443678, 80.0918...   \n",
       "IB          [11715.200024350213, 65.11118670603817, 67.702...   \n",
       "Poke Bar    [11715.199994105724, 76.70146711928513, 55.552...   \n",
       "\n",
       "                                                       M 9-13  \\\n",
       "Thai Basil  [12551.999567923745, 187.97605221334132, 51.43...   \n",
       "Ttoust      [12219.607082796967, 90.18907381244074, 80.091...   \n",
       "IB          [12114.984166597984, 64.59101427584942, 71.003...   \n",
       "Poke Bar    [12551.999974043054, 76.73095749897972, 55.530...   \n",
       "\n",
       "                                                      F 14-18  \\\n",
       "Thai Basil  [12970.397770809583, 194.18686659278725, 52.54...   \n",
       "Ttoust      [12969.555413263646, 81.73563609243551, 58.388...   \n",
       "IB          [nan, nan, nan, nan, nan, nan, nan, nan, nan, ...   \n",
       "Poke Bar    [12970.395162712399, 106.00749509753444, 54.02...   \n",
       "\n",
       "                                                      M 14-18  \\\n",
       "Thai Basil  [12970.399278348923, 199.2187694663418, 51.222...   \n",
       "Ttoust      [12970.384808957173, 74.46786626491082, 48.215...   \n",
       "IB          [12088.26928313422, 73.4916263015994, 81.32894...   \n",
       "Poke Bar    [12970.40009691195, 107.59360165325603, 72.298...   \n",
       "\n",
       "                                                      F 19-30  \\\n",
       "Thai Basil  [12970.39999967084, 178.4094962975711, 50.7767...   \n",
       "Ttoust      [11200.195213756182, 72.49517284703869, 45.596...   \n",
       "IB          [nan, nan, nan, nan, nan, nan, nan, nan, nan, ...   \n",
       "Poke Bar    [12970.398766192067, 98.28500542060023, 51.920...   \n",
       "\n",
       "                                                      M 19-30  \\\n",
       "Thai Basil  [12970.39711703268, 182.86938986133043, 48.402...   \n",
       "Ttoust      [10336.455653704028, 69.99744676005318, 41.843...   \n",
       "IB          [12048.188298540093, 70.45991751767411, 78.935...   \n",
       "Poke Bar    [12970.400041370156, 107.5936013105872, 72.298...   \n",
       "\n",
       "                                                      F 31-50  \\\n",
       "Thai Basil  [12970.399992092489, 178.40949624925975, 50.77...   \n",
       "Ttoust      [10500.54420951185, 72.49513778200725, 45.5962...   \n",
       "IB          [12970.400090200104, 86.94985921836529, 91.519...   \n",
       "Poke Bar    [12970.399163381924, 98.28500528395313, 51.920...   \n",
       "\n",
       "                                                      M 31-50  \\\n",
       "Thai Basil  [12970.399905738706, 182.86941554972967, 48.40...   \n",
       "Ttoust      [10336.369931795512, 69.99744673196055, 41.843...   \n",
       "IB          [12459.752818991665, 75.22744400420413, 83.184...   \n",
       "Poke Bar    [12970.400002118524, 107.59360090764085, 72.29...   \n",
       "\n",
       "                                                        F 51+  \\\n",
       "Thai Basil  [12970.399977480749, 188.83539022439288, 51.85...   \n",
       "Ttoust      [6695.011472604339, 73.8475591582878, 48.68701...   \n",
       "IB          [12091.639268871784, 69.92913387913053, 68.305...   \n",
       "Poke Bar    [12970.39999791659, 98.28500493367888, 51.9203...   \n",
       "\n",
       "                                                        M 51+  \n",
       "Thai Basil  [12970.399999003146, 182.8694152338798, 48.402...  \n",
       "Ttoust      [10336.348179273025, 69.9974468330487, 41.8437...  \n",
       "IB          [12370.143725902937, 75.22744532124652, 83.184...  \n",
       "Poke Bar    [12970.400133226072, 107.593601780598, 72.2983...  "
      ]
     },
     "execution_count": 69,
     "metadata": {},
     "output_type": "execute_result"
    }
   ],
   "source": [
    "# table of minimum cost diet nutrients by age-sex groups and restaurants\n",
    "# saved for reference\n",
    "nurt_tbl"
   ]
  },
  {
   "cell_type": "code",
   "execution_count": 24,
   "id": "ba051ecd",
   "metadata": {},
   "outputs": [
    {
     "data": {
      "text/html": [
       "<div>\n",
       "<style scoped>\n",
       "    .dataframe tbody tr th:only-of-type {\n",
       "        vertical-align: middle;\n",
       "    }\n",
       "\n",
       "    .dataframe tbody tr th {\n",
       "        vertical-align: top;\n",
       "    }\n",
       "\n",
       "    .dataframe thead th {\n",
       "        text-align: right;\n",
       "    }\n",
       "</style>\n",
       "<table border=\"1\" class=\"dataframe\">\n",
       "  <thead>\n",
       "    <tr style=\"text-align: right;\">\n",
       "      <th></th>\n",
       "      <th>C 1-3</th>\n",
       "      <th>F 4-8</th>\n",
       "      <th>M 4-8</th>\n",
       "      <th>F 9-13</th>\n",
       "      <th>M 9-13</th>\n",
       "      <th>F 14-18</th>\n",
       "      <th>M 14-18</th>\n",
       "      <th>F 19-30</th>\n",
       "      <th>M 19-30</th>\n",
       "      <th>F 31-50</th>\n",
       "      <th>M 31-50</th>\n",
       "      <th>F 51+</th>\n",
       "      <th>M 51+</th>\n",
       "    </tr>\n",
       "  </thead>\n",
       "  <tbody>\n",
       "    <tr>\n",
       "      <th>Thai Basil</th>\n",
       "      <td>[Calcium, Ca, Carbohydrate, by difference, Vit...</td>\n",
       "      <td>[Calcium, Ca, Carbohydrate, by difference, Vit...</td>\n",
       "      <td>[Calcium, Ca, Carbohydrate, by difference, Vit...</td>\n",
       "      <td>[Calcium, Ca, Carbohydrate, by difference, Vit...</td>\n",
       "      <td>[Calcium, Ca, Carbohydrate, by difference, Pot...</td>\n",
       "      <td>[Calcium, Ca, Carbohydrate, by difference, Pot...</td>\n",
       "      <td>[Calcium, Ca, Carbohydrate, by difference, Pot...</td>\n",
       "      <td>[Calcium, Ca, Carbohydrate, by difference, Pot...</td>\n",
       "      <td>[Calcium, Ca, Carbohydrate, by difference, Vit...</td>\n",
       "      <td>[Calcium, Ca, Carbohydrate, by difference, Vit...</td>\n",
       "      <td>[Calcium, Ca, Carbohydrate, by difference, Pot...</td>\n",
       "      <td>[Calcium, Ca, Carbohydrate, by difference, Pot...</td>\n",
       "      <td>[Calcium, Ca, Carbohydrate, by difference, Pot...</td>\n",
       "    </tr>\n",
       "    <tr>\n",
       "      <th>Ttoust</th>\n",
       "      <td>[Calcium, Ca, Potassium, K, Vitamin B-12, Vita...</td>\n",
       "      <td>[Calcium, Ca, Potassium, K, Vitamin B-12, Vita...</td>\n",
       "      <td>[Calcium, Ca, Potassium, K, Vitamin B-12, Vita...</td>\n",
       "      <td>[Calcium, Ca, Potassium, K, Vitamin B-12, Vita...</td>\n",
       "      <td>[Calcium, Ca, Potassium, K, Vitamin B-12, Vita...</td>\n",
       "      <td>[Calcium, Ca, Potassium, K, Vitamin B-12, Vita...</td>\n",
       "      <td>[Calcium, Ca, Niacin, Potassium, K, Vitamin B-...</td>\n",
       "      <td>[Calcium, Ca, Potassium, K, Vitamin B-12, Vita...</td>\n",
       "      <td>[Calcium, Ca, Potassium, K, Vitamin B-12, Vita...</td>\n",
       "      <td>[Calcium, Ca, Potassium, K, Vitamin B-12, Vita...</td>\n",
       "      <td>[Calcium, Ca, Potassium, K, Vitamin B-12, Vita...</td>\n",
       "      <td>[Energy, Calcium, Ca, Potassium, K, Vitamin B-...</td>\n",
       "      <td>[Calcium, Ca, Potassium, K, Vitamin B-12, Vita...</td>\n",
       "    </tr>\n",
       "    <tr>\n",
       "      <th>IB</th>\n",
       "      <td>[Calcium, Ca, Carbohydrate, by difference, Iro...</td>\n",
       "      <td>[Calcium, Ca, Carbohydrate, by difference, Iro...</td>\n",
       "      <td>[Calcium, Ca, Carbohydrate, by difference, Iro...</td>\n",
       "      <td>[Calcium, Ca, Carbohydrate, by difference, Iro...</td>\n",
       "      <td>[Calcium, Ca, Carbohydrate, by difference, Iro...</td>\n",
       "      <td>[Calcium, Ca, Iron, Fe, Sodium, Na]</td>\n",
       "      <td>[Calcium, Ca, Carbohydrate, by difference, Iro...</td>\n",
       "      <td>[Calcium, Ca, Iron, Fe, Sodium, Na, Energy]</td>\n",
       "      <td>[Carbohydrate, by difference, Magnesium, Mg, T...</td>\n",
       "      <td>[Calcium, Ca, Iron, Fe, Sodium, Na, Energy]</td>\n",
       "      <td>[Carbohydrate, by difference, Magnesium, Mg, T...</td>\n",
       "      <td>[Calcium, Ca, Carbohydrate, by difference, Thi...</td>\n",
       "      <td>[Carbohydrate, by difference, Magnesium, Mg, T...</td>\n",
       "    </tr>\n",
       "    <tr>\n",
       "      <th>Poke Bar</th>\n",
       "      <td>[Carbohydrate, by difference, Potassium, K, Vi...</td>\n",
       "      <td>[Carbohydrate, by difference, Potassium, K, Vi...</td>\n",
       "      <td>[Carbohydrate, by difference, Potassium, K, Vi...</td>\n",
       "      <td>[Carbohydrate, by difference, Phosphorus, P, P...</td>\n",
       "      <td>[Carbohydrate, by difference, Vitamin E (alpha...</td>\n",
       "      <td>[Carbohydrate, by difference, Vitamin E (alpha...</td>\n",
       "      <td>[Carbohydrate, by difference, Vitamin B-12, Vi...</td>\n",
       "      <td>[Carbohydrate, by difference, Potassium, K, Vi...</td>\n",
       "      <td>[Carbohydrate, by difference, Vitamin B-12, Vi...</td>\n",
       "      <td>[Carbohydrate, by difference, Vitamin E (alpha...</td>\n",
       "      <td>[Carbohydrate, by difference, Vitamin B-12, Vi...</td>\n",
       "      <td>[Carbohydrate, by difference, Potassium, K, Vi...</td>\n",
       "      <td>[Carbohydrate, by difference, Vitamin B-12, Vi...</td>\n",
       "    </tr>\n",
       "  </tbody>\n",
       "</table>\n",
       "</div>"
      ],
      "text/plain": [
       "                                                        C 1-3  \\\n",
       "Thai Basil  [Calcium, Ca, Carbohydrate, by difference, Vit...   \n",
       "Ttoust      [Calcium, Ca, Potassium, K, Vitamin B-12, Vita...   \n",
       "IB          [Calcium, Ca, Carbohydrate, by difference, Iro...   \n",
       "Poke Bar    [Carbohydrate, by difference, Potassium, K, Vi...   \n",
       "\n",
       "                                                        F 4-8  \\\n",
       "Thai Basil  [Calcium, Ca, Carbohydrate, by difference, Vit...   \n",
       "Ttoust      [Calcium, Ca, Potassium, K, Vitamin B-12, Vita...   \n",
       "IB          [Calcium, Ca, Carbohydrate, by difference, Iro...   \n",
       "Poke Bar    [Carbohydrate, by difference, Potassium, K, Vi...   \n",
       "\n",
       "                                                        M 4-8  \\\n",
       "Thai Basil  [Calcium, Ca, Carbohydrate, by difference, Vit...   \n",
       "Ttoust      [Calcium, Ca, Potassium, K, Vitamin B-12, Vita...   \n",
       "IB          [Calcium, Ca, Carbohydrate, by difference, Iro...   \n",
       "Poke Bar    [Carbohydrate, by difference, Potassium, K, Vi...   \n",
       "\n",
       "                                                       F 9-13  \\\n",
       "Thai Basil  [Calcium, Ca, Carbohydrate, by difference, Vit...   \n",
       "Ttoust      [Calcium, Ca, Potassium, K, Vitamin B-12, Vita...   \n",
       "IB          [Calcium, Ca, Carbohydrate, by difference, Iro...   \n",
       "Poke Bar    [Carbohydrate, by difference, Phosphorus, P, P...   \n",
       "\n",
       "                                                       M 9-13  \\\n",
       "Thai Basil  [Calcium, Ca, Carbohydrate, by difference, Pot...   \n",
       "Ttoust      [Calcium, Ca, Potassium, K, Vitamin B-12, Vita...   \n",
       "IB          [Calcium, Ca, Carbohydrate, by difference, Iro...   \n",
       "Poke Bar    [Carbohydrate, by difference, Vitamin E (alpha...   \n",
       "\n",
       "                                                      F 14-18  \\\n",
       "Thai Basil  [Calcium, Ca, Carbohydrate, by difference, Pot...   \n",
       "Ttoust      [Calcium, Ca, Potassium, K, Vitamin B-12, Vita...   \n",
       "IB                        [Calcium, Ca, Iron, Fe, Sodium, Na]   \n",
       "Poke Bar    [Carbohydrate, by difference, Vitamin E (alpha...   \n",
       "\n",
       "                                                      M 14-18  \\\n",
       "Thai Basil  [Calcium, Ca, Carbohydrate, by difference, Pot...   \n",
       "Ttoust      [Calcium, Ca, Niacin, Potassium, K, Vitamin B-...   \n",
       "IB          [Calcium, Ca, Carbohydrate, by difference, Iro...   \n",
       "Poke Bar    [Carbohydrate, by difference, Vitamin B-12, Vi...   \n",
       "\n",
       "                                                      F 19-30  \\\n",
       "Thai Basil  [Calcium, Ca, Carbohydrate, by difference, Pot...   \n",
       "Ttoust      [Calcium, Ca, Potassium, K, Vitamin B-12, Vita...   \n",
       "IB                [Calcium, Ca, Iron, Fe, Sodium, Na, Energy]   \n",
       "Poke Bar    [Carbohydrate, by difference, Potassium, K, Vi...   \n",
       "\n",
       "                                                      M 19-30  \\\n",
       "Thai Basil  [Calcium, Ca, Carbohydrate, by difference, Vit...   \n",
       "Ttoust      [Calcium, Ca, Potassium, K, Vitamin B-12, Vita...   \n",
       "IB          [Carbohydrate, by difference, Magnesium, Mg, T...   \n",
       "Poke Bar    [Carbohydrate, by difference, Vitamin B-12, Vi...   \n",
       "\n",
       "                                                      F 31-50  \\\n",
       "Thai Basil  [Calcium, Ca, Carbohydrate, by difference, Vit...   \n",
       "Ttoust      [Calcium, Ca, Potassium, K, Vitamin B-12, Vita...   \n",
       "IB                [Calcium, Ca, Iron, Fe, Sodium, Na, Energy]   \n",
       "Poke Bar    [Carbohydrate, by difference, Vitamin E (alpha...   \n",
       "\n",
       "                                                      M 31-50  \\\n",
       "Thai Basil  [Calcium, Ca, Carbohydrate, by difference, Pot...   \n",
       "Ttoust      [Calcium, Ca, Potassium, K, Vitamin B-12, Vita...   \n",
       "IB          [Carbohydrate, by difference, Magnesium, Mg, T...   \n",
       "Poke Bar    [Carbohydrate, by difference, Vitamin B-12, Vi...   \n",
       "\n",
       "                                                        F 51+  \\\n",
       "Thai Basil  [Calcium, Ca, Carbohydrate, by difference, Pot...   \n",
       "Ttoust      [Energy, Calcium, Ca, Potassium, K, Vitamin B-...   \n",
       "IB          [Calcium, Ca, Carbohydrate, by difference, Thi...   \n",
       "Poke Bar    [Carbohydrate, by difference, Potassium, K, Vi...   \n",
       "\n",
       "                                                        M 51+  \n",
       "Thai Basil  [Calcium, Ca, Carbohydrate, by difference, Pot...  \n",
       "Ttoust      [Calcium, Ca, Potassium, K, Vitamin B-12, Vita...  \n",
       "IB          [Carbohydrate, by difference, Magnesium, Mg, T...  \n",
       "Poke Bar    [Carbohydrate, by difference, Vitamin B-12, Vi...  "
      ]
     },
     "execution_count": 24,
     "metadata": {},
     "output_type": "execute_result"
    }
   ],
   "source": [
    "# table of minimum cost diet constraining nutrients by age-sex groups and restaurants\n",
    "# saved for reference\n",
    "excess_tbl"
   ]
  },
  {
   "cell_type": "markdown",
   "id": "06e4f164",
   "metadata": {},
   "source": [
    "## Sensitivity of solution"
   ]
  },
  {
   "cell_type": "markdown",
   "id": "1c5232aa",
   "metadata": {},
   "source": [
    "### Effects of Price Changes on Subsistence Diet Cost"
   ]
  },
  {
   "cell_type": "code",
   "execution_count": 72,
   "id": "99afc665",
   "metadata": {},
   "outputs": [
    {
     "data": {
      "text/html": [
       "        <script type=\"text/javascript\">\n",
       "        window.PlotlyConfig = {MathJaxConfig: 'local'};\n",
       "        if (window.MathJax) {MathJax.Hub.Config({SVG: {font: \"STIX-Web\"}});}\n",
       "        if (typeof require !== 'undefined') {\n",
       "        require.undef(\"plotly\");\n",
       "        requirejs.config({\n",
       "            paths: {\n",
       "                'plotly': ['https://cdn.plot.ly/plotly-2.3.1.min']\n",
       "            }\n",
       "        });\n",
       "        require(['plotly'], function(Plotly) {\n",
       "            window._Plotly = Plotly;\n",
       "        });\n",
       "        }\n",
       "        </script>\n",
       "        "
      ]
     },
     "metadata": {},
     "output_type": "display_data"
    },
    {
     "name": "stderr",
     "output_type": "stream",
     "text": [
      "/tmp/ipykernel_30/2046845037.py:22: UserWarning:\n",
      "\n",
      "Prices have no units.  BE CAREFUL!  We're assuming prices are per hectogram or deciliter!\n",
      "\n",
      "/tmp/ipykernel_30/2046845037.py:91: UserWarning:\n",
      "\n",
      "The solution does not satisfy the constraints within the required tolerance of 3.16E-04, yet no errors were raised and there is no certificate of infeasibility or unboundedness. Check whether the slack and constraint residuals are acceptable; if not, consider enabling presolve, adjusting the tolerance option(s), and/or using a different method. Please consider submitting a bug report.\n",
      "\n"
     ]
    },
    {
     "data": {
      "application/vnd.plotly.v1+json": {
       "config": {
        "linkText": "Export to plot.ly",
        "plotlyServerURL": "https://plot.ly",
        "showLink": true
       },
       "data": [
        {
         "line": {
          "color": "rgba(255, 153, 51, 1.0)",
          "dash": "solid",
          "shape": "linear",
          "width": 1.3
         },
         "mode": "lines",
         "name": "Beef",
         "text": "",
         "type": "scatter",
         "x": [
          -0.6931471805599453,
          -0.5108256237659907,
          -0.35667494393873245,
          -0.22314355131420968,
          -0.10536051565782628,
          0,
          0.09531017980432495,
          0.1823215567939546,
          0.26236426446749106,
          0.33647223662121284,
          0.4054651081081644
         ],
         "y": [
          -0.04159973893344539,
          -0.010586257799036691,
          -7.789634252376688e-08,
          -3.59120057115873e-07,
          -4.4851056046365795e-07,
          0,
          -2.342004343815724e-07,
          -1.7248941424068175e-08,
          -3.4541328467762347e-07,
          9.161396565897893e-07,
          -2.2942710265539225e-07
         ]
        },
        {
         "line": {
          "color": "rgba(55, 128, 191, 1.0)",
          "dash": "solid",
          "shape": "linear",
          "width": 1.3
         },
         "mode": "lines",
         "name": "Egg",
         "text": "",
         "type": "scatter",
         "x": [
          -0.6931471805599453,
          -0.5108256237659907,
          -0.35667494393873245,
          -0.22314355131420968,
          -0.10536051565782628,
          0,
          0.09531017980432495,
          0.1823215567939546,
          0.26236426446749106,
          0.33647223662121284,
          0.4054651081081644
         ],
         "y": [
          -0.08491634506595475,
          -0.061272854703445595,
          -0.038175500032853686,
          -0.016938903433306222,
          -0.008433820910119813,
          0,
          0.00836240378579126,
          0.01665601729026572,
          0.01884167373038207,
          0.01884151912915482,
          0.018841760918030147
         ]
        },
        {
         "line": {
          "color": "rgba(50, 171, 96, 1.0)",
          "dash": "solid",
          "shape": "linear",
          "width": 1.3
         },
         "mode": "lines",
         "name": "Carrots",
         "text": "",
         "type": "scatter",
         "x": [
          -0.6931471805599453,
          -0.5108256237659907,
          -0.35667494393873245,
          -0.22314355131420968,
          -0.10536051565782628,
          0,
          0.09531017980432495,
          0.1823215567939546,
          0.26236426446749106,
          0.33647223662121284,
          0.4054651081081644
         ],
         "y": [
          -8.259892470803475e-09,
          -3.551946410538933e-07,
          -3.757672821694722e-07,
          -3.1025043106762943e-07,
          7.1595961179402864e-06,
          0,
          -1.248390273586718e-07,
          -2.1635079681147948e-07,
          -4.46817300284082e-07,
          5.637870386659257e-07,
          -4.486064754493364e-07
         ]
        },
        {
         "line": {
          "color": "rgba(128, 0, 128, 1.0)",
          "dash": "solid",
          "shape": "linear",
          "width": 1.3
         },
         "mode": "lines",
         "name": "Purple Cabbage ",
         "text": "",
         "type": "scatter",
         "x": [
          -0.6931471805599453,
          -0.5108256237659907,
          -0.35667494393873245,
          -0.22314355131420968,
          -0.10536051565782628,
          0,
          0.09531017980432495,
          0.1823215567939546,
          0.26236426446749106,
          0.33647223662121284,
          0.4054651081081644
         ],
         "y": [
          -0.008897665420663212,
          -0.00711162703929401,
          -0.005329136450588379,
          -0.0035497671178418145,
          -0.0017735691458322404,
          0,
          0.001769538194907065,
          0.0035364223202474956,
          0.005300132095751339,
          0.00706077305924219,
          0.008818791836546713
         ]
        },
        {
         "line": {
          "color": "rgba(219, 64, 82, 1.0)",
          "dash": "solid",
          "shape": "linear",
          "width": 1.3
         },
         "mode": "lines",
         "name": "Squash",
         "text": "",
         "type": "scatter",
         "x": [
          -0.6931471805599453,
          -0.5108256237659907,
          -0.35667494393873245,
          -0.22314355131420968,
          -0.10536051565782628,
          0,
          0.09531017980432495,
          0.1823215567939546,
          0.26236426446749106,
          0.33647223662121284,
          0.4054651081081644
         ],
         "y": [
          -2.779956772608713e-07,
          -4.5927172120870464e-08,
          -2.484547830812409e-07,
          -4.418935037239422e-07,
          -3.935207473683084e-07,
          0,
          -4.495415689833142e-07,
          -4.495268858331237e-07,
          -3.387126619937138e-07,
          -3.517769170743173e-07,
          1.0747909895142526e-07
         ]
        },
        {
         "line": {
          "color": "rgba(0, 128, 128, 1.0)",
          "dash": "solid",
          "shape": "linear",
          "width": 1.3
         },
         "mode": "lines",
         "name": "Spinach ",
         "text": "",
         "type": "scatter",
         "x": [
          -0.6931471805599453,
          -0.5108256237659907,
          -0.35667494393873245,
          -0.22314355131420968,
          -0.10536051565782628,
          0,
          0.09531017980432495,
          0.1823215567939546,
          0.26236426446749106,
          0.33647223662121284,
          0.4054651081081644
         ],
         "y": [
          -0.4044547055587088,
          -0.3064092058084307,
          -0.21712413339405595,
          -0.13930416410363605,
          -0.06722834768242399,
          0,
          0.06299138722677403,
          0.12224931986220551,
          0.1781912920692606,
          0.23116946998780363,
          0.2792605348273457
         ]
        },
        {
         "line": {
          "color": "rgba(255, 255, 51, 1.0)",
          "dash": "solid",
          "shape": "linear",
          "width": 1.3
         },
         "mode": "lines",
         "name": "Jasmine Rice",
         "text": "",
         "type": "scatter",
         "x": [
          -0.6931471805599453,
          -0.5108256237659907,
          -0.35667494393873245,
          -0.22314355131420968,
          -0.10536051565782628,
          0,
          0.09531017980432495,
          0.1823215567939546,
          0.26236426446749106,
          0.33647223662121284,
          0.4054651081081644
         ],
         "y": [
          4.536134191952622e-07,
          6.25853167732209e-07,
          7.313524362928891e-07,
          -2.8439426884853777e-08,
          -2.086193109329734e-09,
          0,
          3.260535677142921e-08,
          4.2461771641022553e-08,
          5.287019349112574e-08,
          3.649033875100018e-08,
          2.5574285695212058e-08
         ]
        },
        {
         "line": {
          "color": "rgba(128, 128, 0, 1.0)",
          "dash": "solid",
          "shape": "linear",
          "width": 1.3
         },
         "mode": "lines",
         "name": "Kimchi",
         "text": "",
         "type": "scatter",
         "x": [
          -0.6931471805599453,
          -0.5108256237659907,
          -0.35667494393873245,
          -0.22314355131420968,
          -0.10536051565782628,
          0,
          0.09531017980432495,
          0.1823215567939546,
          0.26236426446749106,
          0.33647223662121284,
          0.4054651081081644
         ],
         "y": [
          9.389332736825057e-08,
          -2.487706679225654e-07,
          -4.4885203324482197e-07,
          -1.8640159433367395e-09,
          7.833465036238632e-08,
          0,
          -1.2827663343831279e-07,
          -4.4834659543740506e-07,
          -4.440055402059208e-07,
          -1.3216048240912026e-07,
          -4.4886208698495644e-07
         ]
        },
        {
         "line": {
          "color": "rgba(251, 128, 114, 1.0)",
          "dash": "solid",
          "shape": "linear",
          "width": 1.3
         },
         "mode": "lines",
         "name": "Onions",
         "text": "",
         "type": "scatter",
         "x": [
          -0.6931471805599453,
          -0.5108256237659907,
          -0.35667494393873245,
          -0.22314355131420968,
          -0.10536051565782628,
          0,
          0.09531017980432495,
          0.1823215567939546,
          0.26236426446749106,
          0.33647223662121284,
          0.4054651081081644
         ],
         "y": [
          -4.104524780864533e-07,
          -1.1762076949147787e-07,
          -4.241046595064592e-07,
          -3.938520682473593e-07,
          -1.5732170360489775e-07,
          0,
          -2.728956525635216e-07,
          -4.4984569229116743e-07,
          -3.5618750464311714e-07,
          -3.0478482408517926e-07,
          -3.6367817231643724e-07
         ]
        },
        {
         "line": {
          "color": "rgba(128, 177, 211, 1.0)",
          "dash": "solid",
          "shape": "linear",
          "width": 1.3
         },
         "mode": "lines",
         "name": "Fish Sauce",
         "text": "",
         "type": "scatter",
         "x": [
          -0.6931471805599453,
          -0.5108256237659907,
          -0.35667494393873245,
          -0.22314355131420968,
          -0.10536051565782628,
          0,
          0.09531017980432495,
          0.1823215567939546,
          0.26236426446749106,
          0.33647223662121284,
          0.4054651081081644
         ],
         "y": [
          -4.019839716364416e-07,
          -4.457336934847068e-07,
          1.6884298022063936e-07,
          -4.3389561975270024e-07,
          -4.497647645457871e-07,
          0,
          -3.934169211575722e-07,
          -4.4933535084798977e-07,
          -4.0778261577317186e-07,
          -3.922668991833397e-07,
          -2.879089570429368e-07
         ]
        },
        {
         "line": {
          "color": "rgba(128, 177, 211, 0.8999999999999999)",
          "dash": "solid",
          "shape": "linear",
          "width": 1.3
         },
         "mode": "lines",
         "name": "Pork",
         "text": "",
         "type": "scatter",
         "x": [
          -0.6931471805599453,
          -0.5108256237659907,
          -0.35667494393873245,
          -0.22314355131420968,
          -0.10536051565782628,
          0,
          0.09531017980432495,
          0.1823215567939546,
          0.26236426446749106,
          0.33647223662121284,
          0.4054651081081644
         ],
         "y": [
          -0.1212002504507606,
          -0.09157890184794024,
          -0.06280968070783954,
          -0.03522625530097797,
          -0.016592580924619366,
          0,
          0.016321863914845483,
          0.028078421401133858,
          0.028078450764726363,
          0.0280784217909845,
          0.02807842466362297
         ]
        },
        {
         "line": {
          "color": "rgba(255, 153, 51, 0.8999999999999999)",
          "dash": "solid",
          "shape": "linear",
          "width": 1.3
         },
         "mode": "lines",
         "name": "Tofu",
         "text": "",
         "type": "scatter",
         "x": [
          -0.6931471805599453,
          -0.5108256237659907,
          -0.35667494393873245,
          -0.22314355131420968,
          -0.10536051565782628,
          0,
          0.09531017980432495,
          0.1823215567939546,
          0.26236426446749106,
          0.33647223662121284,
          0.4054651081081644
         ],
         "y": [
          -2.596857123457732e-07,
          -4.399299187850579e-07,
          -1.500380491384235e-07,
          -2.1921856534806472e-07,
          -4.4778728214646836e-07,
          0,
          7.737978558287679e-08,
          -4.4972937095291083e-07,
          -4.4508635445820663e-07,
          -4.0971290604598265e-07,
          -4.4903320185078293e-07
         ]
        },
        {
         "line": {
          "color": "rgba(55, 128, 191, 0.8999999999999999)",
          "dash": "solid",
          "shape": "linear",
          "width": 1.3
         },
         "mode": "lines",
         "name": "Green Onions",
         "text": "",
         "type": "scatter",
         "x": [
          -0.6931471805599453,
          -0.5108256237659907,
          -0.35667494393873245,
          -0.22314355131420968,
          -0.10536051565782628,
          0,
          0.09531017980432495,
          0.1823215567939546,
          0.26236426446749106,
          0.33647223662121284,
          0.4054651081081644
         ],
         "y": [
          -2.81593618546599e-07,
          -3.9623146153713493e-07,
          -2.076471720328387e-07,
          -4.4052593039882244e-07,
          2.5140788177344716e-07,
          0,
          -4.49621720571411e-07,
          -4.497058567517414e-07,
          -4.077408703712231e-07,
          -2.1316723937623042e-07,
          -3.450732609953728e-07
         ]
        },
        {
         "line": {
          "color": "rgba(50, 171, 96, 0.8999999999999999)",
          "dash": "solid",
          "shape": "linear",
          "width": 1.3
         },
         "mode": "lines",
         "name": "Sweet Chili Sauce",
         "text": "",
         "type": "scatter",
         "x": [
          -0.6931471805599453,
          -0.5108256237659907,
          -0.35667494393873245,
          -0.22314355131420968,
          -0.10536051565782628,
          0,
          0.09531017980432495,
          0.1823215567939546,
          0.26236426446749106,
          0.33647223662121284,
          0.4054651081081644
         ],
         "y": [
          -2.634298029189846e-07,
          1.0028942106809353e-07,
          -4.4757209862350224e-07,
          -4.4593052068262465e-07,
          -4.4156269297667924e-07,
          0,
          -4.2167787692670584e-07,
          -2.64229065785913e-07,
          -3.817049203567497e-07,
          -4.4780936182778015e-07,
          -3.96761288929337e-07
         ]
        },
        {
         "line": {
          "color": "rgba(128, 0, 128, 0.8999999999999999)",
          "dash": "solid",
          "shape": "linear",
          "width": 1.3
         },
         "mode": "lines",
         "name": "Beef Short Ribs",
         "text": "",
         "type": "scatter",
         "x": [
          -0.6931471805599453,
          -0.5108256237659907,
          -0.35667494393873245,
          -0.22314355131420968,
          -0.10536051565782628,
          0,
          0.09531017980432495,
          0.1823215567939546,
          0.26236426446749106,
          0.33647223662121284,
          0.4054651081081644
         ],
         "y": [
          -0.04585183507324291,
          -0.018999696767302402,
          -4.0244998427473016e-07,
          -1.3662752185939482e-07,
          -4.4445835097389375e-07,
          0,
          -3.5369978783796765e-07,
          -4.3089880521487964e-07,
          -4.32977455587496e-07,
          -3.691265652733572e-07,
          -4.4340374665702863e-07
         ]
        },
        {
         "line": {
          "color": "rgba(219, 64, 82, 0.8999999999999999)",
          "dash": "solid",
          "shape": "linear",
          "width": 1.3
         },
         "mode": "lines",
         "name": "potato",
         "text": "",
         "type": "scatter",
         "x": [
          -0.6931471805599453,
          -0.5108256237659907,
          -0.35667494393873245,
          -0.22314355131420968,
          -0.10536051565782628,
          0,
          0.09531017980432495,
          0.1823215567939546,
          0.26236426446749106,
          0.33647223662121284,
          0.4054651081081644
         ],
         "y": [
          -4.3009982976262535e-07,
          -3.859685587702593e-07,
          -4.4722449718689386e-07,
          -4.4923242591091486e-07,
          -4.496933906069034e-07,
          0,
          -3.254484984845343e-07,
          -4.4339443976430886e-07,
          -4.147843455178306e-07,
          -4.47298592949586e-07,
          -1.0929497893355654e-07
         ]
        },
        {
         "line": {
          "color": "rgba(0, 128, 128, 0.8999999999999999)",
          "dash": "solid",
          "shape": "linear",
          "width": 1.3
         },
         "mode": "lines",
         "name": "fish cake",
         "text": "",
         "type": "scatter",
         "x": [
          -0.6931471805599453,
          -0.5108256237659907,
          -0.35667494393873245,
          -0.22314355131420968,
          -0.10536051565782628,
          0,
          0.09531017980432495,
          0.1823215567939546,
          0.26236426446749106,
          0.33647223662121284,
          0.4054651081081644
         ],
         "y": [
          -4.483479189348661e-07,
          -4.38474126658312e-07,
          -4.4913998703502774e-07,
          -4.499347708535792e-07,
          -4.498100336879331e-07,
          0,
          -3.4972966654211877e-07,
          -4.3876311428566357e-07,
          -4.1554190262741275e-07,
          -4.413810066748468e-07,
          -2.6353932922477993e-07
         ]
        },
        {
         "line": {
          "color": "rgba(255, 255, 51, 0.8999999999999999)",
          "dash": "solid",
          "shape": "linear",
          "width": 1.3
         },
         "mode": "lines",
         "name": "kimchi",
         "text": "",
         "type": "scatter",
         "x": [
          -0.6931471805599453,
          -0.5108256237659907,
          -0.35667494393873245,
          -0.22314355131420968,
          -0.10536051565782628,
          0,
          0.09531017980432495,
          0.1823215567939546,
          0.26236426446749106,
          0.33647223662121284,
          0.4054651081081644
         ],
         "y": [
          1.198300984587472e-08,
          -2.491448337141415e-07,
          -4.487075977164129e-07,
          6.685499752365238e-08,
          7.955123709762173e-08,
          0,
          -1.542981623826986e-07,
          -4.4848986190039273e-07,
          -4.3975480822636635e-07,
          -1.309126759422593e-07,
          -4.4887490618086443e-07
         ]
        },
        {
         "line": {
          "color": "rgba(128, 128, 0, 0.8999999999999999)",
          "dash": "solid",
          "shape": "linear",
          "width": 1.3
         },
         "mode": "lines",
         "name": "Soy Sauce",
         "text": "",
         "type": "scatter",
         "x": [
          -0.6931471805599453,
          -0.5108256237659907,
          -0.35667494393873245,
          -0.22314355131420968,
          -0.10536051565782628,
          0,
          0.09531017980432495,
          0.1823215567939546,
          0.26236426446749106,
          0.33647223662121284,
          0.4054651081081644
         ],
         "y": [
          -3.84993727400775e-07,
          -3.967058710148537e-07,
          -3.830417203168206e-07,
          -4.498793047524482e-07,
          -4.4740338550446947e-07,
          0,
          -2.881731391286338e-07,
          -4.486007378141712e-07,
          -4.4055816773694576e-07,
          -2.0009844107453128e-07,
          -7.519842798086824e-08
         ]
        },
        {
         "line": {
          "color": "rgba(251, 128, 114, 0.8999999999999999)",
          "dash": "solid",
          "shape": "linear",
          "width": 1.3
         },
         "mode": "lines",
         "name": "Sesame ",
         "text": "",
         "type": "scatter",
         "x": [
          -0.6931471805599453,
          -0.5108256237659907,
          -0.35667494393873245,
          -0.22314355131420968,
          -0.10536051565782628,
          0,
          0.09531017980432495,
          0.1823215567939546,
          0.26236426446749106,
          0.33647223662121284,
          0.4054651081081644
         ],
         "y": [
          -0.00012386298835536635,
          -4.723873270881782e-08,
          5.070556690311974e-08,
          -2.756946234980164e-07,
          -3.9170842958257594e-07,
          0,
          -3.3448033741052454e-07,
          -4.3394627214586566e-07,
          -3.9740861060506835e-07,
          -2.800569094658333e-07,
          -2.1306334601571237e-07
         ]
        },
        {
         "line": {
          "color": "rgba(251, 128, 114, 0.7999999999999998)",
          "dash": "solid",
          "shape": "linear",
          "width": 1.3
         },
         "mode": "lines",
         "name": "Brown Sugar",
         "text": "",
         "type": "scatter",
         "x": [
          -0.6931471805599453,
          -0.5108256237659907,
          -0.35667494393873245,
          -0.22314355131420968,
          -0.10536051565782628,
          0,
          0.09531017980432495,
          0.1823215567939546,
          0.26236426446749106,
          0.33647223662121284,
          0.4054651081081644
         ],
         "y": [
          -4.0312359282631683e-07,
          -2.725901628466118e-07,
          1.4192423561779536e-07,
          -2.1007462434885405e-08,
          -1.4597422781257709e-07,
          0,
          3.780744912279978e-08,
          -4.212289358530305e-07,
          -4.1765571829789813e-07,
          -4.31745530936587e-07,
          -4.262471784692684e-07
         ]
        },
        {
         "line": {
          "color": "rgba(128, 177, 211, 0.7999999999999998)",
          "dash": "solid",
          "shape": "linear",
          "width": 1.3
         },
         "mode": "lines",
         "name": "Lettuce",
         "text": "",
         "type": "scatter",
         "x": [
          -0.6931471805599453,
          -0.5108256237659907,
          -0.35667494393873245,
          -0.22314355131420968,
          -0.10536051565782628,
          0,
          0.09531017980432495,
          0.1823215567939546,
          0.26236426446749106,
          0.33647223662121284,
          0.4054651081081644
         ],
         "y": [
          -3.6433104730834564e-07,
          -4.0456707107998484e-07,
          7.18021947470483e-07,
          -4.4759152598081627e-07,
          -4.49905327059585e-07,
          0,
          -4.453250565115754e-07,
          2.87672339586186e-08,
          -4.277720600086336e-07,
          -3.550928083643073e-07,
          -4.2039155511339913e-07
         ]
        },
        {
         "line": {
          "color": "rgba(255, 153, 51, 0.7999999999999998)",
          "dash": "solid",
          "shape": "linear",
          "width": 1.3
         },
         "mode": "lines",
         "name": "Rice Cake",
         "text": "",
         "type": "scatter",
         "x": [
          -0.6931471805599453,
          -0.5108256237659907,
          -0.35667494393873245,
          -0.22314355131420968,
          -0.10536051565782628,
          0,
          0.09531017980432495,
          0.1823215567939546,
          0.26236426446749106,
          0.33647223662121284,
          0.4054651081081644
         ],
         "y": [
          -3.579338406762786e-07,
          -4.1562134267055216e-07,
          -4.3416083427380306e-07,
          -2.1679510649682537e-07,
          -4.4940059679708726e-07,
          0,
          -4.492771997823229e-07,
          3.3036948914978117e-07,
          -4.4970000221003285e-07,
          -4.3111415515676106e-07,
          -4.486838623587418e-07
         ]
        },
        {
         "line": {
          "color": "rgba(55, 128, 191, 0.7999999999999998)",
          "dash": "solid",
          "shape": "linear",
          "width": 1.3
         },
         "mode": "lines",
         "name": "Glass Noodle",
         "text": "",
         "type": "scatter",
         "x": [
          -0.6931471805599453,
          -0.5108256237659907,
          -0.35667494393873245,
          -0.22314355131420968,
          -0.10536051565782628,
          0,
          0.09531017980432495,
          0.1823215567939546,
          0.26236426446749106,
          0.33647223662121284,
          0.4054651081081644
         ],
         "y": [
          -3.994807316838542e-07,
          -4.479072877612565e-07,
          -2.0999823697802565e-07,
          -3.2522773733662604e-07,
          -2.4265415789777145e-07,
          0,
          -2.6855899890790866e-07,
          -3.6820579125437434e-07,
          -3.0690319654437005e-07,
          -4.4113238111158086e-07,
          9.235183250290503e-07
         ]
        },
        {
         "line": {
          "color": "rgba(50, 171, 96, 0.7999999999999998)",
          "dash": "solid",
          "shape": "linear",
          "width": 1.3
         },
         "mode": "lines",
         "name": "Seaweed",
         "text": "",
         "type": "scatter",
         "x": [
          -0.6931471805599453,
          -0.5108256237659907,
          -0.35667494393873245,
          -0.22314355131420968,
          -0.10536051565782628,
          0,
          0.09531017980432495,
          0.1823215567939546,
          0.26236426446749106,
          0.33647223662121284,
          0.4054651081081644
         ],
         "y": [
          -2.0117255852963407e-07,
          -4.4907922783227154e-07,
          -1.820931400035026e-08,
          -3.1244564798212153e-07,
          -2.6232302595772697e-07,
          0,
          -9.985170345033991e-08,
          -4.3517533431021573e-07,
          -1.1707409494386778e-07,
          -2.7495824777915333e-07,
          -3.3425356628831433e-07
         ]
        },
        {
         "line": {
          "color": "rgba(128, 0, 128, 0.7999999999999998)",
          "dash": "solid",
          "shape": "linear",
          "width": 1.3
         },
         "mode": "lines",
         "name": "Cabbage ",
         "text": "",
         "type": "scatter",
         "x": [
          -0.6931471805599453,
          -0.5108256237659907,
          -0.35667494393873245,
          -0.22314355131420968,
          -0.10536051565782628,
          0,
          0.09531017980432495,
          0.1823215567939546,
          0.26236426446749106,
          0.33647223662121284,
          0.4054651081081644
         ],
         "y": [
          -0.005240144832007798,
          -0.002253400779561096,
          -2.5477705826556556e-07,
          -2.037798519946557e-07,
          -4.455127443494024e-07,
          0,
          -6.345265625513305e-08,
          -2.0427857871197146e-07,
          -2.2901758025656454e-07,
          -3.8401151837536467e-07,
          -2.637553868979854e-07
         ]
        },
        {
         "line": {
          "color": "rgba(219, 64, 82, 0.7999999999999998)",
          "dash": "solid",
          "shape": "linear",
          "width": 1.3
         },
         "mode": "lines",
         "name": "Flour",
         "text": "",
         "type": "scatter",
         "x": [
          -0.6931471805599453,
          -0.5108256237659907,
          -0.35667494393873245,
          -0.22314355131420968,
          -0.10536051565782628,
          0,
          0.09531017980432495,
          0.1823215567939546,
          0.26236426446749106,
          0.33647223662121284,
          0.4054651081081644
         ],
         "y": [
          -0.06370201106948178,
          -0.038888587145999125,
          -0.025388975297766857,
          -0.016854285589755023,
          -0.00839198696238665,
          0,
          0.008321444935079228,
          0.016574289949995588,
          0.024759818018270516,
          0.03074872046792368,
          0.03562461316690478
         ]
        },
        {
         "line": {
          "color": "rgba(0, 128, 128, 0.7999999999999998)",
          "dash": "solid",
          "shape": "linear",
          "width": 1.3
         },
         "mode": "lines",
         "name": "Chicken",
         "text": "",
         "type": "scatter",
         "x": [
          -0.6931471805599453,
          -0.5108256237659907,
          -0.35667494393873245,
          -0.22314355131420968,
          -0.10536051565782628,
          0,
          0.09531017980432495,
          0.1823215567939546,
          0.26236426446749106,
          0.33647223662121284,
          0.4054651081081644
         ],
         "y": [
          -4.496409888337339e-07,
          -3.361710646472473e-07,
          -4.4825387234437816e-07,
          -4.416051853384208e-07,
          -3.7619168262172477e-07,
          0,
          -4.265629981966355e-07,
          -4.4655118003927457e-07,
          -1.478277716257396e-07,
          -2.881897305283397e-07,
          -2.2141931219585453e-07
         ]
        },
        {
         "line": {
          "color": "rgba(255, 255, 51, 0.7999999999999998)",
          "dash": "solid",
          "shape": "linear",
          "width": 1.3
         },
         "mode": "lines",
         "name": "Teriyaki Sauce",
         "text": "",
         "type": "scatter",
         "x": [
          -0.6931471805599453,
          -0.5108256237659907,
          -0.35667494393873245,
          -0.22314355131420968,
          -0.10536051565782628,
          0,
          0.09531017980432495,
          0.1823215567939546,
          0.26236426446749106,
          0.33647223662121284,
          0.4054651081081644
         ],
         "y": [
          6.433699921243066e-08,
          -2.251965204750528e-07,
          -2.0862962291369223e-07,
          -4.198619058995474e-07,
          -4.4928996457728355e-07,
          0,
          -4.2333601525448356e-07,
          -3.088103142623728e-07,
          -3.0443955549953346e-07,
          -6.131978069024485e-08,
          -4.289006618155626e-07
         ]
        }
       ],
       "layout": {
        "legend": {
         "bgcolor": "#F5F6F9",
         "font": {
          "color": "#4D5663"
         }
        },
        "paper_bgcolor": "#F5F6F9",
        "plot_bgcolor": "#F5F6F9",
        "template": {
         "data": {
          "bar": [
           {
            "error_x": {
             "color": "#2a3f5f"
            },
            "error_y": {
             "color": "#2a3f5f"
            },
            "marker": {
             "line": {
              "color": "#E5ECF6",
              "width": 0.5
             },
             "pattern": {
              "fillmode": "overlay",
              "size": 10,
              "solidity": 0.2
             }
            },
            "type": "bar"
           }
          ],
          "barpolar": [
           {
            "marker": {
             "line": {
              "color": "#E5ECF6",
              "width": 0.5
             },
             "pattern": {
              "fillmode": "overlay",
              "size": 10,
              "solidity": 0.2
             }
            },
            "type": "barpolar"
           }
          ],
          "carpet": [
           {
            "aaxis": {
             "endlinecolor": "#2a3f5f",
             "gridcolor": "white",
             "linecolor": "white",
             "minorgridcolor": "white",
             "startlinecolor": "#2a3f5f"
            },
            "baxis": {
             "endlinecolor": "#2a3f5f",
             "gridcolor": "white",
             "linecolor": "white",
             "minorgridcolor": "white",
             "startlinecolor": "#2a3f5f"
            },
            "type": "carpet"
           }
          ],
          "choropleth": [
           {
            "colorbar": {
             "outlinewidth": 0,
             "ticks": ""
            },
            "type": "choropleth"
           }
          ],
          "contour": [
           {
            "colorbar": {
             "outlinewidth": 0,
             "ticks": ""
            },
            "colorscale": [
             [
              0,
              "#0d0887"
             ],
             [
              0.1111111111111111,
              "#46039f"
             ],
             [
              0.2222222222222222,
              "#7201a8"
             ],
             [
              0.3333333333333333,
              "#9c179e"
             ],
             [
              0.4444444444444444,
              "#bd3786"
             ],
             [
              0.5555555555555556,
              "#d8576b"
             ],
             [
              0.6666666666666666,
              "#ed7953"
             ],
             [
              0.7777777777777778,
              "#fb9f3a"
             ],
             [
              0.8888888888888888,
              "#fdca26"
             ],
             [
              1,
              "#f0f921"
             ]
            ],
            "type": "contour"
           }
          ],
          "contourcarpet": [
           {
            "colorbar": {
             "outlinewidth": 0,
             "ticks": ""
            },
            "type": "contourcarpet"
           }
          ],
          "heatmap": [
           {
            "colorbar": {
             "outlinewidth": 0,
             "ticks": ""
            },
            "colorscale": [
             [
              0,
              "#0d0887"
             ],
             [
              0.1111111111111111,
              "#46039f"
             ],
             [
              0.2222222222222222,
              "#7201a8"
             ],
             [
              0.3333333333333333,
              "#9c179e"
             ],
             [
              0.4444444444444444,
              "#bd3786"
             ],
             [
              0.5555555555555556,
              "#d8576b"
             ],
             [
              0.6666666666666666,
              "#ed7953"
             ],
             [
              0.7777777777777778,
              "#fb9f3a"
             ],
             [
              0.8888888888888888,
              "#fdca26"
             ],
             [
              1,
              "#f0f921"
             ]
            ],
            "type": "heatmap"
           }
          ],
          "heatmapgl": [
           {
            "colorbar": {
             "outlinewidth": 0,
             "ticks": ""
            },
            "colorscale": [
             [
              0,
              "#0d0887"
             ],
             [
              0.1111111111111111,
              "#46039f"
             ],
             [
              0.2222222222222222,
              "#7201a8"
             ],
             [
              0.3333333333333333,
              "#9c179e"
             ],
             [
              0.4444444444444444,
              "#bd3786"
             ],
             [
              0.5555555555555556,
              "#d8576b"
             ],
             [
              0.6666666666666666,
              "#ed7953"
             ],
             [
              0.7777777777777778,
              "#fb9f3a"
             ],
             [
              0.8888888888888888,
              "#fdca26"
             ],
             [
              1,
              "#f0f921"
             ]
            ],
            "type": "heatmapgl"
           }
          ],
          "histogram": [
           {
            "marker": {
             "pattern": {
              "fillmode": "overlay",
              "size": 10,
              "solidity": 0.2
             }
            },
            "type": "histogram"
           }
          ],
          "histogram2d": [
           {
            "colorbar": {
             "outlinewidth": 0,
             "ticks": ""
            },
            "colorscale": [
             [
              0,
              "#0d0887"
             ],
             [
              0.1111111111111111,
              "#46039f"
             ],
             [
              0.2222222222222222,
              "#7201a8"
             ],
             [
              0.3333333333333333,
              "#9c179e"
             ],
             [
              0.4444444444444444,
              "#bd3786"
             ],
             [
              0.5555555555555556,
              "#d8576b"
             ],
             [
              0.6666666666666666,
              "#ed7953"
             ],
             [
              0.7777777777777778,
              "#fb9f3a"
             ],
             [
              0.8888888888888888,
              "#fdca26"
             ],
             [
              1,
              "#f0f921"
             ]
            ],
            "type": "histogram2d"
           }
          ],
          "histogram2dcontour": [
           {
            "colorbar": {
             "outlinewidth": 0,
             "ticks": ""
            },
            "colorscale": [
             [
              0,
              "#0d0887"
             ],
             [
              0.1111111111111111,
              "#46039f"
             ],
             [
              0.2222222222222222,
              "#7201a8"
             ],
             [
              0.3333333333333333,
              "#9c179e"
             ],
             [
              0.4444444444444444,
              "#bd3786"
             ],
             [
              0.5555555555555556,
              "#d8576b"
             ],
             [
              0.6666666666666666,
              "#ed7953"
             ],
             [
              0.7777777777777778,
              "#fb9f3a"
             ],
             [
              0.8888888888888888,
              "#fdca26"
             ],
             [
              1,
              "#f0f921"
             ]
            ],
            "type": "histogram2dcontour"
           }
          ],
          "mesh3d": [
           {
            "colorbar": {
             "outlinewidth": 0,
             "ticks": ""
            },
            "type": "mesh3d"
           }
          ],
          "parcoords": [
           {
            "line": {
             "colorbar": {
              "outlinewidth": 0,
              "ticks": ""
             }
            },
            "type": "parcoords"
           }
          ],
          "pie": [
           {
            "automargin": true,
            "type": "pie"
           }
          ],
          "scatter": [
           {
            "marker": {
             "colorbar": {
              "outlinewidth": 0,
              "ticks": ""
             }
            },
            "type": "scatter"
           }
          ],
          "scatter3d": [
           {
            "line": {
             "colorbar": {
              "outlinewidth": 0,
              "ticks": ""
             }
            },
            "marker": {
             "colorbar": {
              "outlinewidth": 0,
              "ticks": ""
             }
            },
            "type": "scatter3d"
           }
          ],
          "scattercarpet": [
           {
            "marker": {
             "colorbar": {
              "outlinewidth": 0,
              "ticks": ""
             }
            },
            "type": "scattercarpet"
           }
          ],
          "scattergeo": [
           {
            "marker": {
             "colorbar": {
              "outlinewidth": 0,
              "ticks": ""
             }
            },
            "type": "scattergeo"
           }
          ],
          "scattergl": [
           {
            "marker": {
             "colorbar": {
              "outlinewidth": 0,
              "ticks": ""
             }
            },
            "type": "scattergl"
           }
          ],
          "scattermapbox": [
           {
            "marker": {
             "colorbar": {
              "outlinewidth": 0,
              "ticks": ""
             }
            },
            "type": "scattermapbox"
           }
          ],
          "scatterpolar": [
           {
            "marker": {
             "colorbar": {
              "outlinewidth": 0,
              "ticks": ""
             }
            },
            "type": "scatterpolar"
           }
          ],
          "scatterpolargl": [
           {
            "marker": {
             "colorbar": {
              "outlinewidth": 0,
              "ticks": ""
             }
            },
            "type": "scatterpolargl"
           }
          ],
          "scatterternary": [
           {
            "marker": {
             "colorbar": {
              "outlinewidth": 0,
              "ticks": ""
             }
            },
            "type": "scatterternary"
           }
          ],
          "surface": [
           {
            "colorbar": {
             "outlinewidth": 0,
             "ticks": ""
            },
            "colorscale": [
             [
              0,
              "#0d0887"
             ],
             [
              0.1111111111111111,
              "#46039f"
             ],
             [
              0.2222222222222222,
              "#7201a8"
             ],
             [
              0.3333333333333333,
              "#9c179e"
             ],
             [
              0.4444444444444444,
              "#bd3786"
             ],
             [
              0.5555555555555556,
              "#d8576b"
             ],
             [
              0.6666666666666666,
              "#ed7953"
             ],
             [
              0.7777777777777778,
              "#fb9f3a"
             ],
             [
              0.8888888888888888,
              "#fdca26"
             ],
             [
              1,
              "#f0f921"
             ]
            ],
            "type": "surface"
           }
          ],
          "table": [
           {
            "cells": {
             "fill": {
              "color": "#EBF0F8"
             },
             "line": {
              "color": "white"
             }
            },
            "header": {
             "fill": {
              "color": "#C8D4E3"
             },
             "line": {
              "color": "white"
             }
            },
            "type": "table"
           }
          ]
         },
         "layout": {
          "annotationdefaults": {
           "arrowcolor": "#2a3f5f",
           "arrowhead": 0,
           "arrowwidth": 1
          },
          "autotypenumbers": "strict",
          "coloraxis": {
           "colorbar": {
            "outlinewidth": 0,
            "ticks": ""
           }
          },
          "colorscale": {
           "diverging": [
            [
             0,
             "#8e0152"
            ],
            [
             0.1,
             "#c51b7d"
            ],
            [
             0.2,
             "#de77ae"
            ],
            [
             0.3,
             "#f1b6da"
            ],
            [
             0.4,
             "#fde0ef"
            ],
            [
             0.5,
             "#f7f7f7"
            ],
            [
             0.6,
             "#e6f5d0"
            ],
            [
             0.7,
             "#b8e186"
            ],
            [
             0.8,
             "#7fbc41"
            ],
            [
             0.9,
             "#4d9221"
            ],
            [
             1,
             "#276419"
            ]
           ],
           "sequential": [
            [
             0,
             "#0d0887"
            ],
            [
             0.1111111111111111,
             "#46039f"
            ],
            [
             0.2222222222222222,
             "#7201a8"
            ],
            [
             0.3333333333333333,
             "#9c179e"
            ],
            [
             0.4444444444444444,
             "#bd3786"
            ],
            [
             0.5555555555555556,
             "#d8576b"
            ],
            [
             0.6666666666666666,
             "#ed7953"
            ],
            [
             0.7777777777777778,
             "#fb9f3a"
            ],
            [
             0.8888888888888888,
             "#fdca26"
            ],
            [
             1,
             "#f0f921"
            ]
           ],
           "sequentialminus": [
            [
             0,
             "#0d0887"
            ],
            [
             0.1111111111111111,
             "#46039f"
            ],
            [
             0.2222222222222222,
             "#7201a8"
            ],
            [
             0.3333333333333333,
             "#9c179e"
            ],
            [
             0.4444444444444444,
             "#bd3786"
            ],
            [
             0.5555555555555556,
             "#d8576b"
            ],
            [
             0.6666666666666666,
             "#ed7953"
            ],
            [
             0.7777777777777778,
             "#fb9f3a"
            ],
            [
             0.8888888888888888,
             "#fdca26"
            ],
            [
             1,
             "#f0f921"
            ]
           ]
          },
          "colorway": [
           "#636efa",
           "#EF553B",
           "#00cc96",
           "#ab63fa",
           "#FFA15A",
           "#19d3f3",
           "#FF6692",
           "#B6E880",
           "#FF97FF",
           "#FECB52"
          ],
          "font": {
           "color": "#2a3f5f"
          },
          "geo": {
           "bgcolor": "white",
           "lakecolor": "white",
           "landcolor": "#E5ECF6",
           "showlakes": true,
           "showland": true,
           "subunitcolor": "white"
          },
          "hoverlabel": {
           "align": "left"
          },
          "hovermode": "closest",
          "mapbox": {
           "style": "light"
          },
          "paper_bgcolor": "white",
          "plot_bgcolor": "#E5ECF6",
          "polar": {
           "angularaxis": {
            "gridcolor": "white",
            "linecolor": "white",
            "ticks": ""
           },
           "bgcolor": "#E5ECF6",
           "radialaxis": {
            "gridcolor": "white",
            "linecolor": "white",
            "ticks": ""
           }
          },
          "scene": {
           "xaxis": {
            "backgroundcolor": "#E5ECF6",
            "gridcolor": "white",
            "gridwidth": 2,
            "linecolor": "white",
            "showbackground": true,
            "ticks": "",
            "zerolinecolor": "white"
           },
           "yaxis": {
            "backgroundcolor": "#E5ECF6",
            "gridcolor": "white",
            "gridwidth": 2,
            "linecolor": "white",
            "showbackground": true,
            "ticks": "",
            "zerolinecolor": "white"
           },
           "zaxis": {
            "backgroundcolor": "#E5ECF6",
            "gridcolor": "white",
            "gridwidth": 2,
            "linecolor": "white",
            "showbackground": true,
            "ticks": "",
            "zerolinecolor": "white"
           }
          },
          "shapedefaults": {
           "line": {
            "color": "#2a3f5f"
           }
          },
          "ternary": {
           "aaxis": {
            "gridcolor": "white",
            "linecolor": "white",
            "ticks": ""
           },
           "baxis": {
            "gridcolor": "white",
            "linecolor": "white",
            "ticks": ""
           },
           "bgcolor": "#E5ECF6",
           "caxis": {
            "gridcolor": "white",
            "linecolor": "white",
            "ticks": ""
           }
          },
          "title": {
           "x": 0.05
          },
          "xaxis": {
           "automargin": true,
           "gridcolor": "white",
           "linecolor": "white",
           "ticks": "",
           "title": {
            "standoff": 15
           },
           "zerolinecolor": "white",
           "zerolinewidth": 2
          },
          "yaxis": {
           "automargin": true,
           "gridcolor": "white",
           "linecolor": "white",
           "ticks": "",
           "title": {
            "standoff": 15
           },
           "zerolinecolor": "white",
           "zerolinewidth": 2
          }
         }
        },
        "title": {
         "font": {
          "color": "#4D5663"
         },
         "text": "Effects of Price Changes on Subsistence Diet Cost for F 19-30 (T-Toust)"
        },
        "xaxis": {
         "gridcolor": "#E1E5ED",
         "showgrid": true,
         "tickfont": {
          "color": "#4D5663"
         },
         "title": {
          "font": {
           "color": "#4D5663"
          },
          "text": "change in log price"
         },
         "zerolinecolor": "#E1E5ED"
        },
        "yaxis": {
         "gridcolor": "#E1E5ED",
         "showgrid": true,
         "tickfont": {
          "color": "#4D5663"
         },
         "title": {
          "font": {
           "color": "#4D5663"
          },
          "text": "change in log cost"
         },
         "zerolinecolor": "#E1E5ED"
        }
       }
      },
      "text/html": [
       "<div>                            <div id=\"f2da491c-8ae9-42fc-88c8-e6192783ca8a\" class=\"plotly-graph-div\" style=\"height:525px; width:100%;\"></div>            <script type=\"text/javascript\">                require([\"plotly\"], function(Plotly) {                    window.PLOTLYENV=window.PLOTLYENV || {};\n",
       "                    window.PLOTLYENV.BASE_URL='https://plot.ly';                                    if (document.getElementById(\"f2da491c-8ae9-42fc-88c8-e6192783ca8a\")) {                    Plotly.newPlot(                        \"f2da491c-8ae9-42fc-88c8-e6192783ca8a\",                        [{\"line\":{\"color\":\"rgba(255, 153, 51, 1.0)\",\"dash\":\"solid\",\"shape\":\"linear\",\"width\":1.3},\"mode\":\"lines\",\"name\":\"Beef\",\"text\":\"\",\"type\":\"scatter\",\"x\":[-0.6931471805599453,-0.5108256237659907,-0.35667494393873245,-0.22314355131420968,-0.10536051565782628,0.0,0.09531017980432495,0.1823215567939546,0.26236426446749106,0.33647223662121284,0.4054651081081644],\"y\":[-0.04159973893344539,-0.010586257799036691,-7.789634252376688e-08,-3.59120057115873e-07,-4.4851056046365795e-07,0.0,-2.342004343815724e-07,-1.7248941424068175e-08,-3.4541328467762347e-07,9.161396565897893e-07,-2.2942710265539225e-07]},{\"line\":{\"color\":\"rgba(55, 128, 191, 1.0)\",\"dash\":\"solid\",\"shape\":\"linear\",\"width\":1.3},\"mode\":\"lines\",\"name\":\"Egg\",\"text\":\"\",\"type\":\"scatter\",\"x\":[-0.6931471805599453,-0.5108256237659907,-0.35667494393873245,-0.22314355131420968,-0.10536051565782628,0.0,0.09531017980432495,0.1823215567939546,0.26236426446749106,0.33647223662121284,0.4054651081081644],\"y\":[-0.08491634506595475,-0.061272854703445595,-0.038175500032853686,-0.016938903433306222,-0.008433820910119813,0.0,0.00836240378579126,0.01665601729026572,0.01884167373038207,0.01884151912915482,0.018841760918030147]},{\"line\":{\"color\":\"rgba(50, 171, 96, 1.0)\",\"dash\":\"solid\",\"shape\":\"linear\",\"width\":1.3},\"mode\":\"lines\",\"name\":\"Carrots\",\"text\":\"\",\"type\":\"scatter\",\"x\":[-0.6931471805599453,-0.5108256237659907,-0.35667494393873245,-0.22314355131420968,-0.10536051565782628,0.0,0.09531017980432495,0.1823215567939546,0.26236426446749106,0.33647223662121284,0.4054651081081644],\"y\":[-8.259892470803475e-09,-3.551946410538933e-07,-3.757672821694722e-07,-3.1025043106762943e-07,7.1595961179402864e-06,0.0,-1.248390273586718e-07,-2.1635079681147948e-07,-4.46817300284082e-07,5.637870386659257e-07,-4.486064754493364e-07]},{\"line\":{\"color\":\"rgba(128, 0, 128, 1.0)\",\"dash\":\"solid\",\"shape\":\"linear\",\"width\":1.3},\"mode\":\"lines\",\"name\":\"Purple Cabbage \",\"text\":\"\",\"type\":\"scatter\",\"x\":[-0.6931471805599453,-0.5108256237659907,-0.35667494393873245,-0.22314355131420968,-0.10536051565782628,0.0,0.09531017980432495,0.1823215567939546,0.26236426446749106,0.33647223662121284,0.4054651081081644],\"y\":[-0.008897665420663212,-0.00711162703929401,-0.005329136450588379,-0.0035497671178418145,-0.0017735691458322404,0.0,0.001769538194907065,0.0035364223202474956,0.005300132095751339,0.00706077305924219,0.008818791836546713]},{\"line\":{\"color\":\"rgba(219, 64, 82, 1.0)\",\"dash\":\"solid\",\"shape\":\"linear\",\"width\":1.3},\"mode\":\"lines\",\"name\":\"Squash\",\"text\":\"\",\"type\":\"scatter\",\"x\":[-0.6931471805599453,-0.5108256237659907,-0.35667494393873245,-0.22314355131420968,-0.10536051565782628,0.0,0.09531017980432495,0.1823215567939546,0.26236426446749106,0.33647223662121284,0.4054651081081644],\"y\":[-2.779956772608713e-07,-4.5927172120870464e-08,-2.484547830812409e-07,-4.418935037239422e-07,-3.935207473683084e-07,0.0,-4.495415689833142e-07,-4.495268858331237e-07,-3.387126619937138e-07,-3.517769170743173e-07,1.0747909895142526e-07]},{\"line\":{\"color\":\"rgba(0, 128, 128, 1.0)\",\"dash\":\"solid\",\"shape\":\"linear\",\"width\":1.3},\"mode\":\"lines\",\"name\":\"Spinach \",\"text\":\"\",\"type\":\"scatter\",\"x\":[-0.6931471805599453,-0.5108256237659907,-0.35667494393873245,-0.22314355131420968,-0.10536051565782628,0.0,0.09531017980432495,0.1823215567939546,0.26236426446749106,0.33647223662121284,0.4054651081081644],\"y\":[-0.4044547055587088,-0.3064092058084307,-0.21712413339405595,-0.13930416410363605,-0.06722834768242399,0.0,0.06299138722677403,0.12224931986220551,0.1781912920692606,0.23116946998780363,0.2792605348273457]},{\"line\":{\"color\":\"rgba(255, 255, 51, 1.0)\",\"dash\":\"solid\",\"shape\":\"linear\",\"width\":1.3},\"mode\":\"lines\",\"name\":\"Jasmine Rice\",\"text\":\"\",\"type\":\"scatter\",\"x\":[-0.6931471805599453,-0.5108256237659907,-0.35667494393873245,-0.22314355131420968,-0.10536051565782628,0.0,0.09531017980432495,0.1823215567939546,0.26236426446749106,0.33647223662121284,0.4054651081081644],\"y\":[4.536134191952622e-07,6.25853167732209e-07,7.313524362928891e-07,-2.8439426884853777e-08,-2.086193109329734e-09,0.0,3.260535677142921e-08,4.2461771641022553e-08,5.287019349112574e-08,3.649033875100018e-08,2.5574285695212058e-08]},{\"line\":{\"color\":\"rgba(128, 128, 0, 1.0)\",\"dash\":\"solid\",\"shape\":\"linear\",\"width\":1.3},\"mode\":\"lines\",\"name\":\"Kimchi\",\"text\":\"\",\"type\":\"scatter\",\"x\":[-0.6931471805599453,-0.5108256237659907,-0.35667494393873245,-0.22314355131420968,-0.10536051565782628,0.0,0.09531017980432495,0.1823215567939546,0.26236426446749106,0.33647223662121284,0.4054651081081644],\"y\":[9.389332736825057e-08,-2.487706679225654e-07,-4.4885203324482197e-07,-1.8640159433367395e-09,7.833465036238632e-08,0.0,-1.2827663343831279e-07,-4.4834659543740506e-07,-4.440055402059208e-07,-1.3216048240912026e-07,-4.4886208698495644e-07]},{\"line\":{\"color\":\"rgba(251, 128, 114, 1.0)\",\"dash\":\"solid\",\"shape\":\"linear\",\"width\":1.3},\"mode\":\"lines\",\"name\":\"Onions\",\"text\":\"\",\"type\":\"scatter\",\"x\":[-0.6931471805599453,-0.5108256237659907,-0.35667494393873245,-0.22314355131420968,-0.10536051565782628,0.0,0.09531017980432495,0.1823215567939546,0.26236426446749106,0.33647223662121284,0.4054651081081644],\"y\":[-4.104524780864533e-07,-1.1762076949147787e-07,-4.241046595064592e-07,-3.938520682473593e-07,-1.5732170360489775e-07,0.0,-2.728956525635216e-07,-4.4984569229116743e-07,-3.5618750464311714e-07,-3.0478482408517926e-07,-3.6367817231643724e-07]},{\"line\":{\"color\":\"rgba(128, 177, 211, 1.0)\",\"dash\":\"solid\",\"shape\":\"linear\",\"width\":1.3},\"mode\":\"lines\",\"name\":\"Fish Sauce\",\"text\":\"\",\"type\":\"scatter\",\"x\":[-0.6931471805599453,-0.5108256237659907,-0.35667494393873245,-0.22314355131420968,-0.10536051565782628,0.0,0.09531017980432495,0.1823215567939546,0.26236426446749106,0.33647223662121284,0.4054651081081644],\"y\":[-4.019839716364416e-07,-4.457336934847068e-07,1.6884298022063936e-07,-4.3389561975270024e-07,-4.497647645457871e-07,0.0,-3.934169211575722e-07,-4.4933535084798977e-07,-4.0778261577317186e-07,-3.922668991833397e-07,-2.879089570429368e-07]},{\"line\":{\"color\":\"rgba(128, 177, 211, 0.8999999999999999)\",\"dash\":\"solid\",\"shape\":\"linear\",\"width\":1.3},\"mode\":\"lines\",\"name\":\"Pork\",\"text\":\"\",\"type\":\"scatter\",\"x\":[-0.6931471805599453,-0.5108256237659907,-0.35667494393873245,-0.22314355131420968,-0.10536051565782628,0.0,0.09531017980432495,0.1823215567939546,0.26236426446749106,0.33647223662121284,0.4054651081081644],\"y\":[-0.1212002504507606,-0.09157890184794024,-0.06280968070783954,-0.03522625530097797,-0.016592580924619366,0.0,0.016321863914845483,0.028078421401133858,0.028078450764726363,0.0280784217909845,0.02807842466362297]},{\"line\":{\"color\":\"rgba(255, 153, 51, 0.8999999999999999)\",\"dash\":\"solid\",\"shape\":\"linear\",\"width\":1.3},\"mode\":\"lines\",\"name\":\"Tofu\",\"text\":\"\",\"type\":\"scatter\",\"x\":[-0.6931471805599453,-0.5108256237659907,-0.35667494393873245,-0.22314355131420968,-0.10536051565782628,0.0,0.09531017980432495,0.1823215567939546,0.26236426446749106,0.33647223662121284,0.4054651081081644],\"y\":[-2.596857123457732e-07,-4.399299187850579e-07,-1.500380491384235e-07,-2.1921856534806472e-07,-4.4778728214646836e-07,0.0,7.737978558287679e-08,-4.4972937095291083e-07,-4.4508635445820663e-07,-4.0971290604598265e-07,-4.4903320185078293e-07]},{\"line\":{\"color\":\"rgba(55, 128, 191, 0.8999999999999999)\",\"dash\":\"solid\",\"shape\":\"linear\",\"width\":1.3},\"mode\":\"lines\",\"name\":\"Green Onions\",\"text\":\"\",\"type\":\"scatter\",\"x\":[-0.6931471805599453,-0.5108256237659907,-0.35667494393873245,-0.22314355131420968,-0.10536051565782628,0.0,0.09531017980432495,0.1823215567939546,0.26236426446749106,0.33647223662121284,0.4054651081081644],\"y\":[-2.81593618546599e-07,-3.9623146153713493e-07,-2.076471720328387e-07,-4.4052593039882244e-07,2.5140788177344716e-07,0.0,-4.49621720571411e-07,-4.497058567517414e-07,-4.077408703712231e-07,-2.1316723937623042e-07,-3.450732609953728e-07]},{\"line\":{\"color\":\"rgba(50, 171, 96, 0.8999999999999999)\",\"dash\":\"solid\",\"shape\":\"linear\",\"width\":1.3},\"mode\":\"lines\",\"name\":\"Sweet Chili Sauce\",\"text\":\"\",\"type\":\"scatter\",\"x\":[-0.6931471805599453,-0.5108256237659907,-0.35667494393873245,-0.22314355131420968,-0.10536051565782628,0.0,0.09531017980432495,0.1823215567939546,0.26236426446749106,0.33647223662121284,0.4054651081081644],\"y\":[-2.634298029189846e-07,1.0028942106809353e-07,-4.4757209862350224e-07,-4.4593052068262465e-07,-4.4156269297667924e-07,0.0,-4.2167787692670584e-07,-2.64229065785913e-07,-3.817049203567497e-07,-4.4780936182778015e-07,-3.96761288929337e-07]},{\"line\":{\"color\":\"rgba(128, 0, 128, 0.8999999999999999)\",\"dash\":\"solid\",\"shape\":\"linear\",\"width\":1.3},\"mode\":\"lines\",\"name\":\"Beef Short Ribs\",\"text\":\"\",\"type\":\"scatter\",\"x\":[-0.6931471805599453,-0.5108256237659907,-0.35667494393873245,-0.22314355131420968,-0.10536051565782628,0.0,0.09531017980432495,0.1823215567939546,0.26236426446749106,0.33647223662121284,0.4054651081081644],\"y\":[-0.04585183507324291,-0.018999696767302402,-4.0244998427473016e-07,-1.3662752185939482e-07,-4.4445835097389375e-07,0.0,-3.5369978783796765e-07,-4.3089880521487964e-07,-4.32977455587496e-07,-3.691265652733572e-07,-4.4340374665702863e-07]},{\"line\":{\"color\":\"rgba(219, 64, 82, 0.8999999999999999)\",\"dash\":\"solid\",\"shape\":\"linear\",\"width\":1.3},\"mode\":\"lines\",\"name\":\"potato\",\"text\":\"\",\"type\":\"scatter\",\"x\":[-0.6931471805599453,-0.5108256237659907,-0.35667494393873245,-0.22314355131420968,-0.10536051565782628,0.0,0.09531017980432495,0.1823215567939546,0.26236426446749106,0.33647223662121284,0.4054651081081644],\"y\":[-4.3009982976262535e-07,-3.859685587702593e-07,-4.4722449718689386e-07,-4.4923242591091486e-07,-4.496933906069034e-07,0.0,-3.254484984845343e-07,-4.4339443976430886e-07,-4.147843455178306e-07,-4.47298592949586e-07,-1.0929497893355654e-07]},{\"line\":{\"color\":\"rgba(0, 128, 128, 0.8999999999999999)\",\"dash\":\"solid\",\"shape\":\"linear\",\"width\":1.3},\"mode\":\"lines\",\"name\":\"fish cake\",\"text\":\"\",\"type\":\"scatter\",\"x\":[-0.6931471805599453,-0.5108256237659907,-0.35667494393873245,-0.22314355131420968,-0.10536051565782628,0.0,0.09531017980432495,0.1823215567939546,0.26236426446749106,0.33647223662121284,0.4054651081081644],\"y\":[-4.483479189348661e-07,-4.38474126658312e-07,-4.4913998703502774e-07,-4.499347708535792e-07,-4.498100336879331e-07,0.0,-3.4972966654211877e-07,-4.3876311428566357e-07,-4.1554190262741275e-07,-4.413810066748468e-07,-2.6353932922477993e-07]},{\"line\":{\"color\":\"rgba(255, 255, 51, 0.8999999999999999)\",\"dash\":\"solid\",\"shape\":\"linear\",\"width\":1.3},\"mode\":\"lines\",\"name\":\"kimchi\",\"text\":\"\",\"type\":\"scatter\",\"x\":[-0.6931471805599453,-0.5108256237659907,-0.35667494393873245,-0.22314355131420968,-0.10536051565782628,0.0,0.09531017980432495,0.1823215567939546,0.26236426446749106,0.33647223662121284,0.4054651081081644],\"y\":[1.198300984587472e-08,-2.491448337141415e-07,-4.487075977164129e-07,6.685499752365238e-08,7.955123709762173e-08,0.0,-1.542981623826986e-07,-4.4848986190039273e-07,-4.3975480822636635e-07,-1.309126759422593e-07,-4.4887490618086443e-07]},{\"line\":{\"color\":\"rgba(128, 128, 0, 0.8999999999999999)\",\"dash\":\"solid\",\"shape\":\"linear\",\"width\":1.3},\"mode\":\"lines\",\"name\":\"Soy Sauce\",\"text\":\"\",\"type\":\"scatter\",\"x\":[-0.6931471805599453,-0.5108256237659907,-0.35667494393873245,-0.22314355131420968,-0.10536051565782628,0.0,0.09531017980432495,0.1823215567939546,0.26236426446749106,0.33647223662121284,0.4054651081081644],\"y\":[-3.84993727400775e-07,-3.967058710148537e-07,-3.830417203168206e-07,-4.498793047524482e-07,-4.4740338550446947e-07,0.0,-2.881731391286338e-07,-4.486007378141712e-07,-4.4055816773694576e-07,-2.0009844107453128e-07,-7.519842798086824e-08]},{\"line\":{\"color\":\"rgba(251, 128, 114, 0.8999999999999999)\",\"dash\":\"solid\",\"shape\":\"linear\",\"width\":1.3},\"mode\":\"lines\",\"name\":\"Sesame \",\"text\":\"\",\"type\":\"scatter\",\"x\":[-0.6931471805599453,-0.5108256237659907,-0.35667494393873245,-0.22314355131420968,-0.10536051565782628,0.0,0.09531017980432495,0.1823215567939546,0.26236426446749106,0.33647223662121284,0.4054651081081644],\"y\":[-0.00012386298835536635,-4.723873270881782e-08,5.070556690311974e-08,-2.756946234980164e-07,-3.9170842958257594e-07,0.0,-3.3448033741052454e-07,-4.3394627214586566e-07,-3.9740861060506835e-07,-2.800569094658333e-07,-2.1306334601571237e-07]},{\"line\":{\"color\":\"rgba(251, 128, 114, 0.7999999999999998)\",\"dash\":\"solid\",\"shape\":\"linear\",\"width\":1.3},\"mode\":\"lines\",\"name\":\"Brown Sugar\",\"text\":\"\",\"type\":\"scatter\",\"x\":[-0.6931471805599453,-0.5108256237659907,-0.35667494393873245,-0.22314355131420968,-0.10536051565782628,0.0,0.09531017980432495,0.1823215567939546,0.26236426446749106,0.33647223662121284,0.4054651081081644],\"y\":[-4.0312359282631683e-07,-2.725901628466118e-07,1.4192423561779536e-07,-2.1007462434885405e-08,-1.4597422781257709e-07,0.0,3.780744912279978e-08,-4.212289358530305e-07,-4.1765571829789813e-07,-4.31745530936587e-07,-4.262471784692684e-07]},{\"line\":{\"color\":\"rgba(128, 177, 211, 0.7999999999999998)\",\"dash\":\"solid\",\"shape\":\"linear\",\"width\":1.3},\"mode\":\"lines\",\"name\":\"Lettuce\",\"text\":\"\",\"type\":\"scatter\",\"x\":[-0.6931471805599453,-0.5108256237659907,-0.35667494393873245,-0.22314355131420968,-0.10536051565782628,0.0,0.09531017980432495,0.1823215567939546,0.26236426446749106,0.33647223662121284,0.4054651081081644],\"y\":[-3.6433104730834564e-07,-4.0456707107998484e-07,7.18021947470483e-07,-4.4759152598081627e-07,-4.49905327059585e-07,0.0,-4.453250565115754e-07,2.87672339586186e-08,-4.277720600086336e-07,-3.550928083643073e-07,-4.2039155511339913e-07]},{\"line\":{\"color\":\"rgba(255, 153, 51, 0.7999999999999998)\",\"dash\":\"solid\",\"shape\":\"linear\",\"width\":1.3},\"mode\":\"lines\",\"name\":\"Rice Cake\",\"text\":\"\",\"type\":\"scatter\",\"x\":[-0.6931471805599453,-0.5108256237659907,-0.35667494393873245,-0.22314355131420968,-0.10536051565782628,0.0,0.09531017980432495,0.1823215567939546,0.26236426446749106,0.33647223662121284,0.4054651081081644],\"y\":[-3.579338406762786e-07,-4.1562134267055216e-07,-4.3416083427380306e-07,-2.1679510649682537e-07,-4.4940059679708726e-07,0.0,-4.492771997823229e-07,3.3036948914978117e-07,-4.4970000221003285e-07,-4.3111415515676106e-07,-4.486838623587418e-07]},{\"line\":{\"color\":\"rgba(55, 128, 191, 0.7999999999999998)\",\"dash\":\"solid\",\"shape\":\"linear\",\"width\":1.3},\"mode\":\"lines\",\"name\":\"Glass Noodle\",\"text\":\"\",\"type\":\"scatter\",\"x\":[-0.6931471805599453,-0.5108256237659907,-0.35667494393873245,-0.22314355131420968,-0.10536051565782628,0.0,0.09531017980432495,0.1823215567939546,0.26236426446749106,0.33647223662121284,0.4054651081081644],\"y\":[-3.994807316838542e-07,-4.479072877612565e-07,-2.0999823697802565e-07,-3.2522773733662604e-07,-2.4265415789777145e-07,0.0,-2.6855899890790866e-07,-3.6820579125437434e-07,-3.0690319654437005e-07,-4.4113238111158086e-07,9.235183250290503e-07]},{\"line\":{\"color\":\"rgba(50, 171, 96, 0.7999999999999998)\",\"dash\":\"solid\",\"shape\":\"linear\",\"width\":1.3},\"mode\":\"lines\",\"name\":\"Seaweed\",\"text\":\"\",\"type\":\"scatter\",\"x\":[-0.6931471805599453,-0.5108256237659907,-0.35667494393873245,-0.22314355131420968,-0.10536051565782628,0.0,0.09531017980432495,0.1823215567939546,0.26236426446749106,0.33647223662121284,0.4054651081081644],\"y\":[-2.0117255852963407e-07,-4.4907922783227154e-07,-1.820931400035026e-08,-3.1244564798212153e-07,-2.6232302595772697e-07,0.0,-9.985170345033991e-08,-4.3517533431021573e-07,-1.1707409494386778e-07,-2.7495824777915333e-07,-3.3425356628831433e-07]},{\"line\":{\"color\":\"rgba(128, 0, 128, 0.7999999999999998)\",\"dash\":\"solid\",\"shape\":\"linear\",\"width\":1.3},\"mode\":\"lines\",\"name\":\"Cabbage \",\"text\":\"\",\"type\":\"scatter\",\"x\":[-0.6931471805599453,-0.5108256237659907,-0.35667494393873245,-0.22314355131420968,-0.10536051565782628,0.0,0.09531017980432495,0.1823215567939546,0.26236426446749106,0.33647223662121284,0.4054651081081644],\"y\":[-0.005240144832007798,-0.002253400779561096,-2.5477705826556556e-07,-2.037798519946557e-07,-4.455127443494024e-07,0.0,-6.345265625513305e-08,-2.0427857871197146e-07,-2.2901758025656454e-07,-3.8401151837536467e-07,-2.637553868979854e-07]},{\"line\":{\"color\":\"rgba(219, 64, 82, 0.7999999999999998)\",\"dash\":\"solid\",\"shape\":\"linear\",\"width\":1.3},\"mode\":\"lines\",\"name\":\"Flour\",\"text\":\"\",\"type\":\"scatter\",\"x\":[-0.6931471805599453,-0.5108256237659907,-0.35667494393873245,-0.22314355131420968,-0.10536051565782628,0.0,0.09531017980432495,0.1823215567939546,0.26236426446749106,0.33647223662121284,0.4054651081081644],\"y\":[-0.06370201106948178,-0.038888587145999125,-0.025388975297766857,-0.016854285589755023,-0.00839198696238665,0.0,0.008321444935079228,0.016574289949995588,0.024759818018270516,0.03074872046792368,0.03562461316690478]},{\"line\":{\"color\":\"rgba(0, 128, 128, 0.7999999999999998)\",\"dash\":\"solid\",\"shape\":\"linear\",\"width\":1.3},\"mode\":\"lines\",\"name\":\"Chicken\",\"text\":\"\",\"type\":\"scatter\",\"x\":[-0.6931471805599453,-0.5108256237659907,-0.35667494393873245,-0.22314355131420968,-0.10536051565782628,0.0,0.09531017980432495,0.1823215567939546,0.26236426446749106,0.33647223662121284,0.4054651081081644],\"y\":[-4.496409888337339e-07,-3.361710646472473e-07,-4.4825387234437816e-07,-4.416051853384208e-07,-3.7619168262172477e-07,0.0,-4.265629981966355e-07,-4.4655118003927457e-07,-1.478277716257396e-07,-2.881897305283397e-07,-2.2141931219585453e-07]},{\"line\":{\"color\":\"rgba(255, 255, 51, 0.7999999999999998)\",\"dash\":\"solid\",\"shape\":\"linear\",\"width\":1.3},\"mode\":\"lines\",\"name\":\"Teriyaki Sauce\",\"text\":\"\",\"type\":\"scatter\",\"x\":[-0.6931471805599453,-0.5108256237659907,-0.35667494393873245,-0.22314355131420968,-0.10536051565782628,0.0,0.09531017980432495,0.1823215567939546,0.26236426446749106,0.33647223662121284,0.4054651081081644],\"y\":[6.433699921243066e-08,-2.251965204750528e-07,-2.0862962291369223e-07,-4.198619058995474e-07,-4.4928996457728355e-07,0.0,-4.2333601525448356e-07,-3.088103142623728e-07,-3.0443955549953346e-07,-6.131978069024485e-08,-4.289006618155626e-07]}],                        {\"legend\":{\"bgcolor\":\"#F5F6F9\",\"font\":{\"color\":\"#4D5663\"}},\"paper_bgcolor\":\"#F5F6F9\",\"plot_bgcolor\":\"#F5F6F9\",\"template\":{\"data\":{\"bar\":[{\"error_x\":{\"color\":\"#2a3f5f\"},\"error_y\":{\"color\":\"#2a3f5f\"},\"marker\":{\"line\":{\"color\":\"#E5ECF6\",\"width\":0.5},\"pattern\":{\"fillmode\":\"overlay\",\"size\":10,\"solidity\":0.2}},\"type\":\"bar\"}],\"barpolar\":[{\"marker\":{\"line\":{\"color\":\"#E5ECF6\",\"width\":0.5},\"pattern\":{\"fillmode\":\"overlay\",\"size\":10,\"solidity\":0.2}},\"type\":\"barpolar\"}],\"carpet\":[{\"aaxis\":{\"endlinecolor\":\"#2a3f5f\",\"gridcolor\":\"white\",\"linecolor\":\"white\",\"minorgridcolor\":\"white\",\"startlinecolor\":\"#2a3f5f\"},\"baxis\":{\"endlinecolor\":\"#2a3f5f\",\"gridcolor\":\"white\",\"linecolor\":\"white\",\"minorgridcolor\":\"white\",\"startlinecolor\":\"#2a3f5f\"},\"type\":\"carpet\"}],\"choropleth\":[{\"colorbar\":{\"outlinewidth\":0,\"ticks\":\"\"},\"type\":\"choropleth\"}],\"contour\":[{\"colorbar\":{\"outlinewidth\":0,\"ticks\":\"\"},\"colorscale\":[[0.0,\"#0d0887\"],[0.1111111111111111,\"#46039f\"],[0.2222222222222222,\"#7201a8\"],[0.3333333333333333,\"#9c179e\"],[0.4444444444444444,\"#bd3786\"],[0.5555555555555556,\"#d8576b\"],[0.6666666666666666,\"#ed7953\"],[0.7777777777777778,\"#fb9f3a\"],[0.8888888888888888,\"#fdca26\"],[1.0,\"#f0f921\"]],\"type\":\"contour\"}],\"contourcarpet\":[{\"colorbar\":{\"outlinewidth\":0,\"ticks\":\"\"},\"type\":\"contourcarpet\"}],\"heatmap\":[{\"colorbar\":{\"outlinewidth\":0,\"ticks\":\"\"},\"colorscale\":[[0.0,\"#0d0887\"],[0.1111111111111111,\"#46039f\"],[0.2222222222222222,\"#7201a8\"],[0.3333333333333333,\"#9c179e\"],[0.4444444444444444,\"#bd3786\"],[0.5555555555555556,\"#d8576b\"],[0.6666666666666666,\"#ed7953\"],[0.7777777777777778,\"#fb9f3a\"],[0.8888888888888888,\"#fdca26\"],[1.0,\"#f0f921\"]],\"type\":\"heatmap\"}],\"heatmapgl\":[{\"colorbar\":{\"outlinewidth\":0,\"ticks\":\"\"},\"colorscale\":[[0.0,\"#0d0887\"],[0.1111111111111111,\"#46039f\"],[0.2222222222222222,\"#7201a8\"],[0.3333333333333333,\"#9c179e\"],[0.4444444444444444,\"#bd3786\"],[0.5555555555555556,\"#d8576b\"],[0.6666666666666666,\"#ed7953\"],[0.7777777777777778,\"#fb9f3a\"],[0.8888888888888888,\"#fdca26\"],[1.0,\"#f0f921\"]],\"type\":\"heatmapgl\"}],\"histogram\":[{\"marker\":{\"pattern\":{\"fillmode\":\"overlay\",\"size\":10,\"solidity\":0.2}},\"type\":\"histogram\"}],\"histogram2d\":[{\"colorbar\":{\"outlinewidth\":0,\"ticks\":\"\"},\"colorscale\":[[0.0,\"#0d0887\"],[0.1111111111111111,\"#46039f\"],[0.2222222222222222,\"#7201a8\"],[0.3333333333333333,\"#9c179e\"],[0.4444444444444444,\"#bd3786\"],[0.5555555555555556,\"#d8576b\"],[0.6666666666666666,\"#ed7953\"],[0.7777777777777778,\"#fb9f3a\"],[0.8888888888888888,\"#fdca26\"],[1.0,\"#f0f921\"]],\"type\":\"histogram2d\"}],\"histogram2dcontour\":[{\"colorbar\":{\"outlinewidth\":0,\"ticks\":\"\"},\"colorscale\":[[0.0,\"#0d0887\"],[0.1111111111111111,\"#46039f\"],[0.2222222222222222,\"#7201a8\"],[0.3333333333333333,\"#9c179e\"],[0.4444444444444444,\"#bd3786\"],[0.5555555555555556,\"#d8576b\"],[0.6666666666666666,\"#ed7953\"],[0.7777777777777778,\"#fb9f3a\"],[0.8888888888888888,\"#fdca26\"],[1.0,\"#f0f921\"]],\"type\":\"histogram2dcontour\"}],\"mesh3d\":[{\"colorbar\":{\"outlinewidth\":0,\"ticks\":\"\"},\"type\":\"mesh3d\"}],\"parcoords\":[{\"line\":{\"colorbar\":{\"outlinewidth\":0,\"ticks\":\"\"}},\"type\":\"parcoords\"}],\"pie\":[{\"automargin\":true,\"type\":\"pie\"}],\"scatter\":[{\"marker\":{\"colorbar\":{\"outlinewidth\":0,\"ticks\":\"\"}},\"type\":\"scatter\"}],\"scatter3d\":[{\"line\":{\"colorbar\":{\"outlinewidth\":0,\"ticks\":\"\"}},\"marker\":{\"colorbar\":{\"outlinewidth\":0,\"ticks\":\"\"}},\"type\":\"scatter3d\"}],\"scattercarpet\":[{\"marker\":{\"colorbar\":{\"outlinewidth\":0,\"ticks\":\"\"}},\"type\":\"scattercarpet\"}],\"scattergeo\":[{\"marker\":{\"colorbar\":{\"outlinewidth\":0,\"ticks\":\"\"}},\"type\":\"scattergeo\"}],\"scattergl\":[{\"marker\":{\"colorbar\":{\"outlinewidth\":0,\"ticks\":\"\"}},\"type\":\"scattergl\"}],\"scattermapbox\":[{\"marker\":{\"colorbar\":{\"outlinewidth\":0,\"ticks\":\"\"}},\"type\":\"scattermapbox\"}],\"scatterpolar\":[{\"marker\":{\"colorbar\":{\"outlinewidth\":0,\"ticks\":\"\"}},\"type\":\"scatterpolar\"}],\"scatterpolargl\":[{\"marker\":{\"colorbar\":{\"outlinewidth\":0,\"ticks\":\"\"}},\"type\":\"scatterpolargl\"}],\"scatterternary\":[{\"marker\":{\"colorbar\":{\"outlinewidth\":0,\"ticks\":\"\"}},\"type\":\"scatterternary\"}],\"surface\":[{\"colorbar\":{\"outlinewidth\":0,\"ticks\":\"\"},\"colorscale\":[[0.0,\"#0d0887\"],[0.1111111111111111,\"#46039f\"],[0.2222222222222222,\"#7201a8\"],[0.3333333333333333,\"#9c179e\"],[0.4444444444444444,\"#bd3786\"],[0.5555555555555556,\"#d8576b\"],[0.6666666666666666,\"#ed7953\"],[0.7777777777777778,\"#fb9f3a\"],[0.8888888888888888,\"#fdca26\"],[1.0,\"#f0f921\"]],\"type\":\"surface\"}],\"table\":[{\"cells\":{\"fill\":{\"color\":\"#EBF0F8\"},\"line\":{\"color\":\"white\"}},\"header\":{\"fill\":{\"color\":\"#C8D4E3\"},\"line\":{\"color\":\"white\"}},\"type\":\"table\"}]},\"layout\":{\"annotationdefaults\":{\"arrowcolor\":\"#2a3f5f\",\"arrowhead\":0,\"arrowwidth\":1},\"autotypenumbers\":\"strict\",\"coloraxis\":{\"colorbar\":{\"outlinewidth\":0,\"ticks\":\"\"}},\"colorscale\":{\"diverging\":[[0,\"#8e0152\"],[0.1,\"#c51b7d\"],[0.2,\"#de77ae\"],[0.3,\"#f1b6da\"],[0.4,\"#fde0ef\"],[0.5,\"#f7f7f7\"],[0.6,\"#e6f5d0\"],[0.7,\"#b8e186\"],[0.8,\"#7fbc41\"],[0.9,\"#4d9221\"],[1,\"#276419\"]],\"sequential\":[[0.0,\"#0d0887\"],[0.1111111111111111,\"#46039f\"],[0.2222222222222222,\"#7201a8\"],[0.3333333333333333,\"#9c179e\"],[0.4444444444444444,\"#bd3786\"],[0.5555555555555556,\"#d8576b\"],[0.6666666666666666,\"#ed7953\"],[0.7777777777777778,\"#fb9f3a\"],[0.8888888888888888,\"#fdca26\"],[1.0,\"#f0f921\"]],\"sequentialminus\":[[0.0,\"#0d0887\"],[0.1111111111111111,\"#46039f\"],[0.2222222222222222,\"#7201a8\"],[0.3333333333333333,\"#9c179e\"],[0.4444444444444444,\"#bd3786\"],[0.5555555555555556,\"#d8576b\"],[0.6666666666666666,\"#ed7953\"],[0.7777777777777778,\"#fb9f3a\"],[0.8888888888888888,\"#fdca26\"],[1.0,\"#f0f921\"]]},\"colorway\":[\"#636efa\",\"#EF553B\",\"#00cc96\",\"#ab63fa\",\"#FFA15A\",\"#19d3f3\",\"#FF6692\",\"#B6E880\",\"#FF97FF\",\"#FECB52\"],\"font\":{\"color\":\"#2a3f5f\"},\"geo\":{\"bgcolor\":\"white\",\"lakecolor\":\"white\",\"landcolor\":\"#E5ECF6\",\"showlakes\":true,\"showland\":true,\"subunitcolor\":\"white\"},\"hoverlabel\":{\"align\":\"left\"},\"hovermode\":\"closest\",\"mapbox\":{\"style\":\"light\"},\"paper_bgcolor\":\"white\",\"plot_bgcolor\":\"#E5ECF6\",\"polar\":{\"angularaxis\":{\"gridcolor\":\"white\",\"linecolor\":\"white\",\"ticks\":\"\"},\"bgcolor\":\"#E5ECF6\",\"radialaxis\":{\"gridcolor\":\"white\",\"linecolor\":\"white\",\"ticks\":\"\"}},\"scene\":{\"xaxis\":{\"backgroundcolor\":\"#E5ECF6\",\"gridcolor\":\"white\",\"gridwidth\":2,\"linecolor\":\"white\",\"showbackground\":true,\"ticks\":\"\",\"zerolinecolor\":\"white\"},\"yaxis\":{\"backgroundcolor\":\"#E5ECF6\",\"gridcolor\":\"white\",\"gridwidth\":2,\"linecolor\":\"white\",\"showbackground\":true,\"ticks\":\"\",\"zerolinecolor\":\"white\"},\"zaxis\":{\"backgroundcolor\":\"#E5ECF6\",\"gridcolor\":\"white\",\"gridwidth\":2,\"linecolor\":\"white\",\"showbackground\":true,\"ticks\":\"\",\"zerolinecolor\":\"white\"}},\"shapedefaults\":{\"line\":{\"color\":\"#2a3f5f\"}},\"ternary\":{\"aaxis\":{\"gridcolor\":\"white\",\"linecolor\":\"white\",\"ticks\":\"\"},\"baxis\":{\"gridcolor\":\"white\",\"linecolor\":\"white\",\"ticks\":\"\"},\"bgcolor\":\"#E5ECF6\",\"caxis\":{\"gridcolor\":\"white\",\"linecolor\":\"white\",\"ticks\":\"\"}},\"title\":{\"x\":0.05},\"xaxis\":{\"automargin\":true,\"gridcolor\":\"white\",\"linecolor\":\"white\",\"ticks\":\"\",\"title\":{\"standoff\":15},\"zerolinecolor\":\"white\",\"zerolinewidth\":2},\"yaxis\":{\"automargin\":true,\"gridcolor\":\"white\",\"linecolor\":\"white\",\"ticks\":\"\",\"title\":{\"standoff\":15},\"zerolinecolor\":\"white\",\"zerolinewidth\":2}}},\"title\":{\"font\":{\"color\":\"#4D5663\"},\"text\":\"Effects of Price Changes on Subsistence Diet Cost for F 19-30 (T-Toust)\"},\"xaxis\":{\"gridcolor\":\"#E1E5ED\",\"showgrid\":true,\"tickfont\":{\"color\":\"#4D5663\"},\"title\":{\"font\":{\"color\":\"#4D5663\"},\"text\":\"change in log price\"},\"zerolinecolor\":\"#E1E5ED\"},\"yaxis\":{\"gridcolor\":\"#E1E5ED\",\"showgrid\":true,\"tickfont\":{\"color\":\"#4D5663\"},\"title\":{\"font\":{\"color\":\"#4D5663\"},\"text\":\"change in log cost\"},\"zerolinecolor\":\"#E1E5ED\"}},                        {\"showLink\": true, \"linkText\": \"Export to plot.ly\", \"plotlyServerURL\": \"https://plot.ly\", \"responsive\": true}                    ).then(function(){\n",
       "                            \n",
       "var gd = document.getElementById('f2da491c-8ae9-42fc-88c8-e6192783ca8a');\n",
       "var x = new MutationObserver(function (mutations, observer) {{\n",
       "        var display = window.getComputedStyle(gd).display;\n",
       "        if (!display || display === 'none') {{\n",
       "            console.log([gd, 'removed!']);\n",
       "            Plotly.purge(gd);\n",
       "            observer.disconnect();\n",
       "        }}\n",
       "}});\n",
       "\n",
       "// Listen for the removal of the full notebook cells\n",
       "var notebookContainer = gd.closest('#notebook-container');\n",
       "if (notebookContainer) {{\n",
       "    x.observe(notebookContainer, {childList: true});\n",
       "}}\n",
       "\n",
       "// Listen for the clearing of the current output cell\n",
       "var outputEl = gd.closest('.output');\n",
       "if (outputEl) {{\n",
       "    x.observe(outputEl, {childList: true});\n",
       "}}\n",
       "\n",
       "                        })                };                });            </script>        </div>"
      ]
     },
     "metadata": {},
     "output_type": "display_data"
    },
    {
     "data": {
      "application/vnd.plotly.v1+json": {
       "config": {
        "linkText": "Export to plot.ly",
        "plotlyServerURL": "https://plot.ly",
        "showLink": true
       },
       "data": [
        {
         "line": {
          "color": "rgba(255, 153, 51, 1.0)",
          "dash": "solid",
          "shape": "linear",
          "width": 1.3
         },
         "mode": "lines",
         "name": "Beef",
         "text": "",
         "type": "scatter",
         "x": [
          -0.6931471805599453,
          -0.5108256237659907,
          -0.35667494393873245,
          -0.22314355131420968,
          -0.10536051565782628,
          0,
          0.09531017980432495,
          0.1823215567939546,
          0.26236426446749106,
          0.33647223662121284,
          0.4054651081081644
         ],
         "y": [
          -0.0387609525465083,
          -0.008972847592497757,
          1.137645750618151e-07,
          -2.2303886209093593e-08,
          -5.969617323233493e-08,
          0,
          -3.018657880369402e-08,
          -5.611696875877361e-08,
          7.172555079979505e-07,
          -1.1264677159367218e-07,
          1.6164422115562078e-07
         ]
        },
        {
         "line": {
          "color": "rgba(55, 128, 191, 1.0)",
          "dash": "solid",
          "shape": "linear",
          "width": 1.3
         },
         "mode": "lines",
         "name": "Egg",
         "text": "",
         "type": "scatter",
         "x": [
          -0.6931471805599453,
          -0.5108256237659907,
          -0.35667494393873245,
          -0.22314355131420968,
          -0.10536051565782628,
          0,
          0.09531017980432495,
          0.1823215567939546,
          0.26236426446749106,
          0.33647223662121284,
          0.4054651081081644
         ],
         "y": [
          -0.08073825308298418,
          -0.057455706322505365,
          -0.034703174419948704,
          -0.013913612357387771,
          -0.006932839021467065,
          0,
          0.006885549969415984,
          0.013723358512347286,
          0.016365283945044568,
          0.016888388840903847,
          0.01688871720011552
         ]
        },
        {
         "line": {
          "color": "rgba(50, 171, 96, 1.0)",
          "dash": "solid",
          "shape": "linear",
          "width": 1.3
         },
         "mode": "lines",
         "name": "Carrots",
         "text": "",
         "type": "scatter",
         "x": [
          -0.6931471805599453,
          -0.5108256237659907,
          -0.35667494393873245,
          -0.22314355131420968,
          -0.10536051565782628,
          0,
          0.09531017980432495,
          0.1823215567939546,
          0.26236426446749106,
          0.33647223662121284,
          0.4054651081081644
         ],
         "y": [
          -4.791909906002819e-08,
          -4.900809034332915e-08,
          -4.940099174076068e-08,
          -4.969339485697994e-08,
          -4.6282279636204213e-08,
          0,
          1.730364983692922e-07,
          1.750576443789038e-07,
          -1.155703520830225e-07,
          4.1125178732614464e-07,
          2.602920366881303e-07
         ]
        },
        {
         "line": {
          "color": "rgba(128, 0, 128, 1.0)",
          "dash": "solid",
          "shape": "linear",
          "width": 1.3
         },
         "mode": "lines",
         "name": "Purple Cabbage ",
         "text": "",
         "type": "scatter",
         "x": [
          -0.6931471805599453,
          -0.5108256237659907,
          -0.35667494393873245,
          -0.22314355131420968,
          -0.10536051565782628,
          0,
          0.09531017980432495,
          0.1823215567939546,
          0.26236426446749106,
          0.33647223662121284,
          0.4054651081081644
         ],
         "y": [
          -0.01776128292782197,
          -0.014183695033151108,
          -0.01061884449164328,
          -0.007066344761523716,
          -0.0035269358673709053,
          0,
          0.0035146487185037938,
          0.0070170120776362616,
          0.010507539711604582,
          0.013985517946008108,
          0.01745118975036925
         ]
        },
        {
         "line": {
          "color": "rgba(219, 64, 82, 1.0)",
          "dash": "solid",
          "shape": "linear",
          "width": 1.3
         },
         "mode": "lines",
         "name": "Squash",
         "text": "",
         "type": "scatter",
         "x": [
          -0.6931471805599453,
          -0.5108256237659907,
          -0.35667494393873245,
          -0.22314355131420968,
          -0.10536051565782628,
          0,
          0.09531017980432495,
          0.1823215567939546,
          0.26236426446749106,
          0.33647223662121284,
          0.4054651081081644
         ],
         "y": [
          -9.324001725322603e-09,
          -2.7934950743095446e-08,
          7.422579409727519e-07,
          -6.09862318146448e-08,
          -5.528690525012825e-08,
          0,
          -5.1786797525608035e-08,
          -5.4151585127818374e-08,
          -5.3035540699973103e-08,
          -4.835115402819985e-08,
          -1.1581635088838727e-07
         ]
        },
        {
         "line": {
          "color": "rgba(0, 128, 128, 1.0)",
          "dash": "solid",
          "shape": "linear",
          "width": 1.3
         },
         "mode": "lines",
         "name": "Spinach ",
         "text": "",
         "type": "scatter",
         "x": [
          -0.6931471805599453,
          -0.5108256237659907,
          -0.35667494393873245,
          -0.22314355131420968,
          -0.10536051565782628,
          0,
          0.09531017980432495,
          0.1823215567939546,
          0.26236426446749106,
          0.33647223662121284,
          0.4054651081081644
         ],
         "y": [
          -0.396979943612734,
          -0.302013242966124,
          -0.21528798700177207,
          -0.13820102418432453,
          -0.06671507246103225,
          0,
          0.06254131386323059,
          0.1214004243472172,
          0.1769868114189341,
          0.22964576250773264,
          0.27754186021826044
         ]
        },
        {
         "line": {
          "color": "rgba(255, 255, 51, 1.0)",
          "dash": "solid",
          "shape": "linear",
          "width": 1.3
         },
         "mode": "lines",
         "name": "Jasmine Rice",
         "text": "",
         "type": "scatter",
         "x": [
          -0.6931471805599453,
          -0.5108256237659907,
          -0.35667494393873245,
          -0.22314355131420968,
          -0.10536051565782628,
          0,
          0.09531017980432495,
          0.1823215567939546,
          0.26236426446749106,
          0.33647223662121284,
          0.4054651081081644
         ],
         "y": [
          -8.404184490652012e-08,
          -7.879616336771232e-08,
          -7.482874444710735e-08,
          -7.31340643698079e-08,
          -7.966203436682544e-08,
          0,
          2.226157212805365e-07,
          -1.144296604106192e-07,
          -1.1325509982800225e-07,
          -1.1214089541804219e-07,
          -1.1128757313202805e-07
         ]
        },
        {
         "line": {
          "color": "rgba(128, 128, 0, 1.0)",
          "dash": "solid",
          "shape": "linear",
          "width": 1.3
         },
         "mode": "lines",
         "name": "Kimchi",
         "text": "",
         "type": "scatter",
         "x": [
          -0.6931471805599453,
          -0.5108256237659907,
          -0.35667494393873245,
          -0.22314355131420968,
          -0.10536051565782628,
          0,
          0.09531017980432495,
          0.1823215567939546,
          0.26236426446749106,
          0.33647223662121284,
          0.4054651081081644
         ],
         "y": [
          -5.096493845810477e-08,
          -4.9879801534139665e-08,
          -4.94064136261916e-08,
          -4.9484613632087645e-08,
          -4.4134312623653786e-08,
          0,
          2.530991682351309e-07,
          1.635772776670053e-07,
          -5.996714604830176e-08,
          1.262608249291176e-07,
          -6.15170950894151e-08
         ]
        },
        {
         "line": {
          "color": "rgba(251, 128, 114, 1.0)",
          "dash": "solid",
          "shape": "linear",
          "width": 1.3
         },
         "mode": "lines",
         "name": "Onions",
         "text": "",
         "type": "scatter",
         "x": [
          -0.6931471805599453,
          -0.5108256237659907,
          -0.35667494393873245,
          -0.22314355131420968,
          -0.10536051565782628,
          0,
          0.09531017980432495,
          0.1823215567939546,
          0.26236426446749106,
          0.33647223662121284,
          0.4054651081081644
         ],
         "y": [
          1.1511103984727311e-07,
          -1.8448105324777778e-08,
          -1.1299509844480945e-07,
          -5.0784537754544085e-08,
          -4.6721504313274355e-08,
          0,
          2.1120052297196025e-07,
          4.391259948514496e-07,
          -3.7073790059021683e-08,
          7.048852053418124e-08,
          1.5321926721015673e-08
         ]
        },
        {
         "line": {
          "color": "rgba(128, 177, 211, 1.0)",
          "dash": "solid",
          "shape": "linear",
          "width": 1.3
         },
         "mode": "lines",
         "name": "Fish Sauce",
         "text": "",
         "type": "scatter",
         "x": [
          -0.6931471805599453,
          -0.5108256237659907,
          -0.35667494393873245,
          -0.22314355131420968,
          -0.10536051565782628,
          0,
          0.09531017980432495,
          0.1823215567939546,
          0.26236426446749106,
          0.33647223662121284,
          0.4054651081081644
         ],
         "y": [
          -9.516179097874224e-08,
          2.2014817188465408e-07,
          -3.1978639470412604e-08,
          3.575635261440418e-07,
          -1.0321846210876485e-07,
          0,
          -1.1216989955372429e-07,
          -1.1406963014163308e-07,
          -1.0683842315352187e-07,
          2.325185928812407e-07,
          1.0334853881287959e-06
         ]
        },
        {
         "line": {
          "color": "rgba(128, 177, 211, 0.8999999999999999)",
          "dash": "solid",
          "shape": "linear",
          "width": 1.3
         },
         "mode": "lines",
         "name": "Pork",
         "text": "",
         "type": "scatter",
         "x": [
          -0.6931471805599453,
          -0.5108256237659907,
          -0.35667494393873245,
          -0.22314355131420968,
          -0.10536051565782628,
          0,
          0.09531017980432495,
          0.1823215567939546,
          0.26236426446749106,
          0.33647223662121284,
          0.4054651081081644
         ],
         "y": [
          -0.1217422849637623,
          -0.09243598497603006,
          -0.06396414793607749,
          -0.03773639143478847,
          -0.01812209705456358,
          0,
          0.017799352563661,
          0.03060449119450893,
          0.03060448464586288,
          0.030604653103010134,
          0.030604465874804164
         ]
        },
        {
         "line": {
          "color": "rgba(255, 153, 51, 0.8999999999999999)",
          "dash": "solid",
          "shape": "linear",
          "width": 1.3
         },
         "mode": "lines",
         "name": "Tofu",
         "text": "",
         "type": "scatter",
         "x": [
          -0.6931471805599453,
          -0.5108256237659907,
          -0.35667494393873245,
          -0.22314355131420968,
          -0.10536051565782628,
          0,
          0.09531017980432495,
          0.1823215567939546,
          0.26236426446749106,
          0.33647223662121284,
          0.4054651081081644
         ],
         "y": [
          -5.619528000954774e-08,
          3.2890459142992477e-07,
          -7.768349399061965e-08,
          2.8150043819546866e-07,
          1.9691035461941984e-07,
          0,
          -6.050995543402112e-08,
          2.0414231464334024e-07,
          -6.471083078927023e-08,
          -1.110470586080834e-07,
          -9.368952213519151e-09
         ]
        },
        {
         "line": {
          "color": "rgba(55, 128, 191, 0.8999999999999999)",
          "dash": "solid",
          "shape": "linear",
          "width": 1.3
         },
         "mode": "lines",
         "name": "Green Onions",
         "text": "",
         "type": "scatter",
         "x": [
          -0.6931471805599453,
          -0.5108256237659907,
          -0.35667494393873245,
          -0.22314355131420968,
          -0.10536051565782628,
          0,
          0.09531017980432495,
          0.1823215567939546,
          0.26236426446749106,
          0.33647223662121284,
          0.4054651081081644
         ],
         "y": [
          3.691149553123512e-07,
          5.015062604425516e-07,
          -5.204987765251643e-08,
          -5.5413044245253555e-08,
          -5.315579251486878e-08,
          0,
          -6.39205318010385e-08,
          1.260413158792275e-07,
          -8.849959246248676e-08,
          9.50033564430952e-08,
          1.6921324331152525e-07
         ]
        },
        {
         "line": {
          "color": "rgba(50, 171, 96, 0.8999999999999999)",
          "dash": "solid",
          "shape": "linear",
          "width": 1.3
         },
         "mode": "lines",
         "name": "Sweet Chili Sauce",
         "text": "",
         "type": "scatter",
         "x": [
          -0.6931471805599453,
          -0.5108256237659907,
          -0.35667494393873245,
          -0.22314355131420968,
          -0.10536051565782628,
          0,
          0.09531017980432495,
          0.1823215567939546,
          0.26236426446749106,
          0.33647223662121284,
          0.4054651081081644
         ],
         "y": [
          -5.440894449783634e-08,
          -4.616698352487888e-08,
          -5.63048734611422e-08,
          -5.668594709977727e-08,
          -5.126194600296739e-08,
          0,
          -9.034998546691125e-08,
          -6.144355624321108e-08,
          2.0958734527576538e-07,
          2.087592921166241e-08,
          -2.1985651763245507e-08
         ]
        },
        {
         "line": {
          "color": "rgba(128, 0, 128, 0.8999999999999999)",
          "dash": "solid",
          "shape": "linear",
          "width": 1.3
         },
         "mode": "lines",
         "name": "Beef Short Ribs",
         "text": "",
         "type": "scatter",
         "x": [
          -0.6931471805599453,
          -0.5108256237659907,
          -0.35667494393873245,
          -0.22314355131420968,
          -0.10536051565782628,
          0,
          0.09531017980432495,
          0.1823215567939546,
          0.26236426446749106,
          0.33647223662121284,
          0.4054651081081644
         ],
         "y": [
          -0.04838951226392026,
          -0.020752151083516236,
          -1.1955255978181165e-07,
          -4.320952444830707e-08,
          -1.156937397026699e-08,
          0,
          4.390375720656566e-07,
          -1.1839582926604156e-07,
          1.371399155679845e-07,
          5.815274892406594e-08,
          1.2911214311564526e-09
         ]
        },
        {
         "line": {
          "color": "rgba(219, 64, 82, 0.8999999999999999)",
          "dash": "solid",
          "shape": "linear",
          "width": 1.3
         },
         "mode": "lines",
         "name": "potato",
         "text": "",
         "type": "scatter",
         "x": [
          -0.6931471805599453,
          -0.5108256237659907,
          -0.35667494393873245,
          -0.22314355131420968,
          -0.10536051565782628,
          0,
          0.09531017980432495,
          0.1823215567939546,
          0.26236426446749106,
          0.33647223662121284,
          0.4054651081081644
         ],
         "y": [
          5.834161570616587e-07,
          -6.19672202631855e-10,
          -5.7143920451771904e-08,
          2.0380615050432742e-07,
          -6.241476208581994e-08,
          0,
          -5.014175711558834e-08,
          3.47462206815632e-07,
          3.519728815151061e-07,
          -1.1206606504552609e-07,
          -1.1746325369476459e-07
         ]
        },
        {
         "line": {
          "color": "rgba(0, 128, 128, 0.8999999999999999)",
          "dash": "solid",
          "shape": "linear",
          "width": 1.3
         },
         "mode": "lines",
         "name": "fish cake",
         "text": "",
         "type": "scatter",
         "x": [
          -0.6931471805599453,
          -0.5108256237659907,
          -0.35667494393873245,
          -0.22314355131420968,
          -0.10536051565782628,
          0,
          0.09531017980432495,
          0.1823215567939546,
          0.26236426446749106,
          0.33647223662121284,
          0.4054651081081644
         ],
         "y": [
          -6.040033200594233e-08,
          -5.6247931673316935e-08,
          -5.279588250510301e-08,
          -5.0296009067885464e-08,
          -4.927132179291224e-08,
          0,
          1.4129315651825529e-07,
          4.042664114545921e-07,
          -3.007105942836749e-08,
          -6.288627683152105e-08,
          2.0150948588942763e-07
         ]
        },
        {
         "line": {
          "color": "rgba(255, 255, 51, 0.8999999999999999)",
          "dash": "solid",
          "shape": "linear",
          "width": 1.3
         },
         "mode": "lines",
         "name": "kimchi",
         "text": "",
         "type": "scatter",
         "x": [
          -0.6931471805599453,
          -0.5108256237659907,
          -0.35667494393873245,
          -0.22314355131420968,
          -0.10536051565782628,
          0,
          0.09531017980432495,
          0.1823215567939546,
          0.26236426446749106,
          0.33647223662121284,
          0.4054651081081644
         ],
         "y": [
          -5.096544027893748e-08,
          -4.987503634565799e-08,
          -4.9404576873128916e-08,
          -4.948216725553183e-08,
          -4.410959106442909e-08,
          0,
          2.527598346486861e-07,
          1.636054819901535e-07,
          -5.9963485975837e-08,
          1.2595101279227299e-07,
          -6.150324261384017e-08
         ]
        },
        {
         "line": {
          "color": "rgba(128, 128, 0, 0.8999999999999999)",
          "dash": "solid",
          "shape": "linear",
          "width": 1.3
         },
         "mode": "lines",
         "name": "Soy Sauce",
         "text": "",
         "type": "scatter",
         "x": [
          -0.6931471805599453,
          -0.5108256237659907,
          -0.35667494393873245,
          -0.22314355131420968,
          -0.10536051565782628,
          0,
          0.09531017980432495,
          0.1823215567939546,
          0.26236426446749106,
          0.33647223662121284,
          0.4054651081081644
         ],
         "y": [
          -6.483443314785313e-08,
          3.4512857877803803e-07,
          6.012764683016405e-08,
          3.4385748509707224e-07,
          -2.8647545746276767e-08,
          0,
          -3.600107121715239e-08,
          1.2540451379273441e-07,
          3.0216127364811034e-07,
          -8.462401082668172e-08,
          -1.0624709057925489e-08
         ]
        },
        {
         "line": {
          "color": "rgba(251, 128, 114, 0.8999999999999999)",
          "dash": "solid",
          "shape": "linear",
          "width": 1.3
         },
         "mode": "lines",
         "name": "Sesame ",
         "text": "",
         "type": "scatter",
         "x": [
          -0.6931471805599453,
          -0.5108256237659907,
          -0.35667494393873245,
          -0.22314355131420968,
          -0.10536051565782628,
          0,
          0.09531017980432495,
          0.1823215567939546,
          0.26236426446749106,
          0.33647223662121284,
          0.4054651081081644
         ],
         "y": [
          -8.674246049597877e-05,
          -1.4891992860951422e-08,
          -1.2784641871388408e-08,
          1.7461872000330504e-07,
          2.5085091655059846e-07,
          0,
          -6.923879076640181e-08,
          2.0677043715589278e-07,
          3.079254194934665e-07,
          -1.0954459551052192e-07,
          -8.367747751962634e-09
         ]
        },
        {
         "line": {
          "color": "rgba(251, 128, 114, 0.7999999999999998)",
          "dash": "solid",
          "shape": "linear",
          "width": 1.3
         },
         "mode": "lines",
         "name": "Brown Sugar",
         "text": "",
         "type": "scatter",
         "x": [
          -0.6931471805599453,
          -0.5108256237659907,
          -0.35667494393873245,
          -0.22314355131420968,
          -0.10536051565782628,
          0,
          0.09531017980432495,
          0.1823215567939546,
          0.26236426446749106,
          0.33647223662121284,
          0.4054651081081644
         ],
         "y": [
          2.4361258351973025e-07,
          -1.0477456418458495e-07,
          1.738080959101225e-07,
          4.092136869189113e-07,
          -5.116664334342968e-08,
          0,
          2.3721924320086532e-07,
          -5.3408236704993324e-08,
          -6.131338436194088e-08,
          8.842095464585837e-08,
          1.2179811772373493e-07
         ]
        },
        {
         "line": {
          "color": "rgba(128, 177, 211, 0.7999999999999998)",
          "dash": "solid",
          "shape": "linear",
          "width": 1.3
         },
         "mode": "lines",
         "name": "Lettuce",
         "text": "",
         "type": "scatter",
         "x": [
          -0.6931471805599453,
          -0.5108256237659907,
          -0.35667494393873245,
          -0.22314355131420968,
          -0.10536051565782628,
          0,
          0.09531017980432495,
          0.1823215567939546,
          0.26236426446749106,
          0.33647223662121284,
          0.4054651081081644
         ],
         "y": [
          2.1752773547958744e-07,
          3.8708798468718105e-07,
          -5.9521256363133344e-08,
          1.5467020866976606e-07,
          1.7061994826927415e-07,
          0,
          -5.024738373945306e-08,
          -5.0170110325680205e-08,
          -5.029453224914383e-08,
          -5.0258592218606024e-08,
          -5.027485532139974e-08
         ]
        },
        {
         "line": {
          "color": "rgba(255, 153, 51, 0.7999999999999998)",
          "dash": "solid",
          "shape": "linear",
          "width": 1.3
         },
         "mode": "lines",
         "name": "Rice Cake",
         "text": "",
         "type": "scatter",
         "x": [
          -0.6931471805599453,
          -0.5108256237659907,
          -0.35667494393873245,
          -0.22314355131420968,
          -0.10536051565782628,
          0,
          0.09531017980432495,
          0.1823215567939546,
          0.26236426446749106,
          0.33647223662121284,
          0.4054651081081644
         ],
         "y": [
          2.1099100861036333e-07,
          -1.196003992976632e-07,
          -2.1748335813382765e-08,
          2.3231302092515484e-07,
          -6.23667629226232e-08,
          0,
          2.929000266064715e-08,
          4.680333813248085e-07,
          2.825445573585641e-07,
          -1.1268399404521246e-07,
          -9.829735653393244e-08
         ]
        },
        {
         "line": {
          "color": "rgba(55, 128, 191, 0.7999999999999998)",
          "dash": "solid",
          "shape": "linear",
          "width": 1.3
         },
         "mode": "lines",
         "name": "Glass Noodle",
         "text": "",
         "type": "scatter",
         "x": [
          -0.6931471805599453,
          -0.5108256237659907,
          -0.35667494393873245,
          -0.22314355131420968,
          -0.10536051565782628,
          0,
          0.09531017980432495,
          0.1823215567939546,
          0.26236426446749106,
          0.33647223662121284,
          0.4054651081081644
         ],
         "y": [
          6.775722375660235e-08,
          2.1429638277020172e-07,
          -2.5352415710629522e-08,
          1.908378957063898e-07,
          3.4400812365795755e-07,
          0,
          -2.458365519173199e-08,
          3.4049243556596147e-07,
          1.3681032005696877e-06,
          1.2441501676544946e-07,
          -1.1905646000576233e-07
         ]
        },
        {
         "line": {
          "color": "rgba(50, 171, 96, 0.7999999999999998)",
          "dash": "solid",
          "shape": "linear",
          "width": 1.3
         },
         "mode": "lines",
         "name": "Seaweed",
         "text": "",
         "type": "scatter",
         "x": [
          -0.6931471805599453,
          -0.5108256237659907,
          -0.35667494393873245,
          -0.22314355131420968,
          -0.10536051565782628,
          0,
          0.09531017980432495,
          0.1823215567939546,
          0.26236426446749106,
          0.33647223662121284,
          0.4054651081081644
         ],
         "y": [
          -4.157553865453537e-08,
          1.594590092730747e-07,
          8.443045560353559e-09,
          -1.0739218647030987e-07,
          2.5123670474395123e-07,
          0,
          -6.533456411706869e-08,
          6.639213937343456e-07,
          3.128128892930967e-07,
          -9.263398755239714e-08,
          5.974309729770348e-07
         ]
        },
        {
         "line": {
          "color": "rgba(128, 0, 128, 0.7999999999999998)",
          "dash": "solid",
          "shape": "linear",
          "width": 1.3
         },
         "mode": "lines",
         "name": "Cabbage ",
         "text": "",
         "type": "scatter",
         "x": [
          -0.6931471805599453,
          -0.5108256237659907,
          -0.35667494393873245,
          -0.22314355131420968,
          -0.10536051565782628,
          0,
          0.09531017980432495,
          0.1823215567939546,
          0.26236426446749106,
          0.33647223662121284,
          0.4054651081081644
         ],
         "y": [
          -0.0104408017493355,
          -0.004482798577081332,
          -5.7481959623371557e-08,
          -5.420356244197826e-08,
          -5.0575161227808065e-08,
          0,
          4.517058590606889e-07,
          -7.218858316328177e-08,
          2.2427226625573243e-07,
          2.0691486537315855e-07,
          3.1313702695712704e-08
         ]
        },
        {
         "line": {
          "color": "rgba(219, 64, 82, 0.7999999999999998)",
          "dash": "solid",
          "shape": "linear",
          "width": 1.3
         },
         "mode": "lines",
         "name": "Flour",
         "text": "",
         "type": "scatter",
         "x": [
          -0.6931471805599453,
          -0.5108256237659907,
          -0.35667494393873245,
          -0.22314355131420968,
          -0.10536051565782628,
          0,
          0.09531017980432495,
          0.1823215567939546,
          0.26236426446749106,
          0.33647223662121284,
          0.4054651081081644
         ],
         "y": [
          -0.05711723255053239,
          -0.033353563408249784,
          -0.021447028824323137,
          -0.014247131454987105,
          -0.007097897298588867,
          0,
          0.007048055387323075,
          0.01404683249228569,
          0.020997171356615836,
          0.026496509733179033,
          0.03125682729151868
         ]
        },
        {
         "line": {
          "color": "rgba(0, 128, 128, 0.7999999999999998)",
          "dash": "solid",
          "shape": "linear",
          "width": 1.3
         },
         "mode": "lines",
         "name": "Chicken",
         "text": "",
         "type": "scatter",
         "x": [
          -0.6931471805599453,
          -0.5108256237659907,
          -0.35667494393873245,
          -0.22314355131420968,
          -0.10536051565782628,
          0,
          0.09531017980432495,
          0.1823215567939546,
          0.26236426446749106,
          0.33647223662121284,
          0.4054651081081644
         ],
         "y": [
          -1.6983137818167247e-08,
          -6.536652684955183e-09,
          -5.2021102113510726e-08,
          -5.0891676835380116e-08,
          -5.012619134391351e-08,
          0,
          8.532554054549743e-08,
          -7.490061696043322e-08,
          2.702196834240092e-07,
          3.009100745489449e-08,
          7.141112786694573e-09
         ]
        },
        {
         "line": {
          "color": "rgba(255, 255, 51, 0.7999999999999998)",
          "dash": "solid",
          "shape": "linear",
          "width": 1.3
         },
         "mode": "lines",
         "name": "Teriyaki Sauce",
         "text": "",
         "type": "scatter",
         "x": [
          -0.6931471805599453,
          -0.5108256237659907,
          -0.35667494393873245,
          -0.22314355131420968,
          -0.10536051565782628,
          0,
          0.09531017980432495,
          0.1823215567939546,
          0.26236426446749106,
          0.33647223662121284,
          0.4054651081081644
         ],
         "y": [
          6.807106217788018e-07,
          -1.197679731614093e-07,
          5.114796441726051e-07,
          -5.185829278347449e-08,
          1.801528598947603e-08,
          0,
          -1.750070192977771e-08,
          -6.161096911486312e-08,
          -1.1277702785858393e-07,
          -1.1298368213117961e-07,
          -1.0861647529315944e-08
         ]
        }
       ],
       "layout": {
        "legend": {
         "bgcolor": "#F5F6F9",
         "font": {
          "color": "#4D5663"
         }
        },
        "paper_bgcolor": "#F5F6F9",
        "plot_bgcolor": "#F5F6F9",
        "template": {
         "data": {
          "bar": [
           {
            "error_x": {
             "color": "#2a3f5f"
            },
            "error_y": {
             "color": "#2a3f5f"
            },
            "marker": {
             "line": {
              "color": "#E5ECF6",
              "width": 0.5
             },
             "pattern": {
              "fillmode": "overlay",
              "size": 10,
              "solidity": 0.2
             }
            },
            "type": "bar"
           }
          ],
          "barpolar": [
           {
            "marker": {
             "line": {
              "color": "#E5ECF6",
              "width": 0.5
             },
             "pattern": {
              "fillmode": "overlay",
              "size": 10,
              "solidity": 0.2
             }
            },
            "type": "barpolar"
           }
          ],
          "carpet": [
           {
            "aaxis": {
             "endlinecolor": "#2a3f5f",
             "gridcolor": "white",
             "linecolor": "white",
             "minorgridcolor": "white",
             "startlinecolor": "#2a3f5f"
            },
            "baxis": {
             "endlinecolor": "#2a3f5f",
             "gridcolor": "white",
             "linecolor": "white",
             "minorgridcolor": "white",
             "startlinecolor": "#2a3f5f"
            },
            "type": "carpet"
           }
          ],
          "choropleth": [
           {
            "colorbar": {
             "outlinewidth": 0,
             "ticks": ""
            },
            "type": "choropleth"
           }
          ],
          "contour": [
           {
            "colorbar": {
             "outlinewidth": 0,
             "ticks": ""
            },
            "colorscale": [
             [
              0,
              "#0d0887"
             ],
             [
              0.1111111111111111,
              "#46039f"
             ],
             [
              0.2222222222222222,
              "#7201a8"
             ],
             [
              0.3333333333333333,
              "#9c179e"
             ],
             [
              0.4444444444444444,
              "#bd3786"
             ],
             [
              0.5555555555555556,
              "#d8576b"
             ],
             [
              0.6666666666666666,
              "#ed7953"
             ],
             [
              0.7777777777777778,
              "#fb9f3a"
             ],
             [
              0.8888888888888888,
              "#fdca26"
             ],
             [
              1,
              "#f0f921"
             ]
            ],
            "type": "contour"
           }
          ],
          "contourcarpet": [
           {
            "colorbar": {
             "outlinewidth": 0,
             "ticks": ""
            },
            "type": "contourcarpet"
           }
          ],
          "heatmap": [
           {
            "colorbar": {
             "outlinewidth": 0,
             "ticks": ""
            },
            "colorscale": [
             [
              0,
              "#0d0887"
             ],
             [
              0.1111111111111111,
              "#46039f"
             ],
             [
              0.2222222222222222,
              "#7201a8"
             ],
             [
              0.3333333333333333,
              "#9c179e"
             ],
             [
              0.4444444444444444,
              "#bd3786"
             ],
             [
              0.5555555555555556,
              "#d8576b"
             ],
             [
              0.6666666666666666,
              "#ed7953"
             ],
             [
              0.7777777777777778,
              "#fb9f3a"
             ],
             [
              0.8888888888888888,
              "#fdca26"
             ],
             [
              1,
              "#f0f921"
             ]
            ],
            "type": "heatmap"
           }
          ],
          "heatmapgl": [
           {
            "colorbar": {
             "outlinewidth": 0,
             "ticks": ""
            },
            "colorscale": [
             [
              0,
              "#0d0887"
             ],
             [
              0.1111111111111111,
              "#46039f"
             ],
             [
              0.2222222222222222,
              "#7201a8"
             ],
             [
              0.3333333333333333,
              "#9c179e"
             ],
             [
              0.4444444444444444,
              "#bd3786"
             ],
             [
              0.5555555555555556,
              "#d8576b"
             ],
             [
              0.6666666666666666,
              "#ed7953"
             ],
             [
              0.7777777777777778,
              "#fb9f3a"
             ],
             [
              0.8888888888888888,
              "#fdca26"
             ],
             [
              1,
              "#f0f921"
             ]
            ],
            "type": "heatmapgl"
           }
          ],
          "histogram": [
           {
            "marker": {
             "pattern": {
              "fillmode": "overlay",
              "size": 10,
              "solidity": 0.2
             }
            },
            "type": "histogram"
           }
          ],
          "histogram2d": [
           {
            "colorbar": {
             "outlinewidth": 0,
             "ticks": ""
            },
            "colorscale": [
             [
              0,
              "#0d0887"
             ],
             [
              0.1111111111111111,
              "#46039f"
             ],
             [
              0.2222222222222222,
              "#7201a8"
             ],
             [
              0.3333333333333333,
              "#9c179e"
             ],
             [
              0.4444444444444444,
              "#bd3786"
             ],
             [
              0.5555555555555556,
              "#d8576b"
             ],
             [
              0.6666666666666666,
              "#ed7953"
             ],
             [
              0.7777777777777778,
              "#fb9f3a"
             ],
             [
              0.8888888888888888,
              "#fdca26"
             ],
             [
              1,
              "#f0f921"
             ]
            ],
            "type": "histogram2d"
           }
          ],
          "histogram2dcontour": [
           {
            "colorbar": {
             "outlinewidth": 0,
             "ticks": ""
            },
            "colorscale": [
             [
              0,
              "#0d0887"
             ],
             [
              0.1111111111111111,
              "#46039f"
             ],
             [
              0.2222222222222222,
              "#7201a8"
             ],
             [
              0.3333333333333333,
              "#9c179e"
             ],
             [
              0.4444444444444444,
              "#bd3786"
             ],
             [
              0.5555555555555556,
              "#d8576b"
             ],
             [
              0.6666666666666666,
              "#ed7953"
             ],
             [
              0.7777777777777778,
              "#fb9f3a"
             ],
             [
              0.8888888888888888,
              "#fdca26"
             ],
             [
              1,
              "#f0f921"
             ]
            ],
            "type": "histogram2dcontour"
           }
          ],
          "mesh3d": [
           {
            "colorbar": {
             "outlinewidth": 0,
             "ticks": ""
            },
            "type": "mesh3d"
           }
          ],
          "parcoords": [
           {
            "line": {
             "colorbar": {
              "outlinewidth": 0,
              "ticks": ""
             }
            },
            "type": "parcoords"
           }
          ],
          "pie": [
           {
            "automargin": true,
            "type": "pie"
           }
          ],
          "scatter": [
           {
            "marker": {
             "colorbar": {
              "outlinewidth": 0,
              "ticks": ""
             }
            },
            "type": "scatter"
           }
          ],
          "scatter3d": [
           {
            "line": {
             "colorbar": {
              "outlinewidth": 0,
              "ticks": ""
             }
            },
            "marker": {
             "colorbar": {
              "outlinewidth": 0,
              "ticks": ""
             }
            },
            "type": "scatter3d"
           }
          ],
          "scattercarpet": [
           {
            "marker": {
             "colorbar": {
              "outlinewidth": 0,
              "ticks": ""
             }
            },
            "type": "scattercarpet"
           }
          ],
          "scattergeo": [
           {
            "marker": {
             "colorbar": {
              "outlinewidth": 0,
              "ticks": ""
             }
            },
            "type": "scattergeo"
           }
          ],
          "scattergl": [
           {
            "marker": {
             "colorbar": {
              "outlinewidth": 0,
              "ticks": ""
             }
            },
            "type": "scattergl"
           }
          ],
          "scattermapbox": [
           {
            "marker": {
             "colorbar": {
              "outlinewidth": 0,
              "ticks": ""
             }
            },
            "type": "scattermapbox"
           }
          ],
          "scatterpolar": [
           {
            "marker": {
             "colorbar": {
              "outlinewidth": 0,
              "ticks": ""
             }
            },
            "type": "scatterpolar"
           }
          ],
          "scatterpolargl": [
           {
            "marker": {
             "colorbar": {
              "outlinewidth": 0,
              "ticks": ""
             }
            },
            "type": "scatterpolargl"
           }
          ],
          "scatterternary": [
           {
            "marker": {
             "colorbar": {
              "outlinewidth": 0,
              "ticks": ""
             }
            },
            "type": "scatterternary"
           }
          ],
          "surface": [
           {
            "colorbar": {
             "outlinewidth": 0,
             "ticks": ""
            },
            "colorscale": [
             [
              0,
              "#0d0887"
             ],
             [
              0.1111111111111111,
              "#46039f"
             ],
             [
              0.2222222222222222,
              "#7201a8"
             ],
             [
              0.3333333333333333,
              "#9c179e"
             ],
             [
              0.4444444444444444,
              "#bd3786"
             ],
             [
              0.5555555555555556,
              "#d8576b"
             ],
             [
              0.6666666666666666,
              "#ed7953"
             ],
             [
              0.7777777777777778,
              "#fb9f3a"
             ],
             [
              0.8888888888888888,
              "#fdca26"
             ],
             [
              1,
              "#f0f921"
             ]
            ],
            "type": "surface"
           }
          ],
          "table": [
           {
            "cells": {
             "fill": {
              "color": "#EBF0F8"
             },
             "line": {
              "color": "white"
             }
            },
            "header": {
             "fill": {
              "color": "#C8D4E3"
             },
             "line": {
              "color": "white"
             }
            },
            "type": "table"
           }
          ]
         },
         "layout": {
          "annotationdefaults": {
           "arrowcolor": "#2a3f5f",
           "arrowhead": 0,
           "arrowwidth": 1
          },
          "autotypenumbers": "strict",
          "coloraxis": {
           "colorbar": {
            "outlinewidth": 0,
            "ticks": ""
           }
          },
          "colorscale": {
           "diverging": [
            [
             0,
             "#8e0152"
            ],
            [
             0.1,
             "#c51b7d"
            ],
            [
             0.2,
             "#de77ae"
            ],
            [
             0.3,
             "#f1b6da"
            ],
            [
             0.4,
             "#fde0ef"
            ],
            [
             0.5,
             "#f7f7f7"
            ],
            [
             0.6,
             "#e6f5d0"
            ],
            [
             0.7,
             "#b8e186"
            ],
            [
             0.8,
             "#7fbc41"
            ],
            [
             0.9,
             "#4d9221"
            ],
            [
             1,
             "#276419"
            ]
           ],
           "sequential": [
            [
             0,
             "#0d0887"
            ],
            [
             0.1111111111111111,
             "#46039f"
            ],
            [
             0.2222222222222222,
             "#7201a8"
            ],
            [
             0.3333333333333333,
             "#9c179e"
            ],
            [
             0.4444444444444444,
             "#bd3786"
            ],
            [
             0.5555555555555556,
             "#d8576b"
            ],
            [
             0.6666666666666666,
             "#ed7953"
            ],
            [
             0.7777777777777778,
             "#fb9f3a"
            ],
            [
             0.8888888888888888,
             "#fdca26"
            ],
            [
             1,
             "#f0f921"
            ]
           ],
           "sequentialminus": [
            [
             0,
             "#0d0887"
            ],
            [
             0.1111111111111111,
             "#46039f"
            ],
            [
             0.2222222222222222,
             "#7201a8"
            ],
            [
             0.3333333333333333,
             "#9c179e"
            ],
            [
             0.4444444444444444,
             "#bd3786"
            ],
            [
             0.5555555555555556,
             "#d8576b"
            ],
            [
             0.6666666666666666,
             "#ed7953"
            ],
            [
             0.7777777777777778,
             "#fb9f3a"
            ],
            [
             0.8888888888888888,
             "#fdca26"
            ],
            [
             1,
             "#f0f921"
            ]
           ]
          },
          "colorway": [
           "#636efa",
           "#EF553B",
           "#00cc96",
           "#ab63fa",
           "#FFA15A",
           "#19d3f3",
           "#FF6692",
           "#B6E880",
           "#FF97FF",
           "#FECB52"
          ],
          "font": {
           "color": "#2a3f5f"
          },
          "geo": {
           "bgcolor": "white",
           "lakecolor": "white",
           "landcolor": "#E5ECF6",
           "showlakes": true,
           "showland": true,
           "subunitcolor": "white"
          },
          "hoverlabel": {
           "align": "left"
          },
          "hovermode": "closest",
          "mapbox": {
           "style": "light"
          },
          "paper_bgcolor": "white",
          "plot_bgcolor": "#E5ECF6",
          "polar": {
           "angularaxis": {
            "gridcolor": "white",
            "linecolor": "white",
            "ticks": ""
           },
           "bgcolor": "#E5ECF6",
           "radialaxis": {
            "gridcolor": "white",
            "linecolor": "white",
            "ticks": ""
           }
          },
          "scene": {
           "xaxis": {
            "backgroundcolor": "#E5ECF6",
            "gridcolor": "white",
            "gridwidth": 2,
            "linecolor": "white",
            "showbackground": true,
            "ticks": "",
            "zerolinecolor": "white"
           },
           "yaxis": {
            "backgroundcolor": "#E5ECF6",
            "gridcolor": "white",
            "gridwidth": 2,
            "linecolor": "white",
            "showbackground": true,
            "ticks": "",
            "zerolinecolor": "white"
           },
           "zaxis": {
            "backgroundcolor": "#E5ECF6",
            "gridcolor": "white",
            "gridwidth": 2,
            "linecolor": "white",
            "showbackground": true,
            "ticks": "",
            "zerolinecolor": "white"
           }
          },
          "shapedefaults": {
           "line": {
            "color": "#2a3f5f"
           }
          },
          "ternary": {
           "aaxis": {
            "gridcolor": "white",
            "linecolor": "white",
            "ticks": ""
           },
           "baxis": {
            "gridcolor": "white",
            "linecolor": "white",
            "ticks": ""
           },
           "bgcolor": "#E5ECF6",
           "caxis": {
            "gridcolor": "white",
            "linecolor": "white",
            "ticks": ""
           }
          },
          "title": {
           "x": 0.05
          },
          "xaxis": {
           "automargin": true,
           "gridcolor": "white",
           "linecolor": "white",
           "ticks": "",
           "title": {
            "standoff": 15
           },
           "zerolinecolor": "white",
           "zerolinewidth": 2
          },
          "yaxis": {
           "automargin": true,
           "gridcolor": "white",
           "linecolor": "white",
           "ticks": "",
           "title": {
            "standoff": 15
           },
           "zerolinecolor": "white",
           "zerolinewidth": 2
          }
         }
        },
        "title": {
         "font": {
          "color": "#4D5663"
         },
         "text": "Effects of Price Changes on Subsistence Diet Cost for M 19-30 (T-Toust)"
        },
        "xaxis": {
         "gridcolor": "#E1E5ED",
         "showgrid": true,
         "tickfont": {
          "color": "#4D5663"
         },
         "title": {
          "font": {
           "color": "#4D5663"
          },
          "text": "change in log price"
         },
         "zerolinecolor": "#E1E5ED"
        },
        "yaxis": {
         "gridcolor": "#E1E5ED",
         "showgrid": true,
         "tickfont": {
          "color": "#4D5663"
         },
         "title": {
          "font": {
           "color": "#4D5663"
          },
          "text": "change in log cost"
         },
         "zerolinecolor": "#E1E5ED"
        }
       }
      },
      "text/html": [
       "<div>                            <div id=\"4c3c61ac-9912-47a5-b1e1-db12819e6177\" class=\"plotly-graph-div\" style=\"height:525px; width:100%;\"></div>            <script type=\"text/javascript\">                require([\"plotly\"], function(Plotly) {                    window.PLOTLYENV=window.PLOTLYENV || {};\n",
       "                    window.PLOTLYENV.BASE_URL='https://plot.ly';                                    if (document.getElementById(\"4c3c61ac-9912-47a5-b1e1-db12819e6177\")) {                    Plotly.newPlot(                        \"4c3c61ac-9912-47a5-b1e1-db12819e6177\",                        [{\"line\":{\"color\":\"rgba(255, 153, 51, 1.0)\",\"dash\":\"solid\",\"shape\":\"linear\",\"width\":1.3},\"mode\":\"lines\",\"name\":\"Beef\",\"text\":\"\",\"type\":\"scatter\",\"x\":[-0.6931471805599453,-0.5108256237659907,-0.35667494393873245,-0.22314355131420968,-0.10536051565782628,0.0,0.09531017980432495,0.1823215567939546,0.26236426446749106,0.33647223662121284,0.4054651081081644],\"y\":[-0.0387609525465083,-0.008972847592497757,1.137645750618151e-07,-2.2303886209093593e-08,-5.969617323233493e-08,0.0,-3.018657880369402e-08,-5.611696875877361e-08,7.172555079979505e-07,-1.1264677159367218e-07,1.6164422115562078e-07]},{\"line\":{\"color\":\"rgba(55, 128, 191, 1.0)\",\"dash\":\"solid\",\"shape\":\"linear\",\"width\":1.3},\"mode\":\"lines\",\"name\":\"Egg\",\"text\":\"\",\"type\":\"scatter\",\"x\":[-0.6931471805599453,-0.5108256237659907,-0.35667494393873245,-0.22314355131420968,-0.10536051565782628,0.0,0.09531017980432495,0.1823215567939546,0.26236426446749106,0.33647223662121284,0.4054651081081644],\"y\":[-0.08073825308298418,-0.057455706322505365,-0.034703174419948704,-0.013913612357387771,-0.006932839021467065,0.0,0.006885549969415984,0.013723358512347286,0.016365283945044568,0.016888388840903847,0.01688871720011552]},{\"line\":{\"color\":\"rgba(50, 171, 96, 1.0)\",\"dash\":\"solid\",\"shape\":\"linear\",\"width\":1.3},\"mode\":\"lines\",\"name\":\"Carrots\",\"text\":\"\",\"type\":\"scatter\",\"x\":[-0.6931471805599453,-0.5108256237659907,-0.35667494393873245,-0.22314355131420968,-0.10536051565782628,0.0,0.09531017980432495,0.1823215567939546,0.26236426446749106,0.33647223662121284,0.4054651081081644],\"y\":[-4.791909906002819e-08,-4.900809034332915e-08,-4.940099174076068e-08,-4.969339485697994e-08,-4.6282279636204213e-08,0.0,1.730364983692922e-07,1.750576443789038e-07,-1.155703520830225e-07,4.1125178732614464e-07,2.602920366881303e-07]},{\"line\":{\"color\":\"rgba(128, 0, 128, 1.0)\",\"dash\":\"solid\",\"shape\":\"linear\",\"width\":1.3},\"mode\":\"lines\",\"name\":\"Purple Cabbage \",\"text\":\"\",\"type\":\"scatter\",\"x\":[-0.6931471805599453,-0.5108256237659907,-0.35667494393873245,-0.22314355131420968,-0.10536051565782628,0.0,0.09531017980432495,0.1823215567939546,0.26236426446749106,0.33647223662121284,0.4054651081081644],\"y\":[-0.01776128292782197,-0.014183695033151108,-0.01061884449164328,-0.007066344761523716,-0.0035269358673709053,0.0,0.0035146487185037938,0.0070170120776362616,0.010507539711604582,0.013985517946008108,0.01745118975036925]},{\"line\":{\"color\":\"rgba(219, 64, 82, 1.0)\",\"dash\":\"solid\",\"shape\":\"linear\",\"width\":1.3},\"mode\":\"lines\",\"name\":\"Squash\",\"text\":\"\",\"type\":\"scatter\",\"x\":[-0.6931471805599453,-0.5108256237659907,-0.35667494393873245,-0.22314355131420968,-0.10536051565782628,0.0,0.09531017980432495,0.1823215567939546,0.26236426446749106,0.33647223662121284,0.4054651081081644],\"y\":[-9.324001725322603e-09,-2.7934950743095446e-08,7.422579409727519e-07,-6.09862318146448e-08,-5.528690525012825e-08,0.0,-5.1786797525608035e-08,-5.4151585127818374e-08,-5.3035540699973103e-08,-4.835115402819985e-08,-1.1581635088838727e-07]},{\"line\":{\"color\":\"rgba(0, 128, 128, 1.0)\",\"dash\":\"solid\",\"shape\":\"linear\",\"width\":1.3},\"mode\":\"lines\",\"name\":\"Spinach \",\"text\":\"\",\"type\":\"scatter\",\"x\":[-0.6931471805599453,-0.5108256237659907,-0.35667494393873245,-0.22314355131420968,-0.10536051565782628,0.0,0.09531017980432495,0.1823215567939546,0.26236426446749106,0.33647223662121284,0.4054651081081644],\"y\":[-0.396979943612734,-0.302013242966124,-0.21528798700177207,-0.13820102418432453,-0.06671507246103225,0.0,0.06254131386323059,0.1214004243472172,0.1769868114189341,0.22964576250773264,0.27754186021826044]},{\"line\":{\"color\":\"rgba(255, 255, 51, 1.0)\",\"dash\":\"solid\",\"shape\":\"linear\",\"width\":1.3},\"mode\":\"lines\",\"name\":\"Jasmine Rice\",\"text\":\"\",\"type\":\"scatter\",\"x\":[-0.6931471805599453,-0.5108256237659907,-0.35667494393873245,-0.22314355131420968,-0.10536051565782628,0.0,0.09531017980432495,0.1823215567939546,0.26236426446749106,0.33647223662121284,0.4054651081081644],\"y\":[-8.404184490652012e-08,-7.879616336771232e-08,-7.482874444710735e-08,-7.31340643698079e-08,-7.966203436682544e-08,0.0,2.226157212805365e-07,-1.144296604106192e-07,-1.1325509982800225e-07,-1.1214089541804219e-07,-1.1128757313202805e-07]},{\"line\":{\"color\":\"rgba(128, 128, 0, 1.0)\",\"dash\":\"solid\",\"shape\":\"linear\",\"width\":1.3},\"mode\":\"lines\",\"name\":\"Kimchi\",\"text\":\"\",\"type\":\"scatter\",\"x\":[-0.6931471805599453,-0.5108256237659907,-0.35667494393873245,-0.22314355131420968,-0.10536051565782628,0.0,0.09531017980432495,0.1823215567939546,0.26236426446749106,0.33647223662121284,0.4054651081081644],\"y\":[-5.096493845810477e-08,-4.9879801534139665e-08,-4.94064136261916e-08,-4.9484613632087645e-08,-4.4134312623653786e-08,0.0,2.530991682351309e-07,1.635772776670053e-07,-5.996714604830176e-08,1.262608249291176e-07,-6.15170950894151e-08]},{\"line\":{\"color\":\"rgba(251, 128, 114, 1.0)\",\"dash\":\"solid\",\"shape\":\"linear\",\"width\":1.3},\"mode\":\"lines\",\"name\":\"Onions\",\"text\":\"\",\"type\":\"scatter\",\"x\":[-0.6931471805599453,-0.5108256237659907,-0.35667494393873245,-0.22314355131420968,-0.10536051565782628,0.0,0.09531017980432495,0.1823215567939546,0.26236426446749106,0.33647223662121284,0.4054651081081644],\"y\":[1.1511103984727311e-07,-1.8448105324777778e-08,-1.1299509844480945e-07,-5.0784537754544085e-08,-4.6721504313274355e-08,0.0,2.1120052297196025e-07,4.391259948514496e-07,-3.7073790059021683e-08,7.048852053418124e-08,1.5321926721015673e-08]},{\"line\":{\"color\":\"rgba(128, 177, 211, 1.0)\",\"dash\":\"solid\",\"shape\":\"linear\",\"width\":1.3},\"mode\":\"lines\",\"name\":\"Fish Sauce\",\"text\":\"\",\"type\":\"scatter\",\"x\":[-0.6931471805599453,-0.5108256237659907,-0.35667494393873245,-0.22314355131420968,-0.10536051565782628,0.0,0.09531017980432495,0.1823215567939546,0.26236426446749106,0.33647223662121284,0.4054651081081644],\"y\":[-9.516179097874224e-08,2.2014817188465408e-07,-3.1978639470412604e-08,3.575635261440418e-07,-1.0321846210876485e-07,0.0,-1.1216989955372429e-07,-1.1406963014163308e-07,-1.0683842315352187e-07,2.325185928812407e-07,1.0334853881287959e-06]},{\"line\":{\"color\":\"rgba(128, 177, 211, 0.8999999999999999)\",\"dash\":\"solid\",\"shape\":\"linear\",\"width\":1.3},\"mode\":\"lines\",\"name\":\"Pork\",\"text\":\"\",\"type\":\"scatter\",\"x\":[-0.6931471805599453,-0.5108256237659907,-0.35667494393873245,-0.22314355131420968,-0.10536051565782628,0.0,0.09531017980432495,0.1823215567939546,0.26236426446749106,0.33647223662121284,0.4054651081081644],\"y\":[-0.1217422849637623,-0.09243598497603006,-0.06396414793607749,-0.03773639143478847,-0.01812209705456358,0.0,0.017799352563661,0.03060449119450893,0.03060448464586288,0.030604653103010134,0.030604465874804164]},{\"line\":{\"color\":\"rgba(255, 153, 51, 0.8999999999999999)\",\"dash\":\"solid\",\"shape\":\"linear\",\"width\":1.3},\"mode\":\"lines\",\"name\":\"Tofu\",\"text\":\"\",\"type\":\"scatter\",\"x\":[-0.6931471805599453,-0.5108256237659907,-0.35667494393873245,-0.22314355131420968,-0.10536051565782628,0.0,0.09531017980432495,0.1823215567939546,0.26236426446749106,0.33647223662121284,0.4054651081081644],\"y\":[-5.619528000954774e-08,3.2890459142992477e-07,-7.768349399061965e-08,2.8150043819546866e-07,1.9691035461941984e-07,0.0,-6.050995543402112e-08,2.0414231464334024e-07,-6.471083078927023e-08,-1.110470586080834e-07,-9.368952213519151e-09]},{\"line\":{\"color\":\"rgba(55, 128, 191, 0.8999999999999999)\",\"dash\":\"solid\",\"shape\":\"linear\",\"width\":1.3},\"mode\":\"lines\",\"name\":\"Green Onions\",\"text\":\"\",\"type\":\"scatter\",\"x\":[-0.6931471805599453,-0.5108256237659907,-0.35667494393873245,-0.22314355131420968,-0.10536051565782628,0.0,0.09531017980432495,0.1823215567939546,0.26236426446749106,0.33647223662121284,0.4054651081081644],\"y\":[3.691149553123512e-07,5.015062604425516e-07,-5.204987765251643e-08,-5.5413044245253555e-08,-5.315579251486878e-08,0.0,-6.39205318010385e-08,1.260413158792275e-07,-8.849959246248676e-08,9.50033564430952e-08,1.6921324331152525e-07]},{\"line\":{\"color\":\"rgba(50, 171, 96, 0.8999999999999999)\",\"dash\":\"solid\",\"shape\":\"linear\",\"width\":1.3},\"mode\":\"lines\",\"name\":\"Sweet Chili Sauce\",\"text\":\"\",\"type\":\"scatter\",\"x\":[-0.6931471805599453,-0.5108256237659907,-0.35667494393873245,-0.22314355131420968,-0.10536051565782628,0.0,0.09531017980432495,0.1823215567939546,0.26236426446749106,0.33647223662121284,0.4054651081081644],\"y\":[-5.440894449783634e-08,-4.616698352487888e-08,-5.63048734611422e-08,-5.668594709977727e-08,-5.126194600296739e-08,0.0,-9.034998546691125e-08,-6.144355624321108e-08,2.0958734527576538e-07,2.087592921166241e-08,-2.1985651763245507e-08]},{\"line\":{\"color\":\"rgba(128, 0, 128, 0.8999999999999999)\",\"dash\":\"solid\",\"shape\":\"linear\",\"width\":1.3},\"mode\":\"lines\",\"name\":\"Beef Short Ribs\",\"text\":\"\",\"type\":\"scatter\",\"x\":[-0.6931471805599453,-0.5108256237659907,-0.35667494393873245,-0.22314355131420968,-0.10536051565782628,0.0,0.09531017980432495,0.1823215567939546,0.26236426446749106,0.33647223662121284,0.4054651081081644],\"y\":[-0.04838951226392026,-0.020752151083516236,-1.1955255978181165e-07,-4.320952444830707e-08,-1.156937397026699e-08,0.0,4.390375720656566e-07,-1.1839582926604156e-07,1.371399155679845e-07,5.815274892406594e-08,1.2911214311564526e-09]},{\"line\":{\"color\":\"rgba(219, 64, 82, 0.8999999999999999)\",\"dash\":\"solid\",\"shape\":\"linear\",\"width\":1.3},\"mode\":\"lines\",\"name\":\"potato\",\"text\":\"\",\"type\":\"scatter\",\"x\":[-0.6931471805599453,-0.5108256237659907,-0.35667494393873245,-0.22314355131420968,-0.10536051565782628,0.0,0.09531017980432495,0.1823215567939546,0.26236426446749106,0.33647223662121284,0.4054651081081644],\"y\":[5.834161570616587e-07,-6.19672202631855e-10,-5.7143920451771904e-08,2.0380615050432742e-07,-6.241476208581994e-08,0.0,-5.014175711558834e-08,3.47462206815632e-07,3.519728815151061e-07,-1.1206606504552609e-07,-1.1746325369476459e-07]},{\"line\":{\"color\":\"rgba(0, 128, 128, 0.8999999999999999)\",\"dash\":\"solid\",\"shape\":\"linear\",\"width\":1.3},\"mode\":\"lines\",\"name\":\"fish cake\",\"text\":\"\",\"type\":\"scatter\",\"x\":[-0.6931471805599453,-0.5108256237659907,-0.35667494393873245,-0.22314355131420968,-0.10536051565782628,0.0,0.09531017980432495,0.1823215567939546,0.26236426446749106,0.33647223662121284,0.4054651081081644],\"y\":[-6.040033200594233e-08,-5.6247931673316935e-08,-5.279588250510301e-08,-5.0296009067885464e-08,-4.927132179291224e-08,0.0,1.4129315651825529e-07,4.042664114545921e-07,-3.007105942836749e-08,-6.288627683152105e-08,2.0150948588942763e-07]},{\"line\":{\"color\":\"rgba(255, 255, 51, 0.8999999999999999)\",\"dash\":\"solid\",\"shape\":\"linear\",\"width\":1.3},\"mode\":\"lines\",\"name\":\"kimchi\",\"text\":\"\",\"type\":\"scatter\",\"x\":[-0.6931471805599453,-0.5108256237659907,-0.35667494393873245,-0.22314355131420968,-0.10536051565782628,0.0,0.09531017980432495,0.1823215567939546,0.26236426446749106,0.33647223662121284,0.4054651081081644],\"y\":[-5.096544027893748e-08,-4.987503634565799e-08,-4.9404576873128916e-08,-4.948216725553183e-08,-4.410959106442909e-08,0.0,2.527598346486861e-07,1.636054819901535e-07,-5.9963485975837e-08,1.2595101279227299e-07,-6.150324261384017e-08]},{\"line\":{\"color\":\"rgba(128, 128, 0, 0.8999999999999999)\",\"dash\":\"solid\",\"shape\":\"linear\",\"width\":1.3},\"mode\":\"lines\",\"name\":\"Soy Sauce\",\"text\":\"\",\"type\":\"scatter\",\"x\":[-0.6931471805599453,-0.5108256237659907,-0.35667494393873245,-0.22314355131420968,-0.10536051565782628,0.0,0.09531017980432495,0.1823215567939546,0.26236426446749106,0.33647223662121284,0.4054651081081644],\"y\":[-6.483443314785313e-08,3.4512857877803803e-07,6.012764683016405e-08,3.4385748509707224e-07,-2.8647545746276767e-08,0.0,-3.600107121715239e-08,1.2540451379273441e-07,3.0216127364811034e-07,-8.462401082668172e-08,-1.0624709057925489e-08]},{\"line\":{\"color\":\"rgba(251, 128, 114, 0.8999999999999999)\",\"dash\":\"solid\",\"shape\":\"linear\",\"width\":1.3},\"mode\":\"lines\",\"name\":\"Sesame \",\"text\":\"\",\"type\":\"scatter\",\"x\":[-0.6931471805599453,-0.5108256237659907,-0.35667494393873245,-0.22314355131420968,-0.10536051565782628,0.0,0.09531017980432495,0.1823215567939546,0.26236426446749106,0.33647223662121284,0.4054651081081644],\"y\":[-8.674246049597877e-05,-1.4891992860951422e-08,-1.2784641871388408e-08,1.7461872000330504e-07,2.5085091655059846e-07,0.0,-6.923879076640181e-08,2.0677043715589278e-07,3.079254194934665e-07,-1.0954459551052192e-07,-8.367747751962634e-09]},{\"line\":{\"color\":\"rgba(251, 128, 114, 0.7999999999999998)\",\"dash\":\"solid\",\"shape\":\"linear\",\"width\":1.3},\"mode\":\"lines\",\"name\":\"Brown Sugar\",\"text\":\"\",\"type\":\"scatter\",\"x\":[-0.6931471805599453,-0.5108256237659907,-0.35667494393873245,-0.22314355131420968,-0.10536051565782628,0.0,0.09531017980432495,0.1823215567939546,0.26236426446749106,0.33647223662121284,0.4054651081081644],\"y\":[2.4361258351973025e-07,-1.0477456418458495e-07,1.738080959101225e-07,4.092136869189113e-07,-5.116664334342968e-08,0.0,2.3721924320086532e-07,-5.3408236704993324e-08,-6.131338436194088e-08,8.842095464585837e-08,1.2179811772373493e-07]},{\"line\":{\"color\":\"rgba(128, 177, 211, 0.7999999999999998)\",\"dash\":\"solid\",\"shape\":\"linear\",\"width\":1.3},\"mode\":\"lines\",\"name\":\"Lettuce\",\"text\":\"\",\"type\":\"scatter\",\"x\":[-0.6931471805599453,-0.5108256237659907,-0.35667494393873245,-0.22314355131420968,-0.10536051565782628,0.0,0.09531017980432495,0.1823215567939546,0.26236426446749106,0.33647223662121284,0.4054651081081644],\"y\":[2.1752773547958744e-07,3.8708798468718105e-07,-5.9521256363133344e-08,1.5467020866976606e-07,1.7061994826927415e-07,0.0,-5.024738373945306e-08,-5.0170110325680205e-08,-5.029453224914383e-08,-5.0258592218606024e-08,-5.027485532139974e-08]},{\"line\":{\"color\":\"rgba(255, 153, 51, 0.7999999999999998)\",\"dash\":\"solid\",\"shape\":\"linear\",\"width\":1.3},\"mode\":\"lines\",\"name\":\"Rice Cake\",\"text\":\"\",\"type\":\"scatter\",\"x\":[-0.6931471805599453,-0.5108256237659907,-0.35667494393873245,-0.22314355131420968,-0.10536051565782628,0.0,0.09531017980432495,0.1823215567939546,0.26236426446749106,0.33647223662121284,0.4054651081081644],\"y\":[2.1099100861036333e-07,-1.196003992976632e-07,-2.1748335813382765e-08,2.3231302092515484e-07,-6.23667629226232e-08,0.0,2.929000266064715e-08,4.680333813248085e-07,2.825445573585641e-07,-1.1268399404521246e-07,-9.829735653393244e-08]},{\"line\":{\"color\":\"rgba(55, 128, 191, 0.7999999999999998)\",\"dash\":\"solid\",\"shape\":\"linear\",\"width\":1.3},\"mode\":\"lines\",\"name\":\"Glass Noodle\",\"text\":\"\",\"type\":\"scatter\",\"x\":[-0.6931471805599453,-0.5108256237659907,-0.35667494393873245,-0.22314355131420968,-0.10536051565782628,0.0,0.09531017980432495,0.1823215567939546,0.26236426446749106,0.33647223662121284,0.4054651081081644],\"y\":[6.775722375660235e-08,2.1429638277020172e-07,-2.5352415710629522e-08,1.908378957063898e-07,3.4400812365795755e-07,0.0,-2.458365519173199e-08,3.4049243556596147e-07,1.3681032005696877e-06,1.2441501676544946e-07,-1.1905646000576233e-07]},{\"line\":{\"color\":\"rgba(50, 171, 96, 0.7999999999999998)\",\"dash\":\"solid\",\"shape\":\"linear\",\"width\":1.3},\"mode\":\"lines\",\"name\":\"Seaweed\",\"text\":\"\",\"type\":\"scatter\",\"x\":[-0.6931471805599453,-0.5108256237659907,-0.35667494393873245,-0.22314355131420968,-0.10536051565782628,0.0,0.09531017980432495,0.1823215567939546,0.26236426446749106,0.33647223662121284,0.4054651081081644],\"y\":[-4.157553865453537e-08,1.594590092730747e-07,8.443045560353559e-09,-1.0739218647030987e-07,2.5123670474395123e-07,0.0,-6.533456411706869e-08,6.639213937343456e-07,3.128128892930967e-07,-9.263398755239714e-08,5.974309729770348e-07]},{\"line\":{\"color\":\"rgba(128, 0, 128, 0.7999999999999998)\",\"dash\":\"solid\",\"shape\":\"linear\",\"width\":1.3},\"mode\":\"lines\",\"name\":\"Cabbage \",\"text\":\"\",\"type\":\"scatter\",\"x\":[-0.6931471805599453,-0.5108256237659907,-0.35667494393873245,-0.22314355131420968,-0.10536051565782628,0.0,0.09531017980432495,0.1823215567939546,0.26236426446749106,0.33647223662121284,0.4054651081081644],\"y\":[-0.0104408017493355,-0.004482798577081332,-5.7481959623371557e-08,-5.420356244197826e-08,-5.0575161227808065e-08,0.0,4.517058590606889e-07,-7.218858316328177e-08,2.2427226625573243e-07,2.0691486537315855e-07,3.1313702695712704e-08]},{\"line\":{\"color\":\"rgba(219, 64, 82, 0.7999999999999998)\",\"dash\":\"solid\",\"shape\":\"linear\",\"width\":1.3},\"mode\":\"lines\",\"name\":\"Flour\",\"text\":\"\",\"type\":\"scatter\",\"x\":[-0.6931471805599453,-0.5108256237659907,-0.35667494393873245,-0.22314355131420968,-0.10536051565782628,0.0,0.09531017980432495,0.1823215567939546,0.26236426446749106,0.33647223662121284,0.4054651081081644],\"y\":[-0.05711723255053239,-0.033353563408249784,-0.021447028824323137,-0.014247131454987105,-0.007097897298588867,0.0,0.007048055387323075,0.01404683249228569,0.020997171356615836,0.026496509733179033,0.03125682729151868]},{\"line\":{\"color\":\"rgba(0, 128, 128, 0.7999999999999998)\",\"dash\":\"solid\",\"shape\":\"linear\",\"width\":1.3},\"mode\":\"lines\",\"name\":\"Chicken\",\"text\":\"\",\"type\":\"scatter\",\"x\":[-0.6931471805599453,-0.5108256237659907,-0.35667494393873245,-0.22314355131420968,-0.10536051565782628,0.0,0.09531017980432495,0.1823215567939546,0.26236426446749106,0.33647223662121284,0.4054651081081644],\"y\":[-1.6983137818167247e-08,-6.536652684955183e-09,-5.2021102113510726e-08,-5.0891676835380116e-08,-5.012619134391351e-08,0.0,8.532554054549743e-08,-7.490061696043322e-08,2.702196834240092e-07,3.009100745489449e-08,7.141112786694573e-09]},{\"line\":{\"color\":\"rgba(255, 255, 51, 0.7999999999999998)\",\"dash\":\"solid\",\"shape\":\"linear\",\"width\":1.3},\"mode\":\"lines\",\"name\":\"Teriyaki Sauce\",\"text\":\"\",\"type\":\"scatter\",\"x\":[-0.6931471805599453,-0.5108256237659907,-0.35667494393873245,-0.22314355131420968,-0.10536051565782628,0.0,0.09531017980432495,0.1823215567939546,0.26236426446749106,0.33647223662121284,0.4054651081081644],\"y\":[6.807106217788018e-07,-1.197679731614093e-07,5.114796441726051e-07,-5.185829278347449e-08,1.801528598947603e-08,0.0,-1.750070192977771e-08,-6.161096911486312e-08,-1.1277702785858393e-07,-1.1298368213117961e-07,-1.0861647529315944e-08]}],                        {\"legend\":{\"bgcolor\":\"#F5F6F9\",\"font\":{\"color\":\"#4D5663\"}},\"paper_bgcolor\":\"#F5F6F9\",\"plot_bgcolor\":\"#F5F6F9\",\"template\":{\"data\":{\"bar\":[{\"error_x\":{\"color\":\"#2a3f5f\"},\"error_y\":{\"color\":\"#2a3f5f\"},\"marker\":{\"line\":{\"color\":\"#E5ECF6\",\"width\":0.5},\"pattern\":{\"fillmode\":\"overlay\",\"size\":10,\"solidity\":0.2}},\"type\":\"bar\"}],\"barpolar\":[{\"marker\":{\"line\":{\"color\":\"#E5ECF6\",\"width\":0.5},\"pattern\":{\"fillmode\":\"overlay\",\"size\":10,\"solidity\":0.2}},\"type\":\"barpolar\"}],\"carpet\":[{\"aaxis\":{\"endlinecolor\":\"#2a3f5f\",\"gridcolor\":\"white\",\"linecolor\":\"white\",\"minorgridcolor\":\"white\",\"startlinecolor\":\"#2a3f5f\"},\"baxis\":{\"endlinecolor\":\"#2a3f5f\",\"gridcolor\":\"white\",\"linecolor\":\"white\",\"minorgridcolor\":\"white\",\"startlinecolor\":\"#2a3f5f\"},\"type\":\"carpet\"}],\"choropleth\":[{\"colorbar\":{\"outlinewidth\":0,\"ticks\":\"\"},\"type\":\"choropleth\"}],\"contour\":[{\"colorbar\":{\"outlinewidth\":0,\"ticks\":\"\"},\"colorscale\":[[0.0,\"#0d0887\"],[0.1111111111111111,\"#46039f\"],[0.2222222222222222,\"#7201a8\"],[0.3333333333333333,\"#9c179e\"],[0.4444444444444444,\"#bd3786\"],[0.5555555555555556,\"#d8576b\"],[0.6666666666666666,\"#ed7953\"],[0.7777777777777778,\"#fb9f3a\"],[0.8888888888888888,\"#fdca26\"],[1.0,\"#f0f921\"]],\"type\":\"contour\"}],\"contourcarpet\":[{\"colorbar\":{\"outlinewidth\":0,\"ticks\":\"\"},\"type\":\"contourcarpet\"}],\"heatmap\":[{\"colorbar\":{\"outlinewidth\":0,\"ticks\":\"\"},\"colorscale\":[[0.0,\"#0d0887\"],[0.1111111111111111,\"#46039f\"],[0.2222222222222222,\"#7201a8\"],[0.3333333333333333,\"#9c179e\"],[0.4444444444444444,\"#bd3786\"],[0.5555555555555556,\"#d8576b\"],[0.6666666666666666,\"#ed7953\"],[0.7777777777777778,\"#fb9f3a\"],[0.8888888888888888,\"#fdca26\"],[1.0,\"#f0f921\"]],\"type\":\"heatmap\"}],\"heatmapgl\":[{\"colorbar\":{\"outlinewidth\":0,\"ticks\":\"\"},\"colorscale\":[[0.0,\"#0d0887\"],[0.1111111111111111,\"#46039f\"],[0.2222222222222222,\"#7201a8\"],[0.3333333333333333,\"#9c179e\"],[0.4444444444444444,\"#bd3786\"],[0.5555555555555556,\"#d8576b\"],[0.6666666666666666,\"#ed7953\"],[0.7777777777777778,\"#fb9f3a\"],[0.8888888888888888,\"#fdca26\"],[1.0,\"#f0f921\"]],\"type\":\"heatmapgl\"}],\"histogram\":[{\"marker\":{\"pattern\":{\"fillmode\":\"overlay\",\"size\":10,\"solidity\":0.2}},\"type\":\"histogram\"}],\"histogram2d\":[{\"colorbar\":{\"outlinewidth\":0,\"ticks\":\"\"},\"colorscale\":[[0.0,\"#0d0887\"],[0.1111111111111111,\"#46039f\"],[0.2222222222222222,\"#7201a8\"],[0.3333333333333333,\"#9c179e\"],[0.4444444444444444,\"#bd3786\"],[0.5555555555555556,\"#d8576b\"],[0.6666666666666666,\"#ed7953\"],[0.7777777777777778,\"#fb9f3a\"],[0.8888888888888888,\"#fdca26\"],[1.0,\"#f0f921\"]],\"type\":\"histogram2d\"}],\"histogram2dcontour\":[{\"colorbar\":{\"outlinewidth\":0,\"ticks\":\"\"},\"colorscale\":[[0.0,\"#0d0887\"],[0.1111111111111111,\"#46039f\"],[0.2222222222222222,\"#7201a8\"],[0.3333333333333333,\"#9c179e\"],[0.4444444444444444,\"#bd3786\"],[0.5555555555555556,\"#d8576b\"],[0.6666666666666666,\"#ed7953\"],[0.7777777777777778,\"#fb9f3a\"],[0.8888888888888888,\"#fdca26\"],[1.0,\"#f0f921\"]],\"type\":\"histogram2dcontour\"}],\"mesh3d\":[{\"colorbar\":{\"outlinewidth\":0,\"ticks\":\"\"},\"type\":\"mesh3d\"}],\"parcoords\":[{\"line\":{\"colorbar\":{\"outlinewidth\":0,\"ticks\":\"\"}},\"type\":\"parcoords\"}],\"pie\":[{\"automargin\":true,\"type\":\"pie\"}],\"scatter\":[{\"marker\":{\"colorbar\":{\"outlinewidth\":0,\"ticks\":\"\"}},\"type\":\"scatter\"}],\"scatter3d\":[{\"line\":{\"colorbar\":{\"outlinewidth\":0,\"ticks\":\"\"}},\"marker\":{\"colorbar\":{\"outlinewidth\":0,\"ticks\":\"\"}},\"type\":\"scatter3d\"}],\"scattercarpet\":[{\"marker\":{\"colorbar\":{\"outlinewidth\":0,\"ticks\":\"\"}},\"type\":\"scattercarpet\"}],\"scattergeo\":[{\"marker\":{\"colorbar\":{\"outlinewidth\":0,\"ticks\":\"\"}},\"type\":\"scattergeo\"}],\"scattergl\":[{\"marker\":{\"colorbar\":{\"outlinewidth\":0,\"ticks\":\"\"}},\"type\":\"scattergl\"}],\"scattermapbox\":[{\"marker\":{\"colorbar\":{\"outlinewidth\":0,\"ticks\":\"\"}},\"type\":\"scattermapbox\"}],\"scatterpolar\":[{\"marker\":{\"colorbar\":{\"outlinewidth\":0,\"ticks\":\"\"}},\"type\":\"scatterpolar\"}],\"scatterpolargl\":[{\"marker\":{\"colorbar\":{\"outlinewidth\":0,\"ticks\":\"\"}},\"type\":\"scatterpolargl\"}],\"scatterternary\":[{\"marker\":{\"colorbar\":{\"outlinewidth\":0,\"ticks\":\"\"}},\"type\":\"scatterternary\"}],\"surface\":[{\"colorbar\":{\"outlinewidth\":0,\"ticks\":\"\"},\"colorscale\":[[0.0,\"#0d0887\"],[0.1111111111111111,\"#46039f\"],[0.2222222222222222,\"#7201a8\"],[0.3333333333333333,\"#9c179e\"],[0.4444444444444444,\"#bd3786\"],[0.5555555555555556,\"#d8576b\"],[0.6666666666666666,\"#ed7953\"],[0.7777777777777778,\"#fb9f3a\"],[0.8888888888888888,\"#fdca26\"],[1.0,\"#f0f921\"]],\"type\":\"surface\"}],\"table\":[{\"cells\":{\"fill\":{\"color\":\"#EBF0F8\"},\"line\":{\"color\":\"white\"}},\"header\":{\"fill\":{\"color\":\"#C8D4E3\"},\"line\":{\"color\":\"white\"}},\"type\":\"table\"}]},\"layout\":{\"annotationdefaults\":{\"arrowcolor\":\"#2a3f5f\",\"arrowhead\":0,\"arrowwidth\":1},\"autotypenumbers\":\"strict\",\"coloraxis\":{\"colorbar\":{\"outlinewidth\":0,\"ticks\":\"\"}},\"colorscale\":{\"diverging\":[[0,\"#8e0152\"],[0.1,\"#c51b7d\"],[0.2,\"#de77ae\"],[0.3,\"#f1b6da\"],[0.4,\"#fde0ef\"],[0.5,\"#f7f7f7\"],[0.6,\"#e6f5d0\"],[0.7,\"#b8e186\"],[0.8,\"#7fbc41\"],[0.9,\"#4d9221\"],[1,\"#276419\"]],\"sequential\":[[0.0,\"#0d0887\"],[0.1111111111111111,\"#46039f\"],[0.2222222222222222,\"#7201a8\"],[0.3333333333333333,\"#9c179e\"],[0.4444444444444444,\"#bd3786\"],[0.5555555555555556,\"#d8576b\"],[0.6666666666666666,\"#ed7953\"],[0.7777777777777778,\"#fb9f3a\"],[0.8888888888888888,\"#fdca26\"],[1.0,\"#f0f921\"]],\"sequentialminus\":[[0.0,\"#0d0887\"],[0.1111111111111111,\"#46039f\"],[0.2222222222222222,\"#7201a8\"],[0.3333333333333333,\"#9c179e\"],[0.4444444444444444,\"#bd3786\"],[0.5555555555555556,\"#d8576b\"],[0.6666666666666666,\"#ed7953\"],[0.7777777777777778,\"#fb9f3a\"],[0.8888888888888888,\"#fdca26\"],[1.0,\"#f0f921\"]]},\"colorway\":[\"#636efa\",\"#EF553B\",\"#00cc96\",\"#ab63fa\",\"#FFA15A\",\"#19d3f3\",\"#FF6692\",\"#B6E880\",\"#FF97FF\",\"#FECB52\"],\"font\":{\"color\":\"#2a3f5f\"},\"geo\":{\"bgcolor\":\"white\",\"lakecolor\":\"white\",\"landcolor\":\"#E5ECF6\",\"showlakes\":true,\"showland\":true,\"subunitcolor\":\"white\"},\"hoverlabel\":{\"align\":\"left\"},\"hovermode\":\"closest\",\"mapbox\":{\"style\":\"light\"},\"paper_bgcolor\":\"white\",\"plot_bgcolor\":\"#E5ECF6\",\"polar\":{\"angularaxis\":{\"gridcolor\":\"white\",\"linecolor\":\"white\",\"ticks\":\"\"},\"bgcolor\":\"#E5ECF6\",\"radialaxis\":{\"gridcolor\":\"white\",\"linecolor\":\"white\",\"ticks\":\"\"}},\"scene\":{\"xaxis\":{\"backgroundcolor\":\"#E5ECF6\",\"gridcolor\":\"white\",\"gridwidth\":2,\"linecolor\":\"white\",\"showbackground\":true,\"ticks\":\"\",\"zerolinecolor\":\"white\"},\"yaxis\":{\"backgroundcolor\":\"#E5ECF6\",\"gridcolor\":\"white\",\"gridwidth\":2,\"linecolor\":\"white\",\"showbackground\":true,\"ticks\":\"\",\"zerolinecolor\":\"white\"},\"zaxis\":{\"backgroundcolor\":\"#E5ECF6\",\"gridcolor\":\"white\",\"gridwidth\":2,\"linecolor\":\"white\",\"showbackground\":true,\"ticks\":\"\",\"zerolinecolor\":\"white\"}},\"shapedefaults\":{\"line\":{\"color\":\"#2a3f5f\"}},\"ternary\":{\"aaxis\":{\"gridcolor\":\"white\",\"linecolor\":\"white\",\"ticks\":\"\"},\"baxis\":{\"gridcolor\":\"white\",\"linecolor\":\"white\",\"ticks\":\"\"},\"bgcolor\":\"#E5ECF6\",\"caxis\":{\"gridcolor\":\"white\",\"linecolor\":\"white\",\"ticks\":\"\"}},\"title\":{\"x\":0.05},\"xaxis\":{\"automargin\":true,\"gridcolor\":\"white\",\"linecolor\":\"white\",\"ticks\":\"\",\"title\":{\"standoff\":15},\"zerolinecolor\":\"white\",\"zerolinewidth\":2},\"yaxis\":{\"automargin\":true,\"gridcolor\":\"white\",\"linecolor\":\"white\",\"ticks\":\"\",\"title\":{\"standoff\":15},\"zerolinecolor\":\"white\",\"zerolinewidth\":2}}},\"title\":{\"font\":{\"color\":\"#4D5663\"},\"text\":\"Effects of Price Changes on Subsistence Diet Cost for M 19-30 (T-Toust)\"},\"xaxis\":{\"gridcolor\":\"#E1E5ED\",\"showgrid\":true,\"tickfont\":{\"color\":\"#4D5663\"},\"title\":{\"font\":{\"color\":\"#4D5663\"},\"text\":\"change in log price\"},\"zerolinecolor\":\"#E1E5ED\"},\"yaxis\":{\"gridcolor\":\"#E1E5ED\",\"showgrid\":true,\"tickfont\":{\"color\":\"#4D5663\"},\"title\":{\"font\":{\"color\":\"#4D5663\"},\"text\":\"change in log cost\"},\"zerolinecolor\":\"#E1E5ED\"}},                        {\"showLink\": true, \"linkText\": \"Export to plot.ly\", \"plotlyServerURL\": \"https://plot.ly\", \"responsive\": true}                    ).then(function(){\n",
       "                            \n",
       "var gd = document.getElementById('4c3c61ac-9912-47a5-b1e1-db12819e6177');\n",
       "var x = new MutationObserver(function (mutations, observer) {{\n",
       "        var display = window.getComputedStyle(gd).display;\n",
       "        if (!display || display === 'none') {{\n",
       "            console.log([gd, 'removed!']);\n",
       "            Plotly.purge(gd);\n",
       "            observer.disconnect();\n",
       "        }}\n",
       "}});\n",
       "\n",
       "// Listen for the removal of the full notebook cells\n",
       "var notebookContainer = gd.closest('#notebook-container');\n",
       "if (notebookContainer) {{\n",
       "    x.observe(notebookContainer, {childList: true});\n",
       "}}\n",
       "\n",
       "// Listen for the clearing of the current output cell\n",
       "var outputEl = gd.closest('.output');\n",
       "if (outputEl) {{\n",
       "    x.observe(outputEl, {childList: true});\n",
       "}}\n",
       "\n",
       "                        })                };                });            </script>        </div>"
      ]
     },
     "metadata": {},
     "output_type": "display_data"
    }
   ],
   "source": [
    "# examine effects of price change on subsistence diet cost for T-toust, the cheapest option\n",
    "# for men and women aged 19-30\n",
    "import cufflinks as cf\n",
    "cf.go_offline()\n",
    "\n",
    "group_pc = ['F 19-30', 'M 19-30']\n",
    "\n",
    "for group in group_pc: \n",
    "    scale = [.5,.6,.7,.8,.9,1.,1.1,1.2,1.3,1.4,1.5]\n",
    "\n",
    "    cost0 = solve_subsistence_problem(ing_res[1],ing_prices[1],dri_min[group],dri_max[group],tol=tol).fun\n",
    "\n",
    "    Price_response={}\n",
    "    for s in scale:\n",
    "        cost = {}\n",
    "        for i,p in enumerate(ing_prices[1]):\n",
    "            my_p = ing_prices[1].copy()\n",
    "            my_p[i] = p*s\n",
    "            result = solve_subsistence_problem(ing_res[1],my_p,dri_min[group],dri_max[group],tol=tol)\n",
    "            cost[ing_prices[1].index[i]] = np.log(result.fun/cost0)\n",
    "        Price_response[np.log(s)] = cost\n",
    "\n",
    "    Price_response = pd.DataFrame(Price_response).T\n",
    "    Price_response.iplot(xTitle='change in log price',yTitle='change in log cost', \n",
    "                         title ='Effects of Price Changes on Subsistence Diet Cost for '+ group + ' (T-Toust)')"
   ]
  },
  {
   "cell_type": "markdown",
   "id": "cdbeaa42",
   "metadata": {},
   "source": [
    "### Effects of Price Changes on Subsistence Diet Composition"
   ]
  },
  {
   "cell_type": "code",
   "execution_count": 75,
   "id": "0b58d2de",
   "metadata": {},
   "outputs": [
    {
     "data": {
      "text/html": [
       "        <script type=\"text/javascript\">\n",
       "        window.PlotlyConfig = {MathJaxConfig: 'local'};\n",
       "        if (window.MathJax) {MathJax.Hub.Config({SVG: {font: \"STIX-Web\"}});}\n",
       "        if (typeof require !== 'undefined') {\n",
       "        require.undef(\"plotly\");\n",
       "        requirejs.config({\n",
       "            paths: {\n",
       "                'plotly': ['https://cdn.plot.ly/plotly-2.3.1.min']\n",
       "            }\n",
       "        });\n",
       "        require(['plotly'], function(Plotly) {\n",
       "            window._Plotly = Plotly;\n",
       "        });\n",
       "        }\n",
       "        </script>\n",
       "        "
      ]
     },
     "metadata": {},
     "output_type": "display_data"
    },
    {
     "name": "stderr",
     "output_type": "stream",
     "text": [
      "/tmp/ipykernel_30/2046845037.py:22: UserWarning:\n",
      "\n",
      "Prices have no units.  BE CAREFUL!  We're assuming prices are per hectogram or deciliter!\n",
      "\n"
     ]
    },
    {
     "data": {
      "application/vnd.plotly.v1+json": {
       "config": {
        "linkText": "Export to plot.ly",
        "plotlyServerURL": "https://plot.ly",
        "showLink": true
       },
       "data": [
        {
         "line": {
          "color": "rgba(255, 153, 51, 1.0)",
          "dash": "solid",
          "shape": "linear",
          "width": 1.3
         },
         "mode": "lines",
         "name": "Egg",
         "text": "",
         "type": "scatter",
         "x": [
          0.25,
          0.375,
          0.45,
          0.5,
          0.55,
          0.6,
          0.65,
          0.7,
          0.75,
          1,
          2
         ],
         "y": [
          2.3529411734542363,
          2.352937729847234,
          0.8990940387812898,
          0.8990925067060808,
          0.8990939629632881,
          0.8990841131373994,
          1.3770872247894768e-06,
          6.658697814685768e-09,
          3.9215865549073894e-07,
          4.923010571826361e-10,
          1.545770366525641e-10
         ]
        },
        {
         "line": {
          "color": "rgba(55, 128, 191, 1.0)",
          "dash": "solid",
          "shape": "linear",
          "width": 1.3
         },
         "mode": "lines",
         "name": "Purple Cabbage ",
         "text": "",
         "type": "scatter",
         "x": [
          0.25,
          0.375,
          0.45,
          0.5,
          0.55,
          0.6,
          0.65,
          0.7,
          0.75,
          1,
          2
         ],
         "y": [
          0.23365978241600327,
          0.23365944369494487,
          0.2563041474168285,
          0.256304074486831,
          0.2563041468236964,
          0.2563035627410155,
          0.2568440843462577,
          0.25684380880358043,
          0.2568446980457027,
          0.2568437792780911,
          0.25684378094170857
         ]
        },
        {
         "line": {
          "color": "rgba(50, 171, 96, 1.0)",
          "dash": "solid",
          "shape": "linear",
          "width": 1.3
         },
         "mode": "lines",
         "name": "Spinach ",
         "text": "",
         "type": "scatter",
         "x": [
          0.25,
          0.375,
          0.45,
          0.5,
          0.55,
          0.6,
          0.65,
          0.7,
          0.75,
          1,
          2
         ],
         "y": [
          6.2940196206931995,
          6.294019461044051,
          6.162312601974663,
          6.162312389364102,
          6.162312593747086,
          6.162315828952608,
          6.1591713579384395,
          6.159173745330857,
          6.159167360005535,
          6.159173932159226,
          6.159173921749555
         ]
        },
        {
         "line": {
          "color": "rgba(128, 0, 128, 1.0)",
          "dash": "solid",
          "shape": "linear",
          "width": 1.3
         },
         "mode": "lines",
         "name": "Jasmine Rice",
         "text": "",
         "type": "scatter",
         "x": [
          0.25,
          0.375,
          0.45,
          0.5,
          0.55,
          0.6,
          0.65,
          0.7,
          0.75,
          1,
          2
         ],
         "y": [
          3.6251267074746627e-06,
          3.622629216011958e-06,
          1.3592791194768388e-09,
          2.570483247060509e-06,
          9.29151658754508e-09,
          1.1763991076646163e-08,
          2.8915711990765365e-09,
          2.7109834088306997e-12,
          6.690100200941185e-09,
          6.855319477304546e-11,
          7.459294880129555e-11
         ]
        },
        {
         "line": {
          "color": "rgba(219, 64, 82, 1.0)",
          "dash": "solid",
          "shape": "linear",
          "width": 1.3
         },
         "mode": "lines",
         "name": "Pork",
         "text": "",
         "type": "scatter",
         "x": [
          0.25,
          0.375,
          0.45,
          0.5,
          0.55,
          0.6,
          0.65,
          0.7,
          0.75,
          1,
          2
         ],
         "y": [
          3.90858392453524e-09,
          4.727957354039451e-06,
          2.213319519898141,
          2.213321635362474,
          2.213319630191623,
          2.213334505036473,
          3.582086977455272,
          3.5820895293285973,
          3.5820882220236765,
          3.582089548698506,
          3.5820895487794546
         ]
        },
        {
         "line": {
          "color": "rgba(0, 128, 128, 1.0)",
          "dash": "solid",
          "shape": "linear",
          "width": 1.3
         },
         "mode": "lines",
         "name": "Sesame ",
         "text": "",
         "type": "scatter",
         "x": [
          0.25,
          0.375,
          0.45,
          0.5,
          0.55,
          0.6,
          0.65,
          0.7,
          0.75,
          1,
          2
         ],
         "y": [
          1.1792953988848752e-10,
          2.0802217480155833e-08,
          1.3286859179078244e-10,
          3.2189336674191784e-08,
          1.5499991393404927e-09,
          2.626727608501917e-07,
          0.05606029205623424,
          0.05605999005046396,
          0.0560609193069852,
          0.05605995676306825,
          0.05605995866707626
         ]
        },
        {
         "line": {
          "color": "rgba(255, 255, 51, 1.0)",
          "dash": "solid",
          "shape": "linear",
          "width": 1.3
         },
         "mode": "lines",
         "name": "Brown Sugar",
         "text": "",
         "type": "scatter",
         "x": [
          0.25,
          0.375,
          0.45,
          0.5,
          0.55,
          0.6,
          0.65,
          0.7,
          0.75,
          1,
          2
         ],
         "y": [
          7.564631660262119e-10,
          9.141434742503166e-08,
          8.422780069475869e-10,
          1.3594386269254954e-08,
          1.292887696343199e-08,
          3.661315549135318e-09,
          0.0003967686187766747,
          0.0003979463292900248,
          0.00039557867397790436,
          0.0003980440796394703,
          0.0003980385451740952
         ]
        },
        {
         "line": {
          "color": "rgba(128, 128, 0, 1.0)",
          "dash": "solid",
          "shape": "linear",
          "width": 1.3
         },
         "mode": "lines",
         "name": "Flour",
         "text": "",
         "type": "scatter",
         "x": [
          0.25,
          0.375,
          0.45,
          0.5,
          0.55,
          0.6,
          0.65,
          0.7,
          0.75,
          1,
          2
         ],
         "y": [
          3.5523332273064647,
          3.5523298882624754,
          2.310570062476671,
          2.310569392433565,
          2.310570030987806,
          2.310557179327652,
          1.3917297516850538,
          1.3917261231949043,
          1.3917324303677823,
          1.3917259614972701,
          1.3917259702201596
         ]
        }
       ],
       "layout": {
        "legend": {
         "bgcolor": "#F5F6F9",
         "font": {
          "color": "#4D5663"
         }
        },
        "paper_bgcolor": "#F5F6F9",
        "plot_bgcolor": "#F5F6F9",
        "template": {
         "data": {
          "bar": [
           {
            "error_x": {
             "color": "#2a3f5f"
            },
            "error_y": {
             "color": "#2a3f5f"
            },
            "marker": {
             "line": {
              "color": "#E5ECF6",
              "width": 0.5
             },
             "pattern": {
              "fillmode": "overlay",
              "size": 10,
              "solidity": 0.2
             }
            },
            "type": "bar"
           }
          ],
          "barpolar": [
           {
            "marker": {
             "line": {
              "color": "#E5ECF6",
              "width": 0.5
             },
             "pattern": {
              "fillmode": "overlay",
              "size": 10,
              "solidity": 0.2
             }
            },
            "type": "barpolar"
           }
          ],
          "carpet": [
           {
            "aaxis": {
             "endlinecolor": "#2a3f5f",
             "gridcolor": "white",
             "linecolor": "white",
             "minorgridcolor": "white",
             "startlinecolor": "#2a3f5f"
            },
            "baxis": {
             "endlinecolor": "#2a3f5f",
             "gridcolor": "white",
             "linecolor": "white",
             "minorgridcolor": "white",
             "startlinecolor": "#2a3f5f"
            },
            "type": "carpet"
           }
          ],
          "choropleth": [
           {
            "colorbar": {
             "outlinewidth": 0,
             "ticks": ""
            },
            "type": "choropleth"
           }
          ],
          "contour": [
           {
            "colorbar": {
             "outlinewidth": 0,
             "ticks": ""
            },
            "colorscale": [
             [
              0,
              "#0d0887"
             ],
             [
              0.1111111111111111,
              "#46039f"
             ],
             [
              0.2222222222222222,
              "#7201a8"
             ],
             [
              0.3333333333333333,
              "#9c179e"
             ],
             [
              0.4444444444444444,
              "#bd3786"
             ],
             [
              0.5555555555555556,
              "#d8576b"
             ],
             [
              0.6666666666666666,
              "#ed7953"
             ],
             [
              0.7777777777777778,
              "#fb9f3a"
             ],
             [
              0.8888888888888888,
              "#fdca26"
             ],
             [
              1,
              "#f0f921"
             ]
            ],
            "type": "contour"
           }
          ],
          "contourcarpet": [
           {
            "colorbar": {
             "outlinewidth": 0,
             "ticks": ""
            },
            "type": "contourcarpet"
           }
          ],
          "heatmap": [
           {
            "colorbar": {
             "outlinewidth": 0,
             "ticks": ""
            },
            "colorscale": [
             [
              0,
              "#0d0887"
             ],
             [
              0.1111111111111111,
              "#46039f"
             ],
             [
              0.2222222222222222,
              "#7201a8"
             ],
             [
              0.3333333333333333,
              "#9c179e"
             ],
             [
              0.4444444444444444,
              "#bd3786"
             ],
             [
              0.5555555555555556,
              "#d8576b"
             ],
             [
              0.6666666666666666,
              "#ed7953"
             ],
             [
              0.7777777777777778,
              "#fb9f3a"
             ],
             [
              0.8888888888888888,
              "#fdca26"
             ],
             [
              1,
              "#f0f921"
             ]
            ],
            "type": "heatmap"
           }
          ],
          "heatmapgl": [
           {
            "colorbar": {
             "outlinewidth": 0,
             "ticks": ""
            },
            "colorscale": [
             [
              0,
              "#0d0887"
             ],
             [
              0.1111111111111111,
              "#46039f"
             ],
             [
              0.2222222222222222,
              "#7201a8"
             ],
             [
              0.3333333333333333,
              "#9c179e"
             ],
             [
              0.4444444444444444,
              "#bd3786"
             ],
             [
              0.5555555555555556,
              "#d8576b"
             ],
             [
              0.6666666666666666,
              "#ed7953"
             ],
             [
              0.7777777777777778,
              "#fb9f3a"
             ],
             [
              0.8888888888888888,
              "#fdca26"
             ],
             [
              1,
              "#f0f921"
             ]
            ],
            "type": "heatmapgl"
           }
          ],
          "histogram": [
           {
            "marker": {
             "pattern": {
              "fillmode": "overlay",
              "size": 10,
              "solidity": 0.2
             }
            },
            "type": "histogram"
           }
          ],
          "histogram2d": [
           {
            "colorbar": {
             "outlinewidth": 0,
             "ticks": ""
            },
            "colorscale": [
             [
              0,
              "#0d0887"
             ],
             [
              0.1111111111111111,
              "#46039f"
             ],
             [
              0.2222222222222222,
              "#7201a8"
             ],
             [
              0.3333333333333333,
              "#9c179e"
             ],
             [
              0.4444444444444444,
              "#bd3786"
             ],
             [
              0.5555555555555556,
              "#d8576b"
             ],
             [
              0.6666666666666666,
              "#ed7953"
             ],
             [
              0.7777777777777778,
              "#fb9f3a"
             ],
             [
              0.8888888888888888,
              "#fdca26"
             ],
             [
              1,
              "#f0f921"
             ]
            ],
            "type": "histogram2d"
           }
          ],
          "histogram2dcontour": [
           {
            "colorbar": {
             "outlinewidth": 0,
             "ticks": ""
            },
            "colorscale": [
             [
              0,
              "#0d0887"
             ],
             [
              0.1111111111111111,
              "#46039f"
             ],
             [
              0.2222222222222222,
              "#7201a8"
             ],
             [
              0.3333333333333333,
              "#9c179e"
             ],
             [
              0.4444444444444444,
              "#bd3786"
             ],
             [
              0.5555555555555556,
              "#d8576b"
             ],
             [
              0.6666666666666666,
              "#ed7953"
             ],
             [
              0.7777777777777778,
              "#fb9f3a"
             ],
             [
              0.8888888888888888,
              "#fdca26"
             ],
             [
              1,
              "#f0f921"
             ]
            ],
            "type": "histogram2dcontour"
           }
          ],
          "mesh3d": [
           {
            "colorbar": {
             "outlinewidth": 0,
             "ticks": ""
            },
            "type": "mesh3d"
           }
          ],
          "parcoords": [
           {
            "line": {
             "colorbar": {
              "outlinewidth": 0,
              "ticks": ""
             }
            },
            "type": "parcoords"
           }
          ],
          "pie": [
           {
            "automargin": true,
            "type": "pie"
           }
          ],
          "scatter": [
           {
            "marker": {
             "colorbar": {
              "outlinewidth": 0,
              "ticks": ""
             }
            },
            "type": "scatter"
           }
          ],
          "scatter3d": [
           {
            "line": {
             "colorbar": {
              "outlinewidth": 0,
              "ticks": ""
             }
            },
            "marker": {
             "colorbar": {
              "outlinewidth": 0,
              "ticks": ""
             }
            },
            "type": "scatter3d"
           }
          ],
          "scattercarpet": [
           {
            "marker": {
             "colorbar": {
              "outlinewidth": 0,
              "ticks": ""
             }
            },
            "type": "scattercarpet"
           }
          ],
          "scattergeo": [
           {
            "marker": {
             "colorbar": {
              "outlinewidth": 0,
              "ticks": ""
             }
            },
            "type": "scattergeo"
           }
          ],
          "scattergl": [
           {
            "marker": {
             "colorbar": {
              "outlinewidth": 0,
              "ticks": ""
             }
            },
            "type": "scattergl"
           }
          ],
          "scattermapbox": [
           {
            "marker": {
             "colorbar": {
              "outlinewidth": 0,
              "ticks": ""
             }
            },
            "type": "scattermapbox"
           }
          ],
          "scatterpolar": [
           {
            "marker": {
             "colorbar": {
              "outlinewidth": 0,
              "ticks": ""
             }
            },
            "type": "scatterpolar"
           }
          ],
          "scatterpolargl": [
           {
            "marker": {
             "colorbar": {
              "outlinewidth": 0,
              "ticks": ""
             }
            },
            "type": "scatterpolargl"
           }
          ],
          "scatterternary": [
           {
            "marker": {
             "colorbar": {
              "outlinewidth": 0,
              "ticks": ""
             }
            },
            "type": "scatterternary"
           }
          ],
          "surface": [
           {
            "colorbar": {
             "outlinewidth": 0,
             "ticks": ""
            },
            "colorscale": [
             [
              0,
              "#0d0887"
             ],
             [
              0.1111111111111111,
              "#46039f"
             ],
             [
              0.2222222222222222,
              "#7201a8"
             ],
             [
              0.3333333333333333,
              "#9c179e"
             ],
             [
              0.4444444444444444,
              "#bd3786"
             ],
             [
              0.5555555555555556,
              "#d8576b"
             ],
             [
              0.6666666666666666,
              "#ed7953"
             ],
             [
              0.7777777777777778,
              "#fb9f3a"
             ],
             [
              0.8888888888888888,
              "#fdca26"
             ],
             [
              1,
              "#f0f921"
             ]
            ],
            "type": "surface"
           }
          ],
          "table": [
           {
            "cells": {
             "fill": {
              "color": "#EBF0F8"
             },
             "line": {
              "color": "white"
             }
            },
            "header": {
             "fill": {
              "color": "#C8D4E3"
             },
             "line": {
              "color": "white"
             }
            },
            "type": "table"
           }
          ]
         },
         "layout": {
          "annotationdefaults": {
           "arrowcolor": "#2a3f5f",
           "arrowhead": 0,
           "arrowwidth": 1
          },
          "autotypenumbers": "strict",
          "coloraxis": {
           "colorbar": {
            "outlinewidth": 0,
            "ticks": ""
           }
          },
          "colorscale": {
           "diverging": [
            [
             0,
             "#8e0152"
            ],
            [
             0.1,
             "#c51b7d"
            ],
            [
             0.2,
             "#de77ae"
            ],
            [
             0.3,
             "#f1b6da"
            ],
            [
             0.4,
             "#fde0ef"
            ],
            [
             0.5,
             "#f7f7f7"
            ],
            [
             0.6,
             "#e6f5d0"
            ],
            [
             0.7,
             "#b8e186"
            ],
            [
             0.8,
             "#7fbc41"
            ],
            [
             0.9,
             "#4d9221"
            ],
            [
             1,
             "#276419"
            ]
           ],
           "sequential": [
            [
             0,
             "#0d0887"
            ],
            [
             0.1111111111111111,
             "#46039f"
            ],
            [
             0.2222222222222222,
             "#7201a8"
            ],
            [
             0.3333333333333333,
             "#9c179e"
            ],
            [
             0.4444444444444444,
             "#bd3786"
            ],
            [
             0.5555555555555556,
             "#d8576b"
            ],
            [
             0.6666666666666666,
             "#ed7953"
            ],
            [
             0.7777777777777778,
             "#fb9f3a"
            ],
            [
             0.8888888888888888,
             "#fdca26"
            ],
            [
             1,
             "#f0f921"
            ]
           ],
           "sequentialminus": [
            [
             0,
             "#0d0887"
            ],
            [
             0.1111111111111111,
             "#46039f"
            ],
            [
             0.2222222222222222,
             "#7201a8"
            ],
            [
             0.3333333333333333,
             "#9c179e"
            ],
            [
             0.4444444444444444,
             "#bd3786"
            ],
            [
             0.5555555555555556,
             "#d8576b"
            ],
            [
             0.6666666666666666,
             "#ed7953"
            ],
            [
             0.7777777777777778,
             "#fb9f3a"
            ],
            [
             0.8888888888888888,
             "#fdca26"
            ],
            [
             1,
             "#f0f921"
            ]
           ]
          },
          "colorway": [
           "#636efa",
           "#EF553B",
           "#00cc96",
           "#ab63fa",
           "#FFA15A",
           "#19d3f3",
           "#FF6692",
           "#B6E880",
           "#FF97FF",
           "#FECB52"
          ],
          "font": {
           "color": "#2a3f5f"
          },
          "geo": {
           "bgcolor": "white",
           "lakecolor": "white",
           "landcolor": "#E5ECF6",
           "showlakes": true,
           "showland": true,
           "subunitcolor": "white"
          },
          "hoverlabel": {
           "align": "left"
          },
          "hovermode": "closest",
          "mapbox": {
           "style": "light"
          },
          "paper_bgcolor": "white",
          "plot_bgcolor": "#E5ECF6",
          "polar": {
           "angularaxis": {
            "gridcolor": "white",
            "linecolor": "white",
            "ticks": ""
           },
           "bgcolor": "#E5ECF6",
           "radialaxis": {
            "gridcolor": "white",
            "linecolor": "white",
            "ticks": ""
           }
          },
          "scene": {
           "xaxis": {
            "backgroundcolor": "#E5ECF6",
            "gridcolor": "white",
            "gridwidth": 2,
            "linecolor": "white",
            "showbackground": true,
            "ticks": "",
            "zerolinecolor": "white"
           },
           "yaxis": {
            "backgroundcolor": "#E5ECF6",
            "gridcolor": "white",
            "gridwidth": 2,
            "linecolor": "white",
            "showbackground": true,
            "ticks": "",
            "zerolinecolor": "white"
           },
           "zaxis": {
            "backgroundcolor": "#E5ECF6",
            "gridcolor": "white",
            "gridwidth": 2,
            "linecolor": "white",
            "showbackground": true,
            "ticks": "",
            "zerolinecolor": "white"
           }
          },
          "shapedefaults": {
           "line": {
            "color": "#2a3f5f"
           }
          },
          "ternary": {
           "aaxis": {
            "gridcolor": "white",
            "linecolor": "white",
            "ticks": ""
           },
           "baxis": {
            "gridcolor": "white",
            "linecolor": "white",
            "ticks": ""
           },
           "bgcolor": "#E5ECF6",
           "caxis": {
            "gridcolor": "white",
            "linecolor": "white",
            "ticks": ""
           }
          },
          "title": {
           "x": 0.05
          },
          "xaxis": {
           "automargin": true,
           "gridcolor": "white",
           "linecolor": "white",
           "ticks": "",
           "title": {
            "standoff": 15
           },
           "zerolinecolor": "white",
           "zerolinewidth": 2
          },
          "yaxis": {
           "automargin": true,
           "gridcolor": "white",
           "linecolor": "white",
           "ticks": "",
           "title": {
            "standoff": 15
           },
           "zerolinecolor": "white",
           "zerolinewidth": 2
          }
         }
        },
        "title": {
         "font": {
          "color": "#4D5663"
         },
         "text": "Effects of Price Changes of Eggs on Subsistence Diet Composition for F 19-30 (T-Toust)"
        },
        "xaxis": {
         "gridcolor": "#E1E5ED",
         "showgrid": true,
         "tickfont": {
          "color": "#4D5663"
         },
         "title": {
          "font": {
           "color": "#4D5663"
          },
          "text": "Egg Price"
         },
         "zerolinecolor": "#E1E5ED"
        },
        "yaxis": {
         "gridcolor": "#E1E5ED",
         "showgrid": true,
         "tickfont": {
          "color": "#4D5663"
         },
         "title": {
          "font": {
           "color": "#4D5663"
          },
          "text": "Hectograms"
         },
         "zerolinecolor": "#E1E5ED"
        }
       }
      },
      "text/html": [
       "<div>                            <div id=\"a09c5a91-5047-485b-a3c4-4616103f8cd8\" class=\"plotly-graph-div\" style=\"height:525px; width:100%;\"></div>            <script type=\"text/javascript\">                require([\"plotly\"], function(Plotly) {                    window.PLOTLYENV=window.PLOTLYENV || {};\n",
       "                    window.PLOTLYENV.BASE_URL='https://plot.ly';                                    if (document.getElementById(\"a09c5a91-5047-485b-a3c4-4616103f8cd8\")) {                    Plotly.newPlot(                        \"a09c5a91-5047-485b-a3c4-4616103f8cd8\",                        [{\"line\":{\"color\":\"rgba(255, 153, 51, 1.0)\",\"dash\":\"solid\",\"shape\":\"linear\",\"width\":1.3},\"mode\":\"lines\",\"name\":\"Egg\",\"text\":\"\",\"type\":\"scatter\",\"x\":[0.25,0.375,0.45,0.5,0.55,0.6,0.65,0.7,0.75,1.0,2.0],\"y\":[2.3529411734542363,2.352937729847234,0.8990940387812898,0.8990925067060808,0.8990939629632881,0.8990841131373994,1.3770872247894768e-06,6.658697814685768e-09,3.9215865549073894e-07,4.923010571826361e-10,1.545770366525641e-10]},{\"line\":{\"color\":\"rgba(55, 128, 191, 1.0)\",\"dash\":\"solid\",\"shape\":\"linear\",\"width\":1.3},\"mode\":\"lines\",\"name\":\"Purple Cabbage \",\"text\":\"\",\"type\":\"scatter\",\"x\":[0.25,0.375,0.45,0.5,0.55,0.6,0.65,0.7,0.75,1.0,2.0],\"y\":[0.23365978241600327,0.23365944369494487,0.2563041474168285,0.256304074486831,0.2563041468236964,0.2563035627410155,0.2568440843462577,0.25684380880358043,0.2568446980457027,0.2568437792780911,0.25684378094170857]},{\"line\":{\"color\":\"rgba(50, 171, 96, 1.0)\",\"dash\":\"solid\",\"shape\":\"linear\",\"width\":1.3},\"mode\":\"lines\",\"name\":\"Spinach \",\"text\":\"\",\"type\":\"scatter\",\"x\":[0.25,0.375,0.45,0.5,0.55,0.6,0.65,0.7,0.75,1.0,2.0],\"y\":[6.2940196206931995,6.294019461044051,6.162312601974663,6.162312389364102,6.162312593747086,6.162315828952608,6.1591713579384395,6.159173745330857,6.159167360005535,6.159173932159226,6.159173921749555]},{\"line\":{\"color\":\"rgba(128, 0, 128, 1.0)\",\"dash\":\"solid\",\"shape\":\"linear\",\"width\":1.3},\"mode\":\"lines\",\"name\":\"Jasmine Rice\",\"text\":\"\",\"type\":\"scatter\",\"x\":[0.25,0.375,0.45,0.5,0.55,0.6,0.65,0.7,0.75,1.0,2.0],\"y\":[3.6251267074746627e-06,3.622629216011958e-06,1.3592791194768388e-09,2.570483247060509e-06,9.29151658754508e-09,1.1763991076646163e-08,2.8915711990765365e-09,2.7109834088306997e-12,6.690100200941185e-09,6.855319477304546e-11,7.459294880129555e-11]},{\"line\":{\"color\":\"rgba(219, 64, 82, 1.0)\",\"dash\":\"solid\",\"shape\":\"linear\",\"width\":1.3},\"mode\":\"lines\",\"name\":\"Pork\",\"text\":\"\",\"type\":\"scatter\",\"x\":[0.25,0.375,0.45,0.5,0.55,0.6,0.65,0.7,0.75,1.0,2.0],\"y\":[3.90858392453524e-09,4.727957354039451e-06,2.213319519898141,2.213321635362474,2.213319630191623,2.213334505036473,3.582086977455272,3.5820895293285973,3.5820882220236765,3.582089548698506,3.5820895487794546]},{\"line\":{\"color\":\"rgba(0, 128, 128, 1.0)\",\"dash\":\"solid\",\"shape\":\"linear\",\"width\":1.3},\"mode\":\"lines\",\"name\":\"Sesame \",\"text\":\"\",\"type\":\"scatter\",\"x\":[0.25,0.375,0.45,0.5,0.55,0.6,0.65,0.7,0.75,1.0,2.0],\"y\":[1.1792953988848752e-10,2.0802217480155833e-08,1.3286859179078244e-10,3.2189336674191784e-08,1.5499991393404927e-09,2.626727608501917e-07,0.05606029205623424,0.05605999005046396,0.0560609193069852,0.05605995676306825,0.05605995866707626]},{\"line\":{\"color\":\"rgba(255, 255, 51, 1.0)\",\"dash\":\"solid\",\"shape\":\"linear\",\"width\":1.3},\"mode\":\"lines\",\"name\":\"Brown Sugar\",\"text\":\"\",\"type\":\"scatter\",\"x\":[0.25,0.375,0.45,0.5,0.55,0.6,0.65,0.7,0.75,1.0,2.0],\"y\":[7.564631660262119e-10,9.141434742503166e-08,8.422780069475869e-10,1.3594386269254954e-08,1.292887696343199e-08,3.661315549135318e-09,0.0003967686187766747,0.0003979463292900248,0.00039557867397790436,0.0003980440796394703,0.0003980385451740952]},{\"line\":{\"color\":\"rgba(128, 128, 0, 1.0)\",\"dash\":\"solid\",\"shape\":\"linear\",\"width\":1.3},\"mode\":\"lines\",\"name\":\"Flour\",\"text\":\"\",\"type\":\"scatter\",\"x\":[0.25,0.375,0.45,0.5,0.55,0.6,0.65,0.7,0.75,1.0,2.0],\"y\":[3.5523332273064647,3.5523298882624754,2.310570062476671,2.310569392433565,2.310570030987806,2.310557179327652,1.3917297516850538,1.3917261231949043,1.3917324303677823,1.3917259614972701,1.3917259702201596]}],                        {\"legend\":{\"bgcolor\":\"#F5F6F9\",\"font\":{\"color\":\"#4D5663\"}},\"paper_bgcolor\":\"#F5F6F9\",\"plot_bgcolor\":\"#F5F6F9\",\"template\":{\"data\":{\"bar\":[{\"error_x\":{\"color\":\"#2a3f5f\"},\"error_y\":{\"color\":\"#2a3f5f\"},\"marker\":{\"line\":{\"color\":\"#E5ECF6\",\"width\":0.5},\"pattern\":{\"fillmode\":\"overlay\",\"size\":10,\"solidity\":0.2}},\"type\":\"bar\"}],\"barpolar\":[{\"marker\":{\"line\":{\"color\":\"#E5ECF6\",\"width\":0.5},\"pattern\":{\"fillmode\":\"overlay\",\"size\":10,\"solidity\":0.2}},\"type\":\"barpolar\"}],\"carpet\":[{\"aaxis\":{\"endlinecolor\":\"#2a3f5f\",\"gridcolor\":\"white\",\"linecolor\":\"white\",\"minorgridcolor\":\"white\",\"startlinecolor\":\"#2a3f5f\"},\"baxis\":{\"endlinecolor\":\"#2a3f5f\",\"gridcolor\":\"white\",\"linecolor\":\"white\",\"minorgridcolor\":\"white\",\"startlinecolor\":\"#2a3f5f\"},\"type\":\"carpet\"}],\"choropleth\":[{\"colorbar\":{\"outlinewidth\":0,\"ticks\":\"\"},\"type\":\"choropleth\"}],\"contour\":[{\"colorbar\":{\"outlinewidth\":0,\"ticks\":\"\"},\"colorscale\":[[0.0,\"#0d0887\"],[0.1111111111111111,\"#46039f\"],[0.2222222222222222,\"#7201a8\"],[0.3333333333333333,\"#9c179e\"],[0.4444444444444444,\"#bd3786\"],[0.5555555555555556,\"#d8576b\"],[0.6666666666666666,\"#ed7953\"],[0.7777777777777778,\"#fb9f3a\"],[0.8888888888888888,\"#fdca26\"],[1.0,\"#f0f921\"]],\"type\":\"contour\"}],\"contourcarpet\":[{\"colorbar\":{\"outlinewidth\":0,\"ticks\":\"\"},\"type\":\"contourcarpet\"}],\"heatmap\":[{\"colorbar\":{\"outlinewidth\":0,\"ticks\":\"\"},\"colorscale\":[[0.0,\"#0d0887\"],[0.1111111111111111,\"#46039f\"],[0.2222222222222222,\"#7201a8\"],[0.3333333333333333,\"#9c179e\"],[0.4444444444444444,\"#bd3786\"],[0.5555555555555556,\"#d8576b\"],[0.6666666666666666,\"#ed7953\"],[0.7777777777777778,\"#fb9f3a\"],[0.8888888888888888,\"#fdca26\"],[1.0,\"#f0f921\"]],\"type\":\"heatmap\"}],\"heatmapgl\":[{\"colorbar\":{\"outlinewidth\":0,\"ticks\":\"\"},\"colorscale\":[[0.0,\"#0d0887\"],[0.1111111111111111,\"#46039f\"],[0.2222222222222222,\"#7201a8\"],[0.3333333333333333,\"#9c179e\"],[0.4444444444444444,\"#bd3786\"],[0.5555555555555556,\"#d8576b\"],[0.6666666666666666,\"#ed7953\"],[0.7777777777777778,\"#fb9f3a\"],[0.8888888888888888,\"#fdca26\"],[1.0,\"#f0f921\"]],\"type\":\"heatmapgl\"}],\"histogram\":[{\"marker\":{\"pattern\":{\"fillmode\":\"overlay\",\"size\":10,\"solidity\":0.2}},\"type\":\"histogram\"}],\"histogram2d\":[{\"colorbar\":{\"outlinewidth\":0,\"ticks\":\"\"},\"colorscale\":[[0.0,\"#0d0887\"],[0.1111111111111111,\"#46039f\"],[0.2222222222222222,\"#7201a8\"],[0.3333333333333333,\"#9c179e\"],[0.4444444444444444,\"#bd3786\"],[0.5555555555555556,\"#d8576b\"],[0.6666666666666666,\"#ed7953\"],[0.7777777777777778,\"#fb9f3a\"],[0.8888888888888888,\"#fdca26\"],[1.0,\"#f0f921\"]],\"type\":\"histogram2d\"}],\"histogram2dcontour\":[{\"colorbar\":{\"outlinewidth\":0,\"ticks\":\"\"},\"colorscale\":[[0.0,\"#0d0887\"],[0.1111111111111111,\"#46039f\"],[0.2222222222222222,\"#7201a8\"],[0.3333333333333333,\"#9c179e\"],[0.4444444444444444,\"#bd3786\"],[0.5555555555555556,\"#d8576b\"],[0.6666666666666666,\"#ed7953\"],[0.7777777777777778,\"#fb9f3a\"],[0.8888888888888888,\"#fdca26\"],[1.0,\"#f0f921\"]],\"type\":\"histogram2dcontour\"}],\"mesh3d\":[{\"colorbar\":{\"outlinewidth\":0,\"ticks\":\"\"},\"type\":\"mesh3d\"}],\"parcoords\":[{\"line\":{\"colorbar\":{\"outlinewidth\":0,\"ticks\":\"\"}},\"type\":\"parcoords\"}],\"pie\":[{\"automargin\":true,\"type\":\"pie\"}],\"scatter\":[{\"marker\":{\"colorbar\":{\"outlinewidth\":0,\"ticks\":\"\"}},\"type\":\"scatter\"}],\"scatter3d\":[{\"line\":{\"colorbar\":{\"outlinewidth\":0,\"ticks\":\"\"}},\"marker\":{\"colorbar\":{\"outlinewidth\":0,\"ticks\":\"\"}},\"type\":\"scatter3d\"}],\"scattercarpet\":[{\"marker\":{\"colorbar\":{\"outlinewidth\":0,\"ticks\":\"\"}},\"type\":\"scattercarpet\"}],\"scattergeo\":[{\"marker\":{\"colorbar\":{\"outlinewidth\":0,\"ticks\":\"\"}},\"type\":\"scattergeo\"}],\"scattergl\":[{\"marker\":{\"colorbar\":{\"outlinewidth\":0,\"ticks\":\"\"}},\"type\":\"scattergl\"}],\"scattermapbox\":[{\"marker\":{\"colorbar\":{\"outlinewidth\":0,\"ticks\":\"\"}},\"type\":\"scattermapbox\"}],\"scatterpolar\":[{\"marker\":{\"colorbar\":{\"outlinewidth\":0,\"ticks\":\"\"}},\"type\":\"scatterpolar\"}],\"scatterpolargl\":[{\"marker\":{\"colorbar\":{\"outlinewidth\":0,\"ticks\":\"\"}},\"type\":\"scatterpolargl\"}],\"scatterternary\":[{\"marker\":{\"colorbar\":{\"outlinewidth\":0,\"ticks\":\"\"}},\"type\":\"scatterternary\"}],\"surface\":[{\"colorbar\":{\"outlinewidth\":0,\"ticks\":\"\"},\"colorscale\":[[0.0,\"#0d0887\"],[0.1111111111111111,\"#46039f\"],[0.2222222222222222,\"#7201a8\"],[0.3333333333333333,\"#9c179e\"],[0.4444444444444444,\"#bd3786\"],[0.5555555555555556,\"#d8576b\"],[0.6666666666666666,\"#ed7953\"],[0.7777777777777778,\"#fb9f3a\"],[0.8888888888888888,\"#fdca26\"],[1.0,\"#f0f921\"]],\"type\":\"surface\"}],\"table\":[{\"cells\":{\"fill\":{\"color\":\"#EBF0F8\"},\"line\":{\"color\":\"white\"}},\"header\":{\"fill\":{\"color\":\"#C8D4E3\"},\"line\":{\"color\":\"white\"}},\"type\":\"table\"}]},\"layout\":{\"annotationdefaults\":{\"arrowcolor\":\"#2a3f5f\",\"arrowhead\":0,\"arrowwidth\":1},\"autotypenumbers\":\"strict\",\"coloraxis\":{\"colorbar\":{\"outlinewidth\":0,\"ticks\":\"\"}},\"colorscale\":{\"diverging\":[[0,\"#8e0152\"],[0.1,\"#c51b7d\"],[0.2,\"#de77ae\"],[0.3,\"#f1b6da\"],[0.4,\"#fde0ef\"],[0.5,\"#f7f7f7\"],[0.6,\"#e6f5d0\"],[0.7,\"#b8e186\"],[0.8,\"#7fbc41\"],[0.9,\"#4d9221\"],[1,\"#276419\"]],\"sequential\":[[0.0,\"#0d0887\"],[0.1111111111111111,\"#46039f\"],[0.2222222222222222,\"#7201a8\"],[0.3333333333333333,\"#9c179e\"],[0.4444444444444444,\"#bd3786\"],[0.5555555555555556,\"#d8576b\"],[0.6666666666666666,\"#ed7953\"],[0.7777777777777778,\"#fb9f3a\"],[0.8888888888888888,\"#fdca26\"],[1.0,\"#f0f921\"]],\"sequentialminus\":[[0.0,\"#0d0887\"],[0.1111111111111111,\"#46039f\"],[0.2222222222222222,\"#7201a8\"],[0.3333333333333333,\"#9c179e\"],[0.4444444444444444,\"#bd3786\"],[0.5555555555555556,\"#d8576b\"],[0.6666666666666666,\"#ed7953\"],[0.7777777777777778,\"#fb9f3a\"],[0.8888888888888888,\"#fdca26\"],[1.0,\"#f0f921\"]]},\"colorway\":[\"#636efa\",\"#EF553B\",\"#00cc96\",\"#ab63fa\",\"#FFA15A\",\"#19d3f3\",\"#FF6692\",\"#B6E880\",\"#FF97FF\",\"#FECB52\"],\"font\":{\"color\":\"#2a3f5f\"},\"geo\":{\"bgcolor\":\"white\",\"lakecolor\":\"white\",\"landcolor\":\"#E5ECF6\",\"showlakes\":true,\"showland\":true,\"subunitcolor\":\"white\"},\"hoverlabel\":{\"align\":\"left\"},\"hovermode\":\"closest\",\"mapbox\":{\"style\":\"light\"},\"paper_bgcolor\":\"white\",\"plot_bgcolor\":\"#E5ECF6\",\"polar\":{\"angularaxis\":{\"gridcolor\":\"white\",\"linecolor\":\"white\",\"ticks\":\"\"},\"bgcolor\":\"#E5ECF6\",\"radialaxis\":{\"gridcolor\":\"white\",\"linecolor\":\"white\",\"ticks\":\"\"}},\"scene\":{\"xaxis\":{\"backgroundcolor\":\"#E5ECF6\",\"gridcolor\":\"white\",\"gridwidth\":2,\"linecolor\":\"white\",\"showbackground\":true,\"ticks\":\"\",\"zerolinecolor\":\"white\"},\"yaxis\":{\"backgroundcolor\":\"#E5ECF6\",\"gridcolor\":\"white\",\"gridwidth\":2,\"linecolor\":\"white\",\"showbackground\":true,\"ticks\":\"\",\"zerolinecolor\":\"white\"},\"zaxis\":{\"backgroundcolor\":\"#E5ECF6\",\"gridcolor\":\"white\",\"gridwidth\":2,\"linecolor\":\"white\",\"showbackground\":true,\"ticks\":\"\",\"zerolinecolor\":\"white\"}},\"shapedefaults\":{\"line\":{\"color\":\"#2a3f5f\"}},\"ternary\":{\"aaxis\":{\"gridcolor\":\"white\",\"linecolor\":\"white\",\"ticks\":\"\"},\"baxis\":{\"gridcolor\":\"white\",\"linecolor\":\"white\",\"ticks\":\"\"},\"bgcolor\":\"#E5ECF6\",\"caxis\":{\"gridcolor\":\"white\",\"linecolor\":\"white\",\"ticks\":\"\"}},\"title\":{\"x\":0.05},\"xaxis\":{\"automargin\":true,\"gridcolor\":\"white\",\"linecolor\":\"white\",\"ticks\":\"\",\"title\":{\"standoff\":15},\"zerolinecolor\":\"white\",\"zerolinewidth\":2},\"yaxis\":{\"automargin\":true,\"gridcolor\":\"white\",\"linecolor\":\"white\",\"ticks\":\"\",\"title\":{\"standoff\":15},\"zerolinecolor\":\"white\",\"zerolinewidth\":2}}},\"title\":{\"font\":{\"color\":\"#4D5663\"},\"text\":\"Effects of Price Changes of Eggs on Subsistence Diet Composition for F 19-30 (T-Toust)\"},\"xaxis\":{\"gridcolor\":\"#E1E5ED\",\"showgrid\":true,\"tickfont\":{\"color\":\"#4D5663\"},\"title\":{\"font\":{\"color\":\"#4D5663\"},\"text\":\"Egg Price\"},\"zerolinecolor\":\"#E1E5ED\"},\"yaxis\":{\"gridcolor\":\"#E1E5ED\",\"showgrid\":true,\"tickfont\":{\"color\":\"#4D5663\"},\"title\":{\"font\":{\"color\":\"#4D5663\"},\"text\":\"Hectograms\"},\"zerolinecolor\":\"#E1E5ED\"}},                        {\"showLink\": true, \"linkText\": \"Export to plot.ly\", \"plotlyServerURL\": \"https://plot.ly\", \"responsive\": true}                    ).then(function(){\n",
       "                            \n",
       "var gd = document.getElementById('a09c5a91-5047-485b-a3c4-4616103f8cd8');\n",
       "var x = new MutationObserver(function (mutations, observer) {{\n",
       "        var display = window.getComputedStyle(gd).display;\n",
       "        if (!display || display === 'none') {{\n",
       "            console.log([gd, 'removed!']);\n",
       "            Plotly.purge(gd);\n",
       "            observer.disconnect();\n",
       "        }}\n",
       "}});\n",
       "\n",
       "// Listen for the removal of the full notebook cells\n",
       "var notebookContainer = gd.closest('#notebook-container');\n",
       "if (notebookContainer) {{\n",
       "    x.observe(notebookContainer, {childList: true});\n",
       "}}\n",
       "\n",
       "// Listen for the clearing of the current output cell\n",
       "var outputEl = gd.closest('.output');\n",
       "if (outputEl) {{\n",
       "    x.observe(outputEl, {childList: true});\n",
       "}}\n",
       "\n",
       "                        })                };                });            </script>        </div>"
      ]
     },
     "metadata": {},
     "output_type": "display_data"
    },
    {
     "name": "stderr",
     "output_type": "stream",
     "text": [
      "/tmp/ipykernel_30/2046845037.py:91: UserWarning:\n",
      "\n",
      "The solution does not satisfy the constraints within the required tolerance of 3.16E-04, yet no errors were raised and there is no certificate of infeasibility or unboundedness. Check whether the slack and constraint residuals are acceptable; if not, consider enabling presolve, adjusting the tolerance option(s), and/or using a different method. Please consider submitting a bug report.\n",
      "\n"
     ]
    },
    {
     "data": {
      "application/vnd.plotly.v1+json": {
       "config": {
        "linkText": "Export to plot.ly",
        "plotlyServerURL": "https://plot.ly",
        "showLink": true
       },
       "data": [
        {
         "line": {
          "color": "rgba(255, 153, 51, 1.0)",
          "dash": "solid",
          "shape": "linear",
          "width": 1.3
         },
         "mode": "lines",
         "name": "Egg",
         "text": "",
         "type": "scatter",
         "x": [
          0.25,
          0.375,
          0.45,
          0.5,
          0.55,
          0.6,
          0.65,
          0.7,
          0.75,
          1,
          2
         ],
         "y": [
          2.3529410621713027,
          2.3529400047583406,
          0.7481425820849117,
          0.7481420613598744,
          0.7481232961662632,
          0.748085345473264,
          0.1098416880012213,
          5.373611865146323e-09,
          "",
          3.11651866475942e-11,
          1.5581136085372978e-11
         ]
        },
        {
         "line": {
          "color": "rgba(55, 128, 191, 1.0)",
          "dash": "solid",
          "shape": "linear",
          "width": 1.3
         },
         "mode": "lines",
         "name": "Purple Cabbage ",
         "text": "",
         "type": "scatter",
         "x": [
          0.25,
          0.375,
          0.45,
          0.5,
          0.55,
          0.6,
          0.65,
          0.7,
          0.75,
          1,
          2
         ],
         "y": [
          0.490233891213368,
          0.4902338614913672,
          0.5152293982125538,
          0.5152293392801032,
          0.5152281183540333,
          0.5152249521090697,
          0.5232385993592131,
          0.5292761033372392,
          "",
          0.529276104155316,
          0.529276104090719
         ]
        },
        {
         "line": {
          "color": "rgba(50, 171, 96, 1.0)",
          "dash": "solid",
          "shape": "linear",
          "width": 1.3
         },
         "mode": "lines",
         "name": "Spinach ",
         "text": "",
         "type": "scatter",
         "x": [
          0.25,
          0.375,
          0.45,
          0.5,
          0.55,
          0.6,
          0.65,
          0.7,
          0.75,
          1,
          2
         ],
         "y": [
          6.332312622343149,
          6.332312544722369,
          6.186930625628871,
          6.186930672226744,
          6.186936564330618,
          6.186955513075198,
          6.140346921785131,
          6.1052308236631525,
          "",
          6.105230822471301,
          6.105230822546776
         ]
        },
        {
         "line": {
          "color": "rgba(128, 0, 128, 1.0)",
          "dash": "solid",
          "shape": "linear",
          "width": 1.3
         },
         "mode": "lines",
         "name": "Jasmine Rice",
         "text": "",
         "type": "scatter",
         "x": [
          0.25,
          0.375,
          0.45,
          0.5,
          0.55,
          0.6,
          0.65,
          0.7,
          0.75,
          1,
          2
         ],
         "y": [
          8.85182062720618e-06,
          8.812767496976876e-06,
          6.2698296734883e-11,
          2.3288416777524635e-10,
          3.887922175346767e-07,
          1.9267255968700258e-10,
          1.4993967213377404e-12,
          2.7108714535157084e-11,
          "",
          8.205859720680591e-13,
          1.683794951993464e-14
         ]
        },
        {
         "line": {
          "color": "rgba(219, 64, 82, 1.0)",
          "dash": "solid",
          "shape": "linear",
          "width": 1.3
         },
         "mode": "lines",
         "name": "Pork",
         "text": "",
         "type": "scatter",
         "x": [
          0.25,
          0.375,
          0.45,
          0.5,
          0.55,
          0.6,
          0.65,
          0.7,
          0.75,
          1,
          2
         ],
         "y": [
          1.4733379768564534e-07,
          1.6109157034855758e-06,
          2.443126082916363,
          2.443126747972506,
          2.4431544366932343,
          2.443212250012516,
          3.4148678777839225,
          3.582089540739733,
          "",
          3.582089551978295,
          3.5820895517532008
         ]
        },
        {
         "line": {
          "color": "rgba(0, 128, 128, 1.0)",
          "dash": "solid",
          "shape": "linear",
          "width": 1.3
         },
         "mode": "lines",
         "name": "Sesame ",
         "text": "",
         "type": "scatter",
         "x": [
          0.25,
          0.375,
          0.45,
          0.5,
          0.55,
          0.6,
          0.65,
          0.7,
          0.75,
          1,
          2
         ],
         "y": [
          4.446807819311878e-09,
          6.877804572788001e-09,
          5.660028208917157e-09,
          1.4403158131489994e-08,
          1.3701186185937743e-07,
          6.39694439448621e-07,
          0.044143828322590374,
          0.0517848260831775,
          "",
          0.051784826045894704,
          0.051784826047856176
         ]
        },
        {
         "line": {
          "color": "rgba(255, 255, 51, 1.0)",
          "dash": "solid",
          "shape": "linear",
          "width": 1.3
         },
         "mode": "lines",
         "name": "Brown Sugar",
         "text": "",
         "type": "scatter",
         "x": [
          0.25,
          0.375,
          0.45,
          0.5,
          0.55,
          0.6,
          0.65,
          0.7,
          0.75,
          1,
          2
         ],
         "y": [
          2.3423057317751062e-08,
          3.333102528880354e-08,
          2.3341803093869884e-08,
          6.238593898433962e-08,
          2.70745910267857e-06,
          2.5133137618831034e-06,
          0.0005982636239769965,
          0.00040396711083261254,
          "",
          0.00040397231707986947,
          0.00040397209024758295
         ]
        },
        {
         "line": {
          "color": "rgba(128, 128, 0, 1.0)",
          "dash": "solid",
          "shape": "linear",
          "width": 1.3
         },
         "mode": "lines",
         "name": "Flour",
         "text": "",
         "type": "scatter",
         "x": [
          0.25,
          0.375,
          0.45,
          0.5,
          0.55,
          0.6,
          0.65,
          0.7,
          0.75,
          1,
          2
         ],
         "y": [
          3.3487998544568724,
          3.3487989624058176,
          1.978105845004037,
          1.9781052735294289,
          1.9780807672142549,
          1.9780233266008198,
          1.368380550860508,
          1.3688220842490917,
          "",
          1.3688220748464033,
          1.3688220752672566
         ]
        }
       ],
       "layout": {
        "legend": {
         "bgcolor": "#F5F6F9",
         "font": {
          "color": "#4D5663"
         }
        },
        "paper_bgcolor": "#F5F6F9",
        "plot_bgcolor": "#F5F6F9",
        "template": {
         "data": {
          "bar": [
           {
            "error_x": {
             "color": "#2a3f5f"
            },
            "error_y": {
             "color": "#2a3f5f"
            },
            "marker": {
             "line": {
              "color": "#E5ECF6",
              "width": 0.5
             },
             "pattern": {
              "fillmode": "overlay",
              "size": 10,
              "solidity": 0.2
             }
            },
            "type": "bar"
           }
          ],
          "barpolar": [
           {
            "marker": {
             "line": {
              "color": "#E5ECF6",
              "width": 0.5
             },
             "pattern": {
              "fillmode": "overlay",
              "size": 10,
              "solidity": 0.2
             }
            },
            "type": "barpolar"
           }
          ],
          "carpet": [
           {
            "aaxis": {
             "endlinecolor": "#2a3f5f",
             "gridcolor": "white",
             "linecolor": "white",
             "minorgridcolor": "white",
             "startlinecolor": "#2a3f5f"
            },
            "baxis": {
             "endlinecolor": "#2a3f5f",
             "gridcolor": "white",
             "linecolor": "white",
             "minorgridcolor": "white",
             "startlinecolor": "#2a3f5f"
            },
            "type": "carpet"
           }
          ],
          "choropleth": [
           {
            "colorbar": {
             "outlinewidth": 0,
             "ticks": ""
            },
            "type": "choropleth"
           }
          ],
          "contour": [
           {
            "colorbar": {
             "outlinewidth": 0,
             "ticks": ""
            },
            "colorscale": [
             [
              0,
              "#0d0887"
             ],
             [
              0.1111111111111111,
              "#46039f"
             ],
             [
              0.2222222222222222,
              "#7201a8"
             ],
             [
              0.3333333333333333,
              "#9c179e"
             ],
             [
              0.4444444444444444,
              "#bd3786"
             ],
             [
              0.5555555555555556,
              "#d8576b"
             ],
             [
              0.6666666666666666,
              "#ed7953"
             ],
             [
              0.7777777777777778,
              "#fb9f3a"
             ],
             [
              0.8888888888888888,
              "#fdca26"
             ],
             [
              1,
              "#f0f921"
             ]
            ],
            "type": "contour"
           }
          ],
          "contourcarpet": [
           {
            "colorbar": {
             "outlinewidth": 0,
             "ticks": ""
            },
            "type": "contourcarpet"
           }
          ],
          "heatmap": [
           {
            "colorbar": {
             "outlinewidth": 0,
             "ticks": ""
            },
            "colorscale": [
             [
              0,
              "#0d0887"
             ],
             [
              0.1111111111111111,
              "#46039f"
             ],
             [
              0.2222222222222222,
              "#7201a8"
             ],
             [
              0.3333333333333333,
              "#9c179e"
             ],
             [
              0.4444444444444444,
              "#bd3786"
             ],
             [
              0.5555555555555556,
              "#d8576b"
             ],
             [
              0.6666666666666666,
              "#ed7953"
             ],
             [
              0.7777777777777778,
              "#fb9f3a"
             ],
             [
              0.8888888888888888,
              "#fdca26"
             ],
             [
              1,
              "#f0f921"
             ]
            ],
            "type": "heatmap"
           }
          ],
          "heatmapgl": [
           {
            "colorbar": {
             "outlinewidth": 0,
             "ticks": ""
            },
            "colorscale": [
             [
              0,
              "#0d0887"
             ],
             [
              0.1111111111111111,
              "#46039f"
             ],
             [
              0.2222222222222222,
              "#7201a8"
             ],
             [
              0.3333333333333333,
              "#9c179e"
             ],
             [
              0.4444444444444444,
              "#bd3786"
             ],
             [
              0.5555555555555556,
              "#d8576b"
             ],
             [
              0.6666666666666666,
              "#ed7953"
             ],
             [
              0.7777777777777778,
              "#fb9f3a"
             ],
             [
              0.8888888888888888,
              "#fdca26"
             ],
             [
              1,
              "#f0f921"
             ]
            ],
            "type": "heatmapgl"
           }
          ],
          "histogram": [
           {
            "marker": {
             "pattern": {
              "fillmode": "overlay",
              "size": 10,
              "solidity": 0.2
             }
            },
            "type": "histogram"
           }
          ],
          "histogram2d": [
           {
            "colorbar": {
             "outlinewidth": 0,
             "ticks": ""
            },
            "colorscale": [
             [
              0,
              "#0d0887"
             ],
             [
              0.1111111111111111,
              "#46039f"
             ],
             [
              0.2222222222222222,
              "#7201a8"
             ],
             [
              0.3333333333333333,
              "#9c179e"
             ],
             [
              0.4444444444444444,
              "#bd3786"
             ],
             [
              0.5555555555555556,
              "#d8576b"
             ],
             [
              0.6666666666666666,
              "#ed7953"
             ],
             [
              0.7777777777777778,
              "#fb9f3a"
             ],
             [
              0.8888888888888888,
              "#fdca26"
             ],
             [
              1,
              "#f0f921"
             ]
            ],
            "type": "histogram2d"
           }
          ],
          "histogram2dcontour": [
           {
            "colorbar": {
             "outlinewidth": 0,
             "ticks": ""
            },
            "colorscale": [
             [
              0,
              "#0d0887"
             ],
             [
              0.1111111111111111,
              "#46039f"
             ],
             [
              0.2222222222222222,
              "#7201a8"
             ],
             [
              0.3333333333333333,
              "#9c179e"
             ],
             [
              0.4444444444444444,
              "#bd3786"
             ],
             [
              0.5555555555555556,
              "#d8576b"
             ],
             [
              0.6666666666666666,
              "#ed7953"
             ],
             [
              0.7777777777777778,
              "#fb9f3a"
             ],
             [
              0.8888888888888888,
              "#fdca26"
             ],
             [
              1,
              "#f0f921"
             ]
            ],
            "type": "histogram2dcontour"
           }
          ],
          "mesh3d": [
           {
            "colorbar": {
             "outlinewidth": 0,
             "ticks": ""
            },
            "type": "mesh3d"
           }
          ],
          "parcoords": [
           {
            "line": {
             "colorbar": {
              "outlinewidth": 0,
              "ticks": ""
             }
            },
            "type": "parcoords"
           }
          ],
          "pie": [
           {
            "automargin": true,
            "type": "pie"
           }
          ],
          "scatter": [
           {
            "marker": {
             "colorbar": {
              "outlinewidth": 0,
              "ticks": ""
             }
            },
            "type": "scatter"
           }
          ],
          "scatter3d": [
           {
            "line": {
             "colorbar": {
              "outlinewidth": 0,
              "ticks": ""
             }
            },
            "marker": {
             "colorbar": {
              "outlinewidth": 0,
              "ticks": ""
             }
            },
            "type": "scatter3d"
           }
          ],
          "scattercarpet": [
           {
            "marker": {
             "colorbar": {
              "outlinewidth": 0,
              "ticks": ""
             }
            },
            "type": "scattercarpet"
           }
          ],
          "scattergeo": [
           {
            "marker": {
             "colorbar": {
              "outlinewidth": 0,
              "ticks": ""
             }
            },
            "type": "scattergeo"
           }
          ],
          "scattergl": [
           {
            "marker": {
             "colorbar": {
              "outlinewidth": 0,
              "ticks": ""
             }
            },
            "type": "scattergl"
           }
          ],
          "scattermapbox": [
           {
            "marker": {
             "colorbar": {
              "outlinewidth": 0,
              "ticks": ""
             }
            },
            "type": "scattermapbox"
           }
          ],
          "scatterpolar": [
           {
            "marker": {
             "colorbar": {
              "outlinewidth": 0,
              "ticks": ""
             }
            },
            "type": "scatterpolar"
           }
          ],
          "scatterpolargl": [
           {
            "marker": {
             "colorbar": {
              "outlinewidth": 0,
              "ticks": ""
             }
            },
            "type": "scatterpolargl"
           }
          ],
          "scatterternary": [
           {
            "marker": {
             "colorbar": {
              "outlinewidth": 0,
              "ticks": ""
             }
            },
            "type": "scatterternary"
           }
          ],
          "surface": [
           {
            "colorbar": {
             "outlinewidth": 0,
             "ticks": ""
            },
            "colorscale": [
             [
              0,
              "#0d0887"
             ],
             [
              0.1111111111111111,
              "#46039f"
             ],
             [
              0.2222222222222222,
              "#7201a8"
             ],
             [
              0.3333333333333333,
              "#9c179e"
             ],
             [
              0.4444444444444444,
              "#bd3786"
             ],
             [
              0.5555555555555556,
              "#d8576b"
             ],
             [
              0.6666666666666666,
              "#ed7953"
             ],
             [
              0.7777777777777778,
              "#fb9f3a"
             ],
             [
              0.8888888888888888,
              "#fdca26"
             ],
             [
              1,
              "#f0f921"
             ]
            ],
            "type": "surface"
           }
          ],
          "table": [
           {
            "cells": {
             "fill": {
              "color": "#EBF0F8"
             },
             "line": {
              "color": "white"
             }
            },
            "header": {
             "fill": {
              "color": "#C8D4E3"
             },
             "line": {
              "color": "white"
             }
            },
            "type": "table"
           }
          ]
         },
         "layout": {
          "annotationdefaults": {
           "arrowcolor": "#2a3f5f",
           "arrowhead": 0,
           "arrowwidth": 1
          },
          "autotypenumbers": "strict",
          "coloraxis": {
           "colorbar": {
            "outlinewidth": 0,
            "ticks": ""
           }
          },
          "colorscale": {
           "diverging": [
            [
             0,
             "#8e0152"
            ],
            [
             0.1,
             "#c51b7d"
            ],
            [
             0.2,
             "#de77ae"
            ],
            [
             0.3,
             "#f1b6da"
            ],
            [
             0.4,
             "#fde0ef"
            ],
            [
             0.5,
             "#f7f7f7"
            ],
            [
             0.6,
             "#e6f5d0"
            ],
            [
             0.7,
             "#b8e186"
            ],
            [
             0.8,
             "#7fbc41"
            ],
            [
             0.9,
             "#4d9221"
            ],
            [
             1,
             "#276419"
            ]
           ],
           "sequential": [
            [
             0,
             "#0d0887"
            ],
            [
             0.1111111111111111,
             "#46039f"
            ],
            [
             0.2222222222222222,
             "#7201a8"
            ],
            [
             0.3333333333333333,
             "#9c179e"
            ],
            [
             0.4444444444444444,
             "#bd3786"
            ],
            [
             0.5555555555555556,
             "#d8576b"
            ],
            [
             0.6666666666666666,
             "#ed7953"
            ],
            [
             0.7777777777777778,
             "#fb9f3a"
            ],
            [
             0.8888888888888888,
             "#fdca26"
            ],
            [
             1,
             "#f0f921"
            ]
           ],
           "sequentialminus": [
            [
             0,
             "#0d0887"
            ],
            [
             0.1111111111111111,
             "#46039f"
            ],
            [
             0.2222222222222222,
             "#7201a8"
            ],
            [
             0.3333333333333333,
             "#9c179e"
            ],
            [
             0.4444444444444444,
             "#bd3786"
            ],
            [
             0.5555555555555556,
             "#d8576b"
            ],
            [
             0.6666666666666666,
             "#ed7953"
            ],
            [
             0.7777777777777778,
             "#fb9f3a"
            ],
            [
             0.8888888888888888,
             "#fdca26"
            ],
            [
             1,
             "#f0f921"
            ]
           ]
          },
          "colorway": [
           "#636efa",
           "#EF553B",
           "#00cc96",
           "#ab63fa",
           "#FFA15A",
           "#19d3f3",
           "#FF6692",
           "#B6E880",
           "#FF97FF",
           "#FECB52"
          ],
          "font": {
           "color": "#2a3f5f"
          },
          "geo": {
           "bgcolor": "white",
           "lakecolor": "white",
           "landcolor": "#E5ECF6",
           "showlakes": true,
           "showland": true,
           "subunitcolor": "white"
          },
          "hoverlabel": {
           "align": "left"
          },
          "hovermode": "closest",
          "mapbox": {
           "style": "light"
          },
          "paper_bgcolor": "white",
          "plot_bgcolor": "#E5ECF6",
          "polar": {
           "angularaxis": {
            "gridcolor": "white",
            "linecolor": "white",
            "ticks": ""
           },
           "bgcolor": "#E5ECF6",
           "radialaxis": {
            "gridcolor": "white",
            "linecolor": "white",
            "ticks": ""
           }
          },
          "scene": {
           "xaxis": {
            "backgroundcolor": "#E5ECF6",
            "gridcolor": "white",
            "gridwidth": 2,
            "linecolor": "white",
            "showbackground": true,
            "ticks": "",
            "zerolinecolor": "white"
           },
           "yaxis": {
            "backgroundcolor": "#E5ECF6",
            "gridcolor": "white",
            "gridwidth": 2,
            "linecolor": "white",
            "showbackground": true,
            "ticks": "",
            "zerolinecolor": "white"
           },
           "zaxis": {
            "backgroundcolor": "#E5ECF6",
            "gridcolor": "white",
            "gridwidth": 2,
            "linecolor": "white",
            "showbackground": true,
            "ticks": "",
            "zerolinecolor": "white"
           }
          },
          "shapedefaults": {
           "line": {
            "color": "#2a3f5f"
           }
          },
          "ternary": {
           "aaxis": {
            "gridcolor": "white",
            "linecolor": "white",
            "ticks": ""
           },
           "baxis": {
            "gridcolor": "white",
            "linecolor": "white",
            "ticks": ""
           },
           "bgcolor": "#E5ECF6",
           "caxis": {
            "gridcolor": "white",
            "linecolor": "white",
            "ticks": ""
           }
          },
          "title": {
           "x": 0.05
          },
          "xaxis": {
           "automargin": true,
           "gridcolor": "white",
           "linecolor": "white",
           "ticks": "",
           "title": {
            "standoff": 15
           },
           "zerolinecolor": "white",
           "zerolinewidth": 2
          },
          "yaxis": {
           "automargin": true,
           "gridcolor": "white",
           "linecolor": "white",
           "ticks": "",
           "title": {
            "standoff": 15
           },
           "zerolinecolor": "white",
           "zerolinewidth": 2
          }
         }
        },
        "title": {
         "font": {
          "color": "#4D5663"
         },
         "text": "Effects of Price Changes of Eggs on Subsistence Diet Composition for M 19-30 (T-Toust)"
        },
        "xaxis": {
         "gridcolor": "#E1E5ED",
         "showgrid": true,
         "tickfont": {
          "color": "#4D5663"
         },
         "title": {
          "font": {
           "color": "#4D5663"
          },
          "text": "Egg Price"
         },
         "zerolinecolor": "#E1E5ED"
        },
        "yaxis": {
         "gridcolor": "#E1E5ED",
         "showgrid": true,
         "tickfont": {
          "color": "#4D5663"
         },
         "title": {
          "font": {
           "color": "#4D5663"
          },
          "text": "Hectograms"
         },
         "zerolinecolor": "#E1E5ED"
        }
       }
      },
      "text/html": [
       "<div>                            <div id=\"01cb75eb-3c34-4d9a-aee4-909bea42d935\" class=\"plotly-graph-div\" style=\"height:525px; width:100%;\"></div>            <script type=\"text/javascript\">                require([\"plotly\"], function(Plotly) {                    window.PLOTLYENV=window.PLOTLYENV || {};\n",
       "                    window.PLOTLYENV.BASE_URL='https://plot.ly';                                    if (document.getElementById(\"01cb75eb-3c34-4d9a-aee4-909bea42d935\")) {                    Plotly.newPlot(                        \"01cb75eb-3c34-4d9a-aee4-909bea42d935\",                        [{\"line\":{\"color\":\"rgba(255, 153, 51, 1.0)\",\"dash\":\"solid\",\"shape\":\"linear\",\"width\":1.3},\"mode\":\"lines\",\"name\":\"Egg\",\"text\":\"\",\"type\":\"scatter\",\"x\":[0.25,0.375,0.45,0.5,0.55,0.6,0.65,0.7,0.75,1.0,2.0],\"y\":[2.3529410621713027,2.3529400047583406,0.7481425820849117,0.7481420613598744,0.7481232961662632,0.748085345473264,0.1098416880012213,5.373611865146323e-09,\"\",3.11651866475942e-11,1.5581136085372978e-11]},{\"line\":{\"color\":\"rgba(55, 128, 191, 1.0)\",\"dash\":\"solid\",\"shape\":\"linear\",\"width\":1.3},\"mode\":\"lines\",\"name\":\"Purple Cabbage \",\"text\":\"\",\"type\":\"scatter\",\"x\":[0.25,0.375,0.45,0.5,0.55,0.6,0.65,0.7,0.75,1.0,2.0],\"y\":[0.490233891213368,0.4902338614913672,0.5152293982125538,0.5152293392801032,0.5152281183540333,0.5152249521090697,0.5232385993592131,0.5292761033372392,\"\",0.529276104155316,0.529276104090719]},{\"line\":{\"color\":\"rgba(50, 171, 96, 1.0)\",\"dash\":\"solid\",\"shape\":\"linear\",\"width\":1.3},\"mode\":\"lines\",\"name\":\"Spinach \",\"text\":\"\",\"type\":\"scatter\",\"x\":[0.25,0.375,0.45,0.5,0.55,0.6,0.65,0.7,0.75,1.0,2.0],\"y\":[6.332312622343149,6.332312544722369,6.186930625628871,6.186930672226744,6.186936564330618,6.186955513075198,6.140346921785131,6.1052308236631525,\"\",6.105230822471301,6.105230822546776]},{\"line\":{\"color\":\"rgba(128, 0, 128, 1.0)\",\"dash\":\"solid\",\"shape\":\"linear\",\"width\":1.3},\"mode\":\"lines\",\"name\":\"Jasmine Rice\",\"text\":\"\",\"type\":\"scatter\",\"x\":[0.25,0.375,0.45,0.5,0.55,0.6,0.65,0.7,0.75,1.0,2.0],\"y\":[8.85182062720618e-06,8.812767496976876e-06,6.2698296734883e-11,2.3288416777524635e-10,3.887922175346767e-07,1.9267255968700258e-10,1.4993967213377404e-12,2.7108714535157084e-11,\"\",8.205859720680591e-13,1.683794951993464e-14]},{\"line\":{\"color\":\"rgba(219, 64, 82, 1.0)\",\"dash\":\"solid\",\"shape\":\"linear\",\"width\":1.3},\"mode\":\"lines\",\"name\":\"Pork\",\"text\":\"\",\"type\":\"scatter\",\"x\":[0.25,0.375,0.45,0.5,0.55,0.6,0.65,0.7,0.75,1.0,2.0],\"y\":[1.4733379768564534e-07,1.6109157034855758e-06,2.443126082916363,2.443126747972506,2.4431544366932343,2.443212250012516,3.4148678777839225,3.582089540739733,\"\",3.582089551978295,3.5820895517532008]},{\"line\":{\"color\":\"rgba(0, 128, 128, 1.0)\",\"dash\":\"solid\",\"shape\":\"linear\",\"width\":1.3},\"mode\":\"lines\",\"name\":\"Sesame \",\"text\":\"\",\"type\":\"scatter\",\"x\":[0.25,0.375,0.45,0.5,0.55,0.6,0.65,0.7,0.75,1.0,2.0],\"y\":[4.446807819311878e-09,6.877804572788001e-09,5.660028208917157e-09,1.4403158131489994e-08,1.3701186185937743e-07,6.39694439448621e-07,0.044143828322590374,0.0517848260831775,\"\",0.051784826045894704,0.051784826047856176]},{\"line\":{\"color\":\"rgba(255, 255, 51, 1.0)\",\"dash\":\"solid\",\"shape\":\"linear\",\"width\":1.3},\"mode\":\"lines\",\"name\":\"Brown Sugar\",\"text\":\"\",\"type\":\"scatter\",\"x\":[0.25,0.375,0.45,0.5,0.55,0.6,0.65,0.7,0.75,1.0,2.0],\"y\":[2.3423057317751062e-08,3.333102528880354e-08,2.3341803093869884e-08,6.238593898433962e-08,2.70745910267857e-06,2.5133137618831034e-06,0.0005982636239769965,0.00040396711083261254,\"\",0.00040397231707986947,0.00040397209024758295]},{\"line\":{\"color\":\"rgba(128, 128, 0, 1.0)\",\"dash\":\"solid\",\"shape\":\"linear\",\"width\":1.3},\"mode\":\"lines\",\"name\":\"Flour\",\"text\":\"\",\"type\":\"scatter\",\"x\":[0.25,0.375,0.45,0.5,0.55,0.6,0.65,0.7,0.75,1.0,2.0],\"y\":[3.3487998544568724,3.3487989624058176,1.978105845004037,1.9781052735294289,1.9780807672142549,1.9780233266008198,1.368380550860508,1.3688220842490917,\"\",1.3688220748464033,1.3688220752672566]}],                        {\"legend\":{\"bgcolor\":\"#F5F6F9\",\"font\":{\"color\":\"#4D5663\"}},\"paper_bgcolor\":\"#F5F6F9\",\"plot_bgcolor\":\"#F5F6F9\",\"template\":{\"data\":{\"bar\":[{\"error_x\":{\"color\":\"#2a3f5f\"},\"error_y\":{\"color\":\"#2a3f5f\"},\"marker\":{\"line\":{\"color\":\"#E5ECF6\",\"width\":0.5},\"pattern\":{\"fillmode\":\"overlay\",\"size\":10,\"solidity\":0.2}},\"type\":\"bar\"}],\"barpolar\":[{\"marker\":{\"line\":{\"color\":\"#E5ECF6\",\"width\":0.5},\"pattern\":{\"fillmode\":\"overlay\",\"size\":10,\"solidity\":0.2}},\"type\":\"barpolar\"}],\"carpet\":[{\"aaxis\":{\"endlinecolor\":\"#2a3f5f\",\"gridcolor\":\"white\",\"linecolor\":\"white\",\"minorgridcolor\":\"white\",\"startlinecolor\":\"#2a3f5f\"},\"baxis\":{\"endlinecolor\":\"#2a3f5f\",\"gridcolor\":\"white\",\"linecolor\":\"white\",\"minorgridcolor\":\"white\",\"startlinecolor\":\"#2a3f5f\"},\"type\":\"carpet\"}],\"choropleth\":[{\"colorbar\":{\"outlinewidth\":0,\"ticks\":\"\"},\"type\":\"choropleth\"}],\"contour\":[{\"colorbar\":{\"outlinewidth\":0,\"ticks\":\"\"},\"colorscale\":[[0.0,\"#0d0887\"],[0.1111111111111111,\"#46039f\"],[0.2222222222222222,\"#7201a8\"],[0.3333333333333333,\"#9c179e\"],[0.4444444444444444,\"#bd3786\"],[0.5555555555555556,\"#d8576b\"],[0.6666666666666666,\"#ed7953\"],[0.7777777777777778,\"#fb9f3a\"],[0.8888888888888888,\"#fdca26\"],[1.0,\"#f0f921\"]],\"type\":\"contour\"}],\"contourcarpet\":[{\"colorbar\":{\"outlinewidth\":0,\"ticks\":\"\"},\"type\":\"contourcarpet\"}],\"heatmap\":[{\"colorbar\":{\"outlinewidth\":0,\"ticks\":\"\"},\"colorscale\":[[0.0,\"#0d0887\"],[0.1111111111111111,\"#46039f\"],[0.2222222222222222,\"#7201a8\"],[0.3333333333333333,\"#9c179e\"],[0.4444444444444444,\"#bd3786\"],[0.5555555555555556,\"#d8576b\"],[0.6666666666666666,\"#ed7953\"],[0.7777777777777778,\"#fb9f3a\"],[0.8888888888888888,\"#fdca26\"],[1.0,\"#f0f921\"]],\"type\":\"heatmap\"}],\"heatmapgl\":[{\"colorbar\":{\"outlinewidth\":0,\"ticks\":\"\"},\"colorscale\":[[0.0,\"#0d0887\"],[0.1111111111111111,\"#46039f\"],[0.2222222222222222,\"#7201a8\"],[0.3333333333333333,\"#9c179e\"],[0.4444444444444444,\"#bd3786\"],[0.5555555555555556,\"#d8576b\"],[0.6666666666666666,\"#ed7953\"],[0.7777777777777778,\"#fb9f3a\"],[0.8888888888888888,\"#fdca26\"],[1.0,\"#f0f921\"]],\"type\":\"heatmapgl\"}],\"histogram\":[{\"marker\":{\"pattern\":{\"fillmode\":\"overlay\",\"size\":10,\"solidity\":0.2}},\"type\":\"histogram\"}],\"histogram2d\":[{\"colorbar\":{\"outlinewidth\":0,\"ticks\":\"\"},\"colorscale\":[[0.0,\"#0d0887\"],[0.1111111111111111,\"#46039f\"],[0.2222222222222222,\"#7201a8\"],[0.3333333333333333,\"#9c179e\"],[0.4444444444444444,\"#bd3786\"],[0.5555555555555556,\"#d8576b\"],[0.6666666666666666,\"#ed7953\"],[0.7777777777777778,\"#fb9f3a\"],[0.8888888888888888,\"#fdca26\"],[1.0,\"#f0f921\"]],\"type\":\"histogram2d\"}],\"histogram2dcontour\":[{\"colorbar\":{\"outlinewidth\":0,\"ticks\":\"\"},\"colorscale\":[[0.0,\"#0d0887\"],[0.1111111111111111,\"#46039f\"],[0.2222222222222222,\"#7201a8\"],[0.3333333333333333,\"#9c179e\"],[0.4444444444444444,\"#bd3786\"],[0.5555555555555556,\"#d8576b\"],[0.6666666666666666,\"#ed7953\"],[0.7777777777777778,\"#fb9f3a\"],[0.8888888888888888,\"#fdca26\"],[1.0,\"#f0f921\"]],\"type\":\"histogram2dcontour\"}],\"mesh3d\":[{\"colorbar\":{\"outlinewidth\":0,\"ticks\":\"\"},\"type\":\"mesh3d\"}],\"parcoords\":[{\"line\":{\"colorbar\":{\"outlinewidth\":0,\"ticks\":\"\"}},\"type\":\"parcoords\"}],\"pie\":[{\"automargin\":true,\"type\":\"pie\"}],\"scatter\":[{\"marker\":{\"colorbar\":{\"outlinewidth\":0,\"ticks\":\"\"}},\"type\":\"scatter\"}],\"scatter3d\":[{\"line\":{\"colorbar\":{\"outlinewidth\":0,\"ticks\":\"\"}},\"marker\":{\"colorbar\":{\"outlinewidth\":0,\"ticks\":\"\"}},\"type\":\"scatter3d\"}],\"scattercarpet\":[{\"marker\":{\"colorbar\":{\"outlinewidth\":0,\"ticks\":\"\"}},\"type\":\"scattercarpet\"}],\"scattergeo\":[{\"marker\":{\"colorbar\":{\"outlinewidth\":0,\"ticks\":\"\"}},\"type\":\"scattergeo\"}],\"scattergl\":[{\"marker\":{\"colorbar\":{\"outlinewidth\":0,\"ticks\":\"\"}},\"type\":\"scattergl\"}],\"scattermapbox\":[{\"marker\":{\"colorbar\":{\"outlinewidth\":0,\"ticks\":\"\"}},\"type\":\"scattermapbox\"}],\"scatterpolar\":[{\"marker\":{\"colorbar\":{\"outlinewidth\":0,\"ticks\":\"\"}},\"type\":\"scatterpolar\"}],\"scatterpolargl\":[{\"marker\":{\"colorbar\":{\"outlinewidth\":0,\"ticks\":\"\"}},\"type\":\"scatterpolargl\"}],\"scatterternary\":[{\"marker\":{\"colorbar\":{\"outlinewidth\":0,\"ticks\":\"\"}},\"type\":\"scatterternary\"}],\"surface\":[{\"colorbar\":{\"outlinewidth\":0,\"ticks\":\"\"},\"colorscale\":[[0.0,\"#0d0887\"],[0.1111111111111111,\"#46039f\"],[0.2222222222222222,\"#7201a8\"],[0.3333333333333333,\"#9c179e\"],[0.4444444444444444,\"#bd3786\"],[0.5555555555555556,\"#d8576b\"],[0.6666666666666666,\"#ed7953\"],[0.7777777777777778,\"#fb9f3a\"],[0.8888888888888888,\"#fdca26\"],[1.0,\"#f0f921\"]],\"type\":\"surface\"}],\"table\":[{\"cells\":{\"fill\":{\"color\":\"#EBF0F8\"},\"line\":{\"color\":\"white\"}},\"header\":{\"fill\":{\"color\":\"#C8D4E3\"},\"line\":{\"color\":\"white\"}},\"type\":\"table\"}]},\"layout\":{\"annotationdefaults\":{\"arrowcolor\":\"#2a3f5f\",\"arrowhead\":0,\"arrowwidth\":1},\"autotypenumbers\":\"strict\",\"coloraxis\":{\"colorbar\":{\"outlinewidth\":0,\"ticks\":\"\"}},\"colorscale\":{\"diverging\":[[0,\"#8e0152\"],[0.1,\"#c51b7d\"],[0.2,\"#de77ae\"],[0.3,\"#f1b6da\"],[0.4,\"#fde0ef\"],[0.5,\"#f7f7f7\"],[0.6,\"#e6f5d0\"],[0.7,\"#b8e186\"],[0.8,\"#7fbc41\"],[0.9,\"#4d9221\"],[1,\"#276419\"]],\"sequential\":[[0.0,\"#0d0887\"],[0.1111111111111111,\"#46039f\"],[0.2222222222222222,\"#7201a8\"],[0.3333333333333333,\"#9c179e\"],[0.4444444444444444,\"#bd3786\"],[0.5555555555555556,\"#d8576b\"],[0.6666666666666666,\"#ed7953\"],[0.7777777777777778,\"#fb9f3a\"],[0.8888888888888888,\"#fdca26\"],[1.0,\"#f0f921\"]],\"sequentialminus\":[[0.0,\"#0d0887\"],[0.1111111111111111,\"#46039f\"],[0.2222222222222222,\"#7201a8\"],[0.3333333333333333,\"#9c179e\"],[0.4444444444444444,\"#bd3786\"],[0.5555555555555556,\"#d8576b\"],[0.6666666666666666,\"#ed7953\"],[0.7777777777777778,\"#fb9f3a\"],[0.8888888888888888,\"#fdca26\"],[1.0,\"#f0f921\"]]},\"colorway\":[\"#636efa\",\"#EF553B\",\"#00cc96\",\"#ab63fa\",\"#FFA15A\",\"#19d3f3\",\"#FF6692\",\"#B6E880\",\"#FF97FF\",\"#FECB52\"],\"font\":{\"color\":\"#2a3f5f\"},\"geo\":{\"bgcolor\":\"white\",\"lakecolor\":\"white\",\"landcolor\":\"#E5ECF6\",\"showlakes\":true,\"showland\":true,\"subunitcolor\":\"white\"},\"hoverlabel\":{\"align\":\"left\"},\"hovermode\":\"closest\",\"mapbox\":{\"style\":\"light\"},\"paper_bgcolor\":\"white\",\"plot_bgcolor\":\"#E5ECF6\",\"polar\":{\"angularaxis\":{\"gridcolor\":\"white\",\"linecolor\":\"white\",\"ticks\":\"\"},\"bgcolor\":\"#E5ECF6\",\"radialaxis\":{\"gridcolor\":\"white\",\"linecolor\":\"white\",\"ticks\":\"\"}},\"scene\":{\"xaxis\":{\"backgroundcolor\":\"#E5ECF6\",\"gridcolor\":\"white\",\"gridwidth\":2,\"linecolor\":\"white\",\"showbackground\":true,\"ticks\":\"\",\"zerolinecolor\":\"white\"},\"yaxis\":{\"backgroundcolor\":\"#E5ECF6\",\"gridcolor\":\"white\",\"gridwidth\":2,\"linecolor\":\"white\",\"showbackground\":true,\"ticks\":\"\",\"zerolinecolor\":\"white\"},\"zaxis\":{\"backgroundcolor\":\"#E5ECF6\",\"gridcolor\":\"white\",\"gridwidth\":2,\"linecolor\":\"white\",\"showbackground\":true,\"ticks\":\"\",\"zerolinecolor\":\"white\"}},\"shapedefaults\":{\"line\":{\"color\":\"#2a3f5f\"}},\"ternary\":{\"aaxis\":{\"gridcolor\":\"white\",\"linecolor\":\"white\",\"ticks\":\"\"},\"baxis\":{\"gridcolor\":\"white\",\"linecolor\":\"white\",\"ticks\":\"\"},\"bgcolor\":\"#E5ECF6\",\"caxis\":{\"gridcolor\":\"white\",\"linecolor\":\"white\",\"ticks\":\"\"}},\"title\":{\"x\":0.05},\"xaxis\":{\"automargin\":true,\"gridcolor\":\"white\",\"linecolor\":\"white\",\"ticks\":\"\",\"title\":{\"standoff\":15},\"zerolinecolor\":\"white\",\"zerolinewidth\":2},\"yaxis\":{\"automargin\":true,\"gridcolor\":\"white\",\"linecolor\":\"white\",\"ticks\":\"\",\"title\":{\"standoff\":15},\"zerolinecolor\":\"white\",\"zerolinewidth\":2}}},\"title\":{\"font\":{\"color\":\"#4D5663\"},\"text\":\"Effects of Price Changes of Eggs on Subsistence Diet Composition for M 19-30 (T-Toust)\"},\"xaxis\":{\"gridcolor\":\"#E1E5ED\",\"showgrid\":true,\"tickfont\":{\"color\":\"#4D5663\"},\"title\":{\"font\":{\"color\":\"#4D5663\"},\"text\":\"Egg Price\"},\"zerolinecolor\":\"#E1E5ED\"},\"yaxis\":{\"gridcolor\":\"#E1E5ED\",\"showgrid\":true,\"tickfont\":{\"color\":\"#4D5663\"},\"title\":{\"font\":{\"color\":\"#4D5663\"},\"text\":\"Hectograms\"},\"zerolinecolor\":\"#E1E5ED\"}},                        {\"showLink\": true, \"linkText\": \"Export to plot.ly\", \"plotlyServerURL\": \"https://plot.ly\", \"responsive\": true}                    ).then(function(){\n",
       "                            \n",
       "var gd = document.getElementById('01cb75eb-3c34-4d9a-aee4-909bea42d935');\n",
       "var x = new MutationObserver(function (mutations, observer) {{\n",
       "        var display = window.getComputedStyle(gd).display;\n",
       "        if (!display || display === 'none') {{\n",
       "            console.log([gd, 'removed!']);\n",
       "            Plotly.purge(gd);\n",
       "            observer.disconnect();\n",
       "        }}\n",
       "}});\n",
       "\n",
       "// Listen for the removal of the full notebook cells\n",
       "var notebookContainer = gd.closest('#notebook-container');\n",
       "if (notebookContainer) {{\n",
       "    x.observe(notebookContainer, {childList: true});\n",
       "}}\n",
       "\n",
       "// Listen for the clearing of the current output cell\n",
       "var outputEl = gd.closest('.output');\n",
       "if (outputEl) {{\n",
       "    x.observe(outputEl, {childList: true});\n",
       "}}\n",
       "\n",
       "                        })                };                });            </script>        </div>"
      ]
     },
     "metadata": {},
     "output_type": "display_data"
    }
   ],
   "source": [
    "# examine effects of price change on subsistence diet cost for T-toust, the cheapest option\n",
    "# for men and women aged 19-30\n",
    "import cufflinks as cf\n",
    "cf.go_offline()\n",
    "\n",
    "ReferenceGood = 'Egg'\n",
    "\n",
    "group_pc = ['F 19-30', 'M 19-30']\n",
    "\n",
    "for group in group_pc: \n",
    "\n",
    "    scale = [0.5,0.75,0.9,1.,1.1,1.2,1.3,1.4,1.5,2,4]\n",
    "\n",
    "    cost0 = solve_subsistence_problem(ing_res[1],ing_prices[1],dri_min[group],dri_max[group],tol=tol).fun\n",
    "\n",
    "    my_p = ing_prices[1].copy()\n",
    "    diet = {}\n",
    "    for s in scale:\n",
    "        my_p[ReferenceGood] = ing_prices[1][ReferenceGood]*s\n",
    "        result = solve_subsistence_problem(ing_res[1],my_p,dri_min[group],dri_max[group],tol=tol)\n",
    "        diet[my_p[ReferenceGood]] = result.diet\n",
    "\n",
    "    Diet_response = pd.DataFrame(diet).T\n",
    "    Diet_response.index.name = '%s Price' % ReferenceGood\n",
    "\n",
    "    Diet_response.reset_index(inplace=True)\n",
    "\n",
    "    # Get rid of units for index (cufflinks chokes)\n",
    "    # Diet_response['%s Price' % ReferenceGood] = Diet_response['%s Price' % ReferenceGood].apply(lambda x: x.magnitude)\n",
    "\n",
    "    Diet_response = Diet_response.set_index('%s Price' % ReferenceGood)\n",
    "\n",
    "    # Just look at goods consumed in quantities greater than error tolerance\n",
    "    Diet_response.loc[:,(Diet_response>tol).sum()>0].iplot(xTitle='%s Price' % ReferenceGood,yTitle='Hectograms',\n",
    "                                                          title='Effects of Price Changes of Eggs on Subsistence Diet Composition for '+group + ' (T-Toust)')"
   ]
  },
  {
   "cell_type": "markdown",
   "id": "d641f331",
   "metadata": {},
   "source": [
    "## Total Cost for Population of Interest"
   ]
  },
  {
   "cell_type": "markdown",
   "id": "1e720bcb",
   "metadata": {},
   "source": [
    "Our population of interest is all UC berkeley students and we assume they are males and females from 19-30. Based on data from UC Berkeley Office of Planning and Analysis(https://opa.berkeley.edu/campus-data/uc-berkeley-quick-facts), there are 23,974 self-reported female students and 20,642 self-reported male students enrolled in Berkeley for Fall 2022. "
   ]
  },
  {
   "cell_type": "code",
   "execution_count": 90,
   "id": "61b1dc4e",
   "metadata": {},
   "outputs": [
    {
     "data": {
      "text/plain": [
       "240099.09519716227"
      ]
     },
     "execution_count": 90,
     "metadata": {},
     "output_type": "execute_result"
    }
   ],
   "source": [
    "#Cost per capita for female and male student\n",
    "cost_f_1930 = cost_tbl.loc[:,'F 19-30'].min()\n",
    "cost_m_1930 = cost_tbl.loc[:,'M 19-30'].min()\n",
    "\n",
    "num_f = 23974\n",
    "num_m = 20642\n",
    "\n",
    "#Calculation of total cost for all students\n",
    "total_cost = cost_f_1930*num_f + cost_m_1930*num_m\n",
    "total_cost"
   ]
  },
  {
   "cell_type": "markdown",
   "id": "329f1322",
   "metadata": {},
   "source": [
    "### Total Food Required for Population of Interest"
   ]
  },
  {
   "cell_type": "markdown",
   "id": "a07583ea",
   "metadata": {},
   "source": [
    "Still, we consider to feed the population by Ttoust, our cheapest option. "
   ]
  },
  {
   "cell_type": "code",
   "execution_count": 83,
   "id": "efa4a2aa",
   "metadata": {},
   "outputs": [],
   "source": [
    "# retrieve saved diet compositions for male and female 19-30 \n",
    "diet_m = diet_tbl.loc['Ttoust', 'M 19-30']\n",
    "diet_m_name = diet_tbl_name.loc['Ttoust', 'M 19-30']\n",
    "diet_f = diet_tbl.loc['Ttoust', 'F 19-30']\n",
    "diet_f_name = diet_tbl_name.loc['Ttoust', 'F 19-30']"
   ]
  },
  {
   "cell_type": "code",
   "execution_count": 91,
   "id": "e5f3b882",
   "metadata": {},
   "outputs": [],
   "source": [
    "# list: Egg, Purple Cabbage, Spinach, Pork, Flour\n",
    "# Total\n",
    "egg = diet_m[0]*num_m + diet_f[0]*num_f\n",
    "pc = diet_m[1]*num_m + diet_f[1]*num_f\n",
    "spinach = diet_m[2]*num_m + diet_f[2]*num_f\n",
    "pork = diet_m[3]*num_m + diet_f[4]*num_f\n",
    "flour = diet_m[4]*num_m + diet_f[5]*num_f"
   ]
  },
  {
   "cell_type": "code",
   "execution_count": 92,
   "id": "0bdba5dd",
   "metadata": {},
   "outputs": [
    {
     "name": "stdout",
     "output_type": "stream",
     "text": [
      "We need 3699.7992186362108 kg eggs to feed all UC Berkeley students for one day\n",
      "We need 1677.9997903167175 kg purple cabbage to feed all UC Berkeley students for one day\n",
      "We need 27544.590015871938 kg spinach to feed all UC Berkeley students for one day\n",
      "We need 10349.319521782842 kg pork to feed all UC Berkeley students for one day\n",
      "We need 9622.563967039674 kg of flour to feed all UC Berkeley students for one day\n"
     ]
    }
   ],
   "source": [
    "print('We need', egg/10, 'kg eggs to feed all UC Berkeley students for one day')\n",
    "print('We need', pc/10, 'kg purple cabbage to feed all UC Berkeley students for one day')\n",
    "print('We need', spinach/10, 'kg spinach to feed all UC Berkeley students for one day')\n",
    "print('We need', pork/10, 'kg pork to feed all UC Berkeley students for one day')\n",
    "print('We need', flour/10, 'kg of flour to feed all UC Berkeley students for one day')"
   ]
  }
 ],
 "metadata": {
  "kernelspec": {
   "display_name": "Python 3 (ipykernel)",
   "language": "python",
   "name": "python3"
  },
  "language_info": {
   "codemirror_mode": {
    "name": "ipython",
    "version": 3
   },
   "file_extension": ".py",
   "mimetype": "text/x-python",
   "name": "python",
   "nbconvert_exporter": "python",
   "pygments_lexer": "ipython3",
   "version": "3.9.15"
  }
 },
 "nbformat": 4,
 "nbformat_minor": 5
}
